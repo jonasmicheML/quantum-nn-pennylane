{
 "cells": [
  {
   "cell_type": "code",
   "execution_count": 108,
   "metadata": {},
   "outputs": [],
   "source": [
    "from sklearn.preprocessing import MinMaxScaler\n",
    "import itertools\n",
    "import pandas as pd\n",
    "import torch\n",
    "\n",
    "# get our predefined functions (for data processing, etc.)\n",
    "import QCircNet.utils as ut\n",
    "\n",
    "# get our predefined quantum circuits and neural networks\n",
    "import QCircNet.circuits.CustomCircuits as cn\n",
    "import QCircNet.QuantumNN as qnn\n",
    "import QCircNet.BinaryQuantumNN as bqnn"
   ]
  },
  {
   "cell_type": "code",
   "execution_count": 109,
   "metadata": {},
   "outputs": [],
   "source": [
    "X_train, y_train, X_test, y_test  = ut.load_MNIST_data(\"data/\", subset=None)\n"
   ]
  },
  {
   "cell_type": "code",
   "execution_count": 110,
   "metadata": {},
   "outputs": [],
   "source": [
    "# laod  model_expID_69_dfID_0.pth\n",
    "# load the model\n",
    "model = torch.load('results/models/Senokosov2024Circuit_expID_69_dfID_0.pth')"
   ]
  },
  {
   "cell_type": "code",
   "execution_count": 116,
   "metadata": {},
   "outputs": [],
   "source": [
    "model.state_dict()['quantum_circuit_nn.weights'].grad"
   ]
  },
  {
   "cell_type": "code",
   "execution_count": 114,
   "metadata": {},
   "outputs": [
    {
     "ename": "AttributeError",
     "evalue": "'QuantumClassifierMNIST' object has no attribute 'weights'",
     "output_type": "error",
     "traceback": [
      "\u001b[0;31m---------------------------------------------------------------------------\u001b[0m",
      "\u001b[0;31mAttributeError\u001b[0m                            Traceback (most recent call last)",
      "Cell \u001b[0;32mIn[114], line 2\u001b[0m\n\u001b[1;32m      1\u001b[0m \u001b[38;5;66;03m# gte model parameter\u001b[39;00m\n\u001b[0;32m----> 2\u001b[0m \u001b[43mmodel\u001b[49m\u001b[38;5;241;43m.\u001b[39;49m\u001b[43mweights\u001b[49m\u001b[38;5;241m.\u001b[39mgrad\n",
      "File \u001b[0;32m/opt/anaconda3/envs/nuig-master/lib/python3.10/site-packages/torch/nn/modules/module.py:1688\u001b[0m, in \u001b[0;36mModule.__getattr__\u001b[0;34m(self, name)\u001b[0m\n\u001b[1;32m   1686\u001b[0m     \u001b[38;5;28;01mif\u001b[39;00m name \u001b[38;5;129;01min\u001b[39;00m modules:\n\u001b[1;32m   1687\u001b[0m         \u001b[38;5;28;01mreturn\u001b[39;00m modules[name]\n\u001b[0;32m-> 1688\u001b[0m \u001b[38;5;28;01mraise\u001b[39;00m \u001b[38;5;167;01mAttributeError\u001b[39;00m(\u001b[38;5;124mf\u001b[39m\u001b[38;5;124m\"\u001b[39m\u001b[38;5;124m'\u001b[39m\u001b[38;5;132;01m{\u001b[39;00m\u001b[38;5;28mtype\u001b[39m(\u001b[38;5;28mself\u001b[39m)\u001b[38;5;241m.\u001b[39m\u001b[38;5;18m__name__\u001b[39m\u001b[38;5;132;01m}\u001b[39;00m\u001b[38;5;124m'\u001b[39m\u001b[38;5;124m object has no attribute \u001b[39m\u001b[38;5;124m'\u001b[39m\u001b[38;5;132;01m{\u001b[39;00mname\u001b[38;5;132;01m}\u001b[39;00m\u001b[38;5;124m'\u001b[39m\u001b[38;5;124m\"\u001b[39m)\n",
      "\u001b[0;31mAttributeError\u001b[0m: 'QuantumClassifierMNIST' object has no attribute 'weights'"
     ]
    }
   ],
   "source": [
    "# gte model parameter\n",
    "model.weights.grad"
   ]
  },
  {
   "cell_type": "code",
   "execution_count": 113,
   "metadata": {},
   "outputs": [
    {
     "data": {
      "text/plain": [
       "tensor([[-1.0427,  2.7687, -6.2817, -2.4840, -4.4390, -5.1228, -3.9426, -1.9407,\n",
       "         -1.2973],\n",
       "        [ 0.4878, -1.0154,  2.3275, -3.7140,  4.7516, -5.9390,  2.1422, -1.0392,\n",
       "          0.7375],\n",
       "        [-4.5190, -3.7938,  3.7793,  5.8843, -2.3446,  2.4168,  4.7298,  4.9588,\n",
       "         -5.2145],\n",
       "        [-5.7924, -4.1490,  4.7519, -5.0473, -0.9914,  5.7540,  0.4168,  2.4112,\n",
       "         -2.3183]])"
      ]
     },
     "execution_count": 113,
     "metadata": {},
     "output_type": "execute_result"
    }
   ],
   "source": [
    "torch.load('results/weights/Senokosov2024Circuit_expID_69_dfID_0_weights_epoch_0.pt')"
   ]
  }
 ],
 "metadata": {
  "kernelspec": {
   "display_name": "nuig-master",
   "language": "python",
   "name": "python3"
  },
  "language_info": {
   "codemirror_mode": {
    "name": "ipython",
    "version": 3
   },
   "file_extension": ".py",
   "mimetype": "text/x-python",
   "name": "python",
   "nbconvert_exporter": "python",
   "pygments_lexer": "ipython3",
   "version": "3.10.14"
  }
 },
 "nbformat": 4,
 "nbformat_minor": 2
}
