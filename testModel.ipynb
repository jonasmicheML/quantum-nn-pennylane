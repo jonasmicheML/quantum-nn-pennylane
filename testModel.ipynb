{
 "cells": [
  {
   "cell_type": "code",
   "execution_count": 121,
   "metadata": {},
   "outputs": [],
   "source": [
    "from sklearn.preprocessing import MinMaxScaler\n",
    "import itertools\n",
    "import pandas as pd\n",
    "import torch\n",
    "\n",
    "# get our predefined functions (for data processing, etc.)\n",
    "import QCircNet.utils as ut\n",
    "\n",
    "# get our predefined quantum circuits and neural networks\n",
    "import QCircNet.circuits.CustomCircuits as cn\n",
    "import QCircNet.QuantumNN as qnn\n",
    "import QCircNet.BinaryQuantumNN as bqnn"
   ]
  },
  {
   "cell_type": "code",
   "execution_count": 122,
   "metadata": {},
   "outputs": [],
   "source": [
    "X_train, y_train, X_test, y_test  = ut.load_MNIST_data(\"data/\", subset=None)\n"
   ]
  },
  {
   "cell_type": "code",
   "execution_count": 123,
   "metadata": {},
   "outputs": [],
   "source": [
    "# laod  model_expID_69_dfID_0.pth\n",
    "# load the model\n",
    "model = torch.load('results/models/bin/Ranga2024Circuit_expID_69_dfID_0.pth')"
   ]
  },
  {
   "cell_type": "code",
   "execution_count": 124,
   "metadata": {},
   "outputs": [
    {
     "name": "stdout",
     "output_type": "stream",
     "text": [
      "quantum_circuit_nn.weights tensor([[-1.0136,  2.7870, -6.3105],\n",
      "        [-2.5099, -4.4688, -5.0945],\n",
      "        [-3.9722, -1.9124, -1.3250],\n",
      "        [ 0.5152, -1.0190,  2.3546]])\n",
      "pre_processing.weight tensor([[ 0.1129, -0.0822, -0.0205,  0.1469, -0.2651,  0.1207, -0.0814,  0.1008,\n",
      "          0.0073, -0.0044,  0.0419,  0.0262,  0.0781, -0.1266, -0.0450, -0.0510],\n",
      "        [ 0.0204,  0.0287,  0.2483,  0.0802, -0.1226, -0.1701, -0.0703, -0.0939,\n",
      "         -0.0502,  0.0417,  0.1444,  0.1652, -0.2576,  0.1257,  0.0482,  0.2649],\n",
      "        [ 0.1806, -0.2112, -0.2182, -0.1031,  0.2485, -0.0131,  0.1367, -0.0876,\n",
      "          0.2669, -0.0841,  0.2148,  0.0194, -0.1185,  0.1582, -0.1046,  0.0990],\n",
      "        [-0.0562, -0.0573, -0.2692, -0.1490,  0.1655, -0.0849,  0.2782,  0.1957,\n",
      "          0.0150, -0.1960,  0.1237,  0.0505, -0.1484,  0.1923,  0.1713,  0.2496],\n",
      "        [-0.1561, -0.0116,  0.0240,  0.0663, -0.2189, -0.2065,  0.1060, -0.0840,\n",
      "          0.1191,  0.0428,  0.0961,  0.0759,  0.0777,  0.0943, -0.2570,  0.0993],\n",
      "        [-0.1916, -0.1590,  0.0451, -0.0138,  0.1169, -0.1417, -0.2473,  0.2103,\n",
      "         -0.0071,  0.1705,  0.1085, -0.1578,  0.0370,  0.0322, -0.1709, -0.0902],\n",
      "        [ 0.1009,  0.0625, -0.0843, -0.0571,  0.2577, -0.0175,  0.1707,  0.1368,\n",
      "         -0.1399, -0.1890,  0.2678,  0.0287,  0.1846,  0.0815,  0.1088,  0.2120],\n",
      "        [ 0.2530, -0.1958,  0.0022,  0.1566,  0.2109,  0.1292, -0.1530, -0.1916,\n",
      "         -0.1516,  0.0021,  0.2202, -0.1858,  0.1464, -0.1088, -0.2189, -0.0255],\n",
      "        [ 0.1280,  0.2574, -0.1275,  0.0815,  0.1866,  0.1854,  0.1273,  0.1925,\n",
      "          0.1565,  0.0915, -0.1456, -0.1919, -0.1014, -0.0580, -0.1641,  0.0649],\n",
      "        [ 0.0614, -0.0268,  0.1259,  0.1106,  0.1812,  0.1972, -0.0843,  0.2743,\n",
      "          0.0007,  0.0214, -0.2066, -0.1312, -0.1329, -0.1138,  0.2069, -0.0539],\n",
      "        [-0.1711,  0.0687,  0.0516,  0.1686, -0.1008,  0.0813, -0.0614, -0.0291,\n",
      "         -0.1847, -0.1407, -0.0554,  0.0797,  0.0589,  0.0915,  0.2761,  0.2685],\n",
      "        [ 0.1864, -0.0221, -0.2023,  0.1654, -0.0328, -0.0474, -0.1864, -0.0506,\n",
      "         -0.1713,  0.2001, -0.2457, -0.2235,  0.0047, -0.1054,  0.0999, -0.0688],\n",
      "        [-0.1334,  0.0424,  0.2085, -0.1479,  0.0881,  0.1766,  0.2151, -0.1716,\n",
      "          0.0354, -0.1578,  0.2375, -0.0820,  0.1374, -0.0202, -0.0341, -0.0362],\n",
      "        [ 0.0267,  0.1476,  0.0700,  0.1057, -0.2074,  0.2094,  0.1953,  0.2356,\n",
      "          0.2147, -0.1505, -0.0636,  0.2501, -0.2036,  0.1992, -0.1909, -0.1477],\n",
      "        [ 0.1378, -0.1688, -0.0487,  0.1956,  0.2267,  0.2645, -0.0211, -0.1662,\n",
      "          0.2664, -0.0380, -0.0768,  0.0523, -0.1616,  0.1940,  0.1843, -0.1732],\n",
      "        [-0.1895, -0.0517,  0.0758, -0.0370, -0.0970, -0.0222, -0.2142, -0.1953,\n",
      "         -0.1383,  0.1765,  0.1911, -0.1123, -0.0020,  0.1165,  0.0358, -0.0973]])\n",
      "pre_processing.bias tensor([ 0.1156,  0.1331,  0.0142, -0.0562,  0.2001,  0.2206, -0.1128,  0.2177,\n",
      "         0.0821, -0.1379,  0.1644, -0.2138,  0.2498, -0.1343,  0.0991,  0.0476])\n",
      "post_processing.weight tensor([[0.2436]])\n",
      "post_processing.bias tensor([0.8252])\n"
     ]
    }
   ],
   "source": [
    "# display trainable parameters\n",
    "for name, param in model.named_parameters():\n",
    "    if param.requires_grad:\n",
    "        print (name, param.data)"
   ]
  },
  {
   "cell_type": "code",
   "execution_count": 125,
   "metadata": {},
   "outputs": [],
   "source": [
    "# gte model parameter\n"
   ]
  },
  {
   "cell_type": "code",
   "execution_count": 126,
   "metadata": {},
   "outputs": [
    {
     "ename": "FileNotFoundError",
     "evalue": "[Errno 2] No such file or directory: 'results/weights/binRanga2024Circuit_expID_69_dfID_0_weights_epoch_0.pt'",
     "output_type": "error",
     "traceback": [
      "\u001b[0;31m---------------------------------------------------------------------------\u001b[0m",
      "\u001b[0;31mFileNotFoundError\u001b[0m                         Traceback (most recent call last)",
      "Cell \u001b[0;32mIn[126], line 1\u001b[0m\n\u001b[0;32m----> 1\u001b[0m \u001b[43mtorch\u001b[49m\u001b[38;5;241;43m.\u001b[39;49m\u001b[43mload\u001b[49m\u001b[43m(\u001b[49m\u001b[38;5;124;43m'\u001b[39;49m\u001b[38;5;124;43mresults/weights/binRanga2024Circuit_expID_69_dfID_0_weights_epoch_0.pt\u001b[39;49m\u001b[38;5;124;43m'\u001b[39;49m\u001b[43m)\u001b[49m\n",
      "File \u001b[0;32m/opt/anaconda3/envs/nuig-master/lib/python3.10/site-packages/torch/serialization.py:998\u001b[0m, in \u001b[0;36mload\u001b[0;34m(f, map_location, pickle_module, weights_only, mmap, **pickle_load_args)\u001b[0m\n\u001b[1;32m    995\u001b[0m \u001b[38;5;28;01mif\u001b[39;00m \u001b[38;5;124m'\u001b[39m\u001b[38;5;124mencoding\u001b[39m\u001b[38;5;124m'\u001b[39m \u001b[38;5;129;01mnot\u001b[39;00m \u001b[38;5;129;01min\u001b[39;00m pickle_load_args\u001b[38;5;241m.\u001b[39mkeys():\n\u001b[1;32m    996\u001b[0m     pickle_load_args[\u001b[38;5;124m'\u001b[39m\u001b[38;5;124mencoding\u001b[39m\u001b[38;5;124m'\u001b[39m] \u001b[38;5;241m=\u001b[39m \u001b[38;5;124m'\u001b[39m\u001b[38;5;124mutf-8\u001b[39m\u001b[38;5;124m'\u001b[39m\n\u001b[0;32m--> 998\u001b[0m \u001b[38;5;28;01mwith\u001b[39;00m \u001b[43m_open_file_like\u001b[49m\u001b[43m(\u001b[49m\u001b[43mf\u001b[49m\u001b[43m,\u001b[49m\u001b[43m \u001b[49m\u001b[38;5;124;43m'\u001b[39;49m\u001b[38;5;124;43mrb\u001b[39;49m\u001b[38;5;124;43m'\u001b[39;49m\u001b[43m)\u001b[49m \u001b[38;5;28;01mas\u001b[39;00m opened_file:\n\u001b[1;32m    999\u001b[0m     \u001b[38;5;28;01mif\u001b[39;00m _is_zipfile(opened_file):\n\u001b[1;32m   1000\u001b[0m         \u001b[38;5;66;03m# The zipfile reader is going to advance the current file position.\u001b[39;00m\n\u001b[1;32m   1001\u001b[0m         \u001b[38;5;66;03m# If we want to actually tail call to torch.jit.load, we need to\u001b[39;00m\n\u001b[1;32m   1002\u001b[0m         \u001b[38;5;66;03m# reset back to the original position.\u001b[39;00m\n\u001b[1;32m   1003\u001b[0m         orig_position \u001b[38;5;241m=\u001b[39m opened_file\u001b[38;5;241m.\u001b[39mtell()\n",
      "File \u001b[0;32m/opt/anaconda3/envs/nuig-master/lib/python3.10/site-packages/torch/serialization.py:445\u001b[0m, in \u001b[0;36m_open_file_like\u001b[0;34m(name_or_buffer, mode)\u001b[0m\n\u001b[1;32m    443\u001b[0m \u001b[38;5;28;01mdef\u001b[39;00m \u001b[38;5;21m_open_file_like\u001b[39m(name_or_buffer, mode):\n\u001b[1;32m    444\u001b[0m     \u001b[38;5;28;01mif\u001b[39;00m _is_path(name_or_buffer):\n\u001b[0;32m--> 445\u001b[0m         \u001b[38;5;28;01mreturn\u001b[39;00m \u001b[43m_open_file\u001b[49m\u001b[43m(\u001b[49m\u001b[43mname_or_buffer\u001b[49m\u001b[43m,\u001b[49m\u001b[43m \u001b[49m\u001b[43mmode\u001b[49m\u001b[43m)\u001b[49m\n\u001b[1;32m    446\u001b[0m     \u001b[38;5;28;01melse\u001b[39;00m:\n\u001b[1;32m    447\u001b[0m         \u001b[38;5;28;01mif\u001b[39;00m \u001b[38;5;124m'\u001b[39m\u001b[38;5;124mw\u001b[39m\u001b[38;5;124m'\u001b[39m \u001b[38;5;129;01min\u001b[39;00m mode:\n",
      "File \u001b[0;32m/opt/anaconda3/envs/nuig-master/lib/python3.10/site-packages/torch/serialization.py:426\u001b[0m, in \u001b[0;36m_open_file.__init__\u001b[0;34m(self, name, mode)\u001b[0m\n\u001b[1;32m    425\u001b[0m \u001b[38;5;28;01mdef\u001b[39;00m \u001b[38;5;21m__init__\u001b[39m(\u001b[38;5;28mself\u001b[39m, name, mode):\n\u001b[0;32m--> 426\u001b[0m     \u001b[38;5;28msuper\u001b[39m()\u001b[38;5;241m.\u001b[39m\u001b[38;5;21m__init__\u001b[39m(\u001b[38;5;28;43mopen\u001b[39;49m\u001b[43m(\u001b[49m\u001b[43mname\u001b[49m\u001b[43m,\u001b[49m\u001b[43m \u001b[49m\u001b[43mmode\u001b[49m\u001b[43m)\u001b[49m)\n",
      "\u001b[0;31mFileNotFoundError\u001b[0m: [Errno 2] No such file or directory: 'results/weights/binRanga2024Circuit_expID_69_dfID_0_weights_epoch_0.pt'"
     ]
    }
   ],
   "source": [
    "torch.load('results/weights/binRanga2024Circuit_expID_69_dfID_0_weights_epoch_0.pt')"
   ]
  },
  {
   "cell_type": "code",
   "execution_count": null,
   "metadata": {},
   "outputs": [
    {
     "data": {
      "text/plain": [
       "tensor([[-0.9938,  2.7558, -6.3204],\n",
       "        [-2.5116, -4.4925, -5.0905],\n",
       "        [-3.9988, -1.8916, -1.3186],\n",
       "        [ 0.5228, -1.0157,  2.3584]])"
      ]
     },
     "execution_count": 119,
     "metadata": {},
     "output_type": "execute_result"
    }
   ],
   "source": [
    "torch.load('results/weights/binRanga2024Circuit_expID_69_dfID_0_weights_epoch_1.pt')"
   ]
  },
  {
   "cell_type": "code",
   "execution_count": null,
   "metadata": {},
   "outputs": [
    {
     "data": {
      "text/plain": [
       "tensor([[-0.9853,  2.7295, -6.3471],\n",
       "        [-2.5183, -4.5185, -5.0629],\n",
       "        [-4.0285, -1.8714, -1.3169],\n",
       "        [ 0.5365, -1.0346,  2.3432]])"
      ]
     },
     "execution_count": 120,
     "metadata": {},
     "output_type": "execute_result"
    }
   ],
   "source": [
    "torch.load('results/weights/binRanga2024Circuit_expID_69_dfID_0_weights_epoch_2.pt')"
   ]
  },
  {
   "cell_type": "code",
   "execution_count": null,
   "metadata": {},
   "outputs": [],
   "source": []
  }
 ],
 "metadata": {
  "kernelspec": {
   "display_name": "nuig-master",
   "language": "python",
   "name": "python3"
  },
  "language_info": {
   "codemirror_mode": {
    "name": "ipython",
    "version": 3
   },
   "file_extension": ".py",
   "mimetype": "text/x-python",
   "name": "python",
   "nbconvert_exporter": "python",
   "pygments_lexer": "ipython3",
   "version": "3.10.14"
  }
 },
 "nbformat": 4,
 "nbformat_minor": 2
}
