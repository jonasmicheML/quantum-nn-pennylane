{
 "cells": [
  {
   "cell_type": "code",
   "execution_count": 72,
   "metadata": {},
   "outputs": [],
   "source": [
    "from sklearn.preprocessing import MinMaxScaler\n",
    "import itertools\n",
    "import pandas as pd\n",
    "import torch\n",
    "\n",
    "# get our predefined functions (for data processing, etc.)\n",
    "import QCircNet.utils as ut\n",
    "\n",
    "# get our predefined quantum circuits and neural networks\n",
    "import QCircNet.circuits.CustomCircuits as cn\n",
    "import QCircNet.QuantumNN as qnn\n",
    "import QCircNet.BinaryQuantumNN as bqnn"
   ]
  },
  {
   "cell_type": "code",
   "execution_count": 73,
   "metadata": {},
   "outputs": [],
   "source": [
    "X_train, y_train, X_test, y_test  = ut.load_MNIST_data(\"data/\", subset=None)\n"
   ]
  },
  {
   "cell_type": "code",
   "execution_count": 74,
   "metadata": {},
   "outputs": [],
   "source": [
    "# laod  model_expID_69_dfID_0.pth\n",
    "# load the model\n",
    "model = torch.load('results/models_10/model_expID_69_dfID_0.pth')"
   ]
  },
  {
   "cell_type": "code",
   "execution_count": 75,
   "metadata": {},
   "outputs": [
    {
     "data": {
      "text/plain": [
       "QuantumClassifierMNIST(\n",
       "  (quantum_circuit_nn): Senokosov2024Circuit()\n",
       "  (pre_processing): Linear(in_features=16, out_features=16, bias=True)\n",
       "  (post_processing): Linear(in_features=1, out_features=10, bias=True)\n",
       ")"
      ]
     },
     "execution_count": 75,
     "metadata": {},
     "output_type": "execute_result"
    }
   ],
   "source": [
    "model"
   ]
  },
  {
   "cell_type": "code",
   "execution_count": 77,
   "metadata": {},
   "outputs": [
    {
     "data": {
      "text/plain": [
       "tensor([[-1.0427,  2.7687, -6.2817, -2.4840, -4.4390, -5.1228, -3.9426, -1.9407,\n",
       "         -1.2973],\n",
       "        [ 0.4878, -1.0154,  2.3275, -3.7140,  4.7516, -5.9390,  2.1422, -1.0392,\n",
       "          0.7375],\n",
       "        [-4.5190, -3.7938,  3.7793,  5.8843, -2.3446,  2.4168,  4.7298,  4.9588,\n",
       "         -5.2145],\n",
       "        [-5.7924, -4.1490,  4.7519, -5.0473, -0.9914,  5.7540,  0.4168,  2.4112,\n",
       "         -2.3183]])"
      ]
     },
     "execution_count": 77,
     "metadata": {},
     "output_type": "execute_result"
    }
   ],
   "source": [
    "torch.save(model.state_dict()[\"quantum_circuit_nn.weights\"], \"quantum_weights.pt\")\n",
    "\n",
    "# load the weights\n",
    "weights = torch.load(\"quantum_weights.pt\")\n",
    "weights"
   ]
  }
 ],
 "metadata": {
  "kernelspec": {
   "display_name": "nuig-master",
   "language": "python",
   "name": "python3"
  },
  "language_info": {
   "codemirror_mode": {
    "name": "ipython",
    "version": 3
   },
   "file_extension": ".py",
   "mimetype": "text/x-python",
   "name": "python",
   "nbconvert_exporter": "python",
   "pygments_lexer": "ipython3",
   "version": "3.10.14"
  }
 },
 "nbformat": 4,
 "nbformat_minor": 2
}
