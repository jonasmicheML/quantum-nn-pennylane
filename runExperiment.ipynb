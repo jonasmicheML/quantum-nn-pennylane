{
 "cells": [
  {
   "cell_type": "code",
   "execution_count": 6,
   "metadata": {},
   "outputs": [],
   "source": [
    "from sklearn.preprocessing import MinMaxScaler\n",
    "import itertools\n",
    "import pandas as pd\n",
    "import torch\n",
    "\n",
    "# get our predefined functions (for data processing, etc.)\n",
    "import utils as ut\n",
    "\n",
    "# get our predefined quantum circuits and neural networks\n",
    "import CustomNetworks as cn\n",
    "import QuantumNN as qnn\n",
    "\n",
    "\n",
    "EXPERIMENT_ID = 1\n",
    "\n",
    "X_PATH = \"data/X_apd_class6_7.npy\"\n",
    "Y_PATH = \"data/y_apd_class6_7.npy\"\n",
    "BIN_ENCODING = {6: 0, 7: 1}\n",
    "\n",
    "\n",
    "N_QUBITS = 4\n",
    "FEAT_PER_QUBIT = 4\n",
    "\n",
    "SCALER = MinMaxScaler()\n",
    "\n",
    "SUBSET = None\n",
    "\n",
    "EPOCHS = 16\n",
    "MODEL_PATH = f\"results/models/\"\n",
    "RESULTS_PATH = f\"results/model_results_expID_{EXPERIMENT_ID}.csv\"\n",
    "RESULTS_DF = pd.DataFrame()\n",
    "\n",
    "VALIDATION = True\n",
    "\n",
    "# for printing colored text output during training\n",
    "RED_TEXT = \"\\033[91m\"\n",
    "GREEN_TEXT = \"\\033[92m\"\n",
    "RESET_COLOR = \"\\033[0m\" \n"
   ]
  },
  {
   "cell_type": "code",
   "execution_count": 7,
   "metadata": {},
   "outputs": [
    {
     "name": "stdout",
     "output_type": "stream",
     "text": [
      "train:\t torch.Size([9746, 16]) torch.Size([9746])\n",
      "val:\t torch.Size([1219, 16]) torch.Size([1219])\n",
      "test:\t torch.Size([1218, 16]) torch.Size([1218])\n"
     ]
    }
   ],
   "source": [
    "# load the data\n",
    "X_train, X_val, X_test, y_train, y_val, y_test, _ = ut.load_and_prepare_data(X_PATH, Y_PATH, scaler=SCALER, bin_encoding=BIN_ENCODING, subset=SUBSET)\n",
    "\n",
    "# check shapes\n",
    "print(\"train:\\t\", X_train.shape, y_train.shape)\n",
    "print(\"val:\\t\", X_val.shape, y_val.shape)\n",
    "print(\"test:\\t\", X_test.shape, y_test.shape)"
   ]
  },
  {
   "cell_type": "code",
   "execution_count": 8,
   "metadata": {},
   "outputs": [
    {
     "data": {
      "text/plain": [
       "[CustomNetworks.AmplitudeEncodingCircuit,\n",
       " CustomNetworks.Anusha2024Circuit,\n",
       " CustomNetworks.DoubleEntanglementVLCircuit,\n",
       " CustomNetworks.Ranga2024Circuit,\n",
       " CustomNetworks.Senokosov2024Circuit]"
      ]
     },
     "execution_count": 8,
     "metadata": {},
     "output_type": "execute_result"
    }
   ],
   "source": [
    "cn.get_custom_circuits()"
   ]
  },
  {
   "cell_type": "code",
   "execution_count": 9,
   "metadata": {},
   "outputs": [],
   "source": [
    "circuits = [\n",
    "    cn.Ranga2024Circuit,\n",
    "    cn.Senokosov2024Circuit,\n",
    "    cn.Anusha2024Circuit,\n",
    "    cn.DoubleEntanglementVLCircuit,\n",
    "]\n",
    "\n",
    "runs = list(range(1, 11)) # runs are also used as seeds (reproducibility)\n",
    "learning_rates = [0.01, 0.001]"
   ]
  },
  {
   "cell_type": "code",
   "execution_count": 10,
   "metadata": {},
   "outputs": [
    {
     "name": "stdout",
     "output_type": "stream",
     "text": [
      "\u001b[91mRUN 1:\u001b[0m\n",
      " Ranga2024Circuit \n",
      " lr: 0.01\n"
     ]
    },
    {
     "name": "stderr",
     "output_type": "stream",
     "text": [
      "Training progress: 100%|██████████| 304/304 [01:04<00:00,  4.72batch/s]\n"
     ]
    },
    {
     "name": "stdout",
     "output_type": "stream",
     "text": [
      "Epoch 1/16, Train-Loss: 0.6914, Val-Loss: 0.6703, Val-F1: 0.7289, Val-Precision: 0.6473, Val-Recall: 0.8341, Val-Accuracy: 0.6809\n"
     ]
    },
    {
     "name": "stderr",
     "output_type": "stream",
     "text": [
      "Training progress: 100%|██████████| 304/304 [01:04<00:00,  4.74batch/s]\n"
     ]
    },
    {
     "name": "stdout",
     "output_type": "stream",
     "text": [
      "Epoch 2/16, Train-Loss: 0.6603, Val-Loss: 0.6504, Val-F1: 0.7305, Val-Precision: 0.6577, Val-Recall: 0.8214, Val-Accuracy: 0.6883\n"
     ]
    },
    {
     "name": "stderr",
     "output_type": "stream",
     "text": [
      "Training progress: 100%|██████████| 304/304 [01:04<00:00,  4.72batch/s]\n"
     ]
    },
    {
     "name": "stdout",
     "output_type": "stream",
     "text": [
      "Epoch 3/16, Train-Loss: 0.6464, Val-Loss: 0.6405, Val-F1: 0.7258, Val-Precision: 0.6716, Val-Recall: 0.7895, Val-Accuracy: 0.6932\n"
     ]
    },
    {
     "name": "stderr",
     "output_type": "stream",
     "text": [
      "Training progress: 100%|██████████| 304/304 [01:04<00:00,  4.73batch/s]\n"
     ]
    },
    {
     "name": "stdout",
     "output_type": "stream",
     "text": [
      "Epoch 4/16, Train-Loss: 0.6391, Val-Loss: 0.6354, Val-F1: 0.7258, Val-Precision: 0.6671, Val-Recall: 0.7959, Val-Accuracy: 0.6907\n"
     ]
    },
    {
     "name": "stderr",
     "output_type": "stream",
     "text": [
      "Training progress: 100%|██████████| 304/304 [01:04<00:00,  4.74batch/s]\n"
     ]
    },
    {
     "name": "stdout",
     "output_type": "stream",
     "text": [
      "Epoch 5/16, Train-Loss: 0.6357, Val-Loss: 0.6328, Val-F1: 0.7235, Val-Precision: 0.6759, Val-Recall: 0.7783, Val-Accuracy: 0.6940\n"
     ]
    },
    {
     "name": "stderr",
     "output_type": "stream",
     "text": [
      "Training progress: 100%|██████████| 304/304 [01:04<00:00,  4.74batch/s]\n"
     ]
    },
    {
     "name": "stdout",
     "output_type": "stream",
     "text": [
      "Epoch 6/16, Train-Loss: 0.6338, Val-Loss: 0.6316, Val-F1: 0.7175, Val-Precision: 0.6751, Val-Recall: 0.7656, Val-Accuracy: 0.6899\n"
     ]
    },
    {
     "name": "stderr",
     "output_type": "stream",
     "text": [
      "Training progress: 100%|██████████| 304/304 [01:04<00:00,  4.68batch/s]\n"
     ]
    },
    {
     "name": "stdout",
     "output_type": "stream",
     "text": [
      "Epoch 7/16, Train-Loss: 0.6326, Val-Loss: 0.6312, Val-F1: 0.7089, Val-Precision: 0.6804, Val-Recall: 0.7400, Val-Accuracy: 0.6874\n"
     ]
    },
    {
     "name": "stderr",
     "output_type": "stream",
     "text": [
      "Training progress: 100%|██████████| 304/304 [01:04<00:00,  4.73batch/s]\n"
     ]
    },
    {
     "name": "stdout",
     "output_type": "stream",
     "text": [
      "Epoch 8/16, Train-Loss: 0.6321, Val-Loss: 0.6309, Val-F1: 0.7071, Val-Precision: 0.6809, Val-Recall: 0.7352, Val-Accuracy: 0.6866\n"
     ]
    },
    {
     "name": "stderr",
     "output_type": "stream",
     "text": [
      "Training progress: 100%|██████████| 304/304 [01:04<00:00,  4.71batch/s]\n"
     ]
    },
    {
     "name": "stdout",
     "output_type": "stream",
     "text": [
      "Epoch 9/16, Train-Loss: 0.6319, Val-Loss: 0.6308, Val-F1: 0.7098, Val-Precision: 0.6860, Val-Recall: 0.7352, Val-Accuracy: 0.6907\n"
     ]
    },
    {
     "name": "stderr",
     "output_type": "stream",
     "text": [
      "Training progress: 100%|██████████| 304/304 [01:03<00:00,  4.80batch/s]\n"
     ]
    },
    {
     "name": "stdout",
     "output_type": "stream",
     "text": [
      "Epoch 10/16, Train-Loss: 0.6317, Val-Loss: 0.6309, Val-F1: 0.7064, Val-Precision: 0.6867, Val-Recall: 0.7273, Val-Accuracy: 0.6891\n"
     ]
    },
    {
     "name": "stderr",
     "output_type": "stream",
     "text": [
      "Training progress: 100%|██████████| 304/304 [01:07<00:00,  4.53batch/s]\n"
     ]
    },
    {
     "name": "stdout",
     "output_type": "stream",
     "text": [
      "Epoch 11/16, Train-Loss: 0.6319, Val-Loss: 0.6310, Val-F1: 0.7064, Val-Precision: 0.6867, Val-Recall: 0.7273, Val-Accuracy: 0.6891\n"
     ]
    },
    {
     "name": "stderr",
     "output_type": "stream",
     "text": [
      "Training progress: 100%|██████████| 304/304 [01:03<00:00,  4.79batch/s]\n"
     ]
    },
    {
     "name": "stdout",
     "output_type": "stream",
     "text": [
      "Epoch 12/16, Train-Loss: 0.6317, Val-Loss: 0.6307, Val-F1: 0.7073, Val-Precision: 0.6856, Val-Recall: 0.7305, Val-Accuracy: 0.6891\n"
     ]
    },
    {
     "name": "stderr",
     "output_type": "stream",
     "text": [
      "Training progress: 100%|██████████| 304/304 [01:09<00:00,  4.35batch/s]\n"
     ]
    },
    {
     "name": "stdout",
     "output_type": "stream",
     "text": [
      "Epoch 13/16, Train-Loss: 0.6319, Val-Loss: 0.6304, Val-F1: 0.7098, Val-Precision: 0.6793, Val-Recall: 0.7432, Val-Accuracy: 0.6874\n"
     ]
    },
    {
     "name": "stderr",
     "output_type": "stream",
     "text": [
      "Training progress: 100%|██████████| 304/304 [01:09<00:00,  4.38batch/s]\n"
     ]
    },
    {
     "name": "stdout",
     "output_type": "stream",
     "text": [
      "Epoch 14/16, Train-Loss: 0.6317, Val-Loss: 0.6303, Val-F1: 0.7122, Val-Precision: 0.6797, Val-Recall: 0.7480, Val-Accuracy: 0.6891\n"
     ]
    },
    {
     "name": "stderr",
     "output_type": "stream",
     "text": [
      "Training progress: 100%|██████████| 304/304 [01:03<00:00,  4.78batch/s]\n"
     ]
    },
    {
     "name": "stdout",
     "output_type": "stream",
     "text": [
      "Epoch 15/16, Train-Loss: 0.6319, Val-Loss: 0.6309, Val-F1: 0.7064, Val-Precision: 0.6867, Val-Recall: 0.7273, Val-Accuracy: 0.6891\n"
     ]
    },
    {
     "name": "stderr",
     "output_type": "stream",
     "text": [
      "Training progress: 100%|██████████| 304/304 [01:03<00:00,  4.80batch/s]\n"
     ]
    },
    {
     "name": "stdout",
     "output_type": "stream",
     "text": [
      "Epoch 16/16, Train-Loss: 0.6316, Val-Loss: 0.6303, Val-F1: 0.7180, Val-Precision: 0.6761, Val-Recall: 0.7656, Val-Accuracy: 0.6907\n",
      "\n",
      "\u001b[92mRESULTS:\n",
      " F1-Score:0.7193378480060195, Precision:0.6799431009957326, Recall:0.7635782747603834, Accuracy:0.69376026272578, BCE:0.6305332183837891 \u001b[0m \n",
      "\n",
      "\n",
      "\u001b[91mRUN 2:\u001b[0m\n",
      " Ranga2024Circuit \n",
      " lr: 0.001\n"
     ]
    },
    {
     "name": "stderr",
     "output_type": "stream",
     "text": [
      "Training progress: 100%|██████████| 304/304 [01:03<00:00,  4.80batch/s]\n"
     ]
    },
    {
     "name": "stdout",
     "output_type": "stream",
     "text": [
      "Epoch 1/16, Train-Loss: 0.7414, Val-Loss: 0.7262, Val-F1: 0.6793, Val-Precision: 0.5144, Val-Recall: 1.0000, Val-Accuracy: 0.5144\n"
     ]
    },
    {
     "name": "stderr",
     "output_type": "stream",
     "text": [
      "Training progress: 100%|██████████| 304/304 [01:03<00:00,  4.78batch/s]\n"
     ]
    },
    {
     "name": "stdout",
     "output_type": "stream",
     "text": [
      "Epoch 2/16, Train-Loss: 0.7162, Val-Loss: 0.7087, Val-F1: 0.6793, Val-Precision: 0.5144, Val-Recall: 1.0000, Val-Accuracy: 0.5144\n"
     ]
    },
    {
     "name": "stderr",
     "output_type": "stream",
     "text": [
      "Training progress: 100%|██████████| 304/304 [01:03<00:00,  4.79batch/s]\n"
     ]
    },
    {
     "name": "stdout",
     "output_type": "stream",
     "text": [
      "Epoch 3/16, Train-Loss: 0.7033, Val-Loss: 0.6990, Val-F1: 0.6793, Val-Precision: 0.5144, Val-Recall: 1.0000, Val-Accuracy: 0.5144\n"
     ]
    },
    {
     "name": "stderr",
     "output_type": "stream",
     "text": [
      "Training progress: 100%|██████████| 304/304 [01:04<00:00,  4.72batch/s]\n"
     ]
    },
    {
     "name": "stdout",
     "output_type": "stream",
     "text": [
      "Epoch 4/16, Train-Loss: 0.6957, Val-Loss: 0.6927, Val-F1: 0.6793, Val-Precision: 0.5144, Val-Recall: 1.0000, Val-Accuracy: 0.5144\n"
     ]
    },
    {
     "name": "stderr",
     "output_type": "stream",
     "text": [
      "Training progress: 100%|██████████| 304/304 [01:05<00:00,  4.66batch/s]\n"
     ]
    },
    {
     "name": "stdout",
     "output_type": "stream",
     "text": [
      "Epoch 5/16, Train-Loss: 0.6903, Val-Loss: 0.6878, Val-F1: 0.6800, Val-Precision: 0.5152, Val-Recall: 1.0000, Val-Accuracy: 0.5160\n"
     ]
    },
    {
     "name": "stderr",
     "output_type": "stream",
     "text": [
      "Training progress: 100%|██████████| 304/304 [01:06<00:00,  4.60batch/s]\n"
     ]
    },
    {
     "name": "stdout",
     "output_type": "stream",
     "text": [
      "Epoch 6/16, Train-Loss: 0.6860, Val-Loss: 0.6836, Val-F1: 0.6840, Val-Precision: 0.5237, Val-Recall: 0.9856, Val-Accuracy: 0.5316\n"
     ]
    },
    {
     "name": "stderr",
     "output_type": "stream",
     "text": [
      "Training progress: 100%|██████████| 304/304 [01:03<00:00,  4.79batch/s]\n"
     ]
    },
    {
     "name": "stdout",
     "output_type": "stream",
     "text": [
      "Epoch 7/16, Train-Loss: 0.6822, Val-Loss: 0.6799, Val-F1: 0.7090, Val-Precision: 0.5615, Val-Recall: 0.9617, Val-Accuracy: 0.5939\n"
     ]
    },
    {
     "name": "stderr",
     "output_type": "stream",
     "text": [
      "Training progress: 100%|██████████| 304/304 [01:06<00:00,  4.56batch/s]\n"
     ]
    },
    {
     "name": "stdout",
     "output_type": "stream",
     "text": [
      "Epoch 8/16, Train-Loss: 0.6787, Val-Loss: 0.6764, Val-F1: 0.7210, Val-Precision: 0.5857, Val-Recall: 0.9378, Val-Accuracy: 0.6267\n"
     ]
    },
    {
     "name": "stderr",
     "output_type": "stream",
     "text": [
      "Training progress: 100%|██████████| 304/304 [01:03<00:00,  4.81batch/s]\n"
     ]
    },
    {
     "name": "stdout",
     "output_type": "stream",
     "text": [
      "Epoch 9/16, Train-Loss: 0.6755, Val-Loss: 0.6733, Val-F1: 0.7312, Val-Precision: 0.6059, Val-Recall: 0.9219, Val-Accuracy: 0.6514\n"
     ]
    },
    {
     "name": "stderr",
     "output_type": "stream",
     "text": [
      "Training progress: 100%|██████████| 304/304 [01:06<00:00,  4.56batch/s]\n"
     ]
    },
    {
     "name": "stdout",
     "output_type": "stream",
     "text": [
      "Epoch 10/16, Train-Loss: 0.6725, Val-Loss: 0.6704, Val-F1: 0.7402, Val-Precision: 0.6265, Val-Recall: 0.9043, Val-Accuracy: 0.6735\n"
     ]
    },
    {
     "name": "stderr",
     "output_type": "stream",
     "text": [
      "Training progress: 100%|██████████| 304/304 [01:03<00:00,  4.79batch/s]\n"
     ]
    },
    {
     "name": "stdout",
     "output_type": "stream",
     "text": [
      "Epoch 11/16, Train-Loss: 0.6699, Val-Loss: 0.6677, Val-F1: 0.7373, Val-Precision: 0.6334, Val-Recall: 0.8820, Val-Accuracy: 0.6768\n"
     ]
    },
    {
     "name": "stderr",
     "output_type": "stream",
     "text": [
      "Training progress: 100%|██████████| 304/304 [01:03<00:00,  4.78batch/s]\n"
     ]
    },
    {
     "name": "stdout",
     "output_type": "stream",
     "text": [
      "Epoch 12/16, Train-Loss: 0.6672, Val-Loss: 0.6651, Val-F1: 0.7338, Val-Precision: 0.6401, Val-Recall: 0.8596, Val-Accuracy: 0.6792\n"
     ]
    },
    {
     "name": "stderr",
     "output_type": "stream",
     "text": [
      "Training progress: 100%|██████████| 304/304 [01:05<00:00,  4.66batch/s]\n"
     ]
    },
    {
     "name": "stdout",
     "output_type": "stream",
     "text": [
      "Epoch 13/16, Train-Loss: 0.6649, Val-Loss: 0.6627, Val-F1: 0.7314, Val-Precision: 0.6400, Val-Recall: 0.8533, Val-Accuracy: 0.6776\n"
     ]
    },
    {
     "name": "stderr",
     "output_type": "stream",
     "text": [
      "Training progress: 100%|██████████| 304/304 [01:03<00:00,  4.77batch/s]\n"
     ]
    },
    {
     "name": "stdout",
     "output_type": "stream",
     "text": [
      "Epoch 14/16, Train-Loss: 0.6627, Val-Loss: 0.6606, Val-F1: 0.7313, Val-Precision: 0.6463, Val-Recall: 0.8421, Val-Accuracy: 0.6817\n"
     ]
    },
    {
     "name": "stderr",
     "output_type": "stream",
     "text": [
      "Training progress: 100%|██████████| 304/304 [01:03<00:00,  4.79batch/s]\n"
     ]
    },
    {
     "name": "stdout",
     "output_type": "stream",
     "text": [
      "Epoch 15/16, Train-Loss: 0.6607, Val-Loss: 0.6585, Val-F1: 0.7289, Val-Precision: 0.6473, Val-Recall: 0.8341, Val-Accuracy: 0.6809\n"
     ]
    },
    {
     "name": "stderr",
     "output_type": "stream",
     "text": [
      "Training progress: 100%|██████████| 304/304 [01:03<00:00,  4.78batch/s]\n"
     ]
    },
    {
     "name": "stdout",
     "output_type": "stream",
     "text": [
      "Epoch 16/16, Train-Loss: 0.6587, Val-Loss: 0.6566, Val-F1: 0.7303, Val-Precision: 0.6524, Val-Recall: 0.8293, Val-Accuracy: 0.6850\n",
      "\n",
      "\u001b[92mRESULTS:\n",
      " F1-Score:0.743893928820656, Precision:0.6604708798017348, Recall:0.8514376996805112, Accuracy:0.6986863711001642, BCE:0.6564705967903137 \u001b[0m \n",
      "\n",
      "\n",
      "\u001b[91mRUN 3:\u001b[0m\n",
      " Senokosov2024Circuit \n",
      " lr: 0.01\n"
     ]
    },
    {
     "name": "stderr",
     "output_type": "stream",
     "text": [
      "Training progress: 100%|██████████| 304/304 [00:42<00:00,  7.09batch/s]\n"
     ]
    },
    {
     "name": "stdout",
     "output_type": "stream",
     "text": [
      "Epoch 1/16, Train-Loss: 0.6835, Val-Loss: 0.6672, Val-F1: 0.5502, Val-Precision: 0.7824, Val-Recall: 0.4242, Val-Accuracy: 0.6432\n"
     ]
    },
    {
     "name": "stderr",
     "output_type": "stream",
     "text": [
      "Training progress: 100%|██████████| 304/304 [00:42<00:00,  7.09batch/s]\n"
     ]
    },
    {
     "name": "stdout",
     "output_type": "stream",
     "text": [
      "Epoch 2/16, Train-Loss: 0.6524, Val-Loss: 0.6452, Val-F1: 0.6963, Val-Precision: 0.7688, Val-Recall: 0.6364, Val-Accuracy: 0.7145\n"
     ]
    },
    {
     "name": "stderr",
     "output_type": "stream",
     "text": [
      "Training progress: 100%|██████████| 304/304 [00:44<00:00,  6.85batch/s]\n"
     ]
    },
    {
     "name": "stdout",
     "output_type": "stream",
     "text": [
      "Epoch 3/16, Train-Loss: 0.6301, Val-Loss: 0.6265, Val-F1: 0.7490, Val-Precision: 0.7632, Val-Recall: 0.7352, Val-Accuracy: 0.7465\n"
     ]
    },
    {
     "name": "stderr",
     "output_type": "stream",
     "text": [
      "Training progress: 100%|██████████| 304/304 [00:44<00:00,  6.90batch/s]\n"
     ]
    },
    {
     "name": "stdout",
     "output_type": "stream",
     "text": [
      "Epoch 4/16, Train-Loss: 0.6112, Val-Loss: 0.6115, Val-F1: 0.7718, Val-Precision: 0.7669, Val-Recall: 0.7767, Val-Accuracy: 0.7637\n"
     ]
    },
    {
     "name": "stderr",
     "output_type": "stream",
     "text": [
      "Training progress: 100%|██████████| 304/304 [00:44<00:00,  6.83batch/s]\n"
     ]
    },
    {
     "name": "stdout",
     "output_type": "stream",
     "text": [
      "Epoch 5/16, Train-Loss: 0.5960, Val-Loss: 0.5985, Val-F1: 0.7361, Val-Precision: 0.7646, Val-Recall: 0.7097, Val-Accuracy: 0.7383\n"
     ]
    },
    {
     "name": "stderr",
     "output_type": "stream",
     "text": [
      "Training progress: 100%|██████████| 304/304 [00:43<00:00,  7.01batch/s]\n"
     ]
    },
    {
     "name": "stdout",
     "output_type": "stream",
     "text": [
      "Epoch 6/16, Train-Loss: 0.5831, Val-Loss: 0.5880, Val-F1: 0.7111, Val-Precision: 0.7661, Val-Recall: 0.6635, Val-Accuracy: 0.7227\n"
     ]
    },
    {
     "name": "stderr",
     "output_type": "stream",
     "text": [
      "Training progress: 100%|██████████| 304/304 [00:43<00:00,  7.00batch/s]\n"
     ]
    },
    {
     "name": "stdout",
     "output_type": "stream",
     "text": [
      "Epoch 7/16, Train-Loss: 0.5719, Val-Loss: 0.5792, Val-F1: 0.7213, Val-Precision: 0.7666, Val-Recall: 0.6810, Val-Accuracy: 0.7293\n"
     ]
    },
    {
     "name": "stderr",
     "output_type": "stream",
     "text": [
      "Training progress: 100%|██████████| 304/304 [00:43<00:00,  7.02batch/s]\n"
     ]
    },
    {
     "name": "stdout",
     "output_type": "stream",
     "text": [
      "Epoch 8/16, Train-Loss: 0.5627, Val-Loss: 0.5717, Val-F1: 0.7219, Val-Precision: 0.7680, Val-Recall: 0.6810, Val-Accuracy: 0.7301\n"
     ]
    },
    {
     "name": "stderr",
     "output_type": "stream",
     "text": [
      "Training progress: 100%|██████████| 304/304 [00:43<00:00,  7.03batch/s]\n"
     ]
    },
    {
     "name": "stdout",
     "output_type": "stream",
     "text": [
      "Epoch 9/16, Train-Loss: 0.5551, Val-Loss: 0.5655, Val-F1: 0.7100, Val-Precision: 0.7657, Val-Recall: 0.6619, Val-Accuracy: 0.7219\n"
     ]
    },
    {
     "name": "stderr",
     "output_type": "stream",
     "text": [
      "Training progress: 100%|██████████| 304/304 [00:43<00:00,  6.92batch/s]\n"
     ]
    },
    {
     "name": "stdout",
     "output_type": "stream",
     "text": [
      "Epoch 10/16, Train-Loss: 0.5483, Val-Loss: 0.5602, Val-F1: 0.7105, Val-Precision: 0.7647, Val-Recall: 0.6635, Val-Accuracy: 0.7219\n"
     ]
    },
    {
     "name": "stderr",
     "output_type": "stream",
     "text": [
      "Training progress: 100%|██████████| 304/304 [00:43<00:00,  7.03batch/s]\n"
     ]
    },
    {
     "name": "stdout",
     "output_type": "stream",
     "text": [
      "Epoch 11/16, Train-Loss: 0.5426, Val-Loss: 0.5555, Val-F1: 0.7294, Val-Precision: 0.7631, Val-Recall: 0.6986, Val-Accuracy: 0.7334\n"
     ]
    },
    {
     "name": "stderr",
     "output_type": "stream",
     "text": [
      "Training progress: 100%|██████████| 304/304 [00:43<00:00,  6.95batch/s]\n"
     ]
    },
    {
     "name": "stdout",
     "output_type": "stream",
     "text": [
      "Epoch 12/16, Train-Loss: 0.5372, Val-Loss: 0.5517, Val-F1: 0.7106, Val-Precision: 0.7671, Val-Recall: 0.6619, Val-Accuracy: 0.7227\n"
     ]
    },
    {
     "name": "stderr",
     "output_type": "stream",
     "text": [
      "Training progress: 100%|██████████| 304/304 [00:43<00:00,  7.00batch/s]\n"
     ]
    },
    {
     "name": "stdout",
     "output_type": "stream",
     "text": [
      "Epoch 13/16, Train-Loss: 0.5330, Val-Loss: 0.5486, Val-F1: 0.7578, Val-Precision: 0.7646, Val-Recall: 0.7512, Val-Accuracy: 0.7531\n"
     ]
    },
    {
     "name": "stderr",
     "output_type": "stream",
     "text": [
      "Training progress: 100%|██████████| 304/304 [00:43<00:00,  6.95batch/s]\n"
     ]
    },
    {
     "name": "stdout",
     "output_type": "stream",
     "text": [
      "Epoch 14/16, Train-Loss: 0.5290, Val-Loss: 0.5455, Val-F1: 0.7520, Val-Precision: 0.7644, Val-Recall: 0.7400, Val-Accuracy: 0.7490\n"
     ]
    },
    {
     "name": "stderr",
     "output_type": "stream",
     "text": [
      "Training progress: 100%|██████████| 304/304 [00:43<00:00,  7.00batch/s]\n"
     ]
    },
    {
     "name": "stdout",
     "output_type": "stream",
     "text": [
      "Epoch 15/16, Train-Loss: 0.5254, Val-Loss: 0.5427, Val-F1: 0.7418, Val-Precision: 0.7657, Val-Recall: 0.7193, Val-Accuracy: 0.7424\n"
     ]
    },
    {
     "name": "stderr",
     "output_type": "stream",
     "text": [
      "Training progress: 100%|██████████| 304/304 [00:43<00:00,  7.01batch/s]\n"
     ]
    },
    {
     "name": "stdout",
     "output_type": "stream",
     "text": [
      "Epoch 16/16, Train-Loss: 0.5226, Val-Loss: 0.5413, Val-F1: 0.7705, Val-Precision: 0.7674, Val-Recall: 0.7735, Val-Accuracy: 0.7629\n",
      "\n",
      "\u001b[92mRESULTS:\n",
      " F1-Score:0.7676113360323886, Precision:0.7783251231527094, Recall:0.7571884984025559, Accuracy:0.764367816091954, BCE:0.5378605127334595 \u001b[0m \n",
      "\n",
      "\n",
      "\u001b[91mRUN 4:\u001b[0m\n",
      " Senokosov2024Circuit \n",
      " lr: 0.001\n"
     ]
    },
    {
     "name": "stderr",
     "output_type": "stream",
     "text": [
      "Training progress: 100%|██████████| 304/304 [00:43<00:00,  7.02batch/s]\n"
     ]
    },
    {
     "name": "stdout",
     "output_type": "stream",
     "text": [
      "Epoch 1/16, Train-Loss: 0.7479, Val-Loss: 0.7237, Val-F1: 0.6793, Val-Precision: 0.5144, Val-Recall: 1.0000, Val-Accuracy: 0.5144\n"
     ]
    },
    {
     "name": "stderr",
     "output_type": "stream",
     "text": [
      "Training progress: 100%|██████████| 304/304 [00:43<00:00,  6.98batch/s]\n"
     ]
    },
    {
     "name": "stdout",
     "output_type": "stream",
     "text": [
      "Epoch 2/16, Train-Loss: 0.7088, Val-Loss: 0.6978, Val-F1: 0.6793, Val-Precision: 0.5144, Val-Recall: 1.0000, Val-Accuracy: 0.5144\n"
     ]
    },
    {
     "name": "stderr",
     "output_type": "stream",
     "text": [
      "Training progress: 100%|██████████| 304/304 [00:43<00:00,  7.00batch/s]\n"
     ]
    },
    {
     "name": "stdout",
     "output_type": "stream",
     "text": [
      "Epoch 3/16, Train-Loss: 0.6908, Val-Loss: 0.6867, Val-F1: 0.6793, Val-Precision: 0.5144, Val-Recall: 1.0000, Val-Accuracy: 0.5144\n"
     ]
    },
    {
     "name": "stderr",
     "output_type": "stream",
     "text": [
      "Training progress: 100%|██████████| 304/304 [00:43<00:00,  7.00batch/s]\n"
     ]
    },
    {
     "name": "stdout",
     "output_type": "stream",
     "text": [
      "Epoch 4/16, Train-Loss: 0.6830, Val-Loss: 0.6818, Val-F1: 0.6793, Val-Precision: 0.5144, Val-Recall: 1.0000, Val-Accuracy: 0.5144\n"
     ]
    },
    {
     "name": "stderr",
     "output_type": "stream",
     "text": [
      "Training progress: 100%|██████████| 304/304 [00:43<00:00,  7.02batch/s]\n"
     ]
    },
    {
     "name": "stdout",
     "output_type": "stream",
     "text": [
      "Epoch 5/16, Train-Loss: 0.6791, Val-Loss: 0.6789, Val-F1: 0.7254, Val-Precision: 0.5696, Val-Recall: 0.9984, Val-Accuracy: 0.6112\n"
     ]
    },
    {
     "name": "stderr",
     "output_type": "stream",
     "text": [
      "Training progress: 100%|██████████| 304/304 [00:43<00:00,  7.03batch/s]\n"
     ]
    },
    {
     "name": "stdout",
     "output_type": "stream",
     "text": [
      "Epoch 6/16, Train-Loss: 0.6762, Val-Loss: 0.6764, Val-F1: 0.8254, Val-Precision: 0.7390, Val-Recall: 0.9346, Val-Accuracy: 0.7966\n"
     ]
    },
    {
     "name": "stderr",
     "output_type": "stream",
     "text": [
      "Training progress: 100%|██████████| 304/304 [00:43<00:00,  7.03batch/s]\n"
     ]
    },
    {
     "name": "stdout",
     "output_type": "stream",
     "text": [
      "Epoch 7/16, Train-Loss: 0.6733, Val-Loss: 0.6738, Val-F1: 0.7632, Val-Precision: 0.7657, Val-Recall: 0.7608, Val-Accuracy: 0.7572\n"
     ]
    },
    {
     "name": "stderr",
     "output_type": "stream",
     "text": [
      "Training progress: 100%|██████████| 304/304 [00:43<00:00,  6.99batch/s]\n"
     ]
    },
    {
     "name": "stdout",
     "output_type": "stream",
     "text": [
      "Epoch 8/16, Train-Loss: 0.6705, Val-Loss: 0.6713, Val-F1: 0.7302, Val-Precision: 0.7667, Val-Recall: 0.6970, Val-Accuracy: 0.7350\n"
     ]
    },
    {
     "name": "stderr",
     "output_type": "stream",
     "text": [
      "Training progress: 100%|██████████| 304/304 [00:43<00:00,  7.01batch/s]\n"
     ]
    },
    {
     "name": "stdout",
     "output_type": "stream",
     "text": [
      "Epoch 9/16, Train-Loss: 0.6677, Val-Loss: 0.6687, Val-F1: 0.7315, Val-Precision: 0.7639, Val-Recall: 0.7018, Val-Accuracy: 0.7350\n"
     ]
    },
    {
     "name": "stderr",
     "output_type": "stream",
     "text": [
      "Training progress: 100%|██████████| 304/304 [00:43<00:00,  7.02batch/s]\n"
     ]
    },
    {
     "name": "stdout",
     "output_type": "stream",
     "text": [
      "Epoch 10/16, Train-Loss: 0.6648, Val-Loss: 0.6660, Val-F1: 0.7106, Val-Precision: 0.7671, Val-Recall: 0.6619, Val-Accuracy: 0.7227\n"
     ]
    },
    {
     "name": "stderr",
     "output_type": "stream",
     "text": [
      "Training progress: 100%|██████████| 304/304 [00:45<00:00,  6.70batch/s]\n"
     ]
    },
    {
     "name": "stdout",
     "output_type": "stream",
     "text": [
      "Epoch 11/16, Train-Loss: 0.6620, Val-Loss: 0.6634, Val-F1: 0.7068, Val-Precision: 0.7668, Val-Recall: 0.6555, Val-Accuracy: 0.7203\n"
     ]
    },
    {
     "name": "stderr",
     "output_type": "stream",
     "text": [
      "Training progress: 100%|██████████| 304/304 [00:43<00:00,  6.95batch/s]\n"
     ]
    },
    {
     "name": "stdout",
     "output_type": "stream",
     "text": [
      "Epoch 12/16, Train-Loss: 0.6590, Val-Loss: 0.6608, Val-F1: 0.6901, Val-Precision: 0.7676, Val-Recall: 0.6268, Val-Accuracy: 0.7104\n"
     ]
    },
    {
     "name": "stderr",
     "output_type": "stream",
     "text": [
      "Training progress: 100%|██████████| 304/304 [00:43<00:00,  6.97batch/s]\n"
     ]
    },
    {
     "name": "stdout",
     "output_type": "stream",
     "text": [
      "Epoch 13/16, Train-Loss: 0.6562, Val-Loss: 0.6581, Val-F1: 0.7302, Val-Precision: 0.7667, Val-Recall: 0.6970, Val-Accuracy: 0.7350\n"
     ]
    },
    {
     "name": "stderr",
     "output_type": "stream",
     "text": [
      "Training progress: 100%|██████████| 304/304 [00:43<00:00,  6.95batch/s]\n"
     ]
    },
    {
     "name": "stdout",
     "output_type": "stream",
     "text": [
      "Epoch 14/16, Train-Loss: 0.6533, Val-Loss: 0.6556, Val-F1: 0.7034, Val-Precision: 0.7655, Val-Recall: 0.6507, Val-Accuracy: 0.7178\n"
     ]
    },
    {
     "name": "stderr",
     "output_type": "stream",
     "text": [
      "Training progress: 100%|██████████| 304/304 [00:43<00:00,  6.95batch/s]\n"
     ]
    },
    {
     "name": "stdout",
     "output_type": "stream",
     "text": [
      "Epoch 15/16, Train-Loss: 0.6505, Val-Loss: 0.6531, Val-F1: 0.7079, Val-Precision: 0.7672, Val-Recall: 0.6571, Val-Accuracy: 0.7211\n"
     ]
    },
    {
     "name": "stderr",
     "output_type": "stream",
     "text": [
      "Training progress: 100%|██████████| 304/304 [00:43<00:00,  6.93batch/s]\n"
     ]
    },
    {
     "name": "stdout",
     "output_type": "stream",
     "text": [
      "Epoch 16/16, Train-Loss: 0.6478, Val-Loss: 0.6506, Val-F1: 0.7127, Val-Precision: 0.7656, Val-Recall: 0.6667, Val-Accuracy: 0.7235\n",
      "\n",
      "\u001b[92mRESULTS:\n",
      " F1-Score:0.7111501316944688, Precision:0.7894736842105263, Recall:0.646964856230032, Accuracy:0.7298850574712644, BCE:0.6499928832054138 \u001b[0m \n",
      "\n",
      "\n",
      "\u001b[91mRUN 5:\u001b[0m\n",
      " Anusha2024Circuit \n",
      " lr: 0.01\n"
     ]
    },
    {
     "name": "stderr",
     "output_type": "stream",
     "text": [
      "Training progress: 100%|██████████| 304/304 [00:18<00:00, 16.18batch/s]\n"
     ]
    },
    {
     "name": "stdout",
     "output_type": "stream",
     "text": [
      "Epoch 1/16, Train-Loss: 0.6842, Val-Loss: 0.6619, Val-F1: 0.6795, Val-Precision: 0.6845, Val-Recall: 0.6746, Val-Accuracy: 0.6727\n"
     ]
    },
    {
     "name": "stderr",
     "output_type": "stream",
     "text": [
      "Training progress: 100%|██████████| 304/304 [00:18<00:00, 16.23batch/s]\n"
     ]
    },
    {
     "name": "stdout",
     "output_type": "stream",
     "text": [
      "Epoch 2/16, Train-Loss: 0.6475, Val-Loss: 0.6509, Val-F1: 0.6467, Val-Precision: 0.6753, Val-Recall: 0.6204, Val-Accuracy: 0.6514\n"
     ]
    },
    {
     "name": "stderr",
     "output_type": "stream",
     "text": [
      "Training progress: 100%|██████████| 304/304 [00:18<00:00, 16.23batch/s]\n"
     ]
    },
    {
     "name": "stdout",
     "output_type": "stream",
     "text": [
      "Epoch 3/16, Train-Loss: 0.6398, Val-Loss: 0.6496, Val-F1: 0.6568, Val-Precision: 0.6786, Val-Recall: 0.6364, Val-Accuracy: 0.6579\n"
     ]
    },
    {
     "name": "stderr",
     "output_type": "stream",
     "text": [
      "Training progress: 100%|██████████| 304/304 [00:18<00:00, 16.23batch/s]\n"
     ]
    },
    {
     "name": "stdout",
     "output_type": "stream",
     "text": [
      "Epoch 4/16, Train-Loss: 0.6376, Val-Loss: 0.6505, Val-F1: 0.6721, Val-Precision: 0.6809, Val-Recall: 0.6635, Val-Accuracy: 0.6669\n"
     ]
    },
    {
     "name": "stderr",
     "output_type": "stream",
     "text": [
      "Training progress: 100%|██████████| 304/304 [00:18<00:00, 16.24batch/s]\n"
     ]
    },
    {
     "name": "stdout",
     "output_type": "stream",
     "text": [
      "Epoch 5/16, Train-Loss: 0.6374, Val-Loss: 0.6500, Val-F1: 0.6427, Val-Precision: 0.6743, Val-Recall: 0.6140, Val-Accuracy: 0.6489\n"
     ]
    },
    {
     "name": "stderr",
     "output_type": "stream",
     "text": [
      "Training progress: 100%|██████████| 304/304 [00:18<00:00, 16.19batch/s]\n"
     ]
    },
    {
     "name": "stdout",
     "output_type": "stream",
     "text": [
      "Epoch 6/16, Train-Loss: 0.6372, Val-Loss: 0.6502, Val-F1: 0.6467, Val-Precision: 0.6753, Val-Recall: 0.6204, Val-Accuracy: 0.6514\n"
     ]
    },
    {
     "name": "stderr",
     "output_type": "stream",
     "text": [
      "Training progress: 100%|██████████| 304/304 [00:18<00:00, 16.20batch/s]\n"
     ]
    },
    {
     "name": "stdout",
     "output_type": "stream",
     "text": [
      "Epoch 7/16, Train-Loss: 0.6368, Val-Loss: 0.6501, Val-F1: 0.6203, Val-Precision: 0.6723, Val-Recall: 0.5758, Val-Accuracy: 0.6374\n"
     ]
    },
    {
     "name": "stderr",
     "output_type": "stream",
     "text": [
      "Training progress: 100%|██████████| 304/304 [00:18<00:00, 16.26batch/s]\n"
     ]
    },
    {
     "name": "stdout",
     "output_type": "stream",
     "text": [
      "Epoch 8/16, Train-Loss: 0.6370, Val-Loss: 0.6502, Val-F1: 0.6203, Val-Precision: 0.6723, Val-Recall: 0.5758, Val-Accuracy: 0.6374\n"
     ]
    },
    {
     "name": "stderr",
     "output_type": "stream",
     "text": [
      "Training progress: 100%|██████████| 304/304 [00:18<00:00, 16.04batch/s]\n"
     ]
    },
    {
     "name": "stdout",
     "output_type": "stream",
     "text": [
      "Epoch 9/16, Train-Loss: 0.6372, Val-Loss: 0.6503, Val-F1: 0.6209, Val-Precision: 0.6716, Val-Recall: 0.5774, Val-Accuracy: 0.6374\n"
     ]
    },
    {
     "name": "stderr",
     "output_type": "stream",
     "text": [
      "Training progress: 100%|██████████| 304/304 [00:18<00:00, 16.23batch/s]\n"
     ]
    },
    {
     "name": "stdout",
     "output_type": "stream",
     "text": [
      "Epoch 10/16, Train-Loss: 0.6371, Val-Loss: 0.6502, Val-F1: 0.6075, Val-Precision: 0.6686, Val-Recall: 0.5566, Val-Accuracy: 0.6300\n"
     ]
    },
    {
     "name": "stderr",
     "output_type": "stream",
     "text": [
      "Training progress: 100%|██████████| 304/304 [00:18<00:00, 16.17batch/s]\n"
     ]
    },
    {
     "name": "stdout",
     "output_type": "stream",
     "text": [
      "Epoch 11/16, Train-Loss: 0.6373, Val-Loss: 0.6502, Val-F1: 0.6246, Val-Precision: 0.6716, Val-Recall: 0.5837, Val-Accuracy: 0.6390\n"
     ]
    },
    {
     "name": "stderr",
     "output_type": "stream",
     "text": [
      "Training progress: 100%|██████████| 304/304 [00:18<00:00, 16.17batch/s]\n"
     ]
    },
    {
     "name": "stdout",
     "output_type": "stream",
     "text": [
      "Epoch 12/16, Train-Loss: 0.6369, Val-Loss: 0.6502, Val-F1: 0.6087, Val-Precision: 0.6692, Val-Recall: 0.5582, Val-Accuracy: 0.6308\n"
     ]
    },
    {
     "name": "stderr",
     "output_type": "stream",
     "text": [
      "Training progress: 100%|██████████| 304/304 [00:18<00:00, 16.19batch/s]\n"
     ]
    },
    {
     "name": "stdout",
     "output_type": "stream",
     "text": [
      "Epoch 13/16, Train-Loss: 0.6372, Val-Loss: 0.6508, Val-F1: 0.6562, Val-Precision: 0.6792, Val-Recall: 0.6348, Val-Accuracy: 0.6579\n"
     ]
    },
    {
     "name": "stderr",
     "output_type": "stream",
     "text": [
      "Training progress: 100%|██████████| 304/304 [00:18<00:00, 16.22batch/s]\n"
     ]
    },
    {
     "name": "stdout",
     "output_type": "stream",
     "text": [
      "Epoch 14/16, Train-Loss: 0.6370, Val-Loss: 0.6506, Val-F1: 0.6467, Val-Precision: 0.6753, Val-Recall: 0.6204, Val-Accuracy: 0.6514\n"
     ]
    },
    {
     "name": "stderr",
     "output_type": "stream",
     "text": [
      "Training progress: 100%|██████████| 304/304 [00:18<00:00, 16.17batch/s]\n"
     ]
    },
    {
     "name": "stdout",
     "output_type": "stream",
     "text": [
      "Epoch 15/16, Train-Loss: 0.6370, Val-Loss: 0.6503, Val-F1: 0.6204, Val-Precision: 0.6704, Val-Recall: 0.5774, Val-Accuracy: 0.6366\n"
     ]
    },
    {
     "name": "stderr",
     "output_type": "stream",
     "text": [
      "Training progress: 100%|██████████| 304/304 [00:19<00:00, 15.84batch/s]\n"
     ]
    },
    {
     "name": "stdout",
     "output_type": "stream",
     "text": [
      "Epoch 16/16, Train-Loss: 0.6373, Val-Loss: 0.6512, Val-F1: 0.6585, Val-Precision: 0.6785, Val-Recall: 0.6396, Val-Accuracy: 0.6587\n",
      "\n",
      "\u001b[92mRESULTS:\n",
      " F1-Score:0.6862745098039216, Precision:0.7023411371237458, Recall:0.670926517571885, Accuracy:0.6847290640394089, BCE:0.6438663601875305 \u001b[0m \n",
      "\n",
      "\n",
      "\u001b[91mRUN 6:\u001b[0m\n",
      " Anusha2024Circuit \n",
      " lr: 0.001\n"
     ]
    },
    {
     "name": "stderr",
     "output_type": "stream",
     "text": [
      "Training progress: 100%|██████████| 304/304 [00:18<00:00, 16.48batch/s]\n"
     ]
    },
    {
     "name": "stdout",
     "output_type": "stream",
     "text": [
      "Epoch 1/16, Train-Loss: 0.7418, Val-Loss: 0.7261, Val-F1: 0.6793, Val-Precision: 0.5144, Val-Recall: 1.0000, Val-Accuracy: 0.5144\n"
     ]
    },
    {
     "name": "stderr",
     "output_type": "stream",
     "text": [
      "Training progress: 100%|██████████| 304/304 [00:18<00:00, 16.45batch/s]\n"
     ]
    },
    {
     "name": "stdout",
     "output_type": "stream",
     "text": [
      "Epoch 2/16, Train-Loss: 0.7175, Val-Loss: 0.7086, Val-F1: 0.6793, Val-Precision: 0.5144, Val-Recall: 1.0000, Val-Accuracy: 0.5144\n"
     ]
    },
    {
     "name": "stderr",
     "output_type": "stream",
     "text": [
      "Training progress: 100%|██████████| 304/304 [00:18<00:00, 16.47batch/s]\n"
     ]
    },
    {
     "name": "stdout",
     "output_type": "stream",
     "text": [
      "Epoch 3/16, Train-Loss: 0.7028, Val-Loss: 0.6972, Val-F1: 0.6793, Val-Precision: 0.5144, Val-Recall: 1.0000, Val-Accuracy: 0.5144\n"
     ]
    },
    {
     "name": "stderr",
     "output_type": "stream",
     "text": [
      "Training progress: 100%|██████████| 304/304 [00:18<00:00, 16.31batch/s]\n"
     ]
    },
    {
     "name": "stdout",
     "output_type": "stream",
     "text": [
      "Epoch 4/16, Train-Loss: 0.6924, Val-Loss: 0.6890, Val-F1: 0.6793, Val-Precision: 0.5144, Val-Recall: 1.0000, Val-Accuracy: 0.5144\n"
     ]
    },
    {
     "name": "stderr",
     "output_type": "stream",
     "text": [
      "Training progress: 100%|██████████| 304/304 [00:18<00:00, 16.46batch/s]\n"
     ]
    },
    {
     "name": "stdout",
     "output_type": "stream",
     "text": [
      "Epoch 5/16, Train-Loss: 0.6843, Val-Loss: 0.6825, Val-F1: 0.6793, Val-Precision: 0.5144, Val-Recall: 1.0000, Val-Accuracy: 0.5144\n"
     ]
    },
    {
     "name": "stderr",
     "output_type": "stream",
     "text": [
      "Training progress: 100%|██████████| 304/304 [00:18<00:00, 16.46batch/s]\n"
     ]
    },
    {
     "name": "stdout",
     "output_type": "stream",
     "text": [
      "Epoch 6/16, Train-Loss: 0.6777, Val-Loss: 0.6771, Val-F1: 0.6833, Val-Precision: 0.5238, Val-Recall: 0.9825, Val-Accuracy: 0.5316\n"
     ]
    },
    {
     "name": "stderr",
     "output_type": "stream",
     "text": [
      "Training progress: 100%|██████████| 304/304 [00:18<00:00, 16.29batch/s]\n"
     ]
    },
    {
     "name": "stdout",
     "output_type": "stream",
     "text": [
      "Epoch 7/16, Train-Loss: 0.6720, Val-Loss: 0.6726, Val-F1: 0.7360, Val-Precision: 0.6112, Val-Recall: 0.9250, Val-Accuracy: 0.6587\n"
     ]
    },
    {
     "name": "stderr",
     "output_type": "stream",
     "text": [
      "Training progress: 100%|██████████| 304/304 [00:18<00:00, 16.45batch/s]\n"
     ]
    },
    {
     "name": "stdout",
     "output_type": "stream",
     "text": [
      "Epoch 8/16, Train-Loss: 0.6672, Val-Loss: 0.6687, Val-F1: 0.7440, Val-Precision: 0.6557, Val-Recall: 0.8596, Val-Accuracy: 0.6957\n"
     ]
    },
    {
     "name": "stderr",
     "output_type": "stream",
     "text": [
      "Training progress: 100%|██████████| 304/304 [00:18<00:00, 16.49batch/s]\n"
     ]
    },
    {
     "name": "stdout",
     "output_type": "stream",
     "text": [
      "Epoch 9/16, Train-Loss: 0.6631, Val-Loss: 0.6656, Val-F1: 0.7378, Val-Precision: 0.6697, Val-Recall: 0.8214, Val-Accuracy: 0.6998\n"
     ]
    },
    {
     "name": "stderr",
     "output_type": "stream",
     "text": [
      "Training progress: 100%|██████████| 304/304 [00:18<00:00, 16.42batch/s]\n"
     ]
    },
    {
     "name": "stdout",
     "output_type": "stream",
     "text": [
      "Epoch 10/16, Train-Loss: 0.6595, Val-Loss: 0.6628, Val-F1: 0.7169, Val-Precision: 0.6790, Val-Recall: 0.7592, Val-Accuracy: 0.6916\n"
     ]
    },
    {
     "name": "stderr",
     "output_type": "stream",
     "text": [
      "Training progress: 100%|██████████| 304/304 [00:18<00:00, 16.45batch/s]\n"
     ]
    },
    {
     "name": "stdout",
     "output_type": "stream",
     "text": [
      "Epoch 11/16, Train-Loss: 0.6565, Val-Loss: 0.6605, Val-F1: 0.7077, Val-Precision: 0.6835, Val-Recall: 0.7337, Val-Accuracy: 0.6883\n"
     ]
    },
    {
     "name": "stderr",
     "output_type": "stream",
     "text": [
      "Training progress: 100%|██████████| 304/304 [00:18<00:00, 16.47batch/s]\n"
     ]
    },
    {
     "name": "stdout",
     "output_type": "stream",
     "text": [
      "Epoch 12/16, Train-Loss: 0.6536, Val-Loss: 0.6585, Val-F1: 0.6913, Val-Precision: 0.6827, Val-Recall: 0.7002, Val-Accuracy: 0.6784\n"
     ]
    },
    {
     "name": "stderr",
     "output_type": "stream",
     "text": [
      "Training progress: 100%|██████████| 304/304 [00:18<00:00, 16.42batch/s]\n"
     ]
    },
    {
     "name": "stdout",
     "output_type": "stream",
     "text": [
      "Epoch 13/16, Train-Loss: 0.6514, Val-Loss: 0.6569, Val-F1: 0.6913, Val-Precision: 0.6827, Val-Recall: 0.7002, Val-Accuracy: 0.6784\n"
     ]
    },
    {
     "name": "stderr",
     "output_type": "stream",
     "text": [
      "Training progress: 100%|██████████| 304/304 [00:18<00:00, 16.39batch/s]\n"
     ]
    },
    {
     "name": "stdout",
     "output_type": "stream",
     "text": [
      "Epoch 14/16, Train-Loss: 0.6493, Val-Loss: 0.6555, Val-F1: 0.6795, Val-Precision: 0.6845, Val-Recall: 0.6746, Val-Accuracy: 0.6727\n"
     ]
    },
    {
     "name": "stderr",
     "output_type": "stream",
     "text": [
      "Training progress: 100%|██████████| 304/304 [00:18<00:00, 16.50batch/s]\n"
     ]
    },
    {
     "name": "stdout",
     "output_type": "stream",
     "text": [
      "Epoch 15/16, Train-Loss: 0.6476, Val-Loss: 0.6544, Val-F1: 0.6753, Val-Precision: 0.6824, Val-Recall: 0.6683, Val-Accuracy: 0.6694\n"
     ]
    },
    {
     "name": "stderr",
     "output_type": "stream",
     "text": [
      "Training progress: 100%|██████████| 304/304 [00:18<00:00, 16.43batch/s]\n"
     ]
    },
    {
     "name": "stdout",
     "output_type": "stream",
     "text": [
      "Epoch 16/16, Train-Loss: 0.6463, Val-Loss: 0.6534, Val-F1: 0.6699, Val-Precision: 0.6798, Val-Recall: 0.6603, Val-Accuracy: 0.6653\n",
      "\n",
      "\u001b[92mRESULTS:\n",
      " F1-Score:0.6919967663702506, Precision:0.7004909983633388, Recall:0.6837060702875399, Accuracy:0.687192118226601, BCE:0.6493683457374573 \u001b[0m \n",
      "\n",
      "\n",
      "\u001b[91mRUN 7:\u001b[0m\n",
      " DoubleEntanglementVLCircuit \n",
      " lr: 0.01\n"
     ]
    },
    {
     "name": "stderr",
     "output_type": "stream",
     "text": [
      "Training progress: 100%|██████████| 304/304 [00:24<00:00, 12.36batch/s]\n"
     ]
    },
    {
     "name": "stdout",
     "output_type": "stream",
     "text": [
      "Epoch 1/16, Train-Loss: 0.6994, Val-Loss: 0.6936, Val-F1: 0.6837, Val-Precision: 0.5238, Val-Recall: 0.9841, Val-Accuracy: 0.5316\n"
     ]
    },
    {
     "name": "stderr",
     "output_type": "stream",
     "text": [
      "Training progress: 100%|██████████| 304/304 [00:24<00:00, 12.38batch/s]\n"
     ]
    },
    {
     "name": "stdout",
     "output_type": "stream",
     "text": [
      "Epoch 2/16, Train-Loss: 0.6928, Val-Loss: 0.6920, Val-F1: 0.6793, Val-Precision: 0.5144, Val-Recall: 1.0000, Val-Accuracy: 0.5144\n"
     ]
    },
    {
     "name": "stderr",
     "output_type": "stream",
     "text": [
      "Training progress: 100%|██████████| 304/304 [00:24<00:00, 12.36batch/s]\n"
     ]
    },
    {
     "name": "stdout",
     "output_type": "stream",
     "text": [
      "Epoch 3/16, Train-Loss: 0.6914, Val-Loss: 0.6910, Val-F1: 0.6800, Val-Precision: 0.5152, Val-Recall: 1.0000, Val-Accuracy: 0.5160\n"
     ]
    },
    {
     "name": "stderr",
     "output_type": "stream",
     "text": [
      "Training progress: 100%|██████████| 304/304 [00:24<00:00, 12.25batch/s]\n"
     ]
    },
    {
     "name": "stdout",
     "output_type": "stream",
     "text": [
      "Epoch 4/16, Train-Loss: 0.6900, Val-Loss: 0.6904, Val-F1: 0.6808, Val-Precision: 0.5170, Val-Recall: 0.9968, Val-Accuracy: 0.5193\n"
     ]
    },
    {
     "name": "stderr",
     "output_type": "stream",
     "text": [
      "Training progress: 100%|██████████| 304/304 [00:24<00:00, 12.40batch/s]\n"
     ]
    },
    {
     "name": "stdout",
     "output_type": "stream",
     "text": [
      "Epoch 5/16, Train-Loss: 0.6889, Val-Loss: 0.6892, Val-F1: 0.6938, Val-Precision: 0.5377, Val-Recall: 0.9777, Val-Accuracy: 0.5562\n"
     ]
    },
    {
     "name": "stderr",
     "output_type": "stream",
     "text": [
      "Training progress: 100%|██████████| 304/304 [00:24<00:00, 12.39batch/s]\n"
     ]
    },
    {
     "name": "stdout",
     "output_type": "stream",
     "text": [
      "Epoch 6/16, Train-Loss: 0.6877, Val-Loss: 0.6882, Val-F1: 0.6747, Val-Precision: 0.5614, Val-Recall: 0.8453, Val-Accuracy: 0.5808\n"
     ]
    },
    {
     "name": "stderr",
     "output_type": "stream",
     "text": [
      "Training progress: 100%|██████████| 304/304 [00:24<00:00, 12.37batch/s]\n"
     ]
    },
    {
     "name": "stdout",
     "output_type": "stream",
     "text": [
      "Epoch 7/16, Train-Loss: 0.6868, Val-Loss: 0.6876, Val-F1: 0.6654, Val-Precision: 0.5599, Val-Recall: 0.8198, Val-Accuracy: 0.5759\n"
     ]
    },
    {
     "name": "stderr",
     "output_type": "stream",
     "text": [
      "Training progress: 100%|██████████| 304/304 [00:24<00:00, 12.39batch/s]\n"
     ]
    },
    {
     "name": "stdout",
     "output_type": "stream",
     "text": [
      "Epoch 8/16, Train-Loss: 0.6860, Val-Loss: 0.6870, Val-F1: 0.6613, Val-Precision: 0.5698, Val-Recall: 0.7879, Val-Accuracy: 0.5849\n"
     ]
    },
    {
     "name": "stderr",
     "output_type": "stream",
     "text": [
      "Training progress: 100%|██████████| 304/304 [00:24<00:00, 12.39batch/s]\n"
     ]
    },
    {
     "name": "stdout",
     "output_type": "stream",
     "text": [
      "Epoch 9/16, Train-Loss: 0.6852, Val-Loss: 0.6866, Val-F1: 0.6401, Val-Precision: 0.5705, Val-Recall: 0.7289, Val-Accuracy: 0.5783\n"
     ]
    },
    {
     "name": "stderr",
     "output_type": "stream",
     "text": [
      "Training progress: 100%|██████████| 304/304 [00:24<00:00, 12.37batch/s]\n"
     ]
    },
    {
     "name": "stdout",
     "output_type": "stream",
     "text": [
      "Epoch 10/16, Train-Loss: 0.6847, Val-Loss: 0.6864, Val-F1: 0.5994, Val-Precision: 0.5678, Val-Recall: 0.6348, Val-Accuracy: 0.5636\n"
     ]
    },
    {
     "name": "stderr",
     "output_type": "stream",
     "text": [
      "Training progress: 100%|██████████| 304/304 [00:24<00:00, 12.38batch/s]\n"
     ]
    },
    {
     "name": "stdout",
     "output_type": "stream",
     "text": [
      "Epoch 11/16, Train-Loss: 0.6842, Val-Loss: 0.6858, Val-F1: 0.6445, Val-Precision: 0.5690, Val-Recall: 0.7432, Val-Accuracy: 0.5783\n"
     ]
    },
    {
     "name": "stderr",
     "output_type": "stream",
     "text": [
      "Training progress: 100%|██████████| 304/304 [00:24<00:00, 12.38batch/s]\n"
     ]
    },
    {
     "name": "stdout",
     "output_type": "stream",
     "text": [
      "Epoch 12/16, Train-Loss: 0.6834, Val-Loss: 0.6856, Val-F1: 0.6336, Val-Precision: 0.5702, Val-Recall: 0.7129, Val-Accuracy: 0.5759\n"
     ]
    },
    {
     "name": "stderr",
     "output_type": "stream",
     "text": [
      "Training progress: 100%|██████████| 304/304 [00:24<00:00, 12.36batch/s]\n"
     ]
    },
    {
     "name": "stdout",
     "output_type": "stream",
     "text": [
      "Epoch 13/16, Train-Loss: 0.6831, Val-Loss: 0.6855, Val-F1: 0.6591, Val-Precision: 0.5689, Val-Recall: 0.7831, Val-Accuracy: 0.5833\n"
     ]
    },
    {
     "name": "stderr",
     "output_type": "stream",
     "text": [
      "Training progress: 100%|██████████| 304/304 [00:24<00:00, 12.38batch/s]\n"
     ]
    },
    {
     "name": "stdout",
     "output_type": "stream",
     "text": [
      "Epoch 14/16, Train-Loss: 0.6828, Val-Loss: 0.6854, Val-F1: 0.6578, Val-Precision: 0.5646, Val-Recall: 0.7879, Val-Accuracy: 0.5783\n"
     ]
    },
    {
     "name": "stderr",
     "output_type": "stream",
     "text": [
      "Training progress: 100%|██████████| 304/304 [00:24<00:00, 12.28batch/s]\n"
     ]
    },
    {
     "name": "stdout",
     "output_type": "stream",
     "text": [
      "Epoch 15/16, Train-Loss: 0.6824, Val-Loss: 0.6850, Val-F1: 0.6134, Val-Precision: 0.5634, Val-Recall: 0.6730, Val-Accuracy: 0.5636\n"
     ]
    },
    {
     "name": "stderr",
     "output_type": "stream",
     "text": [
      "Training progress: 100%|██████████| 304/304 [00:24<00:00, 12.34batch/s]\n"
     ]
    },
    {
     "name": "stdout",
     "output_type": "stream",
     "text": [
      "Epoch 16/16, Train-Loss: 0.6822, Val-Loss: 0.6856, Val-F1: 0.6662, Val-Precision: 0.5619, Val-Recall: 0.8182, Val-Accuracy: 0.5783\n",
      "\n",
      "\u001b[92mRESULTS:\n",
      " F1-Score:0.6826424870466321, Precision:0.5740740740740741, Recall:0.84185303514377, Accuracy:0.5977011494252874, BCE:0.679071843624115 \u001b[0m \n",
      "\n",
      "\n",
      "\u001b[91mRUN 8:\u001b[0m\n",
      " DoubleEntanglementVLCircuit \n",
      " lr: 0.001\n"
     ]
    },
    {
     "name": "stderr",
     "output_type": "stream",
     "text": [
      "Training progress: 100%|██████████| 304/304 [00:24<00:00, 12.31batch/s]\n"
     ]
    },
    {
     "name": "stdout",
     "output_type": "stream",
     "text": [
      "Epoch 1/16, Train-Loss: 0.7471, Val-Loss: 0.7251, Val-F1: 0.6793, Val-Precision: 0.5144, Val-Recall: 1.0000, Val-Accuracy: 0.5144\n"
     ]
    },
    {
     "name": "stderr",
     "output_type": "stream",
     "text": [
      "Training progress: 100%|██████████| 304/304 [00:24<00:00, 12.41batch/s]\n"
     ]
    },
    {
     "name": "stdout",
     "output_type": "stream",
     "text": [
      "Epoch 2/16, Train-Loss: 0.7129, Val-Loss: 0.7039, Val-F1: 0.6793, Val-Precision: 0.5144, Val-Recall: 1.0000, Val-Accuracy: 0.5144\n"
     ]
    },
    {
     "name": "stderr",
     "output_type": "stream",
     "text": [
      "Training progress: 100%|██████████| 304/304 [00:24<00:00, 12.39batch/s]\n"
     ]
    },
    {
     "name": "stdout",
     "output_type": "stream",
     "text": [
      "Epoch 3/16, Train-Loss: 0.6997, Val-Loss: 0.6966, Val-F1: 0.6793, Val-Precision: 0.5144, Val-Recall: 1.0000, Val-Accuracy: 0.5144\n"
     ]
    },
    {
     "name": "stderr",
     "output_type": "stream",
     "text": [
      "Training progress: 100%|██████████| 304/304 [00:24<00:00, 12.43batch/s]\n"
     ]
    },
    {
     "name": "stdout",
     "output_type": "stream",
     "text": [
      "Epoch 4/16, Train-Loss: 0.6956, Val-Loss: 0.6946, Val-F1: 0.6793, Val-Precision: 0.5144, Val-Recall: 1.0000, Val-Accuracy: 0.5144\n"
     ]
    },
    {
     "name": "stderr",
     "output_type": "stream",
     "text": [
      "Training progress: 100%|██████████| 304/304 [00:24<00:00, 12.41batch/s]\n"
     ]
    },
    {
     "name": "stdout",
     "output_type": "stream",
     "text": [
      "Epoch 5/16, Train-Loss: 0.6945, Val-Loss: 0.6940, Val-F1: 0.6793, Val-Precision: 0.5144, Val-Recall: 1.0000, Val-Accuracy: 0.5144\n"
     ]
    },
    {
     "name": "stderr",
     "output_type": "stream",
     "text": [
      "Training progress: 100%|██████████| 304/304 [00:24<00:00, 12.40batch/s]\n"
     ]
    },
    {
     "name": "stdout",
     "output_type": "stream",
     "text": [
      "Epoch 6/16, Train-Loss: 0.6942, Val-Loss: 0.6938, Val-F1: 0.6793, Val-Precision: 0.5144, Val-Recall: 1.0000, Val-Accuracy: 0.5144\n"
     ]
    },
    {
     "name": "stderr",
     "output_type": "stream",
     "text": [
      "Training progress: 100%|██████████| 304/304 [00:24<00:00, 12.42batch/s]\n"
     ]
    },
    {
     "name": "stdout",
     "output_type": "stream",
     "text": [
      "Epoch 7/16, Train-Loss: 0.6940, Val-Loss: 0.6936, Val-F1: 0.6793, Val-Precision: 0.5144, Val-Recall: 1.0000, Val-Accuracy: 0.5144\n"
     ]
    },
    {
     "name": "stderr",
     "output_type": "stream",
     "text": [
      "Training progress: 100%|██████████| 304/304 [00:24<00:00, 12.38batch/s]\n"
     ]
    },
    {
     "name": "stdout",
     "output_type": "stream",
     "text": [
      "Epoch 8/16, Train-Loss: 0.6938, Val-Loss: 0.6935, Val-F1: 0.6793, Val-Precision: 0.5144, Val-Recall: 1.0000, Val-Accuracy: 0.5144\n"
     ]
    },
    {
     "name": "stderr",
     "output_type": "stream",
     "text": [
      "Training progress: 100%|██████████| 304/304 [00:24<00:00, 12.38batch/s]\n"
     ]
    },
    {
     "name": "stdout",
     "output_type": "stream",
     "text": [
      "Epoch 9/16, Train-Loss: 0.6936, Val-Loss: 0.6933, Val-F1: 0.6793, Val-Precision: 0.5144, Val-Recall: 1.0000, Val-Accuracy: 0.5144\n"
     ]
    },
    {
     "name": "stderr",
     "output_type": "stream",
     "text": [
      "Training progress: 100%|██████████| 304/304 [00:24<00:00, 12.40batch/s]\n"
     ]
    },
    {
     "name": "stdout",
     "output_type": "stream",
     "text": [
      "Epoch 10/16, Train-Loss: 0.6934, Val-Loss: 0.6932, Val-F1: 0.6793, Val-Precision: 0.5144, Val-Recall: 1.0000, Val-Accuracy: 0.5144\n"
     ]
    },
    {
     "name": "stderr",
     "output_type": "stream",
     "text": [
      "Training progress: 100%|██████████| 304/304 [00:24<00:00, 12.28batch/s]\n"
     ]
    },
    {
     "name": "stdout",
     "output_type": "stream",
     "text": [
      "Epoch 11/16, Train-Loss: 0.6933, Val-Loss: 0.6930, Val-F1: 0.6793, Val-Precision: 0.5144, Val-Recall: 1.0000, Val-Accuracy: 0.5144\n"
     ]
    },
    {
     "name": "stderr",
     "output_type": "stream",
     "text": [
      "Training progress: 100%|██████████| 304/304 [00:24<00:00, 12.42batch/s]\n"
     ]
    },
    {
     "name": "stdout",
     "output_type": "stream",
     "text": [
      "Epoch 12/16, Train-Loss: 0.6930, Val-Loss: 0.6929, Val-F1: 0.6793, Val-Precision: 0.5144, Val-Recall: 1.0000, Val-Accuracy: 0.5144\n"
     ]
    },
    {
     "name": "stderr",
     "output_type": "stream",
     "text": [
      "Training progress: 100%|██████████| 304/304 [00:24<00:00, 12.33batch/s]\n"
     ]
    },
    {
     "name": "stdout",
     "output_type": "stream",
     "text": [
      "Epoch 13/16, Train-Loss: 0.6929, Val-Loss: 0.6928, Val-F1: 0.6793, Val-Precision: 0.5144, Val-Recall: 1.0000, Val-Accuracy: 0.5144\n"
     ]
    },
    {
     "name": "stderr",
     "output_type": "stream",
     "text": [
      "Training progress: 100%|██████████| 304/304 [00:24<00:00, 12.40batch/s]\n"
     ]
    },
    {
     "name": "stdout",
     "output_type": "stream",
     "text": [
      "Epoch 14/16, Train-Loss: 0.6927, Val-Loss: 0.6926, Val-F1: 0.6793, Val-Precision: 0.5144, Val-Recall: 1.0000, Val-Accuracy: 0.5144\n"
     ]
    },
    {
     "name": "stderr",
     "output_type": "stream",
     "text": [
      "Training progress: 100%|██████████| 304/304 [00:24<00:00, 12.40batch/s]\n"
     ]
    },
    {
     "name": "stdout",
     "output_type": "stream",
     "text": [
      "Epoch 15/16, Train-Loss: 0.6926, Val-Loss: 0.6925, Val-F1: 0.6793, Val-Precision: 0.5144, Val-Recall: 1.0000, Val-Accuracy: 0.5144\n"
     ]
    },
    {
     "name": "stderr",
     "output_type": "stream",
     "text": [
      "Training progress: 100%|██████████| 304/304 [00:24<00:00, 12.40batch/s]\n"
     ]
    },
    {
     "name": "stdout",
     "output_type": "stream",
     "text": [
      "Epoch 16/16, Train-Loss: 0.6924, Val-Loss: 0.6924, Val-F1: 0.6793, Val-Precision: 0.5144, Val-Recall: 1.0000, Val-Accuracy: 0.5144\n",
      "\n",
      "\u001b[92mRESULTS:\n",
      " F1-Score:0.6789587852494577, Precision:0.5139573070607554, Recall:1.0, Accuracy:0.5139573070607554, BCE:0.692186176776886 \u001b[0m \n",
      "\n",
      "\n",
      "\u001b[91mRUN 9:\u001b[0m\n",
      " Ranga2024Circuit \n",
      " lr: 0.01\n"
     ]
    },
    {
     "name": "stderr",
     "output_type": "stream",
     "text": [
      "Training progress: 100%|██████████| 304/304 [01:03<00:00,  4.78batch/s]\n"
     ]
    },
    {
     "name": "stdout",
     "output_type": "stream",
     "text": [
      "Epoch 1/16, Train-Loss: 0.5680, Val-Loss: 0.4678, Val-F1: 0.8565, Val-Precision: 0.8338, Val-Recall: 0.8804, Val-Accuracy: 0.8482\n"
     ]
    },
    {
     "name": "stderr",
     "output_type": "stream",
     "text": [
      "Training progress: 100%|██████████| 304/304 [01:03<00:00,  4.77batch/s]\n"
     ]
    },
    {
     "name": "stdout",
     "output_type": "stream",
     "text": [
      "Epoch 2/16, Train-Loss: 0.4269, Val-Loss: 0.4079, Val-F1: 0.8565, Val-Precision: 0.8338, Val-Recall: 0.8804, Val-Accuracy: 0.8482\n"
     ]
    },
    {
     "name": "stderr",
     "output_type": "stream",
     "text": [
      "Training progress: 100%|██████████| 304/304 [01:03<00:00,  4.75batch/s]\n"
     ]
    },
    {
     "name": "stdout",
     "output_type": "stream",
     "text": [
      "Epoch 3/16, Train-Loss: 0.3936, Val-Loss: 0.3917, Val-F1: 0.8547, Val-Precision: 0.8333, Val-Recall: 0.8772, Val-Accuracy: 0.8466\n"
     ]
    },
    {
     "name": "stderr",
     "output_type": "stream",
     "text": [
      "Training progress: 100%|██████████| 304/304 [01:03<00:00,  4.77batch/s]\n"
     ]
    },
    {
     "name": "stdout",
     "output_type": "stream",
     "text": [
      "Epoch 4/16, Train-Loss: 0.3843, Val-Loss: 0.3868, Val-F1: 0.8554, Val-Precision: 0.8346, Val-Recall: 0.8772, Val-Accuracy: 0.8474\n"
     ]
    },
    {
     "name": "stderr",
     "output_type": "stream",
     "text": [
      "Training progress: 100%|██████████| 304/304 [01:03<00:00,  4.78batch/s]\n"
     ]
    },
    {
     "name": "stdout",
     "output_type": "stream",
     "text": [
      "Epoch 5/16, Train-Loss: 0.3811, Val-Loss: 0.3853, Val-F1: 0.8556, Val-Precision: 0.8336, Val-Recall: 0.8788, Val-Accuracy: 0.8474\n"
     ]
    },
    {
     "name": "stderr",
     "output_type": "stream",
     "text": [
      "Training progress: 100%|██████████| 304/304 [01:05<00:00,  4.62batch/s]\n"
     ]
    },
    {
     "name": "stdout",
     "output_type": "stream",
     "text": [
      "Epoch 6/16, Train-Loss: 0.3804, Val-Loss: 0.3852, Val-F1: 0.8522, Val-Precision: 0.8359, Val-Recall: 0.8692, Val-Accuracy: 0.8450\n"
     ]
    },
    {
     "name": "stderr",
     "output_type": "stream",
     "text": [
      "Training progress: 100%|██████████| 304/304 [01:04<00:00,  4.74batch/s]\n"
     ]
    },
    {
     "name": "stdout",
     "output_type": "stream",
     "text": [
      "Epoch 7/16, Train-Loss: 0.3803, Val-Loss: 0.3851, Val-F1: 0.8531, Val-Precision: 0.8361, Val-Recall: 0.8708, Val-Accuracy: 0.8458\n"
     ]
    },
    {
     "name": "stderr",
     "output_type": "stream",
     "text": [
      "Training progress: 100%|██████████| 304/304 [01:03<00:00,  4.76batch/s]\n"
     ]
    },
    {
     "name": "stdout",
     "output_type": "stream",
     "text": [
      "Epoch 8/16, Train-Loss: 0.3802, Val-Loss: 0.3854, Val-F1: 0.8536, Val-Precision: 0.8385, Val-Recall: 0.8692, Val-Accuracy: 0.8466\n"
     ]
    },
    {
     "name": "stderr",
     "output_type": "stream",
     "text": [
      "Training progress: 100%|██████████| 304/304 [01:03<00:00,  4.76batch/s]\n"
     ]
    },
    {
     "name": "stdout",
     "output_type": "stream",
     "text": [
      "Epoch 9/16, Train-Loss: 0.3803, Val-Loss: 0.3849, Val-F1: 0.8565, Val-Precision: 0.8338, Val-Recall: 0.8804, Val-Accuracy: 0.8482\n"
     ]
    },
    {
     "name": "stderr",
     "output_type": "stream",
     "text": [
      "Training progress: 100%|██████████| 304/304 [01:03<00:00,  4.76batch/s]\n"
     ]
    },
    {
     "name": "stdout",
     "output_type": "stream",
     "text": [
      "Epoch 10/16, Train-Loss: 0.3805, Val-Loss: 0.3855, Val-F1: 0.8531, Val-Precision: 0.8406, Val-Recall: 0.8660, Val-Accuracy: 0.8466\n"
     ]
    },
    {
     "name": "stderr",
     "output_type": "stream",
     "text": [
      "Training progress: 100%|██████████| 304/304 [01:03<00:00,  4.76batch/s]\n"
     ]
    },
    {
     "name": "stdout",
     "output_type": "stream",
     "text": [
      "Epoch 11/16, Train-Loss: 0.3801, Val-Loss: 0.3855, Val-F1: 0.8527, Val-Precision: 0.8382, Val-Recall: 0.8676, Val-Accuracy: 0.8458\n"
     ]
    },
    {
     "name": "stderr",
     "output_type": "stream",
     "text": [
      "Training progress: 100%|██████████| 304/304 [01:03<00:00,  4.77batch/s]\n"
     ]
    },
    {
     "name": "stdout",
     "output_type": "stream",
     "text": [
      "Epoch 12/16, Train-Loss: 0.3802, Val-Loss: 0.3856, Val-F1: 0.8531, Val-Precision: 0.8406, Val-Recall: 0.8660, Val-Accuracy: 0.8466\n"
     ]
    },
    {
     "name": "stderr",
     "output_type": "stream",
     "text": [
      "Training progress: 100%|██████████| 304/304 [01:04<00:00,  4.73batch/s]\n"
     ]
    },
    {
     "name": "stdout",
     "output_type": "stream",
     "text": [
      "Epoch 13/16, Train-Loss: 0.3797, Val-Loss: 0.3854, Val-F1: 0.8536, Val-Precision: 0.8385, Val-Recall: 0.8692, Val-Accuracy: 0.8466\n"
     ]
    },
    {
     "name": "stderr",
     "output_type": "stream",
     "text": [
      "Training progress: 100%|██████████| 304/304 [01:06<00:00,  4.58batch/s]\n"
     ]
    },
    {
     "name": "stdout",
     "output_type": "stream",
     "text": [
      "Epoch 14/16, Train-Loss: 0.3800, Val-Loss: 0.3850, Val-F1: 0.8545, Val-Precision: 0.8343, Val-Recall: 0.8756, Val-Accuracy: 0.8466\n"
     ]
    },
    {
     "name": "stderr",
     "output_type": "stream",
     "text": [
      "Training progress: 100%|██████████| 304/304 [01:04<00:00,  4.69batch/s]\n"
     ]
    },
    {
     "name": "stdout",
     "output_type": "stream",
     "text": [
      "Epoch 15/16, Train-Loss: 0.3807, Val-Loss: 0.3851, Val-F1: 0.8525, Val-Precision: 0.8349, Val-Recall: 0.8708, Val-Accuracy: 0.8450\n"
     ]
    },
    {
     "name": "stderr",
     "output_type": "stream",
     "text": [
      "Training progress: 100%|██████████| 304/304 [01:04<00:00,  4.73batch/s]\n"
     ]
    },
    {
     "name": "stdout",
     "output_type": "stream",
     "text": [
      "Epoch 16/16, Train-Loss: 0.3799, Val-Loss: 0.3852, Val-F1: 0.8522, Val-Precision: 0.8359, Val-Recall: 0.8692, Val-Accuracy: 0.8450\n",
      "\n",
      "\u001b[92mRESULTS:\n",
      " F1-Score:0.8615149196633511, Precision:0.8267254038179148, Recall:0.8993610223642172, Accuracy:0.8513957307060755, BCE:0.35314080119132996 \u001b[0m \n",
      "\n",
      "\n",
      "\u001b[91mRUN 10:\u001b[0m\n",
      " Ranga2024Circuit \n",
      " lr: 0.001\n"
     ]
    },
    {
     "name": "stderr",
     "output_type": "stream",
     "text": [
      "Training progress: 100%|██████████| 304/304 [01:03<00:00,  4.75batch/s]\n"
     ]
    },
    {
     "name": "stdout",
     "output_type": "stream",
     "text": [
      "Epoch 1/16, Train-Loss: 0.7194, Val-Loss: 0.6945, Val-F1: 0.6793, Val-Precision: 0.5144, Val-Recall: 1.0000, Val-Accuracy: 0.5144\n"
     ]
    },
    {
     "name": "stderr",
     "output_type": "stream",
     "text": [
      "Training progress: 100%|██████████| 304/304 [01:03<00:00,  4.77batch/s]\n"
     ]
    },
    {
     "name": "stdout",
     "output_type": "stream",
     "text": [
      "Epoch 2/16, Train-Loss: 0.6724, Val-Loss: 0.6520, Val-F1: 0.8561, Val-Precision: 0.8192, Val-Recall: 0.8963, Val-Accuracy: 0.8450\n"
     ]
    },
    {
     "name": "stderr",
     "output_type": "stream",
     "text": [
      "Training progress: 100%|██████████| 304/304 [01:03<00:00,  4.75batch/s]\n"
     ]
    },
    {
     "name": "stdout",
     "output_type": "stream",
     "text": [
      "Epoch 3/16, Train-Loss: 0.6320, Val-Loss: 0.6153, Val-F1: 0.8541, Val-Precision: 0.8237, Val-Recall: 0.8868, Val-Accuracy: 0.8441\n"
     ]
    },
    {
     "name": "stderr",
     "output_type": "stream",
     "text": [
      "Training progress: 100%|██████████| 304/304 [01:04<00:00,  4.69batch/s]\n"
     ]
    },
    {
     "name": "stdout",
     "output_type": "stream",
     "text": [
      "Epoch 4/16, Train-Loss: 0.5970, Val-Loss: 0.5833, Val-F1: 0.8556, Val-Precision: 0.8211, Val-Recall: 0.8931, Val-Accuracy: 0.8450\n"
     ]
    },
    {
     "name": "stderr",
     "output_type": "stream",
     "text": [
      "Training progress: 100%|██████████| 304/304 [01:04<00:00,  4.73batch/s]\n"
     ]
    },
    {
     "name": "stdout",
     "output_type": "stream",
     "text": [
      "Epoch 5/16, Train-Loss: 0.5666, Val-Loss: 0.5557, Val-F1: 0.8552, Val-Precision: 0.8190, Val-Recall: 0.8947, Val-Accuracy: 0.8441\n"
     ]
    },
    {
     "name": "stderr",
     "output_type": "stream",
     "text": [
      "Training progress: 100%|██████████| 304/304 [01:04<00:00,  4.74batch/s]\n"
     ]
    },
    {
     "name": "stdout",
     "output_type": "stream",
     "text": [
      "Epoch 6/16, Train-Loss: 0.5404, Val-Loss: 0.5317, Val-F1: 0.8561, Val-Precision: 0.8192, Val-Recall: 0.8963, Val-Accuracy: 0.8450\n"
     ]
    },
    {
     "name": "stderr",
     "output_type": "stream",
     "text": [
      "Training progress: 100%|██████████| 304/304 [01:04<00:00,  4.73batch/s]\n"
     ]
    },
    {
     "name": "stdout",
     "output_type": "stream",
     "text": [
      "Epoch 7/16, Train-Loss: 0.5178, Val-Loss: 0.5109, Val-F1: 0.8563, Val-Precision: 0.8183, Val-Recall: 0.8979, Val-Accuracy: 0.8450\n"
     ]
    },
    {
     "name": "stderr",
     "output_type": "stream",
     "text": [
      "Training progress: 100%|██████████| 304/304 [01:04<00:00,  4.73batch/s]\n"
     ]
    },
    {
     "name": "stdout",
     "output_type": "stream",
     "text": [
      "Epoch 8/16, Train-Loss: 0.4981, Val-Loss: 0.4929, Val-F1: 0.8561, Val-Precision: 0.8192, Val-Recall: 0.8963, Val-Accuracy: 0.8450\n"
     ]
    },
    {
     "name": "stderr",
     "output_type": "stream",
     "text": [
      "Training progress: 100%|██████████| 304/304 [01:04<00:00,  4.74batch/s]\n"
     ]
    },
    {
     "name": "stdout",
     "output_type": "stream",
     "text": [
      "Epoch 9/16, Train-Loss: 0.4813, Val-Loss: 0.4774, Val-F1: 0.8563, Val-Precision: 0.8183, Val-Recall: 0.8979, Val-Accuracy: 0.8450\n"
     ]
    },
    {
     "name": "stderr",
     "output_type": "stream",
     "text": [
      "Training progress: 100%|██████████| 304/304 [01:04<00:00,  4.73batch/s]\n"
     ]
    },
    {
     "name": "stdout",
     "output_type": "stream",
     "text": [
      "Epoch 10/16, Train-Loss: 0.4667, Val-Loss: 0.4639, Val-F1: 0.8552, Val-Precision: 0.8190, Val-Recall: 0.8947, Val-Accuracy: 0.8441\n"
     ]
    },
    {
     "name": "stderr",
     "output_type": "stream",
     "text": [
      "Training progress: 100%|██████████| 304/304 [01:04<00:00,  4.73batch/s]\n"
     ]
    },
    {
     "name": "stdout",
     "output_type": "stream",
     "text": [
      "Epoch 11/16, Train-Loss: 0.4537, Val-Loss: 0.4521, Val-F1: 0.8543, Val-Precision: 0.8187, Val-Recall: 0.8931, Val-Accuracy: 0.8433\n"
     ]
    },
    {
     "name": "stderr",
     "output_type": "stream",
     "text": [
      "Training progress: 100%|██████████| 304/304 [01:04<00:00,  4.72batch/s]\n"
     ]
    },
    {
     "name": "stdout",
     "output_type": "stream",
     "text": [
      "Epoch 12/16, Train-Loss: 0.4429, Val-Loss: 0.4420, Val-F1: 0.8547, Val-Precision: 0.8209, Val-Recall: 0.8915, Val-Accuracy: 0.8441\n"
     ]
    },
    {
     "name": "stderr",
     "output_type": "stream",
     "text": [
      "Training progress: 100%|██████████| 304/304 [01:03<00:00,  4.78batch/s]\n"
     ]
    },
    {
     "name": "stdout",
     "output_type": "stream",
     "text": [
      "Epoch 13/16, Train-Loss: 0.4330, Val-Loss: 0.4331, Val-F1: 0.8547, Val-Precision: 0.8209, Val-Recall: 0.8915, Val-Accuracy: 0.8441\n"
     ]
    },
    {
     "name": "stderr",
     "output_type": "stream",
     "text": [
      "Training progress: 100%|██████████| 304/304 [01:03<00:00,  4.80batch/s]\n"
     ]
    },
    {
     "name": "stdout",
     "output_type": "stream",
     "text": [
      "Epoch 14/16, Train-Loss: 0.4250, Val-Loss: 0.4255, Val-F1: 0.8536, Val-Precision: 0.8215, Val-Recall: 0.8884, Val-Accuracy: 0.8433\n"
     ]
    },
    {
     "name": "stderr",
     "output_type": "stream",
     "text": [
      "Training progress: 100%|██████████| 304/304 [01:02<00:00,  4.83batch/s]\n"
     ]
    },
    {
     "name": "stdout",
     "output_type": "stream",
     "text": [
      "Epoch 15/16, Train-Loss: 0.4182, Val-Loss: 0.4189, Val-F1: 0.8534, Val-Precision: 0.8225, Val-Recall: 0.8868, Val-Accuracy: 0.8433\n"
     ]
    },
    {
     "name": "stderr",
     "output_type": "stream",
     "text": [
      "Training progress: 100%|██████████| 304/304 [01:03<00:00,  4.79batch/s]\n"
     ]
    },
    {
     "name": "stdout",
     "output_type": "stream",
     "text": [
      "Epoch 16/16, Train-Loss: 0.4115, Val-Loss: 0.4132, Val-F1: 0.8545, Val-Precision: 0.8259, Val-Recall: 0.8852, Val-Accuracy: 0.8450\n",
      "\n",
      "\u001b[92mRESULTS:\n",
      " F1-Score:0.8573584905660377, Precision:0.8125894134477826, Recall:0.9073482428115016, Accuracy:0.8448275862068966, BCE:0.3939940631389618 \u001b[0m \n",
      "\n",
      "\n",
      "\u001b[91mRUN 11:\u001b[0m\n",
      " Senokosov2024Circuit \n",
      " lr: 0.01\n"
     ]
    },
    {
     "name": "stderr",
     "output_type": "stream",
     "text": [
      "Training progress: 100%|██████████| 304/304 [00:42<00:00,  7.10batch/s]\n"
     ]
    },
    {
     "name": "stdout",
     "output_type": "stream",
     "text": [
      "Epoch 1/16, Train-Loss: 0.6569, Val-Loss: 0.6135, Val-F1: 0.8536, Val-Precision: 0.7447, Val-Recall: 1.0000, Val-Accuracy: 0.8236\n"
     ]
    },
    {
     "name": "stderr",
     "output_type": "stream",
     "text": [
      "Training progress: 100%|██████████| 304/304 [00:42<00:00,  7.08batch/s]\n"
     ]
    },
    {
     "name": "stdout",
     "output_type": "stream",
     "text": [
      "Epoch 2/16, Train-Loss: 0.5764, Val-Loss: 0.5435, Val-F1: 0.8900, Val-Precision: 0.8018, Val-Recall: 1.0000, Val-Accuracy: 0.8728\n"
     ]
    },
    {
     "name": "stderr",
     "output_type": "stream",
     "text": [
      "Training progress: 100%|██████████| 304/304 [00:42<00:00,  7.09batch/s]\n"
     ]
    },
    {
     "name": "stdout",
     "output_type": "stream",
     "text": [
      "Epoch 3/16, Train-Loss: 0.5162, Val-Loss: 0.4906, Val-F1: 0.8900, Val-Precision: 0.8018, Val-Recall: 1.0000, Val-Accuracy: 0.8728\n"
     ]
    },
    {
     "name": "stderr",
     "output_type": "stream",
     "text": [
      "Training progress: 100%|██████████| 304/304 [00:42<00:00,  7.08batch/s]\n"
     ]
    },
    {
     "name": "stdout",
     "output_type": "stream",
     "text": [
      "Epoch 4/16, Train-Loss: 0.4710, Val-Loss: 0.4503, Val-F1: 0.9014, Val-Precision: 0.8215, Val-Recall: 0.9984, Val-Accuracy: 0.8876\n"
     ]
    },
    {
     "name": "stderr",
     "output_type": "stream",
     "text": [
      "Training progress: 100%|██████████| 304/304 [00:43<00:00,  7.06batch/s]\n"
     ]
    },
    {
     "name": "stdout",
     "output_type": "stream",
     "text": [
      "Epoch 5/16, Train-Loss: 0.4359, Val-Loss: 0.4185, Val-F1: 0.9014, Val-Precision: 0.8215, Val-Recall: 0.9984, Val-Accuracy: 0.8876\n"
     ]
    },
    {
     "name": "stderr",
     "output_type": "stream",
     "text": [
      "Training progress: 100%|██████████| 304/304 [00:42<00:00,  7.07batch/s]\n"
     ]
    },
    {
     "name": "stdout",
     "output_type": "stream",
     "text": [
      "Epoch 6/16, Train-Loss: 0.4081, Val-Loss: 0.3931, Val-F1: 0.9074, Val-Precision: 0.8360, Val-Recall: 0.9920, Val-Accuracy: 0.8958\n"
     ]
    },
    {
     "name": "stderr",
     "output_type": "stream",
     "text": [
      "Training progress: 100%|██████████| 304/304 [00:43<00:00,  7.07batch/s]\n"
     ]
    },
    {
     "name": "stdout",
     "output_type": "stream",
     "text": [
      "Epoch 7/16, Train-Loss: 0.3855, Val-Loss: 0.3724, Val-F1: 0.9079, Val-Precision: 0.8381, Val-Recall: 0.9904, Val-Accuracy: 0.8966\n"
     ]
    },
    {
     "name": "stderr",
     "output_type": "stream",
     "text": [
      "Training progress: 100%|██████████| 304/304 [00:42<00:00,  7.10batch/s]\n"
     ]
    },
    {
     "name": "stdout",
     "output_type": "stream",
     "text": [
      "Epoch 8/16, Train-Loss: 0.3670, Val-Loss: 0.3551, Val-F1: 0.9123, Val-Precision: 0.8479, Val-Recall: 0.9872, Val-Accuracy: 0.9024\n"
     ]
    },
    {
     "name": "stderr",
     "output_type": "stream",
     "text": [
      "Training progress: 100%|██████████| 304/304 [00:43<00:00,  7.06batch/s]\n"
     ]
    },
    {
     "name": "stdout",
     "output_type": "stream",
     "text": [
      "Epoch 9/16, Train-Loss: 0.3510, Val-Loss: 0.3402, Val-F1: 0.9111, Val-Precision: 0.8447, Val-Recall: 0.9888, Val-Accuracy: 0.9007\n"
     ]
    },
    {
     "name": "stderr",
     "output_type": "stream",
     "text": [
      "Training progress: 100%|██████████| 304/304 [00:42<00:00,  7.09batch/s]\n"
     ]
    },
    {
     "name": "stdout",
     "output_type": "stream",
     "text": [
      "Epoch 10/16, Train-Loss: 0.3375, Val-Loss: 0.3274, Val-F1: 0.9180, Val-Precision: 0.8615, Val-Recall: 0.9825, Val-Accuracy: 0.9098\n"
     ]
    },
    {
     "name": "stderr",
     "output_type": "stream",
     "text": [
      "Training progress: 100%|██████████| 304/304 [00:42<00:00,  7.09batch/s]\n"
     ]
    },
    {
     "name": "stdout",
     "output_type": "stream",
     "text": [
      "Epoch 11/16, Train-Loss: 0.3257, Val-Loss: 0.3162, Val-F1: 0.9193, Val-Precision: 0.8650, Val-Recall: 0.9809, Val-Accuracy: 0.9114\n"
     ]
    },
    {
     "name": "stderr",
     "output_type": "stream",
     "text": [
      "Training progress: 100%|██████████| 304/304 [00:42<00:00,  7.07batch/s]\n"
     ]
    },
    {
     "name": "stdout",
     "output_type": "stream",
     "text": [
      "Epoch 12/16, Train-Loss: 0.3153, Val-Loss: 0.3064, Val-F1: 0.9194, Val-Precision: 0.8640, Val-Recall: 0.9825, Val-Accuracy: 0.9114\n"
     ]
    },
    {
     "name": "stderr",
     "output_type": "stream",
     "text": [
      "Training progress: 100%|██████████| 304/304 [00:42<00:00,  7.08batch/s]\n"
     ]
    },
    {
     "name": "stdout",
     "output_type": "stream",
     "text": [
      "Epoch 13/16, Train-Loss: 0.3064, Val-Loss: 0.2982, Val-F1: 0.9217, Val-Precision: 0.8730, Val-Recall: 0.9761, Val-Accuracy: 0.9147\n"
     ]
    },
    {
     "name": "stderr",
     "output_type": "stream",
     "text": [
      "Training progress: 100%|██████████| 304/304 [00:43<00:00,  6.96batch/s]\n"
     ]
    },
    {
     "name": "stdout",
     "output_type": "stream",
     "text": [
      "Epoch 14/16, Train-Loss: 0.2989, Val-Loss: 0.2907, Val-F1: 0.9182, Val-Precision: 0.8605, Val-Recall: 0.9841, Val-Accuracy: 0.9098\n"
     ]
    },
    {
     "name": "stderr",
     "output_type": "stream",
     "text": [
      "Training progress: 100%|██████████| 304/304 [00:51<00:00,  5.96batch/s]\n"
     ]
    },
    {
     "name": "stdout",
     "output_type": "stream",
     "text": [
      "Epoch 15/16, Train-Loss: 0.2920, Val-Loss: 0.2839, Val-F1: 0.9200, Val-Precision: 0.8662, Val-Recall: 0.9809, Val-Accuracy: 0.9122\n"
     ]
    },
    {
     "name": "stderr",
     "output_type": "stream",
     "text": [
      "Training progress: 100%|██████████| 304/304 [00:43<00:00,  7.05batch/s]\n"
     ]
    },
    {
     "name": "stdout",
     "output_type": "stream",
     "text": [
      "Epoch 16/16, Train-Loss: 0.2860, Val-Loss: 0.2779, Val-F1: 0.9225, Val-Precision: 0.8732, Val-Recall: 0.9777, Val-Accuracy: 0.9155\n",
      "\n",
      "\u001b[92mRESULTS:\n",
      " F1-Score:0.9066467513069455, Precision:0.8513323983169705, Recall:0.9696485623003195, Accuracy:0.8973727422003284, BCE:0.2897269129753113 \u001b[0m \n",
      "\n",
      "\n",
      "\u001b[91mRUN 12:\u001b[0m\n",
      " Senokosov2024Circuit \n",
      " lr: 0.001\n"
     ]
    },
    {
     "name": "stderr",
     "output_type": "stream",
     "text": [
      "Training progress: 100%|██████████| 304/304 [00:42<00:00,  7.12batch/s]\n"
     ]
    },
    {
     "name": "stdout",
     "output_type": "stream",
     "text": [
      "Epoch 1/16, Train-Loss: 0.7018, Val-Loss: 0.6951, Val-F1: 0.6793, Val-Precision: 0.5144, Val-Recall: 1.0000, Val-Accuracy: 0.5144\n"
     ]
    },
    {
     "name": "stderr",
     "output_type": "stream",
     "text": [
      "Training progress: 100%|██████████| 304/304 [00:45<00:00,  6.66batch/s]\n"
     ]
    },
    {
     "name": "stdout",
     "output_type": "stream",
     "text": [
      "Epoch 2/16, Train-Loss: 0.6900, Val-Loss: 0.6849, Val-F1: 0.6793, Val-Precision: 0.5144, Val-Recall: 1.0000, Val-Accuracy: 0.5144\n"
     ]
    },
    {
     "name": "stderr",
     "output_type": "stream",
     "text": [
      "Training progress: 100%|██████████| 304/304 [00:44<00:00,  6.82batch/s]\n"
     ]
    },
    {
     "name": "stdout",
     "output_type": "stream",
     "text": [
      "Epoch 3/16, Train-Loss: 0.6801, Val-Loss: 0.6752, Val-F1: 0.6871, Val-Precision: 0.5234, Val-Recall: 1.0000, Val-Accuracy: 0.5316\n"
     ]
    },
    {
     "name": "stderr",
     "output_type": "stream",
     "text": [
      "Training progress: 100%|██████████| 304/304 [00:44<00:00,  6.90batch/s]\n"
     ]
    },
    {
     "name": "stdout",
     "output_type": "stream",
     "text": [
      "Epoch 4/16, Train-Loss: 0.6703, Val-Loss: 0.6656, Val-F1: 0.7129, Val-Precision: 0.5539, Val-Recall: 1.0000, Val-Accuracy: 0.5857\n"
     ]
    },
    {
     "name": "stderr",
     "output_type": "stream",
     "text": [
      "Training progress: 100%|██████████| 304/304 [00:45<00:00,  6.75batch/s]\n"
     ]
    },
    {
     "name": "stdout",
     "output_type": "stream",
     "text": [
      "Epoch 5/16, Train-Loss: 0.6607, Val-Loss: 0.6561, Val-F1: 0.7376, Val-Precision: 0.5843, Val-Recall: 1.0000, Val-Accuracy: 0.6341\n"
     ]
    },
    {
     "name": "stderr",
     "output_type": "stream",
     "text": [
      "Training progress: 100%|██████████| 304/304 [00:44<00:00,  6.77batch/s]\n"
     ]
    },
    {
     "name": "stdout",
     "output_type": "stream",
     "text": [
      "Epoch 6/16, Train-Loss: 0.6512, Val-Loss: 0.6467, Val-F1: 0.7554, Val-Precision: 0.6070, Val-Recall: 1.0000, Val-Accuracy: 0.6669\n"
     ]
    },
    {
     "name": "stderr",
     "output_type": "stream",
     "text": [
      "Training progress: 100%|██████████| 304/304 [00:44<00:00,  6.81batch/s]\n"
     ]
    },
    {
     "name": "stdout",
     "output_type": "stream",
     "text": [
      "Epoch 7/16, Train-Loss: 0.6419, Val-Loss: 0.6376, Val-F1: 0.7741, Val-Precision: 0.6314, Val-Recall: 1.0000, Val-Accuracy: 0.6998\n"
     ]
    },
    {
     "name": "stderr",
     "output_type": "stream",
     "text": [
      "Training progress: 100%|██████████| 304/304 [00:45<00:00,  6.74batch/s]\n"
     ]
    },
    {
     "name": "stdout",
     "output_type": "stream",
     "text": [
      "Epoch 8/16, Train-Loss: 0.6328, Val-Loss: 0.6287, Val-F1: 0.7867, Val-Precision: 0.6484, Val-Recall: 1.0000, Val-Accuracy: 0.7211\n"
     ]
    },
    {
     "name": "stderr",
     "output_type": "stream",
     "text": [
      "Training progress: 100%|██████████| 304/304 [00:44<00:00,  6.78batch/s]\n"
     ]
    },
    {
     "name": "stdout",
     "output_type": "stream",
     "text": [
      "Epoch 9/16, Train-Loss: 0.6240, Val-Loss: 0.6199, Val-F1: 0.7922, Val-Precision: 0.6559, Val-Recall: 1.0000, Val-Accuracy: 0.7301\n"
     ]
    },
    {
     "name": "stderr",
     "output_type": "stream",
     "text": [
      "Training progress: 100%|██████████| 304/304 [00:44<00:00,  6.76batch/s]\n"
     ]
    },
    {
     "name": "stdout",
     "output_type": "stream",
     "text": [
      "Epoch 10/16, Train-Loss: 0.6153, Val-Loss: 0.6113, Val-F1: 0.8033, Val-Precision: 0.6713, Val-Recall: 1.0000, Val-Accuracy: 0.7482\n"
     ]
    },
    {
     "name": "stderr",
     "output_type": "stream",
     "text": [
      "Training progress: 100%|██████████| 304/304 [00:45<00:00,  6.68batch/s]\n"
     ]
    },
    {
     "name": "stdout",
     "output_type": "stream",
     "text": [
      "Epoch 11/16, Train-Loss: 0.6069, Val-Loss: 0.6030, Val-F1: 0.8212, Val-Precision: 0.6967, Val-Recall: 1.0000, Val-Accuracy: 0.7760\n"
     ]
    },
    {
     "name": "stderr",
     "output_type": "stream",
     "text": [
      "Training progress: 100%|██████████| 304/304 [00:45<00:00,  6.75batch/s]\n"
     ]
    },
    {
     "name": "stdout",
     "output_type": "stream",
     "text": [
      "Epoch 12/16, Train-Loss: 0.5986, Val-Loss: 0.5949, Val-F1: 0.8266, Val-Precision: 0.7045, Val-Recall: 1.0000, Val-Accuracy: 0.7842\n"
     ]
    },
    {
     "name": "stderr",
     "output_type": "stream",
     "text": [
      "Training progress: 100%|██████████| 304/304 [00:45<00:00,  6.73batch/s]\n"
     ]
    },
    {
     "name": "stdout",
     "output_type": "stream",
     "text": [
      "Epoch 13/16, Train-Loss: 0.5907, Val-Loss: 0.5871, Val-F1: 0.8299, Val-Precision: 0.7093, Val-Recall: 1.0000, Val-Accuracy: 0.7892\n"
     ]
    },
    {
     "name": "stderr",
     "output_type": "stream",
     "text": [
      "Training progress: 100%|██████████| 304/304 [00:44<00:00,  6.79batch/s]\n"
     ]
    },
    {
     "name": "stdout",
     "output_type": "stream",
     "text": [
      "Epoch 14/16, Train-Loss: 0.5832, Val-Loss: 0.5796, Val-F1: 0.8338, Val-Precision: 0.7149, Val-Recall: 1.0000, Val-Accuracy: 0.7949\n"
     ]
    },
    {
     "name": "stderr",
     "output_type": "stream",
     "text": [
      "Training progress: 100%|██████████| 304/304 [00:44<00:00,  6.85batch/s]\n"
     ]
    },
    {
     "name": "stdout",
     "output_type": "stream",
     "text": [
      "Epoch 15/16, Train-Loss: 0.5758, Val-Loss: 0.5722, Val-F1: 0.8422, Val-Precision: 0.7274, Val-Recall: 1.0000, Val-Accuracy: 0.8072\n"
     ]
    },
    {
     "name": "stderr",
     "output_type": "stream",
     "text": [
      "Training progress: 100%|██████████| 304/304 [00:43<00:00,  6.92batch/s]\n"
     ]
    },
    {
     "name": "stdout",
     "output_type": "stream",
     "text": [
      "Epoch 16/16, Train-Loss: 0.5686, Val-Loss: 0.5650, Val-F1: 0.8484, Val-Precision: 0.7368, Val-Recall: 1.0000, Val-Accuracy: 0.8162\n",
      "\n",
      "\u001b[92mRESULTS:\n",
      " F1-Score:0.8436657681940701, Precision:0.7296037296037297, Recall:1.0, Accuracy:0.8095238095238095, BCE:0.5654133558273315 \u001b[0m \n",
      "\n",
      "\n",
      "\u001b[91mRUN 13:\u001b[0m\n",
      " Anusha2024Circuit \n",
      " lr: 0.01\n"
     ]
    },
    {
     "name": "stderr",
     "output_type": "stream",
     "text": [
      "Training progress: 100%|██████████| 304/304 [00:19<00:00, 15.92batch/s]\n"
     ]
    },
    {
     "name": "stdout",
     "output_type": "stream",
     "text": [
      "Epoch 1/16, Train-Loss: 0.6190, Val-Loss: 0.5596, Val-F1: 0.7670, Val-Precision: 0.8114, Val-Recall: 0.7273, Val-Accuracy: 0.7728\n"
     ]
    },
    {
     "name": "stderr",
     "output_type": "stream",
     "text": [
      "Training progress: 100%|██████████| 304/304 [00:19<00:00, 15.61batch/s]\n"
     ]
    },
    {
     "name": "stdout",
     "output_type": "stream",
     "text": [
      "Epoch 2/16, Train-Loss: 0.5380, Val-Loss: 0.5302, Val-F1: 0.7670, Val-Precision: 0.8114, Val-Recall: 0.7273, Val-Accuracy: 0.7728\n"
     ]
    },
    {
     "name": "stderr",
     "output_type": "stream",
     "text": [
      "Training progress: 100%|██████████| 304/304 [00:19<00:00, 15.94batch/s]\n"
     ]
    },
    {
     "name": "stdout",
     "output_type": "stream",
     "text": [
      "Epoch 3/16, Train-Loss: 0.5239, Val-Loss: 0.5247, Val-F1: 0.7709, Val-Precision: 0.8102, Val-Recall: 0.7352, Val-Accuracy: 0.7752\n"
     ]
    },
    {
     "name": "stderr",
     "output_type": "stream",
     "text": [
      "Training progress: 100%|██████████| 304/304 [00:18<00:00, 16.05batch/s]\n"
     ]
    },
    {
     "name": "stdout",
     "output_type": "stream",
     "text": [
      "Epoch 4/16, Train-Loss: 0.5217, Val-Loss: 0.5243, Val-F1: 0.7670, Val-Precision: 0.8114, Val-Recall: 0.7273, Val-Accuracy: 0.7728\n"
     ]
    },
    {
     "name": "stderr",
     "output_type": "stream",
     "text": [
      "Training progress: 100%|██████████| 304/304 [00:18<00:00, 16.16batch/s]\n"
     ]
    },
    {
     "name": "stdout",
     "output_type": "stream",
     "text": [
      "Epoch 5/16, Train-Loss: 0.5208, Val-Loss: 0.5240, Val-F1: 0.7701, Val-Precision: 0.8124, Val-Recall: 0.7321, Val-Accuracy: 0.7752\n"
     ]
    },
    {
     "name": "stderr",
     "output_type": "stream",
     "text": [
      "Training progress: 100%|██████████| 304/304 [00:18<00:00, 16.12batch/s]\n"
     ]
    },
    {
     "name": "stdout",
     "output_type": "stream",
     "text": [
      "Epoch 6/16, Train-Loss: 0.5211, Val-Loss: 0.5249, Val-F1: 0.7684, Val-Precision: 0.8207, Val-Recall: 0.7225, Val-Accuracy: 0.7760\n"
     ]
    },
    {
     "name": "stderr",
     "output_type": "stream",
     "text": [
      "Training progress: 100%|██████████| 304/304 [00:19<00:00, 15.98batch/s]\n"
     ]
    },
    {
     "name": "stdout",
     "output_type": "stream",
     "text": [
      "Epoch 7/16, Train-Loss: 0.5213, Val-Loss: 0.5240, Val-F1: 0.7715, Val-Precision: 0.8116, Val-Recall: 0.7352, Val-Accuracy: 0.7760\n"
     ]
    },
    {
     "name": "stderr",
     "output_type": "stream",
     "text": [
      "Training progress: 100%|██████████| 304/304 [00:19<00:00, 15.94batch/s]\n"
     ]
    },
    {
     "name": "stdout",
     "output_type": "stream",
     "text": [
      "Epoch 8/16, Train-Loss: 0.5210, Val-Loss: 0.5245, Val-F1: 0.7692, Val-Precision: 0.8183, Val-Recall: 0.7257, Val-Accuracy: 0.7760\n"
     ]
    },
    {
     "name": "stderr",
     "output_type": "stream",
     "text": [
      "Training progress: 100%|██████████| 304/304 [00:19<00:00, 15.50batch/s]\n"
     ]
    },
    {
     "name": "stdout",
     "output_type": "stream",
     "text": [
      "Epoch 9/16, Train-Loss: 0.5212, Val-Loss: 0.5239, Val-F1: 0.7683, Val-Precision: 0.8045, Val-Recall: 0.7352, Val-Accuracy: 0.7719\n"
     ]
    },
    {
     "name": "stderr",
     "output_type": "stream",
     "text": [
      "Training progress: 100%|██████████| 304/304 [00:19<00:00, 15.46batch/s]\n"
     ]
    },
    {
     "name": "stdout",
     "output_type": "stream",
     "text": [
      "Epoch 10/16, Train-Loss: 0.5210, Val-Loss: 0.5240, Val-F1: 0.7705, Val-Precision: 0.8113, Val-Recall: 0.7337, Val-Accuracy: 0.7752\n"
     ]
    },
    {
     "name": "stderr",
     "output_type": "stream",
     "text": [
      "Training progress: 100%|██████████| 304/304 [00:18<00:00, 16.01batch/s]\n"
     ]
    },
    {
     "name": "stdout",
     "output_type": "stream",
     "text": [
      "Epoch 11/16, Train-Loss: 0.5203, Val-Loss: 0.5243, Val-F1: 0.7670, Val-Precision: 0.8114, Val-Recall: 0.7273, Val-Accuracy: 0.7728\n"
     ]
    },
    {
     "name": "stderr",
     "output_type": "stream",
     "text": [
      "Training progress: 100%|██████████| 304/304 [00:18<00:00, 16.19batch/s]\n"
     ]
    },
    {
     "name": "stdout",
     "output_type": "stream",
     "text": [
      "Epoch 12/16, Train-Loss: 0.5215, Val-Loss: 0.5246, Val-F1: 0.7678, Val-Precision: 0.8192, Val-Recall: 0.7225, Val-Accuracy: 0.7752\n"
     ]
    },
    {
     "name": "stderr",
     "output_type": "stream",
     "text": [
      "Training progress: 100%|██████████| 304/304 [00:18<00:00, 16.21batch/s]\n"
     ]
    },
    {
     "name": "stdout",
     "output_type": "stream",
     "text": [
      "Epoch 13/16, Train-Loss: 0.5211, Val-Loss: 0.5250, Val-F1: 0.7698, Val-Precision: 0.8236, Val-Recall: 0.7225, Val-Accuracy: 0.7777\n"
     ]
    },
    {
     "name": "stderr",
     "output_type": "stream",
     "text": [
      "Training progress: 100%|██████████| 304/304 [00:18<00:00, 16.18batch/s]\n"
     ]
    },
    {
     "name": "stdout",
     "output_type": "stream",
     "text": [
      "Epoch 14/16, Train-Loss: 0.5207, Val-Loss: 0.5239, Val-F1: 0.7676, Val-Precision: 0.7973, Val-Recall: 0.7400, Val-Accuracy: 0.7695\n"
     ]
    },
    {
     "name": "stderr",
     "output_type": "stream",
     "text": [
      "Training progress: 100%|██████████| 304/304 [00:18<00:00, 16.14batch/s]\n"
     ]
    },
    {
     "name": "stdout",
     "output_type": "stream",
     "text": [
      "Epoch 15/16, Train-Loss: 0.5214, Val-Loss: 0.5239, Val-F1: 0.7645, Val-Precision: 0.7962, Val-Recall: 0.7352, Val-Accuracy: 0.7670\n"
     ]
    },
    {
     "name": "stderr",
     "output_type": "stream",
     "text": [
      "Training progress: 100%|██████████| 304/304 [00:18<00:00, 16.01batch/s]\n"
     ]
    },
    {
     "name": "stdout",
     "output_type": "stream",
     "text": [
      "Epoch 16/16, Train-Loss: 0.5204, Val-Loss: 0.5239, Val-F1: 0.7683, Val-Precision: 0.8045, Val-Recall: 0.7352, Val-Accuracy: 0.7719\n",
      "\n",
      "\u001b[92mRESULTS:\n",
      " F1-Score:0.7588477366255144, Precision:0.7826825127334465, Recall:0.7364217252396166, Accuracy:0.7594417077175698, BCE:0.5063403844833374 \u001b[0m \n",
      "\n",
      "\n",
      "\u001b[91mRUN 14:\u001b[0m\n",
      " Anusha2024Circuit \n",
      " lr: 0.001\n"
     ]
    },
    {
     "name": "stderr",
     "output_type": "stream",
     "text": [
      "Training progress: 100%|██████████| 304/304 [00:18<00:00, 16.04batch/s]\n"
     ]
    },
    {
     "name": "stdout",
     "output_type": "stream",
     "text": [
      "Epoch 1/16, Train-Loss: 0.7138, Val-Loss: 0.6960, Val-F1: 0.6793, Val-Precision: 0.5144, Val-Recall: 1.0000, Val-Accuracy: 0.5144\n"
     ]
    },
    {
     "name": "stderr",
     "output_type": "stream",
     "text": [
      "Training progress: 100%|██████████| 304/304 [00:19<00:00, 15.77batch/s]\n"
     ]
    },
    {
     "name": "stdout",
     "output_type": "stream",
     "text": [
      "Epoch 2/16, Train-Loss: 0.6817, Val-Loss: 0.6684, Val-F1: 0.6881, Val-Precision: 0.5377, Val-Recall: 0.9553, Val-Accuracy: 0.5546\n"
     ]
    },
    {
     "name": "stderr",
     "output_type": "stream",
     "text": [
      "Training progress: 100%|██████████| 304/304 [00:19<00:00, 15.77batch/s]\n"
     ]
    },
    {
     "name": "stdout",
     "output_type": "stream",
     "text": [
      "Epoch 3/16, Train-Loss: 0.6560, Val-Loss: 0.6451, Val-F1: 0.7345, Val-Precision: 0.6214, Val-Recall: 0.8979, Val-Accuracy: 0.6661\n"
     ]
    },
    {
     "name": "stderr",
     "output_type": "stream",
     "text": [
      "Training progress: 100%|██████████| 304/304 [00:18<00:00, 16.02batch/s]\n"
     ]
    },
    {
     "name": "stdout",
     "output_type": "stream",
     "text": [
      "Epoch 4/16, Train-Loss: 0.6340, Val-Loss: 0.6251, Val-F1: 0.7486, Val-Precision: 0.6717, Val-Recall: 0.8453, Val-Accuracy: 0.7080\n"
     ]
    },
    {
     "name": "stderr",
     "output_type": "stream",
     "text": [
      "Training progress: 100%|██████████| 304/304 [00:19<00:00, 15.96batch/s]\n"
     ]
    },
    {
     "name": "stdout",
     "output_type": "stream",
     "text": [
      "Epoch 5/16, Train-Loss: 0.6151, Val-Loss: 0.6081, Val-F1: 0.7504, Val-Precision: 0.7024, Val-Recall: 0.8054, Val-Accuracy: 0.7244\n"
     ]
    },
    {
     "name": "stderr",
     "output_type": "stream",
     "text": [
      "Training progress: 100%|██████████| 304/304 [00:19<00:00, 15.91batch/s]\n"
     ]
    },
    {
     "name": "stdout",
     "output_type": "stream",
     "text": [
      "Epoch 6/16, Train-Loss: 0.5992, Val-Loss: 0.5936, Val-F1: 0.7538, Val-Precision: 0.7239, Val-Recall: 0.7863, Val-Accuracy: 0.7358\n"
     ]
    },
    {
     "name": "stderr",
     "output_type": "stream",
     "text": [
      "Training progress: 100%|██████████| 304/304 [00:18<00:00, 16.04batch/s]\n"
     ]
    },
    {
     "name": "stdout",
     "output_type": "stream",
     "text": [
      "Epoch 7/16, Train-Loss: 0.5857, Val-Loss: 0.5813, Val-F1: 0.7574, Val-Precision: 0.7390, Val-Recall: 0.7767, Val-Accuracy: 0.7441\n"
     ]
    },
    {
     "name": "stderr",
     "output_type": "stream",
     "text": [
      "Training progress: 100%|██████████| 304/304 [00:18<00:00, 16.09batch/s]\n"
     ]
    },
    {
     "name": "stdout",
     "output_type": "stream",
     "text": [
      "Epoch 8/16, Train-Loss: 0.5742, Val-Loss: 0.5711, Val-F1: 0.7686, Val-Precision: 0.7638, Val-Recall: 0.7735, Val-Accuracy: 0.7605\n"
     ]
    },
    {
     "name": "stderr",
     "output_type": "stream",
     "text": [
      "Training progress: 100%|██████████| 304/304 [00:19<00:00, 15.88batch/s]\n"
     ]
    },
    {
     "name": "stdout",
     "output_type": "stream",
     "text": [
      "Epoch 9/16, Train-Loss: 0.5646, Val-Loss: 0.5625, Val-F1: 0.7678, Val-Precision: 0.7684, Val-Recall: 0.7671, Val-Accuracy: 0.7613\n"
     ]
    },
    {
     "name": "stderr",
     "output_type": "stream",
     "text": [
      "Training progress: 100%|██████████| 304/304 [00:19<00:00, 15.87batch/s]\n"
     ]
    },
    {
     "name": "stdout",
     "output_type": "stream",
     "text": [
      "Epoch 10/16, Train-Loss: 0.5566, Val-Loss: 0.5553, Val-F1: 0.7709, Val-Precision: 0.7829, Val-Recall: 0.7592, Val-Accuracy: 0.7678\n"
     ]
    },
    {
     "name": "stderr",
     "output_type": "stream",
     "text": [
      "Training progress: 100%|██████████| 304/304 [00:19<00:00, 15.85batch/s]\n"
     ]
    },
    {
     "name": "stdout",
     "output_type": "stream",
     "text": [
      "Epoch 11/16, Train-Loss: 0.5496, Val-Loss: 0.5493, Val-F1: 0.7709, Val-Precision: 0.7916, Val-Recall: 0.7512, Val-Accuracy: 0.7703\n"
     ]
    },
    {
     "name": "stderr",
     "output_type": "stream",
     "text": [
      "Training progress: 100%|██████████| 304/304 [00:19<00:00, 15.94batch/s]\n"
     ]
    },
    {
     "name": "stdout",
     "output_type": "stream",
     "text": [
      "Epoch 12/16, Train-Loss: 0.5447, Val-Loss: 0.5444, Val-F1: 0.7704, Val-Precision: 0.7959, Val-Recall: 0.7464, Val-Accuracy: 0.7711\n"
     ]
    },
    {
     "name": "stderr",
     "output_type": "stream",
     "text": [
      "Training progress: 100%|██████████| 304/304 [00:19<00:00, 15.82batch/s]\n"
     ]
    },
    {
     "name": "stdout",
     "output_type": "stream",
     "text": [
      "Epoch 13/16, Train-Loss: 0.5399, Val-Loss: 0.5403, Val-F1: 0.7704, Val-Precision: 0.7959, Val-Recall: 0.7464, Val-Accuracy: 0.7711\n"
     ]
    },
    {
     "name": "stderr",
     "output_type": "stream",
     "text": [
      "Training progress: 100%|██████████| 304/304 [00:19<00:00, 15.98batch/s]\n"
     ]
    },
    {
     "name": "stdout",
     "output_type": "stream",
     "text": [
      "Epoch 14/16, Train-Loss: 0.5358, Val-Loss: 0.5370, Val-F1: 0.7690, Val-Precision: 0.7966, Val-Recall: 0.7432, Val-Accuracy: 0.7703\n"
     ]
    },
    {
     "name": "stderr",
     "output_type": "stream",
     "text": [
      "Training progress: 100%|██████████| 304/304 [00:18<00:00, 16.03batch/s]\n"
     ]
    },
    {
     "name": "stdout",
     "output_type": "stream",
     "text": [
      "Epoch 15/16, Train-Loss: 0.5332, Val-Loss: 0.5342, Val-F1: 0.7680, Val-Precision: 0.7962, Val-Recall: 0.7416, Val-Accuracy: 0.7695\n"
     ]
    },
    {
     "name": "stderr",
     "output_type": "stream",
     "text": [
      "Training progress: 100%|██████████| 304/304 [00:19<00:00, 15.89batch/s]\n"
     ]
    },
    {
     "name": "stdout",
     "output_type": "stream",
     "text": [
      "Epoch 16/16, Train-Loss: 0.5299, Val-Loss: 0.5320, Val-F1: 0.7676, Val-Precision: 0.7973, Val-Recall: 0.7400, Val-Accuracy: 0.7695\n",
      "\n",
      "\u001b[92mRESULTS:\n",
      " F1-Score:0.7596390484003281, Precision:0.7807757166947723, Recall:0.7396166134185304, Accuracy:0.7594417077175698, BCE:0.5193570852279663 \u001b[0m \n",
      "\n",
      "\n",
      "\u001b[91mRUN 15:\u001b[0m\n",
      " DoubleEntanglementVLCircuit \n",
      " lr: 0.01\n"
     ]
    },
    {
     "name": "stderr",
     "output_type": "stream",
     "text": [
      "Training progress: 100%|██████████| 304/304 [00:25<00:00, 12.00batch/s]\n"
     ]
    },
    {
     "name": "stdout",
     "output_type": "stream",
     "text": [
      "Epoch 1/16, Train-Loss: 0.6525, Val-Loss: 0.6023, Val-F1: 0.8818, Val-Precision: 0.7926, Val-Recall: 0.9936, Val-Accuracy: 0.8630\n"
     ]
    },
    {
     "name": "stderr",
     "output_type": "stream",
     "text": [
      "Training progress: 100%|██████████| 304/304 [00:25<00:00, 12.13batch/s]\n"
     ]
    },
    {
     "name": "stdout",
     "output_type": "stream",
     "text": [
      "Epoch 2/16, Train-Loss: 0.5562, Val-Loss: 0.5181, Val-F1: 0.9222, Val-Precision: 0.8688, Val-Recall: 0.9825, Val-Accuracy: 0.9147\n"
     ]
    },
    {
     "name": "stderr",
     "output_type": "stream",
     "text": [
      "Training progress: 100%|██████████| 304/304 [00:24<00:00, 12.21batch/s]\n"
     ]
    },
    {
     "name": "stdout",
     "output_type": "stream",
     "text": [
      "Epoch 3/16, Train-Loss: 0.4818, Val-Loss: 0.4535, Val-F1: 0.9222, Val-Precision: 0.8688, Val-Recall: 0.9825, Val-Accuracy: 0.9147\n"
     ]
    },
    {
     "name": "stderr",
     "output_type": "stream",
     "text": [
      "Training progress: 100%|██████████| 304/304 [00:25<00:00, 11.76batch/s]\n"
     ]
    },
    {
     "name": "stdout",
     "output_type": "stream",
     "text": [
      "Epoch 4/16, Train-Loss: 0.4255, Val-Loss: 0.4042, Val-F1: 0.9312, Val-Precision: 0.8851, Val-Recall: 0.9825, Val-Accuracy: 0.9253\n"
     ]
    },
    {
     "name": "stderr",
     "output_type": "stream",
     "text": [
      "Training progress: 100%|██████████| 304/304 [00:25<00:00, 12.00batch/s]\n"
     ]
    },
    {
     "name": "stdout",
     "output_type": "stream",
     "text": [
      "Epoch 5/16, Train-Loss: 0.3818, Val-Loss: 0.3656, Val-F1: 0.9312, Val-Precision: 0.8851, Val-Recall: 0.9825, Val-Accuracy: 0.9253\n"
     ]
    },
    {
     "name": "stderr",
     "output_type": "stream",
     "text": [
      "Training progress: 100%|██████████| 304/304 [00:24<00:00, 12.25batch/s]\n"
     ]
    },
    {
     "name": "stdout",
     "output_type": "stream",
     "text": [
      "Epoch 6/16, Train-Loss: 0.3475, Val-Loss: 0.3352, Val-F1: 0.9368, Val-Precision: 0.8965, Val-Recall: 0.9809, Val-Accuracy: 0.9319\n"
     ]
    },
    {
     "name": "stderr",
     "output_type": "stream",
     "text": [
      "Training progress: 100%|██████████| 304/304 [00:25<00:00, 12.10batch/s]\n"
     ]
    },
    {
     "name": "stdout",
     "output_type": "stream",
     "text": [
      "Epoch 7/16, Train-Loss: 0.3199, Val-Loss: 0.3106, Val-F1: 0.9382, Val-Precision: 0.8991, Val-Recall: 0.9809, Val-Accuracy: 0.9336\n"
     ]
    },
    {
     "name": "stderr",
     "output_type": "stream",
     "text": [
      "Training progress: 100%|██████████| 304/304 [00:25<00:00, 11.70batch/s]\n"
     ]
    },
    {
     "name": "stdout",
     "output_type": "stream",
     "text": [
      "Epoch 8/16, Train-Loss: 0.2976, Val-Loss: 0.2904, Val-F1: 0.9483, Val-Precision: 0.9192, Val-Recall: 0.9793, Val-Accuracy: 0.9450\n"
     ]
    },
    {
     "name": "stderr",
     "output_type": "stream",
     "text": [
      "Training progress: 100%|██████████| 304/304 [00:25<00:00, 12.13batch/s]\n"
     ]
    },
    {
     "name": "stdout",
     "output_type": "stream",
     "text": [
      "Epoch 9/16, Train-Loss: 0.2786, Val-Loss: 0.2730, Val-F1: 0.9453, Val-Precision: 0.9137, Val-Recall: 0.9793, Val-Accuracy: 0.9418\n"
     ]
    },
    {
     "name": "stderr",
     "output_type": "stream",
     "text": [
      "Training progress: 100%|██████████| 304/304 [00:25<00:00, 12.05batch/s]\n"
     ]
    },
    {
     "name": "stdout",
     "output_type": "stream",
     "text": [
      "Epoch 10/16, Train-Loss: 0.2626, Val-Loss: 0.2586, Val-F1: 0.9512, Val-Precision: 0.9247, Val-Recall: 0.9793, Val-Accuracy: 0.9483\n"
     ]
    },
    {
     "name": "stderr",
     "output_type": "stream",
     "text": [
      "Training progress: 100%|██████████| 304/304 [00:25<00:00, 11.72batch/s]\n"
     ]
    },
    {
     "name": "stdout",
     "output_type": "stream",
     "text": [
      "Epoch 11/16, Train-Loss: 0.2489, Val-Loss: 0.2460, Val-F1: 0.9504, Val-Precision: 0.9246, Val-Recall: 0.9777, Val-Accuracy: 0.9475\n"
     ]
    },
    {
     "name": "stderr",
     "output_type": "stream",
     "text": [
      "Training progress: 100%|██████████| 304/304 [00:25<00:00, 11.95batch/s]\n"
     ]
    },
    {
     "name": "stdout",
     "output_type": "stream",
     "text": [
      "Epoch 12/16, Train-Loss: 0.2370, Val-Loss: 0.2352, Val-F1: 0.9504, Val-Precision: 0.9246, Val-Recall: 0.9777, Val-Accuracy: 0.9475\n"
     ]
    },
    {
     "name": "stderr",
     "output_type": "stream",
     "text": [
      "Training progress: 100%|██████████| 304/304 [00:25<00:00, 12.08batch/s]\n"
     ]
    },
    {
     "name": "stdout",
     "output_type": "stream",
     "text": [
      "Epoch 13/16, Train-Loss: 0.2268, Val-Loss: 0.2263, Val-F1: 0.9516, Val-Precision: 0.9326, Val-Recall: 0.9713, Val-Accuracy: 0.9491\n"
     ]
    },
    {
     "name": "stderr",
     "output_type": "stream",
     "text": [
      "Training progress: 100%|██████████| 304/304 [00:26<00:00, 11.38batch/s]\n"
     ]
    },
    {
     "name": "stdout",
     "output_type": "stream",
     "text": [
      "Epoch 14/16, Train-Loss: 0.2183, Val-Loss: 0.2178, Val-F1: 0.9512, Val-Precision: 0.9247, Val-Recall: 0.9793, Val-Accuracy: 0.9483\n"
     ]
    },
    {
     "name": "stderr",
     "output_type": "stream",
     "text": [
      "Training progress: 100%|██████████| 304/304 [00:25<00:00, 12.12batch/s]\n"
     ]
    },
    {
     "name": "stdout",
     "output_type": "stream",
     "text": [
      "Epoch 15/16, Train-Loss: 0.2106, Val-Loss: 0.2107, Val-F1: 0.9504, Val-Precision: 0.9246, Val-Recall: 0.9777, Val-Accuracy: 0.9475\n"
     ]
    },
    {
     "name": "stderr",
     "output_type": "stream",
     "text": [
      "Training progress: 100%|██████████| 304/304 [00:24<00:00, 12.16batch/s]\n"
     ]
    },
    {
     "name": "stdout",
     "output_type": "stream",
     "text": [
      "Epoch 16/16, Train-Loss: 0.2034, Val-Loss: 0.2043, Val-F1: 0.9516, Val-Precision: 0.9313, Val-Recall: 0.9729, Val-Accuracy: 0.9491\n",
      "\n",
      "\u001b[92mRESULTS:\n",
      " F1-Score:0.9438893159108378, Precision:0.9096296296296297, Recall:0.9808306709265175, Accuracy:0.9400656814449918, BCE:0.2007744163274765 \u001b[0m \n",
      "\n",
      "\n",
      "\u001b[91mRUN 16:\u001b[0m\n",
      " DoubleEntanglementVLCircuit \n",
      " lr: 0.001\n"
     ]
    },
    {
     "name": "stderr",
     "output_type": "stream",
     "text": [
      "Training progress: 100%|██████████| 304/304 [00:24<00:00, 12.19batch/s]\n"
     ]
    },
    {
     "name": "stdout",
     "output_type": "stream",
     "text": [
      "Epoch 1/16, Train-Loss: 0.7061, Val-Loss: 0.6969, Val-F1: 0.6793, Val-Precision: 0.5144, Val-Recall: 1.0000, Val-Accuracy: 0.5144\n"
     ]
    },
    {
     "name": "stderr",
     "output_type": "stream",
     "text": [
      "Training progress: 100%|██████████| 304/304 [00:24<00:00, 12.20batch/s]\n"
     ]
    },
    {
     "name": "stdout",
     "output_type": "stream",
     "text": [
      "Epoch 2/16, Train-Loss: 0.6908, Val-Loss: 0.6849, Val-F1: 0.6793, Val-Precision: 0.5144, Val-Recall: 1.0000, Val-Accuracy: 0.5144\n"
     ]
    },
    {
     "name": "stderr",
     "output_type": "stream",
     "text": [
      "Training progress: 100%|██████████| 304/304 [00:24<00:00, 12.23batch/s]\n"
     ]
    },
    {
     "name": "stdout",
     "output_type": "stream",
     "text": [
      "Epoch 3/16, Train-Loss: 0.6793, Val-Loss: 0.6738, Val-F1: 0.6793, Val-Precision: 0.5144, Val-Recall: 1.0000, Val-Accuracy: 0.5144\n"
     ]
    },
    {
     "name": "stderr",
     "output_type": "stream",
     "text": [
      "Training progress: 100%|██████████| 304/304 [00:24<00:00, 12.21batch/s]\n"
     ]
    },
    {
     "name": "stdout",
     "output_type": "stream",
     "text": [
      "Epoch 4/16, Train-Loss: 0.6679, Val-Loss: 0.6627, Val-F1: 0.6868, Val-Precision: 0.5234, Val-Recall: 0.9984, Val-Accuracy: 0.5316\n"
     ]
    },
    {
     "name": "stderr",
     "output_type": "stream",
     "text": [
      "Training progress: 100%|██████████| 304/304 [00:24<00:00, 12.20batch/s]\n"
     ]
    },
    {
     "name": "stdout",
     "output_type": "stream",
     "text": [
      "Epoch 5/16, Train-Loss: 0.6568, Val-Loss: 0.6516, Val-F1: 0.7098, Val-Precision: 0.5506, Val-Recall: 0.9984, Val-Accuracy: 0.5800\n"
     ]
    },
    {
     "name": "stderr",
     "output_type": "stream",
     "text": [
      "Training progress: 100%|██████████| 304/304 [00:24<00:00, 12.21batch/s]\n"
     ]
    },
    {
     "name": "stdout",
     "output_type": "stream",
     "text": [
      "Epoch 6/16, Train-Loss: 0.6456, Val-Loss: 0.6407, Val-F1: 0.7352, Val-Precision: 0.5818, Val-Recall: 0.9984, Val-Accuracy: 0.6300\n"
     ]
    },
    {
     "name": "stderr",
     "output_type": "stream",
     "text": [
      "Training progress: 100%|██████████| 304/304 [00:24<00:00, 12.19batch/s]\n"
     ]
    },
    {
     "name": "stdout",
     "output_type": "stream",
     "text": [
      "Epoch 7/16, Train-Loss: 0.6346, Val-Loss: 0.6300, Val-F1: 0.7565, Val-Precision: 0.6089, Val-Recall: 0.9984, Val-Accuracy: 0.6694\n"
     ]
    },
    {
     "name": "stderr",
     "output_type": "stream",
     "text": [
      "Training progress: 100%|██████████| 304/304 [00:24<00:00, 12.21batch/s]\n"
     ]
    },
    {
     "name": "stdout",
     "output_type": "stream",
     "text": [
      "Epoch 8/16, Train-Loss: 0.6238, Val-Loss: 0.6195, Val-F1: 0.7810, Val-Precision: 0.6414, Val-Recall: 0.9984, Val-Accuracy: 0.7121\n"
     ]
    },
    {
     "name": "stderr",
     "output_type": "stream",
     "text": [
      "Training progress: 100%|██████████| 304/304 [00:24<00:00, 12.19batch/s]\n"
     ]
    },
    {
     "name": "stdout",
     "output_type": "stream",
     "text": [
      "Epoch 9/16, Train-Loss: 0.6132, Val-Loss: 0.6091, Val-F1: 0.7929, Val-Precision: 0.6576, Val-Recall: 0.9984, Val-Accuracy: 0.7317\n"
     ]
    },
    {
     "name": "stderr",
     "output_type": "stream",
     "text": [
      "Training progress: 100%|██████████| 304/304 [00:24<00:00, 12.18batch/s]\n"
     ]
    },
    {
     "name": "stdout",
     "output_type": "stream",
     "text": [
      "Epoch 10/16, Train-Loss: 0.6028, Val-Loss: 0.5989, Val-F1: 0.8106, Val-Precision: 0.6831, Val-Recall: 0.9968, Val-Accuracy: 0.7605\n"
     ]
    },
    {
     "name": "stderr",
     "output_type": "stream",
     "text": [
      "Training progress: 100%|██████████| 304/304 [00:24<00:00, 12.33batch/s]\n"
     ]
    },
    {
     "name": "stdout",
     "output_type": "stream",
     "text": [
      "Epoch 11/16, Train-Loss: 0.5927, Val-Loss: 0.5889, Val-F1: 0.8306, Val-Precision: 0.7118, Val-Recall: 0.9968, Val-Accuracy: 0.7908\n"
     ]
    },
    {
     "name": "stderr",
     "output_type": "stream",
     "text": [
      "Training progress: 100%|██████████| 304/304 [00:24<00:00, 12.25batch/s]\n"
     ]
    },
    {
     "name": "stdout",
     "output_type": "stream",
     "text": [
      "Epoch 12/16, Train-Loss: 0.5827, Val-Loss: 0.5792, Val-F1: 0.8446, Val-Precision: 0.7327, Val-Recall: 0.9968, Val-Accuracy: 0.8113\n"
     ]
    },
    {
     "name": "stderr",
     "output_type": "stream",
     "text": [
      "Training progress: 100%|██████████| 304/304 [00:24<00:00, 12.28batch/s]\n"
     ]
    },
    {
     "name": "stdout",
     "output_type": "stream",
     "text": [
      "Epoch 13/16, Train-Loss: 0.5731, Val-Loss: 0.5700, Val-F1: 0.8480, Val-Precision: 0.7379, Val-Recall: 0.9968, Val-Accuracy: 0.8162\n"
     ]
    },
    {
     "name": "stderr",
     "output_type": "stream",
     "text": [
      "Training progress: 100%|██████████| 304/304 [00:24<00:00, 12.28batch/s]\n"
     ]
    },
    {
     "name": "stdout",
     "output_type": "stream",
     "text": [
      "Epoch 14/16, Train-Loss: 0.5639, Val-Loss: 0.5609, Val-F1: 0.8566, Val-Precision: 0.7518, Val-Recall: 0.9952, Val-Accuracy: 0.8285\n"
     ]
    },
    {
     "name": "stderr",
     "output_type": "stream",
     "text": [
      "Training progress: 100%|██████████| 304/304 [00:24<00:00, 12.26batch/s]\n"
     ]
    },
    {
     "name": "stdout",
     "output_type": "stream",
     "text": [
      "Epoch 15/16, Train-Loss: 0.5550, Val-Loss: 0.5521, Val-F1: 0.8659, Val-Precision: 0.7672, Val-Recall: 0.9936, Val-Accuracy: 0.8417\n"
     ]
    },
    {
     "name": "stderr",
     "output_type": "stream",
     "text": [
      "Training progress: 100%|██████████| 304/304 [00:24<00:00, 12.26batch/s]\n"
     ]
    },
    {
     "name": "stdout",
     "output_type": "stream",
     "text": [
      "Epoch 16/16, Train-Loss: 0.5461, Val-Loss: 0.5435, Val-F1: 0.8812, Val-Precision: 0.7916, Val-Recall: 0.9936, Val-Accuracy: 0.8622\n",
      "\n",
      "\u001b[92mRESULTS:\n",
      " F1-Score:0.8710801393728222, Precision:0.7725587144622992, Recall:0.9984025559105432, Accuracy:0.8481116584564861, BCE:0.542249858379364 \u001b[0m \n",
      "\n",
      "\n",
      "\u001b[91mRUN 17:\u001b[0m\n",
      " Ranga2024Circuit \n",
      " lr: 0.01\n"
     ]
    },
    {
     "name": "stderr",
     "output_type": "stream",
     "text": [
      "Training progress: 100%|██████████| 304/304 [01:04<00:00,  4.74batch/s]\n"
     ]
    },
    {
     "name": "stdout",
     "output_type": "stream",
     "text": [
      "Epoch 1/16, Train-Loss: 0.7027, Val-Loss: 0.6899, Val-F1: 0.6742, Val-Precision: 0.5223, Val-Recall: 0.9506, Val-Accuracy: 0.5275\n"
     ]
    },
    {
     "name": "stderr",
     "output_type": "stream",
     "text": [
      "Training progress: 100%|██████████| 304/304 [01:04<00:00,  4.73batch/s]\n"
     ]
    },
    {
     "name": "stdout",
     "output_type": "stream",
     "text": [
      "Epoch 2/16, Train-Loss: 0.6873, Val-Loss: 0.6846, Val-F1: 0.6170, Val-Precision: 0.5476, Val-Recall: 0.7065, Val-Accuracy: 0.5488\n"
     ]
    },
    {
     "name": "stderr",
     "output_type": "stream",
     "text": [
      "Training progress: 100%|██████████| 304/304 [01:03<00:00,  4.81batch/s]\n"
     ]
    },
    {
     "name": "stdout",
     "output_type": "stream",
     "text": [
      "Epoch 3/16, Train-Loss: 0.6846, Val-Loss: 0.6829, Val-F1: 0.6208, Val-Precision: 0.5339, Val-Recall: 0.7416, Val-Accuracy: 0.5340\n"
     ]
    },
    {
     "name": "stderr",
     "output_type": "stream",
     "text": [
      "Training progress: 100%|██████████| 304/304 [01:03<00:00,  4.82batch/s]\n"
     ]
    },
    {
     "name": "stdout",
     "output_type": "stream",
     "text": [
      "Epoch 4/16, Train-Loss: 0.6838, Val-Loss: 0.6830, Val-F1: 0.6044, Val-Precision: 0.5643, Val-Recall: 0.6507, Val-Accuracy: 0.5619\n"
     ]
    },
    {
     "name": "stderr",
     "output_type": "stream",
     "text": [
      "Training progress: 100%|██████████| 304/304 [01:03<00:00,  4.80batch/s]\n"
     ]
    },
    {
     "name": "stdout",
     "output_type": "stream",
     "text": [
      "Epoch 5/16, Train-Loss: 0.6837, Val-Loss: 0.6827, Val-F1: 0.6070, Val-Precision: 0.5617, Val-Recall: 0.6603, Val-Accuracy: 0.5603\n"
     ]
    },
    {
     "name": "stderr",
     "output_type": "stream",
     "text": [
      "Training progress: 100%|██████████| 304/304 [01:03<00:00,  4.79batch/s]\n"
     ]
    },
    {
     "name": "stdout",
     "output_type": "stream",
     "text": [
      "Epoch 6/16, Train-Loss: 0.6836, Val-Loss: 0.6827, Val-F1: 0.6069, Val-Precision: 0.5627, Val-Recall: 0.6587, Val-Accuracy: 0.5611\n"
     ]
    },
    {
     "name": "stderr",
     "output_type": "stream",
     "text": [
      "Training progress: 100%|██████████| 304/304 [01:03<00:00,  4.82batch/s]\n"
     ]
    },
    {
     "name": "stdout",
     "output_type": "stream",
     "text": [
      "Epoch 7/16, Train-Loss: 0.6837, Val-Loss: 0.6824, Val-F1: 0.6148, Val-Precision: 0.5604, Val-Recall: 0.6810, Val-Accuracy: 0.5611\n"
     ]
    },
    {
     "name": "stderr",
     "output_type": "stream",
     "text": [
      "Training progress: 100%|██████████| 304/304 [01:03<00:00,  4.80batch/s]\n"
     ]
    },
    {
     "name": "stdout",
     "output_type": "stream",
     "text": [
      "Epoch 8/16, Train-Loss: 0.6838, Val-Loss: 0.6825, Val-F1: 0.6210, Val-Precision: 0.5401, Val-Recall: 0.7305, Val-Accuracy: 0.5414\n"
     ]
    },
    {
     "name": "stderr",
     "output_type": "stream",
     "text": [
      "Training progress: 100%|██████████| 304/304 [01:03<00:00,  4.80batch/s]\n"
     ]
    },
    {
     "name": "stdout",
     "output_type": "stream",
     "text": [
      "Epoch 9/16, Train-Loss: 0.6837, Val-Loss: 0.6823, Val-F1: 0.6188, Val-Precision: 0.5457, Val-Recall: 0.7145, Val-Accuracy: 0.5472\n"
     ]
    },
    {
     "name": "stderr",
     "output_type": "stream",
     "text": [
      "Training progress: 100%|██████████| 304/304 [01:03<00:00,  4.81batch/s]\n"
     ]
    },
    {
     "name": "stdout",
     "output_type": "stream",
     "text": [
      "Epoch 10/16, Train-Loss: 0.6837, Val-Loss: 0.6833, Val-F1: 0.5937, Val-Precision: 0.5706, Val-Recall: 0.6188, Val-Accuracy: 0.5644\n"
     ]
    },
    {
     "name": "stderr",
     "output_type": "stream",
     "text": [
      "Training progress: 100%|██████████| 304/304 [01:03<00:00,  4.82batch/s]\n"
     ]
    },
    {
     "name": "stdout",
     "output_type": "stream",
     "text": [
      "Epoch 11/16, Train-Loss: 0.6838, Val-Loss: 0.6826, Val-F1: 0.6079, Val-Precision: 0.5633, Val-Recall: 0.6603, Val-Accuracy: 0.5619\n"
     ]
    },
    {
     "name": "stderr",
     "output_type": "stream",
     "text": [
      "Training progress: 100%|██████████| 304/304 [01:03<00:00,  4.81batch/s]\n"
     ]
    },
    {
     "name": "stdout",
     "output_type": "stream",
     "text": [
      "Epoch 12/16, Train-Loss: 0.6838, Val-Loss: 0.6826, Val-F1: 0.6216, Val-Precision: 0.5393, Val-Recall: 0.7337, Val-Accuracy: 0.5406\n"
     ]
    },
    {
     "name": "stderr",
     "output_type": "stream",
     "text": [
      "Training progress: 100%|██████████| 304/304 [01:03<00:00,  4.81batch/s]\n"
     ]
    },
    {
     "name": "stdout",
     "output_type": "stream",
     "text": [
      "Epoch 13/16, Train-Loss: 0.6834, Val-Loss: 0.6826, Val-F1: 0.6063, Val-Precision: 0.5628, Val-Recall: 0.6571, Val-Accuracy: 0.5611\n"
     ]
    },
    {
     "name": "stderr",
     "output_type": "stream",
     "text": [
      "Training progress: 100%|██████████| 304/304 [01:03<00:00,  4.80batch/s]\n"
     ]
    },
    {
     "name": "stdout",
     "output_type": "stream",
     "text": [
      "Epoch 14/16, Train-Loss: 0.6832, Val-Loss: 0.6824, Val-F1: 0.6098, Val-Precision: 0.5575, Val-Recall: 0.6730, Val-Accuracy: 0.5570\n"
     ]
    },
    {
     "name": "stderr",
     "output_type": "stream",
     "text": [
      "Training progress: 100%|██████████| 304/304 [01:03<00:00,  4.81batch/s]\n"
     ]
    },
    {
     "name": "stdout",
     "output_type": "stream",
     "text": [
      "Epoch 15/16, Train-Loss: 0.6838, Val-Loss: 0.6833, Val-F1: 0.5939, Val-Precision: 0.5695, Val-Recall: 0.6204, Val-Accuracy: 0.5636\n"
     ]
    },
    {
     "name": "stderr",
     "output_type": "stream",
     "text": [
      "Training progress: 100%|██████████| 304/304 [01:03<00:00,  4.81batch/s]\n"
     ]
    },
    {
     "name": "stdout",
     "output_type": "stream",
     "text": [
      "Epoch 16/16, Train-Loss: 0.6835, Val-Loss: 0.6823, Val-F1: 0.6156, Val-Precision: 0.5543, Val-Recall: 0.6922, Val-Accuracy: 0.5554\n",
      "\n",
      "\u001b[92mRESULTS:\n",
      " F1-Score:0.613652357494722, Precision:0.5484276729559748, Recall:0.6964856230031949, Accuracy:0.5492610837438424, BCE:0.6809724569320679 \u001b[0m \n",
      "\n",
      "\n",
      "\u001b[91mRUN 18:\u001b[0m\n",
      " Ranga2024Circuit \n",
      " lr: 0.001\n"
     ]
    },
    {
     "name": "stderr",
     "output_type": "stream",
     "text": [
      "Training progress: 100%|██████████| 304/304 [01:03<00:00,  4.80batch/s]\n"
     ]
    },
    {
     "name": "stdout",
     "output_type": "stream",
     "text": [
      "Epoch 1/16, Train-Loss: 0.7507, Val-Loss: 0.7234, Val-F1: 0.2027, Val-Precision: 0.4505, Val-Recall: 0.1308, Val-Accuracy: 0.4709\n"
     ]
    },
    {
     "name": "stderr",
     "output_type": "stream",
     "text": [
      "Training progress: 100%|██████████| 304/304 [01:03<00:00,  4.80batch/s]\n"
     ]
    },
    {
     "name": "stdout",
     "output_type": "stream",
     "text": [
      "Epoch 2/16, Train-Loss: 0.7115, Val-Loss: 0.7054, Val-F1: 0.3834, Val-Precision: 0.4401, Val-Recall: 0.3397, Val-Accuracy: 0.4381\n"
     ]
    },
    {
     "name": "stderr",
     "output_type": "stream",
     "text": [
      "Training progress: 100%|██████████| 304/304 [01:03<00:00,  4.80batch/s]\n"
     ]
    },
    {
     "name": "stdout",
     "output_type": "stream",
     "text": [
      "Epoch 3/16, Train-Loss: 0.7024, Val-Loss: 0.7010, Val-F1: 0.5807, Val-Precision: 0.4721, Val-Recall: 0.7544, Val-Accuracy: 0.4397\n"
     ]
    },
    {
     "name": "stderr",
     "output_type": "stream",
     "text": [
      "Training progress: 100%|██████████| 304/304 [01:03<00:00,  4.80batch/s]\n"
     ]
    },
    {
     "name": "stdout",
     "output_type": "stream",
     "text": [
      "Epoch 4/16, Train-Loss: 0.6996, Val-Loss: 0.6987, Val-F1: 0.6793, Val-Precision: 0.5144, Val-Recall: 1.0000, Val-Accuracy: 0.5144\n"
     ]
    },
    {
     "name": "stderr",
     "output_type": "stream",
     "text": [
      "Training progress: 100%|██████████| 304/304 [01:03<00:00,  4.81batch/s]\n"
     ]
    },
    {
     "name": "stdout",
     "output_type": "stream",
     "text": [
      "Epoch 5/16, Train-Loss: 0.6976, Val-Loss: 0.6968, Val-F1: 0.6793, Val-Precision: 0.5144, Val-Recall: 1.0000, Val-Accuracy: 0.5144\n"
     ]
    },
    {
     "name": "stderr",
     "output_type": "stream",
     "text": [
      "Training progress: 100%|██████████| 304/304 [01:03<00:00,  4.80batch/s]\n"
     ]
    },
    {
     "name": "stdout",
     "output_type": "stream",
     "text": [
      "Epoch 6/16, Train-Loss: 0.6958, Val-Loss: 0.6950, Val-F1: 0.6793, Val-Precision: 0.5144, Val-Recall: 1.0000, Val-Accuracy: 0.5144\n"
     ]
    },
    {
     "name": "stderr",
     "output_type": "stream",
     "text": [
      "Training progress: 100%|██████████| 304/304 [01:03<00:00,  4.80batch/s]\n"
     ]
    },
    {
     "name": "stdout",
     "output_type": "stream",
     "text": [
      "Epoch 7/16, Train-Loss: 0.6942, Val-Loss: 0.6933, Val-F1: 0.6793, Val-Precision: 0.5144, Val-Recall: 1.0000, Val-Accuracy: 0.5144\n"
     ]
    },
    {
     "name": "stderr",
     "output_type": "stream",
     "text": [
      "Training progress: 100%|██████████| 304/304 [01:03<00:00,  4.79batch/s]\n"
     ]
    },
    {
     "name": "stdout",
     "output_type": "stream",
     "text": [
      "Epoch 8/16, Train-Loss: 0.6927, Val-Loss: 0.6919, Val-F1: 0.6793, Val-Precision: 0.5144, Val-Recall: 1.0000, Val-Accuracy: 0.5144\n"
     ]
    },
    {
     "name": "stderr",
     "output_type": "stream",
     "text": [
      "Training progress: 100%|██████████| 304/304 [01:03<00:00,  4.79batch/s]\n"
     ]
    },
    {
     "name": "stdout",
     "output_type": "stream",
     "text": [
      "Epoch 9/16, Train-Loss: 0.6914, Val-Loss: 0.6906, Val-F1: 0.6797, Val-Precision: 0.5152, Val-Recall: 0.9984, Val-Accuracy: 0.5160\n"
     ]
    },
    {
     "name": "stderr",
     "output_type": "stream",
     "text": [
      "Training progress: 100%|██████████| 304/304 [01:03<00:00,  4.81batch/s]\n"
     ]
    },
    {
     "name": "stdout",
     "output_type": "stream",
     "text": [
      "Epoch 10/16, Train-Loss: 0.6903, Val-Loss: 0.6895, Val-F1: 0.6742, Val-Precision: 0.5223, Val-Recall: 0.9506, Val-Accuracy: 0.5275\n"
     ]
    },
    {
     "name": "stderr",
     "output_type": "stream",
     "text": [
      "Training progress: 100%|██████████| 304/304 [01:03<00:00,  4.80batch/s]\n"
     ]
    },
    {
     "name": "stdout",
     "output_type": "stream",
     "text": [
      "Epoch 11/16, Train-Loss: 0.6894, Val-Loss: 0.6886, Val-F1: 0.6675, Val-Precision: 0.5289, Val-Recall: 0.9043, Val-Accuracy: 0.5365\n"
     ]
    },
    {
     "name": "stderr",
     "output_type": "stream",
     "text": [
      "Training progress: 100%|██████████| 304/304 [01:03<00:00,  4.79batch/s]\n"
     ]
    },
    {
     "name": "stdout",
     "output_type": "stream",
     "text": [
      "Epoch 12/16, Train-Loss: 0.6885, Val-Loss: 0.6877, Val-F1: 0.6546, Val-Precision: 0.5256, Val-Recall: 0.8676, Val-Accuracy: 0.5291\n"
     ]
    },
    {
     "name": "stderr",
     "output_type": "stream",
     "text": [
      "Training progress: 100%|██████████| 304/304 [01:03<00:00,  4.81batch/s]\n"
     ]
    },
    {
     "name": "stdout",
     "output_type": "stream",
     "text": [
      "Epoch 13/16, Train-Loss: 0.6878, Val-Loss: 0.6870, Val-F1: 0.6393, Val-Precision: 0.5245, Val-Recall: 0.8182, Val-Accuracy: 0.5250\n"
     ]
    },
    {
     "name": "stderr",
     "output_type": "stream",
     "text": [
      "Training progress: 100%|██████████| 304/304 [01:03<00:00,  4.81batch/s]\n"
     ]
    },
    {
     "name": "stdout",
     "output_type": "stream",
     "text": [
      "Epoch 14/16, Train-Loss: 0.6871, Val-Loss: 0.6863, Val-F1: 0.6401, Val-Precision: 0.5244, Val-Recall: 0.8214, Val-Accuracy: 0.5250\n"
     ]
    },
    {
     "name": "stderr",
     "output_type": "stream",
     "text": [
      "Training progress: 100%|██████████| 304/304 [01:03<00:00,  4.81batch/s]\n"
     ]
    },
    {
     "name": "stdout",
     "output_type": "stream",
     "text": [
      "Epoch 15/16, Train-Loss: 0.6866, Val-Loss: 0.6858, Val-F1: 0.6317, Val-Precision: 0.5272, Val-Recall: 0.7879, Val-Accuracy: 0.5275\n"
     ]
    },
    {
     "name": "stderr",
     "output_type": "stream",
     "text": [
      "Training progress: 100%|██████████| 304/304 [01:03<00:00,  4.80batch/s]\n"
     ]
    },
    {
     "name": "stdout",
     "output_type": "stream",
     "text": [
      "Epoch 16/16, Train-Loss: 0.6861, Val-Loss: 0.6853, Val-F1: 0.6211, Val-Precision: 0.5279, Val-Recall: 0.7544, Val-Accuracy: 0.5267\n",
      "\n",
      "\u001b[92mRESULTS:\n",
      " F1-Score:0.6391076115485564, Precision:0.5423162583518931, Recall:0.7779552715654952, Accuracy:0.548440065681445, BCE:0.6846910715103149 \u001b[0m \n",
      "\n",
      "\n",
      "\u001b[91mRUN 19:\u001b[0m\n",
      " Senokosov2024Circuit \n",
      " lr: 0.01\n"
     ]
    },
    {
     "name": "stderr",
     "output_type": "stream",
     "text": [
      "Training progress: 100%|██████████| 304/304 [00:42<00:00,  7.10batch/s]\n"
     ]
    },
    {
     "name": "stdout",
     "output_type": "stream",
     "text": [
      "Epoch 1/16, Train-Loss: 0.6881, Val-Loss: 0.6694, Val-F1: 0.8096, Val-Precision: 0.8089, Val-Recall: 0.8102, Val-Accuracy: 0.8039\n"
     ]
    },
    {
     "name": "stderr",
     "output_type": "stream",
     "text": [
      "Training progress: 100%|██████████| 304/304 [00:42<00:00,  7.10batch/s]\n"
     ]
    },
    {
     "name": "stdout",
     "output_type": "stream",
     "text": [
      "Epoch 2/16, Train-Loss: 0.6525, Val-Loss: 0.6383, Val-F1: 0.8203, Val-Precision: 0.7911, Val-Recall: 0.8517, Val-Accuracy: 0.8080\n"
     ]
    },
    {
     "name": "stderr",
     "output_type": "stream",
     "text": [
      "Training progress: 100%|██████████| 304/304 [00:42<00:00,  7.11batch/s]\n"
     ]
    },
    {
     "name": "stdout",
     "output_type": "stream",
     "text": [
      "Epoch 3/16, Train-Loss: 0.6230, Val-Loss: 0.6122, Val-F1: 0.8197, Val-Precision: 0.7410, Val-Recall: 0.9171, Val-Accuracy: 0.7925\n"
     ]
    },
    {
     "name": "stderr",
     "output_type": "stream",
     "text": [
      "Training progress: 100%|██████████| 304/304 [00:42<00:00,  7.11batch/s]\n"
     ]
    },
    {
     "name": "stdout",
     "output_type": "stream",
     "text": [
      "Epoch 4/16, Train-Loss: 0.5983, Val-Loss: 0.5903, Val-F1: 0.8221, Val-Precision: 0.7824, Val-Recall: 0.8660, Val-Accuracy: 0.8072\n"
     ]
    },
    {
     "name": "stderr",
     "output_type": "stream",
     "text": [
      "Training progress: 100%|██████████| 304/304 [00:42<00:00,  7.10batch/s]\n"
     ]
    },
    {
     "name": "stdout",
     "output_type": "stream",
     "text": [
      "Epoch 5/16, Train-Loss: 0.5775, Val-Loss: 0.5720, Val-F1: 0.8232, Val-Precision: 0.7792, Val-Recall: 0.8724, Val-Accuracy: 0.8072\n"
     ]
    },
    {
     "name": "stderr",
     "output_type": "stream",
     "text": [
      "Training progress: 100%|██████████| 304/304 [00:42<00:00,  7.09batch/s]\n"
     ]
    },
    {
     "name": "stdout",
     "output_type": "stream",
     "text": [
      "Epoch 6/16, Train-Loss: 0.5601, Val-Loss: 0.5568, Val-F1: 0.8230, Val-Precision: 0.7827, Val-Recall: 0.8676, Val-Accuracy: 0.8080\n"
     ]
    },
    {
     "name": "stderr",
     "output_type": "stream",
     "text": [
      "Training progress: 100%|██████████| 304/304 [00:42<00:00,  7.09batch/s]\n"
     ]
    },
    {
     "name": "stdout",
     "output_type": "stream",
     "text": [
      "Epoch 7/16, Train-Loss: 0.5455, Val-Loss: 0.5441, Val-F1: 0.8238, Val-Precision: 0.7803, Val-Recall: 0.8724, Val-Accuracy: 0.8080\n"
     ]
    },
    {
     "name": "stderr",
     "output_type": "stream",
     "text": [
      "Training progress: 100%|██████████| 304/304 [00:42<00:00,  7.11batch/s]\n"
     ]
    },
    {
     "name": "stdout",
     "output_type": "stream",
     "text": [
      "Epoch 8/16, Train-Loss: 0.5335, Val-Loss: 0.5338, Val-F1: 0.8194, Val-Precision: 0.7513, Val-Recall: 0.9011, Val-Accuracy: 0.7957\n"
     ]
    },
    {
     "name": "stderr",
     "output_type": "stream",
     "text": [
      "Training progress: 100%|██████████| 304/304 [00:42<00:00,  7.10batch/s]\n"
     ]
    },
    {
     "name": "stdout",
     "output_type": "stream",
     "text": [
      "Epoch 9/16, Train-Loss: 0.5235, Val-Loss: 0.5247, Val-F1: 0.8220, Val-Precision: 0.7684, Val-Recall: 0.8836, Val-Accuracy: 0.8031\n"
     ]
    },
    {
     "name": "stderr",
     "output_type": "stream",
     "text": [
      "Training progress: 100%|██████████| 304/304 [00:42<00:00,  7.08batch/s]\n"
     ]
    },
    {
     "name": "stdout",
     "output_type": "stream",
     "text": [
      "Epoch 10/16, Train-Loss: 0.5147, Val-Loss: 0.5178, Val-F1: 0.8197, Val-Precision: 0.7928, Val-Recall: 0.8485, Val-Accuracy: 0.8080\n"
     ]
    },
    {
     "name": "stderr",
     "output_type": "stream",
     "text": [
      "Training progress: 100%|██████████| 304/304 [00:42<00:00,  7.11batch/s]\n"
     ]
    },
    {
     "name": "stdout",
     "output_type": "stream",
     "text": [
      "Epoch 11/16, Train-Loss: 0.5073, Val-Loss: 0.5109, Val-F1: 0.8225, Val-Precision: 0.7844, Val-Recall: 0.8644, Val-Accuracy: 0.8080\n"
     ]
    },
    {
     "name": "stderr",
     "output_type": "stream",
     "text": [
      "Training progress: 100%|██████████| 304/304 [00:42<00:00,  7.10batch/s]\n"
     ]
    },
    {
     "name": "stdout",
     "output_type": "stream",
     "text": [
      "Epoch 12/16, Train-Loss: 0.5012, Val-Loss: 0.5055, Val-F1: 0.8234, Val-Precision: 0.7672, Val-Recall: 0.8884, Val-Accuracy: 0.8039\n"
     ]
    },
    {
     "name": "stderr",
     "output_type": "stream",
     "text": [
      "Training progress: 100%|██████████| 304/304 [00:42<00:00,  7.09batch/s]\n"
     ]
    },
    {
     "name": "stdout",
     "output_type": "stream",
     "text": [
      "Epoch 13/16, Train-Loss: 0.4957, Val-Loss: 0.5011, Val-F1: 0.8223, Val-Precision: 0.7880, Val-Recall: 0.8596, Val-Accuracy: 0.8089\n"
     ]
    },
    {
     "name": "stderr",
     "output_type": "stream",
     "text": [
      "Training progress: 100%|██████████| 304/304 [00:42<00:00,  7.10batch/s]\n"
     ]
    },
    {
     "name": "stdout",
     "output_type": "stream",
     "text": [
      "Epoch 14/16, Train-Loss: 0.4906, Val-Loss: 0.4970, Val-F1: 0.8232, Val-Precision: 0.7705, Val-Recall: 0.8836, Val-Accuracy: 0.8048\n"
     ]
    },
    {
     "name": "stderr",
     "output_type": "stream",
     "text": [
      "Training progress: 100%|██████████| 304/304 [00:42<00:00,  7.10batch/s]\n"
     ]
    },
    {
     "name": "stdout",
     "output_type": "stream",
     "text": [
      "Epoch 15/16, Train-Loss: 0.4872, Val-Loss: 0.4937, Val-F1: 0.8225, Val-Precision: 0.7844, Val-Recall: 0.8644, Val-Accuracy: 0.8080\n"
     ]
    },
    {
     "name": "stderr",
     "output_type": "stream",
     "text": [
      "Training progress: 100%|██████████| 304/304 [00:42<00:00,  7.09batch/s]\n"
     ]
    },
    {
     "name": "stdout",
     "output_type": "stream",
     "text": [
      "Epoch 16/16, Train-Loss: 0.4837, Val-Loss: 0.4907, Val-F1: 0.8225, Val-Precision: 0.7754, Val-Recall: 0.8756, Val-Accuracy: 0.8056\n",
      "\n",
      "\u001b[92mRESULTS:\n",
      " F1-Score:0.8098434004474273, Precision:0.7594405594405594, Recall:0.8674121405750799, Accuracy:0.7906403940886699, BCE:0.49351805448532104 \u001b[0m \n",
      "\n",
      "\n",
      "\u001b[91mRUN 20:\u001b[0m\n",
      " Senokosov2024Circuit \n",
      " lr: 0.001\n"
     ]
    },
    {
     "name": "stderr",
     "output_type": "stream",
     "text": [
      "Training progress: 100%|██████████| 304/304 [00:42<00:00,  7.12batch/s]\n"
     ]
    },
    {
     "name": "stdout",
     "output_type": "stream",
     "text": [
      "Epoch 1/16, Train-Loss: 0.7069, Val-Loss: 0.7036, Val-F1: 0.6786, Val-Precision: 0.5149, Val-Recall: 0.9952, Val-Accuracy: 0.5152\n"
     ]
    },
    {
     "name": "stderr",
     "output_type": "stream",
     "text": [
      "Training progress: 100%|██████████| 304/304 [00:42<00:00,  7.13batch/s]\n"
     ]
    },
    {
     "name": "stdout",
     "output_type": "stream",
     "text": [
      "Epoch 2/16, Train-Loss: 0.7018, Val-Loss: 0.6996, Val-F1: 0.6471, Val-Precision: 0.5004, Val-Recall: 0.9155, Val-Accuracy: 0.4865\n"
     ]
    },
    {
     "name": "stderr",
     "output_type": "stream",
     "text": [
      "Training progress: 100%|██████████| 304/304 [00:42<00:00,  7.11batch/s]\n"
     ]
    },
    {
     "name": "stdout",
     "output_type": "stream",
     "text": [
      "Epoch 3/16, Train-Loss: 0.6978, Val-Loss: 0.6958, Val-F1: 0.6529, Val-Precision: 0.5030, Val-Recall: 0.9298, Val-Accuracy: 0.4914\n"
     ]
    },
    {
     "name": "stderr",
     "output_type": "stream",
     "text": [
      "Training progress: 100%|██████████| 304/304 [00:42<00:00,  7.10batch/s]\n"
     ]
    },
    {
     "name": "stdout",
     "output_type": "stream",
     "text": [
      "Epoch 4/16, Train-Loss: 0.6939, Val-Loss: 0.6919, Val-F1: 0.6905, Val-Precision: 0.5273, Val-Recall: 1.0000, Val-Accuracy: 0.5390\n"
     ]
    },
    {
     "name": "stderr",
     "output_type": "stream",
     "text": [
      "Training progress: 100%|██████████| 304/304 [00:42<00:00,  7.11batch/s]\n"
     ]
    },
    {
     "name": "stdout",
     "output_type": "stream",
     "text": [
      "Epoch 5/16, Train-Loss: 0.6900, Val-Loss: 0.6881, Val-F1: 0.8072, Val-Precision: 0.7122, Val-Recall: 0.9314, Val-Accuracy: 0.7711\n"
     ]
    },
    {
     "name": "stderr",
     "output_type": "stream",
     "text": [
      "Training progress: 100%|██████████| 304/304 [00:42<00:00,  7.10batch/s]\n"
     ]
    },
    {
     "name": "stdout",
     "output_type": "stream",
     "text": [
      "Epoch 6/16, Train-Loss: 0.6860, Val-Loss: 0.6842, Val-F1: 0.8149, Val-Precision: 0.8085, Val-Recall: 0.8214, Val-Accuracy: 0.8080\n"
     ]
    },
    {
     "name": "stderr",
     "output_type": "stream",
     "text": [
      "Training progress: 100%|██████████| 304/304 [00:42<00:00,  7.11batch/s]\n"
     ]
    },
    {
     "name": "stdout",
     "output_type": "stream",
     "text": [
      "Epoch 7/16, Train-Loss: 0.6821, Val-Loss: 0.6804, Val-F1: 0.8234, Val-Precision: 0.7672, Val-Recall: 0.8884, Val-Accuracy: 0.8039\n"
     ]
    },
    {
     "name": "stderr",
     "output_type": "stream",
     "text": [
      "Training progress: 100%|██████████| 304/304 [00:42<00:00,  7.14batch/s]\n"
     ]
    },
    {
     "name": "stdout",
     "output_type": "stream",
     "text": [
      "Epoch 8/16, Train-Loss: 0.6782, Val-Loss: 0.6767, Val-F1: 0.8219, Val-Precision: 0.7743, Val-Recall: 0.8756, Val-Accuracy: 0.8048\n"
     ]
    },
    {
     "name": "stderr",
     "output_type": "stream",
     "text": [
      "Training progress: 100%|██████████| 304/304 [00:42<00:00,  7.12batch/s]\n"
     ]
    },
    {
     "name": "stdout",
     "output_type": "stream",
     "text": [
      "Epoch 9/16, Train-Loss: 0.6744, Val-Loss: 0.6730, Val-F1: 0.8209, Val-Precision: 0.7605, Val-Recall: 0.8915, Val-Accuracy: 0.7998\n"
     ]
    },
    {
     "name": "stderr",
     "output_type": "stream",
     "text": [
      "Training progress: 100%|██████████| 304/304 [00:42<00:00,  7.11batch/s]\n"
     ]
    },
    {
     "name": "stdout",
     "output_type": "stream",
     "text": [
      "Epoch 10/16, Train-Loss: 0.6706, Val-Loss: 0.6694, Val-F1: 0.8234, Val-Precision: 0.7784, Val-Recall: 0.8740, Val-Accuracy: 0.8072\n"
     ]
    },
    {
     "name": "stderr",
     "output_type": "stream",
     "text": [
      "Training progress: 100%|██████████| 304/304 [00:42<00:00,  7.12batch/s]\n"
     ]
    },
    {
     "name": "stdout",
     "output_type": "stream",
     "text": [
      "Epoch 11/16, Train-Loss: 0.6669, Val-Loss: 0.6658, Val-F1: 0.8232, Val-Precision: 0.7792, Val-Recall: 0.8724, Val-Accuracy: 0.8072\n"
     ]
    },
    {
     "name": "stderr",
     "output_type": "stream",
     "text": [
      "Training progress: 100%|██████████| 304/304 [00:42<00:00,  7.10batch/s]\n"
     ]
    },
    {
     "name": "stdout",
     "output_type": "stream",
     "text": [
      "Epoch 12/16, Train-Loss: 0.6633, Val-Loss: 0.6622, Val-F1: 0.8223, Val-Precision: 0.7702, Val-Recall: 0.8820, Val-Accuracy: 0.8039\n"
     ]
    },
    {
     "name": "stderr",
     "output_type": "stream",
     "text": [
      "Training progress: 100%|██████████| 304/304 [00:42<00:00,  7.10batch/s]\n"
     ]
    },
    {
     "name": "stdout",
     "output_type": "stream",
     "text": [
      "Epoch 13/16, Train-Loss: 0.6597, Val-Loss: 0.6588, Val-F1: 0.8227, Val-Precision: 0.7746, Val-Recall: 0.8772, Val-Accuracy: 0.8056\n"
     ]
    },
    {
     "name": "stderr",
     "output_type": "stream",
     "text": [
      "Training progress: 100%|██████████| 304/304 [00:42<00:00,  7.11batch/s]\n"
     ]
    },
    {
     "name": "stdout",
     "output_type": "stream",
     "text": [
      "Epoch 14/16, Train-Loss: 0.6562, Val-Loss: 0.6555, Val-F1: 0.8194, Val-Precision: 0.7513, Val-Recall: 0.9011, Val-Accuracy: 0.7957\n"
     ]
    },
    {
     "name": "stderr",
     "output_type": "stream",
     "text": [
      "Training progress: 100%|██████████| 304/304 [00:42<00:00,  7.13batch/s]\n"
     ]
    },
    {
     "name": "stdout",
     "output_type": "stream",
     "text": [
      "Epoch 15/16, Train-Loss: 0.6527, Val-Loss: 0.6521, Val-F1: 0.8200, Val-Precision: 0.7602, Val-Recall: 0.8900, Val-Accuracy: 0.7990\n"
     ]
    },
    {
     "name": "stderr",
     "output_type": "stream",
     "text": [
      "Training progress: 100%|██████████| 304/304 [00:42<00:00,  7.11batch/s]\n"
     ]
    },
    {
     "name": "stdout",
     "output_type": "stream",
     "text": [
      "Epoch 16/16, Train-Loss: 0.6493, Val-Loss: 0.6488, Val-F1: 0.8221, Val-Precision: 0.7736, Val-Recall: 0.8772, Val-Accuracy: 0.8048\n",
      "\n",
      "\u001b[92mRESULTS:\n",
      " F1-Score:0.8089219330855019, Precision:0.7566063977746871, Recall:0.8690095846645367, Accuracy:0.7889983579638752, BCE:0.6492832899093628 \u001b[0m \n",
      "\n",
      "\n",
      "\u001b[91mRUN 21:\u001b[0m\n",
      " Anusha2024Circuit \n",
      " lr: 0.01\n"
     ]
    },
    {
     "name": "stderr",
     "output_type": "stream",
     "text": [
      "Training progress: 100%|██████████| 304/304 [00:18<00:00, 16.50batch/s]\n"
     ]
    },
    {
     "name": "stdout",
     "output_type": "stream",
     "text": [
      "Epoch 1/16, Train-Loss: 0.6576, Val-Loss: 0.6406, Val-F1: 0.6989, Val-Precision: 0.6633, Val-Recall: 0.7384, Val-Accuracy: 0.6727\n"
     ]
    },
    {
     "name": "stderr",
     "output_type": "stream",
     "text": [
      "Training progress: 100%|██████████| 304/304 [00:18<00:00, 16.52batch/s]\n"
     ]
    },
    {
     "name": "stdout",
     "output_type": "stream",
     "text": [
      "Epoch 2/16, Train-Loss: 0.6395, Val-Loss: 0.6310, Val-F1: 0.6943, Val-Precision: 0.6696, Val-Recall: 0.7209, Val-Accuracy: 0.6735\n"
     ]
    },
    {
     "name": "stderr",
     "output_type": "stream",
     "text": [
      "Training progress: 100%|██████████| 304/304 [00:18<00:00, 16.55batch/s]\n"
     ]
    },
    {
     "name": "stdout",
     "output_type": "stream",
     "text": [
      "Epoch 3/16, Train-Loss: 0.6351, Val-Loss: 0.6288, Val-F1: 0.7029, Val-Precision: 0.6592, Val-Recall: 0.7528, Val-Accuracy: 0.6727\n"
     ]
    },
    {
     "name": "stderr",
     "output_type": "stream",
     "text": [
      "Training progress: 100%|██████████| 304/304 [00:18<00:00, 16.55batch/s]\n"
     ]
    },
    {
     "name": "stdout",
     "output_type": "stream",
     "text": [
      "Epoch 4/16, Train-Loss: 0.6340, Val-Loss: 0.6276, Val-F1: 0.6905, Val-Precision: 0.6722, Val-Recall: 0.7097, Val-Accuracy: 0.6727\n"
     ]
    },
    {
     "name": "stderr",
     "output_type": "stream",
     "text": [
      "Training progress: 100%|██████████| 304/304 [00:18<00:00, 16.52batch/s]\n"
     ]
    },
    {
     "name": "stdout",
     "output_type": "stream",
     "text": [
      "Epoch 5/16, Train-Loss: 0.6342, Val-Loss: 0.6275, Val-F1: 0.6949, Val-Precision: 0.6721, Val-Recall: 0.7193, Val-Accuracy: 0.6751\n"
     ]
    },
    {
     "name": "stderr",
     "output_type": "stream",
     "text": [
      "Training progress: 100%|██████████| 304/304 [00:18<00:00, 16.53batch/s]\n"
     ]
    },
    {
     "name": "stdout",
     "output_type": "stream",
     "text": [
      "Epoch 6/16, Train-Loss: 0.6339, Val-Loss: 0.6274, Val-F1: 0.6907, Val-Precision: 0.6785, Val-Recall: 0.7033, Val-Accuracy: 0.6760\n"
     ]
    },
    {
     "name": "stderr",
     "output_type": "stream",
     "text": [
      "Training progress: 100%|██████████| 304/304 [00:18<00:00, 16.47batch/s]\n"
     ]
    },
    {
     "name": "stdout",
     "output_type": "stream",
     "text": [
      "Epoch 7/16, Train-Loss: 0.6340, Val-Loss: 0.6275, Val-F1: 0.6951, Val-Precision: 0.6657, Val-Recall: 0.7273, Val-Accuracy: 0.6719\n"
     ]
    },
    {
     "name": "stderr",
     "output_type": "stream",
     "text": [
      "Training progress: 100%|██████████| 304/304 [00:18<00:00, 16.53batch/s]\n"
     ]
    },
    {
     "name": "stdout",
     "output_type": "stream",
     "text": [
      "Epoch 8/16, Train-Loss: 0.6341, Val-Loss: 0.6277, Val-F1: 0.6998, Val-Precision: 0.6624, Val-Recall: 0.7416, Val-Accuracy: 0.6727\n"
     ]
    },
    {
     "name": "stderr",
     "output_type": "stream",
     "text": [
      "Training progress: 100%|██████████| 304/304 [00:18<00:00, 16.52batch/s]\n"
     ]
    },
    {
     "name": "stdout",
     "output_type": "stream",
     "text": [
      "Epoch 9/16, Train-Loss: 0.6341, Val-Loss: 0.6274, Val-F1: 0.6948, Val-Precision: 0.6691, Val-Recall: 0.7225, Val-Accuracy: 0.6735\n"
     ]
    },
    {
     "name": "stderr",
     "output_type": "stream",
     "text": [
      "Training progress: 100%|██████████| 304/304 [00:18<00:00, 16.54batch/s]\n"
     ]
    },
    {
     "name": "stdout",
     "output_type": "stream",
     "text": [
      "Epoch 10/16, Train-Loss: 0.6342, Val-Loss: 0.6274, Val-F1: 0.6832, Val-Precision: 0.6837, Val-Recall: 0.6826, Val-Accuracy: 0.6743\n"
     ]
    },
    {
     "name": "stderr",
     "output_type": "stream",
     "text": [
      "Training progress: 100%|██████████| 304/304 [00:18<00:00, 16.52batch/s]\n"
     ]
    },
    {
     "name": "stdout",
     "output_type": "stream",
     "text": [
      "Epoch 11/16, Train-Loss: 0.6341, Val-Loss: 0.6273, Val-F1: 0.6897, Val-Precision: 0.6796, Val-Recall: 0.7002, Val-Accuracy: 0.6760\n"
     ]
    },
    {
     "name": "stderr",
     "output_type": "stream",
     "text": [
      "Training progress: 100%|██████████| 304/304 [00:18<00:00, 16.68batch/s]\n"
     ]
    },
    {
     "name": "stdout",
     "output_type": "stream",
     "text": [
      "Epoch 12/16, Train-Loss: 0.6342, Val-Loss: 0.6277, Val-F1: 0.7002, Val-Precision: 0.6619, Val-Recall: 0.7432, Val-Accuracy: 0.6727\n"
     ]
    },
    {
     "name": "stderr",
     "output_type": "stream",
     "text": [
      "Training progress: 100%|██████████| 304/304 [00:18<00:00, 16.60batch/s]\n"
     ]
    },
    {
     "name": "stdout",
     "output_type": "stream",
     "text": [
      "Epoch 13/16, Train-Loss: 0.6341, Val-Loss: 0.6273, Val-F1: 0.6907, Val-Precision: 0.6785, Val-Recall: 0.7033, Val-Accuracy: 0.6760\n"
     ]
    },
    {
     "name": "stderr",
     "output_type": "stream",
     "text": [
      "Training progress: 100%|██████████| 304/304 [00:18<00:00, 16.59batch/s]\n"
     ]
    },
    {
     "name": "stdout",
     "output_type": "stream",
     "text": [
      "Epoch 14/16, Train-Loss: 0.6337, Val-Loss: 0.6276, Val-F1: 0.6998, Val-Precision: 0.6624, Val-Recall: 0.7416, Val-Accuracy: 0.6727\n"
     ]
    },
    {
     "name": "stderr",
     "output_type": "stream",
     "text": [
      "Training progress: 100%|██████████| 304/304 [00:18<00:00, 16.41batch/s]\n"
     ]
    },
    {
     "name": "stdout",
     "output_type": "stream",
     "text": [
      "Epoch 15/16, Train-Loss: 0.6343, Val-Loss: 0.6274, Val-F1: 0.6955, Val-Precision: 0.6731, Val-Recall: 0.7193, Val-Accuracy: 0.6760\n"
     ]
    },
    {
     "name": "stderr",
     "output_type": "stream",
     "text": [
      "Training progress: 100%|██████████| 304/304 [00:18<00:00, 16.52batch/s]\n"
     ]
    },
    {
     "name": "stdout",
     "output_type": "stream",
     "text": [
      "Epoch 16/16, Train-Loss: 0.6338, Val-Loss: 0.6274, Val-F1: 0.6949, Val-Precision: 0.6706, Val-Recall: 0.7209, Val-Accuracy: 0.6743\n",
      "\n",
      "\u001b[92mRESULTS:\n",
      " F1-Score:0.6811145510835913, Precision:0.6606606606606606, Recall:0.7028753993610224, Accuracy:0.6617405582922824, BCE:0.6347560286521912 \u001b[0m \n",
      "\n",
      "\n",
      "\u001b[91mRUN 22:\u001b[0m\n",
      " Anusha2024Circuit \n",
      " lr: 0.001\n"
     ]
    },
    {
     "name": "stderr",
     "output_type": "stream",
     "text": [
      "Training progress: 100%|██████████| 304/304 [00:18<00:00, 16.55batch/s]\n"
     ]
    },
    {
     "name": "stdout",
     "output_type": "stream",
     "text": [
      "Epoch 1/16, Train-Loss: 0.6739, Val-Loss: 0.6697, Val-F1: 0.7027, Val-Precision: 0.6565, Val-Recall: 0.7560, Val-Accuracy: 0.6710\n"
     ]
    },
    {
     "name": "stderr",
     "output_type": "stream",
     "text": [
      "Training progress: 100%|██████████| 304/304 [00:18<00:00, 16.60batch/s]\n"
     ]
    },
    {
     "name": "stdout",
     "output_type": "stream",
     "text": [
      "Epoch 2/16, Train-Loss: 0.6686, Val-Loss: 0.6646, Val-F1: 0.7032, Val-Precision: 0.6413, Val-Recall: 0.7783, Val-Accuracy: 0.6620\n"
     ]
    },
    {
     "name": "stderr",
     "output_type": "stream",
     "text": [
      "Training progress: 100%|██████████| 304/304 [00:18<00:00, 16.55batch/s]\n"
     ]
    },
    {
     "name": "stdout",
     "output_type": "stream",
     "text": [
      "Epoch 3/16, Train-Loss: 0.6642, Val-Loss: 0.6601, Val-F1: 0.7032, Val-Precision: 0.6413, Val-Recall: 0.7783, Val-Accuracy: 0.6620\n"
     ]
    },
    {
     "name": "stderr",
     "output_type": "stream",
     "text": [
      "Training progress: 100%|██████████| 304/304 [00:18<00:00, 16.54batch/s]\n"
     ]
    },
    {
     "name": "stdout",
     "output_type": "stream",
     "text": [
      "Epoch 4/16, Train-Loss: 0.6602, Val-Loss: 0.6562, Val-F1: 0.7027, Val-Precision: 0.6416, Val-Recall: 0.7767, Val-Accuracy: 0.6620\n"
     ]
    },
    {
     "name": "stderr",
     "output_type": "stream",
     "text": [
      "Training progress: 100%|██████████| 304/304 [00:18<00:00, 16.57batch/s]\n"
     ]
    },
    {
     "name": "stdout",
     "output_type": "stream",
     "text": [
      "Epoch 5/16, Train-Loss: 0.6569, Val-Loss: 0.6527, Val-F1: 0.7055, Val-Precision: 0.6484, Val-Recall: 0.7735, Val-Accuracy: 0.6678\n"
     ]
    },
    {
     "name": "stderr",
     "output_type": "stream",
     "text": [
      "Training progress: 100%|██████████| 304/304 [00:18<00:00, 16.55batch/s]\n"
     ]
    },
    {
     "name": "stdout",
     "output_type": "stream",
     "text": [
      "Epoch 6/16, Train-Loss: 0.6538, Val-Loss: 0.6496, Val-F1: 0.7028, Val-Precision: 0.6579, Val-Recall: 0.7544, Val-Accuracy: 0.6719\n"
     ]
    },
    {
     "name": "stderr",
     "output_type": "stream",
     "text": [
      "Training progress: 100%|██████████| 304/304 [00:18<00:00, 16.52batch/s]\n"
     ]
    },
    {
     "name": "stdout",
     "output_type": "stream",
     "text": [
      "Epoch 7/16, Train-Loss: 0.6512, Val-Loss: 0.6468, Val-F1: 0.7027, Val-Precision: 0.6565, Val-Recall: 0.7560, Val-Accuracy: 0.6710\n"
     ]
    },
    {
     "name": "stderr",
     "output_type": "stream",
     "text": [
      "Training progress: 100%|██████████| 304/304 [00:18<00:00, 16.54batch/s]\n"
     ]
    },
    {
     "name": "stdout",
     "output_type": "stream",
     "text": [
      "Epoch 8/16, Train-Loss: 0.6488, Val-Loss: 0.6444, Val-F1: 0.7025, Val-Precision: 0.6597, Val-Recall: 0.7512, Val-Accuracy: 0.6727\n"
     ]
    },
    {
     "name": "stderr",
     "output_type": "stream",
     "text": [
      "Training progress: 100%|██████████| 304/304 [00:18<00:00, 16.54batch/s]\n"
     ]
    },
    {
     "name": "stdout",
     "output_type": "stream",
     "text": [
      "Epoch 9/16, Train-Loss: 0.6468, Val-Loss: 0.6422, Val-F1: 0.7025, Val-Precision: 0.6597, Val-Recall: 0.7512, Val-Accuracy: 0.6727\n"
     ]
    },
    {
     "name": "stderr",
     "output_type": "stream",
     "text": [
      "Training progress: 100%|██████████| 304/304 [00:18<00:00, 16.57batch/s]\n"
     ]
    },
    {
     "name": "stdout",
     "output_type": "stream",
     "text": [
      "Epoch 10/16, Train-Loss: 0.6451, Val-Loss: 0.6403, Val-F1: 0.7012, Val-Precision: 0.6624, Val-Recall: 0.7448, Val-Accuracy: 0.6735\n"
     ]
    },
    {
     "name": "stderr",
     "output_type": "stream",
     "text": [
      "Training progress: 100%|██████████| 304/304 [00:18<00:00, 16.56batch/s]\n"
     ]
    },
    {
     "name": "stdout",
     "output_type": "stream",
     "text": [
      "Epoch 11/16, Train-Loss: 0.6434, Val-Loss: 0.6386, Val-F1: 0.7003, Val-Precision: 0.6633, Val-Recall: 0.7416, Val-Accuracy: 0.6735\n"
     ]
    },
    {
     "name": "stderr",
     "output_type": "stream",
     "text": [
      "Training progress: 100%|██████████| 304/304 [00:18<00:00, 16.68batch/s]\n"
     ]
    },
    {
     "name": "stdout",
     "output_type": "stream",
     "text": [
      "Epoch 12/16, Train-Loss: 0.6421, Val-Loss: 0.6372, Val-F1: 0.7003, Val-Precision: 0.6633, Val-Recall: 0.7416, Val-Accuracy: 0.6735\n"
     ]
    },
    {
     "name": "stderr",
     "output_type": "stream",
     "text": [
      "Training progress: 100%|██████████| 304/304 [00:18<00:00, 16.59batch/s]\n"
     ]
    },
    {
     "name": "stdout",
     "output_type": "stream",
     "text": [
      "Epoch 13/16, Train-Loss: 0.6408, Val-Loss: 0.6359, Val-F1: 0.6998, Val-Precision: 0.6638, Val-Recall: 0.7400, Val-Accuracy: 0.6735\n"
     ]
    },
    {
     "name": "stderr",
     "output_type": "stream",
     "text": [
      "Training progress: 100%|██████████| 304/304 [00:18<00:00, 16.54batch/s]\n"
     ]
    },
    {
     "name": "stdout",
     "output_type": "stream",
     "text": [
      "Epoch 14/16, Train-Loss: 0.6396, Val-Loss: 0.6348, Val-F1: 0.7002, Val-Precision: 0.6619, Val-Recall: 0.7432, Val-Accuracy: 0.6727\n"
     ]
    },
    {
     "name": "stderr",
     "output_type": "stream",
     "text": [
      "Training progress: 100%|██████████| 304/304 [00:18<00:00, 16.49batch/s]\n"
     ]
    },
    {
     "name": "stdout",
     "output_type": "stream",
     "text": [
      "Epoch 15/16, Train-Loss: 0.6389, Val-Loss: 0.6338, Val-F1: 0.7003, Val-Precision: 0.6633, Val-Recall: 0.7416, Val-Accuracy: 0.6735\n"
     ]
    },
    {
     "name": "stderr",
     "output_type": "stream",
     "text": [
      "Training progress: 100%|██████████| 304/304 [00:18<00:00, 16.59batch/s]\n"
     ]
    },
    {
     "name": "stdout",
     "output_type": "stream",
     "text": [
      "Epoch 16/16, Train-Loss: 0.6378, Val-Loss: 0.6329, Val-F1: 0.6984, Val-Precision: 0.6638, Val-Recall: 0.7368, Val-Accuracy: 0.6727\n",
      "\n",
      "\u001b[92mRESULTS:\n",
      " F1-Score:0.6909090909090909, Precision:0.6570605187319885, Recall:0.7284345047923323, Accuracy:0.6650246305418719, BCE:0.6384838223457336 \u001b[0m \n",
      "\n",
      "\n",
      "\u001b[91mRUN 23:\u001b[0m\n",
      " DoubleEntanglementVLCircuit \n",
      " lr: 0.01\n"
     ]
    },
    {
     "name": "stderr",
     "output_type": "stream",
     "text": [
      "Training progress: 100%|██████████| 304/304 [00:24<00:00, 12.41batch/s]\n"
     ]
    },
    {
     "name": "stdout",
     "output_type": "stream",
     "text": [
      "Epoch 1/16, Train-Loss: 0.5595, Val-Loss: 0.4971, Val-F1: 0.8640, Val-Precision: 0.8207, Val-Recall: 0.9123, Val-Accuracy: 0.8523\n"
     ]
    },
    {
     "name": "stderr",
     "output_type": "stream",
     "text": [
      "Training progress: 100%|██████████| 304/304 [00:24<00:00, 12.43batch/s]\n"
     ]
    },
    {
     "name": "stdout",
     "output_type": "stream",
     "text": [
      "Epoch 2/16, Train-Loss: 0.4545, Val-Loss: 0.4253, Val-F1: 0.8693, Val-Precision: 0.8585, Val-Recall: 0.8804, Val-Accuracy: 0.8638\n"
     ]
    },
    {
     "name": "stderr",
     "output_type": "stream",
     "text": [
      "Training progress: 100%|██████████| 304/304 [00:24<00:00, 12.41batch/s]\n"
     ]
    },
    {
     "name": "stdout",
     "output_type": "stream",
     "text": [
      "Epoch 3/16, Train-Loss: 0.3988, Val-Loss: 0.3845, Val-F1: 0.8696, Val-Precision: 0.8517, Val-Recall: 0.8884, Val-Accuracy: 0.8630\n"
     ]
    },
    {
     "name": "stderr",
     "output_type": "stream",
     "text": [
      "Training progress: 100%|██████████| 304/304 [00:24<00:00, 12.44batch/s]\n"
     ]
    },
    {
     "name": "stdout",
     "output_type": "stream",
     "text": [
      "Epoch 4/16, Train-Loss: 0.3657, Val-Loss: 0.3596, Val-F1: 0.8673, Val-Precision: 0.8592, Val-Recall: 0.8756, Val-Accuracy: 0.8622\n"
     ]
    },
    {
     "name": "stderr",
     "output_type": "stream",
     "text": [
      "Training progress: 100%|██████████| 304/304 [00:24<00:00, 12.45batch/s]\n"
     ]
    },
    {
     "name": "stdout",
     "output_type": "stream",
     "text": [
      "Epoch 5/16, Train-Loss: 0.3449, Val-Loss: 0.3436, Val-F1: 0.8680, Val-Precision: 0.8605, Val-Recall: 0.8756, Val-Accuracy: 0.8630\n"
     ]
    },
    {
     "name": "stderr",
     "output_type": "stream",
     "text": [
      "Training progress: 100%|██████████| 304/304 [00:24<00:00, 12.41batch/s]\n"
     ]
    },
    {
     "name": "stdout",
     "output_type": "stream",
     "text": [
      "Epoch 6/16, Train-Loss: 0.3309, Val-Loss: 0.3330, Val-F1: 0.8660, Val-Precision: 0.8660, Val-Recall: 0.8660, Val-Accuracy: 0.8622\n"
     ]
    },
    {
     "name": "stderr",
     "output_type": "stream",
     "text": [
      "Training progress: 100%|██████████| 304/304 [00:24<00:00, 12.46batch/s]\n"
     ]
    },
    {
     "name": "stdout",
     "output_type": "stream",
     "text": [
      "Epoch 7/16, Train-Loss: 0.3221, Val-Loss: 0.3268, Val-F1: 0.8704, Val-Precision: 0.8576, Val-Recall: 0.8836, Val-Accuracy: 0.8646\n"
     ]
    },
    {
     "name": "stderr",
     "output_type": "stream",
     "text": [
      "Training progress: 100%|██████████| 304/304 [00:24<00:00, 12.43batch/s]\n"
     ]
    },
    {
     "name": "stdout",
     "output_type": "stream",
     "text": [
      "Epoch 8/16, Train-Loss: 0.3152, Val-Loss: 0.3212, Val-F1: 0.8673, Val-Precision: 0.8592, Val-Recall: 0.8756, Val-Accuracy: 0.8622\n"
     ]
    },
    {
     "name": "stderr",
     "output_type": "stream",
     "text": [
      "Training progress: 100%|██████████| 304/304 [00:24<00:00, 12.49batch/s]\n"
     ]
    },
    {
     "name": "stdout",
     "output_type": "stream",
     "text": [
      "Epoch 9/16, Train-Loss: 0.3111, Val-Loss: 0.3176, Val-F1: 0.8656, Val-Precision: 0.8635, Val-Recall: 0.8676, Val-Accuracy: 0.8614\n"
     ]
    },
    {
     "name": "stderr",
     "output_type": "stream",
     "text": [
      "Training progress: 100%|██████████| 304/304 [00:24<00:00, 12.45batch/s]\n"
     ]
    },
    {
     "name": "stdout",
     "output_type": "stream",
     "text": [
      "Epoch 10/16, Train-Loss: 0.3076, Val-Loss: 0.3151, Val-F1: 0.8660, Val-Precision: 0.8660, Val-Recall: 0.8660, Val-Accuracy: 0.8622\n"
     ]
    },
    {
     "name": "stderr",
     "output_type": "stream",
     "text": [
      "Training progress: 100%|██████████| 304/304 [00:24<00:00, 12.43batch/s]\n"
     ]
    },
    {
     "name": "stdout",
     "output_type": "stream",
     "text": [
      "Epoch 11/16, Train-Loss: 0.3052, Val-Loss: 0.3136, Val-F1: 0.8687, Val-Precision: 0.8619, Val-Recall: 0.8756, Val-Accuracy: 0.8638\n"
     ]
    },
    {
     "name": "stderr",
     "output_type": "stream",
     "text": [
      "Training progress: 100%|██████████| 304/304 [00:24<00:00, 12.39batch/s]\n"
     ]
    },
    {
     "name": "stdout",
     "output_type": "stream",
     "text": [
      "Epoch 12/16, Train-Loss: 0.3033, Val-Loss: 0.3125, Val-F1: 0.8673, Val-Precision: 0.8592, Val-Recall: 0.8756, Val-Accuracy: 0.8622\n"
     ]
    },
    {
     "name": "stderr",
     "output_type": "stream",
     "text": [
      "Training progress: 100%|██████████| 304/304 [00:24<00:00, 12.43batch/s]\n"
     ]
    },
    {
     "name": "stdout",
     "output_type": "stream",
     "text": [
      "Epoch 13/16, Train-Loss: 0.3019, Val-Loss: 0.3113, Val-F1: 0.8651, Val-Precision: 0.8610, Val-Recall: 0.8692, Val-Accuracy: 0.8605\n"
     ]
    },
    {
     "name": "stderr",
     "output_type": "stream",
     "text": [
      "Training progress: 100%|██████████| 304/304 [00:24<00:00, 12.41batch/s]\n"
     ]
    },
    {
     "name": "stdout",
     "output_type": "stream",
     "text": [
      "Epoch 14/16, Train-Loss: 0.3005, Val-Loss: 0.3120, Val-F1: 0.8690, Val-Precision: 0.8549, Val-Recall: 0.8836, Val-Accuracy: 0.8630\n"
     ]
    },
    {
     "name": "stderr",
     "output_type": "stream",
     "text": [
      "Training progress: 100%|██████████| 304/304 [00:24<00:00, 12.45batch/s]\n"
     ]
    },
    {
     "name": "stdout",
     "output_type": "stream",
     "text": [
      "Epoch 15/16, Train-Loss: 0.3006, Val-Loss: 0.3099, Val-F1: 0.8668, Val-Precision: 0.8724, Val-Recall: 0.8612, Val-Accuracy: 0.8638\n"
     ]
    },
    {
     "name": "stderr",
     "output_type": "stream",
     "text": [
      "Training progress: 100%|██████████| 304/304 [00:24<00:00, 12.43batch/s]\n"
     ]
    },
    {
     "name": "stdout",
     "output_type": "stream",
     "text": [
      "Epoch 16/16, Train-Loss: 0.2997, Val-Loss: 0.3099, Val-F1: 0.8687, Val-Precision: 0.8619, Val-Recall: 0.8756, Val-Accuracy: 0.8638\n",
      "\n",
      "\u001b[92mRESULTS:\n",
      " F1-Score:0.8767772511848341, Precision:0.8671875, Recall:0.8865814696485623, Accuracy:0.8719211822660099, BCE:0.31579455733299255 \u001b[0m \n",
      "\n",
      "\n",
      "\u001b[91mRUN 24:\u001b[0m\n",
      " DoubleEntanglementVLCircuit \n",
      " lr: 0.001\n"
     ]
    },
    {
     "name": "stderr",
     "output_type": "stream",
     "text": [
      "Training progress: 100%|██████████| 304/304 [00:24<00:00, 12.43batch/s]\n"
     ]
    },
    {
     "name": "stdout",
     "output_type": "stream",
     "text": [
      "Epoch 1/16, Train-Loss: 0.6334, Val-Loss: 0.6239, Val-F1: 0.7275, Val-Precision: 0.5743, Val-Recall: 0.9920, Val-Accuracy: 0.6177\n"
     ]
    },
    {
     "name": "stderr",
     "output_type": "stream",
     "text": [
      "Training progress: 100%|██████████| 304/304 [00:24<00:00, 12.45batch/s]\n"
     ]
    },
    {
     "name": "stdout",
     "output_type": "stream",
     "text": [
      "Epoch 2/16, Train-Loss: 0.6138, Val-Loss: 0.6058, Val-F1: 0.7869, Val-Precision: 0.6571, Val-Recall: 0.9809, Val-Accuracy: 0.7268\n"
     ]
    },
    {
     "name": "stderr",
     "output_type": "stream",
     "text": [
      "Training progress: 100%|██████████| 304/304 [00:24<00:00, 12.45batch/s]\n"
     ]
    },
    {
     "name": "stdout",
     "output_type": "stream",
     "text": [
      "Epoch 3/16, Train-Loss: 0.5961, Val-Loss: 0.5889, Val-F1: 0.8170, Val-Precision: 0.7066, Val-Recall: 0.9681, Val-Accuracy: 0.7769\n"
     ]
    },
    {
     "name": "stderr",
     "output_type": "stream",
     "text": [
      "Training progress: 100%|██████████| 304/304 [00:24<00:00, 12.52batch/s]\n"
     ]
    },
    {
     "name": "stdout",
     "output_type": "stream",
     "text": [
      "Epoch 4/16, Train-Loss: 0.5796, Val-Loss: 0.5732, Val-F1: 0.8308, Val-Precision: 0.7350, Val-Recall: 0.9553, Val-Accuracy: 0.7998\n"
     ]
    },
    {
     "name": "stderr",
     "output_type": "stream",
     "text": [
      "Training progress: 100%|██████████| 304/304 [00:24<00:00, 12.49batch/s]\n"
     ]
    },
    {
     "name": "stdout",
     "output_type": "stream",
     "text": [
      "Epoch 5/16, Train-Loss: 0.5641, Val-Loss: 0.5583, Val-F1: 0.8516, Val-Precision: 0.7734, Val-Recall: 0.9474, Val-Accuracy: 0.8302\n"
     ]
    },
    {
     "name": "stderr",
     "output_type": "stream",
     "text": [
      "Training progress: 100%|██████████| 304/304 [00:24<00:00, 12.47batch/s]\n"
     ]
    },
    {
     "name": "stdout",
     "output_type": "stream",
     "text": [
      "Epoch 6/16, Train-Loss: 0.5494, Val-Loss: 0.5443, Val-F1: 0.8594, Val-Precision: 0.7943, Val-Recall: 0.9362, Val-Accuracy: 0.8425\n"
     ]
    },
    {
     "name": "stderr",
     "output_type": "stream",
     "text": [
      "Training progress: 100%|██████████| 304/304 [00:24<00:00, 12.50batch/s]\n"
     ]
    },
    {
     "name": "stdout",
     "output_type": "stream",
     "text": [
      "Epoch 7/16, Train-Loss: 0.5358, Val-Loss: 0.5313, Val-F1: 0.8590, Val-Precision: 0.7995, Val-Recall: 0.9282, Val-Accuracy: 0.8433\n"
     ]
    },
    {
     "name": "stderr",
     "output_type": "stream",
     "text": [
      "Training progress: 100%|██████████| 304/304 [00:24<00:00, 12.46batch/s]\n"
     ]
    },
    {
     "name": "stdout",
     "output_type": "stream",
     "text": [
      "Epoch 8/16, Train-Loss: 0.5230, Val-Loss: 0.5191, Val-F1: 0.8642, Val-Precision: 0.8121, Val-Recall: 0.9234, Val-Accuracy: 0.8507\n"
     ]
    },
    {
     "name": "stderr",
     "output_type": "stream",
     "text": [
      "Training progress: 100%|██████████| 304/304 [00:24<00:00, 12.45batch/s]\n"
     ]
    },
    {
     "name": "stdout",
     "output_type": "stream",
     "text": [
      "Epoch 9/16, Train-Loss: 0.5111, Val-Loss: 0.5077, Val-F1: 0.8634, Val-Precision: 0.8156, Val-Recall: 0.9171, Val-Accuracy: 0.8507\n"
     ]
    },
    {
     "name": "stderr",
     "output_type": "stream",
     "text": [
      "Training progress: 100%|██████████| 304/304 [00:24<00:00, 12.45batch/s]\n"
     ]
    },
    {
     "name": "stdout",
     "output_type": "stream",
     "text": [
      "Epoch 10/16, Train-Loss: 0.4997, Val-Loss: 0.4969, Val-F1: 0.8647, Val-Precision: 0.8218, Val-Recall: 0.9123, Val-Accuracy: 0.8532\n"
     ]
    },
    {
     "name": "stderr",
     "output_type": "stream",
     "text": [
      "Training progress: 100%|██████████| 304/304 [00:24<00:00, 12.45batch/s]\n"
     ]
    },
    {
     "name": "stdout",
     "output_type": "stream",
     "text": [
      "Epoch 11/16, Train-Loss: 0.4892, Val-Loss: 0.4868, Val-F1: 0.8669, Val-Precision: 0.8285, Val-Recall: 0.9091, Val-Accuracy: 0.8564\n"
     ]
    },
    {
     "name": "stderr",
     "output_type": "stream",
     "text": [
      "Training progress: 100%|██████████| 304/304 [00:24<00:00, 12.44batch/s]\n"
     ]
    },
    {
     "name": "stdout",
     "output_type": "stream",
     "text": [
      "Epoch 12/16, Train-Loss: 0.4791, Val-Loss: 0.4773, Val-F1: 0.8669, Val-Precision: 0.8285, Val-Recall: 0.9091, Val-Accuracy: 0.8564\n"
     ]
    },
    {
     "name": "stderr",
     "output_type": "stream",
     "text": [
      "Training progress: 100%|██████████| 304/304 [00:24<00:00, 12.43batch/s]\n"
     ]
    },
    {
     "name": "stdout",
     "output_type": "stream",
     "text": [
      "Epoch 13/16, Train-Loss: 0.4697, Val-Loss: 0.4684, Val-F1: 0.8680, Val-Precision: 0.8319, Val-Recall: 0.9075, Val-Accuracy: 0.8581\n"
     ]
    },
    {
     "name": "stderr",
     "output_type": "stream",
     "text": [
      "Training progress: 100%|██████████| 304/304 [00:24<00:00, 12.41batch/s]\n"
     ]
    },
    {
     "name": "stdout",
     "output_type": "stream",
     "text": [
      "Epoch 14/16, Train-Loss: 0.4608, Val-Loss: 0.4600, Val-F1: 0.8674, Val-Precision: 0.8307, Val-Recall: 0.9075, Val-Accuracy: 0.8573\n"
     ]
    },
    {
     "name": "stderr",
     "output_type": "stream",
     "text": [
      "Training progress: 100%|██████████| 304/304 [00:24<00:00, 12.43batch/s]\n"
     ]
    },
    {
     "name": "stdout",
     "output_type": "stream",
     "text": [
      "Epoch 15/16, Train-Loss: 0.4526, Val-Loss: 0.4520, Val-F1: 0.8692, Val-Precision: 0.8395, Val-Recall: 0.9011, Val-Accuracy: 0.8605\n"
     ]
    },
    {
     "name": "stderr",
     "output_type": "stream",
     "text": [
      "Training progress: 100%|██████████| 304/304 [00:24<00:00, 12.49batch/s]\n"
     ]
    },
    {
     "name": "stdout",
     "output_type": "stream",
     "text": [
      "Epoch 16/16, Train-Loss: 0.4447, Val-Loss: 0.4444, Val-F1: 0.8686, Val-Precision: 0.8426, Val-Recall: 0.8963, Val-Accuracy: 0.8605\n",
      "\n",
      "\u001b[92mRESULTS:\n",
      " F1-Score:0.8698999230177059, Precision:0.8395245170876672, Recall:0.902555910543131, Accuracy:0.861247947454844, BCE:0.45197468996047974 \u001b[0m \n",
      "\n",
      "\n",
      "\u001b[91mRUN 25:\u001b[0m\n",
      " Ranga2024Circuit \n",
      " lr: 0.01\n"
     ]
    },
    {
     "name": "stderr",
     "output_type": "stream",
     "text": [
      "Training progress: 100%|██████████| 304/304 [01:03<00:00,  4.81batch/s]\n"
     ]
    },
    {
     "name": "stdout",
     "output_type": "stream",
     "text": [
      "Epoch 1/16, Train-Loss: 0.6965, Val-Loss: 0.6727, Val-F1: 0.6997, Val-Precision: 0.5438, Val-Recall: 0.9809, Val-Accuracy: 0.5669\n"
     ]
    },
    {
     "name": "stderr",
     "output_type": "stream",
     "text": [
      "Training progress: 100%|██████████| 304/304 [01:03<00:00,  4.79batch/s]\n"
     ]
    },
    {
     "name": "stdout",
     "output_type": "stream",
     "text": [
      "Epoch 2/16, Train-Loss: 0.6566, Val-Loss: 0.6374, Val-F1: 0.7253, Val-Precision: 0.5900, Val-Recall: 0.9410, Val-Accuracy: 0.6333\n"
     ]
    },
    {
     "name": "stderr",
     "output_type": "stream",
     "text": [
      "Training progress: 100%|██████████| 304/304 [01:03<00:00,  4.80batch/s]\n"
     ]
    },
    {
     "name": "stdout",
     "output_type": "stream",
     "text": [
      "Epoch 3/16, Train-Loss: 0.6273, Val-Loss: 0.6116, Val-F1: 0.7756, Val-Precision: 0.7120, Val-Recall: 0.8517, Val-Accuracy: 0.7465\n"
     ]
    },
    {
     "name": "stderr",
     "output_type": "stream",
     "text": [
      "Training progress: 100%|██████████| 304/304 [01:03<00:00,  4.81batch/s]\n"
     ]
    },
    {
     "name": "stdout",
     "output_type": "stream",
     "text": [
      "Epoch 4/16, Train-Loss: 0.6063, Val-Loss: 0.5927, Val-F1: 0.7559, Val-Precision: 0.6509, Val-Recall: 0.9011, Val-Accuracy: 0.7006\n"
     ]
    },
    {
     "name": "stderr",
     "output_type": "stream",
     "text": [
      "Training progress: 100%|██████████| 304/304 [01:03<00:00,  4.81batch/s]\n"
     ]
    },
    {
     "name": "stdout",
     "output_type": "stream",
     "text": [
      "Epoch 5/16, Train-Loss: 0.5915, Val-Loss: 0.5774, Val-F1: 0.7664, Val-Precision: 0.6824, Val-Recall: 0.8740, Val-Accuracy: 0.7260\n"
     ]
    },
    {
     "name": "stderr",
     "output_type": "stream",
     "text": [
      "Training progress: 100%|██████████| 304/304 [01:03<00:00,  4.81batch/s]\n"
     ]
    },
    {
     "name": "stdout",
     "output_type": "stream",
     "text": [
      "Epoch 6/16, Train-Loss: 0.5802, Val-Loss: 0.5664, Val-F1: 0.7803, Val-Precision: 0.7234, Val-Recall: 0.8469, Val-Accuracy: 0.7547\n"
     ]
    },
    {
     "name": "stderr",
     "output_type": "stream",
     "text": [
      "Training progress: 100%|██████████| 304/304 [01:03<00:00,  4.80batch/s]\n"
     ]
    },
    {
     "name": "stdout",
     "output_type": "stream",
     "text": [
      "Epoch 7/16, Train-Loss: 0.5717, Val-Loss: 0.5574, Val-F1: 0.7849, Val-Precision: 0.7337, Val-Recall: 0.8437, Val-Accuracy: 0.7621\n"
     ]
    },
    {
     "name": "stderr",
     "output_type": "stream",
     "text": [
      "Training progress: 100%|██████████| 304/304 [01:03<00:00,  4.80batch/s]\n"
     ]
    },
    {
     "name": "stdout",
     "output_type": "stream",
     "text": [
      "Epoch 8/16, Train-Loss: 0.5646, Val-Loss: 0.5508, Val-F1: 0.7703, Val-Precision: 0.6968, Val-Recall: 0.8612, Val-Accuracy: 0.7358\n"
     ]
    },
    {
     "name": "stderr",
     "output_type": "stream",
     "text": [
      "Training progress: 100%|██████████| 304/304 [01:03<00:00,  4.81batch/s]\n"
     ]
    },
    {
     "name": "stdout",
     "output_type": "stream",
     "text": [
      "Epoch 9/16, Train-Loss: 0.5588, Val-Loss: 0.5446, Val-F1: 0.7820, Val-Precision: 0.7287, Val-Recall: 0.8437, Val-Accuracy: 0.7580\n"
     ]
    },
    {
     "name": "stderr",
     "output_type": "stream",
     "text": [
      "Training progress: 100%|██████████| 304/304 [01:03<00:00,  4.80batch/s]\n"
     ]
    },
    {
     "name": "stdout",
     "output_type": "stream",
     "text": [
      "Epoch 10/16, Train-Loss: 0.5548, Val-Loss: 0.5402, Val-F1: 0.7885, Val-Precision: 0.7489, Val-Recall: 0.8325, Val-Accuracy: 0.7703\n"
     ]
    },
    {
     "name": "stderr",
     "output_type": "stream",
     "text": [
      "Training progress: 100%|██████████| 304/304 [01:03<00:00,  4.80batch/s]\n"
     ]
    },
    {
     "name": "stdout",
     "output_type": "stream",
     "text": [
      "Epoch 11/16, Train-Loss: 0.5511, Val-Loss: 0.5362, Val-F1: 0.7865, Val-Precision: 0.7415, Val-Recall: 0.8373, Val-Accuracy: 0.7662\n"
     ]
    },
    {
     "name": "stderr",
     "output_type": "stream",
     "text": [
      "Training progress: 100%|██████████| 304/304 [01:03<00:00,  4.80batch/s]\n"
     ]
    },
    {
     "name": "stdout",
     "output_type": "stream",
     "text": [
      "Epoch 12/16, Train-Loss: 0.5483, Val-Loss: 0.5331, Val-F1: 0.7843, Val-Precision: 0.7327, Val-Recall: 0.8437, Val-Accuracy: 0.7613\n"
     ]
    },
    {
     "name": "stderr",
     "output_type": "stream",
     "text": [
      "Training progress: 100%|██████████| 304/304 [01:03<00:00,  4.80batch/s]\n"
     ]
    },
    {
     "name": "stdout",
     "output_type": "stream",
     "text": [
      "Epoch 13/16, Train-Loss: 0.5466, Val-Loss: 0.5305, Val-F1: 0.7885, Val-Precision: 0.7489, Val-Recall: 0.8325, Val-Accuracy: 0.7703\n"
     ]
    },
    {
     "name": "stderr",
     "output_type": "stream",
     "text": [
      "Training progress: 100%|██████████| 304/304 [01:03<00:00,  4.81batch/s]\n"
     ]
    },
    {
     "name": "stdout",
     "output_type": "stream",
     "text": [
      "Epoch 14/16, Train-Loss: 0.5444, Val-Loss: 0.5283, Val-F1: 0.7933, Val-Precision: 0.7576, Val-Recall: 0.8325, Val-Accuracy: 0.7769\n"
     ]
    },
    {
     "name": "stderr",
     "output_type": "stream",
     "text": [
      "Training progress: 100%|██████████| 304/304 [01:03<00:00,  4.82batch/s]\n"
     ]
    },
    {
     "name": "stdout",
     "output_type": "stream",
     "text": [
      "Epoch 15/16, Train-Loss: 0.5427, Val-Loss: 0.5266, Val-F1: 0.7954, Val-Precision: 0.7628, Val-Recall: 0.8309, Val-Accuracy: 0.7801\n"
     ]
    },
    {
     "name": "stderr",
     "output_type": "stream",
     "text": [
      "Training progress: 100%|██████████| 304/304 [01:03<00:00,  4.80batch/s]\n"
     ]
    },
    {
     "name": "stdout",
     "output_type": "stream",
     "text": [
      "Epoch 16/16, Train-Loss: 0.5417, Val-Loss: 0.5258, Val-F1: 0.8031, Val-Precision: 0.7842, Val-Recall: 0.8230, Val-Accuracy: 0.7925\n",
      "\n",
      "\u001b[92mRESULTS:\n",
      " F1-Score:0.7825421133231241, Precision:0.7514705882352941, Recall:0.8162939297124601, Accuracy:0.7668308702791461, BCE:0.5247375965118408 \u001b[0m \n",
      "\n",
      "\n",
      "\u001b[91mRUN 26:\u001b[0m\n",
      " Ranga2024Circuit \n",
      " lr: 0.001\n"
     ]
    },
    {
     "name": "stderr",
     "output_type": "stream",
     "text": [
      "Training progress: 100%|██████████| 304/304 [01:03<00:00,  4.80batch/s]\n"
     ]
    },
    {
     "name": "stdout",
     "output_type": "stream",
     "text": [
      "Epoch 1/16, Train-Loss: 0.7273, Val-Loss: 0.7185, Val-F1: 0.6793, Val-Precision: 0.5144, Val-Recall: 1.0000, Val-Accuracy: 0.5144\n"
     ]
    },
    {
     "name": "stderr",
     "output_type": "stream",
     "text": [
      "Training progress: 100%|██████████| 304/304 [01:03<00:00,  4.82batch/s]\n"
     ]
    },
    {
     "name": "stdout",
     "output_type": "stream",
     "text": [
      "Epoch 2/16, Train-Loss: 0.7138, Val-Loss: 0.7110, Val-F1: 0.6793, Val-Precision: 0.5144, Val-Recall: 1.0000, Val-Accuracy: 0.5144\n"
     ]
    },
    {
     "name": "stderr",
     "output_type": "stream",
     "text": [
      "Training progress: 100%|██████████| 304/304 [01:03<00:00,  4.81batch/s]\n"
     ]
    },
    {
     "name": "stdout",
     "output_type": "stream",
     "text": [
      "Epoch 3/16, Train-Loss: 0.7079, Val-Loss: 0.7056, Val-F1: 0.6793, Val-Precision: 0.5144, Val-Recall: 1.0000, Val-Accuracy: 0.5144\n"
     ]
    },
    {
     "name": "stderr",
     "output_type": "stream",
     "text": [
      "Training progress: 100%|██████████| 304/304 [01:03<00:00,  4.81batch/s]\n"
     ]
    },
    {
     "name": "stdout",
     "output_type": "stream",
     "text": [
      "Epoch 4/16, Train-Loss: 0.7028, Val-Loss: 0.7006, Val-F1: 0.6793, Val-Precision: 0.5144, Val-Recall: 1.0000, Val-Accuracy: 0.5144\n"
     ]
    },
    {
     "name": "stderr",
     "output_type": "stream",
     "text": [
      "Training progress: 100%|██████████| 304/304 [01:03<00:00,  4.80batch/s]\n"
     ]
    },
    {
     "name": "stdout",
     "output_type": "stream",
     "text": [
      "Epoch 5/16, Train-Loss: 0.6980, Val-Loss: 0.6957, Val-F1: 0.6793, Val-Precision: 0.5144, Val-Recall: 1.0000, Val-Accuracy: 0.5144\n"
     ]
    },
    {
     "name": "stderr",
     "output_type": "stream",
     "text": [
      "Training progress: 100%|██████████| 304/304 [01:03<00:00,  4.81batch/s]\n"
     ]
    },
    {
     "name": "stdout",
     "output_type": "stream",
     "text": [
      "Epoch 6/16, Train-Loss: 0.6935, Val-Loss: 0.6910, Val-F1: 0.6793, Val-Precision: 0.5144, Val-Recall: 1.0000, Val-Accuracy: 0.5144\n"
     ]
    },
    {
     "name": "stderr",
     "output_type": "stream",
     "text": [
      "Training progress: 100%|██████████| 304/304 [01:03<00:00,  4.81batch/s]\n"
     ]
    },
    {
     "name": "stdout",
     "output_type": "stream",
     "text": [
      "Epoch 7/16, Train-Loss: 0.6890, Val-Loss: 0.6863, Val-F1: 0.6797, Val-Precision: 0.5148, Val-Recall: 1.0000, Val-Accuracy: 0.5152\n"
     ]
    },
    {
     "name": "stderr",
     "output_type": "stream",
     "text": [
      "Training progress: 100%|██████████| 304/304 [01:03<00:00,  4.81batch/s]\n"
     ]
    },
    {
     "name": "stdout",
     "output_type": "stream",
     "text": [
      "Epoch 8/16, Train-Loss: 0.6846, Val-Loss: 0.6817, Val-F1: 0.6808, Val-Precision: 0.5165, Val-Recall: 0.9984, Val-Accuracy: 0.5185\n"
     ]
    },
    {
     "name": "stderr",
     "output_type": "stream",
     "text": [
      "Training progress: 100%|██████████| 304/304 [01:03<00:00,  4.80batch/s]\n"
     ]
    },
    {
     "name": "stdout",
     "output_type": "stream",
     "text": [
      "Epoch 9/16, Train-Loss: 0.6803, Val-Loss: 0.6772, Val-F1: 0.6835, Val-Precision: 0.5218, Val-Recall: 0.9904, Val-Accuracy: 0.5283\n"
     ]
    },
    {
     "name": "stderr",
     "output_type": "stream",
     "text": [
      "Training progress: 100%|██████████| 304/304 [01:03<00:00,  4.81batch/s]\n"
     ]
    },
    {
     "name": "stdout",
     "output_type": "stream",
     "text": [
      "Epoch 10/16, Train-Loss: 0.6760, Val-Loss: 0.6729, Val-F1: 0.6940, Val-Precision: 0.5361, Val-Recall: 0.9841, Val-Accuracy: 0.5537\n"
     ]
    },
    {
     "name": "stderr",
     "output_type": "stream",
     "text": [
      "Training progress: 100%|██████████| 304/304 [01:03<00:00,  4.81batch/s]\n"
     ]
    },
    {
     "name": "stdout",
     "output_type": "stream",
     "text": [
      "Epoch 11/16, Train-Loss: 0.6718, Val-Loss: 0.6687, Val-F1: 0.7050, Val-Precision: 0.5513, Val-Recall: 0.9777, Val-Accuracy: 0.5792\n"
     ]
    },
    {
     "name": "stderr",
     "output_type": "stream",
     "text": [
      "Training progress: 100%|██████████| 304/304 [01:03<00:00,  4.80batch/s]\n"
     ]
    },
    {
     "name": "stdout",
     "output_type": "stream",
     "text": [
      "Epoch 12/16, Train-Loss: 0.6679, Val-Loss: 0.6645, Val-F1: 0.7079, Val-Precision: 0.5548, Val-Recall: 0.9777, Val-Accuracy: 0.5849\n"
     ]
    },
    {
     "name": "stderr",
     "output_type": "stream",
     "text": [
      "Training progress: 100%|██████████| 304/304 [01:03<00:00,  4.81batch/s]\n"
     ]
    },
    {
     "name": "stdout",
     "output_type": "stream",
     "text": [
      "Epoch 13/16, Train-Loss: 0.6641, Val-Loss: 0.6605, Val-F1: 0.7144, Val-Precision: 0.5649, Val-Recall: 0.9713, Val-Accuracy: 0.6005\n"
     ]
    },
    {
     "name": "stderr",
     "output_type": "stream",
     "text": [
      "Training progress: 100%|██████████| 304/304 [01:03<00:00,  4.80batch/s]\n"
     ]
    },
    {
     "name": "stdout",
     "output_type": "stream",
     "text": [
      "Epoch 14/16, Train-Loss: 0.6604, Val-Loss: 0.6566, Val-F1: 0.7217, Val-Precision: 0.5799, Val-Recall: 0.9553, Val-Accuracy: 0.6210\n"
     ]
    },
    {
     "name": "stderr",
     "output_type": "stream",
     "text": [
      "Training progress: 100%|██████████| 304/304 [01:03<00:00,  4.80batch/s]\n"
     ]
    },
    {
     "name": "stdout",
     "output_type": "stream",
     "text": [
      "Epoch 15/16, Train-Loss: 0.6567, Val-Loss: 0.6529, Val-F1: 0.7259, Val-Precision: 0.5872, Val-Recall: 0.9506, Val-Accuracy: 0.6308\n"
     ]
    },
    {
     "name": "stderr",
     "output_type": "stream",
     "text": [
      "Training progress: 100%|██████████| 304/304 [01:03<00:00,  4.81batch/s]\n"
     ]
    },
    {
     "name": "stdout",
     "output_type": "stream",
     "text": [
      "Epoch 16/16, Train-Loss: 0.6532, Val-Loss: 0.6492, Val-F1: 0.7263, Val-Precision: 0.5920, Val-Recall: 0.9394, Val-Accuracy: 0.6358\n",
      "\n",
      "\u001b[92mRESULTS:\n",
      " F1-Score:0.7385377942998761, Precision:0.6032388663967612, Recall:0.952076677316294, Accuracy:0.6535303776683087, BCE:0.6482089757919312 \u001b[0m \n",
      "\n",
      "\n",
      "\u001b[91mRUN 27:\u001b[0m\n",
      " Senokosov2024Circuit \n",
      " lr: 0.01\n"
     ]
    },
    {
     "name": "stderr",
     "output_type": "stream",
     "text": [
      "Training progress: 100%|██████████| 304/304 [00:42<00:00,  7.10batch/s]\n"
     ]
    },
    {
     "name": "stdout",
     "output_type": "stream",
     "text": [
      "Epoch 1/16, Train-Loss: 0.6912, Val-Loss: 0.6685, Val-F1: 0.7383, Val-Precision: 0.5879, Val-Recall: 0.9920, Val-Accuracy: 0.6382\n"
     ]
    },
    {
     "name": "stderr",
     "output_type": "stream",
     "text": [
      "Training progress: 100%|██████████| 304/304 [00:42<00:00,  7.10batch/s]\n"
     ]
    },
    {
     "name": "stdout",
     "output_type": "stream",
     "text": [
      "Epoch 2/16, Train-Loss: 0.6547, Val-Loss: 0.6395, Val-F1: 0.7578, Val-Precision: 0.6226, Val-Recall: 0.9681, Val-Accuracy: 0.6817\n"
     ]
    },
    {
     "name": "stderr",
     "output_type": "stream",
     "text": [
      "Training progress: 100%|██████████| 304/304 [00:42<00:00,  7.09batch/s]\n"
     ]
    },
    {
     "name": "stdout",
     "output_type": "stream",
     "text": [
      "Epoch 3/16, Train-Loss: 0.6288, Val-Loss: 0.6155, Val-F1: 0.7895, Val-Precision: 0.7085, Val-Recall: 0.8915, Val-Accuracy: 0.7555\n"
     ]
    },
    {
     "name": "stderr",
     "output_type": "stream",
     "text": [
      "Training progress: 100%|██████████| 304/304 [00:42<00:00,  7.08batch/s]\n"
     ]
    },
    {
     "name": "stdout",
     "output_type": "stream",
     "text": [
      "Epoch 4/16, Train-Loss: 0.6074, Val-Loss: 0.5962, Val-F1: 0.7641, Val-Precision: 0.6388, Val-Recall: 0.9506, Val-Accuracy: 0.6981\n"
     ]
    },
    {
     "name": "stderr",
     "output_type": "stream",
     "text": [
      "Training progress: 100%|██████████| 304/304 [00:42<00:00,  7.09batch/s]\n"
     ]
    },
    {
     "name": "stdout",
     "output_type": "stream",
     "text": [
      "Epoch 5/16, Train-Loss: 0.5901, Val-Loss: 0.5786, Val-F1: 0.7809, Val-Precision: 0.6890, Val-Recall: 0.9011, Val-Accuracy: 0.7400\n"
     ]
    },
    {
     "name": "stderr",
     "output_type": "stream",
     "text": [
      "Training progress: 100%|██████████| 304/304 [00:42<00:00,  7.10batch/s]\n"
     ]
    },
    {
     "name": "stdout",
     "output_type": "stream",
     "text": [
      "Epoch 6/16, Train-Loss: 0.5754, Val-Loss: 0.5643, Val-F1: 0.7900, Val-Precision: 0.7134, Val-Recall: 0.8852, Val-Accuracy: 0.7580\n"
     ]
    },
    {
     "name": "stderr",
     "output_type": "stream",
     "text": [
      "Training progress: 100%|██████████| 304/304 [00:42<00:00,  7.11batch/s]\n"
     ]
    },
    {
     "name": "stdout",
     "output_type": "stream",
     "text": [
      "Epoch 7/16, Train-Loss: 0.5630, Val-Loss: 0.5520, Val-F1: 0.7953, Val-Precision: 0.7319, Val-Recall: 0.8708, Val-Accuracy: 0.7695\n"
     ]
    },
    {
     "name": "stderr",
     "output_type": "stream",
     "text": [
      "Training progress: 100%|██████████| 304/304 [00:42<00:00,  7.11batch/s]\n"
     ]
    },
    {
     "name": "stdout",
     "output_type": "stream",
     "text": [
      "Epoch 8/16, Train-Loss: 0.5519, Val-Loss: 0.5413, Val-F1: 0.7895, Val-Precision: 0.7085, Val-Recall: 0.8915, Val-Accuracy: 0.7555\n"
     ]
    },
    {
     "name": "stderr",
     "output_type": "stream",
     "text": [
      "Training progress: 100%|██████████| 304/304 [00:42<00:00,  7.10batch/s]\n"
     ]
    },
    {
     "name": "stdout",
     "output_type": "stream",
     "text": [
      "Epoch 9/16, Train-Loss: 0.5425, Val-Loss: 0.5318, Val-F1: 0.7914, Val-Precision: 0.7167, Val-Recall: 0.8836, Val-Accuracy: 0.7605\n"
     ]
    },
    {
     "name": "stderr",
     "output_type": "stream",
     "text": [
      "Training progress: 100%|██████████| 304/304 [00:42<00:00,  7.09batch/s]\n"
     ]
    },
    {
     "name": "stdout",
     "output_type": "stream",
     "text": [
      "Epoch 10/16, Train-Loss: 0.5342, Val-Loss: 0.5237, Val-F1: 0.7976, Val-Precision: 0.7500, Val-Recall: 0.8517, Val-Accuracy: 0.7777\n"
     ]
    },
    {
     "name": "stderr",
     "output_type": "stream",
     "text": [
      "Training progress: 100%|██████████| 304/304 [00:42<00:00,  7.09batch/s]\n"
     ]
    },
    {
     "name": "stdout",
     "output_type": "stream",
     "text": [
      "Epoch 11/16, Train-Loss: 0.5270, Val-Loss: 0.5163, Val-F1: 0.7968, Val-Precision: 0.7401, Val-Recall: 0.8628, Val-Accuracy: 0.7736\n"
     ]
    },
    {
     "name": "stderr",
     "output_type": "stream",
     "text": [
      "Training progress: 100%|██████████| 304/304 [00:42<00:00,  7.10batch/s]\n"
     ]
    },
    {
     "name": "stdout",
     "output_type": "stream",
     "text": [
      "Epoch 12/16, Train-Loss: 0.5211, Val-Loss: 0.5100, Val-F1: 0.7956, Val-Precision: 0.7358, Val-Recall: 0.8660, Val-Accuracy: 0.7711\n"
     ]
    },
    {
     "name": "stderr",
     "output_type": "stream",
     "text": [
      "Training progress: 100%|██████████| 304/304 [00:42<00:00,  7.11batch/s]\n"
     ]
    },
    {
     "name": "stdout",
     "output_type": "stream",
     "text": [
      "Epoch 13/16, Train-Loss: 0.5156, Val-Loss: 0.5043, Val-F1: 0.7968, Val-Precision: 0.7401, Val-Recall: 0.8628, Val-Accuracy: 0.7736\n"
     ]
    },
    {
     "name": "stderr",
     "output_type": "stream",
     "text": [
      "Training progress: 100%|██████████| 304/304 [00:42<00:00,  7.10batch/s]\n"
     ]
    },
    {
     "name": "stdout",
     "output_type": "stream",
     "text": [
      "Epoch 14/16, Train-Loss: 0.5109, Val-Loss: 0.4995, Val-F1: 0.8024, Val-Precision: 0.7611, Val-Recall: 0.8485, Val-Accuracy: 0.7851\n"
     ]
    },
    {
     "name": "stderr",
     "output_type": "stream",
     "text": [
      "Training progress: 100%|██████████| 304/304 [00:42<00:00,  7.10batch/s]\n"
     ]
    },
    {
     "name": "stdout",
     "output_type": "stream",
     "text": [
      "Epoch 15/16, Train-Loss: 0.5067, Val-Loss: 0.4949, Val-F1: 0.7988, Val-Precision: 0.7521, Val-Recall: 0.8517, Val-Accuracy: 0.7793\n"
     ]
    },
    {
     "name": "stderr",
     "output_type": "stream",
     "text": [
      "Training progress: 100%|██████████| 304/304 [00:42<00:00,  7.10batch/s]\n"
     ]
    },
    {
     "name": "stdout",
     "output_type": "stream",
     "text": [
      "Epoch 16/16, Train-Loss: 0.5027, Val-Loss: 0.4913, Val-F1: 0.8003, Val-Precision: 0.7691, Val-Recall: 0.8341, Val-Accuracy: 0.7859\n",
      "\n",
      "\u001b[92mRESULTS:\n",
      " F1-Score:0.7802281368821293, Precision:0.7445573294629898, Recall:0.8194888178913738, Accuracy:0.7627257799671593, BCE:0.495839387178421 \u001b[0m \n",
      "\n",
      "\n",
      "\u001b[91mRUN 28:\u001b[0m\n",
      " Senokosov2024Circuit \n",
      " lr: 0.001\n"
     ]
    },
    {
     "name": "stderr",
     "output_type": "stream",
     "text": [
      "Training progress: 100%|██████████| 304/304 [00:42<00:00,  7.08batch/s]\n"
     ]
    },
    {
     "name": "stdout",
     "output_type": "stream",
     "text": [
      "Epoch 1/16, Train-Loss: 0.7383, Val-Loss: 0.7231, Val-F1: 0.6793, Val-Precision: 0.5144, Val-Recall: 1.0000, Val-Accuracy: 0.5144\n"
     ]
    },
    {
     "name": "stderr",
     "output_type": "stream",
     "text": [
      "Training progress: 100%|██████████| 304/304 [00:42<00:00,  7.11batch/s]\n"
     ]
    },
    {
     "name": "stdout",
     "output_type": "stream",
     "text": [
      "Epoch 2/16, Train-Loss: 0.7137, Val-Loss: 0.7062, Val-F1: 0.6793, Val-Precision: 0.5144, Val-Recall: 1.0000, Val-Accuracy: 0.5144\n"
     ]
    },
    {
     "name": "stderr",
     "output_type": "stream",
     "text": [
      "Training progress: 100%|██████████| 304/304 [00:42<00:00,  7.12batch/s]\n"
     ]
    },
    {
     "name": "stdout",
     "output_type": "stream",
     "text": [
      "Epoch 3/16, Train-Loss: 0.7014, Val-Loss: 0.6972, Val-F1: 0.6793, Val-Precision: 0.5144, Val-Recall: 1.0000, Val-Accuracy: 0.5144\n"
     ]
    },
    {
     "name": "stderr",
     "output_type": "stream",
     "text": [
      "Training progress: 100%|██████████| 304/304 [00:42<00:00,  7.13batch/s]\n"
     ]
    },
    {
     "name": "stdout",
     "output_type": "stream",
     "text": [
      "Epoch 4/16, Train-Loss: 0.6942, Val-Loss: 0.6915, Val-F1: 0.6793, Val-Precision: 0.5144, Val-Recall: 1.0000, Val-Accuracy: 0.5144\n"
     ]
    },
    {
     "name": "stderr",
     "output_type": "stream",
     "text": [
      "Training progress: 100%|██████████| 304/304 [00:42<00:00,  7.10batch/s]\n"
     ]
    },
    {
     "name": "stdout",
     "output_type": "stream",
     "text": [
      "Epoch 5/16, Train-Loss: 0.6893, Val-Loss: 0.6870, Val-F1: 0.6793, Val-Precision: 0.5144, Val-Recall: 1.0000, Val-Accuracy: 0.5144\n"
     ]
    },
    {
     "name": "stderr",
     "output_type": "stream",
     "text": [
      "Training progress: 100%|██████████| 304/304 [00:42<00:00,  7.10batch/s]\n"
     ]
    },
    {
     "name": "stdout",
     "output_type": "stream",
     "text": [
      "Epoch 6/16, Train-Loss: 0.6853, Val-Loss: 0.6832, Val-F1: 0.6800, Val-Precision: 0.5152, Val-Recall: 1.0000, Val-Accuracy: 0.5160\n"
     ]
    },
    {
     "name": "stderr",
     "output_type": "stream",
     "text": [
      "Training progress: 100%|██████████| 304/304 [00:42<00:00,  7.10batch/s]\n"
     ]
    },
    {
     "name": "stdout",
     "output_type": "stream",
     "text": [
      "Epoch 7/16, Train-Loss: 0.6817, Val-Loss: 0.6796, Val-F1: 0.6952, Val-Precision: 0.5332, Val-Recall: 0.9984, Val-Accuracy: 0.5496\n"
     ]
    },
    {
     "name": "stderr",
     "output_type": "stream",
     "text": [
      "Training progress: 100%|██████████| 304/304 [00:42<00:00,  7.09batch/s]\n"
     ]
    },
    {
     "name": "stdout",
     "output_type": "stream",
     "text": [
      "Epoch 8/16, Train-Loss: 0.6783, Val-Loss: 0.6762, Val-F1: 0.7111, Val-Precision: 0.5532, Val-Recall: 0.9952, Val-Accuracy: 0.5841\n"
     ]
    },
    {
     "name": "stderr",
     "output_type": "stream",
     "text": [
      "Training progress: 100%|██████████| 304/304 [00:42<00:00,  7.11batch/s]\n"
     ]
    },
    {
     "name": "stdout",
     "output_type": "stream",
     "text": [
      "Epoch 9/16, Train-Loss: 0.6750, Val-Loss: 0.6729, Val-F1: 0.7261, Val-Precision: 0.5721, Val-Recall: 0.9936, Val-Accuracy: 0.6144\n"
     ]
    },
    {
     "name": "stderr",
     "output_type": "stream",
     "text": [
      "Training progress: 100%|██████████| 304/304 [00:42<00:00,  7.11batch/s]\n"
     ]
    },
    {
     "name": "stdout",
     "output_type": "stream",
     "text": [
      "Epoch 10/16, Train-Loss: 0.6718, Val-Loss: 0.6697, Val-F1: 0.7387, Val-Precision: 0.5885, Val-Recall: 0.9920, Val-Accuracy: 0.6390\n"
     ]
    },
    {
     "name": "stderr",
     "output_type": "stream",
     "text": [
      "Training progress: 100%|██████████| 304/304 [00:42<00:00,  7.12batch/s]\n"
     ]
    },
    {
     "name": "stdout",
     "output_type": "stream",
     "text": [
      "Epoch 11/16, Train-Loss: 0.6687, Val-Loss: 0.6665, Val-F1: 0.7455, Val-Precision: 0.5994, Val-Recall: 0.9856, Val-Accuracy: 0.6538\n"
     ]
    },
    {
     "name": "stderr",
     "output_type": "stream",
     "text": [
      "Training progress: 100%|██████████| 304/304 [00:42<00:00,  7.10batch/s]\n"
     ]
    },
    {
     "name": "stdout",
     "output_type": "stream",
     "text": [
      "Epoch 12/16, Train-Loss: 0.6657, Val-Loss: 0.6635, Val-F1: 0.7471, Val-Precision: 0.6027, Val-Recall: 0.9825, Val-Accuracy: 0.6579\n"
     ]
    },
    {
     "name": "stderr",
     "output_type": "stream",
     "text": [
      "Training progress: 100%|██████████| 304/304 [00:42<00:00,  7.10batch/s]\n"
     ]
    },
    {
     "name": "stdout",
     "output_type": "stream",
     "text": [
      "Epoch 13/16, Train-Loss: 0.6627, Val-Loss: 0.6604, Val-F1: 0.7528, Val-Precision: 0.6107, Val-Recall: 0.9809, Val-Accuracy: 0.6686\n"
     ]
    },
    {
     "name": "stderr",
     "output_type": "stream",
     "text": [
      "Training progress: 100%|██████████| 304/304 [00:42<00:00,  7.09batch/s]\n"
     ]
    },
    {
     "name": "stdout",
     "output_type": "stream",
     "text": [
      "Epoch 14/16, Train-Loss: 0.6598, Val-Loss: 0.6575, Val-F1: 0.7545, Val-Precision: 0.6181, Val-Recall: 0.9681, Val-Accuracy: 0.6760\n"
     ]
    },
    {
     "name": "stderr",
     "output_type": "stream",
     "text": [
      "Training progress: 100%|██████████| 304/304 [00:42<00:00,  7.11batch/s]\n"
     ]
    },
    {
     "name": "stdout",
     "output_type": "stream",
     "text": [
      "Epoch 15/16, Train-Loss: 0.6570, Val-Loss: 0.6546, Val-F1: 0.7559, Val-Precision: 0.6200, Val-Recall: 0.9681, Val-Accuracy: 0.6784\n"
     ]
    },
    {
     "name": "stderr",
     "output_type": "stream",
     "text": [
      "Training progress: 100%|██████████| 304/304 [00:42<00:00,  7.07batch/s]\n"
     ]
    },
    {
     "name": "stdout",
     "output_type": "stream",
     "text": [
      "Epoch 16/16, Train-Loss: 0.6541, Val-Loss: 0.6517, Val-F1: 0.7589, Val-Precision: 0.6247, Val-Recall: 0.9665, Val-Accuracy: 0.6842\n",
      "\n",
      "\u001b[92mRESULTS:\n",
      " F1-Score:0.7522012578616353, Precision:0.6203319502074689, Recall:0.9552715654952076, Accuracy:0.6765188834154351, BCE:0.6514304280281067 \u001b[0m \n",
      "\n",
      "\n",
      "\u001b[91mRUN 29:\u001b[0m\n",
      " Anusha2024Circuit \n",
      " lr: 0.01\n"
     ]
    },
    {
     "name": "stderr",
     "output_type": "stream",
     "text": [
      "Training progress: 100%|██████████| 304/304 [00:18<00:00, 16.66batch/s]\n"
     ]
    },
    {
     "name": "stdout",
     "output_type": "stream",
     "text": [
      "Epoch 1/16, Train-Loss: 0.6999, Val-Loss: 0.6972, Val-F1: 0.5295, Val-Precision: 0.4866, Val-Recall: 0.5805, Val-Accuracy: 0.4692\n"
     ]
    },
    {
     "name": "stderr",
     "output_type": "stream",
     "text": [
      "Training progress: 100%|██████████| 304/304 [00:18<00:00, 16.52batch/s]\n"
     ]
    },
    {
     "name": "stdout",
     "output_type": "stream",
     "text": [
      "Epoch 2/16, Train-Loss: 0.6949, Val-Loss: 0.6929, Val-F1: 0.6793, Val-Precision: 0.5144, Val-Recall: 1.0000, Val-Accuracy: 0.5144\n"
     ]
    },
    {
     "name": "stderr",
     "output_type": "stream",
     "text": [
      "Training progress: 100%|██████████| 304/304 [00:18<00:00, 16.59batch/s]\n"
     ]
    },
    {
     "name": "stdout",
     "output_type": "stream",
     "text": [
      "Epoch 3/16, Train-Loss: 0.6925, Val-Loss: 0.6937, Val-F1: 0.0000, Val-Precision: 0.0000, Val-Recall: 0.0000, Val-Accuracy: 0.4856\n"
     ]
    },
    {
     "name": "stderr",
     "output_type": "stream",
     "text": [
      "Training progress: 100%|██████████| 304/304 [00:18<00:00, 16.54batch/s]\n"
     ]
    },
    {
     "name": "stdout",
     "output_type": "stream",
     "text": [
      "Epoch 4/16, Train-Loss: 0.6917, Val-Loss: 0.6913, Val-F1: 0.6674, Val-Precision: 0.5124, Val-Recall: 0.9569, Val-Accuracy: 0.5094\n"
     ]
    },
    {
     "name": "stderr",
     "output_type": "stream",
     "text": [
      "Training progress: 100%|██████████| 304/304 [00:18<00:00, 16.59batch/s]\n"
     ]
    },
    {
     "name": "stdout",
     "output_type": "stream",
     "text": [
      "Epoch 5/16, Train-Loss: 0.6916, Val-Loss: 0.6911, Val-F1: 0.6704, Val-Precision: 0.5198, Val-Recall: 0.9442, Val-Accuracy: 0.5226\n"
     ]
    },
    {
     "name": "stderr",
     "output_type": "stream",
     "text": [
      "Training progress: 100%|██████████| 304/304 [00:18<00:00, 16.59batch/s]\n"
     ]
    },
    {
     "name": "stdout",
     "output_type": "stream",
     "text": [
      "Epoch 6/16, Train-Loss: 0.6916, Val-Loss: 0.6898, Val-F1: 0.6330, Val-Precision: 0.5428, Val-Recall: 0.7592, Val-Accuracy: 0.5472\n"
     ]
    },
    {
     "name": "stderr",
     "output_type": "stream",
     "text": [
      "Training progress: 100%|██████████| 304/304 [00:18<00:00, 16.54batch/s]\n"
     ]
    },
    {
     "name": "stdout",
     "output_type": "stream",
     "text": [
      "Epoch 7/16, Train-Loss: 0.6917, Val-Loss: 0.6897, Val-F1: 0.6259, Val-Precision: 0.5494, Val-Recall: 0.7273, Val-Accuracy: 0.5529\n"
     ]
    },
    {
     "name": "stderr",
     "output_type": "stream",
     "text": [
      "Training progress: 100%|██████████| 304/304 [00:18<00:00, 16.52batch/s]\n"
     ]
    },
    {
     "name": "stdout",
     "output_type": "stream",
     "text": [
      "Epoch 8/16, Train-Loss: 0.6919, Val-Loss: 0.6901, Val-F1: 0.6530, Val-Precision: 0.5241, Val-Recall: 0.8660, Val-Accuracy: 0.5267\n"
     ]
    },
    {
     "name": "stderr",
     "output_type": "stream",
     "text": [
      "Training progress: 100%|██████████| 304/304 [00:18<00:00, 16.59batch/s]\n"
     ]
    },
    {
     "name": "stdout",
     "output_type": "stream",
     "text": [
      "Epoch 9/16, Train-Loss: 0.6920, Val-Loss: 0.6897, Val-F1: 0.5809, Val-Precision: 0.5413, Val-Recall: 0.6268, Val-Accuracy: 0.5349\n"
     ]
    },
    {
     "name": "stderr",
     "output_type": "stream",
     "text": [
      "Training progress: 100%|██████████| 304/304 [00:18<00:00, 16.58batch/s]\n"
     ]
    },
    {
     "name": "stdout",
     "output_type": "stream",
     "text": [
      "Epoch 10/16, Train-Loss: 0.6918, Val-Loss: 0.6896, Val-F1: 0.6477, Val-Precision: 0.5453, Val-Recall: 0.7974, Val-Accuracy: 0.5537\n"
     ]
    },
    {
     "name": "stderr",
     "output_type": "stream",
     "text": [
      "Training progress: 100%|██████████| 304/304 [00:18<00:00, 16.58batch/s]\n"
     ]
    },
    {
     "name": "stdout",
     "output_type": "stream",
     "text": [
      "Epoch 11/16, Train-Loss: 0.6911, Val-Loss: 0.6902, Val-F1: 0.5382, Val-Precision: 0.5615, Val-Recall: 0.5167, Val-Accuracy: 0.5439\n"
     ]
    },
    {
     "name": "stderr",
     "output_type": "stream",
     "text": [
      "Training progress: 100%|██████████| 304/304 [00:18<00:00, 16.56batch/s]\n"
     ]
    },
    {
     "name": "stdout",
     "output_type": "stream",
     "text": [
      "Epoch 12/16, Train-Loss: 0.6917, Val-Loss: 0.6896, Val-F1: 0.6483, Val-Precision: 0.5418, Val-Recall: 0.8070, Val-Accuracy: 0.5496\n"
     ]
    },
    {
     "name": "stderr",
     "output_type": "stream",
     "text": [
      "Training progress: 100%|██████████| 304/304 [00:18<00:00, 16.55batch/s]\n"
     ]
    },
    {
     "name": "stdout",
     "output_type": "stream",
     "text": [
      "Epoch 13/16, Train-Loss: 0.6917, Val-Loss: 0.6896, Val-F1: 0.6463, Val-Precision: 0.5449, Val-Recall: 0.7943, Val-Accuracy: 0.5529\n"
     ]
    },
    {
     "name": "stderr",
     "output_type": "stream",
     "text": [
      "Training progress: 100%|██████████| 304/304 [00:18<00:00, 16.48batch/s]\n"
     ]
    },
    {
     "name": "stdout",
     "output_type": "stream",
     "text": [
      "Epoch 14/16, Train-Loss: 0.6917, Val-Loss: 0.6897, Val-F1: 0.5795, Val-Precision: 0.5424, Val-Recall: 0.6220, Val-Accuracy: 0.5357\n"
     ]
    },
    {
     "name": "stderr",
     "output_type": "stream",
     "text": [
      "Training progress: 100%|██████████| 304/304 [00:18<00:00, 16.49batch/s]\n"
     ]
    },
    {
     "name": "stdout",
     "output_type": "stream",
     "text": [
      "Epoch 15/16, Train-Loss: 0.6916, Val-Loss: 0.6897, Val-F1: 0.5809, Val-Precision: 0.5413, Val-Recall: 0.6268, Val-Accuracy: 0.5349\n"
     ]
    },
    {
     "name": "stderr",
     "output_type": "stream",
     "text": [
      "Training progress: 100%|██████████| 304/304 [00:18<00:00, 16.59batch/s]\n"
     ]
    },
    {
     "name": "stdout",
     "output_type": "stream",
     "text": [
      "Epoch 16/16, Train-Loss: 0.6917, Val-Loss: 0.6919, Val-F1: 0.3583, Val-Precision: 0.5612, Val-Recall: 0.2632, Val-Accuracy: 0.5152\n",
      "\n",
      "\u001b[92mRESULTS:\n",
      " F1-Score:0.3555070883315158, Precision:0.5601374570446735, Recall:0.26038338658146964, Accuracy:0.5147783251231527, BCE:0.6918792128562927 \u001b[0m \n",
      "\n",
      "\n",
      "\u001b[91mRUN 30:\u001b[0m\n",
      " Anusha2024Circuit \n",
      " lr: 0.001\n"
     ]
    },
    {
     "name": "stderr",
     "output_type": "stream",
     "text": [
      "Training progress: 100%|██████████| 304/304 [00:18<00:00, 16.60batch/s]\n"
     ]
    },
    {
     "name": "stdout",
     "output_type": "stream",
     "text": [
      "Epoch 1/16, Train-Loss: 0.7038, Val-Loss: 0.7037, Val-F1: 0.5987, Val-Precision: 0.4984, Val-Recall: 0.7496, Val-Accuracy: 0.4832\n"
     ]
    },
    {
     "name": "stderr",
     "output_type": "stream",
     "text": [
      "Training progress: 100%|██████████| 304/304 [00:18<00:00, 16.52batch/s]\n"
     ]
    },
    {
     "name": "stdout",
     "output_type": "stream",
     "text": [
      "Epoch 2/16, Train-Loss: 0.7019, Val-Loss: 0.7026, Val-F1: 0.5997, Val-Precision: 0.5005, Val-Recall: 0.7480, Val-Accuracy: 0.4865\n"
     ]
    },
    {
     "name": "stderr",
     "output_type": "stream",
     "text": [
      "Training progress: 100%|██████████| 304/304 [00:18<00:00, 16.54batch/s]\n"
     ]
    },
    {
     "name": "stdout",
     "output_type": "stream",
     "text": [
      "Epoch 3/16, Train-Loss: 0.7009, Val-Loss: 0.7015, Val-F1: 0.5996, Val-Precision: 0.4989, Val-Recall: 0.7512, Val-Accuracy: 0.4840\n"
     ]
    },
    {
     "name": "stderr",
     "output_type": "stream",
     "text": [
      "Training progress: 100%|██████████| 304/304 [00:18<00:00, 16.53batch/s]\n"
     ]
    },
    {
     "name": "stdout",
     "output_type": "stream",
     "text": [
      "Epoch 4/16, Train-Loss: 0.6998, Val-Loss: 0.7007, Val-F1: 0.6407, Val-Precision: 0.5089, Val-Recall: 0.8644, Val-Accuracy: 0.5012\n"
     ]
    },
    {
     "name": "stderr",
     "output_type": "stream",
     "text": [
      "Training progress: 100%|██████████| 304/304 [00:18<00:00, 16.51batch/s]\n"
     ]
    },
    {
     "name": "stdout",
     "output_type": "stream",
     "text": [
      "Epoch 5/16, Train-Loss: 0.6992, Val-Loss: 0.6997, Val-F1: 0.6206, Val-Precision: 0.5092, Val-Recall: 0.7943, Val-Accuracy: 0.5004\n"
     ]
    },
    {
     "name": "stderr",
     "output_type": "stream",
     "text": [
      "Training progress: 100%|██████████| 304/304 [00:18<00:00, 16.55batch/s]\n"
     ]
    },
    {
     "name": "stdout",
     "output_type": "stream",
     "text": [
      "Epoch 6/16, Train-Loss: 0.6984, Val-Loss: 0.6989, Val-F1: 0.6278, Val-Precision: 0.5105, Val-Recall: 0.8150, Val-Accuracy: 0.5029\n"
     ]
    },
    {
     "name": "stderr",
     "output_type": "stream",
     "text": [
      "Training progress: 100%|██████████| 304/304 [00:18<00:00, 16.50batch/s]\n"
     ]
    },
    {
     "name": "stdout",
     "output_type": "stream",
     "text": [
      "Epoch 7/16, Train-Loss: 0.6979, Val-Loss: 0.6982, Val-F1: 0.6281, Val-Precision: 0.5110, Val-Recall: 0.8150, Val-Accuracy: 0.5037\n"
     ]
    },
    {
     "name": "stderr",
     "output_type": "stream",
     "text": [
      "Training progress: 100%|██████████| 304/304 [00:18<00:00, 16.56batch/s]\n"
     ]
    },
    {
     "name": "stdout",
     "output_type": "stream",
     "text": [
      "Epoch 8/16, Train-Loss: 0.6972, Val-Loss: 0.6975, Val-F1: 0.6440, Val-Precision: 0.5088, Val-Recall: 0.8772, Val-Accuracy: 0.5012\n"
     ]
    },
    {
     "name": "stderr",
     "output_type": "stream",
     "text": [
      "Training progress: 100%|██████████| 304/304 [00:18<00:00, 16.55batch/s]\n"
     ]
    },
    {
     "name": "stdout",
     "output_type": "stream",
     "text": [
      "Epoch 9/16, Train-Loss: 0.6967, Val-Loss: 0.6969, Val-F1: 0.6482, Val-Precision: 0.5077, Val-Recall: 0.8963, Val-Accuracy: 0.4996\n"
     ]
    },
    {
     "name": "stderr",
     "output_type": "stream",
     "text": [
      "Training progress: 100%|██████████| 304/304 [00:18<00:00, 16.54batch/s]\n"
     ]
    },
    {
     "name": "stdout",
     "output_type": "stream",
     "text": [
      "Epoch 10/16, Train-Loss: 0.6960, Val-Loss: 0.6963, Val-F1: 0.6423, Val-Precision: 0.5098, Val-Recall: 0.8676, Val-Accuracy: 0.5029\n"
     ]
    },
    {
     "name": "stderr",
     "output_type": "stream",
     "text": [
      "Training progress: 100%|██████████| 304/304 [00:18<00:00, 16.54batch/s]\n"
     ]
    },
    {
     "name": "stdout",
     "output_type": "stream",
     "text": [
      "Epoch 11/16, Train-Loss: 0.6955, Val-Loss: 0.6959, Val-F1: 0.6295, Val-Precision: 0.5073, Val-Recall: 0.8293, Val-Accuracy: 0.4979\n"
     ]
    },
    {
     "name": "stderr",
     "output_type": "stream",
     "text": [
      "Training progress: 100%|██████████| 304/304 [00:18<00:00, 16.57batch/s]\n"
     ]
    },
    {
     "name": "stdout",
     "output_type": "stream",
     "text": [
      "Epoch 12/16, Train-Loss: 0.6952, Val-Loss: 0.6953, Val-F1: 0.6782, Val-Precision: 0.5140, Val-Recall: 0.9968, Val-Accuracy: 0.5135\n"
     ]
    },
    {
     "name": "stderr",
     "output_type": "stream",
     "text": [
      "Training progress: 100%|██████████| 304/304 [00:18<00:00, 16.51batch/s]\n"
     ]
    },
    {
     "name": "stdout",
     "output_type": "stream",
     "text": [
      "Epoch 13/16, Train-Loss: 0.6947, Val-Loss: 0.6948, Val-F1: 0.6786, Val-Precision: 0.5140, Val-Recall: 0.9984, Val-Accuracy: 0.5135\n"
     ]
    },
    {
     "name": "stderr",
     "output_type": "stream",
     "text": [
      "Training progress: 100%|██████████| 304/304 [00:18<00:00, 16.51batch/s]\n"
     ]
    },
    {
     "name": "stdout",
     "output_type": "stream",
     "text": [
      "Epoch 14/16, Train-Loss: 0.6944, Val-Loss: 0.6944, Val-F1: 0.6786, Val-Precision: 0.5140, Val-Recall: 0.9984, Val-Accuracy: 0.5135\n"
     ]
    },
    {
     "name": "stderr",
     "output_type": "stream",
     "text": [
      "Training progress: 100%|██████████| 304/304 [00:18<00:00, 16.57batch/s]\n"
     ]
    },
    {
     "name": "stdout",
     "output_type": "stream",
     "text": [
      "Epoch 15/16, Train-Loss: 0.6941, Val-Loss: 0.6941, Val-F1: 0.6793, Val-Precision: 0.5144, Val-Recall: 1.0000, Val-Accuracy: 0.5144\n"
     ]
    },
    {
     "name": "stderr",
     "output_type": "stream",
     "text": [
      "Training progress: 100%|██████████| 304/304 [00:18<00:00, 16.67batch/s]\n"
     ]
    },
    {
     "name": "stdout",
     "output_type": "stream",
     "text": [
      "Epoch 16/16, Train-Loss: 0.6938, Val-Loss: 0.6937, Val-F1: 0.6793, Val-Precision: 0.5144, Val-Recall: 1.0000, Val-Accuracy: 0.5144\n",
      "\n",
      "\u001b[92mRESULTS:\n",
      " F1-Score:0.6789587852494577, Precision:0.5139573070607554, Recall:1.0, Accuracy:0.5139573070607554, BCE:0.6937452554702759 \u001b[0m \n",
      "\n",
      "\n",
      "\u001b[91mRUN 31:\u001b[0m\n",
      " DoubleEntanglementVLCircuit \n",
      " lr: 0.01\n"
     ]
    },
    {
     "name": "stderr",
     "output_type": "stream",
     "text": [
      "Training progress: 100%|██████████| 304/304 [00:24<00:00, 12.39batch/s]\n"
     ]
    },
    {
     "name": "stdout",
     "output_type": "stream",
     "text": [
      "Epoch 1/16, Train-Loss: 0.6950, Val-Loss: 0.6770, Val-F1: 0.6727, Val-Precision: 0.5210, Val-Recall: 0.9490, Val-Accuracy: 0.5250\n"
     ]
    },
    {
     "name": "stderr",
     "output_type": "stream",
     "text": [
      "Training progress: 100%|██████████| 304/304 [00:24<00:00, 12.40batch/s]\n"
     ]
    },
    {
     "name": "stdout",
     "output_type": "stream",
     "text": [
      "Epoch 2/16, Train-Loss: 0.6686, Val-Loss: 0.6563, Val-F1: 0.6611, Val-Precision: 0.5511, Val-Recall: 0.8262, Val-Accuracy: 0.5644\n"
     ]
    },
    {
     "name": "stderr",
     "output_type": "stream",
     "text": [
      "Training progress: 100%|██████████| 304/304 [00:24<00:00, 12.38batch/s]\n"
     ]
    },
    {
     "name": "stdout",
     "output_type": "stream",
     "text": [
      "Epoch 3/16, Train-Loss: 0.6518, Val-Loss: 0.6405, Val-F1: 0.6890, Val-Precision: 0.6907, Val-Recall: 0.6874, Val-Accuracy: 0.6809\n"
     ]
    },
    {
     "name": "stderr",
     "output_type": "stream",
     "text": [
      "Training progress: 100%|██████████| 304/304 [00:24<00:00, 12.37batch/s]\n"
     ]
    },
    {
     "name": "stdout",
     "output_type": "stream",
     "text": [
      "Epoch 4/16, Train-Loss: 0.6391, Val-Loss: 0.6293, Val-F1: 0.6644, Val-Precision: 0.5877, Val-Recall: 0.7640, Val-Accuracy: 0.6030\n"
     ]
    },
    {
     "name": "stderr",
     "output_type": "stream",
     "text": [
      "Training progress: 100%|██████████| 304/304 [00:24<00:00, 12.35batch/s]\n"
     ]
    },
    {
     "name": "stdout",
     "output_type": "stream",
     "text": [
      "Epoch 5/16, Train-Loss: 0.6303, Val-Loss: 0.6193, Val-F1: 0.6809, Val-Precision: 0.6516, Val-Recall: 0.7129, Val-Accuracy: 0.6563\n"
     ]
    },
    {
     "name": "stderr",
     "output_type": "stream",
     "text": [
      "Training progress: 100%|██████████| 304/304 [00:24<00:00, 12.37batch/s]\n"
     ]
    },
    {
     "name": "stdout",
     "output_type": "stream",
     "text": [
      "Epoch 6/16, Train-Loss: 0.6237, Val-Loss: 0.6125, Val-F1: 0.6902, Val-Precision: 0.6947, Val-Recall: 0.6858, Val-Accuracy: 0.6833\n"
     ]
    },
    {
     "name": "stderr",
     "output_type": "stream",
     "text": [
      "Training progress: 100%|██████████| 304/304 [00:24<00:00, 12.36batch/s]\n"
     ]
    },
    {
     "name": "stdout",
     "output_type": "stream",
     "text": [
      "Epoch 7/16, Train-Loss: 0.6189, Val-Loss: 0.6073, Val-F1: 0.6998, Val-Precision: 0.7143, Val-Recall: 0.6858, Val-Accuracy: 0.6973\n"
     ]
    },
    {
     "name": "stderr",
     "output_type": "stream",
     "text": [
      "Training progress: 100%|██████████| 304/304 [00:24<00:00, 12.36batch/s]\n"
     ]
    },
    {
     "name": "stdout",
     "output_type": "stream",
     "text": [
      "Epoch 8/16, Train-Loss: 0.6150, Val-Loss: 0.6035, Val-F1: 0.6817, Val-Precision: 0.6657, Val-Recall: 0.6986, Val-Accuracy: 0.6645\n"
     ]
    },
    {
     "name": "stderr",
     "output_type": "stream",
     "text": [
      "Training progress: 100%|██████████| 304/304 [00:24<00:00, 12.38batch/s]\n"
     ]
    },
    {
     "name": "stdout",
     "output_type": "stream",
     "text": [
      "Epoch 9/16, Train-Loss: 0.6118, Val-Loss: 0.6000, Val-F1: 0.6952, Val-Precision: 0.7049, Val-Recall: 0.6858, Val-Accuracy: 0.6907\n"
     ]
    },
    {
     "name": "stderr",
     "output_type": "stream",
     "text": [
      "Training progress: 100%|██████████| 304/304 [00:24<00:00, 12.37batch/s]\n"
     ]
    },
    {
     "name": "stdout",
     "output_type": "stream",
     "text": [
      "Epoch 10/16, Train-Loss: 0.6099, Val-Loss: 0.5977, Val-F1: 0.6978, Val-Precision: 0.7300, Val-Recall: 0.6683, Val-Accuracy: 0.7022\n"
     ]
    },
    {
     "name": "stderr",
     "output_type": "stream",
     "text": [
      "Training progress: 100%|██████████| 304/304 [00:24<00:00, 12.37batch/s]\n"
     ]
    },
    {
     "name": "stdout",
     "output_type": "stream",
     "text": [
      "Epoch 11/16, Train-Loss: 0.6078, Val-Loss: 0.5959, Val-F1: 0.6992, Val-Precision: 0.7389, Val-Recall: 0.6635, Val-Accuracy: 0.7063\n"
     ]
    },
    {
     "name": "stderr",
     "output_type": "stream",
     "text": [
      "Training progress: 100%|██████████| 304/304 [00:24<00:00, 12.49batch/s]\n"
     ]
    },
    {
     "name": "stdout",
     "output_type": "stream",
     "text": [
      "Epoch 12/16, Train-Loss: 0.6071, Val-Loss: 0.5944, Val-F1: 0.6890, Val-Precision: 0.6907, Val-Recall: 0.6874, Val-Accuracy: 0.6809\n"
     ]
    },
    {
     "name": "stderr",
     "output_type": "stream",
     "text": [
      "Training progress: 100%|██████████| 304/304 [00:24<00:00, 12.37batch/s]\n"
     ]
    },
    {
     "name": "stdout",
     "output_type": "stream",
     "text": [
      "Epoch 13/16, Train-Loss: 0.6063, Val-Loss: 0.5930, Val-F1: 0.7003, Val-Precision: 0.7155, Val-Recall: 0.6858, Val-Accuracy: 0.6981\n"
     ]
    },
    {
     "name": "stderr",
     "output_type": "stream",
     "text": [
      "Training progress: 100%|██████████| 304/304 [00:24<00:00, 12.34batch/s]\n"
     ]
    },
    {
     "name": "stdout",
     "output_type": "stream",
     "text": [
      "Epoch 14/16, Train-Loss: 0.6053, Val-Loss: 0.5920, Val-F1: 0.7011, Val-Precision: 0.7205, Val-Recall: 0.6826, Val-Accuracy: 0.7006\n"
     ]
    },
    {
     "name": "stderr",
     "output_type": "stream",
     "text": [
      "Training progress: 100%|██████████| 304/304 [00:24<00:00, 12.37batch/s]\n"
     ]
    },
    {
     "name": "stdout",
     "output_type": "stream",
     "text": [
      "Epoch 15/16, Train-Loss: 0.6048, Val-Loss: 0.5913, Val-F1: 0.6969, Val-Precision: 0.7226, Val-Recall: 0.6730, Val-Accuracy: 0.6989\n"
     ]
    },
    {
     "name": "stderr",
     "output_type": "stream",
     "text": [
      "Training progress: 100%|██████████| 304/304 [00:24<00:00, 12.42batch/s]\n"
     ]
    },
    {
     "name": "stdout",
     "output_type": "stream",
     "text": [
      "Epoch 16/16, Train-Loss: 0.6048, Val-Loss: 0.5910, Val-F1: 0.6990, Val-Precision: 0.7486, Val-Recall: 0.6555, Val-Accuracy: 0.7096\n",
      "\n",
      "\u001b[92mRESULTS:\n",
      " F1-Score:0.6877673224978614, Precision:0.7403314917127072, Recall:0.6421725239616614, Accuracy:0.7003284072249589, BCE:0.5946263670921326 \u001b[0m \n",
      "\n",
      "\n",
      "\u001b[91mRUN 32:\u001b[0m\n",
      " DoubleEntanglementVLCircuit \n",
      " lr: 0.001\n"
     ]
    },
    {
     "name": "stderr",
     "output_type": "stream",
     "text": [
      "Training progress: 100%|██████████| 304/304 [00:24<00:00, 12.40batch/s]\n"
     ]
    },
    {
     "name": "stdout",
     "output_type": "stream",
     "text": [
      "Epoch 1/16, Train-Loss: 0.7416, Val-Loss: 0.7228, Val-F1: 0.6793, Val-Precision: 0.5144, Val-Recall: 1.0000, Val-Accuracy: 0.5144\n"
     ]
    },
    {
     "name": "stderr",
     "output_type": "stream",
     "text": [
      "Training progress: 100%|██████████| 304/304 [00:24<00:00, 12.41batch/s]\n"
     ]
    },
    {
     "name": "stdout",
     "output_type": "stream",
     "text": [
      "Epoch 2/16, Train-Loss: 0.7124, Val-Loss: 0.7046, Val-F1: 0.6793, Val-Precision: 0.5144, Val-Recall: 1.0000, Val-Accuracy: 0.5144\n"
     ]
    },
    {
     "name": "stderr",
     "output_type": "stream",
     "text": [
      "Training progress: 100%|██████████| 304/304 [00:24<00:00, 12.45batch/s]\n"
     ]
    },
    {
     "name": "stdout",
     "output_type": "stream",
     "text": [
      "Epoch 3/16, Train-Loss: 0.7004, Val-Loss: 0.6971, Val-F1: 0.6793, Val-Precision: 0.5144, Val-Recall: 1.0000, Val-Accuracy: 0.5144\n"
     ]
    },
    {
     "name": "stderr",
     "output_type": "stream",
     "text": [
      "Training progress: 100%|██████████| 304/304 [00:24<00:00, 12.41batch/s]\n"
     ]
    },
    {
     "name": "stdout",
     "output_type": "stream",
     "text": [
      "Epoch 4/16, Train-Loss: 0.6950, Val-Loss: 0.6932, Val-F1: 0.6793, Val-Precision: 0.5144, Val-Recall: 1.0000, Val-Accuracy: 0.5144\n"
     ]
    },
    {
     "name": "stderr",
     "output_type": "stream",
     "text": [
      "Training progress: 100%|██████████| 304/304 [00:24<00:00, 12.41batch/s]\n"
     ]
    },
    {
     "name": "stdout",
     "output_type": "stream",
     "text": [
      "Epoch 5/16, Train-Loss: 0.6917, Val-Loss: 0.6900, Val-F1: 0.6793, Val-Precision: 0.5144, Val-Recall: 1.0000, Val-Accuracy: 0.5144\n"
     ]
    },
    {
     "name": "stderr",
     "output_type": "stream",
     "text": [
      "Training progress: 100%|██████████| 304/304 [00:24<00:00, 12.43batch/s]\n"
     ]
    },
    {
     "name": "stdout",
     "output_type": "stream",
     "text": [
      "Epoch 6/16, Train-Loss: 0.6890, Val-Loss: 0.6872, Val-F1: 0.6793, Val-Precision: 0.5144, Val-Recall: 1.0000, Val-Accuracy: 0.5144\n"
     ]
    },
    {
     "name": "stderr",
     "output_type": "stream",
     "text": [
      "Training progress: 100%|██████████| 304/304 [00:24<00:00, 12.42batch/s]\n"
     ]
    },
    {
     "name": "stdout",
     "output_type": "stream",
     "text": [
      "Epoch 7/16, Train-Loss: 0.6865, Val-Loss: 0.6845, Val-F1: 0.6790, Val-Precision: 0.5144, Val-Recall: 0.9984, Val-Accuracy: 0.5144\n"
     ]
    },
    {
     "name": "stderr",
     "output_type": "stream",
     "text": [
      "Training progress: 100%|██████████| 304/304 [00:24<00:00, 12.48batch/s]\n"
     ]
    },
    {
     "name": "stdout",
     "output_type": "stream",
     "text": [
      "Epoch 8/16, Train-Loss: 0.6840, Val-Loss: 0.6819, Val-F1: 0.6751, Val-Precision: 0.5146, Val-Recall: 0.9809, Val-Accuracy: 0.5144\n"
     ]
    },
    {
     "name": "stderr",
     "output_type": "stream",
     "text": [
      "Training progress: 100%|██████████| 304/304 [00:24<00:00, 12.46batch/s]\n"
     ]
    },
    {
     "name": "stdout",
     "output_type": "stream",
     "text": [
      "Epoch 9/16, Train-Loss: 0.6816, Val-Loss: 0.6793, Val-F1: 0.6734, Val-Precision: 0.5176, Val-Recall: 0.9633, Val-Accuracy: 0.5193\n"
     ]
    },
    {
     "name": "stderr",
     "output_type": "stream",
     "text": [
      "Training progress: 100%|██████████| 304/304 [00:24<00:00, 12.42batch/s]\n"
     ]
    },
    {
     "name": "stdout",
     "output_type": "stream",
     "text": [
      "Epoch 10/16, Train-Loss: 0.6792, Val-Loss: 0.6768, Val-F1: 0.6724, Val-Precision: 0.5230, Val-Recall: 0.9410, Val-Accuracy: 0.5283\n"
     ]
    },
    {
     "name": "stderr",
     "output_type": "stream",
     "text": [
      "Training progress: 100%|██████████| 304/304 [00:24<00:00, 12.45batch/s]\n"
     ]
    },
    {
     "name": "stdout",
     "output_type": "stream",
     "text": [
      "Epoch 11/16, Train-Loss: 0.6769, Val-Loss: 0.6744, Val-F1: 0.6686, Val-Precision: 0.5299, Val-Recall: 0.9059, Val-Accuracy: 0.5381\n"
     ]
    },
    {
     "name": "stderr",
     "output_type": "stream",
     "text": [
      "Training progress: 100%|██████████| 304/304 [00:24<00:00, 12.40batch/s]\n"
     ]
    },
    {
     "name": "stdout",
     "output_type": "stream",
     "text": [
      "Epoch 12/16, Train-Loss: 0.6748, Val-Loss: 0.6720, Val-F1: 0.6686, Val-Precision: 0.5326, Val-Recall: 0.8979, Val-Accuracy: 0.5422\n"
     ]
    },
    {
     "name": "stderr",
     "output_type": "stream",
     "text": [
      "Training progress: 100%|██████████| 304/304 [00:24<00:00, 12.42batch/s]\n"
     ]
    },
    {
     "name": "stdout",
     "output_type": "stream",
     "text": [
      "Epoch 13/16, Train-Loss: 0.6726, Val-Loss: 0.6697, Val-F1: 0.6650, Val-Precision: 0.5367, Val-Recall: 0.8740, Val-Accuracy: 0.5472\n"
     ]
    },
    {
     "name": "stderr",
     "output_type": "stream",
     "text": [
      "Training progress: 100%|██████████| 304/304 [00:24<00:00, 12.43batch/s]\n"
     ]
    },
    {
     "name": "stdout",
     "output_type": "stream",
     "text": [
      "Epoch 14/16, Train-Loss: 0.6704, Val-Loss: 0.6674, Val-F1: 0.6637, Val-Precision: 0.5457, Val-Recall: 0.8469, Val-Accuracy: 0.5587\n"
     ]
    },
    {
     "name": "stderr",
     "output_type": "stream",
     "text": [
      "Training progress: 100%|██████████| 304/304 [00:24<00:00, 12.41batch/s]\n"
     ]
    },
    {
     "name": "stdout",
     "output_type": "stream",
     "text": [
      "Epoch 15/16, Train-Loss: 0.6684, Val-Loss: 0.6653, Val-F1: 0.6624, Val-Precision: 0.5507, Val-Recall: 0.8309, Val-Accuracy: 0.5644\n"
     ]
    },
    {
     "name": "stderr",
     "output_type": "stream",
     "text": [
      "Training progress: 100%|██████████| 304/304 [00:24<00:00, 12.43batch/s]\n"
     ]
    },
    {
     "name": "stdout",
     "output_type": "stream",
     "text": [
      "Epoch 16/16, Train-Loss: 0.6665, Val-Loss: 0.6631, Val-F1: 0.6589, Val-Precision: 0.5552, Val-Recall: 0.8102, Val-Accuracy: 0.5685\n",
      "\n",
      "\u001b[92mRESULTS:\n",
      " F1-Score:0.6588693957115009, Precision:0.5553121577217963, Recall:0.8099041533546326, Accuracy:0.5689655172413793, BCE:0.6637417674064636 \u001b[0m \n",
      "\n",
      "\n",
      "\u001b[91mRUN 33:\u001b[0m\n",
      " Ranga2024Circuit \n",
      " lr: 0.01\n"
     ]
    },
    {
     "name": "stderr",
     "output_type": "stream",
     "text": [
      "Training progress: 100%|██████████| 304/304 [01:03<00:00,  4.80batch/s]\n"
     ]
    },
    {
     "name": "stdout",
     "output_type": "stream",
     "text": [
      "Epoch 1/16, Train-Loss: 0.6222, Val-Loss: 0.5829, Val-F1: 0.7041, Val-Precision: 0.7081, Val-Recall: 0.7002, Val-Accuracy: 0.6973\n"
     ]
    },
    {
     "name": "stderr",
     "output_type": "stream",
     "text": [
      "Training progress: 100%|██████████| 304/304 [01:03<00:00,  4.81batch/s]\n"
     ]
    },
    {
     "name": "stdout",
     "output_type": "stream",
     "text": [
      "Epoch 2/16, Train-Loss: 0.5881, Val-Loss: 0.5663, Val-F1: 0.7006, Val-Precision: 0.7110, Val-Recall: 0.6906, Val-Accuracy: 0.6965\n"
     ]
    },
    {
     "name": "stderr",
     "output_type": "stream",
     "text": [
      "Training progress: 100%|██████████| 304/304 [01:03<00:00,  4.81batch/s]\n"
     ]
    },
    {
     "name": "stdout",
     "output_type": "stream",
     "text": [
      "Epoch 3/16, Train-Loss: 0.5823, Val-Loss: 0.5630, Val-F1: 0.7066, Val-Precision: 0.7083, Val-Recall: 0.7049, Val-Accuracy: 0.6989\n"
     ]
    },
    {
     "name": "stderr",
     "output_type": "stream",
     "text": [
      "Training progress: 100%|██████████| 304/304 [01:03<00:00,  4.81batch/s]\n"
     ]
    },
    {
     "name": "stdout",
     "output_type": "stream",
     "text": [
      "Epoch 4/16, Train-Loss: 0.5820, Val-Loss: 0.5621, Val-F1: 0.6984, Val-Precision: 0.7184, Val-Recall: 0.6794, Val-Accuracy: 0.6981\n"
     ]
    },
    {
     "name": "stderr",
     "output_type": "stream",
     "text": [
      "Training progress: 100%|██████████| 304/304 [01:03<00:00,  4.81batch/s]\n"
     ]
    },
    {
     "name": "stdout",
     "output_type": "stream",
     "text": [
      "Epoch 5/16, Train-Loss: 0.5815, Val-Loss: 0.5618, Val-F1: 0.7011, Val-Precision: 0.7103, Val-Recall: 0.6922, Val-Accuracy: 0.6965\n"
     ]
    },
    {
     "name": "stderr",
     "output_type": "stream",
     "text": [
      "Training progress: 100%|██████████| 304/304 [01:03<00:00,  4.81batch/s]\n"
     ]
    },
    {
     "name": "stdout",
     "output_type": "stream",
     "text": [
      "Epoch 6/16, Train-Loss: 0.5815, Val-Loss: 0.5617, Val-F1: 0.6952, Val-Precision: 0.7169, Val-Recall: 0.6746, Val-Accuracy: 0.6957\n"
     ]
    },
    {
     "name": "stderr",
     "output_type": "stream",
     "text": [
      "Training progress: 100%|██████████| 304/304 [01:03<00:00,  4.82batch/s]\n"
     ]
    },
    {
     "name": "stdout",
     "output_type": "stream",
     "text": [
      "Epoch 7/16, Train-Loss: 0.5815, Val-Loss: 0.5615, Val-F1: 0.7003, Val-Precision: 0.7155, Val-Recall: 0.6858, Val-Accuracy: 0.6981\n"
     ]
    },
    {
     "name": "stderr",
     "output_type": "stream",
     "text": [
      "Training progress: 100%|██████████| 304/304 [01:03<00:00,  4.81batch/s]\n"
     ]
    },
    {
     "name": "stdout",
     "output_type": "stream",
     "text": [
      "Epoch 8/16, Train-Loss: 0.5819, Val-Loss: 0.5616, Val-F1: 0.7003, Val-Precision: 0.7155, Val-Recall: 0.6858, Val-Accuracy: 0.6981\n"
     ]
    },
    {
     "name": "stderr",
     "output_type": "stream",
     "text": [
      "Training progress: 100%|██████████| 304/304 [01:03<00:00,  4.80batch/s]\n"
     ]
    },
    {
     "name": "stdout",
     "output_type": "stream",
     "text": [
      "Epoch 9/16, Train-Loss: 0.5815, Val-Loss: 0.5616, Val-F1: 0.7011, Val-Precision: 0.7103, Val-Recall: 0.6922, Val-Accuracy: 0.6965\n"
     ]
    },
    {
     "name": "stderr",
     "output_type": "stream",
     "text": [
      "Training progress: 100%|██████████| 304/304 [01:03<00:00,  4.80batch/s]\n"
     ]
    },
    {
     "name": "stdout",
     "output_type": "stream",
     "text": [
      "Epoch 10/16, Train-Loss: 0.5817, Val-Loss: 0.5617, Val-F1: 0.7006, Val-Precision: 0.7092, Val-Recall: 0.6922, Val-Accuracy: 0.6957\n"
     ]
    },
    {
     "name": "stderr",
     "output_type": "stream",
     "text": [
      "Training progress: 100%|██████████| 304/304 [01:02<00:00,  4.83batch/s]\n"
     ]
    },
    {
     "name": "stdout",
     "output_type": "stream",
     "text": [
      "Epoch 11/16, Train-Loss: 0.5815, Val-Loss: 0.5616, Val-F1: 0.6958, Val-Precision: 0.7201, Val-Recall: 0.6730, Val-Accuracy: 0.6973\n"
     ]
    },
    {
     "name": "stderr",
     "output_type": "stream",
     "text": [
      "Training progress: 100%|██████████| 304/304 [01:03<00:00,  4.81batch/s]\n"
     ]
    },
    {
     "name": "stdout",
     "output_type": "stream",
     "text": [
      "Epoch 12/16, Train-Loss: 0.5815, Val-Loss: 0.5617, Val-F1: 0.6877, Val-Precision: 0.7175, Val-Recall: 0.6603, Val-Accuracy: 0.6916\n"
     ]
    },
    {
     "name": "stderr",
     "output_type": "stream",
     "text": [
      "Training progress: 100%|██████████| 304/304 [01:03<00:00,  4.80batch/s]\n"
     ]
    },
    {
     "name": "stdout",
     "output_type": "stream",
     "text": [
      "Epoch 13/16, Train-Loss: 0.5818, Val-Loss: 0.5616, Val-F1: 0.6992, Val-Precision: 0.7131, Val-Recall: 0.6858, Val-Accuracy: 0.6965\n"
     ]
    },
    {
     "name": "stderr",
     "output_type": "stream",
     "text": [
      "Training progress: 100%|██████████| 304/304 [01:03<00:00,  4.80batch/s]\n"
     ]
    },
    {
     "name": "stdout",
     "output_type": "stream",
     "text": [
      "Epoch 14/16, Train-Loss: 0.5817, Val-Loss: 0.5618, Val-F1: 0.7042, Val-Precision: 0.7099, Val-Recall: 0.6986, Val-Accuracy: 0.6981\n"
     ]
    },
    {
     "name": "stderr",
     "output_type": "stream",
     "text": [
      "Training progress: 100%|██████████| 304/304 [01:03<00:00,  4.81batch/s]\n"
     ]
    },
    {
     "name": "stdout",
     "output_type": "stream",
     "text": [
      "Epoch 15/16, Train-Loss: 0.5817, Val-Loss: 0.5614, Val-F1: 0.7003, Val-Precision: 0.7155, Val-Recall: 0.6858, Val-Accuracy: 0.6981\n"
     ]
    },
    {
     "name": "stderr",
     "output_type": "stream",
     "text": [
      "Training progress: 100%|██████████| 304/304 [01:03<00:00,  4.81batch/s]\n"
     ]
    },
    {
     "name": "stdout",
     "output_type": "stream",
     "text": [
      "Epoch 16/16, Train-Loss: 0.5818, Val-Loss: 0.5615, Val-F1: 0.6942, Val-Precision: 0.7204, Val-Recall: 0.6699, Val-Accuracy: 0.6965\n",
      "\n",
      "\u001b[92mRESULTS:\n",
      " F1-Score:0.6622185154295246, Precision:0.6928446771378709, Recall:0.634185303514377, Accuracy:0.6674876847290641, BCE:0.5828011631965637 \u001b[0m \n",
      "\n",
      "\n",
      "\u001b[91mRUN 34:\u001b[0m\n",
      " Ranga2024Circuit \n",
      " lr: 0.001\n"
     ]
    },
    {
     "name": "stderr",
     "output_type": "stream",
     "text": [
      "Training progress: 100%|██████████| 304/304 [01:03<00:00,  4.80batch/s]\n"
     ]
    },
    {
     "name": "stdout",
     "output_type": "stream",
     "text": [
      "Epoch 1/16, Train-Loss: 0.6602, Val-Loss: 0.6484, Val-F1: 0.7401, Val-Precision: 0.6112, Val-Recall: 0.9378, Val-Accuracy: 0.6612\n"
     ]
    },
    {
     "name": "stderr",
     "output_type": "stream",
     "text": [
      "Training progress: 100%|██████████| 304/304 [01:03<00:00,  4.82batch/s]\n"
     ]
    },
    {
     "name": "stdout",
     "output_type": "stream",
     "text": [
      "Epoch 2/16, Train-Loss: 0.6469, Val-Loss: 0.6354, Val-F1: 0.7615, Val-Precision: 0.6766, Val-Recall: 0.8708, Val-Accuracy: 0.7194\n"
     ]
    },
    {
     "name": "stderr",
     "output_type": "stream",
     "text": [
      "Training progress: 100%|██████████| 304/304 [01:03<00:00,  4.81batch/s]\n"
     ]
    },
    {
     "name": "stdout",
     "output_type": "stream",
     "text": [
      "Epoch 3/16, Train-Loss: 0.6363, Val-Loss: 0.6244, Val-F1: 0.7420, Val-Precision: 0.6986, Val-Recall: 0.7911, Val-Accuracy: 0.7170\n"
     ]
    },
    {
     "name": "stderr",
     "output_type": "stream",
     "text": [
      "Training progress: 100%|██████████| 304/304 [01:03<00:00,  4.80batch/s]\n"
     ]
    },
    {
     "name": "stdout",
     "output_type": "stream",
     "text": [
      "Epoch 4/16, Train-Loss: 0.6276, Val-Loss: 0.6152, Val-F1: 0.7294, Val-Precision: 0.7004, Val-Recall: 0.7608, Val-Accuracy: 0.7096\n"
     ]
    },
    {
     "name": "stderr",
     "output_type": "stream",
     "text": [
      "Training progress: 100%|██████████| 304/304 [01:03<00:00,  4.80batch/s]\n"
     ]
    },
    {
     "name": "stdout",
     "output_type": "stream",
     "text": [
      "Epoch 5/16, Train-Loss: 0.6201, Val-Loss: 0.6073, Val-F1: 0.7234, Val-Precision: 0.7090, Val-Recall: 0.7384, Val-Accuracy: 0.7096\n"
     ]
    },
    {
     "name": "stderr",
     "output_type": "stream",
     "text": [
      "Training progress: 100%|██████████| 304/304 [01:03<00:00,  4.80batch/s]\n"
     ]
    },
    {
     "name": "stdout",
     "output_type": "stream",
     "text": [
      "Epoch 6/16, Train-Loss: 0.6136, Val-Loss: 0.6005, Val-F1: 0.7201, Val-Precision: 0.7101, Val-Recall: 0.7305, Val-Accuracy: 0.7080\n"
     ]
    },
    {
     "name": "stderr",
     "output_type": "stream",
     "text": [
      "Training progress: 100%|██████████| 304/304 [01:03<00:00,  4.81batch/s]\n"
     ]
    },
    {
     "name": "stdout",
     "output_type": "stream",
     "text": [
      "Epoch 7/16, Train-Loss: 0.6083, Val-Loss: 0.5945, Val-F1: 0.7136, Val-Precision: 0.7080, Val-Recall: 0.7193, Val-Accuracy: 0.7030\n"
     ]
    },
    {
     "name": "stderr",
     "output_type": "stream",
     "text": [
      "Training progress: 100%|██████████| 304/304 [01:03<00:00,  4.82batch/s]\n"
     ]
    },
    {
     "name": "stdout",
     "output_type": "stream",
     "text": [
      "Epoch 8/16, Train-Loss: 0.6039, Val-Loss: 0.5895, Val-F1: 0.7102, Val-Precision: 0.7091, Val-Recall: 0.7113, Val-Accuracy: 0.7014\n"
     ]
    },
    {
     "name": "stderr",
     "output_type": "stream",
     "text": [
      "Training progress: 100%|██████████| 304/304 [01:03<00:00,  4.81batch/s]\n"
     ]
    },
    {
     "name": "stdout",
     "output_type": "stream",
     "text": [
      "Epoch 9/16, Train-Loss: 0.5998, Val-Loss: 0.5852, Val-F1: 0.7077, Val-Precision: 0.7088, Val-Recall: 0.7065, Val-Accuracy: 0.6998\n"
     ]
    },
    {
     "name": "stderr",
     "output_type": "stream",
     "text": [
      "Training progress: 100%|██████████| 304/304 [01:03<00:00,  4.80batch/s]\n"
     ]
    },
    {
     "name": "stdout",
     "output_type": "stream",
     "text": [
      "Epoch 10/16, Train-Loss: 0.5967, Val-Loss: 0.5815, Val-F1: 0.7031, Val-Precision: 0.7094, Val-Recall: 0.6970, Val-Accuracy: 0.6973\n"
     ]
    },
    {
     "name": "stderr",
     "output_type": "stream",
     "text": [
      "Training progress: 100%|██████████| 304/304 [01:03<00:00,  4.80batch/s]\n"
     ]
    },
    {
     "name": "stdout",
     "output_type": "stream",
     "text": [
      "Epoch 11/16, Train-Loss: 0.5936, Val-Loss: 0.5783, Val-F1: 0.7027, Val-Precision: 0.7101, Val-Recall: 0.6954, Val-Accuracy: 0.6973\n"
     ]
    },
    {
     "name": "stderr",
     "output_type": "stream",
     "text": [
      "Training progress: 100%|██████████| 304/304 [01:03<00:00,  4.80batch/s]\n"
     ]
    },
    {
     "name": "stdout",
     "output_type": "stream",
     "text": [
      "Epoch 12/16, Train-Loss: 0.5914, Val-Loss: 0.5756, Val-F1: 0.7011, Val-Precision: 0.7103, Val-Recall: 0.6922, Val-Accuracy: 0.6965\n"
     ]
    },
    {
     "name": "stderr",
     "output_type": "stream",
     "text": [
      "Training progress: 100%|██████████| 304/304 [01:03<00:00,  4.81batch/s]\n"
     ]
    },
    {
     "name": "stdout",
     "output_type": "stream",
     "text": [
      "Epoch 13/16, Train-Loss: 0.5896, Val-Loss: 0.5734, Val-F1: 0.7011, Val-Precision: 0.7103, Val-Recall: 0.6922, Val-Accuracy: 0.6965\n"
     ]
    },
    {
     "name": "stderr",
     "output_type": "stream",
     "text": [
      "Training progress: 100%|██████████| 304/304 [01:03<00:00,  4.80batch/s]\n"
     ]
    },
    {
     "name": "stdout",
     "output_type": "stream",
     "text": [
      "Epoch 14/16, Train-Loss: 0.5880, Val-Loss: 0.5714, Val-F1: 0.7011, Val-Precision: 0.7103, Val-Recall: 0.6922, Val-Accuracy: 0.6965\n"
     ]
    },
    {
     "name": "stderr",
     "output_type": "stream",
     "text": [
      "Training progress: 100%|██████████| 304/304 [01:03<00:00,  4.80batch/s]\n"
     ]
    },
    {
     "name": "stdout",
     "output_type": "stream",
     "text": [
      "Epoch 15/16, Train-Loss: 0.5867, Val-Loss: 0.5698, Val-F1: 0.7017, Val-Precision: 0.7115, Val-Recall: 0.6922, Val-Accuracy: 0.6973\n"
     ]
    },
    {
     "name": "stderr",
     "output_type": "stream",
     "text": [
      "Training progress: 100%|██████████| 304/304 [01:03<00:00,  4.80batch/s]\n"
     ]
    },
    {
     "name": "stdout",
     "output_type": "stream",
     "text": [
      "Epoch 16/16, Train-Loss: 0.5857, Val-Loss: 0.5685, Val-F1: 0.7007, Val-Precision: 0.7129, Val-Recall: 0.6890, Val-Accuracy: 0.6973\n",
      "\n",
      "\u001b[92mRESULTS:\n",
      " F1-Score:0.6748768472906403, Precision:0.6942567567567568, Recall:0.6565495207667732, Accuracy:0.6748768472906403, BCE:0.5863569378852844 \u001b[0m \n",
      "\n",
      "\n",
      "\u001b[91mRUN 35:\u001b[0m\n",
      " Senokosov2024Circuit \n",
      " lr: 0.01\n"
     ]
    },
    {
     "name": "stderr",
     "output_type": "stream",
     "text": [
      "Training progress: 100%|██████████| 304/304 [00:42<00:00,  7.14batch/s]\n"
     ]
    },
    {
     "name": "stdout",
     "output_type": "stream",
     "text": [
      "Epoch 1/16, Train-Loss: 0.6954, Val-Loss: 0.6942, Val-F1: 0.6761, Val-Precision: 0.5132, Val-Recall: 0.9904, Val-Accuracy: 0.5119\n"
     ]
    },
    {
     "name": "stderr",
     "output_type": "stream",
     "text": [
      "Training progress: 100%|██████████| 304/304 [00:42<00:00,  7.10batch/s]\n"
     ]
    },
    {
     "name": "stdout",
     "output_type": "stream",
     "text": [
      "Epoch 2/16, Train-Loss: 0.6939, Val-Loss: 0.6934, Val-F1: 0.6775, Val-Precision: 0.5136, Val-Recall: 0.9952, Val-Accuracy: 0.5127\n"
     ]
    },
    {
     "name": "stderr",
     "output_type": "stream",
     "text": [
      "Training progress: 100%|██████████| 304/304 [00:42<00:00,  7.09batch/s]\n"
     ]
    },
    {
     "name": "stdout",
     "output_type": "stream",
     "text": [
      "Epoch 3/16, Train-Loss: 0.6932, Val-Loss: 0.6925, Val-F1: 0.6793, Val-Precision: 0.5144, Val-Recall: 1.0000, Val-Accuracy: 0.5144\n"
     ]
    },
    {
     "name": "stderr",
     "output_type": "stream",
     "text": [
      "Training progress: 100%|██████████| 304/304 [00:42<00:00,  7.10batch/s]\n"
     ]
    },
    {
     "name": "stdout",
     "output_type": "stream",
     "text": [
      "Epoch 4/16, Train-Loss: 0.6925, Val-Loss: 0.6916, Val-F1: 0.6629, Val-Precision: 0.5099, Val-Recall: 0.9474, Val-Accuracy: 0.5045\n"
     ]
    },
    {
     "name": "stderr",
     "output_type": "stream",
     "text": [
      "Training progress: 100%|██████████| 304/304 [00:42<00:00,  7.10batch/s]\n"
     ]
    },
    {
     "name": "stdout",
     "output_type": "stream",
     "text": [
      "Epoch 5/16, Train-Loss: 0.6920, Val-Loss: 0.6912, Val-F1: 0.6779, Val-Precision: 0.5140, Val-Recall: 0.9952, Val-Accuracy: 0.5135\n"
     ]
    },
    {
     "name": "stderr",
     "output_type": "stream",
     "text": [
      "Training progress: 100%|██████████| 304/304 [00:42<00:00,  7.11batch/s]\n"
     ]
    },
    {
     "name": "stdout",
     "output_type": "stream",
     "text": [
      "Epoch 6/16, Train-Loss: 0.6916, Val-Loss: 0.6905, Val-F1: 0.6134, Val-Precision: 0.5146, Val-Recall: 0.7592, Val-Accuracy: 0.5078\n"
     ]
    },
    {
     "name": "stderr",
     "output_type": "stream",
     "text": [
      "Training progress: 100%|██████████| 304/304 [00:42<00:00,  7.10batch/s]\n"
     ]
    },
    {
     "name": "stdout",
     "output_type": "stream",
     "text": [
      "Epoch 7/16, Train-Loss: 0.6910, Val-Loss: 0.6900, Val-F1: 0.6412, Val-Precision: 0.5036, Val-Recall: 0.8820, Val-Accuracy: 0.4922\n"
     ]
    },
    {
     "name": "stderr",
     "output_type": "stream",
     "text": [
      "Training progress: 100%|██████████| 304/304 [00:42<00:00,  7.11batch/s]\n"
     ]
    },
    {
     "name": "stdout",
     "output_type": "stream",
     "text": [
      "Epoch 8/16, Train-Loss: 0.6911, Val-Loss: 0.6897, Val-F1: 0.6345, Val-Precision: 0.5028, Val-Recall: 0.8596, Val-Accuracy: 0.4906\n"
     ]
    },
    {
     "name": "stderr",
     "output_type": "stream",
     "text": [
      "Training progress: 100%|██████████| 304/304 [00:42<00:00,  7.08batch/s]\n"
     ]
    },
    {
     "name": "stdout",
     "output_type": "stream",
     "text": [
      "Epoch 9/16, Train-Loss: 0.6906, Val-Loss: 0.6893, Val-F1: 0.6196, Val-Precision: 0.5092, Val-Recall: 0.7911, Val-Accuracy: 0.5004\n"
     ]
    },
    {
     "name": "stderr",
     "output_type": "stream",
     "text": [
      "Training progress: 100%|██████████| 304/304 [00:42<00:00,  7.08batch/s]\n"
     ]
    },
    {
     "name": "stdout",
     "output_type": "stream",
     "text": [
      "Epoch 10/16, Train-Loss: 0.6902, Val-Loss: 0.6896, Val-F1: 0.6420, Val-Precision: 0.5036, Val-Recall: 0.8852, Val-Accuracy: 0.4922\n"
     ]
    },
    {
     "name": "stderr",
     "output_type": "stream",
     "text": [
      "Training progress: 100%|██████████| 304/304 [00:42<00:00,  7.10batch/s]\n"
     ]
    },
    {
     "name": "stdout",
     "output_type": "stream",
     "text": [
      "Epoch 11/16, Train-Loss: 0.6904, Val-Loss: 0.6889, Val-F1: 0.6117, Val-Precision: 0.5189, Val-Recall: 0.7448, Val-Accuracy: 0.5135\n"
     ]
    },
    {
     "name": "stderr",
     "output_type": "stream",
     "text": [
      "Training progress: 100%|██████████| 304/304 [00:42<00:00,  7.09batch/s]\n"
     ]
    },
    {
     "name": "stdout",
     "output_type": "stream",
     "text": [
      "Epoch 12/16, Train-Loss: 0.6901, Val-Loss: 0.6894, Val-F1: 0.5510, Val-Precision: 0.5839, Val-Recall: 0.5215, Val-Accuracy: 0.5628\n"
     ]
    },
    {
     "name": "stderr",
     "output_type": "stream",
     "text": [
      "Training progress: 100%|██████████| 304/304 [00:42<00:00,  7.10batch/s]\n"
     ]
    },
    {
     "name": "stdout",
     "output_type": "stream",
     "text": [
      "Epoch 13/16, Train-Loss: 0.6900, Val-Loss: 0.6886, Val-F1: 0.6000, Val-Precision: 0.5342, Val-Recall: 0.6842, Val-Accuracy: 0.5308\n"
     ]
    },
    {
     "name": "stderr",
     "output_type": "stream",
     "text": [
      "Training progress: 100%|██████████| 304/304 [00:42<00:00,  7.09batch/s]\n"
     ]
    },
    {
     "name": "stdout",
     "output_type": "stream",
     "text": [
      "Epoch 14/16, Train-Loss: 0.6895, Val-Loss: 0.6889, Val-F1: 0.6266, Val-Precision: 0.5059, Val-Recall: 0.8230, Val-Accuracy: 0.4955\n"
     ]
    },
    {
     "name": "stderr",
     "output_type": "stream",
     "text": [
      "Training progress: 100%|██████████| 304/304 [00:42<00:00,  7.14batch/s]\n"
     ]
    },
    {
     "name": "stdout",
     "output_type": "stream",
     "text": [
      "Epoch 15/16, Train-Loss: 0.6899, Val-Loss: 0.6884, Val-F1: 0.6128, Val-Precision: 0.5152, Val-Recall: 0.7560, Val-Accuracy: 0.5086\n"
     ]
    },
    {
     "name": "stderr",
     "output_type": "stream",
     "text": [
      "Training progress: 100%|██████████| 304/304 [00:42<00:00,  7.10batch/s]\n"
     ]
    },
    {
     "name": "stdout",
     "output_type": "stream",
     "text": [
      "Epoch 16/16, Train-Loss: 0.6897, Val-Loss: 0.6882, Val-F1: 0.6091, Val-Precision: 0.5308, Val-Recall: 0.7145, Val-Accuracy: 0.5283\n",
      "\n",
      "\u001b[92mRESULTS:\n",
      " F1-Score:0.5968514715947981, Precision:0.5221556886227545, Recall:0.6964856230031949, Accuracy:0.5164203612479474, BCE:0.6907724142074585 \u001b[0m \n",
      "\n",
      "\n",
      "\u001b[91mRUN 36:\u001b[0m\n",
      " Senokosov2024Circuit \n",
      " lr: 0.001\n"
     ]
    },
    {
     "name": "stderr",
     "output_type": "stream",
     "text": [
      "Training progress: 100%|██████████| 304/304 [00:42<00:00,  7.10batch/s]\n"
     ]
    },
    {
     "name": "stdout",
     "output_type": "stream",
     "text": [
      "Epoch 1/16, Train-Loss: 0.6987, Val-Loss: 0.6962, Val-F1: 0.4239, Val-Precision: 0.4725, Val-Recall: 0.3844, Val-Accuracy: 0.4627\n"
     ]
    },
    {
     "name": "stderr",
     "output_type": "stream",
     "text": [
      "Training progress: 100%|██████████| 304/304 [00:42<00:00,  7.11batch/s]\n"
     ]
    },
    {
     "name": "stdout",
     "output_type": "stream",
     "text": [
      "Epoch 2/16, Train-Loss: 0.6952, Val-Loss: 0.6952, Val-F1: 0.6320, Val-Precision: 0.4924, Val-Recall: 0.8820, Val-Accuracy: 0.4717\n"
     ]
    },
    {
     "name": "stderr",
     "output_type": "stream",
     "text": [
      "Training progress: 100%|██████████| 304/304 [00:42<00:00,  7.11batch/s]\n"
     ]
    },
    {
     "name": "stdout",
     "output_type": "stream",
     "text": [
      "Epoch 3/16, Train-Loss: 0.6949, Val-Loss: 0.6951, Val-F1: 0.6513, Val-Precision: 0.5022, Val-Recall: 0.9266, Val-Accuracy: 0.4897\n"
     ]
    },
    {
     "name": "stderr",
     "output_type": "stream",
     "text": [
      "Training progress: 100%|██████████| 304/304 [00:42<00:00,  7.10batch/s]\n"
     ]
    },
    {
     "name": "stdout",
     "output_type": "stream",
     "text": [
      "Epoch 4/16, Train-Loss: 0.6947, Val-Loss: 0.6949, Val-F1: 0.6707, Val-Precision: 0.5104, Val-Recall: 0.9777, Val-Accuracy: 0.5062\n"
     ]
    },
    {
     "name": "stderr",
     "output_type": "stream",
     "text": [
      "Training progress: 100%|██████████| 304/304 [00:42<00:00,  7.10batch/s]\n"
     ]
    },
    {
     "name": "stdout",
     "output_type": "stream",
     "text": [
      "Epoch 5/16, Train-Loss: 0.6946, Val-Loss: 0.6948, Val-F1: 0.6637, Val-Precision: 0.5072, Val-Recall: 0.9601, Val-Accuracy: 0.4996\n"
     ]
    },
    {
     "name": "stderr",
     "output_type": "stream",
     "text": [
      "Training progress: 100%|██████████| 304/304 [00:42<00:00,  7.11batch/s]\n"
     ]
    },
    {
     "name": "stdout",
     "output_type": "stream",
     "text": [
      "Epoch 6/16, Train-Loss: 0.6945, Val-Loss: 0.6947, Val-F1: 0.6754, Val-Precision: 0.5128, Val-Recall: 0.9888, Val-Accuracy: 0.5111\n"
     ]
    },
    {
     "name": "stderr",
     "output_type": "stream",
     "text": [
      "Training progress: 100%|██████████| 304/304 [00:42<00:00,  7.09batch/s]\n"
     ]
    },
    {
     "name": "stdout",
     "output_type": "stream",
     "text": [
      "Epoch 7/16, Train-Loss: 0.6944, Val-Loss: 0.6945, Val-F1: 0.6768, Val-Precision: 0.5136, Val-Recall: 0.9920, Val-Accuracy: 0.5127\n"
     ]
    },
    {
     "name": "stderr",
     "output_type": "stream",
     "text": [
      "Training progress: 100%|██████████| 304/304 [00:42<00:00,  7.10batch/s]\n"
     ]
    },
    {
     "name": "stdout",
     "output_type": "stream",
     "text": [
      "Epoch 8/16, Train-Loss: 0.6943, Val-Loss: 0.6944, Val-F1: 0.6732, Val-Precision: 0.5116, Val-Recall: 0.9841, Val-Accuracy: 0.5086\n"
     ]
    },
    {
     "name": "stderr",
     "output_type": "stream",
     "text": [
      "Training progress: 100%|██████████| 304/304 [00:42<00:00,  7.11batch/s]\n"
     ]
    },
    {
     "name": "stdout",
     "output_type": "stream",
     "text": [
      "Epoch 9/16, Train-Loss: 0.6941, Val-Loss: 0.6943, Val-F1: 0.6768, Val-Precision: 0.5136, Val-Recall: 0.9920, Val-Accuracy: 0.5127\n"
     ]
    },
    {
     "name": "stderr",
     "output_type": "stream",
     "text": [
      "Training progress: 100%|██████████| 304/304 [00:42<00:00,  7.11batch/s]\n"
     ]
    },
    {
     "name": "stdout",
     "output_type": "stream",
     "text": [
      "Epoch 10/16, Train-Loss: 0.6941, Val-Loss: 0.6942, Val-F1: 0.6772, Val-Precision: 0.5136, Val-Recall: 0.9936, Val-Accuracy: 0.5127\n"
     ]
    },
    {
     "name": "stderr",
     "output_type": "stream",
     "text": [
      "Training progress: 100%|██████████| 304/304 [00:42<00:00,  7.10batch/s]\n"
     ]
    },
    {
     "name": "stdout",
     "output_type": "stream",
     "text": [
      "Epoch 11/16, Train-Loss: 0.6939, Val-Loss: 0.6940, Val-F1: 0.6782, Val-Precision: 0.5140, Val-Recall: 0.9968, Val-Accuracy: 0.5135\n"
     ]
    },
    {
     "name": "stderr",
     "output_type": "stream",
     "text": [
      "Training progress: 100%|██████████| 304/304 [00:42<00:00,  7.11batch/s]\n"
     ]
    },
    {
     "name": "stdout",
     "output_type": "stream",
     "text": [
      "Epoch 12/16, Train-Loss: 0.6939, Val-Loss: 0.6939, Val-F1: 0.6782, Val-Precision: 0.5140, Val-Recall: 0.9968, Val-Accuracy: 0.5135\n"
     ]
    },
    {
     "name": "stderr",
     "output_type": "stream",
     "text": [
      "Training progress: 100%|██████████| 304/304 [00:42<00:00,  7.09batch/s]\n"
     ]
    },
    {
     "name": "stdout",
     "output_type": "stream",
     "text": [
      "Epoch 13/16, Train-Loss: 0.6937, Val-Loss: 0.6938, Val-F1: 0.6793, Val-Precision: 0.5144, Val-Recall: 1.0000, Val-Accuracy: 0.5144\n"
     ]
    },
    {
     "name": "stderr",
     "output_type": "stream",
     "text": [
      "Training progress: 100%|██████████| 304/304 [00:42<00:00,  7.09batch/s]\n"
     ]
    },
    {
     "name": "stdout",
     "output_type": "stream",
     "text": [
      "Epoch 14/16, Train-Loss: 0.6936, Val-Loss: 0.6937, Val-F1: 0.6793, Val-Precision: 0.5144, Val-Recall: 1.0000, Val-Accuracy: 0.5144\n"
     ]
    },
    {
     "name": "stderr",
     "output_type": "stream",
     "text": [
      "Training progress: 100%|██████████| 304/304 [00:42<00:00,  7.08batch/s]\n"
     ]
    },
    {
     "name": "stdout",
     "output_type": "stream",
     "text": [
      "Epoch 15/16, Train-Loss: 0.6935, Val-Loss: 0.6936, Val-F1: 0.6793, Val-Precision: 0.5144, Val-Recall: 1.0000, Val-Accuracy: 0.5144\n"
     ]
    },
    {
     "name": "stderr",
     "output_type": "stream",
     "text": [
      "Training progress: 100%|██████████| 304/304 [00:42<00:00,  7.09batch/s]\n"
     ]
    },
    {
     "name": "stdout",
     "output_type": "stream",
     "text": [
      "Epoch 16/16, Train-Loss: 0.6935, Val-Loss: 0.6935, Val-F1: 0.6793, Val-Precision: 0.5144, Val-Recall: 1.0000, Val-Accuracy: 0.5144\n",
      "\n",
      "\u001b[92mRESULTS:\n",
      " F1-Score:0.6789587852494577, Precision:0.5139573070607554, Recall:1.0, Accuracy:0.5139573070607554, BCE:0.6932448148727417 \u001b[0m \n",
      "\n",
      "\n",
      "\u001b[91mRUN 37:\u001b[0m\n",
      " Anusha2024Circuit \n",
      " lr: 0.01\n"
     ]
    },
    {
     "name": "stderr",
     "output_type": "stream",
     "text": [
      "Training progress: 100%|██████████| 304/304 [00:18<00:00, 16.48batch/s]\n"
     ]
    },
    {
     "name": "stdout",
     "output_type": "stream",
     "text": [
      "Epoch 1/16, Train-Loss: 0.5406, Val-Loss: 0.4677, Val-F1: 0.8920, Val-Precision: 0.8640, Val-Recall: 0.9219, Val-Accuracy: 0.8852\n"
     ]
    },
    {
     "name": "stderr",
     "output_type": "stream",
     "text": [
      "Training progress: 100%|██████████| 304/304 [00:18<00:00, 16.47batch/s]\n"
     ]
    },
    {
     "name": "stdout",
     "output_type": "stream",
     "text": [
      "Epoch 2/16, Train-Loss: 0.4258, Val-Loss: 0.4010, Val-F1: 0.8894, Val-Precision: 0.8937, Val-Recall: 0.8852, Val-Accuracy: 0.8868\n"
     ]
    },
    {
     "name": "stderr",
     "output_type": "stream",
     "text": [
      "Training progress: 100%|██████████| 304/304 [00:18<00:00, 16.55batch/s]\n"
     ]
    },
    {
     "name": "stdout",
     "output_type": "stream",
     "text": [
      "Epoch 3/16, Train-Loss: 0.3783, Val-Loss: 0.3706, Val-F1: 0.8889, Val-Precision: 0.8910, Val-Recall: 0.8868, Val-Accuracy: 0.8860\n"
     ]
    },
    {
     "name": "stderr",
     "output_type": "stream",
     "text": [
      "Training progress: 100%|██████████| 304/304 [00:18<00:00, 16.54batch/s]\n"
     ]
    },
    {
     "name": "stdout",
     "output_type": "stream",
     "text": [
      "Epoch 4/16, Train-Loss: 0.3543, Val-Loss: 0.3542, Val-F1: 0.8914, Val-Precision: 0.8994, Val-Recall: 0.8836, Val-Accuracy: 0.8893\n"
     ]
    },
    {
     "name": "stderr",
     "output_type": "stream",
     "text": [
      "Training progress: 100%|██████████| 304/304 [00:18<00:00, 16.52batch/s]\n"
     ]
    },
    {
     "name": "stdout",
     "output_type": "stream",
     "text": [
      "Epoch 5/16, Train-Loss: 0.3410, Val-Loss: 0.3452, Val-F1: 0.8900, Val-Precision: 0.8964, Val-Recall: 0.8836, Val-Accuracy: 0.8876\n"
     ]
    },
    {
     "name": "stderr",
     "output_type": "stream",
     "text": [
      "Training progress: 100%|██████████| 304/304 [00:18<00:00, 16.46batch/s]\n"
     ]
    },
    {
     "name": "stdout",
     "output_type": "stream",
     "text": [
      "Epoch 6/16, Train-Loss: 0.3334, Val-Loss: 0.3395, Val-F1: 0.8892, Val-Precision: 0.9016, Val-Recall: 0.8772, Val-Accuracy: 0.8876\n"
     ]
    },
    {
     "name": "stderr",
     "output_type": "stream",
     "text": [
      "Training progress: 100%|██████████| 304/304 [00:18<00:00, 16.50batch/s]\n"
     ]
    },
    {
     "name": "stdout",
     "output_type": "stream",
     "text": [
      "Epoch 7/16, Train-Loss: 0.3280, Val-Loss: 0.3363, Val-F1: 0.8903, Val-Precision: 0.9005, Val-Recall: 0.8804, Val-Accuracy: 0.8884\n"
     ]
    },
    {
     "name": "stderr",
     "output_type": "stream",
     "text": [
      "Training progress: 100%|██████████| 304/304 [00:18<00:00, 16.46batch/s]\n"
     ]
    },
    {
     "name": "stdout",
     "output_type": "stream",
     "text": [
      "Epoch 8/16, Train-Loss: 0.3242, Val-Loss: 0.3345, Val-F1: 0.8900, Val-Precision: 0.8964, Val-Recall: 0.8836, Val-Accuracy: 0.8876\n"
     ]
    },
    {
     "name": "stderr",
     "output_type": "stream",
     "text": [
      "Training progress: 100%|██████████| 304/304 [00:18<00:00, 16.51batch/s]\n"
     ]
    },
    {
     "name": "stdout",
     "output_type": "stream",
     "text": [
      "Epoch 9/16, Train-Loss: 0.3226, Val-Loss: 0.3329, Val-F1: 0.8892, Val-Precision: 0.9016, Val-Recall: 0.8772, Val-Accuracy: 0.8876\n"
     ]
    },
    {
     "name": "stderr",
     "output_type": "stream",
     "text": [
      "Training progress: 100%|██████████| 304/304 [00:18<00:00, 16.50batch/s]\n"
     ]
    },
    {
     "name": "stdout",
     "output_type": "stream",
     "text": [
      "Epoch 10/16, Train-Loss: 0.3211, Val-Loss: 0.3331, Val-F1: 0.8917, Val-Precision: 0.8903, Val-Recall: 0.8931, Val-Accuracy: 0.8884\n"
     ]
    },
    {
     "name": "stderr",
     "output_type": "stream",
     "text": [
      "Training progress: 100%|██████████| 304/304 [00:18<00:00, 16.48batch/s]\n"
     ]
    },
    {
     "name": "stdout",
     "output_type": "stream",
     "text": [
      "Epoch 11/16, Train-Loss: 0.3203, Val-Loss: 0.3318, Val-F1: 0.8912, Val-Precision: 0.9007, Val-Recall: 0.8820, Val-Accuracy: 0.8893\n"
     ]
    },
    {
     "name": "stderr",
     "output_type": "stream",
     "text": [
      "Training progress: 100%|██████████| 304/304 [00:18<00:00, 16.55batch/s]\n"
     ]
    },
    {
     "name": "stdout",
     "output_type": "stream",
     "text": [
      "Epoch 12/16, Train-Loss: 0.3196, Val-Loss: 0.3314, Val-F1: 0.8912, Val-Precision: 0.9007, Val-Recall: 0.8820, Val-Accuracy: 0.8893\n"
     ]
    },
    {
     "name": "stderr",
     "output_type": "stream",
     "text": [
      "Training progress: 100%|██████████| 304/304 [00:18<00:00, 16.51batch/s]\n"
     ]
    },
    {
     "name": "stdout",
     "output_type": "stream",
     "text": [
      "Epoch 13/16, Train-Loss: 0.3192, Val-Loss: 0.3316, Val-F1: 0.8900, Val-Precision: 0.8964, Val-Recall: 0.8836, Val-Accuracy: 0.8876\n"
     ]
    },
    {
     "name": "stderr",
     "output_type": "stream",
     "text": [
      "Training progress: 100%|██████████| 304/304 [00:18<00:00, 16.51batch/s]\n"
     ]
    },
    {
     "name": "stdout",
     "output_type": "stream",
     "text": [
      "Epoch 14/16, Train-Loss: 0.3178, Val-Loss: 0.3318, Val-F1: 0.8889, Val-Precision: 0.8910, Val-Recall: 0.8868, Val-Accuracy: 0.8860\n"
     ]
    },
    {
     "name": "stderr",
     "output_type": "stream",
     "text": [
      "Training progress: 100%|██████████| 304/304 [00:18<00:00, 16.43batch/s]\n"
     ]
    },
    {
     "name": "stdout",
     "output_type": "stream",
     "text": [
      "Epoch 15/16, Train-Loss: 0.3187, Val-Loss: 0.3315, Val-F1: 0.8900, Val-Precision: 0.8964, Val-Recall: 0.8836, Val-Accuracy: 0.8876\n"
     ]
    },
    {
     "name": "stderr",
     "output_type": "stream",
     "text": [
      "Training progress: 100%|██████████| 304/304 [00:18<00:00, 16.54batch/s]\n"
     ]
    },
    {
     "name": "stdout",
     "output_type": "stream",
     "text": [
      "Epoch 16/16, Train-Loss: 0.3180, Val-Loss: 0.3320, Val-F1: 0.8891, Val-Precision: 0.8898, Val-Recall: 0.8884, Val-Accuracy: 0.8860\n",
      "\n",
      "\u001b[92mRESULTS:\n",
      " F1-Score:0.8732849071832123, Precision:0.8825448613376835, Recall:0.8642172523961661, Accuracy:0.8711001642036125, BCE:0.32155466079711914 \u001b[0m \n",
      "\n",
      "\n",
      "\u001b[91mRUN 38:\u001b[0m\n",
      " Anusha2024Circuit \n",
      " lr: 0.001\n"
     ]
    },
    {
     "name": "stderr",
     "output_type": "stream",
     "text": [
      "Training progress: 100%|██████████| 304/304 [00:18<00:00, 16.57batch/s]\n"
     ]
    },
    {
     "name": "stdout",
     "output_type": "stream",
     "text": [
      "Epoch 1/16, Train-Loss: 0.6377, Val-Loss: 0.6236, Val-F1: 0.6924, Val-Precision: 0.5296, Val-Recall: 1.0000, Val-Accuracy: 0.5431\n"
     ]
    },
    {
     "name": "stderr",
     "output_type": "stream",
     "text": [
      "Training progress: 100%|██████████| 304/304 [00:18<00:00, 16.54batch/s]\n"
     ]
    },
    {
     "name": "stdout",
     "output_type": "stream",
     "text": [
      "Epoch 2/16, Train-Loss: 0.6094, Val-Loss: 0.5979, Val-F1: 0.7489, Val-Precision: 0.6033, Val-Recall: 0.9872, Val-Accuracy: 0.6596\n"
     ]
    },
    {
     "name": "stderr",
     "output_type": "stream",
     "text": [
      "Training progress: 100%|██████████| 304/304 [00:18<00:00, 16.50batch/s]\n"
     ]
    },
    {
     "name": "stdout",
     "output_type": "stream",
     "text": [
      "Epoch 3/16, Train-Loss: 0.5851, Val-Loss: 0.5752, Val-F1: 0.8042, Val-Precision: 0.6838, Val-Recall: 0.9761, Val-Accuracy: 0.7555\n"
     ]
    },
    {
     "name": "stderr",
     "output_type": "stream",
     "text": [
      "Training progress: 100%|██████████| 304/304 [00:18<00:00, 16.56batch/s]\n"
     ]
    },
    {
     "name": "stdout",
     "output_type": "stream",
     "text": [
      "Epoch 4/16, Train-Loss: 0.5634, Val-Loss: 0.5549, Val-F1: 0.8317, Val-Precision: 0.7327, Val-Recall: 0.9617, Val-Accuracy: 0.7998\n"
     ]
    },
    {
     "name": "stderr",
     "output_type": "stream",
     "text": [
      "Training progress: 100%|██████████| 304/304 [00:18<00:00, 16.59batch/s]\n"
     ]
    },
    {
     "name": "stdout",
     "output_type": "stream",
     "text": [
      "Epoch 5/16, Train-Loss: 0.5439, Val-Loss: 0.5366, Val-F1: 0.8656, Val-Precision: 0.7947, Val-Recall: 0.9506, Val-Accuracy: 0.8482\n"
     ]
    },
    {
     "name": "stderr",
     "output_type": "stream",
     "text": [
      "Training progress: 100%|██████████| 304/304 [00:18<00:00, 16.58batch/s]\n"
     ]
    },
    {
     "name": "stdout",
     "output_type": "stream",
     "text": [
      "Epoch 6/16, Train-Loss: 0.5264, Val-Loss: 0.5202, Val-F1: 0.8861, Val-Precision: 0.8310, Val-Recall: 0.9490, Val-Accuracy: 0.8745\n"
     ]
    },
    {
     "name": "stderr",
     "output_type": "stream",
     "text": [
      "Training progress: 100%|██████████| 304/304 [00:18<00:00, 16.57batch/s]\n"
     ]
    },
    {
     "name": "stdout",
     "output_type": "stream",
     "text": [
      "Epoch 7/16, Train-Loss: 0.5104, Val-Loss: 0.5052, Val-F1: 0.8955, Val-Precision: 0.8528, Val-Recall: 0.9426, Val-Accuracy: 0.8868\n"
     ]
    },
    {
     "name": "stderr",
     "output_type": "stream",
     "text": [
      "Training progress: 100%|██████████| 304/304 [00:18<00:00, 16.53batch/s]\n"
     ]
    },
    {
     "name": "stdout",
     "output_type": "stream",
     "text": [
      "Epoch 8/16, Train-Loss: 0.4959, Val-Loss: 0.4917, Val-F1: 0.8918, Val-Precision: 0.8595, Val-Recall: 0.9266, Val-Accuracy: 0.8843\n"
     ]
    },
    {
     "name": "stderr",
     "output_type": "stream",
     "text": [
      "Training progress: 100%|██████████| 304/304 [00:18<00:00, 16.53batch/s]\n"
     ]
    },
    {
     "name": "stdout",
     "output_type": "stream",
     "text": [
      "Epoch 9/16, Train-Loss: 0.4828, Val-Loss: 0.4795, Val-F1: 0.8927, Val-Precision: 0.8653, Val-Recall: 0.9219, Val-Accuracy: 0.8860\n"
     ]
    },
    {
     "name": "stderr",
     "output_type": "stream",
     "text": [
      "Training progress: 100%|██████████| 304/304 [00:18<00:00, 16.57batch/s]\n"
     ]
    },
    {
     "name": "stdout",
     "output_type": "stream",
     "text": [
      "Epoch 10/16, Train-Loss: 0.4709, Val-Loss: 0.4682, Val-F1: 0.8948, Val-Precision: 0.8750, Val-Recall: 0.9155, Val-Accuracy: 0.8893\n"
     ]
    },
    {
     "name": "stderr",
     "output_type": "stream",
     "text": [
      "Training progress: 100%|██████████| 304/304 [00:18<00:00, 16.52batch/s]\n"
     ]
    },
    {
     "name": "stdout",
     "output_type": "stream",
     "text": [
      "Epoch 11/16, Train-Loss: 0.4598, Val-Loss: 0.4578, Val-F1: 0.8925, Val-Precision: 0.8781, Val-Recall: 0.9075, Val-Accuracy: 0.8876\n"
     ]
    },
    {
     "name": "stderr",
     "output_type": "stream",
     "text": [
      "Training progress: 100%|██████████| 304/304 [00:18<00:00, 16.57batch/s]\n"
     ]
    },
    {
     "name": "stdout",
     "output_type": "stream",
     "text": [
      "Epoch 12/16, Train-Loss: 0.4498, Val-Loss: 0.4484, Val-F1: 0.8915, Val-Precision: 0.8791, Val-Recall: 0.9043, Val-Accuracy: 0.8868\n"
     ]
    },
    {
     "name": "stderr",
     "output_type": "stream",
     "text": [
      "Training progress: 100%|██████████| 304/304 [00:18<00:00, 16.51batch/s]\n"
     ]
    },
    {
     "name": "stdout",
     "output_type": "stream",
     "text": [
      "Epoch 13/16, Train-Loss: 0.4405, Val-Loss: 0.4397, Val-F1: 0.8924, Val-Precision: 0.8854, Val-Recall: 0.8995, Val-Accuracy: 0.8884\n"
     ]
    },
    {
     "name": "stderr",
     "output_type": "stream",
     "text": [
      "Training progress: 100%|██████████| 304/304 [00:18<00:00, 16.54batch/s]\n"
     ]
    },
    {
     "name": "stdout",
     "output_type": "stream",
     "text": [
      "Epoch 14/16, Train-Loss: 0.4317, Val-Loss: 0.4318, Val-F1: 0.8931, Val-Precision: 0.8868, Val-Recall: 0.8995, Val-Accuracy: 0.8893\n"
     ]
    },
    {
     "name": "stderr",
     "output_type": "stream",
     "text": [
      "Training progress: 100%|██████████| 304/304 [00:18<00:00, 16.50batch/s]\n"
     ]
    },
    {
     "name": "stdout",
     "output_type": "stream",
     "text": [
      "Epoch 15/16, Train-Loss: 0.4242, Val-Loss: 0.4245, Val-F1: 0.8914, Val-Precision: 0.8864, Val-Recall: 0.8963, Val-Accuracy: 0.8876\n"
     ]
    },
    {
     "name": "stderr",
     "output_type": "stream",
     "text": [
      "Training progress: 100%|██████████| 304/304 [00:18<00:00, 16.54batch/s]\n"
     ]
    },
    {
     "name": "stdout",
     "output_type": "stream",
     "text": [
      "Epoch 16/16, Train-Loss: 0.4168, Val-Loss: 0.4178, Val-F1: 0.8917, Val-Precision: 0.8903, Val-Recall: 0.8931, Val-Accuracy: 0.8884\n",
      "\n",
      "\u001b[92mRESULTS:\n",
      " F1-Score:0.8760064412238325, Precision:0.8831168831168831, Recall:0.8690095846645367, Accuracy:0.8735632183908046, BCE:0.4130691885948181 \u001b[0m \n",
      "\n",
      "\n",
      "\u001b[91mRUN 39:\u001b[0m\n",
      " DoubleEntanglementVLCircuit \n",
      " lr: 0.01\n"
     ]
    },
    {
     "name": "stderr",
     "output_type": "stream",
     "text": [
      "Training progress: 100%|██████████| 304/304 [00:24<00:00, 12.46batch/s]\n"
     ]
    },
    {
     "name": "stdout",
     "output_type": "stream",
     "text": [
      "Epoch 1/16, Train-Loss: 0.6746, Val-Loss: 0.6683, Val-F1: 0.7385, Val-Precision: 0.6912, Val-Recall: 0.7927, Val-Accuracy: 0.7112\n"
     ]
    },
    {
     "name": "stderr",
     "output_type": "stream",
     "text": [
      "Training progress: 100%|██████████| 304/304 [00:24<00:00, 12.48batch/s]\n"
     ]
    },
    {
     "name": "stdout",
     "output_type": "stream",
     "text": [
      "Epoch 2/16, Train-Loss: 0.6610, Val-Loss: 0.6583, Val-F1: 0.7087, Val-Precision: 0.6925, Val-Recall: 0.7257, Val-Accuracy: 0.6932\n"
     ]
    },
    {
     "name": "stderr",
     "output_type": "stream",
     "text": [
      "Training progress: 100%|██████████| 304/304 [00:24<00:00, 12.46batch/s]\n"
     ]
    },
    {
     "name": "stdout",
     "output_type": "stream",
     "text": [
      "Epoch 3/16, Train-Loss: 0.6518, Val-Loss: 0.6517, Val-F1: 0.7642, Val-Precision: 0.6940, Val-Recall: 0.8501, Val-Accuracy: 0.7301\n"
     ]
    },
    {
     "name": "stderr",
     "output_type": "stream",
     "text": [
      "Training progress: 100%|██████████| 304/304 [00:24<00:00, 12.49batch/s]\n"
     ]
    },
    {
     "name": "stdout",
     "output_type": "stream",
     "text": [
      "Epoch 4/16, Train-Loss: 0.6452, Val-Loss: 0.6465, Val-F1: 0.7372, Val-Precision: 0.6913, Val-Recall: 0.7895, Val-Accuracy: 0.7104\n"
     ]
    },
    {
     "name": "stderr",
     "output_type": "stream",
     "text": [
      "Training progress: 100%|██████████| 304/304 [00:24<00:00, 12.48batch/s]\n"
     ]
    },
    {
     "name": "stdout",
     "output_type": "stream",
     "text": [
      "Epoch 5/16, Train-Loss: 0.6406, Val-Loss: 0.6435, Val-F1: 0.7505, Val-Precision: 0.6898, Val-Recall: 0.8230, Val-Accuracy: 0.7186\n"
     ]
    },
    {
     "name": "stderr",
     "output_type": "stream",
     "text": [
      "Training progress: 100%|██████████| 304/304 [00:24<00:00, 12.45batch/s]\n"
     ]
    },
    {
     "name": "stdout",
     "output_type": "stream",
     "text": [
      "Epoch 6/16, Train-Loss: 0.6371, Val-Loss: 0.6410, Val-F1: 0.7312, Val-Precision: 0.6908, Val-Recall: 0.7767, Val-Accuracy: 0.7063\n"
     ]
    },
    {
     "name": "stderr",
     "output_type": "stream",
     "text": [
      "Training progress: 100%|██████████| 304/304 [00:24<00:00, 12.48batch/s]\n"
     ]
    },
    {
     "name": "stdout",
     "output_type": "stream",
     "text": [
      "Epoch 7/16, Train-Loss: 0.6348, Val-Loss: 0.6399, Val-F1: 0.7515, Val-Precision: 0.6903, Val-Recall: 0.8246, Val-Accuracy: 0.7194\n"
     ]
    },
    {
     "name": "stderr",
     "output_type": "stream",
     "text": [
      "Training progress: 100%|██████████| 304/304 [00:24<00:00, 12.48batch/s]\n"
     ]
    },
    {
     "name": "stdout",
     "output_type": "stream",
     "text": [
      "Epoch 8/16, Train-Loss: 0.6337, Val-Loss: 0.6388, Val-F1: 0.7484, Val-Precision: 0.6895, Val-Recall: 0.8182, Val-Accuracy: 0.7170\n"
     ]
    },
    {
     "name": "stderr",
     "output_type": "stream",
     "text": [
      "Training progress: 100%|██████████| 304/304 [00:24<00:00, 12.48batch/s]\n"
     ]
    },
    {
     "name": "stdout",
     "output_type": "stream",
     "text": [
      "Epoch 9/16, Train-Loss: 0.6321, Val-Loss: 0.6380, Val-F1: 0.7452, Val-Precision: 0.6922, Val-Recall: 0.8070, Val-Accuracy: 0.7162\n"
     ]
    },
    {
     "name": "stderr",
     "output_type": "stream",
     "text": [
      "Training progress: 100%|██████████| 304/304 [00:24<00:00, 12.49batch/s]\n"
     ]
    },
    {
     "name": "stdout",
     "output_type": "stream",
     "text": [
      "Epoch 10/16, Train-Loss: 0.6310, Val-Loss: 0.6382, Val-F1: 0.7572, Val-Precision: 0.6922, Val-Recall: 0.8357, Val-Accuracy: 0.7244\n"
     ]
    },
    {
     "name": "stderr",
     "output_type": "stream",
     "text": [
      "Training progress: 100%|██████████| 304/304 [00:24<00:00, 12.48batch/s]\n"
     ]
    },
    {
     "name": "stdout",
     "output_type": "stream",
     "text": [
      "Epoch 11/16, Train-Loss: 0.6310, Val-Loss: 0.6371, Val-F1: 0.7372, Val-Precision: 0.6913, Val-Recall: 0.7895, Val-Accuracy: 0.7104\n"
     ]
    },
    {
     "name": "stderr",
     "output_type": "stream",
     "text": [
      "Training progress: 100%|██████████| 304/304 [00:24<00:00, 12.48batch/s]\n"
     ]
    },
    {
     "name": "stdout",
     "output_type": "stream",
     "text": [
      "Epoch 12/16, Train-Loss: 0.6303, Val-Loss: 0.6370, Val-F1: 0.7255, Val-Precision: 0.6933, Val-Recall: 0.7608, Val-Accuracy: 0.7039\n"
     ]
    },
    {
     "name": "stderr",
     "output_type": "stream",
     "text": [
      "Training progress: 100%|██████████| 304/304 [00:24<00:00, 12.49batch/s]\n"
     ]
    },
    {
     "name": "stdout",
     "output_type": "stream",
     "text": [
      "Epoch 13/16, Train-Loss: 0.6296, Val-Loss: 0.6369, Val-F1: 0.7385, Val-Precision: 0.6912, Val-Recall: 0.7927, Val-Accuracy: 0.7112\n"
     ]
    },
    {
     "name": "stderr",
     "output_type": "stream",
     "text": [
      "Training progress: 100%|██████████| 304/304 [00:24<00:00, 12.46batch/s]\n"
     ]
    },
    {
     "name": "stdout",
     "output_type": "stream",
     "text": [
      "Epoch 14/16, Train-Loss: 0.6295, Val-Loss: 0.6379, Val-F1: 0.7624, Val-Precision: 0.6932, Val-Recall: 0.8469, Val-Accuracy: 0.7285\n"
     ]
    },
    {
     "name": "stderr",
     "output_type": "stream",
     "text": [
      "Training progress: 100%|██████████| 304/304 [00:24<00:00, 12.48batch/s]\n"
     ]
    },
    {
     "name": "stdout",
     "output_type": "stream",
     "text": [
      "Epoch 15/16, Train-Loss: 0.6297, Val-Loss: 0.6370, Val-F1: 0.7452, Val-Precision: 0.6922, Val-Recall: 0.8070, Val-Accuracy: 0.7162\n"
     ]
    },
    {
     "name": "stderr",
     "output_type": "stream",
     "text": [
      "Training progress: 100%|██████████| 304/304 [00:24<00:00, 12.46batch/s]\n"
     ]
    },
    {
     "name": "stdout",
     "output_type": "stream",
     "text": [
      "Epoch 16/16, Train-Loss: 0.6288, Val-Loss: 0.6368, Val-F1: 0.7362, Val-Precision: 0.6909, Val-Recall: 0.7879, Val-Accuracy: 0.7096\n",
      "\n",
      "\u001b[92mRESULTS:\n",
      " F1-Score:0.7231121281464531, Precision:0.691970802919708, Recall:0.7571884984025559, Accuracy:0.7019704433497537, BCE:0.6425142288208008 \u001b[0m \n",
      "\n",
      "\n",
      "\u001b[91mRUN 40:\u001b[0m\n",
      " DoubleEntanglementVLCircuit \n",
      " lr: 0.001\n"
     ]
    },
    {
     "name": "stderr",
     "output_type": "stream",
     "text": [
      "Training progress: 100%|██████████| 304/304 [00:24<00:00, 12.46batch/s]\n"
     ]
    },
    {
     "name": "stdout",
     "output_type": "stream",
     "text": [
      "Epoch 1/16, Train-Loss: 0.6822, Val-Loss: 0.6818, Val-F1: 0.6026, Val-Precision: 0.6591, Val-Recall: 0.5550, Val-Accuracy: 0.6235\n"
     ]
    },
    {
     "name": "stderr",
     "output_type": "stream",
     "text": [
      "Training progress: 100%|██████████| 304/304 [00:24<00:00, 12.46batch/s]\n"
     ]
    },
    {
     "name": "stdout",
     "output_type": "stream",
     "text": [
      "Epoch 2/16, Train-Loss: 0.6801, Val-Loss: 0.6800, Val-F1: 0.7323, Val-Precision: 0.6927, Val-Recall: 0.7767, Val-Accuracy: 0.7080\n"
     ]
    },
    {
     "name": "stderr",
     "output_type": "stream",
     "text": [
      "Training progress: 100%|██████████| 304/304 [00:24<00:00, 12.48batch/s]\n"
     ]
    },
    {
     "name": "stdout",
     "output_type": "stream",
     "text": [
      "Epoch 3/16, Train-Loss: 0.6783, Val-Loss: 0.6784, Val-F1: 0.7288, Val-Precision: 0.6941, Val-Recall: 0.7671, Val-Accuracy: 0.7063\n"
     ]
    },
    {
     "name": "stderr",
     "output_type": "stream",
     "text": [
      "Training progress: 100%|██████████| 304/304 [00:24<00:00, 12.46batch/s]\n"
     ]
    },
    {
     "name": "stdout",
     "output_type": "stream",
     "text": [
      "Epoch 4/16, Train-Loss: 0.6765, Val-Loss: 0.6768, Val-F1: 0.7505, Val-Precision: 0.6898, Val-Recall: 0.8230, Val-Accuracy: 0.7186\n"
     ]
    },
    {
     "name": "stderr",
     "output_type": "stream",
     "text": [
      "Training progress: 100%|██████████| 304/304 [00:24<00:00, 12.48batch/s]\n"
     ]
    },
    {
     "name": "stdout",
     "output_type": "stream",
     "text": [
      "Epoch 5/16, Train-Loss: 0.6748, Val-Loss: 0.6752, Val-F1: 0.7372, Val-Precision: 0.6913, Val-Recall: 0.7895, Val-Accuracy: 0.7104\n"
     ]
    },
    {
     "name": "stderr",
     "output_type": "stream",
     "text": [
      "Training progress: 100%|██████████| 304/304 [00:24<00:00, 12.48batch/s]\n"
     ]
    },
    {
     "name": "stdout",
     "output_type": "stream",
     "text": [
      "Epoch 6/16, Train-Loss: 0.6732, Val-Loss: 0.6737, Val-F1: 0.7450, Val-Precision: 0.6907, Val-Recall: 0.8086, Val-Accuracy: 0.7153\n"
     ]
    },
    {
     "name": "stderr",
     "output_type": "stream",
     "text": [
      "Training progress: 100%|██████████| 304/304 [00:24<00:00, 12.46batch/s]\n"
     ]
    },
    {
     "name": "stdout",
     "output_type": "stream",
     "text": [
      "Epoch 7/16, Train-Loss: 0.6716, Val-Loss: 0.6723, Val-F1: 0.7447, Val-Precision: 0.6913, Val-Recall: 0.8070, Val-Accuracy: 0.7153\n"
     ]
    },
    {
     "name": "stderr",
     "output_type": "stream",
     "text": [
      "Training progress: 100%|██████████| 304/304 [00:24<00:00, 12.45batch/s]\n"
     ]
    },
    {
     "name": "stdout",
     "output_type": "stream",
     "text": [
      "Epoch 8/16, Train-Loss: 0.6702, Val-Loss: 0.6709, Val-F1: 0.7311, Val-Precision: 0.6893, Val-Recall: 0.7783, Val-Accuracy: 0.7055\n"
     ]
    },
    {
     "name": "stderr",
     "output_type": "stream",
     "text": [
      "Training progress: 100%|██████████| 304/304 [00:24<00:00, 12.49batch/s]\n"
     ]
    },
    {
     "name": "stdout",
     "output_type": "stream",
     "text": [
      "Epoch 9/16, Train-Loss: 0.6687, Val-Loss: 0.6696, Val-F1: 0.7366, Val-Precision: 0.6904, Val-Recall: 0.7895, Val-Accuracy: 0.7096\n"
     ]
    },
    {
     "name": "stderr",
     "output_type": "stream",
     "text": [
      "Training progress: 100%|██████████| 304/304 [00:24<00:00, 12.45batch/s]\n"
     ]
    },
    {
     "name": "stdout",
     "output_type": "stream",
     "text": [
      "Epoch 10/16, Train-Loss: 0.6672, Val-Loss: 0.6683, Val-F1: 0.7305, Val-Precision: 0.6883, Val-Recall: 0.7783, Val-Accuracy: 0.7047\n"
     ]
    },
    {
     "name": "stderr",
     "output_type": "stream",
     "text": [
      "Training progress: 100%|██████████| 304/304 [00:24<00:00, 12.46batch/s]\n"
     ]
    },
    {
     "name": "stdout",
     "output_type": "stream",
     "text": [
      "Epoch 11/16, Train-Loss: 0.6660, Val-Loss: 0.6671, Val-F1: 0.7305, Val-Precision: 0.6883, Val-Recall: 0.7783, Val-Accuracy: 0.7047\n"
     ]
    },
    {
     "name": "stderr",
     "output_type": "stream",
     "text": [
      "Training progress: 100%|██████████| 304/304 [00:24<00:00, 12.48batch/s]\n"
     ]
    },
    {
     "name": "stdout",
     "output_type": "stream",
     "text": [
      "Epoch 12/16, Train-Loss: 0.6646, Val-Loss: 0.6659, Val-F1: 0.7318, Val-Precision: 0.6918, Val-Recall: 0.7767, Val-Accuracy: 0.7071\n"
     ]
    },
    {
     "name": "stderr",
     "output_type": "stream",
     "text": [
      "Training progress: 100%|██████████| 304/304 [00:24<00:00, 12.43batch/s]\n"
     ]
    },
    {
     "name": "stdout",
     "output_type": "stream",
     "text": [
      "Epoch 13/16, Train-Loss: 0.6632, Val-Loss: 0.6648, Val-F1: 0.7305, Val-Precision: 0.6883, Val-Recall: 0.7783, Val-Accuracy: 0.7047\n"
     ]
    },
    {
     "name": "stderr",
     "output_type": "stream",
     "text": [
      "Training progress: 100%|██████████| 304/304 [00:24<00:00, 12.47batch/s]\n"
     ]
    },
    {
     "name": "stdout",
     "output_type": "stream",
     "text": [
      "Epoch 14/16, Train-Loss: 0.6621, Val-Loss: 0.6637, Val-F1: 0.7463, Val-Precision: 0.6941, Val-Recall: 0.8070, Val-Accuracy: 0.7178\n"
     ]
    },
    {
     "name": "stderr",
     "output_type": "stream",
     "text": [
      "Training progress: 100%|██████████| 304/304 [00:24<00:00, 12.42batch/s]\n"
     ]
    },
    {
     "name": "stdout",
     "output_type": "stream",
     "text": [
      "Epoch 15/16, Train-Loss: 0.6610, Val-Loss: 0.6626, Val-F1: 0.7445, Val-Precision: 0.6933, Val-Recall: 0.8038, Val-Accuracy: 0.7162\n"
     ]
    },
    {
     "name": "stderr",
     "output_type": "stream",
     "text": [
      "Training progress: 100%|██████████| 304/304 [00:24<00:00, 12.44batch/s]\n"
     ]
    },
    {
     "name": "stdout",
     "output_type": "stream",
     "text": [
      "Epoch 16/16, Train-Loss: 0.6596, Val-Loss: 0.6616, Val-F1: 0.7316, Val-Precision: 0.6902, Val-Recall: 0.7783, Val-Accuracy: 0.7063\n",
      "\n",
      "\u001b[92mRESULTS:\n",
      " F1-Score:0.7192042846212701, Precision:0.6901615271659325, Recall:0.7507987220447284, Accuracy:0.6986863711001642, BCE:0.6628400087356567 \u001b[0m \n",
      "\n",
      "\n",
      "\u001b[91mRUN 41:\u001b[0m\n",
      " Ranga2024Circuit \n",
      " lr: 0.01\n"
     ]
    },
    {
     "name": "stderr",
     "output_type": "stream",
     "text": [
      "Training progress: 100%|██████████| 304/304 [01:03<00:00,  4.80batch/s]\n"
     ]
    },
    {
     "name": "stdout",
     "output_type": "stream",
     "text": [
      "Epoch 1/16, Train-Loss: 0.6861, Val-Loss: 0.6286, Val-F1: 0.8944, Val-Precision: 0.9684, Val-Recall: 0.8309, Val-Accuracy: 0.8991\n"
     ]
    },
    {
     "name": "stderr",
     "output_type": "stream",
     "text": [
      "Training progress: 100%|██████████| 304/304 [01:03<00:00,  4.80batch/s]\n"
     ]
    },
    {
     "name": "stdout",
     "output_type": "stream",
     "text": [
      "Epoch 2/16, Train-Loss: 0.5824, Val-Loss: 0.5432, Val-F1: 0.9125, Val-Precision: 0.9019, Val-Recall: 0.9234, Val-Accuracy: 0.9089\n"
     ]
    },
    {
     "name": "stderr",
     "output_type": "stream",
     "text": [
      "Training progress: 100%|██████████| 304/304 [01:03<00:00,  4.79batch/s]\n"
     ]
    },
    {
     "name": "stdout",
     "output_type": "stream",
     "text": [
      "Epoch 3/16, Train-Loss: 0.5056, Val-Loss: 0.4768, Val-F1: 0.9174, Val-Precision: 0.8892, Val-Recall: 0.9474, Val-Accuracy: 0.9122\n"
     ]
    },
    {
     "name": "stderr",
     "output_type": "stream",
     "text": [
      "Training progress: 100%|██████████| 304/304 [01:03<00:00,  4.79batch/s]\n"
     ]
    },
    {
     "name": "stdout",
     "output_type": "stream",
     "text": [
      "Epoch 4/16, Train-Loss: 0.4472, Val-Loss: 0.4267, Val-F1: 0.9153, Val-Precision: 0.8924, Val-Recall: 0.9394, Val-Accuracy: 0.9106\n"
     ]
    },
    {
     "name": "stderr",
     "output_type": "stream",
     "text": [
      "Training progress: 100%|██████████| 304/304 [01:03<00:00,  4.80batch/s]\n"
     ]
    },
    {
     "name": "stdout",
     "output_type": "stream",
     "text": [
      "Epoch 5/16, Train-Loss: 0.4025, Val-Loss: 0.3883, Val-F1: 0.9153, Val-Precision: 0.8924, Val-Recall: 0.9394, Val-Accuracy: 0.9106\n"
     ]
    },
    {
     "name": "stderr",
     "output_type": "stream",
     "text": [
      "Training progress: 100%|██████████| 304/304 [01:03<00:00,  4.80batch/s]\n"
     ]
    },
    {
     "name": "stdout",
     "output_type": "stream",
     "text": [
      "Epoch 6/16, Train-Loss: 0.3682, Val-Loss: 0.3586, Val-F1: 0.9155, Val-Precision: 0.8986, Val-Recall: 0.9330, Val-Accuracy: 0.9114\n"
     ]
    },
    {
     "name": "stderr",
     "output_type": "stream",
     "text": [
      "Training progress: 100%|██████████| 304/304 [01:03<00:00,  4.79batch/s]\n"
     ]
    },
    {
     "name": "stdout",
     "output_type": "stream",
     "text": [
      "Epoch 7/16, Train-Loss: 0.3414, Val-Loss: 0.3347, Val-F1: 0.9153, Val-Precision: 0.8924, Val-Recall: 0.9394, Val-Accuracy: 0.9106\n"
     ]
    },
    {
     "name": "stderr",
     "output_type": "stream",
     "text": [
      "Training progress: 100%|██████████| 304/304 [01:03<00:00,  4.79batch/s]\n"
     ]
    },
    {
     "name": "stdout",
     "output_type": "stream",
     "text": [
      "Epoch 8/16, Train-Loss: 0.3196, Val-Loss: 0.3157, Val-F1: 0.9161, Val-Precision: 0.8926, Val-Recall: 0.9410, Val-Accuracy: 0.9114\n"
     ]
    },
    {
     "name": "stderr",
     "output_type": "stream",
     "text": [
      "Training progress: 100%|██████████| 304/304 [01:03<00:00,  4.80batch/s]\n"
     ]
    },
    {
     "name": "stdout",
     "output_type": "stream",
     "text": [
      "Epoch 9/16, Train-Loss: 0.3026, Val-Loss: 0.3001, Val-F1: 0.9149, Val-Precision: 0.8960, Val-Recall: 0.9346, Val-Accuracy: 0.9106\n"
     ]
    },
    {
     "name": "stderr",
     "output_type": "stream",
     "text": [
      "Training progress: 100%|██████████| 304/304 [01:03<00:00,  4.80batch/s]\n"
     ]
    },
    {
     "name": "stdout",
     "output_type": "stream",
     "text": [
      "Epoch 10/16, Train-Loss: 0.2882, Val-Loss: 0.2873, Val-F1: 0.9149, Val-Precision: 0.8960, Val-Recall: 0.9346, Val-Accuracy: 0.9106\n"
     ]
    },
    {
     "name": "stderr",
     "output_type": "stream",
     "text": [
      "Training progress: 100%|██████████| 304/304 [01:03<00:00,  4.81batch/s]\n"
     ]
    },
    {
     "name": "stdout",
     "output_type": "stream",
     "text": [
      "Epoch 11/16, Train-Loss: 0.2762, Val-Loss: 0.2770, Val-F1: 0.9151, Val-Precision: 0.9023, Val-Recall: 0.9282, Val-Accuracy: 0.9114\n"
     ]
    },
    {
     "name": "stderr",
     "output_type": "stream",
     "text": [
      "Training progress: 100%|██████████| 304/304 [01:03<00:00,  4.80batch/s]\n"
     ]
    },
    {
     "name": "stdout",
     "output_type": "stream",
     "text": [
      "Epoch 12/16, Train-Loss: 0.2667, Val-Loss: 0.2679, Val-F1: 0.9146, Val-Precision: 0.8985, Val-Recall: 0.9314, Val-Accuracy: 0.9106\n"
     ]
    },
    {
     "name": "stderr",
     "output_type": "stream",
     "text": [
      "Training progress: 100%|██████████| 304/304 [01:03<00:00,  4.80batch/s]\n"
     ]
    },
    {
     "name": "stdout",
     "output_type": "stream",
     "text": [
      "Epoch 13/16, Train-Loss: 0.2587, Val-Loss: 0.2607, Val-F1: 0.9149, Val-Precision: 0.8960, Val-Recall: 0.9346, Val-Accuracy: 0.9106\n"
     ]
    },
    {
     "name": "stderr",
     "output_type": "stream",
     "text": [
      "Training progress: 100%|██████████| 304/304 [01:03<00:00,  4.80batch/s]\n"
     ]
    },
    {
     "name": "stdout",
     "output_type": "stream",
     "text": [
      "Epoch 14/16, Train-Loss: 0.2518, Val-Loss: 0.2545, Val-F1: 0.9142, Val-Precision: 0.9022, Val-Recall: 0.9266, Val-Accuracy: 0.9106\n"
     ]
    },
    {
     "name": "stderr",
     "output_type": "stream",
     "text": [
      "Training progress: 100%|██████████| 304/304 [01:03<00:00,  4.80batch/s]\n"
     ]
    },
    {
     "name": "stdout",
     "output_type": "stream",
     "text": [
      "Epoch 15/16, Train-Loss: 0.2461, Val-Loss: 0.2495, Val-F1: 0.9125, Val-Precision: 0.9019, Val-Recall: 0.9234, Val-Accuracy: 0.9089\n"
     ]
    },
    {
     "name": "stderr",
     "output_type": "stream",
     "text": [
      "Training progress: 100%|██████████| 304/304 [01:03<00:00,  4.80batch/s]\n"
     ]
    },
    {
     "name": "stdout",
     "output_type": "stream",
     "text": [
      "Epoch 16/16, Train-Loss: 0.2414, Val-Loss: 0.2449, Val-F1: 0.9151, Val-Precision: 0.9023, Val-Recall: 0.9282, Val-Accuracy: 0.9114\n",
      "\n",
      "\u001b[92mRESULTS:\n",
      " F1-Score:0.9273301737756714, Precision:0.9171875, Recall:0.9376996805111821, Accuracy:0.9244663382594417, BCE:0.23823778331279755 \u001b[0m \n",
      "\n",
      "\n",
      "\u001b[91mRUN 42:\u001b[0m\n",
      " Ranga2024Circuit \n",
      " lr: 0.001\n"
     ]
    },
    {
     "name": "stderr",
     "output_type": "stream",
     "text": [
      "Training progress: 100%|██████████| 304/304 [01:03<00:00,  4.79batch/s]\n"
     ]
    },
    {
     "name": "stdout",
     "output_type": "stream",
     "text": [
      "Epoch 1/16, Train-Loss: 0.7958, Val-Loss: 0.7626, Val-F1: 0.6793, Val-Precision: 0.5144, Val-Recall: 1.0000, Val-Accuracy: 0.5144\n"
     ]
    },
    {
     "name": "stderr",
     "output_type": "stream",
     "text": [
      "Training progress: 100%|██████████| 304/304 [01:03<00:00,  4.80batch/s]\n"
     ]
    },
    {
     "name": "stdout",
     "output_type": "stream",
     "text": [
      "Epoch 2/16, Train-Loss: 0.7409, Val-Loss: 0.7220, Val-F1: 0.6793, Val-Precision: 0.5144, Val-Recall: 1.0000, Val-Accuracy: 0.5144\n"
     ]
    },
    {
     "name": "stderr",
     "output_type": "stream",
     "text": [
      "Training progress: 100%|██████████| 304/304 [01:03<00:00,  4.78batch/s]\n"
     ]
    },
    {
     "name": "stdout",
     "output_type": "stream",
     "text": [
      "Epoch 3/16, Train-Loss: 0.7103, Val-Loss: 0.6998, Val-F1: 0.6793, Val-Precision: 0.5144, Val-Recall: 1.0000, Val-Accuracy: 0.5144\n"
     ]
    },
    {
     "name": "stderr",
     "output_type": "stream",
     "text": [
      "Training progress: 100%|██████████| 304/304 [01:03<00:00,  4.79batch/s]\n"
     ]
    },
    {
     "name": "stdout",
     "output_type": "stream",
     "text": [
      "Epoch 4/16, Train-Loss: 0.6926, Val-Loss: 0.6861, Val-F1: 0.6793, Val-Precision: 0.5144, Val-Recall: 1.0000, Val-Accuracy: 0.5144\n"
     ]
    },
    {
     "name": "stderr",
     "output_type": "stream",
     "text": [
      "Training progress: 100%|██████████| 304/304 [01:03<00:00,  4.80batch/s]\n"
     ]
    },
    {
     "name": "stdout",
     "output_type": "stream",
     "text": [
      "Epoch 5/16, Train-Loss: 0.6803, Val-Loss: 0.6751, Val-F1: 0.7964, Val-Precision: 0.6638, Val-Recall: 0.9952, Val-Accuracy: 0.7383\n"
     ]
    },
    {
     "name": "stderr",
     "output_type": "stream",
     "text": [
      "Training progress: 100%|██████████| 304/304 [01:03<00:00,  4.79batch/s]\n"
     ]
    },
    {
     "name": "stdout",
     "output_type": "stream",
     "text": [
      "Epoch 6/16, Train-Loss: 0.6695, Val-Loss: 0.6648, Val-F1: 0.9110, Val-Precision: 0.8641, Val-Recall: 0.9633, Val-Accuracy: 0.9032\n"
     ]
    },
    {
     "name": "stderr",
     "output_type": "stream",
     "text": [
      "Training progress: 100%|██████████| 304/304 [01:03<00:00,  4.79batch/s]\n"
     ]
    },
    {
     "name": "stdout",
     "output_type": "stream",
     "text": [
      "Epoch 7/16, Train-Loss: 0.6590, Val-Loss: 0.6544, Val-F1: 0.9153, Val-Precision: 0.8924, Val-Recall: 0.9394, Val-Accuracy: 0.9106\n"
     ]
    },
    {
     "name": "stderr",
     "output_type": "stream",
     "text": [
      "Training progress: 100%|██████████| 304/304 [01:03<00:00,  4.79batch/s]\n"
     ]
    },
    {
     "name": "stdout",
     "output_type": "stream",
     "text": [
      "Epoch 8/16, Train-Loss: 0.6483, Val-Loss: 0.6438, Val-F1: 0.9149, Val-Precision: 0.8960, Val-Recall: 0.9346, Val-Accuracy: 0.9106\n"
     ]
    },
    {
     "name": "stderr",
     "output_type": "stream",
     "text": [
      "Training progress: 100%|██████████| 304/304 [01:03<00:00,  4.81batch/s]\n"
     ]
    },
    {
     "name": "stdout",
     "output_type": "stream",
     "text": [
      "Epoch 9/16, Train-Loss: 0.6376, Val-Loss: 0.6331, Val-F1: 0.9155, Val-Precision: 0.8986, Val-Recall: 0.9330, Val-Accuracy: 0.9114\n"
     ]
    },
    {
     "name": "stderr",
     "output_type": "stream",
     "text": [
      "Training progress: 100%|██████████| 304/304 [01:03<00:00,  4.79batch/s]\n"
     ]
    },
    {
     "name": "stdout",
     "output_type": "stream",
     "text": [
      "Epoch 10/16, Train-Loss: 0.6267, Val-Loss: 0.6224, Val-F1: 0.9145, Val-Precision: 0.8923, Val-Recall: 0.9378, Val-Accuracy: 0.9098\n"
     ]
    },
    {
     "name": "stderr",
     "output_type": "stream",
     "text": [
      "Training progress: 100%|██████████| 304/304 [01:03<00:00,  4.80batch/s]\n"
     ]
    },
    {
     "name": "stdout",
     "output_type": "stream",
     "text": [
      "Epoch 11/16, Train-Loss: 0.6158, Val-Loss: 0.6118, Val-F1: 0.9145, Val-Precision: 0.8923, Val-Recall: 0.9378, Val-Accuracy: 0.9098\n"
     ]
    },
    {
     "name": "stderr",
     "output_type": "stream",
     "text": [
      "Training progress: 100%|██████████| 304/304 [01:03<00:00,  4.79batch/s]\n"
     ]
    },
    {
     "name": "stdout",
     "output_type": "stream",
     "text": [
      "Epoch 12/16, Train-Loss: 0.6051, Val-Loss: 0.6013, Val-F1: 0.9153, Val-Precision: 0.8924, Val-Recall: 0.9394, Val-Accuracy: 0.9106\n"
     ]
    },
    {
     "name": "stderr",
     "output_type": "stream",
     "text": [
      "Training progress: 100%|██████████| 304/304 [01:03<00:00,  4.79batch/s]\n"
     ]
    },
    {
     "name": "stdout",
     "output_type": "stream",
     "text": [
      "Epoch 13/16, Train-Loss: 0.5946, Val-Loss: 0.5911, Val-F1: 0.9145, Val-Precision: 0.8923, Val-Recall: 0.9378, Val-Accuracy: 0.9098\n"
     ]
    },
    {
     "name": "stderr",
     "output_type": "stream",
     "text": [
      "Training progress: 100%|██████████| 304/304 [01:03<00:00,  4.80batch/s]\n"
     ]
    },
    {
     "name": "stdout",
     "output_type": "stream",
     "text": [
      "Epoch 14/16, Train-Loss: 0.5841, Val-Loss: 0.5809, Val-F1: 0.9145, Val-Precision: 0.8923, Val-Recall: 0.9378, Val-Accuracy: 0.9098\n"
     ]
    },
    {
     "name": "stderr",
     "output_type": "stream",
     "text": [
      "Training progress: 100%|██████████| 304/304 [01:03<00:00,  4.80batch/s]\n"
     ]
    },
    {
     "name": "stdout",
     "output_type": "stream",
     "text": [
      "Epoch 15/16, Train-Loss: 0.5740, Val-Loss: 0.5710, Val-F1: 0.9171, Val-Precision: 0.8916, Val-Recall: 0.9442, Val-Accuracy: 0.9122\n"
     ]
    },
    {
     "name": "stderr",
     "output_type": "stream",
     "text": [
      "Training progress: 100%|██████████| 304/304 [01:03<00:00,  4.79batch/s]\n"
     ]
    },
    {
     "name": "stdout",
     "output_type": "stream",
     "text": [
      "Epoch 16/16, Train-Loss: 0.5640, Val-Loss: 0.5613, Val-F1: 0.9153, Val-Precision: 0.8924, Val-Recall: 0.9394, Val-Accuracy: 0.9106\n",
      "\n",
      "\u001b[92mRESULTS:\n",
      " F1-Score:0.9234375, Precision:0.9036697247706422, Recall:0.9440894568690096, Accuracy:0.9195402298850575, BCE:0.5574889779090881 \u001b[0m \n",
      "\n",
      "\n",
      "\u001b[91mRUN 43:\u001b[0m\n",
      " Senokosov2024Circuit \n",
      " lr: 0.01\n"
     ]
    },
    {
     "name": "stderr",
     "output_type": "stream",
     "text": [
      "Training progress: 100%|██████████| 304/304 [00:42<00:00,  7.08batch/s]\n"
     ]
    },
    {
     "name": "stdout",
     "output_type": "stream",
     "text": [
      "Epoch 1/16, Train-Loss: 0.6950, Val-Loss: 0.6720, Val-F1: 0.5927, Val-Precision: 0.7704, Val-Recall: 0.4817, Val-Accuracy: 0.6596\n"
     ]
    },
    {
     "name": "stderr",
     "output_type": "stream",
     "text": [
      "Training progress: 100%|██████████| 304/304 [00:42<00:00,  7.09batch/s]\n"
     ]
    },
    {
     "name": "stdout",
     "output_type": "stream",
     "text": [
      "Epoch 2/16, Train-Loss: 0.6550, Val-Loss: 0.6410, Val-F1: 0.7433, Val-Precision: 0.7549, Val-Recall: 0.7321, Val-Accuracy: 0.7400\n"
     ]
    },
    {
     "name": "stderr",
     "output_type": "stream",
     "text": [
      "Training progress: 100%|██████████| 304/304 [00:42<00:00,  7.11batch/s]\n"
     ]
    },
    {
     "name": "stdout",
     "output_type": "stream",
     "text": [
      "Epoch 3/16, Train-Loss: 0.6252, Val-Loss: 0.6140, Val-F1: 0.8059, Val-Precision: 0.7476, Val-Recall: 0.8740, Val-Accuracy: 0.7834\n"
     ]
    },
    {
     "name": "stderr",
     "output_type": "stream",
     "text": [
      "Training progress: 100%|██████████| 304/304 [00:42<00:00,  7.10batch/s]\n"
     ]
    },
    {
     "name": "stdout",
     "output_type": "stream",
     "text": [
      "Epoch 4/16, Train-Loss: 0.6006, Val-Loss: 0.5920, Val-F1: 0.7946, Val-Precision: 0.7521, Val-Recall: 0.8421, Val-Accuracy: 0.7760\n"
     ]
    },
    {
     "name": "stderr",
     "output_type": "stream",
     "text": [
      "Training progress: 100%|██████████| 304/304 [00:42<00:00,  7.09batch/s]\n"
     ]
    },
    {
     "name": "stdout",
     "output_type": "stream",
     "text": [
      "Epoch 5/16, Train-Loss: 0.5799, Val-Loss: 0.5740, Val-F1: 0.7952, Val-Precision: 0.7482, Val-Recall: 0.8485, Val-Accuracy: 0.7752\n"
     ]
    },
    {
     "name": "stderr",
     "output_type": "stream",
     "text": [
      "Training progress: 100%|██████████| 304/304 [00:42<00:00,  7.09batch/s]\n"
     ]
    },
    {
     "name": "stdout",
     "output_type": "stream",
     "text": [
      "Epoch 6/16, Train-Loss: 0.5631, Val-Loss: 0.5594, Val-F1: 0.7849, Val-Precision: 0.7570, Val-Recall: 0.8150, Val-Accuracy: 0.7703\n"
     ]
    },
    {
     "name": "stderr",
     "output_type": "stream",
     "text": [
      "Training progress: 100%|██████████| 304/304 [00:42<00:00,  7.10batch/s]\n"
     ]
    },
    {
     "name": "stdout",
     "output_type": "stream",
     "text": [
      "Epoch 7/16, Train-Loss: 0.5498, Val-Loss: 0.5475, Val-F1: 0.8003, Val-Precision: 0.7486, Val-Recall: 0.8596, Val-Accuracy: 0.7793\n"
     ]
    },
    {
     "name": "stderr",
     "output_type": "stream",
     "text": [
      "Training progress: 100%|██████████| 304/304 [00:42<00:00,  7.09batch/s]\n"
     ]
    },
    {
     "name": "stdout",
     "output_type": "stream",
     "text": [
      "Epoch 8/16, Train-Loss: 0.5383, Val-Loss: 0.5379, Val-F1: 0.8027, Val-Precision: 0.7479, Val-Recall: 0.8660, Val-Accuracy: 0.7810\n"
     ]
    },
    {
     "name": "stderr",
     "output_type": "stream",
     "text": [
      "Training progress: 100%|██████████| 304/304 [00:42<00:00,  7.10batch/s]\n"
     ]
    },
    {
     "name": "stdout",
     "output_type": "stream",
     "text": [
      "Epoch 9/16, Train-Loss: 0.5296, Val-Loss: 0.5297, Val-F1: 0.7878, Val-Precision: 0.7555, Val-Recall: 0.8230, Val-Accuracy: 0.7719\n"
     ]
    },
    {
     "name": "stderr",
     "output_type": "stream",
     "text": [
      "Training progress: 100%|██████████| 304/304 [00:42<00:00,  7.08batch/s]\n"
     ]
    },
    {
     "name": "stdout",
     "output_type": "stream",
     "text": [
      "Epoch 10/16, Train-Loss: 0.5222, Val-Loss: 0.5234, Val-F1: 0.7928, Val-Precision: 0.7489, Val-Recall: 0.8421, Val-Accuracy: 0.7736\n"
     ]
    },
    {
     "name": "stderr",
     "output_type": "stream",
     "text": [
      "Training progress: 100%|██████████| 304/304 [00:42<00:00,  7.10batch/s]\n"
     ]
    },
    {
     "name": "stdout",
     "output_type": "stream",
     "text": [
      "Epoch 11/16, Train-Loss: 0.5160, Val-Loss: 0.5184, Val-F1: 0.7827, Val-Precision: 0.7571, Val-Recall: 0.8102, Val-Accuracy: 0.7687\n"
     ]
    },
    {
     "name": "stderr",
     "output_type": "stream",
     "text": [
      "Training progress: 100%|██████████| 304/304 [00:42<00:00,  7.09batch/s]\n"
     ]
    },
    {
     "name": "stdout",
     "output_type": "stream",
     "text": [
      "Epoch 12/16, Train-Loss: 0.5115, Val-Loss: 0.5141, Val-F1: 0.7946, Val-Precision: 0.7521, Val-Recall: 0.8421, Val-Accuracy: 0.7760\n"
     ]
    },
    {
     "name": "stderr",
     "output_type": "stream",
     "text": [
      "Training progress: 100%|██████████| 304/304 [00:42<00:00,  7.11batch/s]\n"
     ]
    },
    {
     "name": "stdout",
     "output_type": "stream",
     "text": [
      "Epoch 13/16, Train-Loss: 0.5080, Val-Loss: 0.5114, Val-F1: 0.8009, Val-Precision: 0.7472, Val-Recall: 0.8628, Val-Accuracy: 0.7793\n"
     ]
    },
    {
     "name": "stderr",
     "output_type": "stream",
     "text": [
      "Training progress: 100%|██████████| 304/304 [00:42<00:00,  7.09batch/s]\n"
     ]
    },
    {
     "name": "stdout",
     "output_type": "stream",
     "text": [
      "Epoch 14/16, Train-Loss: 0.5047, Val-Loss: 0.5080, Val-F1: 0.7862, Val-Precision: 0.7566, Val-Recall: 0.8182, Val-Accuracy: 0.7711\n"
     ]
    },
    {
     "name": "stderr",
     "output_type": "stream",
     "text": [
      "Training progress: 100%|██████████| 304/304 [00:42<00:00,  7.10batch/s]\n"
     ]
    },
    {
     "name": "stdout",
     "output_type": "stream",
     "text": [
      "Epoch 15/16, Train-Loss: 0.5020, Val-Loss: 0.5058, Val-F1: 0.7849, Val-Precision: 0.7570, Val-Recall: 0.8150, Val-Accuracy: 0.7703\n"
     ]
    },
    {
     "name": "stderr",
     "output_type": "stream",
     "text": [
      "Training progress: 100%|██████████| 304/304 [00:42<00:00,  7.09batch/s]\n"
     ]
    },
    {
     "name": "stdout",
     "output_type": "stream",
     "text": [
      "Epoch 16/16, Train-Loss: 0.5004, Val-Loss: 0.5040, Val-F1: 0.7887, Val-Precision: 0.7558, Val-Recall: 0.8246, Val-Accuracy: 0.7728\n",
      "\n",
      "\u001b[92mRESULTS:\n",
      " F1-Score:0.8021892103205629, Precision:0.7856049004594181, Recall:0.8194888178913738, Accuracy:0.7922824302134647, BCE:0.488010048866272 \u001b[0m \n",
      "\n",
      "\n",
      "\u001b[91mRUN 44:\u001b[0m\n",
      " Senokosov2024Circuit \n",
      " lr: 0.001\n"
     ]
    },
    {
     "name": "stderr",
     "output_type": "stream",
     "text": [
      "Training progress: 100%|██████████| 304/304 [00:42<00:00,  7.09batch/s]\n"
     ]
    },
    {
     "name": "stdout",
     "output_type": "stream",
     "text": [
      "Epoch 1/16, Train-Loss: 0.7572, Val-Loss: 0.7347, Val-F1: 0.6793, Val-Precision: 0.5144, Val-Recall: 1.0000, Val-Accuracy: 0.5144\n"
     ]
    },
    {
     "name": "stderr",
     "output_type": "stream",
     "text": [
      "Training progress: 100%|██████████| 304/304 [00:42<00:00,  7.08batch/s]\n"
     ]
    },
    {
     "name": "stdout",
     "output_type": "stream",
     "text": [
      "Epoch 2/16, Train-Loss: 0.7210, Val-Loss: 0.7094, Val-F1: 0.6793, Val-Precision: 0.5144, Val-Recall: 1.0000, Val-Accuracy: 0.5144\n"
     ]
    },
    {
     "name": "stderr",
     "output_type": "stream",
     "text": [
      "Training progress: 100%|██████████| 304/304 [00:42<00:00,  7.09batch/s]\n"
     ]
    },
    {
     "name": "stdout",
     "output_type": "stream",
     "text": [
      "Epoch 3/16, Train-Loss: 0.7031, Val-Loss: 0.6975, Val-F1: 0.6793, Val-Precision: 0.5144, Val-Recall: 1.0000, Val-Accuracy: 0.5144\n"
     ]
    },
    {
     "name": "stderr",
     "output_type": "stream",
     "text": [
      "Training progress: 100%|██████████| 304/304 [00:42<00:00,  7.08batch/s]\n"
     ]
    },
    {
     "name": "stdout",
     "output_type": "stream",
     "text": [
      "Epoch 4/16, Train-Loss: 0.6943, Val-Loss: 0.6915, Val-F1: 0.6793, Val-Precision: 0.5144, Val-Recall: 1.0000, Val-Accuracy: 0.5144\n"
     ]
    },
    {
     "name": "stderr",
     "output_type": "stream",
     "text": [
      "Training progress: 100%|██████████| 304/304 [00:42<00:00,  7.09batch/s]\n"
     ]
    },
    {
     "name": "stdout",
     "output_type": "stream",
     "text": [
      "Epoch 5/16, Train-Loss: 0.6894, Val-Loss: 0.6875, Val-F1: 0.6793, Val-Precision: 0.5144, Val-Recall: 1.0000, Val-Accuracy: 0.5144\n"
     ]
    },
    {
     "name": "stderr",
     "output_type": "stream",
     "text": [
      "Training progress: 100%|██████████| 304/304 [00:42<00:00,  7.10batch/s]\n"
     ]
    },
    {
     "name": "stdout",
     "output_type": "stream",
     "text": [
      "Epoch 6/16, Train-Loss: 0.6856, Val-Loss: 0.6840, Val-F1: 0.7238, Val-Precision: 0.5682, Val-Recall: 0.9968, Val-Accuracy: 0.6087\n"
     ]
    },
    {
     "name": "stderr",
     "output_type": "stream",
     "text": [
      "Training progress: 100%|██████████| 304/304 [00:42<00:00,  7.09batch/s]\n"
     ]
    },
    {
     "name": "stdout",
     "output_type": "stream",
     "text": [
      "Epoch 7/16, Train-Loss: 0.6821, Val-Loss: 0.6806, Val-F1: 0.7815, Val-Precision: 0.6481, Val-Recall: 0.9841, Val-Accuracy: 0.7170\n"
     ]
    },
    {
     "name": "stderr",
     "output_type": "stream",
     "text": [
      "Training progress: 100%|██████████| 304/304 [00:42<00:00,  7.09batch/s]\n"
     ]
    },
    {
     "name": "stdout",
     "output_type": "stream",
     "text": [
      "Epoch 8/16, Train-Loss: 0.6785, Val-Loss: 0.6771, Val-F1: 0.8074, Val-Precision: 0.6900, Val-Recall: 0.9729, Val-Accuracy: 0.7613\n"
     ]
    },
    {
     "name": "stderr",
     "output_type": "stream",
     "text": [
      "Training progress: 100%|██████████| 304/304 [00:42<00:00,  7.08batch/s]\n"
     ]
    },
    {
     "name": "stdout",
     "output_type": "stream",
     "text": [
      "Epoch 9/16, Train-Loss: 0.6748, Val-Loss: 0.6735, Val-F1: 0.8150, Val-Precision: 0.7124, Val-Recall: 0.9522, Val-Accuracy: 0.7777\n"
     ]
    },
    {
     "name": "stderr",
     "output_type": "stream",
     "text": [
      "Training progress: 100%|██████████| 304/304 [00:42<00:00,  7.09batch/s]\n"
     ]
    },
    {
     "name": "stdout",
     "output_type": "stream",
     "text": [
      "Epoch 10/16, Train-Loss: 0.6711, Val-Loss: 0.6698, Val-F1: 0.8163, Val-Precision: 0.7199, Val-Recall: 0.9426, Val-Accuracy: 0.7818\n"
     ]
    },
    {
     "name": "stderr",
     "output_type": "stream",
     "text": [
      "Training progress: 100%|██████████| 304/304 [00:42<00:00,  7.08batch/s]\n"
     ]
    },
    {
     "name": "stdout",
     "output_type": "stream",
     "text": [
      "Epoch 11/16, Train-Loss: 0.6674, Val-Loss: 0.6662, Val-F1: 0.8129, Val-Precision: 0.7250, Val-Recall: 0.9250, Val-Accuracy: 0.7810\n"
     ]
    },
    {
     "name": "stderr",
     "output_type": "stream",
     "text": [
      "Training progress: 100%|██████████| 304/304 [00:42<00:00,  7.09batch/s]\n"
     ]
    },
    {
     "name": "stdout",
     "output_type": "stream",
     "text": [
      "Epoch 12/16, Train-Loss: 0.6636, Val-Loss: 0.6626, Val-F1: 0.8144, Val-Precision: 0.7325, Val-Recall: 0.9171, Val-Accuracy: 0.7851\n"
     ]
    },
    {
     "name": "stderr",
     "output_type": "stream",
     "text": [
      "Training progress: 100%|██████████| 304/304 [00:42<00:00,  7.09batch/s]\n"
     ]
    },
    {
     "name": "stdout",
     "output_type": "stream",
     "text": [
      "Epoch 13/16, Train-Loss: 0.6600, Val-Loss: 0.6590, Val-F1: 0.8155, Val-Precision: 0.7415, Val-Recall: 0.9059, Val-Accuracy: 0.7892\n"
     ]
    },
    {
     "name": "stderr",
     "output_type": "stream",
     "text": [
      "Training progress: 100%|██████████| 304/304 [00:42<00:00,  7.10batch/s]\n"
     ]
    },
    {
     "name": "stdout",
     "output_type": "stream",
     "text": [
      "Epoch 14/16, Train-Loss: 0.6563, Val-Loss: 0.6555, Val-F1: 0.8154, Val-Precision: 0.7467, Val-Recall: 0.8979, Val-Accuracy: 0.7908\n"
     ]
    },
    {
     "name": "stderr",
     "output_type": "stream",
     "text": [
      "Training progress: 100%|██████████| 304/304 [00:42<00:00,  7.09batch/s]\n"
     ]
    },
    {
     "name": "stdout",
     "output_type": "stream",
     "text": [
      "Epoch 15/16, Train-Loss: 0.6527, Val-Loss: 0.6519, Val-F1: 0.8144, Val-Precision: 0.7441, Val-Recall: 0.8995, Val-Accuracy: 0.7892\n"
     ]
    },
    {
     "name": "stderr",
     "output_type": "stream",
     "text": [
      "Training progress: 100%|██████████| 304/304 [00:42<00:00,  7.10batch/s]\n"
     ]
    },
    {
     "name": "stdout",
     "output_type": "stream",
     "text": [
      "Epoch 16/16, Train-Loss: 0.6491, Val-Loss: 0.6485, Val-F1: 0.8117, Val-Precision: 0.7483, Val-Recall: 0.8868, Val-Accuracy: 0.7884\n",
      "\n",
      "\u001b[92mRESULTS:\n",
      " F1-Score:0.8262490678598061, Precision:0.7748251748251749, Recall:0.8849840255591054, Accuracy:0.8087027914614121, BCE:0.6460497379302979 \u001b[0m \n",
      "\n",
      "\n",
      "\u001b[91mRUN 45:\u001b[0m\n",
      " Anusha2024Circuit \n",
      " lr: 0.01\n"
     ]
    },
    {
     "name": "stderr",
     "output_type": "stream",
     "text": [
      "Training progress: 100%|██████████| 304/304 [00:18<00:00, 16.52batch/s]\n"
     ]
    },
    {
     "name": "stdout",
     "output_type": "stream",
     "text": [
      "Epoch 1/16, Train-Loss: 0.4299, Val-Loss: 0.3404, Val-F1: 0.9505, Val-Precision: 0.9670, Val-Recall: 0.9346, Val-Accuracy: 0.9500\n"
     ]
    },
    {
     "name": "stderr",
     "output_type": "stream",
     "text": [
      "Training progress: 100%|██████████| 304/304 [00:18<00:00, 16.41batch/s]\n"
     ]
    },
    {
     "name": "stdout",
     "output_type": "stream",
     "text": [
      "Epoch 2/16, Train-Loss: 0.3031, Val-Loss: 0.2563, Val-F1: 0.9610, Val-Precision: 0.9602, Val-Recall: 0.9617, Val-Accuracy: 0.9598\n"
     ]
    },
    {
     "name": "stderr",
     "output_type": "stream",
     "text": [
      "Training progress: 100%|██████████| 304/304 [00:18<00:00, 16.53batch/s]\n"
     ]
    },
    {
     "name": "stdout",
     "output_type": "stream",
     "text": [
      "Epoch 3/16, Train-Loss: 0.2468, Val-Loss: 0.2145, Val-F1: 0.9639, Val-Precision: 0.9476, Val-Recall: 0.9809, Val-Accuracy: 0.9623\n"
     ]
    },
    {
     "name": "stderr",
     "output_type": "stream",
     "text": [
      "Training progress: 100%|██████████| 304/304 [00:18<00:00, 16.59batch/s]\n"
     ]
    },
    {
     "name": "stdout",
     "output_type": "stream",
     "text": [
      "Epoch 4/16, Train-Loss: 0.2183, Val-Loss: 0.1914, Val-F1: 0.9639, Val-Precision: 0.9490, Val-Recall: 0.9793, Val-Accuracy: 0.9623\n"
     ]
    },
    {
     "name": "stderr",
     "output_type": "stream",
     "text": [
      "Training progress: 100%|██████████| 304/304 [00:18<00:00, 16.57batch/s]\n"
     ]
    },
    {
     "name": "stdout",
     "output_type": "stream",
     "text": [
      "Epoch 5/16, Train-Loss: 0.2016, Val-Loss: 0.1770, Val-F1: 0.9648, Val-Precision: 0.9477, Val-Recall: 0.9825, Val-Accuracy: 0.9631\n"
     ]
    },
    {
     "name": "stderr",
     "output_type": "stream",
     "text": [
      "Training progress: 100%|██████████| 304/304 [00:18<00:00, 16.54batch/s]\n"
     ]
    },
    {
     "name": "stdout",
     "output_type": "stream",
     "text": [
      "Epoch 6/16, Train-Loss: 0.1919, Val-Loss: 0.1676, Val-F1: 0.9639, Val-Precision: 0.9476, Val-Recall: 0.9809, Val-Accuracy: 0.9623\n"
     ]
    },
    {
     "name": "stderr",
     "output_type": "stream",
     "text": [
      "Training progress: 100%|██████████| 304/304 [00:18<00:00, 16.56batch/s]\n"
     ]
    },
    {
     "name": "stdout",
     "output_type": "stream",
     "text": [
      "Epoch 7/16, Train-Loss: 0.1850, Val-Loss: 0.1617, Val-F1: 0.9625, Val-Precision: 0.9433, Val-Recall: 0.9825, Val-Accuracy: 0.9606\n"
     ]
    },
    {
     "name": "stderr",
     "output_type": "stream",
     "text": [
      "Training progress: 100%|██████████| 304/304 [00:18<00:00, 16.54batch/s]\n"
     ]
    },
    {
     "name": "stdout",
     "output_type": "stream",
     "text": [
      "Epoch 8/16, Train-Loss: 0.1808, Val-Loss: 0.1563, Val-F1: 0.9640, Val-Precision: 0.9462, Val-Recall: 0.9825, Val-Accuracy: 0.9623\n"
     ]
    },
    {
     "name": "stderr",
     "output_type": "stream",
     "text": [
      "Training progress: 100%|██████████| 304/304 [00:18<00:00, 16.56batch/s]\n"
     ]
    },
    {
     "name": "stdout",
     "output_type": "stream",
     "text": [
      "Epoch 9/16, Train-Loss: 0.1776, Val-Loss: 0.1528, Val-F1: 0.9648, Val-Precision: 0.9477, Val-Recall: 0.9825, Val-Accuracy: 0.9631\n"
     ]
    },
    {
     "name": "stderr",
     "output_type": "stream",
     "text": [
      "Training progress: 100%|██████████| 304/304 [00:18<00:00, 16.50batch/s]\n"
     ]
    },
    {
     "name": "stdout",
     "output_type": "stream",
     "text": [
      "Epoch 10/16, Train-Loss: 0.1758, Val-Loss: 0.1502, Val-F1: 0.9639, Val-Precision: 0.9490, Val-Recall: 0.9793, Val-Accuracy: 0.9623\n"
     ]
    },
    {
     "name": "stderr",
     "output_type": "stream",
     "text": [
      "Training progress: 100%|██████████| 304/304 [00:18<00:00, 16.56batch/s]\n"
     ]
    },
    {
     "name": "stdout",
     "output_type": "stream",
     "text": [
      "Epoch 11/16, Train-Loss: 0.1739, Val-Loss: 0.1482, Val-F1: 0.9639, Val-Precision: 0.9490, Val-Recall: 0.9793, Val-Accuracy: 0.9623\n"
     ]
    },
    {
     "name": "stderr",
     "output_type": "stream",
     "text": [
      "Training progress: 100%|██████████| 304/304 [00:18<00:00, 16.52batch/s]\n"
     ]
    },
    {
     "name": "stdout",
     "output_type": "stream",
     "text": [
      "Epoch 12/16, Train-Loss: 0.1722, Val-Loss: 0.1466, Val-F1: 0.9648, Val-Precision: 0.9477, Val-Recall: 0.9825, Val-Accuracy: 0.9631\n"
     ]
    },
    {
     "name": "stderr",
     "output_type": "stream",
     "text": [
      "Training progress: 100%|██████████| 304/304 [00:18<00:00, 16.57batch/s]\n"
     ]
    },
    {
     "name": "stdout",
     "output_type": "stream",
     "text": [
      "Epoch 13/16, Train-Loss: 0.1718, Val-Loss: 0.1454, Val-F1: 0.9640, Val-Precision: 0.9462, Val-Recall: 0.9825, Val-Accuracy: 0.9623\n"
     ]
    },
    {
     "name": "stderr",
     "output_type": "stream",
     "text": [
      "Training progress: 100%|██████████| 304/304 [00:18<00:00, 16.53batch/s]\n"
     ]
    },
    {
     "name": "stdout",
     "output_type": "stream",
     "text": [
      "Epoch 14/16, Train-Loss: 0.1712, Val-Loss: 0.1443, Val-F1: 0.9631, Val-Precision: 0.9475, Val-Recall: 0.9793, Val-Accuracy: 0.9614\n"
     ]
    },
    {
     "name": "stderr",
     "output_type": "stream",
     "text": [
      "Training progress: 100%|██████████| 304/304 [00:18<00:00, 16.52batch/s]\n"
     ]
    },
    {
     "name": "stdout",
     "output_type": "stream",
     "text": [
      "Epoch 15/16, Train-Loss: 0.1706, Val-Loss: 0.1436, Val-F1: 0.9640, Val-Precision: 0.9462, Val-Recall: 0.9825, Val-Accuracy: 0.9623\n"
     ]
    },
    {
     "name": "stderr",
     "output_type": "stream",
     "text": [
      "Training progress: 100%|██████████| 304/304 [00:18<00:00, 16.49batch/s]\n"
     ]
    },
    {
     "name": "stdout",
     "output_type": "stream",
     "text": [
      "Epoch 16/16, Train-Loss: 0.1698, Val-Loss: 0.1428, Val-F1: 0.9648, Val-Precision: 0.9477, Val-Recall: 0.9825, Val-Accuracy: 0.9631\n",
      "\n",
      "\u001b[92mRESULTS:\n",
      " F1-Score:0.946875, Precision:0.926605504587156, Recall:0.9680511182108626, Accuracy:0.9441707717569786, BCE:0.17796088755130768 \u001b[0m \n",
      "\n",
      "\n",
      "\u001b[91mRUN 46:\u001b[0m\n",
      " Anusha2024Circuit \n",
      " lr: 0.001\n"
     ]
    },
    {
     "name": "stderr",
     "output_type": "stream",
     "text": [
      "Training progress: 100%|██████████| 304/304 [00:18<00:00, 16.53batch/s]\n"
     ]
    },
    {
     "name": "stdout",
     "output_type": "stream",
     "text": [
      "Epoch 1/16, Train-Loss: 0.5257, Val-Loss: 0.5077, Val-F1: 0.7399, Val-Precision: 0.9740, Val-Recall: 0.5965, Val-Accuracy: 0.7842\n"
     ]
    },
    {
     "name": "stderr",
     "output_type": "stream",
     "text": [
      "Training progress: 100%|██████████| 304/304 [00:18<00:00, 16.57batch/s]\n"
     ]
    },
    {
     "name": "stdout",
     "output_type": "stream",
     "text": [
      "Epoch 2/16, Train-Loss: 0.4985, Val-Loss: 0.4819, Val-F1: 0.8479, Val-Precision: 0.9731, Val-Recall: 0.7512, Val-Accuracy: 0.8614\n"
     ]
    },
    {
     "name": "stderr",
     "output_type": "stream",
     "text": [
      "Training progress: 100%|██████████| 304/304 [00:18<00:00, 16.56batch/s]\n"
     ]
    },
    {
     "name": "stdout",
     "output_type": "stream",
     "text": [
      "Epoch 3/16, Train-Loss: 0.4741, Val-Loss: 0.4577, Val-F1: 0.8958, Val-Precision: 0.9738, Val-Recall: 0.8293, Val-Accuracy: 0.9007\n"
     ]
    },
    {
     "name": "stderr",
     "output_type": "stream",
     "text": [
      "Training progress: 100%|██████████| 304/304 [00:18<00:00, 16.58batch/s]\n"
     ]
    },
    {
     "name": "stdout",
     "output_type": "stream",
     "text": [
      "Epoch 4/16, Train-Loss: 0.4514, Val-Loss: 0.4354, Val-F1: 0.9155, Val-Precision: 0.9731, Val-Recall: 0.8644, Val-Accuracy: 0.9180\n"
     ]
    },
    {
     "name": "stderr",
     "output_type": "stream",
     "text": [
      "Training progress: 100%|██████████| 304/304 [00:18<00:00, 16.52batch/s]\n"
     ]
    },
    {
     "name": "stdout",
     "output_type": "stream",
     "text": [
      "Epoch 5/16, Train-Loss: 0.4304, Val-Loss: 0.4149, Val-F1: 0.9354, Val-Precision: 0.9725, Val-Recall: 0.9011, Val-Accuracy: 0.9360\n"
     ]
    },
    {
     "name": "stderr",
     "output_type": "stream",
     "text": [
      "Training progress: 100%|██████████| 304/304 [00:18<00:00, 16.56batch/s]\n"
     ]
    },
    {
     "name": "stdout",
     "output_type": "stream",
     "text": [
      "Epoch 6/16, Train-Loss: 0.4114, Val-Loss: 0.3960, Val-F1: 0.9424, Val-Precision: 0.9728, Val-Recall: 0.9139, Val-Accuracy: 0.9426\n"
     ]
    },
    {
     "name": "stderr",
     "output_type": "stream",
     "text": [
      "Training progress: 100%|██████████| 304/304 [00:18<00:00, 16.61batch/s]\n"
     ]
    },
    {
     "name": "stdout",
     "output_type": "stream",
     "text": [
      "Epoch 7/16, Train-Loss: 0.3937, Val-Loss: 0.3785, Val-F1: 0.9531, Val-Precision: 0.9672, Val-Recall: 0.9394, Val-Accuracy: 0.9524\n"
     ]
    },
    {
     "name": "stderr",
     "output_type": "stream",
     "text": [
      "Training progress: 100%|██████████| 304/304 [00:18<00:00, 16.53batch/s]\n"
     ]
    },
    {
     "name": "stdout",
     "output_type": "stream",
     "text": [
      "Epoch 8/16, Train-Loss: 0.3776, Val-Loss: 0.3625, Val-F1: 0.9558, Val-Precision: 0.9643, Val-Recall: 0.9474, Val-Accuracy: 0.9549\n"
     ]
    },
    {
     "name": "stderr",
     "output_type": "stream",
     "text": [
      "Training progress: 100%|██████████| 304/304 [00:18<00:00, 16.58batch/s]\n"
     ]
    },
    {
     "name": "stdout",
     "output_type": "stream",
     "text": [
      "Epoch 9/16, Train-Loss: 0.3627, Val-Loss: 0.3478, Val-F1: 0.9616, Val-Precision: 0.9647, Val-Recall: 0.9585, Val-Accuracy: 0.9606\n"
     ]
    },
    {
     "name": "stderr",
     "output_type": "stream",
     "text": [
      "Training progress: 100%|██████████| 304/304 [00:18<00:00, 16.48batch/s]\n"
     ]
    },
    {
     "name": "stdout",
     "output_type": "stream",
     "text": [
      "Epoch 10/16, Train-Loss: 0.3492, Val-Loss: 0.3342, Val-F1: 0.9608, Val-Precision: 0.9631, Val-Recall: 0.9585, Val-Accuracy: 0.9598\n"
     ]
    },
    {
     "name": "stderr",
     "output_type": "stream",
     "text": [
      "Training progress: 100%|██████████| 304/304 [00:18<00:00, 16.56batch/s]\n"
     ]
    },
    {
     "name": "stdout",
     "output_type": "stream",
     "text": [
      "Epoch 11/16, Train-Loss: 0.3366, Val-Loss: 0.3218, Val-F1: 0.9609, Val-Precision: 0.9617, Val-Recall: 0.9601, Val-Accuracy: 0.9598\n"
     ]
    },
    {
     "name": "stderr",
     "output_type": "stream",
     "text": [
      "Training progress: 100%|██████████| 304/304 [00:18<00:00, 16.53batch/s]\n"
     ]
    },
    {
     "name": "stdout",
     "output_type": "stream",
     "text": [
      "Epoch 12/16, Train-Loss: 0.3250, Val-Loss: 0.3103, Val-F1: 0.9610, Val-Precision: 0.9602, Val-Recall: 0.9617, Val-Accuracy: 0.9598\n"
     ]
    },
    {
     "name": "stderr",
     "output_type": "stream",
     "text": [
      "Training progress: 100%|██████████| 304/304 [00:18<00:00, 16.58batch/s]\n"
     ]
    },
    {
     "name": "stdout",
     "output_type": "stream",
     "text": [
      "Epoch 13/16, Train-Loss: 0.3146, Val-Loss: 0.2998, Val-F1: 0.9602, Val-Precision: 0.9587, Val-Recall: 0.9617, Val-Accuracy: 0.9590\n"
     ]
    },
    {
     "name": "stderr",
     "output_type": "stream",
     "text": [
      "Training progress: 100%|██████████| 304/304 [00:18<00:00, 16.57batch/s]\n"
     ]
    },
    {
     "name": "stdout",
     "output_type": "stream",
     "text": [
      "Epoch 14/16, Train-Loss: 0.3048, Val-Loss: 0.2900, Val-F1: 0.9618, Val-Precision: 0.9588, Val-Recall: 0.9649, Val-Accuracy: 0.9606\n"
     ]
    },
    {
     "name": "stderr",
     "output_type": "stream",
     "text": [
      "Training progress: 100%|██████████| 304/304 [00:18<00:00, 16.55batch/s]\n"
     ]
    },
    {
     "name": "stdout",
     "output_type": "stream",
     "text": [
      "Epoch 15/16, Train-Loss: 0.2958, Val-Loss: 0.2809, Val-F1: 0.9613, Val-Precision: 0.9516, Val-Recall: 0.9713, Val-Accuracy: 0.9598\n"
     ]
    },
    {
     "name": "stderr",
     "output_type": "stream",
     "text": [
      "Training progress: 100%|██████████| 304/304 [00:18<00:00, 16.58batch/s]\n"
     ]
    },
    {
     "name": "stdout",
     "output_type": "stream",
     "text": [
      "Epoch 16/16, Train-Loss: 0.2874, Val-Loss: 0.2725, Val-F1: 0.9613, Val-Precision: 0.9516, Val-Recall: 0.9713, Val-Accuracy: 0.9598\n",
      "\n",
      "\u001b[92mRESULTS:\n",
      " F1-Score:0.9465408805031447, Precision:0.9318885448916409, Recall:0.9616613418530351, Accuracy:0.9441707717569786, BCE:0.28775760531425476 \u001b[0m \n",
      "\n",
      "\n",
      "\u001b[91mRUN 47:\u001b[0m\n",
      " DoubleEntanglementVLCircuit \n",
      " lr: 0.01\n"
     ]
    },
    {
     "name": "stderr",
     "output_type": "stream",
     "text": [
      "Training progress: 100%|██████████| 304/304 [00:24<00:00, 12.44batch/s]\n"
     ]
    },
    {
     "name": "stdout",
     "output_type": "stream",
     "text": [
      "Epoch 1/16, Train-Loss: 0.7134, Val-Loss: 0.6800, Val-F1: 0.6808, Val-Precision: 0.5160, Val-Recall: 1.0000, Val-Accuracy: 0.5176\n"
     ]
    },
    {
     "name": "stderr",
     "output_type": "stream",
     "text": [
      "Training progress: 100%|██████████| 304/304 [00:24<00:00, 12.46batch/s]\n"
     ]
    },
    {
     "name": "stdout",
     "output_type": "stream",
     "text": [
      "Epoch 2/16, Train-Loss: 0.6465, Val-Loss: 0.6188, Val-F1: 0.8597, Val-Precision: 0.7643, Val-Recall: 0.9825, Val-Accuracy: 0.8351\n"
     ]
    },
    {
     "name": "stderr",
     "output_type": "stream",
     "text": [
      "Training progress: 100%|██████████| 304/304 [00:24<00:00, 12.46batch/s]\n"
     ]
    },
    {
     "name": "stdout",
     "output_type": "stream",
     "text": [
      "Epoch 3/16, Train-Loss: 0.5889, Val-Loss: 0.5669, Val-F1: 0.8672, Val-Precision: 0.7782, Val-Recall: 0.9793, Val-Accuracy: 0.8458\n"
     ]
    },
    {
     "name": "stderr",
     "output_type": "stream",
     "text": [
      "Training progress: 100%|██████████| 304/304 [00:24<00:00, 12.47batch/s]\n"
     ]
    },
    {
     "name": "stdout",
     "output_type": "stream",
     "text": [
      "Epoch 4/16, Train-Loss: 0.5413, Val-Loss: 0.5243, Val-F1: 0.9022, Val-Precision: 0.8423, Val-Recall: 0.9713, Val-Accuracy: 0.8917\n"
     ]
    },
    {
     "name": "stderr",
     "output_type": "stream",
     "text": [
      "Training progress: 100%|██████████| 304/304 [00:24<00:00, 12.45batch/s]\n"
     ]
    },
    {
     "name": "stdout",
     "output_type": "stream",
     "text": [
      "Epoch 5/16, Train-Loss: 0.5014, Val-Loss: 0.4888, Val-F1: 0.9048, Val-Precision: 0.8480, Val-Recall: 0.9697, Val-Accuracy: 0.8950\n"
     ]
    },
    {
     "name": "stderr",
     "output_type": "stream",
     "text": [
      "Training progress: 100%|██████████| 304/304 [00:24<00:00, 12.48batch/s]\n"
     ]
    },
    {
     "name": "stdout",
     "output_type": "stream",
     "text": [
      "Epoch 6/16, Train-Loss: 0.4684, Val-Loss: 0.4590, Val-F1: 0.9070, Val-Precision: 0.8686, Val-Recall: 0.9490, Val-Accuracy: 0.8999\n"
     ]
    },
    {
     "name": "stderr",
     "output_type": "stream",
     "text": [
      "Training progress: 100%|██████████| 304/304 [00:24<00:00, 12.47batch/s]\n"
     ]
    },
    {
     "name": "stdout",
     "output_type": "stream",
     "text": [
      "Epoch 7/16, Train-Loss: 0.4402, Val-Loss: 0.4330, Val-F1: 0.9068, Val-Precision: 0.8578, Val-Recall: 0.9617, Val-Accuracy: 0.8983\n"
     ]
    },
    {
     "name": "stderr",
     "output_type": "stream",
     "text": [
      "Training progress: 100%|██████████| 304/304 [00:24<00:00, 12.44batch/s]\n"
     ]
    },
    {
     "name": "stdout",
     "output_type": "stream",
     "text": [
      "Epoch 8/16, Train-Loss: 0.4159, Val-Loss: 0.4114, Val-F1: 0.9079, Val-Precision: 0.8559, Val-Recall: 0.9665, Val-Accuracy: 0.8991\n"
     ]
    },
    {
     "name": "stderr",
     "output_type": "stream",
     "text": [
      "Training progress: 100%|██████████| 304/304 [00:24<00:00, 12.46batch/s]\n"
     ]
    },
    {
     "name": "stdout",
     "output_type": "stream",
     "text": [
      "Epoch 9/16, Train-Loss: 0.3955, Val-Loss: 0.3920, Val-F1: 0.9091, Val-Precision: 0.8793, Val-Recall: 0.9410, Val-Accuracy: 0.9032\n"
     ]
    },
    {
     "name": "stderr",
     "output_type": "stream",
     "text": [
      "Training progress: 100%|██████████| 304/304 [00:24<00:00, 12.43batch/s]\n"
     ]
    },
    {
     "name": "stdout",
     "output_type": "stream",
     "text": [
      "Epoch 10/16, Train-Loss: 0.3777, Val-Loss: 0.3754, Val-F1: 0.9091, Val-Precision: 0.8793, Val-Recall: 0.9410, Val-Accuracy: 0.9032\n"
     ]
    },
    {
     "name": "stderr",
     "output_type": "stream",
     "text": [
      "Training progress: 100%|██████████| 304/304 [00:24<00:00, 12.42batch/s]\n"
     ]
    },
    {
     "name": "stdout",
     "output_type": "stream",
     "text": [
      "Epoch 11/16, Train-Loss: 0.3621, Val-Loss: 0.3616, Val-F1: 0.9095, Val-Precision: 0.8901, Val-Recall: 0.9298, Val-Accuracy: 0.9048\n"
     ]
    },
    {
     "name": "stderr",
     "output_type": "stream",
     "text": [
      "Training progress: 100%|██████████| 304/304 [00:24<00:00, 12.47batch/s]\n"
     ]
    },
    {
     "name": "stdout",
     "output_type": "stream",
     "text": [
      "Epoch 12/16, Train-Loss: 0.3485, Val-Loss: 0.3484, Val-F1: 0.9082, Val-Precision: 0.8791, Val-Recall: 0.9394, Val-Accuracy: 0.9024\n"
     ]
    },
    {
     "name": "stderr",
     "output_type": "stream",
     "text": [
      "Training progress: 100%|██████████| 304/304 [00:24<00:00, 12.38batch/s]\n"
     ]
    },
    {
     "name": "stdout",
     "output_type": "stream",
     "text": [
      "Epoch 13/16, Train-Loss: 0.3367, Val-Loss: 0.3381, Val-F1: 0.9070, Val-Precision: 0.8686, Val-Recall: 0.9490, Val-Accuracy: 0.8999\n"
     ]
    },
    {
     "name": "stderr",
     "output_type": "stream",
     "text": [
      "Training progress: 100%|██████████| 304/304 [00:24<00:00, 12.48batch/s]\n"
     ]
    },
    {
     "name": "stdout",
     "output_type": "stream",
     "text": [
      "Epoch 14/16, Train-Loss: 0.3268, Val-Loss: 0.3282, Val-F1: 0.9109, Val-Precision: 0.8928, Val-Recall: 0.9298, Val-Accuracy: 0.9065\n"
     ]
    },
    {
     "name": "stderr",
     "output_type": "stream",
     "text": [
      "Training progress: 100%|██████████| 304/304 [00:24<00:00, 12.48batch/s]\n"
     ]
    },
    {
     "name": "stdout",
     "output_type": "stream",
     "text": [
      "Epoch 15/16, Train-Loss: 0.3175, Val-Loss: 0.3195, Val-F1: 0.9109, Val-Precision: 0.8928, Val-Recall: 0.9298, Val-Accuracy: 0.9065\n"
     ]
    },
    {
     "name": "stderr",
     "output_type": "stream",
     "text": [
      "Training progress: 100%|██████████| 304/304 [00:24<00:00, 12.39batch/s]\n"
     ]
    },
    {
     "name": "stdout",
     "output_type": "stream",
     "text": [
      "Epoch 16/16, Train-Loss: 0.3095, Val-Loss: 0.3117, Val-F1: 0.9084, Val-Precision: 0.8850, Val-Recall: 0.9330, Val-Accuracy: 0.9032\n",
      "\n",
      "\u001b[92mRESULTS:\n",
      " F1-Score:0.922007722007722, Precision:0.8923766816143498, Recall:0.9536741214057508, Accuracy:0.9170771756978654, BCE:0.3038586676120758 \u001b[0m \n",
      "\n",
      "\n",
      "\u001b[91mRUN 48:\u001b[0m\n",
      " DoubleEntanglementVLCircuit \n",
      " lr: 0.001\n"
     ]
    },
    {
     "name": "stderr",
     "output_type": "stream",
     "text": [
      "Training progress: 100%|██████████| 304/304 [00:24<00:00, 12.38batch/s]\n"
     ]
    },
    {
     "name": "stdout",
     "output_type": "stream",
     "text": [
      "Epoch 1/16, Train-Loss: 0.7472, Val-Loss: 0.7388, Val-F1: 0.4375, Val-Precision: 0.3659, Val-Recall: 0.5439, Val-Accuracy: 0.2806\n"
     ]
    },
    {
     "name": "stderr",
     "output_type": "stream",
     "text": [
      "Training progress: 100%|██████████| 304/304 [00:24<00:00, 12.44batch/s]\n"
     ]
    },
    {
     "name": "stdout",
     "output_type": "stream",
     "text": [
      "Epoch 2/16, Train-Loss: 0.7362, Val-Loss: 0.7308, Val-F1: 0.6793, Val-Precision: 0.5144, Val-Recall: 1.0000, Val-Accuracy: 0.5144\n"
     ]
    },
    {
     "name": "stderr",
     "output_type": "stream",
     "text": [
      "Training progress: 100%|██████████| 304/304 [00:24<00:00, 12.41batch/s]\n"
     ]
    },
    {
     "name": "stdout",
     "output_type": "stream",
     "text": [
      "Epoch 3/16, Train-Loss: 0.7284, Val-Loss: 0.7234, Val-F1: 0.6793, Val-Precision: 0.5144, Val-Recall: 1.0000, Val-Accuracy: 0.5144\n"
     ]
    },
    {
     "name": "stderr",
     "output_type": "stream",
     "text": [
      "Training progress: 100%|██████████| 304/304 [00:24<00:00, 12.37batch/s]\n"
     ]
    },
    {
     "name": "stdout",
     "output_type": "stream",
     "text": [
      "Epoch 4/16, Train-Loss: 0.7208, Val-Loss: 0.7162, Val-F1: 0.6793, Val-Precision: 0.5144, Val-Recall: 1.0000, Val-Accuracy: 0.5144\n"
     ]
    },
    {
     "name": "stderr",
     "output_type": "stream",
     "text": [
      "Training progress: 100%|██████████| 304/304 [00:24<00:00, 12.37batch/s]\n"
     ]
    },
    {
     "name": "stdout",
     "output_type": "stream",
     "text": [
      "Epoch 5/16, Train-Loss: 0.7133, Val-Loss: 0.7090, Val-F1: 0.6793, Val-Precision: 0.5144, Val-Recall: 1.0000, Val-Accuracy: 0.5144\n"
     ]
    },
    {
     "name": "stderr",
     "output_type": "stream",
     "text": [
      "Training progress: 100%|██████████| 304/304 [00:24<00:00, 12.39batch/s]\n"
     ]
    },
    {
     "name": "stdout",
     "output_type": "stream",
     "text": [
      "Epoch 6/16, Train-Loss: 0.7059, Val-Loss: 0.7018, Val-F1: 0.6793, Val-Precision: 0.5144, Val-Recall: 1.0000, Val-Accuracy: 0.5144\n"
     ]
    },
    {
     "name": "stderr",
     "output_type": "stream",
     "text": [
      "Training progress: 100%|██████████| 304/304 [00:24<00:00, 12.38batch/s]\n"
     ]
    },
    {
     "name": "stdout",
     "output_type": "stream",
     "text": [
      "Epoch 7/16, Train-Loss: 0.6984, Val-Loss: 0.6948, Val-F1: 0.6793, Val-Precision: 0.5144, Val-Recall: 1.0000, Val-Accuracy: 0.5144\n"
     ]
    },
    {
     "name": "stderr",
     "output_type": "stream",
     "text": [
      "Training progress: 100%|██████████| 304/304 [00:24<00:00, 12.44batch/s]\n"
     ]
    },
    {
     "name": "stdout",
     "output_type": "stream",
     "text": [
      "Epoch 8/16, Train-Loss: 0.6912, Val-Loss: 0.6878, Val-F1: 0.6793, Val-Precision: 0.5144, Val-Recall: 1.0000, Val-Accuracy: 0.5144\n"
     ]
    },
    {
     "name": "stderr",
     "output_type": "stream",
     "text": [
      "Training progress: 100%|██████████| 304/304 [00:24<00:00, 12.36batch/s]\n"
     ]
    },
    {
     "name": "stdout",
     "output_type": "stream",
     "text": [
      "Epoch 9/16, Train-Loss: 0.6841, Val-Loss: 0.6808, Val-F1: 0.6793, Val-Precision: 0.5144, Val-Recall: 1.0000, Val-Accuracy: 0.5144\n"
     ]
    },
    {
     "name": "stderr",
     "output_type": "stream",
     "text": [
      "Training progress: 100%|██████████| 304/304 [00:24<00:00, 12.42batch/s]\n"
     ]
    },
    {
     "name": "stdout",
     "output_type": "stream",
     "text": [
      "Epoch 10/16, Train-Loss: 0.6770, Val-Loss: 0.6740, Val-F1: 0.6793, Val-Precision: 0.5144, Val-Recall: 1.0000, Val-Accuracy: 0.5144\n"
     ]
    },
    {
     "name": "stderr",
     "output_type": "stream",
     "text": [
      "Training progress: 100%|██████████| 304/304 [00:24<00:00, 12.43batch/s]\n"
     ]
    },
    {
     "name": "stdout",
     "output_type": "stream",
     "text": [
      "Epoch 11/16, Train-Loss: 0.6699, Val-Loss: 0.6672, Val-F1: 0.6804, Val-Precision: 0.5156, Val-Recall: 1.0000, Val-Accuracy: 0.5168\n"
     ]
    },
    {
     "name": "stderr",
     "output_type": "stream",
     "text": [
      "Training progress: 100%|██████████| 304/304 [00:24<00:00, 12.40batch/s]\n"
     ]
    },
    {
     "name": "stdout",
     "output_type": "stream",
     "text": [
      "Epoch 12/16, Train-Loss: 0.6630, Val-Loss: 0.6607, Val-F1: 0.6838, Val-Precision: 0.5195, Val-Recall: 1.0000, Val-Accuracy: 0.5242\n"
     ]
    },
    {
     "name": "stderr",
     "output_type": "stream",
     "text": [
      "Training progress: 100%|██████████| 304/304 [00:24<00:00, 12.44batch/s]\n"
     ]
    },
    {
     "name": "stdout",
     "output_type": "stream",
     "text": [
      "Epoch 13/16, Train-Loss: 0.6563, Val-Loss: 0.6542, Val-F1: 0.6959, Val-Precision: 0.5341, Val-Recall: 0.9984, Val-Accuracy: 0.5513\n"
     ]
    },
    {
     "name": "stderr",
     "output_type": "stream",
     "text": [
      "Training progress: 100%|██████████| 304/304 [00:24<00:00, 12.41batch/s]\n"
     ]
    },
    {
     "name": "stdout",
     "output_type": "stream",
     "text": [
      "Epoch 14/16, Train-Loss: 0.6498, Val-Loss: 0.6479, Val-F1: 0.7155, Val-Precision: 0.5580, Val-Recall: 0.9968, Val-Accuracy: 0.5923\n"
     ]
    },
    {
     "name": "stderr",
     "output_type": "stream",
     "text": [
      "Training progress: 100%|██████████| 304/304 [00:24<00:00, 12.41batch/s]\n"
     ]
    },
    {
     "name": "stdout",
     "output_type": "stream",
     "text": [
      "Epoch 15/16, Train-Loss: 0.6432, Val-Loss: 0.6416, Val-F1: 0.7280, Val-Precision: 0.5734, Val-Recall: 0.9968, Val-Accuracy: 0.6169\n"
     ]
    },
    {
     "name": "stderr",
     "output_type": "stream",
     "text": [
      "Training progress: 100%|██████████| 304/304 [00:24<00:00, 12.41batch/s]\n"
     ]
    },
    {
     "name": "stdout",
     "output_type": "stream",
     "text": [
      "Epoch 16/16, Train-Loss: 0.6368, Val-Loss: 0.6354, Val-F1: 0.7483, Val-Precision: 0.6002, Val-Recall: 0.9936, Val-Accuracy: 0.6563\n",
      "\n",
      "\u001b[92mRESULTS:\n",
      " F1-Score:0.7556094602789569, Precision:0.6089931573802542, Recall:0.9952076677316294, Accuracy:0.6691297208538588, BCE:0.6342185735702515 \u001b[0m \n",
      "\n",
      "\n",
      "\u001b[91mRUN 49:\u001b[0m\n",
      " Ranga2024Circuit \n",
      " lr: 0.01\n"
     ]
    },
    {
     "name": "stderr",
     "output_type": "stream",
     "text": [
      "Training progress: 100%|██████████| 304/304 [01:03<00:00,  4.80batch/s]\n"
     ]
    },
    {
     "name": "stdout",
     "output_type": "stream",
     "text": [
      "Epoch 1/16, Train-Loss: 0.6115, Val-Loss: 0.5359, Val-F1: 0.8802, Val-Precision: 0.8489, Val-Recall: 0.9139, Val-Accuracy: 0.8720\n"
     ]
    },
    {
     "name": "stderr",
     "output_type": "stream",
     "text": [
      "Training progress: 100%|██████████| 304/304 [01:03<00:00,  4.81batch/s]\n"
     ]
    },
    {
     "name": "stdout",
     "output_type": "stream",
     "text": [
      "Epoch 2/16, Train-Loss: 0.4805, Val-Loss: 0.4457, Val-F1: 0.8785, Val-Precision: 0.8338, Val-Recall: 0.9282, Val-Accuracy: 0.8679\n"
     ]
    },
    {
     "name": "stderr",
     "output_type": "stream",
     "text": [
      "Training progress: 100%|██████████| 304/304 [01:03<00:00,  4.80batch/s]\n"
     ]
    },
    {
     "name": "stdout",
     "output_type": "stream",
     "text": [
      "Epoch 3/16, Train-Loss: 0.4106, Val-Loss: 0.3985, Val-F1: 0.8769, Val-Precision: 0.8284, Val-Recall: 0.9314, Val-Accuracy: 0.8655\n"
     ]
    },
    {
     "name": "stderr",
     "output_type": "stream",
     "text": [
      "Training progress: 100%|██████████| 304/304 [01:03<00:00,  4.80batch/s]\n"
     ]
    },
    {
     "name": "stdout",
     "output_type": "stream",
     "text": [
      "Epoch 4/16, Train-Loss: 0.3717, Val-Loss: 0.3716, Val-F1: 0.8788, Val-Precision: 0.8369, Val-Recall: 0.9250, Val-Accuracy: 0.8687\n"
     ]
    },
    {
     "name": "stderr",
     "output_type": "stream",
     "text": [
      "Training progress: 100%|██████████| 304/304 [01:03<00:00,  4.80batch/s]\n"
     ]
    },
    {
     "name": "stdout",
     "output_type": "stream",
     "text": [
      "Epoch 5/16, Train-Loss: 0.3487, Val-Loss: 0.3560, Val-F1: 0.8778, Val-Precision: 0.8326, Val-Recall: 0.9282, Val-Accuracy: 0.8671\n"
     ]
    },
    {
     "name": "stderr",
     "output_type": "stream",
     "text": [
      "Training progress: 100%|██████████| 304/304 [01:03<00:00,  4.80batch/s]\n"
     ]
    },
    {
     "name": "stdout",
     "output_type": "stream",
     "text": [
      "Epoch 6/16, Train-Loss: 0.3341, Val-Loss: 0.3466, Val-F1: 0.8767, Val-Precision: 0.8293, Val-Recall: 0.9298, Val-Accuracy: 0.8655\n"
     ]
    },
    {
     "name": "stderr",
     "output_type": "stream",
     "text": [
      "Training progress: 100%|██████████| 304/304 [01:03<00:00,  4.80batch/s]\n"
     ]
    },
    {
     "name": "stdout",
     "output_type": "stream",
     "text": [
      "Epoch 7/16, Train-Loss: 0.3239, Val-Loss: 0.3398, Val-F1: 0.8785, Val-Precision: 0.8338, Val-Recall: 0.9282, Val-Accuracy: 0.8679\n"
     ]
    },
    {
     "name": "stderr",
     "output_type": "stream",
     "text": [
      "Training progress: 100%|██████████| 304/304 [01:03<00:00,  4.80batch/s]\n"
     ]
    },
    {
     "name": "stdout",
     "output_type": "stream",
     "text": [
      "Epoch 8/16, Train-Loss: 0.3181, Val-Loss: 0.3354, Val-F1: 0.8775, Val-Precision: 0.8345, Val-Recall: 0.9250, Val-Accuracy: 0.8671\n"
     ]
    },
    {
     "name": "stderr",
     "output_type": "stream",
     "text": [
      "Training progress: 100%|██████████| 304/304 [01:03<00:00,  4.80batch/s]\n"
     ]
    },
    {
     "name": "stdout",
     "output_type": "stream",
     "text": [
      "Epoch 9/16, Train-Loss: 0.3133, Val-Loss: 0.3332, Val-F1: 0.8785, Val-Precision: 0.8338, Val-Recall: 0.9282, Val-Accuracy: 0.8679\n"
     ]
    },
    {
     "name": "stderr",
     "output_type": "stream",
     "text": [
      "Training progress: 100%|██████████| 304/304 [01:03<00:00,  4.79batch/s]\n"
     ]
    },
    {
     "name": "stdout",
     "output_type": "stream",
     "text": [
      "Epoch 10/16, Train-Loss: 0.3104, Val-Loss: 0.3306, Val-F1: 0.8799, Val-Precision: 0.8403, Val-Recall: 0.9234, Val-Accuracy: 0.8704\n"
     ]
    },
    {
     "name": "stderr",
     "output_type": "stream",
     "text": [
      "Training progress: 100%|██████████| 304/304 [01:03<00:00,  4.81batch/s]\n"
     ]
    },
    {
     "name": "stdout",
     "output_type": "stream",
     "text": [
      "Epoch 11/16, Train-Loss: 0.3075, Val-Loss: 0.3299, Val-F1: 0.8775, Val-Precision: 0.8345, Val-Recall: 0.9250, Val-Accuracy: 0.8671\n"
     ]
    },
    {
     "name": "stderr",
     "output_type": "stream",
     "text": [
      "Training progress: 100%|██████████| 304/304 [01:03<00:00,  4.80batch/s]\n"
     ]
    },
    {
     "name": "stdout",
     "output_type": "stream",
     "text": [
      "Epoch 12/16, Train-Loss: 0.3058, Val-Loss: 0.3285, Val-F1: 0.8789, Val-Precision: 0.8411, Val-Recall: 0.9203, Val-Accuracy: 0.8696\n"
     ]
    },
    {
     "name": "stderr",
     "output_type": "stream",
     "text": [
      "Training progress: 100%|██████████| 304/304 [01:03<00:00,  4.80batch/s]\n"
     ]
    },
    {
     "name": "stdout",
     "output_type": "stream",
     "text": [
      "Epoch 13/16, Train-Loss: 0.3050, Val-Loss: 0.3286, Val-F1: 0.8788, Val-Precision: 0.8369, Val-Recall: 0.9250, Val-Accuracy: 0.8687\n"
     ]
    },
    {
     "name": "stderr",
     "output_type": "stream",
     "text": [
      "Training progress: 100%|██████████| 304/304 [01:03<00:00,  4.80batch/s]\n"
     ]
    },
    {
     "name": "stdout",
     "output_type": "stream",
     "text": [
      "Epoch 14/16, Train-Loss: 0.3038, Val-Loss: 0.3282, Val-F1: 0.8795, Val-Precision: 0.8382, Val-Recall: 0.9250, Val-Accuracy: 0.8696\n"
     ]
    },
    {
     "name": "stderr",
     "output_type": "stream",
     "text": [
      "Training progress: 100%|██████████| 304/304 [01:03<00:00,  4.80batch/s]\n"
     ]
    },
    {
     "name": "stdout",
     "output_type": "stream",
     "text": [
      "Epoch 15/16, Train-Loss: 0.3032, Val-Loss: 0.3276, Val-F1: 0.8791, Val-Precision: 0.8497, Val-Recall: 0.9107, Val-Accuracy: 0.8712\n"
     ]
    },
    {
     "name": "stderr",
     "output_type": "stream",
     "text": [
      "Training progress: 100%|██████████| 304/304 [01:03<00:00,  4.79batch/s]\n"
     ]
    },
    {
     "name": "stdout",
     "output_type": "stream",
     "text": [
      "Epoch 16/16, Train-Loss: 0.3029, Val-Loss: 0.3288, Val-F1: 0.8768, Val-Precision: 0.8333, Val-Recall: 0.9250, Val-Accuracy: 0.8663\n",
      "\n",
      "\u001b[92mRESULTS:\n",
      " F1-Score:0.8926640926640926, Precision:0.8639760837070254, Recall:0.9233226837060703, Accuracy:0.8858784893267652, BCE:0.3027317225933075 \u001b[0m \n",
      "\n",
      "\n",
      "\u001b[91mRUN 50:\u001b[0m\n",
      " Ranga2024Circuit \n",
      " lr: 0.001\n"
     ]
    },
    {
     "name": "stderr",
     "output_type": "stream",
     "text": [
      "Training progress: 100%|██████████| 304/304 [01:03<00:00,  4.80batch/s]\n"
     ]
    },
    {
     "name": "stdout",
     "output_type": "stream",
     "text": [
      "Epoch 1/16, Train-Loss: 0.7284, Val-Loss: 0.6911, Val-F1: 0.6793, Val-Precision: 0.5144, Val-Recall: 1.0000, Val-Accuracy: 0.5144\n"
     ]
    },
    {
     "name": "stderr",
     "output_type": "stream",
     "text": [
      "Training progress: 100%|██████████| 304/304 [01:03<00:00,  4.80batch/s]\n"
     ]
    },
    {
     "name": "stdout",
     "output_type": "stream",
     "text": [
      "Epoch 2/16, Train-Loss: 0.6707, Val-Loss: 0.6558, Val-F1: 0.8384, Val-Precision: 0.7277, Val-Recall: 0.9888, Val-Accuracy: 0.8039\n"
     ]
    },
    {
     "name": "stderr",
     "output_type": "stream",
     "text": [
      "Training progress: 100%|██████████| 304/304 [01:03<00:00,  4.79batch/s]\n"
     ]
    },
    {
     "name": "stdout",
     "output_type": "stream",
     "text": [
      "Epoch 3/16, Train-Loss: 0.6444, Val-Loss: 0.6358, Val-F1: 0.8632, Val-Precision: 0.8872, Val-Recall: 0.8405, Val-Accuracy: 0.8630\n"
     ]
    },
    {
     "name": "stderr",
     "output_type": "stream",
     "text": [
      "Training progress: 100%|██████████| 304/304 [01:03<00:00,  4.79batch/s]\n"
     ]
    },
    {
     "name": "stdout",
     "output_type": "stream",
     "text": [
      "Epoch 4/16, Train-Loss: 0.6257, Val-Loss: 0.6185, Val-F1: 0.8396, Val-Precision: 0.9028, Val-Recall: 0.7847, Val-Accuracy: 0.8458\n"
     ]
    },
    {
     "name": "stderr",
     "output_type": "stream",
     "text": [
      "Training progress: 100%|██████████| 304/304 [01:03<00:00,  4.80batch/s]\n"
     ]
    },
    {
     "name": "stdout",
     "output_type": "stream",
     "text": [
      "Epoch 5/16, Train-Loss: 0.6082, Val-Loss: 0.6015, Val-F1: 0.8517, Val-Precision: 0.8862, Val-Recall: 0.8198, Val-Accuracy: 0.8532\n"
     ]
    },
    {
     "name": "stderr",
     "output_type": "stream",
     "text": [
      "Training progress: 100%|██████████| 304/304 [01:03<00:00,  4.79batch/s]\n"
     ]
    },
    {
     "name": "stdout",
     "output_type": "stream",
     "text": [
      "Epoch 6/16, Train-Loss: 0.5909, Val-Loss: 0.5848, Val-F1: 0.8667, Val-Precision: 0.8839, Val-Recall: 0.8501, Val-Accuracy: 0.8655\n"
     ]
    },
    {
     "name": "stderr",
     "output_type": "stream",
     "text": [
      "Training progress: 100%|██████████| 304/304 [01:03<00:00,  4.79batch/s]\n"
     ]
    },
    {
     "name": "stdout",
     "output_type": "stream",
     "text": [
      "Epoch 7/16, Train-Loss: 0.5740, Val-Loss: 0.5688, Val-F1: 0.8724, Val-Precision: 0.8724, Val-Recall: 0.8724, Val-Accuracy: 0.8687\n"
     ]
    },
    {
     "name": "stderr",
     "output_type": "stream",
     "text": [
      "Training progress: 100%|██████████| 304/304 [01:03<00:00,  4.79batch/s]\n"
     ]
    },
    {
     "name": "stdout",
     "output_type": "stream",
     "text": [
      "Epoch 8/16, Train-Loss: 0.5580, Val-Loss: 0.5533, Val-F1: 0.8775, Val-Precision: 0.8699, Val-Recall: 0.8852, Val-Accuracy: 0.8728\n"
     ]
    },
    {
     "name": "stderr",
     "output_type": "stream",
     "text": [
      "Training progress: 100%|██████████| 304/304 [01:03<00:00,  4.80batch/s]\n"
     ]
    },
    {
     "name": "stdout",
     "output_type": "stream",
     "text": [
      "Epoch 9/16, Train-Loss: 0.5424, Val-Loss: 0.5387, Val-F1: 0.8802, Val-Precision: 0.8646, Val-Recall: 0.8963, Val-Accuracy: 0.8745\n"
     ]
    },
    {
     "name": "stderr",
     "output_type": "stream",
     "text": [
      "Training progress: 100%|██████████| 304/304 [01:03<00:00,  4.79batch/s]\n"
     ]
    },
    {
     "name": "stdout",
     "output_type": "stream",
     "text": [
      "Epoch 10/16, Train-Loss: 0.5279, Val-Loss: 0.5249, Val-F1: 0.8785, Val-Precision: 0.8584, Val-Recall: 0.8995, Val-Accuracy: 0.8720\n"
     ]
    },
    {
     "name": "stderr",
     "output_type": "stream",
     "text": [
      "Training progress: 100%|██████████| 304/304 [01:03<00:00,  4.79batch/s]\n"
     ]
    },
    {
     "name": "stdout",
     "output_type": "stream",
     "text": [
      "Epoch 11/16, Train-Loss: 0.5138, Val-Loss: 0.5118, Val-F1: 0.8789, Val-Precision: 0.8563, Val-Recall: 0.9027, Val-Accuracy: 0.8720\n"
     ]
    },
    {
     "name": "stderr",
     "output_type": "stream",
     "text": [
      "Training progress: 100%|██████████| 304/304 [01:03<00:00,  4.79batch/s]\n"
     ]
    },
    {
     "name": "stdout",
     "output_type": "stream",
     "text": [
      "Epoch 12/16, Train-Loss: 0.5007, Val-Loss: 0.4995, Val-F1: 0.8788, Val-Precision: 0.8518, Val-Recall: 0.9075, Val-Accuracy: 0.8712\n"
     ]
    },
    {
     "name": "stderr",
     "output_type": "stream",
     "text": [
      "Training progress: 100%|██████████| 304/304 [01:03<00:00,  4.79batch/s]\n"
     ]
    },
    {
     "name": "stdout",
     "output_type": "stream",
     "text": [
      "Epoch 13/16, Train-Loss: 0.4884, Val-Loss: 0.4879, Val-F1: 0.8793, Val-Precision: 0.8487, Val-Recall: 0.9123, Val-Accuracy: 0.8712\n"
     ]
    },
    {
     "name": "stderr",
     "output_type": "stream",
     "text": [
      "Training progress: 100%|██████████| 304/304 [01:03<00:00,  4.78batch/s]\n"
     ]
    },
    {
     "name": "stdout",
     "output_type": "stream",
     "text": [
      "Epoch 14/16, Train-Loss: 0.4768, Val-Loss: 0.4771, Val-F1: 0.8802, Val-Precision: 0.8436, Val-Recall: 0.9203, Val-Accuracy: 0.8712\n"
     ]
    },
    {
     "name": "stderr",
     "output_type": "stream",
     "text": [
      "Training progress: 100%|██████████| 304/304 [01:03<00:00,  4.80batch/s]\n"
     ]
    },
    {
     "name": "stdout",
     "output_type": "stream",
     "text": [
      "Epoch 15/16, Train-Loss: 0.4660, Val-Loss: 0.4671, Val-F1: 0.8796, Val-Precision: 0.8423, Val-Recall: 0.9203, Val-Accuracy: 0.8704\n"
     ]
    },
    {
     "name": "stderr",
     "output_type": "stream",
     "text": [
      "Training progress: 100%|██████████| 304/304 [01:03<00:00,  4.79batch/s]\n"
     ]
    },
    {
     "name": "stdout",
     "output_type": "stream",
     "text": [
      "Epoch 16/16, Train-Loss: 0.4558, Val-Loss: 0.4578, Val-F1: 0.8799, Val-Precision: 0.8403, Val-Recall: 0.9234, Val-Accuracy: 0.8704\n",
      "\n",
      "\u001b[92mRESULTS:\n",
      " F1-Score:0.8952676493405741, Precision:0.8702865761689291, Recall:0.9217252396166135, Accuracy:0.8891625615763546, BCE:0.4489653408527374 \u001b[0m \n",
      "\n",
      "\n",
      "\u001b[91mRUN 51:\u001b[0m\n",
      " Senokosov2024Circuit \n",
      " lr: 0.01\n"
     ]
    },
    {
     "name": "stderr",
     "output_type": "stream",
     "text": [
      "Training progress: 100%|██████████| 304/304 [00:42<00:00,  7.09batch/s]\n"
     ]
    },
    {
     "name": "stdout",
     "output_type": "stream",
     "text": [
      "Epoch 1/16, Train-Loss: 0.6969, Val-Loss: 0.6932, Val-F1: 0.6793, Val-Precision: 0.5144, Val-Recall: 1.0000, Val-Accuracy: 0.5144\n"
     ]
    },
    {
     "name": "stderr",
     "output_type": "stream",
     "text": [
      "Training progress: 100%|██████████| 304/304 [00:42<00:00,  7.10batch/s]\n"
     ]
    },
    {
     "name": "stdout",
     "output_type": "stream",
     "text": [
      "Epoch 2/16, Train-Loss: 0.6906, Val-Loss: 0.6877, Val-F1: 0.6797, Val-Precision: 0.5148, Val-Recall: 1.0000, Val-Accuracy: 0.5152\n"
     ]
    },
    {
     "name": "stderr",
     "output_type": "stream",
     "text": [
      "Training progress: 100%|██████████| 304/304 [00:42<00:00,  7.11batch/s]\n"
     ]
    },
    {
     "name": "stdout",
     "output_type": "stream",
     "text": [
      "Epoch 3/16, Train-Loss: 0.6852, Val-Loss: 0.6827, Val-F1: 0.6801, Val-Precision: 0.5157, Val-Recall: 0.9984, Val-Accuracy: 0.5168\n"
     ]
    },
    {
     "name": "stderr",
     "output_type": "stream",
     "text": [
      "Training progress: 100%|██████████| 304/304 [00:42<00:00,  7.08batch/s]\n"
     ]
    },
    {
     "name": "stdout",
     "output_type": "stream",
     "text": [
      "Epoch 4/16, Train-Loss: 0.6799, Val-Loss: 0.6782, Val-F1: 0.8202, Val-Precision: 0.7307, Val-Recall: 0.9346, Val-Accuracy: 0.7892\n"
     ]
    },
    {
     "name": "stderr",
     "output_type": "stream",
     "text": [
      "Training progress: 100%|██████████| 304/304 [00:42<00:00,  7.07batch/s]\n"
     ]
    },
    {
     "name": "stdout",
     "output_type": "stream",
     "text": [
      "Epoch 5/16, Train-Loss: 0.6751, Val-Loss: 0.6728, Val-F1: 0.7483, Val-Precision: 0.6019, Val-Recall: 0.9888, Val-Accuracy: 0.6579\n"
     ]
    },
    {
     "name": "stderr",
     "output_type": "stream",
     "text": [
      "Training progress: 100%|██████████| 304/304 [00:42<00:00,  7.09batch/s]\n"
     ]
    },
    {
     "name": "stdout",
     "output_type": "stream",
     "text": [
      "Epoch 6/16, Train-Loss: 0.6702, Val-Loss: 0.6682, Val-F1: 0.7440, Val-Precision: 0.5952, Val-Recall: 0.9920, Val-Accuracy: 0.6489\n"
     ]
    },
    {
     "name": "stderr",
     "output_type": "stream",
     "text": [
      "Training progress: 100%|██████████| 304/304 [00:42<00:00,  7.08batch/s]\n"
     ]
    },
    {
     "name": "stdout",
     "output_type": "stream",
     "text": [
      "Epoch 7/16, Train-Loss: 0.6653, Val-Loss: 0.6637, Val-F1: 0.7576, Val-Precision: 0.6147, Val-Recall: 0.9872, Val-Accuracy: 0.6751\n"
     ]
    },
    {
     "name": "stderr",
     "output_type": "stream",
     "text": [
      "Training progress: 100%|██████████| 304/304 [00:43<00:00,  7.07batch/s]\n"
     ]
    },
    {
     "name": "stdout",
     "output_type": "stream",
     "text": [
      "Epoch 8/16, Train-Loss: 0.6610, Val-Loss: 0.6596, Val-F1: 0.8212, Val-Precision: 0.7445, Val-Recall: 0.9155, Val-Accuracy: 0.7949\n"
     ]
    },
    {
     "name": "stderr",
     "output_type": "stream",
     "text": [
      "Training progress: 100%|██████████| 304/304 [00:42<00:00,  7.09batch/s]\n"
     ]
    },
    {
     "name": "stdout",
     "output_type": "stream",
     "text": [
      "Epoch 9/16, Train-Loss: 0.6561, Val-Loss: 0.6555, Val-F1: 0.7520, Val-Precision: 0.6067, Val-Recall: 0.9888, Val-Accuracy: 0.6645\n"
     ]
    },
    {
     "name": "stderr",
     "output_type": "stream",
     "text": [
      "Training progress: 100%|██████████| 304/304 [00:42<00:00,  7.07batch/s]\n"
     ]
    },
    {
     "name": "stdout",
     "output_type": "stream",
     "text": [
      "Epoch 10/16, Train-Loss: 0.6523, Val-Loss: 0.6512, Val-F1: 0.8247, Val-Precision: 0.7580, Val-Recall: 0.9043, Val-Accuracy: 0.8023\n"
     ]
    },
    {
     "name": "stderr",
     "output_type": "stream",
     "text": [
      "Training progress: 100%|██████████| 304/304 [00:42<00:00,  7.09batch/s]\n"
     ]
    },
    {
     "name": "stdout",
     "output_type": "stream",
     "text": [
      "Epoch 11/16, Train-Loss: 0.6478, Val-Loss: 0.6470, Val-F1: 0.8212, Val-Precision: 0.7445, Val-Recall: 0.9155, Val-Accuracy: 0.7949\n"
     ]
    },
    {
     "name": "stderr",
     "output_type": "stream",
     "text": [
      "Training progress: 100%|██████████| 304/304 [00:42<00:00,  7.09batch/s]\n"
     ]
    },
    {
     "name": "stdout",
     "output_type": "stream",
     "text": [
      "Epoch 12/16, Train-Loss: 0.6438, Val-Loss: 0.6430, Val-F1: 0.7906, Val-Precision: 0.6689, Val-Recall: 0.9665, Val-Accuracy: 0.7367\n"
     ]
    },
    {
     "name": "stderr",
     "output_type": "stream",
     "text": [
      "Training progress: 100%|██████████| 304/304 [00:42<00:00,  7.09batch/s]\n"
     ]
    },
    {
     "name": "stdout",
     "output_type": "stream",
     "text": [
      "Epoch 13/16, Train-Loss: 0.6397, Val-Loss: 0.6390, Val-F1: 0.8197, Val-Precision: 0.7339, Val-Recall: 0.9282, Val-Accuracy: 0.7900\n"
     ]
    },
    {
     "name": "stderr",
     "output_type": "stream",
     "text": [
      "Training progress: 100%|██████████| 304/304 [00:43<00:00,  7.06batch/s]\n"
     ]
    },
    {
     "name": "stdout",
     "output_type": "stream",
     "text": [
      "Epoch 14/16, Train-Loss: 0.6357, Val-Loss: 0.6351, Val-F1: 0.8169, Val-Precision: 0.7207, Val-Recall: 0.9426, Val-Accuracy: 0.7826\n"
     ]
    },
    {
     "name": "stderr",
     "output_type": "stream",
     "text": [
      "Training progress: 100%|██████████| 304/304 [00:42<00:00,  7.09batch/s]\n"
     ]
    },
    {
     "name": "stdout",
     "output_type": "stream",
     "text": [
      "Epoch 15/16, Train-Loss: 0.6319, Val-Loss: 0.6322, Val-F1: 0.8238, Val-Precision: 0.7716, Val-Recall: 0.8836, Val-Accuracy: 0.8056\n"
     ]
    },
    {
     "name": "stderr",
     "output_type": "stream",
     "text": [
      "Training progress: 100%|██████████| 304/304 [00:43<00:00,  7.07batch/s]\n"
     ]
    },
    {
     "name": "stdout",
     "output_type": "stream",
     "text": [
      "Epoch 16/16, Train-Loss: 0.6281, Val-Loss: 0.6280, Val-F1: 0.8174, Val-Precision: 0.7216, Val-Recall: 0.9426, Val-Accuracy: 0.7834\n",
      "\n",
      "\u001b[92mRESULTS:\n",
      " F1-Score:0.8234482758620689, Precision:0.7245145631067961, Recall:0.9536741214057508, Accuracy:0.7898193760262726, BCE:0.6217992305755615 \u001b[0m \n",
      "\n",
      "\n",
      "\u001b[91mRUN 52:\u001b[0m\n",
      " Senokosov2024Circuit \n",
      " lr: 0.001\n"
     ]
    },
    {
     "name": "stderr",
     "output_type": "stream",
     "text": [
      "Training progress: 100%|██████████| 304/304 [00:42<00:00,  7.12batch/s]\n"
     ]
    },
    {
     "name": "stdout",
     "output_type": "stream",
     "text": [
      "Epoch 1/16, Train-Loss: 0.7077, Val-Loss: 0.7012, Val-F1: 0.6793, Val-Precision: 0.5144, Val-Recall: 1.0000, Val-Accuracy: 0.5144\n"
     ]
    },
    {
     "name": "stderr",
     "output_type": "stream",
     "text": [
      "Training progress: 100%|██████████| 304/304 [00:42<00:00,  7.08batch/s]\n"
     ]
    },
    {
     "name": "stdout",
     "output_type": "stream",
     "text": [
      "Epoch 2/16, Train-Loss: 0.6991, Val-Loss: 0.6974, Val-F1: 0.6793, Val-Precision: 0.5144, Val-Recall: 1.0000, Val-Accuracy: 0.5144\n"
     ]
    },
    {
     "name": "stderr",
     "output_type": "stream",
     "text": [
      "Training progress: 100%|██████████| 304/304 [00:42<00:00,  7.10batch/s]\n"
     ]
    },
    {
     "name": "stdout",
     "output_type": "stream",
     "text": [
      "Epoch 3/16, Train-Loss: 0.6970, Val-Loss: 0.6964, Val-F1: 0.6793, Val-Precision: 0.5144, Val-Recall: 1.0000, Val-Accuracy: 0.5144\n"
     ]
    },
    {
     "name": "stderr",
     "output_type": "stream",
     "text": [
      "Training progress: 100%|██████████| 304/304 [00:42<00:00,  7.10batch/s]\n"
     ]
    },
    {
     "name": "stdout",
     "output_type": "stream",
     "text": [
      "Epoch 4/16, Train-Loss: 0.6963, Val-Loss: 0.6959, Val-F1: 0.6793, Val-Precision: 0.5144, Val-Recall: 1.0000, Val-Accuracy: 0.5144\n"
     ]
    },
    {
     "name": "stderr",
     "output_type": "stream",
     "text": [
      "Training progress: 100%|██████████| 304/304 [00:42<00:00,  7.10batch/s]\n"
     ]
    },
    {
     "name": "stdout",
     "output_type": "stream",
     "text": [
      "Epoch 5/16, Train-Loss: 0.6957, Val-Loss: 0.6953, Val-F1: 0.6793, Val-Precision: 0.5144, Val-Recall: 1.0000, Val-Accuracy: 0.5144\n"
     ]
    },
    {
     "name": "stderr",
     "output_type": "stream",
     "text": [
      "Training progress: 100%|██████████| 304/304 [00:42<00:00,  7.10batch/s]\n"
     ]
    },
    {
     "name": "stdout",
     "output_type": "stream",
     "text": [
      "Epoch 6/16, Train-Loss: 0.6952, Val-Loss: 0.6948, Val-F1: 0.6793, Val-Precision: 0.5144, Val-Recall: 1.0000, Val-Accuracy: 0.5144\n"
     ]
    },
    {
     "name": "stderr",
     "output_type": "stream",
     "text": [
      "Training progress: 100%|██████████| 304/304 [00:42<00:00,  7.09batch/s]\n"
     ]
    },
    {
     "name": "stdout",
     "output_type": "stream",
     "text": [
      "Epoch 7/16, Train-Loss: 0.6946, Val-Loss: 0.6942, Val-F1: 0.6793, Val-Precision: 0.5144, Val-Recall: 1.0000, Val-Accuracy: 0.5144\n"
     ]
    },
    {
     "name": "stderr",
     "output_type": "stream",
     "text": [
      "Training progress: 100%|██████████| 304/304 [00:42<00:00,  7.09batch/s]\n"
     ]
    },
    {
     "name": "stdout",
     "output_type": "stream",
     "text": [
      "Epoch 8/16, Train-Loss: 0.6941, Val-Loss: 0.6937, Val-F1: 0.6793, Val-Precision: 0.5144, Val-Recall: 1.0000, Val-Accuracy: 0.5144\n"
     ]
    },
    {
     "name": "stderr",
     "output_type": "stream",
     "text": [
      "Training progress: 100%|██████████| 304/304 [00:42<00:00,  7.09batch/s]\n"
     ]
    },
    {
     "name": "stdout",
     "output_type": "stream",
     "text": [
      "Epoch 9/16, Train-Loss: 0.6935, Val-Loss: 0.6932, Val-F1: 0.6793, Val-Precision: 0.5144, Val-Recall: 1.0000, Val-Accuracy: 0.5144\n"
     ]
    },
    {
     "name": "stderr",
     "output_type": "stream",
     "text": [
      "Training progress: 100%|██████████| 304/304 [00:42<00:00,  7.09batch/s]\n"
     ]
    },
    {
     "name": "stdout",
     "output_type": "stream",
     "text": [
      "Epoch 10/16, Train-Loss: 0.6930, Val-Loss: 0.6926, Val-F1: 0.6793, Val-Precision: 0.5144, Val-Recall: 1.0000, Val-Accuracy: 0.5144\n"
     ]
    },
    {
     "name": "stderr",
     "output_type": "stream",
     "text": [
      "Training progress: 100%|██████████| 304/304 [00:42<00:00,  7.10batch/s]\n"
     ]
    },
    {
     "name": "stdout",
     "output_type": "stream",
     "text": [
      "Epoch 11/16, Train-Loss: 0.6924, Val-Loss: 0.6921, Val-F1: 0.6793, Val-Precision: 0.5144, Val-Recall: 1.0000, Val-Accuracy: 0.5144\n"
     ]
    },
    {
     "name": "stderr",
     "output_type": "stream",
     "text": [
      "Training progress: 100%|██████████| 304/304 [00:42<00:00,  7.10batch/s]\n"
     ]
    },
    {
     "name": "stdout",
     "output_type": "stream",
     "text": [
      "Epoch 12/16, Train-Loss: 0.6918, Val-Loss: 0.6915, Val-F1: 0.6793, Val-Precision: 0.5144, Val-Recall: 1.0000, Val-Accuracy: 0.5144\n"
     ]
    },
    {
     "name": "stderr",
     "output_type": "stream",
     "text": [
      "Training progress: 100%|██████████| 304/304 [00:42<00:00,  7.11batch/s]\n"
     ]
    },
    {
     "name": "stdout",
     "output_type": "stream",
     "text": [
      "Epoch 13/16, Train-Loss: 0.6912, Val-Loss: 0.6910, Val-F1: 0.6793, Val-Precision: 0.5144, Val-Recall: 1.0000, Val-Accuracy: 0.5144\n"
     ]
    },
    {
     "name": "stderr",
     "output_type": "stream",
     "text": [
      "Training progress: 100%|██████████| 304/304 [00:42<00:00,  7.10batch/s]\n"
     ]
    },
    {
     "name": "stdout",
     "output_type": "stream",
     "text": [
      "Epoch 14/16, Train-Loss: 0.6906, Val-Loss: 0.6904, Val-F1: 0.6793, Val-Precision: 0.5144, Val-Recall: 1.0000, Val-Accuracy: 0.5144\n"
     ]
    },
    {
     "name": "stderr",
     "output_type": "stream",
     "text": [
      "Training progress: 100%|██████████| 304/304 [00:42<00:00,  7.11batch/s]\n"
     ]
    },
    {
     "name": "stdout",
     "output_type": "stream",
     "text": [
      "Epoch 15/16, Train-Loss: 0.6901, Val-Loss: 0.6898, Val-F1: 0.6793, Val-Precision: 0.5144, Val-Recall: 1.0000, Val-Accuracy: 0.5144\n"
     ]
    },
    {
     "name": "stderr",
     "output_type": "stream",
     "text": [
      "Training progress: 100%|██████████| 304/304 [00:42<00:00,  7.09batch/s]\n"
     ]
    },
    {
     "name": "stdout",
     "output_type": "stream",
     "text": [
      "Epoch 16/16, Train-Loss: 0.6894, Val-Loss: 0.6893, Val-F1: 0.6793, Val-Precision: 0.5144, Val-Recall: 1.0000, Val-Accuracy: 0.5144\n",
      "\n",
      "\u001b[92mRESULTS:\n",
      " F1-Score:0.6793271839392295, Precision:0.514379622021364, Recall:1.0, Accuracy:0.5147783251231527, BCE:0.6889684796333313 \u001b[0m \n",
      "\n",
      "\n",
      "\u001b[91mRUN 53:\u001b[0m\n",
      " Anusha2024Circuit \n",
      " lr: 0.01\n"
     ]
    },
    {
     "name": "stderr",
     "output_type": "stream",
     "text": [
      "Training progress: 100%|██████████| 304/304 [00:18<00:00, 16.52batch/s]\n"
     ]
    },
    {
     "name": "stdout",
     "output_type": "stream",
     "text": [
      "Epoch 1/16, Train-Loss: 0.6805, Val-Loss: 0.6766, Val-F1: 0.6326, Val-Precision: 0.5836, Val-Recall: 0.6906, Val-Accuracy: 0.5874\n"
     ]
    },
    {
     "name": "stderr",
     "output_type": "stream",
     "text": [
      "Training progress: 100%|██████████| 304/304 [00:18<00:00, 16.54batch/s]\n"
     ]
    },
    {
     "name": "stdout",
     "output_type": "stream",
     "text": [
      "Epoch 2/16, Train-Loss: 0.6757, Val-Loss: 0.6731, Val-F1: 0.6236, Val-Precision: 0.5959, Val-Recall: 0.6539, Val-Accuracy: 0.5939\n"
     ]
    },
    {
     "name": "stderr",
     "output_type": "stream",
     "text": [
      "Training progress: 100%|██████████| 304/304 [00:18<00:00, 16.54batch/s]\n"
     ]
    },
    {
     "name": "stdout",
     "output_type": "stream",
     "text": [
      "Epoch 3/16, Train-Loss: 0.6732, Val-Loss: 0.6719, Val-F1: 0.6463, Val-Precision: 0.5835, Val-Recall: 0.7241, Val-Accuracy: 0.5923\n"
     ]
    },
    {
     "name": "stderr",
     "output_type": "stream",
     "text": [
      "Training progress: 100%|██████████| 304/304 [00:18<00:00, 16.51batch/s]\n"
     ]
    },
    {
     "name": "stdout",
     "output_type": "stream",
     "text": [
      "Epoch 4/16, Train-Loss: 0.6719, Val-Loss: 0.6711, Val-F1: 0.5780, Val-Precision: 0.5993, Val-Recall: 0.5582, Val-Accuracy: 0.5808\n"
     ]
    },
    {
     "name": "stderr",
     "output_type": "stream",
     "text": [
      "Training progress: 100%|██████████| 304/304 [00:18<00:00, 16.53batch/s]\n"
     ]
    },
    {
     "name": "stdout",
     "output_type": "stream",
     "text": [
      "Epoch 5/16, Train-Loss: 0.6716, Val-Loss: 0.6702, Val-F1: 0.6266, Val-Precision: 0.5861, Val-Recall: 0.6730, Val-Accuracy: 0.5874\n"
     ]
    },
    {
     "name": "stderr",
     "output_type": "stream",
     "text": [
      "Training progress: 100%|██████████| 304/304 [00:18<00:00, 16.51batch/s]\n"
     ]
    },
    {
     "name": "stdout",
     "output_type": "stream",
     "text": [
      "Epoch 6/16, Train-Loss: 0.6712, Val-Loss: 0.6701, Val-F1: 0.6300, Val-Precision: 0.5837, Val-Recall: 0.6842, Val-Accuracy: 0.5865\n"
     ]
    },
    {
     "name": "stderr",
     "output_type": "stream",
     "text": [
      "Training progress: 100%|██████████| 304/304 [00:18<00:00, 16.54batch/s]\n"
     ]
    },
    {
     "name": "stdout",
     "output_type": "stream",
     "text": [
      "Epoch 7/16, Train-Loss: 0.6708, Val-Loss: 0.6700, Val-F1: 0.6321, Val-Precision: 0.5828, Val-Recall: 0.6906, Val-Accuracy: 0.5865\n"
     ]
    },
    {
     "name": "stderr",
     "output_type": "stream",
     "text": [
      "Training progress: 100%|██████████| 304/304 [00:18<00:00, 16.53batch/s]\n"
     ]
    },
    {
     "name": "stdout",
     "output_type": "stream",
     "text": [
      "Epoch 8/16, Train-Loss: 0.6711, Val-Loss: 0.6706, Val-F1: 0.5785, Val-Precision: 0.6003, Val-Recall: 0.5582, Val-Accuracy: 0.5816\n"
     ]
    },
    {
     "name": "stderr",
     "output_type": "stream",
     "text": [
      "Training progress: 100%|██████████| 304/304 [00:18<00:00, 16.54batch/s]\n"
     ]
    },
    {
     "name": "stdout",
     "output_type": "stream",
     "text": [
      "Epoch 9/16, Train-Loss: 0.6707, Val-Loss: 0.6707, Val-F1: 0.6478, Val-Precision: 0.5829, Val-Recall: 0.7289, Val-Accuracy: 0.5923\n"
     ]
    },
    {
     "name": "stderr",
     "output_type": "stream",
     "text": [
      "Training progress: 100%|██████████| 304/304 [00:18<00:00, 16.46batch/s]\n"
     ]
    },
    {
     "name": "stdout",
     "output_type": "stream",
     "text": [
      "Epoch 10/16, Train-Loss: 0.6711, Val-Loss: 0.6704, Val-F1: 0.5799, Val-Precision: 0.5997, Val-Recall: 0.5614, Val-Accuracy: 0.5816\n"
     ]
    },
    {
     "name": "stderr",
     "output_type": "stream",
     "text": [
      "Training progress: 100%|██████████| 304/304 [00:18<00:00, 16.48batch/s]\n"
     ]
    },
    {
     "name": "stdout",
     "output_type": "stream",
     "text": [
      "Epoch 11/16, Train-Loss: 0.6710, Val-Loss: 0.6699, Val-F1: 0.5957, Val-Precision: 0.5981, Val-Recall: 0.5933, Val-Accuracy: 0.5857\n"
     ]
    },
    {
     "name": "stderr",
     "output_type": "stream",
     "text": [
      "Training progress: 100%|██████████| 304/304 [00:18<00:00, 16.48batch/s]\n"
     ]
    },
    {
     "name": "stdout",
     "output_type": "stream",
     "text": [
      "Epoch 12/16, Train-Loss: 0.6708, Val-Loss: 0.6700, Val-F1: 0.6383, Val-Precision: 0.5831, Val-Recall: 0.7049, Val-Accuracy: 0.5890\n"
     ]
    },
    {
     "name": "stderr",
     "output_type": "stream",
     "text": [
      "Training progress: 100%|██████████| 304/304 [00:18<00:00, 16.42batch/s]\n"
     ]
    },
    {
     "name": "stdout",
     "output_type": "stream",
     "text": [
      "Epoch 13/16, Train-Loss: 0.6709, Val-Loss: 0.6697, Val-F1: 0.6117, Val-Precision: 0.5973, Val-Recall: 0.6268, Val-Accuracy: 0.5906\n"
     ]
    },
    {
     "name": "stderr",
     "output_type": "stream",
     "text": [
      "Training progress: 100%|██████████| 304/304 [00:18<00:00, 16.53batch/s]\n"
     ]
    },
    {
     "name": "stdout",
     "output_type": "stream",
     "text": [
      "Epoch 14/16, Train-Loss: 0.6709, Val-Loss: 0.6697, Val-F1: 0.6108, Val-Precision: 0.6000, Val-Recall: 0.6220, Val-Accuracy: 0.5923\n"
     ]
    },
    {
     "name": "stderr",
     "output_type": "stream",
     "text": [
      "Training progress: 100%|██████████| 304/304 [00:18<00:00, 16.56batch/s]\n"
     ]
    },
    {
     "name": "stdout",
     "output_type": "stream",
     "text": [
      "Epoch 15/16, Train-Loss: 0.6708, Val-Loss: 0.6706, Val-F1: 0.5785, Val-Precision: 0.6003, Val-Recall: 0.5582, Val-Accuracy: 0.5816\n"
     ]
    },
    {
     "name": "stderr",
     "output_type": "stream",
     "text": [
      "Training progress: 100%|██████████| 304/304 [00:18<00:00, 16.54batch/s]\n"
     ]
    },
    {
     "name": "stdout",
     "output_type": "stream",
     "text": [
      "Epoch 16/16, Train-Loss: 0.6707, Val-Loss: 0.6698, Val-F1: 0.6282, Val-Precision: 0.5854, Val-Recall: 0.6778, Val-Accuracy: 0.5874\n",
      "\n",
      "\u001b[92mRESULTS:\n",
      " F1-Score:0.6143497757847534, Precision:0.577247191011236, Recall:0.6565495207667732, Accuracy:0.5763546798029556, BCE:0.6806517243385315 \u001b[0m \n",
      "\n",
      "\n",
      "\u001b[91mRUN 54:\u001b[0m\n",
      " Anusha2024Circuit \n",
      " lr: 0.001\n"
     ]
    },
    {
     "name": "stderr",
     "output_type": "stream",
     "text": [
      "Training progress: 100%|██████████| 304/304 [00:18<00:00, 16.51batch/s]\n"
     ]
    },
    {
     "name": "stdout",
     "output_type": "stream",
     "text": [
      "Epoch 1/16, Train-Loss: 0.6900, Val-Loss: 0.6840, Val-F1: 0.7019, Val-Precision: 0.5515, Val-Recall: 0.9649, Val-Accuracy: 0.5783\n"
     ]
    },
    {
     "name": "stderr",
     "output_type": "stream",
     "text": [
      "Training progress: 100%|██████████| 304/304 [00:18<00:00, 16.53batch/s]\n"
     ]
    },
    {
     "name": "stdout",
     "output_type": "stream",
     "text": [
      "Epoch 2/16, Train-Loss: 0.6828, Val-Loss: 0.6816, Val-F1: 0.6478, Val-Precision: 0.5820, Val-Recall: 0.7305, Val-Accuracy: 0.5915\n"
     ]
    },
    {
     "name": "stderr",
     "output_type": "stream",
     "text": [
      "Training progress: 100%|██████████| 304/304 [00:18<00:00, 16.52batch/s]\n"
     ]
    },
    {
     "name": "stdout",
     "output_type": "stream",
     "text": [
      "Epoch 3/16, Train-Loss: 0.6814, Val-Loss: 0.6807, Val-F1: 0.6232, Val-Precision: 0.6006, Val-Recall: 0.6475, Val-Accuracy: 0.5972\n"
     ]
    },
    {
     "name": "stderr",
     "output_type": "stream",
     "text": [
      "Training progress: 100%|██████████| 304/304 [00:18<00:00, 16.59batch/s]\n"
     ]
    },
    {
     "name": "stdout",
     "output_type": "stream",
     "text": [
      "Epoch 4/16, Train-Loss: 0.6807, Val-Loss: 0.6800, Val-F1: 0.5966, Val-Precision: 0.6000, Val-Recall: 0.5933, Val-Accuracy: 0.5874\n"
     ]
    },
    {
     "name": "stderr",
     "output_type": "stream",
     "text": [
      "Training progress: 100%|██████████| 304/304 [00:18<00:00, 16.52batch/s]\n"
     ]
    },
    {
     "name": "stdout",
     "output_type": "stream",
     "text": [
      "Epoch 5/16, Train-Loss: 0.6801, Val-Loss: 0.6793, Val-F1: 0.6215, Val-Precision: 0.6003, Val-Recall: 0.6443, Val-Accuracy: 0.5964\n"
     ]
    },
    {
     "name": "stderr",
     "output_type": "stream",
     "text": [
      "Training progress: 100%|██████████| 304/304 [00:18<00:00, 16.51batch/s]\n"
     ]
    },
    {
     "name": "stdout",
     "output_type": "stream",
     "text": [
      "Epoch 6/16, Train-Loss: 0.6795, Val-Loss: 0.6787, Val-F1: 0.6217, Val-Precision: 0.5979, Val-Recall: 0.6475, Val-Accuracy: 0.5947\n"
     ]
    },
    {
     "name": "stderr",
     "output_type": "stream",
     "text": [
      "Training progress: 100%|██████████| 304/304 [00:18<00:00, 16.53batch/s]\n"
     ]
    },
    {
     "name": "stdout",
     "output_type": "stream",
     "text": [
      "Epoch 7/16, Train-Loss: 0.6787, Val-Loss: 0.6781, Val-F1: 0.6270, Val-Precision: 0.5880, Val-Recall: 0.6715, Val-Accuracy: 0.5890\n"
     ]
    },
    {
     "name": "stderr",
     "output_type": "stream",
     "text": [
      "Training progress: 100%|██████████| 304/304 [00:18<00:00, 16.57batch/s]\n"
     ]
    },
    {
     "name": "stdout",
     "output_type": "stream",
     "text": [
      "Epoch 8/16, Train-Loss: 0.6783, Val-Loss: 0.6775, Val-F1: 0.6105, Val-Precision: 0.5979, Val-Recall: 0.6236, Val-Accuracy: 0.5906\n"
     ]
    },
    {
     "name": "stderr",
     "output_type": "stream",
     "text": [
      "Training progress: 100%|██████████| 304/304 [00:18<00:00, 16.55batch/s]\n"
     ]
    },
    {
     "name": "stdout",
     "output_type": "stream",
     "text": [
      "Epoch 9/16, Train-Loss: 0.6777, Val-Loss: 0.6770, Val-F1: 0.6262, Val-Precision: 0.5904, Val-Recall: 0.6667, Val-Accuracy: 0.5906\n"
     ]
    },
    {
     "name": "stderr",
     "output_type": "stream",
     "text": [
      "Training progress: 100%|██████████| 304/304 [00:18<00:00, 16.53batch/s]\n"
     ]
    },
    {
     "name": "stdout",
     "output_type": "stream",
     "text": [
      "Epoch 10/16, Train-Loss: 0.6772, Val-Loss: 0.6765, Val-F1: 0.6252, Val-Precision: 0.5962, Val-Recall: 0.6571, Val-Accuracy: 0.5947\n"
     ]
    },
    {
     "name": "stderr",
     "output_type": "stream",
     "text": [
      "Training progress: 100%|██████████| 304/304 [00:18<00:00, 16.45batch/s]\n"
     ]
    },
    {
     "name": "stdout",
     "output_type": "stream",
     "text": [
      "Epoch 11/16, Train-Loss: 0.6768, Val-Loss: 0.6760, Val-F1: 0.6105, Val-Precision: 0.5979, Val-Recall: 0.6236, Val-Accuracy: 0.5906\n"
     ]
    },
    {
     "name": "stderr",
     "output_type": "stream",
     "text": [
      "Training progress: 100%|██████████| 304/304 [00:18<00:00, 16.52batch/s]\n"
     ]
    },
    {
     "name": "stdout",
     "output_type": "stream",
     "text": [
      "Epoch 12/16, Train-Loss: 0.6763, Val-Loss: 0.6756, Val-F1: 0.6252, Val-Precision: 0.5962, Val-Recall: 0.6571, Val-Accuracy: 0.5947\n"
     ]
    },
    {
     "name": "stderr",
     "output_type": "stream",
     "text": [
      "Training progress: 100%|██████████| 304/304 [00:18<00:00, 16.50batch/s]\n"
     ]
    },
    {
     "name": "stdout",
     "output_type": "stream",
     "text": [
      "Epoch 13/16, Train-Loss: 0.6759, Val-Loss: 0.6752, Val-F1: 0.6236, Val-Precision: 0.5959, Val-Recall: 0.6539, Val-Accuracy: 0.5939\n"
     ]
    },
    {
     "name": "stderr",
     "output_type": "stream",
     "text": [
      "Training progress: 100%|██████████| 304/304 [00:18<00:00, 16.55batch/s]\n"
     ]
    },
    {
     "name": "stdout",
     "output_type": "stream",
     "text": [
      "Epoch 14/16, Train-Loss: 0.6755, Val-Loss: 0.6748, Val-F1: 0.6259, Val-Precision: 0.5937, Val-Recall: 0.6619, Val-Accuracy: 0.5931\n"
     ]
    },
    {
     "name": "stderr",
     "output_type": "stream",
     "text": [
      "Training progress: 100%|██████████| 304/304 [00:18<00:00, 16.51batch/s]\n"
     ]
    },
    {
     "name": "stdout",
     "output_type": "stream",
     "text": [
      "Epoch 15/16, Train-Loss: 0.6751, Val-Loss: 0.6744, Val-F1: 0.6215, Val-Precision: 0.6003, Val-Recall: 0.6443, Val-Accuracy: 0.5964\n"
     ]
    },
    {
     "name": "stderr",
     "output_type": "stream",
     "text": [
      "Training progress: 100%|██████████| 304/304 [00:18<00:00, 16.51batch/s]\n"
     ]
    },
    {
     "name": "stdout",
     "output_type": "stream",
     "text": [
      "Epoch 16/16, Train-Loss: 0.6748, Val-Loss: 0.6741, Val-F1: 0.6247, Val-Precision: 0.5954, Val-Recall: 0.6571, Val-Accuracy: 0.5939\n",
      "\n",
      "\u001b[92mRESULTS:\n",
      " F1-Score:0.59247889485802, Precision:0.5701624815361891, Recall:0.6166134185303515, Accuracy:0.5640394088669951, BCE:0.6804279685020447 \u001b[0m \n",
      "\n",
      "\n",
      "\u001b[91mRUN 55:\u001b[0m\n",
      " DoubleEntanglementVLCircuit \n",
      " lr: 0.01\n"
     ]
    },
    {
     "name": "stderr",
     "output_type": "stream",
     "text": [
      "Training progress: 100%|██████████| 304/304 [00:24<00:00, 12.40batch/s]\n"
     ]
    },
    {
     "name": "stdout",
     "output_type": "stream",
     "text": [
      "Epoch 1/16, Train-Loss: 0.6604, Val-Loss: 0.6245, Val-F1: 0.8872, Val-Precision: 0.8606, Val-Recall: 0.9155, Val-Accuracy: 0.8802\n"
     ]
    },
    {
     "name": "stderr",
     "output_type": "stream",
     "text": [
      "Training progress: 100%|██████████| 304/304 [00:24<00:00, 12.42batch/s]\n"
     ]
    },
    {
     "name": "stdout",
     "output_type": "stream",
     "text": [
      "Epoch 2/16, Train-Loss: 0.5901, Val-Loss: 0.5637, Val-F1: 0.8824, Val-Precision: 0.8675, Val-Recall: 0.8979, Val-Accuracy: 0.8769\n"
     ]
    },
    {
     "name": "stderr",
     "output_type": "stream",
     "text": [
      "Training progress: 100%|██████████| 304/304 [00:24<00:00, 12.44batch/s]\n"
     ]
    },
    {
     "name": "stdout",
     "output_type": "stream",
     "text": [
      "Epoch 3/16, Train-Loss: 0.5334, Val-Loss: 0.5157, Val-F1: 0.8872, Val-Precision: 0.8550, Val-Recall: 0.9219, Val-Accuracy: 0.8794\n"
     ]
    },
    {
     "name": "stderr",
     "output_type": "stream",
     "text": [
      "Training progress: 100%|██████████| 304/304 [00:24<00:00, 12.41batch/s]\n"
     ]
    },
    {
     "name": "stdout",
     "output_type": "stream",
     "text": [
      "Epoch 4/16, Train-Loss: 0.4889, Val-Loss: 0.4783, Val-F1: 0.8814, Val-Precision: 0.8684, Val-Recall: 0.8947, Val-Accuracy: 0.8761\n"
     ]
    },
    {
     "name": "stderr",
     "output_type": "stream",
     "text": [
      "Training progress: 100%|██████████| 304/304 [00:24<00:00, 12.44batch/s]\n"
     ]
    },
    {
     "name": "stdout",
     "output_type": "stream",
     "text": [
      "Epoch 5/16, Train-Loss: 0.4544, Val-Loss: 0.4491, Val-F1: 0.8858, Val-Precision: 0.8580, Val-Recall: 0.9155, Val-Accuracy: 0.8786\n"
     ]
    },
    {
     "name": "stderr",
     "output_type": "stream",
     "text": [
      "Training progress: 100%|██████████| 304/304 [00:24<00:00, 12.42batch/s]\n"
     ]
    },
    {
     "name": "stdout",
     "output_type": "stream",
     "text": [
      "Epoch 6/16, Train-Loss: 0.4271, Val-Loss: 0.4264, Val-F1: 0.8879, Val-Precision: 0.8563, Val-Recall: 0.9219, Val-Accuracy: 0.8802\n"
     ]
    },
    {
     "name": "stderr",
     "output_type": "stream",
     "text": [
      "Training progress: 100%|██████████| 304/304 [00:24<00:00, 12.38batch/s]\n"
     ]
    },
    {
     "name": "stdout",
     "output_type": "stream",
     "text": [
      "Epoch 7/16, Train-Loss: 0.4054, Val-Loss: 0.4086, Val-F1: 0.8882, Val-Precision: 0.8542, Val-Recall: 0.9250, Val-Accuracy: 0.8802\n"
     ]
    },
    {
     "name": "stderr",
     "output_type": "stream",
     "text": [
      "Training progress: 100%|██████████| 304/304 [00:24<00:00, 12.39batch/s]\n"
     ]
    },
    {
     "name": "stdout",
     "output_type": "stream",
     "text": [
      "Epoch 8/16, Train-Loss: 0.3886, Val-Loss: 0.3939, Val-F1: 0.8858, Val-Precision: 0.8580, Val-Recall: 0.9155, Val-Accuracy: 0.8786\n"
     ]
    },
    {
     "name": "stderr",
     "output_type": "stream",
     "text": [
      "Training progress: 100%|██████████| 304/304 [00:24<00:00, 12.36batch/s]\n"
     ]
    },
    {
     "name": "stdout",
     "output_type": "stream",
     "text": [
      "Epoch 9/16, Train-Loss: 0.3744, Val-Loss: 0.3827, Val-F1: 0.8874, Val-Precision: 0.8540, Val-Recall: 0.9234, Val-Accuracy: 0.8794\n"
     ]
    },
    {
     "name": "stderr",
     "output_type": "stream",
     "text": [
      "Training progress: 100%|██████████| 304/304 [00:24<00:00, 12.41batch/s]\n"
     ]
    },
    {
     "name": "stdout",
     "output_type": "stream",
     "text": [
      "Epoch 10/16, Train-Loss: 0.3637, Val-Loss: 0.3733, Val-F1: 0.8866, Val-Precision: 0.8638, Val-Recall: 0.9107, Val-Accuracy: 0.8802\n"
     ]
    },
    {
     "name": "stderr",
     "output_type": "stream",
     "text": [
      "Training progress: 100%|██████████| 304/304 [00:24<00:00, 12.48batch/s]\n"
     ]
    },
    {
     "name": "stdout",
     "output_type": "stream",
     "text": [
      "Epoch 11/16, Train-Loss: 0.3544, Val-Loss: 0.3659, Val-F1: 0.8875, Val-Precision: 0.8584, Val-Recall: 0.9187, Val-Accuracy: 0.8802\n"
     ]
    },
    {
     "name": "stderr",
     "output_type": "stream",
     "text": [
      "Training progress: 100%|██████████| 304/304 [00:24<00:00, 12.41batch/s]\n"
     ]
    },
    {
     "name": "stdout",
     "output_type": "stream",
     "text": [
      "Epoch 12/16, Train-Loss: 0.3468, Val-Loss: 0.3605, Val-F1: 0.8909, Val-Precision: 0.8538, Val-Recall: 0.9314, Val-Accuracy: 0.8827\n"
     ]
    },
    {
     "name": "stderr",
     "output_type": "stream",
     "text": [
      "Training progress: 100%|██████████| 304/304 [00:24<00:00, 12.41batch/s]\n"
     ]
    },
    {
     "name": "stdout",
     "output_type": "stream",
     "text": [
      "Epoch 13/16, Train-Loss: 0.3408, Val-Loss: 0.3551, Val-F1: 0.8882, Val-Precision: 0.8542, Val-Recall: 0.9250, Val-Accuracy: 0.8802\n"
     ]
    },
    {
     "name": "stderr",
     "output_type": "stream",
     "text": [
      "Training progress: 100%|██████████| 304/304 [00:24<00:00, 12.43batch/s]\n"
     ]
    },
    {
     "name": "stdout",
     "output_type": "stream",
     "text": [
      "Epoch 14/16, Train-Loss: 0.3353, Val-Loss: 0.3510, Val-F1: 0.8874, Val-Precision: 0.8540, Val-Recall: 0.9234, Val-Accuracy: 0.8794\n"
     ]
    },
    {
     "name": "stderr",
     "output_type": "stream",
     "text": [
      "Training progress: 100%|██████████| 304/304 [00:24<00:00, 12.39batch/s]\n"
     ]
    },
    {
     "name": "stdout",
     "output_type": "stream",
     "text": [
      "Epoch 15/16, Train-Loss: 0.3312, Val-Loss: 0.3471, Val-F1: 0.8866, Val-Precision: 0.8638, Val-Recall: 0.9107, Val-Accuracy: 0.8802\n"
     ]
    },
    {
     "name": "stderr",
     "output_type": "stream",
     "text": [
      "Training progress: 100%|██████████| 304/304 [00:24<00:00, 12.39batch/s]\n"
     ]
    },
    {
     "name": "stdout",
     "output_type": "stream",
     "text": [
      "Epoch 16/16, Train-Loss: 0.3276, Val-Loss: 0.3455, Val-F1: 0.8896, Val-Precision: 0.8513, Val-Recall: 0.9314, Val-Accuracy: 0.8811\n",
      "\n",
      "\u001b[92mRESULTS:\n",
      " F1-Score:0.8937160589604345, Precision:0.8687782805429864, Recall:0.9201277955271565, Accuracy:0.8875205254515599, BCE:0.3193124532699585 \u001b[0m \n",
      "\n",
      "\n",
      "\u001b[91mRUN 56:\u001b[0m\n",
      " DoubleEntanglementVLCircuit \n",
      " lr: 0.001\n"
     ]
    },
    {
     "name": "stderr",
     "output_type": "stream",
     "text": [
      "Training progress: 100%|██████████| 304/304 [00:24<00:00, 12.40batch/s]\n"
     ]
    },
    {
     "name": "stdout",
     "output_type": "stream",
     "text": [
      "Epoch 1/16, Train-Loss: 0.7208, Val-Loss: 0.6991, Val-F1: 0.6793, Val-Precision: 0.5144, Val-Recall: 1.0000, Val-Accuracy: 0.5144\n"
     ]
    },
    {
     "name": "stderr",
     "output_type": "stream",
     "text": [
      "Training progress: 100%|██████████| 304/304 [00:24<00:00, 12.41batch/s]\n"
     ]
    },
    {
     "name": "stdout",
     "output_type": "stream",
     "text": [
      "Epoch 2/16, Train-Loss: 0.6876, Val-Loss: 0.6794, Val-F1: 0.6793, Val-Precision: 0.5144, Val-Recall: 1.0000, Val-Accuracy: 0.5144\n"
     ]
    },
    {
     "name": "stderr",
     "output_type": "stream",
     "text": [
      "Training progress: 100%|██████████| 304/304 [00:24<00:00, 12.42batch/s]\n"
     ]
    },
    {
     "name": "stdout",
     "output_type": "stream",
     "text": [
      "Epoch 3/16, Train-Loss: 0.6739, Val-Loss: 0.6702, Val-F1: 0.8842, Val-Precision: 0.8093, Val-Recall: 0.9745, Val-Accuracy: 0.8687\n"
     ]
    },
    {
     "name": "stderr",
     "output_type": "stream",
     "text": [
      "Training progress: 100%|██████████| 304/304 [00:24<00:00, 12.46batch/s]\n"
     ]
    },
    {
     "name": "stdout",
     "output_type": "stream",
     "text": [
      "Epoch 4/16, Train-Loss: 0.6658, Val-Loss: 0.6632, Val-F1: 0.8396, Val-Precision: 0.8865, Val-Recall: 0.7974, Val-Accuracy: 0.8433\n"
     ]
    },
    {
     "name": "stderr",
     "output_type": "stream",
     "text": [
      "Training progress: 100%|██████████| 304/304 [00:24<00:00, 12.44batch/s]\n"
     ]
    },
    {
     "name": "stdout",
     "output_type": "stream",
     "text": [
      "Epoch 5/16, Train-Loss: 0.6586, Val-Loss: 0.6562, Val-F1: 0.8288, Val-Precision: 0.8946, Val-Recall: 0.7719, Val-Accuracy: 0.8359\n"
     ]
    },
    {
     "name": "stderr",
     "output_type": "stream",
     "text": [
      "Training progress: 100%|██████████| 304/304 [00:24<00:00, 12.45batch/s]\n"
     ]
    },
    {
     "name": "stdout",
     "output_type": "stream",
     "text": [
      "Epoch 6/16, Train-Loss: 0.6512, Val-Loss: 0.6489, Val-F1: 0.8357, Val-Precision: 0.8960, Val-Recall: 0.7831, Val-Accuracy: 0.8417\n"
     ]
    },
    {
     "name": "stderr",
     "output_type": "stream",
     "text": [
      "Training progress: 100%|██████████| 304/304 [00:24<00:00, 12.39batch/s]\n"
     ]
    },
    {
     "name": "stdout",
     "output_type": "stream",
     "text": [
      "Epoch 7/16, Train-Loss: 0.6437, Val-Loss: 0.6416, Val-F1: 0.8491, Val-Precision: 0.8843, Val-Recall: 0.8166, Val-Accuracy: 0.8507\n"
     ]
    },
    {
     "name": "stderr",
     "output_type": "stream",
     "text": [
      "Training progress: 100%|██████████| 304/304 [00:24<00:00, 12.40batch/s]\n"
     ]
    },
    {
     "name": "stdout",
     "output_type": "stream",
     "text": [
      "Epoch 8/16, Train-Loss: 0.6360, Val-Loss: 0.6341, Val-F1: 0.8472, Val-Precision: 0.8839, Val-Recall: 0.8134, Val-Accuracy: 0.8491\n"
     ]
    },
    {
     "name": "stderr",
     "output_type": "stream",
     "text": [
      "Training progress: 100%|██████████| 304/304 [00:24<00:00, 12.44batch/s]\n"
     ]
    },
    {
     "name": "stdout",
     "output_type": "stream",
     "text": [
      "Epoch 9/16, Train-Loss: 0.6283, Val-Loss: 0.6267, Val-F1: 0.8555, Val-Precision: 0.8763, Val-Recall: 0.8357, Val-Accuracy: 0.8548\n"
     ]
    },
    {
     "name": "stderr",
     "output_type": "stream",
     "text": [
      "Training progress: 100%|██████████| 304/304 [00:24<00:00, 12.43batch/s]\n"
     ]
    },
    {
     "name": "stdout",
     "output_type": "stream",
     "text": [
      "Epoch 10/16, Train-Loss: 0.6208, Val-Loss: 0.6194, Val-F1: 0.8560, Val-Precision: 0.8738, Val-Recall: 0.8389, Val-Accuracy: 0.8548\n"
     ]
    },
    {
     "name": "stderr",
     "output_type": "stream",
     "text": [
      "Training progress: 100%|██████████| 304/304 [00:24<00:00, 12.43batch/s]\n"
     ]
    },
    {
     "name": "stdout",
     "output_type": "stream",
     "text": [
      "Epoch 11/16, Train-Loss: 0.6132, Val-Loss: 0.6121, Val-F1: 0.8557, Val-Precision: 0.8750, Val-Recall: 0.8373, Val-Accuracy: 0.8548\n"
     ]
    },
    {
     "name": "stderr",
     "output_type": "stream",
     "text": [
      "Training progress: 100%|██████████| 304/304 [00:24<00:00, 12.44batch/s]\n"
     ]
    },
    {
     "name": "stdout",
     "output_type": "stream",
     "text": [
      "Epoch 12/16, Train-Loss: 0.6057, Val-Loss: 0.6049, Val-F1: 0.8666, Val-Precision: 0.8736, Val-Recall: 0.8596, Val-Accuracy: 0.8638\n"
     ]
    },
    {
     "name": "stderr",
     "output_type": "stream",
     "text": [
      "Training progress: 100%|██████████| 304/304 [00:24<00:00, 12.44batch/s]\n"
     ]
    },
    {
     "name": "stdout",
     "output_type": "stream",
     "text": [
      "Epoch 13/16, Train-Loss: 0.5983, Val-Loss: 0.5977, Val-F1: 0.8690, Val-Precision: 0.8704, Val-Recall: 0.8676, Val-Accuracy: 0.8655\n"
     ]
    },
    {
     "name": "stderr",
     "output_type": "stream",
     "text": [
      "Training progress: 100%|██████████| 304/304 [00:24<00:00, 12.42batch/s]\n"
     ]
    },
    {
     "name": "stdout",
     "output_type": "stream",
     "text": [
      "Epoch 14/16, Train-Loss: 0.5909, Val-Loss: 0.5907, Val-F1: 0.8744, Val-Precision: 0.8716, Val-Recall: 0.8772, Val-Accuracy: 0.8704\n"
     ]
    },
    {
     "name": "stderr",
     "output_type": "stream",
     "text": [
      "Training progress: 100%|██████████| 304/304 [00:24<00:00, 12.48batch/s]\n"
     ]
    },
    {
     "name": "stdout",
     "output_type": "stream",
     "text": [
      "Epoch 15/16, Train-Loss: 0.5837, Val-Loss: 0.5838, Val-F1: 0.8744, Val-Precision: 0.8716, Val-Recall: 0.8772, Val-Accuracy: 0.8704\n"
     ]
    },
    {
     "name": "stderr",
     "output_type": "stream",
     "text": [
      "Training progress: 100%|██████████| 304/304 [00:24<00:00, 12.39batch/s]\n"
     ]
    },
    {
     "name": "stdout",
     "output_type": "stream",
     "text": [
      "Epoch 16/16, Train-Loss: 0.5767, Val-Loss: 0.5771, Val-F1: 0.8775, Val-Precision: 0.8699, Val-Recall: 0.8852, Val-Accuracy: 0.8728\n",
      "\n",
      "\u001b[92mRESULTS:\n",
      " F1-Score:0.8790322580645161, Precision:0.8876221498371335, Recall:0.8706070287539937, Accuracy:0.8768472906403941, BCE:0.5726368427276611 \u001b[0m \n",
      "\n",
      "\n",
      "\u001b[91mRUN 57:\u001b[0m\n",
      " Ranga2024Circuit \n",
      " lr: 0.01\n"
     ]
    },
    {
     "name": "stderr",
     "output_type": "stream",
     "text": [
      "Training progress: 100%|██████████| 304/304 [01:03<00:00,  4.79batch/s]\n"
     ]
    },
    {
     "name": "stdout",
     "output_type": "stream",
     "text": [
      "Epoch 1/16, Train-Loss: 0.6865, Val-Loss: 0.6841, Val-F1: 0.7322, Val-Precision: 0.6080, Val-Recall: 0.9203, Val-Accuracy: 0.6538\n"
     ]
    },
    {
     "name": "stderr",
     "output_type": "stream",
     "text": [
      "Training progress: 100%|██████████| 304/304 [01:03<00:00,  4.79batch/s]\n"
     ]
    },
    {
     "name": "stdout",
     "output_type": "stream",
     "text": [
      "Epoch 2/16, Train-Loss: 0.6826, Val-Loss: 0.6814, Val-F1: 0.7233, Val-Precision: 0.6339, Val-Recall: 0.8421, Val-Accuracy: 0.6686\n"
     ]
    },
    {
     "name": "stderr",
     "output_type": "stream",
     "text": [
      "Training progress: 100%|██████████| 304/304 [01:03<00:00,  4.78batch/s]\n"
     ]
    },
    {
     "name": "stdout",
     "output_type": "stream",
     "text": [
      "Epoch 3/16, Train-Loss: 0.6804, Val-Loss: 0.6807, Val-F1: 0.7292, Val-Precision: 0.6025, Val-Recall: 0.9234, Val-Accuracy: 0.6473\n"
     ]
    },
    {
     "name": "stderr",
     "output_type": "stream",
     "text": [
      "Training progress: 100%|██████████| 304/304 [01:03<00:00,  4.79batch/s]\n"
     ]
    },
    {
     "name": "stdout",
     "output_type": "stream",
     "text": [
      "Epoch 4/16, Train-Loss: 0.6791, Val-Loss: 0.6796, Val-F1: 0.6480, Val-Precision: 0.6706, Val-Recall: 0.6268, Val-Accuracy: 0.6497\n"
     ]
    },
    {
     "name": "stderr",
     "output_type": "stream",
     "text": [
      "Training progress: 100%|██████████| 304/304 [01:03<00:00,  4.77batch/s]\n"
     ]
    },
    {
     "name": "stdout",
     "output_type": "stream",
     "text": [
      "Epoch 5/16, Train-Loss: 0.6780, Val-Loss: 0.6783, Val-F1: 0.6962, Val-Precision: 0.6488, Val-Recall: 0.7512, Val-Accuracy: 0.6628\n"
     ]
    },
    {
     "name": "stderr",
     "output_type": "stream",
     "text": [
      "Training progress: 100%|██████████| 304/304 [01:03<00:00,  4.79batch/s]\n"
     ]
    },
    {
     "name": "stdout",
     "output_type": "stream",
     "text": [
      "Epoch 6/16, Train-Loss: 0.6775, Val-Loss: 0.6781, Val-F1: 0.6913, Val-Precision: 0.6562, Val-Recall: 0.7305, Val-Accuracy: 0.6645\n"
     ]
    },
    {
     "name": "stderr",
     "output_type": "stream",
     "text": [
      "Training progress: 100%|██████████| 304/304 [01:03<00:00,  4.78batch/s]\n"
     ]
    },
    {
     "name": "stdout",
     "output_type": "stream",
     "text": [
      "Epoch 7/16, Train-Loss: 0.6770, Val-Loss: 0.6778, Val-F1: 0.6975, Val-Precision: 0.6559, Val-Recall: 0.7448, Val-Accuracy: 0.6678\n"
     ]
    },
    {
     "name": "stderr",
     "output_type": "stream",
     "text": [
      "Training progress: 100%|██████████| 304/304 [01:03<00:00,  4.79batch/s]\n"
     ]
    },
    {
     "name": "stdout",
     "output_type": "stream",
     "text": [
      "Epoch 8/16, Train-Loss: 0.6767, Val-Loss: 0.6778, Val-F1: 0.6884, Val-Precision: 0.6561, Val-Recall: 0.7241, Val-Accuracy: 0.6628\n"
     ]
    },
    {
     "name": "stderr",
     "output_type": "stream",
     "text": [
      "Training progress: 100%|██████████| 304/304 [01:03<00:00,  4.79batch/s]\n"
     ]
    },
    {
     "name": "stdout",
     "output_type": "stream",
     "text": [
      "Epoch 9/16, Train-Loss: 0.6766, Val-Loss: 0.6778, Val-F1: 0.6845, Val-Precision: 0.6583, Val-Recall: 0.7129, Val-Accuracy: 0.6620\n"
     ]
    },
    {
     "name": "stderr",
     "output_type": "stream",
     "text": [
      "Training progress: 100%|██████████| 304/304 [01:03<00:00,  4.79batch/s]\n"
     ]
    },
    {
     "name": "stdout",
     "output_type": "stream",
     "text": [
      "Epoch 10/16, Train-Loss: 0.6766, Val-Loss: 0.6777, Val-F1: 0.6965, Val-Precision: 0.6541, Val-Recall: 0.7448, Val-Accuracy: 0.6661\n"
     ]
    },
    {
     "name": "stderr",
     "output_type": "stream",
     "text": [
      "Training progress: 100%|██████████| 304/304 [01:03<00:00,  4.78batch/s]\n"
     ]
    },
    {
     "name": "stdout",
     "output_type": "stream",
     "text": [
      "Epoch 11/16, Train-Loss: 0.6764, Val-Loss: 0.6781, Val-F1: 0.7091, Val-Precision: 0.6425, Val-Recall: 0.7911, Val-Accuracy: 0.6661\n"
     ]
    },
    {
     "name": "stderr",
     "output_type": "stream",
     "text": [
      "Training progress: 100%|██████████| 304/304 [01:03<00:00,  4.79batch/s]\n"
     ]
    },
    {
     "name": "stdout",
     "output_type": "stream",
     "text": [
      "Epoch 12/16, Train-Loss: 0.6767, Val-Loss: 0.6777, Val-F1: 0.6971, Val-Precision: 0.6563, Val-Recall: 0.7432, Val-Accuracy: 0.6678\n"
     ]
    },
    {
     "name": "stderr",
     "output_type": "stream",
     "text": [
      "Training progress: 100%|██████████| 304/304 [01:03<00:00,  4.78batch/s]\n"
     ]
    },
    {
     "name": "stdout",
     "output_type": "stream",
     "text": [
      "Epoch 13/16, Train-Loss: 0.6765, Val-Loss: 0.6778, Val-F1: 0.6953, Val-Precision: 0.6496, Val-Recall: 0.7480, Val-Accuracy: 0.6628\n"
     ]
    },
    {
     "name": "stderr",
     "output_type": "stream",
     "text": [
      "Training progress: 100%|██████████| 304/304 [01:03<00:00,  4.79batch/s]\n"
     ]
    },
    {
     "name": "stdout",
     "output_type": "stream",
     "text": [
      "Epoch 14/16, Train-Loss: 0.6763, Val-Loss: 0.6781, Val-F1: 0.6613, Val-Precision: 0.6640, Val-Recall: 0.6587, Val-Accuracy: 0.6530\n"
     ]
    },
    {
     "name": "stderr",
     "output_type": "stream",
     "text": [
      "Training progress: 100%|██████████| 304/304 [01:03<00:00,  4.78batch/s]\n"
     ]
    },
    {
     "name": "stdout",
     "output_type": "stream",
     "text": [
      "Epoch 15/16, Train-Loss: 0.6766, Val-Loss: 0.6779, Val-F1: 0.6995, Val-Precision: 0.6485, Val-Recall: 0.7592, Val-Accuracy: 0.6645\n"
     ]
    },
    {
     "name": "stderr",
     "output_type": "stream",
     "text": [
      "Training progress: 100%|██████████| 304/304 [01:03<00:00,  4.79batch/s]\n"
     ]
    },
    {
     "name": "stdout",
     "output_type": "stream",
     "text": [
      "Epoch 16/16, Train-Loss: 0.6762, Val-Loss: 0.6783, Val-F1: 0.7089, Val-Precision: 0.6401, Val-Recall: 0.7943, Val-Accuracy: 0.6645\n",
      "\n",
      "\u001b[92mRESULTS:\n",
      " F1-Score:0.7082748948106592, Precision:0.63125, Recall:0.8067092651757188, Accuracy:0.6584564860426929, BCE:0.6803008913993835 \u001b[0m \n",
      "\n",
      "\n",
      "\u001b[91mRUN 58:\u001b[0m\n",
      " Ranga2024Circuit \n",
      " lr: 0.001\n"
     ]
    },
    {
     "name": "stderr",
     "output_type": "stream",
     "text": [
      "Training progress: 100%|██████████| 304/304 [01:03<00:00,  4.80batch/s]\n"
     ]
    },
    {
     "name": "stdout",
     "output_type": "stream",
     "text": [
      "Epoch 1/16, Train-Loss: 0.6912, Val-Loss: 0.6887, Val-F1: 0.6204, Val-Precision: 0.6704, Val-Recall: 0.5774, Val-Accuracy: 0.6366\n"
     ]
    },
    {
     "name": "stderr",
     "output_type": "stream",
     "text": [
      "Training progress: 100%|██████████| 304/304 [01:03<00:00,  4.80batch/s]\n"
     ]
    },
    {
     "name": "stdout",
     "output_type": "stream",
     "text": [
      "Epoch 2/16, Train-Loss: 0.6880, Val-Loss: 0.6874, Val-F1: 0.7277, Val-Precision: 0.5998, Val-Recall: 0.9250, Val-Accuracy: 0.6440\n"
     ]
    },
    {
     "name": "stderr",
     "output_type": "stream",
     "text": [
      "Training progress: 100%|██████████| 304/304 [01:03<00:00,  4.80batch/s]\n"
     ]
    },
    {
     "name": "stdout",
     "output_type": "stream",
     "text": [
      "Epoch 3/16, Train-Loss: 0.6871, Val-Loss: 0.6868, Val-F1: 0.7111, Val-Precision: 0.5668, Val-Recall: 0.9537, Val-Accuracy: 0.6013\n"
     ]
    },
    {
     "name": "stderr",
     "output_type": "stream",
     "text": [
      "Training progress: 100%|██████████| 304/304 [01:03<00:00,  4.79batch/s]\n"
     ]
    },
    {
     "name": "stdout",
     "output_type": "stream",
     "text": [
      "Epoch 4/16, Train-Loss: 0.6866, Val-Loss: 0.6864, Val-F1: 0.7105, Val-Precision: 0.5650, Val-Recall: 0.9569, Val-Accuracy: 0.5989\n"
     ]
    },
    {
     "name": "stderr",
     "output_type": "stream",
     "text": [
      "Training progress: 100%|██████████| 304/304 [01:03<00:00,  4.80batch/s]\n"
     ]
    },
    {
     "name": "stdout",
     "output_type": "stream",
     "text": [
      "Epoch 5/16, Train-Loss: 0.6861, Val-Loss: 0.6859, Val-F1: 0.7158, Val-Precision: 0.5764, Val-Recall: 0.9442, Val-Accuracy: 0.6144\n"
     ]
    },
    {
     "name": "stderr",
     "output_type": "stream",
     "text": [
      "Training progress: 100%|██████████| 304/304 [01:03<00:00,  4.80batch/s]\n"
     ]
    },
    {
     "name": "stdout",
     "output_type": "stream",
     "text": [
      "Epoch 6/16, Train-Loss: 0.6857, Val-Loss: 0.6855, Val-F1: 0.7257, Val-Precision: 0.5931, Val-Recall: 0.9346, Val-Accuracy: 0.6366\n"
     ]
    },
    {
     "name": "stderr",
     "output_type": "stream",
     "text": [
      "Training progress: 100%|██████████| 304/304 [01:03<00:00,  4.79batch/s]\n"
     ]
    },
    {
     "name": "stdout",
     "output_type": "stream",
     "text": [
      "Epoch 7/16, Train-Loss: 0.6852, Val-Loss: 0.6851, Val-F1: 0.7269, Val-Precision: 0.5967, Val-Recall: 0.9298, Val-Accuracy: 0.6407\n"
     ]
    },
    {
     "name": "stderr",
     "output_type": "stream",
     "text": [
      "Training progress: 100%|██████████| 304/304 [01:03<00:00,  4.79batch/s]\n"
     ]
    },
    {
     "name": "stdout",
     "output_type": "stream",
     "text": [
      "Epoch 8/16, Train-Loss: 0.6848, Val-Loss: 0.6847, Val-F1: 0.7270, Val-Precision: 0.5975, Val-Recall: 0.9282, Val-Accuracy: 0.6415\n"
     ]
    },
    {
     "name": "stderr",
     "output_type": "stream",
     "text": [
      "Training progress: 100%|██████████| 304/304 [01:03<00:00,  4.79batch/s]\n"
     ]
    },
    {
     "name": "stdout",
     "output_type": "stream",
     "text": [
      "Epoch 9/16, Train-Loss: 0.6844, Val-Loss: 0.6843, Val-F1: 0.7298, Val-Precision: 0.6040, Val-Recall: 0.9219, Val-Accuracy: 0.6489\n"
     ]
    },
    {
     "name": "stderr",
     "output_type": "stream",
     "text": [
      "Training progress: 100%|██████████| 304/304 [01:03<00:00,  4.79batch/s]\n"
     ]
    },
    {
     "name": "stdout",
     "output_type": "stream",
     "text": [
      "Epoch 10/16, Train-Loss: 0.6841, Val-Loss: 0.6840, Val-F1: 0.7297, Val-Precision: 0.6087, Val-Recall: 0.9107, Val-Accuracy: 0.6530\n"
     ]
    },
    {
     "name": "stderr",
     "output_type": "stream",
     "text": [
      "Training progress: 100%|██████████| 304/304 [01:03<00:00,  4.80batch/s]\n"
     ]
    },
    {
     "name": "stdout",
     "output_type": "stream",
     "text": [
      "Epoch 11/16, Train-Loss: 0.6837, Val-Loss: 0.6837, Val-F1: 0.7301, Val-Precision: 0.6144, Val-Recall: 0.8995, Val-Accuracy: 0.6579\n"
     ]
    },
    {
     "name": "stderr",
     "output_type": "stream",
     "text": [
      "Training progress: 100%|██████████| 304/304 [01:03<00:00,  4.79batch/s]\n"
     ]
    },
    {
     "name": "stdout",
     "output_type": "stream",
     "text": [
      "Epoch 12/16, Train-Loss: 0.6834, Val-Loss: 0.6833, Val-F1: 0.7280, Val-Precision: 0.6159, Val-Recall: 0.8900, Val-Accuracy: 0.6579\n"
     ]
    },
    {
     "name": "stderr",
     "output_type": "stream",
     "text": [
      "Training progress: 100%|██████████| 304/304 [01:03<00:00,  4.79batch/s]\n"
     ]
    },
    {
     "name": "stdout",
     "output_type": "stream",
     "text": [
      "Epoch 13/16, Train-Loss: 0.6830, Val-Loss: 0.6830, Val-F1: 0.7288, Val-Precision: 0.6194, Val-Recall: 0.8852, Val-Accuracy: 0.6612\n"
     ]
    },
    {
     "name": "stderr",
     "output_type": "stream",
     "text": [
      "Training progress: 100%|██████████| 304/304 [01:03<00:00,  4.80batch/s]\n"
     ]
    },
    {
     "name": "stdout",
     "output_type": "stream",
     "text": [
      "Epoch 14/16, Train-Loss: 0.6827, Val-Loss: 0.6828, Val-F1: 0.7293, Val-Precision: 0.6233, Val-Recall: 0.8788, Val-Accuracy: 0.6645\n"
     ]
    },
    {
     "name": "stderr",
     "output_type": "stream",
     "text": [
      "Training progress: 100%|██████████| 304/304 [01:03<00:00,  4.80batch/s]\n"
     ]
    },
    {
     "name": "stdout",
     "output_type": "stream",
     "text": [
      "Epoch 15/16, Train-Loss: 0.6825, Val-Loss: 0.6825, Val-F1: 0.7292, Val-Precision: 0.6223, Val-Recall: 0.8804, Val-Accuracy: 0.6637\n"
     ]
    },
    {
     "name": "stderr",
     "output_type": "stream",
     "text": [
      "Training progress: 100%|██████████| 304/304 [01:03<00:00,  4.80batch/s]\n"
     ]
    },
    {
     "name": "stdout",
     "output_type": "stream",
     "text": [
      "Epoch 16/16, Train-Loss: 0.6821, Val-Loss: 0.6822, Val-F1: 0.7305, Val-Precision: 0.6267, Val-Recall: 0.8756, Val-Accuracy: 0.6678\n",
      "\n",
      "\u001b[92mRESULTS:\n",
      " F1-Score:0.7158866183256427, Precision:0.6094276094276094, Recall:0.8674121405750799, Accuracy:0.6461412151067324, BCE:0.683427095413208 \u001b[0m \n",
      "\n",
      "\n",
      "\u001b[91mRUN 59:\u001b[0m\n",
      " Senokosov2024Circuit \n",
      " lr: 0.01\n"
     ]
    },
    {
     "name": "stderr",
     "output_type": "stream",
     "text": [
      "Training progress: 100%|██████████| 304/304 [00:42<00:00,  7.09batch/s]\n"
     ]
    },
    {
     "name": "stdout",
     "output_type": "stream",
     "text": [
      "Epoch 1/16, Train-Loss: 0.6891, Val-Loss: 0.6793, Val-F1: 0.6981, Val-Precision: 0.5977, Val-Recall: 0.8389, Val-Accuracy: 0.6267\n"
     ]
    },
    {
     "name": "stderr",
     "output_type": "stream",
     "text": [
      "Training progress: 100%|██████████| 304/304 [00:42<00:00,  7.09batch/s]\n"
     ]
    },
    {
     "name": "stdout",
     "output_type": "stream",
     "text": [
      "Epoch 2/16, Train-Loss: 0.6770, Val-Loss: 0.6705, Val-F1: 0.6944, Val-Precision: 0.6310, Val-Recall: 0.7719, Val-Accuracy: 0.6505\n"
     ]
    },
    {
     "name": "stderr",
     "output_type": "stream",
     "text": [
      "Training progress: 100%|██████████| 304/304 [00:42<00:00,  7.11batch/s]\n"
     ]
    },
    {
     "name": "stdout",
     "output_type": "stream",
     "text": [
      "Epoch 3/16, Train-Loss: 0.6717, Val-Loss: 0.6665, Val-F1: 0.6980, Val-Precision: 0.5968, Val-Recall: 0.8405, Val-Accuracy: 0.6259\n"
     ]
    },
    {
     "name": "stderr",
     "output_type": "stream",
     "text": [
      "Training progress: 100%|██████████| 304/304 [00:42<00:00,  7.10batch/s]\n"
     ]
    },
    {
     "name": "stdout",
     "output_type": "stream",
     "text": [
      "Epoch 4/16, Train-Loss: 0.6694, Val-Loss: 0.6643, Val-F1: 0.6947, Val-Precision: 0.6558, Val-Recall: 0.7384, Val-Accuracy: 0.6661\n"
     ]
    },
    {
     "name": "stderr",
     "output_type": "stream",
     "text": [
      "Training progress: 100%|██████████| 304/304 [00:42<00:00,  7.10batch/s]\n"
     ]
    },
    {
     "name": "stdout",
     "output_type": "stream",
     "text": [
      "Epoch 5/16, Train-Loss: 0.6680, Val-Loss: 0.6628, Val-F1: 0.6919, Val-Precision: 0.6269, Val-Recall: 0.7719, Val-Accuracy: 0.6464\n"
     ]
    },
    {
     "name": "stderr",
     "output_type": "stream",
     "text": [
      "Training progress: 100%|██████████| 304/304 [00:42<00:00,  7.08batch/s]\n"
     ]
    },
    {
     "name": "stdout",
     "output_type": "stream",
     "text": [
      "Epoch 6/16, Train-Loss: 0.6674, Val-Loss: 0.6622, Val-F1: 0.6950, Val-Precision: 0.6342, Val-Recall: 0.7687, Val-Accuracy: 0.6530\n"
     ]
    },
    {
     "name": "stderr",
     "output_type": "stream",
     "text": [
      "Training progress: 100%|██████████| 304/304 [00:42<00:00,  7.09batch/s]\n"
     ]
    },
    {
     "name": "stdout",
     "output_type": "stream",
     "text": [
      "Epoch 7/16, Train-Loss: 0.6670, Val-Loss: 0.6618, Val-F1: 0.6915, Val-Precision: 0.6181, Val-Recall: 0.7847, Val-Accuracy: 0.6399\n"
     ]
    },
    {
     "name": "stderr",
     "output_type": "stream",
     "text": [
      "Training progress: 100%|██████████| 304/304 [00:43<00:00,  7.07batch/s]\n"
     ]
    },
    {
     "name": "stdout",
     "output_type": "stream",
     "text": [
      "Epoch 8/16, Train-Loss: 0.6668, Val-Loss: 0.6615, Val-F1: 0.6961, Val-Precision: 0.6371, Val-Recall: 0.7671, Val-Accuracy: 0.6555\n"
     ]
    },
    {
     "name": "stderr",
     "output_type": "stream",
     "text": [
      "Training progress: 100%|██████████| 304/304 [00:42<00:00,  7.10batch/s]\n"
     ]
    },
    {
     "name": "stdout",
     "output_type": "stream",
     "text": [
      "Epoch 9/16, Train-Loss: 0.6667, Val-Loss: 0.6615, Val-F1: 0.6948, Val-Precision: 0.6394, Val-Recall: 0.7608, Val-Accuracy: 0.6563\n"
     ]
    },
    {
     "name": "stderr",
     "output_type": "stream",
     "text": [
      "Training progress: 100%|██████████| 304/304 [00:42<00:00,  7.08batch/s]\n"
     ]
    },
    {
     "name": "stdout",
     "output_type": "stream",
     "text": [
      "Epoch 10/16, Train-Loss: 0.6668, Val-Loss: 0.6613, Val-F1: 0.6935, Val-Precision: 0.6317, Val-Recall: 0.7687, Val-Accuracy: 0.6505\n"
     ]
    },
    {
     "name": "stderr",
     "output_type": "stream",
     "text": [
      "Training progress: 100%|██████████| 304/304 [00:42<00:00,  7.10batch/s]\n"
     ]
    },
    {
     "name": "stdout",
     "output_type": "stream",
     "text": [
      "Epoch 11/16, Train-Loss: 0.6663, Val-Loss: 0.6614, Val-F1: 0.6903, Val-Precision: 0.6123, Val-Recall: 0.7911, Val-Accuracy: 0.6349\n"
     ]
    },
    {
     "name": "stderr",
     "output_type": "stream",
     "text": [
      "Training progress: 100%|██████████| 304/304 [00:42<00:00,  7.10batch/s]\n"
     ]
    },
    {
     "name": "stdout",
     "output_type": "stream",
     "text": [
      "Epoch 12/16, Train-Loss: 0.6667, Val-Loss: 0.6612, Val-F1: 0.6920, Val-Precision: 0.6199, Val-Recall: 0.7831, Val-Accuracy: 0.6415\n"
     ]
    },
    {
     "name": "stderr",
     "output_type": "stream",
     "text": [
      "Training progress: 100%|██████████| 304/304 [00:42<00:00,  7.10batch/s]\n"
     ]
    },
    {
     "name": "stdout",
     "output_type": "stream",
     "text": [
      "Epoch 13/16, Train-Loss: 0.6665, Val-Loss: 0.6612, Val-F1: 0.6909, Val-Precision: 0.6253, Val-Recall: 0.7719, Val-Accuracy: 0.6448\n"
     ]
    },
    {
     "name": "stderr",
     "output_type": "stream",
     "text": [
      "Training progress: 100%|██████████| 304/304 [00:42<00:00,  7.09batch/s]\n"
     ]
    },
    {
     "name": "stdout",
     "output_type": "stream",
     "text": [
      "Epoch 14/16, Train-Loss: 0.6666, Val-Loss: 0.6614, Val-F1: 0.6978, Val-Precision: 0.6528, Val-Recall: 0.7496, Val-Accuracy: 0.6661\n"
     ]
    },
    {
     "name": "stderr",
     "output_type": "stream",
     "text": [
      "Training progress: 100%|██████████| 304/304 [00:42<00:00,  7.16batch/s]\n"
     ]
    },
    {
     "name": "stdout",
     "output_type": "stream",
     "text": [
      "Epoch 15/16, Train-Loss: 0.6668, Val-Loss: 0.6612, Val-F1: 0.6957, Val-Precision: 0.6387, Val-Recall: 0.7640, Val-Accuracy: 0.6563\n"
     ]
    },
    {
     "name": "stderr",
     "output_type": "stream",
     "text": [
      "Training progress: 100%|██████████| 304/304 [00:42<00:00,  7.13batch/s]\n"
     ]
    },
    {
     "name": "stdout",
     "output_type": "stream",
     "text": [
      "Epoch 16/16, Train-Loss: 0.6668, Val-Loss: 0.6614, Val-F1: 0.6916, Val-Precision: 0.6105, Val-Recall: 0.7974, Val-Accuracy: 0.6341\n",
      "\n",
      "\u001b[92mRESULTS:\n",
      " F1-Score:0.6851595006934813, Precision:0.6053921568627451, Recall:0.7891373801916933, Accuracy:0.6272577996715928, BCE:0.662920355796814 \u001b[0m \n",
      "\n",
      "\n",
      "\u001b[91mRUN 60:\u001b[0m\n",
      " Senokosov2024Circuit \n",
      " lr: 0.001\n"
     ]
    },
    {
     "name": "stderr",
     "output_type": "stream",
     "text": [
      "Training progress: 100%|██████████| 304/304 [00:42<00:00,  7.15batch/s]\n"
     ]
    },
    {
     "name": "stdout",
     "output_type": "stream",
     "text": [
      "Epoch 1/16, Train-Loss: 0.7014, Val-Loss: 0.6977, Val-F1: 0.0127, Val-Precision: 1.0000, Val-Recall: 0.0064, Val-Accuracy: 0.4889\n"
     ]
    },
    {
     "name": "stderr",
     "output_type": "stream",
     "text": [
      "Training progress: 100%|██████████| 304/304 [00:42<00:00,  7.14batch/s]\n"
     ]
    },
    {
     "name": "stdout",
     "output_type": "stream",
     "text": [
      "Epoch 2/16, Train-Loss: 0.6955, Val-Loss: 0.6938, Val-F1: 0.0000, Val-Precision: 0.0000, Val-Recall: 0.0000, Val-Accuracy: 0.4856\n"
     ]
    },
    {
     "name": "stderr",
     "output_type": "stream",
     "text": [
      "Training progress: 100%|██████████| 304/304 [00:42<00:00,  7.16batch/s]\n"
     ]
    },
    {
     "name": "stdout",
     "output_type": "stream",
     "text": [
      "Epoch 3/16, Train-Loss: 0.6925, Val-Loss: 0.6911, Val-F1: 0.6941, Val-Precision: 0.5813, Val-Recall: 0.8612, Val-Accuracy: 0.6095\n"
     ]
    },
    {
     "name": "stderr",
     "output_type": "stream",
     "text": [
      "Training progress: 100%|██████████| 304/304 [00:42<00:00,  7.10batch/s]\n"
     ]
    },
    {
     "name": "stdout",
     "output_type": "stream",
     "text": [
      "Epoch 4/16, Train-Loss: 0.6905, Val-Loss: 0.6890, Val-F1: 0.6887, Val-Precision: 0.5585, Val-Recall: 0.8979, Val-Accuracy: 0.5824\n"
     ]
    },
    {
     "name": "stderr",
     "output_type": "stream",
     "text": [
      "Training progress: 100%|██████████| 304/304 [00:42<00:00,  7.10batch/s]\n"
     ]
    },
    {
     "name": "stdout",
     "output_type": "stream",
     "text": [
      "Epoch 5/16, Train-Loss: 0.6887, Val-Loss: 0.6871, Val-F1: 0.6963, Val-Precision: 0.5725, Val-Recall: 0.8884, Val-Accuracy: 0.6013\n"
     ]
    },
    {
     "name": "stderr",
     "output_type": "stream",
     "text": [
      "Training progress: 100%|██████████| 304/304 [00:42<00:00,  7.09batch/s]\n"
     ]
    },
    {
     "name": "stdout",
     "output_type": "stream",
     "text": [
      "Epoch 6/16, Train-Loss: 0.6871, Val-Loss: 0.6854, Val-F1: 0.6939, Val-Precision: 0.5847, Val-Recall: 0.8533, Val-Accuracy: 0.6128\n"
     ]
    },
    {
     "name": "stderr",
     "output_type": "stream",
     "text": [
      "Training progress: 100%|██████████| 304/304 [00:42<00:00,  7.10batch/s]\n"
     ]
    },
    {
     "name": "stdout",
     "output_type": "stream",
     "text": [
      "Epoch 7/16, Train-Loss: 0.6856, Val-Loss: 0.6837, Val-F1: 0.6950, Val-Precision: 0.5893, Val-Recall: 0.8469, Val-Accuracy: 0.6177\n"
     ]
    },
    {
     "name": "stderr",
     "output_type": "stream",
     "text": [
      "Training progress: 100%|██████████| 304/304 [00:42<00:00,  7.09batch/s]\n"
     ]
    },
    {
     "name": "stdout",
     "output_type": "stream",
     "text": [
      "Epoch 8/16, Train-Loss: 0.6843, Val-Loss: 0.6822, Val-F1: 0.6960, Val-Precision: 0.5915, Val-Recall: 0.8453, Val-Accuracy: 0.6202\n"
     ]
    },
    {
     "name": "stderr",
     "output_type": "stream",
     "text": [
      "Training progress: 100%|██████████| 304/304 [00:42<00:00,  7.09batch/s]\n"
     ]
    },
    {
     "name": "stdout",
     "output_type": "stream",
     "text": [
      "Epoch 9/16, Train-Loss: 0.6830, Val-Loss: 0.6808, Val-F1: 0.6981, Val-Precision: 0.5977, Val-Recall: 0.8389, Val-Accuracy: 0.6267\n"
     ]
    },
    {
     "name": "stderr",
     "output_type": "stream",
     "text": [
      "Training progress: 100%|██████████| 304/304 [00:42<00:00,  7.09batch/s]\n"
     ]
    },
    {
     "name": "stdout",
     "output_type": "stream",
     "text": [
      "Epoch 10/16, Train-Loss: 0.6819, Val-Loss: 0.6796, Val-F1: 0.6935, Val-Precision: 0.5993, Val-Recall: 0.8230, Val-Accuracy: 0.6259\n"
     ]
    },
    {
     "name": "stderr",
     "output_type": "stream",
     "text": [
      "Training progress: 100%|██████████| 304/304 [00:42<00:00,  7.07batch/s]\n"
     ]
    },
    {
     "name": "stdout",
     "output_type": "stream",
     "text": [
      "Epoch 11/16, Train-Loss: 0.6807, Val-Loss: 0.6783, Val-F1: 0.6924, Val-Precision: 0.6019, Val-Recall: 0.8150, Val-Accuracy: 0.6276\n"
     ]
    },
    {
     "name": "stderr",
     "output_type": "stream",
     "text": [
      "Training progress: 100%|██████████| 304/304 [00:42<00:00,  7.11batch/s]\n"
     ]
    },
    {
     "name": "stdout",
     "output_type": "stream",
     "text": [
      "Epoch 12/16, Train-Loss: 0.6797, Val-Loss: 0.6772, Val-F1: 0.6948, Val-Precision: 0.6055, Val-Recall: 0.8150, Val-Accuracy: 0.6317\n"
     ]
    },
    {
     "name": "stderr",
     "output_type": "stream",
     "text": [
      "Training progress: 100%|██████████| 304/304 [00:42<00:00,  7.12batch/s]\n"
     ]
    },
    {
     "name": "stdout",
     "output_type": "stream",
     "text": [
      "Epoch 13/16, Train-Loss: 0.6787, Val-Loss: 0.6762, Val-F1: 0.6935, Val-Precision: 0.6062, Val-Recall: 0.8102, Val-Accuracy: 0.6317\n"
     ]
    },
    {
     "name": "stderr",
     "output_type": "stream",
     "text": [
      "Training progress: 100%|██████████| 304/304 [00:42<00:00,  7.11batch/s]\n"
     ]
    },
    {
     "name": "stdout",
     "output_type": "stream",
     "text": [
      "Epoch 14/16, Train-Loss: 0.6780, Val-Loss: 0.6752, Val-F1: 0.6945, Val-Precision: 0.6086, Val-Recall: 0.8086, Val-Accuracy: 0.6341\n"
     ]
    },
    {
     "name": "stderr",
     "output_type": "stream",
     "text": [
      "Training progress: 100%|██████████| 304/304 [00:42<00:00,  7.10batch/s]\n"
     ]
    },
    {
     "name": "stdout",
     "output_type": "stream",
     "text": [
      "Epoch 15/16, Train-Loss: 0.6772, Val-Loss: 0.6743, Val-F1: 0.6936, Val-Precision: 0.6072, Val-Recall: 0.8086, Val-Accuracy: 0.6325\n"
     ]
    },
    {
     "name": "stderr",
     "output_type": "stream",
     "text": [
      "Training progress: 100%|██████████| 304/304 [00:42<00:00,  7.09batch/s]\n"
     ]
    },
    {
     "name": "stdout",
     "output_type": "stream",
     "text": [
      "Epoch 16/16, Train-Loss: 0.6765, Val-Loss: 0.6734, Val-F1: 0.6947, Val-Precision: 0.6117, Val-Recall: 0.8038, Val-Accuracy: 0.6366\n",
      "\n",
      "\u001b[92mRESULTS:\n",
      " F1-Score:0.6842105263157895, Precision:0.6039119804400978, Recall:0.7891373801916933, Accuracy:0.625615763546798, BCE:0.6747953295707703 \u001b[0m \n",
      "\n",
      "\n",
      "\u001b[91mRUN 61:\u001b[0m\n",
      " Anusha2024Circuit \n",
      " lr: 0.01\n"
     ]
    },
    {
     "name": "stderr",
     "output_type": "stream",
     "text": [
      "Training progress: 100%|██████████| 304/304 [00:18<00:00, 16.55batch/s]\n"
     ]
    },
    {
     "name": "stdout",
     "output_type": "stream",
     "text": [
      "Epoch 1/16, Train-Loss: 0.6861, Val-Loss: 0.6798, Val-F1: 0.6812, Val-Precision: 0.5690, Val-Recall: 0.8485, Val-Accuracy: 0.5915\n"
     ]
    },
    {
     "name": "stderr",
     "output_type": "stream",
     "text": [
      "Training progress: 100%|██████████| 304/304 [00:18<00:00, 16.56batch/s]\n"
     ]
    },
    {
     "name": "stdout",
     "output_type": "stream",
     "text": [
      "Epoch 2/16, Train-Loss: 0.6838, Val-Loss: 0.6772, Val-F1: 0.6593, Val-Precision: 0.5808, Val-Recall: 0.7624, Val-Accuracy: 0.5947\n"
     ]
    },
    {
     "name": "stderr",
     "output_type": "stream",
     "text": [
      "Training progress: 100%|██████████| 304/304 [00:18<00:00, 16.50batch/s]\n"
     ]
    },
    {
     "name": "stdout",
     "output_type": "stream",
     "text": [
      "Epoch 3/16, Train-Loss: 0.6830, Val-Loss: 0.6763, Val-F1: 0.6868, Val-Precision: 0.5670, Val-Recall: 0.8708, Val-Accuracy: 0.5915\n"
     ]
    },
    {
     "name": "stderr",
     "output_type": "stream",
     "text": [
      "Training progress: 100%|██████████| 304/304 [00:18<00:00, 16.49batch/s]\n"
     ]
    },
    {
     "name": "stdout",
     "output_type": "stream",
     "text": [
      "Epoch 4/16, Train-Loss: 0.6827, Val-Loss: 0.6760, Val-F1: 0.6013, Val-Precision: 0.5965, Val-Recall: 0.6061, Val-Accuracy: 0.5865\n"
     ]
    },
    {
     "name": "stderr",
     "output_type": "stream",
     "text": [
      "Training progress: 100%|██████████| 304/304 [00:18<00:00, 16.54batch/s]\n"
     ]
    },
    {
     "name": "stdout",
     "output_type": "stream",
     "text": [
      "Epoch 5/16, Train-Loss: 0.6823, Val-Loss: 0.6743, Val-F1: 0.6538, Val-Precision: 0.5938, Val-Recall: 0.7273, Val-Accuracy: 0.6038\n"
     ]
    },
    {
     "name": "stderr",
     "output_type": "stream",
     "text": [
      "Training progress: 100%|██████████| 304/304 [00:18<00:00, 16.58batch/s]\n"
     ]
    },
    {
     "name": "stdout",
     "output_type": "stream",
     "text": [
      "Epoch 6/16, Train-Loss: 0.6824, Val-Loss: 0.6738, Val-F1: 0.6606, Val-Precision: 0.5885, Val-Recall: 0.7528, Val-Accuracy: 0.6021\n"
     ]
    },
    {
     "name": "stderr",
     "output_type": "stream",
     "text": [
      "Training progress: 100%|██████████| 304/304 [00:18<00:00, 16.55batch/s]\n"
     ]
    },
    {
     "name": "stdout",
     "output_type": "stream",
     "text": [
      "Epoch 7/16, Train-Loss: 0.6822, Val-Loss: 0.6736, Val-F1: 0.6608, Val-Precision: 0.5767, Val-Recall: 0.7735, Val-Accuracy: 0.5915\n"
     ]
    },
    {
     "name": "stderr",
     "output_type": "stream",
     "text": [
      "Training progress: 100%|██████████| 304/304 [00:18<00:00, 16.60batch/s]\n"
     ]
    },
    {
     "name": "stdout",
     "output_type": "stream",
     "text": [
      "Epoch 8/16, Train-Loss: 0.6821, Val-Loss: 0.6734, Val-F1: 0.6558, Val-Precision: 0.5908, Val-Recall: 0.7368, Val-Accuracy: 0.6021\n"
     ]
    },
    {
     "name": "stderr",
     "output_type": "stream",
     "text": [
      "Training progress: 100%|██████████| 304/304 [00:18<00:00, 16.54batch/s]\n"
     ]
    },
    {
     "name": "stdout",
     "output_type": "stream",
     "text": [
      "Epoch 9/16, Train-Loss: 0.6823, Val-Loss: 0.6735, Val-F1: 0.6404, Val-Precision: 0.5901, Val-Recall: 0.7002, Val-Accuracy: 0.5956\n"
     ]
    },
    {
     "name": "stderr",
     "output_type": "stream",
     "text": [
      "Training progress: 100%|██████████| 304/304 [00:18<00:00, 16.56batch/s]\n"
     ]
    },
    {
     "name": "stdout",
     "output_type": "stream",
     "text": [
      "Epoch 10/16, Train-Loss: 0.6822, Val-Loss: 0.6733, Val-F1: 0.6523, Val-Precision: 0.5935, Val-Recall: 0.7241, Val-Accuracy: 0.6030\n"
     ]
    },
    {
     "name": "stderr",
     "output_type": "stream",
     "text": [
      "Training progress: 100%|██████████| 304/304 [00:18<00:00, 16.52batch/s]\n"
     ]
    },
    {
     "name": "stdout",
     "output_type": "stream",
     "text": [
      "Epoch 11/16, Train-Loss: 0.6819, Val-Loss: 0.6735, Val-F1: 0.6698, Val-Precision: 0.5724, Val-Recall: 0.8070, Val-Accuracy: 0.5906\n"
     ]
    },
    {
     "name": "stderr",
     "output_type": "stream",
     "text": [
      "Training progress: 100%|██████████| 304/304 [00:18<00:00, 16.56batch/s]\n"
     ]
    },
    {
     "name": "stdout",
     "output_type": "stream",
     "text": [
      "Epoch 12/16, Train-Loss: 0.6823, Val-Loss: 0.6731, Val-F1: 0.6598, Val-Precision: 0.5806, Val-Recall: 0.7640, Val-Accuracy: 0.5947\n"
     ]
    },
    {
     "name": "stderr",
     "output_type": "stream",
     "text": [
      "Training progress: 100%|██████████| 304/304 [00:18<00:00, 16.48batch/s]\n"
     ]
    },
    {
     "name": "stdout",
     "output_type": "stream",
     "text": [
      "Epoch 13/16, Train-Loss: 0.6822, Val-Loss: 0.6731, Val-F1: 0.6589, Val-Precision: 0.5783, Val-Recall: 0.7656, Val-Accuracy: 0.5923\n"
     ]
    },
    {
     "name": "stderr",
     "output_type": "stream",
     "text": [
      "Training progress: 100%|██████████| 304/304 [00:18<00:00, 16.53batch/s]\n"
     ]
    },
    {
     "name": "stdout",
     "output_type": "stream",
     "text": [
      "Epoch 14/16, Train-Loss: 0.6821, Val-Loss: 0.6734, Val-F1: 0.6373, Val-Precision: 0.5905, Val-Recall: 0.6922, Val-Accuracy: 0.5947\n"
     ]
    },
    {
     "name": "stderr",
     "output_type": "stream",
     "text": [
      "Training progress: 100%|██████████| 304/304 [00:18<00:00, 16.54batch/s]\n"
     ]
    },
    {
     "name": "stdout",
     "output_type": "stream",
     "text": [
      "Epoch 15/16, Train-Loss: 0.6824, Val-Loss: 0.6733, Val-F1: 0.6424, Val-Precision: 0.5901, Val-Recall: 0.7049, Val-Accuracy: 0.5964\n"
     ]
    },
    {
     "name": "stderr",
     "output_type": "stream",
     "text": [
      "Training progress: 100%|██████████| 304/304 [00:18<00:00, 16.53batch/s]\n"
     ]
    },
    {
     "name": "stdout",
     "output_type": "stream",
     "text": [
      "Epoch 16/16, Train-Loss: 0.6822, Val-Loss: 0.6733, Val-F1: 0.6604, Val-Precision: 0.5701, Val-Recall: 0.7847, Val-Accuracy: 0.5849\n",
      "\n",
      "\u001b[92mRESULTS:\n",
      " F1-Score:0.6566961250849762, Precision:0.5715976331360947, Recall:0.7715654952076677, Accuracy:0.5853858784893268, BCE:0.6769751906394958 \u001b[0m \n",
      "\n",
      "\n",
      "\u001b[91mRUN 62:\u001b[0m\n",
      " Anusha2024Circuit \n",
      " lr: 0.001\n"
     ]
    },
    {
     "name": "stderr",
     "output_type": "stream",
     "text": [
      "Training progress: 100%|██████████| 304/304 [00:18<00:00, 16.48batch/s]\n"
     ]
    },
    {
     "name": "stdout",
     "output_type": "stream",
     "text": [
      "Epoch 1/16, Train-Loss: 0.6888, Val-Loss: 0.6848, Val-F1: 0.6631, Val-Precision: 0.5708, Val-Recall: 0.7911, Val-Accuracy: 0.5865\n"
     ]
    },
    {
     "name": "stderr",
     "output_type": "stream",
     "text": [
      "Training progress: 100%|██████████| 304/304 [00:18<00:00, 16.49batch/s]\n"
     ]
    },
    {
     "name": "stdout",
     "output_type": "stream",
     "text": [
      "Epoch 2/16, Train-Loss: 0.6870, Val-Loss: 0.6838, Val-F1: 0.6849, Val-Precision: 0.5692, Val-Recall: 0.8596, Val-Accuracy: 0.5931\n"
     ]
    },
    {
     "name": "stderr",
     "output_type": "stream",
     "text": [
      "Training progress: 100%|██████████| 304/304 [00:18<00:00, 16.46batch/s]\n"
     ]
    },
    {
     "name": "stdout",
     "output_type": "stream",
     "text": [
      "Epoch 3/16, Train-Loss: 0.6865, Val-Loss: 0.6831, Val-F1: 0.6886, Val-Precision: 0.5642, Val-Recall: 0.8836, Val-Accuracy: 0.5890\n"
     ]
    },
    {
     "name": "stderr",
     "output_type": "stream",
     "text": [
      "Training progress: 100%|██████████| 304/304 [00:18<00:00, 16.47batch/s]\n"
     ]
    },
    {
     "name": "stdout",
     "output_type": "stream",
     "text": [
      "Epoch 4/16, Train-Loss: 0.6862, Val-Loss: 0.6825, Val-F1: 0.6878, Val-Precision: 0.5637, Val-Recall: 0.8820, Val-Accuracy: 0.5882\n"
     ]
    },
    {
     "name": "stderr",
     "output_type": "stream",
     "text": [
      "Training progress: 100%|██████████| 304/304 [00:18<00:00, 16.40batch/s]\n"
     ]
    },
    {
     "name": "stdout",
     "output_type": "stream",
     "text": [
      "Epoch 5/16, Train-Loss: 0.6858, Val-Loss: 0.6820, Val-F1: 0.6865, Val-Precision: 0.5686, Val-Recall: 0.8660, Val-Accuracy: 0.5931\n"
     ]
    },
    {
     "name": "stderr",
     "output_type": "stream",
     "text": [
      "Training progress: 100%|██████████| 304/304 [00:18<00:00, 16.47batch/s]\n"
     ]
    },
    {
     "name": "stdout",
     "output_type": "stream",
     "text": [
      "Epoch 6/16, Train-Loss: 0.6855, Val-Loss: 0.6816, Val-F1: 0.6800, Val-Precision: 0.5710, Val-Recall: 0.8405, Val-Accuracy: 0.5931\n"
     ]
    },
    {
     "name": "stderr",
     "output_type": "stream",
     "text": [
      "Training progress: 100%|██████████| 304/304 [00:18<00:00, 16.49batch/s]\n"
     ]
    },
    {
     "name": "stdout",
     "output_type": "stream",
     "text": [
      "Epoch 7/16, Train-Loss: 0.6852, Val-Loss: 0.6811, Val-F1: 0.6791, Val-Precision: 0.5705, Val-Recall: 0.8389, Val-Accuracy: 0.5923\n"
     ]
    },
    {
     "name": "stderr",
     "output_type": "stream",
     "text": [
      "Training progress: 100%|██████████| 304/304 [00:18<00:00, 16.49batch/s]\n"
     ]
    },
    {
     "name": "stdout",
     "output_type": "stream",
     "text": [
      "Epoch 8/16, Train-Loss: 0.6849, Val-Loss: 0.6806, Val-F1: 0.6808, Val-Precision: 0.5699, Val-Recall: 0.8453, Val-Accuracy: 0.5923\n"
     ]
    },
    {
     "name": "stderr",
     "output_type": "stream",
     "text": [
      "Training progress: 100%|██████████| 304/304 [00:18<00:00, 16.46batch/s]\n"
     ]
    },
    {
     "name": "stdout",
     "output_type": "stream",
     "text": [
      "Epoch 9/16, Train-Loss: 0.6848, Val-Loss: 0.6803, Val-F1: 0.6775, Val-Precision: 0.5711, Val-Recall: 0.8325, Val-Accuracy: 0.5923\n"
     ]
    },
    {
     "name": "stderr",
     "output_type": "stream",
     "text": [
      "Training progress: 100%|██████████| 304/304 [00:18<00:00, 16.45batch/s]\n"
     ]
    },
    {
     "name": "stdout",
     "output_type": "stream",
     "text": [
      "Epoch 10/16, Train-Loss: 0.6845, Val-Loss: 0.6799, Val-F1: 0.6732, Val-Precision: 0.5711, Val-Recall: 0.8198, Val-Accuracy: 0.5906\n"
     ]
    },
    {
     "name": "stderr",
     "output_type": "stream",
     "text": [
      "Training progress: 100%|██████████| 304/304 [00:18<00:00, 16.46batch/s]\n"
     ]
    },
    {
     "name": "stdout",
     "output_type": "stream",
     "text": [
      "Epoch 11/16, Train-Loss: 0.6842, Val-Loss: 0.6795, Val-F1: 0.6719, Val-Precision: 0.5724, Val-Recall: 0.8134, Val-Accuracy: 0.5915\n"
     ]
    },
    {
     "name": "stderr",
     "output_type": "stream",
     "text": [
      "Training progress: 100%|██████████| 304/304 [00:18<00:00, 16.45batch/s]\n"
     ]
    },
    {
     "name": "stdout",
     "output_type": "stream",
     "text": [
      "Epoch 12/16, Train-Loss: 0.6841, Val-Loss: 0.6792, Val-F1: 0.6719, Val-Precision: 0.5724, Val-Recall: 0.8134, Val-Accuracy: 0.5915\n"
     ]
    },
    {
     "name": "stderr",
     "output_type": "stream",
     "text": [
      "Training progress: 100%|██████████| 304/304 [00:18<00:00, 16.44batch/s]\n"
     ]
    },
    {
     "name": "stdout",
     "output_type": "stream",
     "text": [
      "Epoch 13/16, Train-Loss: 0.6839, Val-Loss: 0.6789, Val-F1: 0.6698, Val-Precision: 0.5724, Val-Recall: 0.8070, Val-Accuracy: 0.5906\n"
     ]
    },
    {
     "name": "stderr",
     "output_type": "stream",
     "text": [
      "Training progress: 100%|██████████| 304/304 [00:18<00:00, 16.50batch/s]\n"
     ]
    },
    {
     "name": "stdout",
     "output_type": "stream",
     "text": [
      "Epoch 14/16, Train-Loss: 0.6838, Val-Loss: 0.6786, Val-F1: 0.6693, Val-Precision: 0.5726, Val-Recall: 0.8054, Val-Accuracy: 0.5906\n"
     ]
    },
    {
     "name": "stderr",
     "output_type": "stream",
     "text": [
      "Training progress: 100%|██████████| 304/304 [00:18<00:00, 16.45batch/s]\n"
     ]
    },
    {
     "name": "stdout",
     "output_type": "stream",
     "text": [
      "Epoch 15/16, Train-Loss: 0.6837, Val-Loss: 0.6783, Val-F1: 0.6698, Val-Precision: 0.5724, Val-Recall: 0.8070, Val-Accuracy: 0.5906\n"
     ]
    },
    {
     "name": "stderr",
     "output_type": "stream",
     "text": [
      "Training progress: 100%|██████████| 304/304 [00:18<00:00, 16.44batch/s]\n"
     ]
    },
    {
     "name": "stdout",
     "output_type": "stream",
     "text": [
      "Epoch 16/16, Train-Loss: 0.6836, Val-Loss: 0.6780, Val-F1: 0.6649, Val-Precision: 0.5718, Val-Recall: 0.7943, Val-Accuracy: 0.5882\n",
      "\n",
      "\u001b[92mRESULTS:\n",
      " F1-Score:0.6567366283006093, Precision:0.5699177438307873, Recall:0.7747603833865815, Accuracy:0.583743842364532, BCE:0.6801297068595886 \u001b[0m \n",
      "\n",
      "\n",
      "\u001b[91mRUN 63:\u001b[0m\n",
      " DoubleEntanglementVLCircuit \n",
      " lr: 0.01\n"
     ]
    },
    {
     "name": "stderr",
     "output_type": "stream",
     "text": [
      "Training progress: 100%|██████████| 304/304 [00:24<00:00, 12.40batch/s]\n"
     ]
    },
    {
     "name": "stdout",
     "output_type": "stream",
     "text": [
      "Epoch 1/16, Train-Loss: 0.6684, Val-Loss: 0.6369, Val-F1: 0.7946, Val-Precision: 0.6663, Val-Recall: 0.9841, Val-Accuracy: 0.7383\n"
     ]
    },
    {
     "name": "stderr",
     "output_type": "stream",
     "text": [
      "Training progress: 100%|██████████| 304/304 [00:24<00:00, 12.40batch/s]\n"
     ]
    },
    {
     "name": "stdout",
     "output_type": "stream",
     "text": [
      "Epoch 2/16, Train-Loss: 0.6110, Val-Loss: 0.5872, Val-F1: 0.8309, Val-Precision: 0.7370, Val-Recall: 0.9522, Val-Accuracy: 0.8007\n"
     ]
    },
    {
     "name": "stderr",
     "output_type": "stream",
     "text": [
      "Training progress: 100%|██████████| 304/304 [00:24<00:00, 12.43batch/s]\n"
     ]
    },
    {
     "name": "stdout",
     "output_type": "stream",
     "text": [
      "Epoch 3/16, Train-Loss: 0.5677, Val-Loss: 0.5496, Val-F1: 0.8255, Val-Precision: 0.7230, Val-Recall: 0.9617, Val-Accuracy: 0.7908\n"
     ]
    },
    {
     "name": "stderr",
     "output_type": "stream",
     "text": [
      "Training progress: 100%|██████████| 304/304 [00:24<00:00, 12.37batch/s]\n"
     ]
    },
    {
     "name": "stdout",
     "output_type": "stream",
     "text": [
      "Epoch 4/16, Train-Loss: 0.5349, Val-Loss: 0.5209, Val-F1: 0.8481, Val-Precision: 0.7730, Val-Recall: 0.9394, Val-Accuracy: 0.8269\n"
     ]
    },
    {
     "name": "stderr",
     "output_type": "stream",
     "text": [
      "Training progress: 100%|██████████| 304/304 [00:24<00:00, 12.41batch/s]\n"
     ]
    },
    {
     "name": "stdout",
     "output_type": "stream",
     "text": [
      "Epoch 5/16, Train-Loss: 0.5092, Val-Loss: 0.4982, Val-F1: 0.8503, Val-Precision: 0.7778, Val-Recall: 0.9378, Val-Accuracy: 0.8302\n"
     ]
    },
    {
     "name": "stderr",
     "output_type": "stream",
     "text": [
      "Training progress: 100%|██████████| 304/304 [00:24<00:00, 12.43batch/s]\n"
     ]
    },
    {
     "name": "stdout",
     "output_type": "stream",
     "text": [
      "Epoch 6/16, Train-Loss: 0.4891, Val-Loss: 0.4800, Val-F1: 0.8481, Val-Precision: 0.7730, Val-Recall: 0.9394, Val-Accuracy: 0.8269\n"
     ]
    },
    {
     "name": "stderr",
     "output_type": "stream",
     "text": [
      "Training progress: 100%|██████████| 304/304 [00:24<00:00, 12.40batch/s]\n"
     ]
    },
    {
     "name": "stdout",
     "output_type": "stream",
     "text": [
      "Epoch 7/16, Train-Loss: 0.4726, Val-Loss: 0.4654, Val-F1: 0.8485, Val-Precision: 0.7747, Val-Recall: 0.9378, Val-Accuracy: 0.8277\n"
     ]
    },
    {
     "name": "stderr",
     "output_type": "stream",
     "text": [
      "Training progress: 100%|██████████| 304/304 [00:24<00:00, 12.41batch/s]\n"
     ]
    },
    {
     "name": "stdout",
     "output_type": "stream",
     "text": [
      "Epoch 8/16, Train-Loss: 0.4596, Val-Loss: 0.4538, Val-F1: 0.8507, Val-Precision: 0.7828, Val-Recall: 0.9314, Val-Accuracy: 0.8318\n"
     ]
    },
    {
     "name": "stderr",
     "output_type": "stream",
     "text": [
      "Training progress: 100%|██████████| 304/304 [00:24<00:00, 12.45batch/s]\n"
     ]
    },
    {
     "name": "stdout",
     "output_type": "stream",
     "text": [
      "Epoch 9/16, Train-Loss: 0.4488, Val-Loss: 0.4444, Val-F1: 0.8513, Val-Precision: 0.7907, Val-Recall: 0.9219, Val-Accuracy: 0.8343\n"
     ]
    },
    {
     "name": "stderr",
     "output_type": "stream",
     "text": [
      "Training progress: 100%|██████████| 304/304 [00:24<00:00, 12.43batch/s]\n"
     ]
    },
    {
     "name": "stdout",
     "output_type": "stream",
     "text": [
      "Epoch 10/16, Train-Loss: 0.4392, Val-Loss: 0.4361, Val-F1: 0.8506, Val-Precision: 0.7896, Val-Recall: 0.9219, Val-Accuracy: 0.8335\n"
     ]
    },
    {
     "name": "stderr",
     "output_type": "stream",
     "text": [
      "Training progress: 100%|██████████| 304/304 [00:24<00:00, 12.43batch/s]\n"
     ]
    },
    {
     "name": "stdout",
     "output_type": "stream",
     "text": [
      "Epoch 11/16, Train-Loss: 0.4320, Val-Loss: 0.4292, Val-F1: 0.8515, Val-Precision: 0.7899, Val-Recall: 0.9234, Val-Accuracy: 0.8343\n"
     ]
    },
    {
     "name": "stderr",
     "output_type": "stream",
     "text": [
      "Training progress: 100%|██████████| 304/304 [00:24<00:00, 12.43batch/s]\n"
     ]
    },
    {
     "name": "stdout",
     "output_type": "stream",
     "text": [
      "Epoch 12/16, Train-Loss: 0.4256, Val-Loss: 0.4235, Val-F1: 0.8513, Val-Precision: 0.7907, Val-Recall: 0.9219, Val-Accuracy: 0.8343\n"
     ]
    },
    {
     "name": "stderr",
     "output_type": "stream",
     "text": [
      "Training progress: 100%|██████████| 304/304 [00:24<00:00, 12.40batch/s]\n"
     ]
    },
    {
     "name": "stdout",
     "output_type": "stream",
     "text": [
      "Epoch 13/16, Train-Loss: 0.4202, Val-Loss: 0.4189, Val-F1: 0.8489, Val-Precision: 0.7925, Val-Recall: 0.9139, Val-Accuracy: 0.8326\n"
     ]
    },
    {
     "name": "stderr",
     "output_type": "stream",
     "text": [
      "Training progress: 100%|██████████| 304/304 [00:24<00:00, 12.44batch/s]\n"
     ]
    },
    {
     "name": "stdout",
     "output_type": "stream",
     "text": [
      "Epoch 14/16, Train-Loss: 0.4153, Val-Loss: 0.4148, Val-F1: 0.8472, Val-Precision: 0.7920, Val-Recall: 0.9107, Val-Accuracy: 0.8310\n"
     ]
    },
    {
     "name": "stderr",
     "output_type": "stream",
     "text": [
      "Training progress: 100%|██████████| 304/304 [00:24<00:00, 12.45batch/s]\n"
     ]
    },
    {
     "name": "stdout",
     "output_type": "stream",
     "text": [
      "Epoch 15/16, Train-Loss: 0.4117, Val-Loss: 0.4118, Val-F1: 0.8467, Val-Precision: 0.7972, Val-Recall: 0.9027, Val-Accuracy: 0.8318\n"
     ]
    },
    {
     "name": "stderr",
     "output_type": "stream",
     "text": [
      "Training progress: 100%|██████████| 304/304 [00:24<00:00, 12.41batch/s]\n"
     ]
    },
    {
     "name": "stdout",
     "output_type": "stream",
     "text": [
      "Epoch 16/16, Train-Loss: 0.4081, Val-Loss: 0.4084, Val-F1: 0.8472, Val-Precision: 0.7920, Val-Recall: 0.9107, Val-Accuracy: 0.8310\n",
      "\n",
      "\u001b[92mRESULTS:\n",
      " F1-Score:0.8496350364963504, Precision:0.782258064516129, Recall:0.9297124600638977, Accuracy:0.8308702791461412, BCE:0.40285971760749817 \u001b[0m \n",
      "\n",
      "\n",
      "\u001b[91mRUN 64:\u001b[0m\n",
      " DoubleEntanglementVLCircuit \n",
      " lr: 0.001\n"
     ]
    },
    {
     "name": "stderr",
     "output_type": "stream",
     "text": [
      "Training progress: 100%|██████████| 304/304 [00:24<00:00, 12.46batch/s]\n"
     ]
    },
    {
     "name": "stdout",
     "output_type": "stream",
     "text": [
      "Epoch 1/16, Train-Loss: 0.7064, Val-Loss: 0.6968, Val-F1: 0.0000, Val-Precision: 0.0000, Val-Recall: 0.0000, Val-Accuracy: 0.4856\n"
     ]
    },
    {
     "name": "stderr",
     "output_type": "stream",
     "text": [
      "Training progress: 100%|██████████| 304/304 [00:24<00:00, 12.46batch/s]\n"
     ]
    },
    {
     "name": "stdout",
     "output_type": "stream",
     "text": [
      "Epoch 2/16, Train-Loss: 0.6915, Val-Loss: 0.6869, Val-F1: 0.8209, Val-Precision: 0.7143, Val-Recall: 0.9649, Val-Accuracy: 0.7834\n"
     ]
    },
    {
     "name": "stderr",
     "output_type": "stream",
     "text": [
      "Training progress: 100%|██████████| 304/304 [00:24<00:00, 12.41batch/s]\n"
     ]
    },
    {
     "name": "stdout",
     "output_type": "stream",
     "text": [
      "Epoch 3/16, Train-Loss: 0.6833, Val-Loss: 0.6798, Val-F1: 0.7229, Val-Precision: 0.5665, Val-Recall: 0.9984, Val-Accuracy: 0.6062\n"
     ]
    },
    {
     "name": "stderr",
     "output_type": "stream",
     "text": [
      "Training progress: 100%|██████████| 304/304 [00:24<00:00, 12.46batch/s]\n"
     ]
    },
    {
     "name": "stdout",
     "output_type": "stream",
     "text": [
      "Epoch 4/16, Train-Loss: 0.6767, Val-Loss: 0.6734, Val-F1: 0.7279, Val-Precision: 0.5727, Val-Recall: 0.9984, Val-Accuracy: 0.6161\n"
     ]
    },
    {
     "name": "stderr",
     "output_type": "stream",
     "text": [
      "Training progress: 100%|██████████| 304/304 [00:24<00:00, 12.47batch/s]\n"
     ]
    },
    {
     "name": "stdout",
     "output_type": "stream",
     "text": [
      "Epoch 5/16, Train-Loss: 0.6702, Val-Loss: 0.6671, Val-F1: 0.7476, Val-Precision: 0.5981, Val-Recall: 0.9968, Val-Accuracy: 0.6538\n"
     ]
    },
    {
     "name": "stderr",
     "output_type": "stream",
     "text": [
      "Training progress: 100%|██████████| 304/304 [00:24<00:00, 12.44batch/s]\n"
     ]
    },
    {
     "name": "stdout",
     "output_type": "stream",
     "text": [
      "Epoch 6/16, Train-Loss: 0.6639, Val-Loss: 0.6607, Val-F1: 0.7641, Val-Precision: 0.6214, Val-Recall: 0.9920, Val-Accuracy: 0.6850\n"
     ]
    },
    {
     "name": "stderr",
     "output_type": "stream",
     "text": [
      "Training progress: 100%|██████████| 304/304 [00:24<00:00, 12.47batch/s]\n"
     ]
    },
    {
     "name": "stdout",
     "output_type": "stream",
     "text": [
      "Epoch 7/16, Train-Loss: 0.6575, Val-Loss: 0.6544, Val-F1: 0.7769, Val-Precision: 0.6398, Val-Recall: 0.9888, Val-Accuracy: 0.7080\n"
     ]
    },
    {
     "name": "stderr",
     "output_type": "stream",
     "text": [
      "Training progress: 100%|██████████| 304/304 [00:24<00:00, 12.45batch/s]\n"
     ]
    },
    {
     "name": "stdout",
     "output_type": "stream",
     "text": [
      "Epoch 8/16, Train-Loss: 0.6513, Val-Loss: 0.6482, Val-F1: 0.7840, Val-Precision: 0.6502, Val-Recall: 0.9872, Val-Accuracy: 0.7203\n"
     ]
    },
    {
     "name": "stderr",
     "output_type": "stream",
     "text": [
      "Training progress: 100%|██████████| 304/304 [00:24<00:00, 12.38batch/s]\n"
     ]
    },
    {
     "name": "stdout",
     "output_type": "stream",
     "text": [
      "Epoch 9/16, Train-Loss: 0.6452, Val-Loss: 0.6421, Val-F1: 0.7920, Val-Precision: 0.6627, Val-Recall: 0.9841, Val-Accuracy: 0.7342\n"
     ]
    },
    {
     "name": "stderr",
     "output_type": "stream",
     "text": [
      "Training progress: 100%|██████████| 304/304 [00:24<00:00, 12.42batch/s]\n"
     ]
    },
    {
     "name": "stdout",
     "output_type": "stream",
     "text": [
      "Epoch 10/16, Train-Loss: 0.6390, Val-Loss: 0.6361, Val-F1: 0.7966, Val-Precision: 0.6707, Val-Recall: 0.9809, Val-Accuracy: 0.7424\n"
     ]
    },
    {
     "name": "stderr",
     "output_type": "stream",
     "text": [
      "Training progress: 100%|██████████| 304/304 [00:24<00:00, 12.39batch/s]\n"
     ]
    },
    {
     "name": "stdout",
     "output_type": "stream",
     "text": [
      "Epoch 11/16, Train-Loss: 0.6331, Val-Loss: 0.6302, Val-F1: 0.8050, Val-Precision: 0.6857, Val-Recall: 0.9745, Val-Accuracy: 0.7572\n"
     ]
    },
    {
     "name": "stderr",
     "output_type": "stream",
     "text": [
      "Training progress: 100%|██████████| 304/304 [00:24<00:00, 12.41batch/s]\n"
     ]
    },
    {
     "name": "stdout",
     "output_type": "stream",
     "text": [
      "Epoch 12/16, Train-Loss: 0.6273, Val-Loss: 0.6244, Val-F1: 0.8077, Val-Precision: 0.6896, Val-Recall: 0.9745, Val-Accuracy: 0.7613\n"
     ]
    },
    {
     "name": "stderr",
     "output_type": "stream",
     "text": [
      "Training progress: 100%|██████████| 304/304 [00:24<00:00, 12.43batch/s]\n"
     ]
    },
    {
     "name": "stdout",
     "output_type": "stream",
     "text": [
      "Epoch 13/16, Train-Loss: 0.6216, Val-Loss: 0.6188, Val-F1: 0.8107, Val-Precision: 0.6964, Val-Recall: 0.9697, Val-Accuracy: 0.7670\n"
     ]
    },
    {
     "name": "stderr",
     "output_type": "stream",
     "text": [
      "Training progress: 100%|██████████| 304/304 [00:24<00:00, 12.39batch/s]\n"
     ]
    },
    {
     "name": "stdout",
     "output_type": "stream",
     "text": [
      "Epoch 14/16, Train-Loss: 0.6161, Val-Loss: 0.6134, Val-F1: 0.8145, Val-Precision: 0.7021, Val-Recall: 0.9697, Val-Accuracy: 0.7728\n"
     ]
    },
    {
     "name": "stderr",
     "output_type": "stream",
     "text": [
      "Training progress: 100%|██████████| 304/304 [00:24<00:00, 12.43batch/s]\n"
     ]
    },
    {
     "name": "stdout",
     "output_type": "stream",
     "text": [
      "Epoch 15/16, Train-Loss: 0.6107, Val-Loss: 0.6080, Val-F1: 0.8167, Val-Precision: 0.7053, Val-Recall: 0.9697, Val-Accuracy: 0.7760\n"
     ]
    },
    {
     "name": "stderr",
     "output_type": "stream",
     "text": [
      "Training progress: 100%|██████████| 304/304 [00:24<00:00, 12.40batch/s]\n"
     ]
    },
    {
     "name": "stdout",
     "output_type": "stream",
     "text": [
      "Epoch 16/16, Train-Loss: 0.6054, Val-Loss: 0.6028, Val-F1: 0.8187, Val-Precision: 0.7109, Val-Recall: 0.9649, Val-Accuracy: 0.7801\n",
      "\n",
      "\u001b[92mRESULTS:\n",
      " F1-Score:0.8169014084507042, Precision:0.7040462427745665, Recall:0.9728434504792333, Accuracy:0.7758620689655172, BCE:0.5994060039520264 \u001b[0m \n",
      "\n",
      "\n",
      "\u001b[91mRUN 65:\u001b[0m\n",
      " Ranga2024Circuit \n",
      " lr: 0.01\n"
     ]
    },
    {
     "name": "stderr",
     "output_type": "stream",
     "text": [
      "Training progress: 100%|██████████| 304/304 [01:03<00:00,  4.80batch/s]\n"
     ]
    },
    {
     "name": "stdout",
     "output_type": "stream",
     "text": [
      "Epoch 1/16, Train-Loss: 0.6364, Val-Loss: 0.5826, Val-F1: 0.7948, Val-Precision: 0.8086, Val-Recall: 0.7815, Val-Accuracy: 0.7925\n"
     ]
    },
    {
     "name": "stderr",
     "output_type": "stream",
     "text": [
      "Training progress: 100%|██████████| 304/304 [01:03<00:00,  4.80batch/s]\n"
     ]
    },
    {
     "name": "stdout",
     "output_type": "stream",
     "text": [
      "Epoch 2/16, Train-Loss: 0.5591, Val-Loss: 0.5266, Val-F1: 0.7974, Val-Precision: 0.8039, Val-Recall: 0.7911, Val-Accuracy: 0.7933\n"
     ]
    },
    {
     "name": "stderr",
     "output_type": "stream",
     "text": [
      "Training progress: 100%|██████████| 304/304 [01:03<00:00,  4.81batch/s]\n"
     ]
    },
    {
     "name": "stdout",
     "output_type": "stream",
     "text": [
      "Epoch 3/16, Train-Loss: 0.5205, Val-Loss: 0.4985, Val-F1: 0.7981, Val-Precision: 0.8019, Val-Recall: 0.7943, Val-Accuracy: 0.7933\n"
     ]
    },
    {
     "name": "stderr",
     "output_type": "stream",
     "text": [
      "Training progress: 100%|██████████| 304/304 [01:03<00:00,  4.80batch/s]\n"
     ]
    },
    {
     "name": "stdout",
     "output_type": "stream",
     "text": [
      "Epoch 4/16, Train-Loss: 0.5005, Val-Loss: 0.4839, Val-F1: 0.8134, Val-Precision: 0.7936, Val-Recall: 0.8341, Val-Accuracy: 0.8031\n"
     ]
    },
    {
     "name": "stderr",
     "output_type": "stream",
     "text": [
      "Training progress: 100%|██████████| 304/304 [01:03<00:00,  4.80batch/s]\n"
     ]
    },
    {
     "name": "stdout",
     "output_type": "stream",
     "text": [
      "Epoch 5/16, Train-Loss: 0.4890, Val-Loss: 0.4742, Val-F1: 0.8078, Val-Precision: 0.7948, Val-Recall: 0.8214, Val-Accuracy: 0.7990\n"
     ]
    },
    {
     "name": "stderr",
     "output_type": "stream",
     "text": [
      "Training progress: 100%|██████████| 304/304 [01:03<00:00,  4.81batch/s]\n"
     ]
    },
    {
     "name": "stdout",
     "output_type": "stream",
     "text": [
      "Epoch 6/16, Train-Loss: 0.4826, Val-Loss: 0.4690, Val-F1: 0.8025, Val-Precision: 0.8013, Val-Recall: 0.8038, Val-Accuracy: 0.7966\n"
     ]
    },
    {
     "name": "stderr",
     "output_type": "stream",
     "text": [
      "Training progress: 100%|██████████| 304/304 [01:03<00:00,  4.82batch/s]\n"
     ]
    },
    {
     "name": "stdout",
     "output_type": "stream",
     "text": [
      "Epoch 7/16, Train-Loss: 0.4786, Val-Loss: 0.4656, Val-F1: 0.8035, Val-Precision: 0.7984, Val-Recall: 0.8086, Val-Accuracy: 0.7966\n"
     ]
    },
    {
     "name": "stderr",
     "output_type": "stream",
     "text": [
      "Training progress: 100%|██████████| 304/304 [01:03<00:00,  4.80batch/s]\n"
     ]
    },
    {
     "name": "stdout",
     "output_type": "stream",
     "text": [
      "Epoch 8/16, Train-Loss: 0.4759, Val-Loss: 0.4636, Val-F1: 0.8038, Val-Precision: 0.8006, Val-Recall: 0.8070, Val-Accuracy: 0.7974\n"
     ]
    },
    {
     "name": "stderr",
     "output_type": "stream",
     "text": [
      "Training progress: 100%|██████████| 304/304 [01:03<00:00,  4.80batch/s]\n"
     ]
    },
    {
     "name": "stdout",
     "output_type": "stream",
     "text": [
      "Epoch 9/16, Train-Loss: 0.4742, Val-Loss: 0.4625, Val-F1: 0.8025, Val-Precision: 0.8013, Val-Recall: 0.8038, Val-Accuracy: 0.7966\n"
     ]
    },
    {
     "name": "stderr",
     "output_type": "stream",
     "text": [
      "Training progress: 100%|██████████| 304/304 [01:03<00:00,  4.80batch/s]\n"
     ]
    },
    {
     "name": "stdout",
     "output_type": "stream",
     "text": [
      "Epoch 10/16, Train-Loss: 0.4729, Val-Loss: 0.4619, Val-F1: 0.8139, Val-Precision: 0.7889, Val-Recall: 0.8405, Val-Accuracy: 0.8023\n"
     ]
    },
    {
     "name": "stderr",
     "output_type": "stream",
     "text": [
      "Training progress: 100%|██████████| 304/304 [01:03<00:00,  4.80batch/s]\n"
     ]
    },
    {
     "name": "stdout",
     "output_type": "stream",
     "text": [
      "Epoch 11/16, Train-Loss: 0.4728, Val-Loss: 0.4608, Val-F1: 0.8044, Val-Precision: 0.7987, Val-Recall: 0.8102, Val-Accuracy: 0.7974\n"
     ]
    },
    {
     "name": "stderr",
     "output_type": "stream",
     "text": [
      "Training progress: 100%|██████████| 304/304 [01:03<00:00,  4.80batch/s]\n"
     ]
    },
    {
     "name": "stdout",
     "output_type": "stream",
     "text": [
      "Epoch 12/16, Train-Loss: 0.4719, Val-Loss: 0.4604, Val-F1: 0.8140, Val-Precision: 0.7948, Val-Recall: 0.8341, Val-Accuracy: 0.8039\n"
     ]
    },
    {
     "name": "stderr",
     "output_type": "stream",
     "text": [
      "Training progress: 100%|██████████| 304/304 [01:03<00:00,  4.81batch/s]\n"
     ]
    },
    {
     "name": "stdout",
     "output_type": "stream",
     "text": [
      "Epoch 13/16, Train-Loss: 0.4714, Val-Loss: 0.4606, Val-F1: 0.8022, Val-Precision: 0.8022, Val-Recall: 0.8022, Val-Accuracy: 0.7966\n"
     ]
    },
    {
     "name": "stderr",
     "output_type": "stream",
     "text": [
      "Training progress: 100%|██████████| 304/304 [01:03<00:00,  4.81batch/s]\n"
     ]
    },
    {
     "name": "stdout",
     "output_type": "stream",
     "text": [
      "Epoch 14/16, Train-Loss: 0.4714, Val-Loss: 0.4599, Val-F1: 0.8097, Val-Precision: 0.7954, Val-Recall: 0.8246, Val-Accuracy: 0.8007\n"
     ]
    },
    {
     "name": "stderr",
     "output_type": "stream",
     "text": [
      "Training progress: 100%|██████████| 304/304 [01:03<00:00,  4.80batch/s]\n"
     ]
    },
    {
     "name": "stdout",
     "output_type": "stream",
     "text": [
      "Epoch 15/16, Train-Loss: 0.4709, Val-Loss: 0.4598, Val-F1: 0.8032, Val-Precision: 0.7962, Val-Recall: 0.8102, Val-Accuracy: 0.7957\n"
     ]
    },
    {
     "name": "stderr",
     "output_type": "stream",
     "text": [
      "Training progress: 100%|██████████| 304/304 [01:03<00:00,  4.80batch/s]\n"
     ]
    },
    {
     "name": "stdout",
     "output_type": "stream",
     "text": [
      "Epoch 16/16, Train-Loss: 0.4713, Val-Loss: 0.4601, Val-F1: 0.8025, Val-Precision: 0.8013, Val-Recall: 0.8038, Val-Accuracy: 0.7966\n",
      "\n",
      "\u001b[92mRESULTS:\n",
      " F1-Score:0.7977346278317152, Precision:0.8081967213114755, Recall:0.7875399361022364, Accuracy:0.7947454844006568, BCE:0.46579745411872864 \u001b[0m \n",
      "\n",
      "\n",
      "\u001b[91mRUN 66:\u001b[0m\n",
      " Ranga2024Circuit \n",
      " lr: 0.001\n"
     ]
    },
    {
     "name": "stderr",
     "output_type": "stream",
     "text": [
      "Training progress: 100%|██████████| 304/304 [01:03<00:00,  4.80batch/s]\n"
     ]
    },
    {
     "name": "stdout",
     "output_type": "stream",
     "text": [
      "Epoch 1/16, Train-Loss: 0.6903, Val-Loss: 0.6815, Val-F1: 0.2250, Val-Precision: 0.8710, Val-Recall: 0.1292, Val-Accuracy: 0.5422\n"
     ]
    },
    {
     "name": "stderr",
     "output_type": "stream",
     "text": [
      "Training progress: 100%|██████████| 304/304 [01:03<00:00,  4.79batch/s]\n"
     ]
    },
    {
     "name": "stdout",
     "output_type": "stream",
     "text": [
      "Epoch 2/16, Train-Loss: 0.6753, Val-Loss: 0.6669, Val-F1: 0.4547, Val-Precision: 0.8694, Val-Recall: 0.3078, Val-Accuracy: 0.6202\n"
     ]
    },
    {
     "name": "stderr",
     "output_type": "stream",
     "text": [
      "Training progress: 100%|██████████| 304/304 [01:03<00:00,  4.80batch/s]\n"
     ]
    },
    {
     "name": "stdout",
     "output_type": "stream",
     "text": [
      "Epoch 3/16, Train-Loss: 0.6619, Val-Loss: 0.6531, Val-F1: 0.6133, Val-Precision: 0.8806, Val-Recall: 0.4705, Val-Accuracy: 0.6948\n"
     ]
    },
    {
     "name": "stderr",
     "output_type": "stream",
     "text": [
      "Training progress: 100%|██████████| 304/304 [01:03<00:00,  4.80batch/s]\n"
     ]
    },
    {
     "name": "stdout",
     "output_type": "stream",
     "text": [
      "Epoch 4/16, Train-Loss: 0.6494, Val-Loss: 0.6406, Val-F1: 0.6673, Val-Precision: 0.8673, Val-Recall: 0.5423, Val-Accuracy: 0.7219\n"
     ]
    },
    {
     "name": "stderr",
     "output_type": "stream",
     "text": [
      "Training progress: 100%|██████████| 304/304 [01:03<00:00,  4.80batch/s]\n"
     ]
    },
    {
     "name": "stdout",
     "output_type": "stream",
     "text": [
      "Epoch 5/16, Train-Loss: 0.6377, Val-Loss: 0.6287, Val-F1: 0.7357, Val-Precision: 0.8544, Val-Recall: 0.6459, Val-Accuracy: 0.7613\n"
     ]
    },
    {
     "name": "stderr",
     "output_type": "stream",
     "text": [
      "Training progress: 100%|██████████| 304/304 [01:03<00:00,  4.80batch/s]\n"
     ]
    },
    {
     "name": "stdout",
     "output_type": "stream",
     "text": [
      "Epoch 6/16, Train-Loss: 0.6268, Val-Loss: 0.6175, Val-F1: 0.7357, Val-Precision: 0.8544, Val-Recall: 0.6459, Val-Accuracy: 0.7613\n"
     ]
    },
    {
     "name": "stderr",
     "output_type": "stream",
     "text": [
      "Training progress: 100%|██████████| 304/304 [01:03<00:00,  4.81batch/s]\n"
     ]
    },
    {
     "name": "stdout",
     "output_type": "stream",
     "text": [
      "Epoch 7/16, Train-Loss: 0.6167, Val-Loss: 0.6072, Val-F1: 0.7578, Val-Precision: 0.8540, Val-Recall: 0.6810, Val-Accuracy: 0.7760\n"
     ]
    },
    {
     "name": "stderr",
     "output_type": "stream",
     "text": [
      "Training progress: 100%|██████████| 304/304 [01:03<00:00,  4.80batch/s]\n"
     ]
    },
    {
     "name": "stdout",
     "output_type": "stream",
     "text": [
      "Epoch 8/16, Train-Loss: 0.6072, Val-Loss: 0.5976, Val-F1: 0.7634, Val-Precision: 0.8510, Val-Recall: 0.6922, Val-Accuracy: 0.7793\n"
     ]
    },
    {
     "name": "stderr",
     "output_type": "stream",
     "text": [
      "Training progress: 100%|██████████| 304/304 [01:03<00:00,  4.80batch/s]\n"
     ]
    },
    {
     "name": "stdout",
     "output_type": "stream",
     "text": [
      "Epoch 9/16, Train-Loss: 0.5985, Val-Loss: 0.5887, Val-F1: 0.7632, Val-Precision: 0.8365, Val-Recall: 0.7018, Val-Accuracy: 0.7760\n"
     ]
    },
    {
     "name": "stderr",
     "output_type": "stream",
     "text": [
      "Training progress: 100%|██████████| 304/304 [01:03<00:00,  4.82batch/s]\n"
     ]
    },
    {
     "name": "stdout",
     "output_type": "stream",
     "text": [
      "Epoch 10/16, Train-Loss: 0.5902, Val-Loss: 0.5804, Val-F1: 0.7713, Val-Precision: 0.8294, Val-Recall: 0.7209, Val-Accuracy: 0.7801\n"
     ]
    },
    {
     "name": "stderr",
     "output_type": "stream",
     "text": [
      "Training progress: 100%|██████████| 304/304 [01:03<00:00,  4.80batch/s]\n"
     ]
    },
    {
     "name": "stdout",
     "output_type": "stream",
     "text": [
      "Epoch 11/16, Train-Loss: 0.5827, Val-Loss: 0.5726, Val-F1: 0.7766, Val-Precision: 0.8270, Val-Recall: 0.7321, Val-Accuracy: 0.7834\n"
     ]
    },
    {
     "name": "stderr",
     "output_type": "stream",
     "text": [
      "Training progress: 100%|██████████| 304/304 [01:03<00:00,  4.81batch/s]\n"
     ]
    },
    {
     "name": "stdout",
     "output_type": "stream",
     "text": [
      "Epoch 12/16, Train-Loss: 0.5755, Val-Loss: 0.5653, Val-F1: 0.7790, Val-Precision: 0.8164, Val-Recall: 0.7448, Val-Accuracy: 0.7826\n"
     ]
    },
    {
     "name": "stderr",
     "output_type": "stream",
     "text": [
      "Training progress: 100%|██████████| 304/304 [01:03<00:00,  4.79batch/s]\n"
     ]
    },
    {
     "name": "stdout",
     "output_type": "stream",
     "text": [
      "Epoch 13/16, Train-Loss: 0.5687, Val-Loss: 0.5586, Val-F1: 0.7838, Val-Precision: 0.8155, Val-Recall: 0.7544, Val-Accuracy: 0.7859\n"
     ]
    },
    {
     "name": "stderr",
     "output_type": "stream",
     "text": [
      "Training progress: 100%|██████████| 304/304 [01:03<00:00,  4.80batch/s]\n"
     ]
    },
    {
     "name": "stdout",
     "output_type": "stream",
     "text": [
      "Epoch 14/16, Train-Loss: 0.5626, Val-Loss: 0.5524, Val-F1: 0.7851, Val-Precision: 0.8148, Val-Recall: 0.7576, Val-Accuracy: 0.7867\n"
     ]
    },
    {
     "name": "stderr",
     "output_type": "stream",
     "text": [
      "Training progress: 100%|██████████| 304/304 [01:03<00:00,  4.80batch/s]\n"
     ]
    },
    {
     "name": "stdout",
     "output_type": "stream",
     "text": [
      "Epoch 15/16, Train-Loss: 0.5568, Val-Loss: 0.5466, Val-F1: 0.7895, Val-Precision: 0.8114, Val-Recall: 0.7687, Val-Accuracy: 0.7892\n"
     ]
    },
    {
     "name": "stderr",
     "output_type": "stream",
     "text": [
      "Training progress: 100%|██████████| 304/304 [01:03<00:00,  4.80batch/s]\n"
     ]
    },
    {
     "name": "stdout",
     "output_type": "stream",
     "text": [
      "Epoch 16/16, Train-Loss: 0.5517, Val-Loss: 0.5413, Val-F1: 0.7895, Val-Precision: 0.8114, Val-Recall: 0.7687, Val-Accuracy: 0.7892\n",
      "\n",
      "\u001b[92mRESULTS:\n",
      " F1-Score:0.783625730994152, Precision:0.8213660245183888, Recall:0.7492012779552716, Accuracy:0.7873563218390804, BCE:0.5467725992202759 \u001b[0m \n",
      "\n",
      "\n",
      "\u001b[91mRUN 67:\u001b[0m\n",
      " Senokosov2024Circuit \n",
      " lr: 0.01\n"
     ]
    },
    {
     "name": "stderr",
     "output_type": "stream",
     "text": [
      "Training progress: 100%|██████████| 304/304 [00:42<00:00,  7.09batch/s]\n"
     ]
    },
    {
     "name": "stdout",
     "output_type": "stream",
     "text": [
      "Epoch 1/16, Train-Loss: 0.6581, Val-Loss: 0.6310, Val-F1: 0.7775, Val-Precision: 0.6875, Val-Recall: 0.8947, Val-Accuracy: 0.7367\n"
     ]
    },
    {
     "name": "stderr",
     "output_type": "stream",
     "text": [
      "Training progress: 100%|██████████| 304/304 [00:43<00:00,  7.06batch/s]\n"
     ]
    },
    {
     "name": "stdout",
     "output_type": "stream",
     "text": [
      "Epoch 2/16, Train-Loss: 0.6063, Val-Loss: 0.5946, Val-F1: 0.7741, Val-Precision: 0.7107, Val-Recall: 0.8501, Val-Accuracy: 0.7449\n"
     ]
    },
    {
     "name": "stderr",
     "output_type": "stream",
     "text": [
      "Training progress: 100%|██████████| 304/304 [00:42<00:00,  7.10batch/s]\n"
     ]
    },
    {
     "name": "stdout",
     "output_type": "stream",
     "text": [
      "Epoch 3/16, Train-Loss: 0.5765, Val-Loss: 0.5741, Val-F1: 0.7713, Val-Precision: 0.7137, Val-Recall: 0.8389, Val-Accuracy: 0.7441\n"
     ]
    },
    {
     "name": "stderr",
     "output_type": "stream",
     "text": [
      "Training progress: 100%|██████████| 304/304 [00:42<00:00,  7.08batch/s]\n"
     ]
    },
    {
     "name": "stdout",
     "output_type": "stream",
     "text": [
      "Epoch 4/16, Train-Loss: 0.5593, Val-Loss: 0.5638, Val-F1: 0.7723, Val-Precision: 0.7120, Val-Recall: 0.8437, Val-Accuracy: 0.7441\n"
     ]
    },
    {
     "name": "stderr",
     "output_type": "stream",
     "text": [
      "Training progress: 100%|██████████| 304/304 [00:42<00:00,  7.09batch/s]\n"
     ]
    },
    {
     "name": "stdout",
     "output_type": "stream",
     "text": [
      "Epoch 5/16, Train-Loss: 0.5500, Val-Loss: 0.5580, Val-F1: 0.7707, Val-Precision: 0.7127, Val-Recall: 0.8389, Val-Accuracy: 0.7432\n"
     ]
    },
    {
     "name": "stderr",
     "output_type": "stream",
     "text": [
      "Training progress: 100%|██████████| 304/304 [00:42<00:00,  7.08batch/s]\n"
     ]
    },
    {
     "name": "stdout",
     "output_type": "stream",
     "text": [
      "Epoch 6/16, Train-Loss: 0.5452, Val-Loss: 0.5541, Val-F1: 0.7700, Val-Precision: 0.7260, Val-Recall: 0.8198, Val-Accuracy: 0.7482\n"
     ]
    },
    {
     "name": "stderr",
     "output_type": "stream",
     "text": [
      "Training progress: 100%|██████████| 304/304 [00:42<00:00,  7.09batch/s]\n"
     ]
    },
    {
     "name": "stdout",
     "output_type": "stream",
     "text": [
      "Epoch 7/16, Train-Loss: 0.5419, Val-Loss: 0.5528, Val-F1: 0.7699, Val-Precision: 0.7283, Val-Recall: 0.8166, Val-Accuracy: 0.7490\n"
     ]
    },
    {
     "name": "stderr",
     "output_type": "stream",
     "text": [
      "Training progress: 100%|██████████| 304/304 [00:42<00:00,  7.08batch/s]\n"
     ]
    },
    {
     "name": "stdout",
     "output_type": "stream",
     "text": [
      "Epoch 8/16, Train-Loss: 0.5407, Val-Loss: 0.5521, Val-F1: 0.7705, Val-Precision: 0.7293, Val-Recall: 0.8166, Val-Accuracy: 0.7498\n"
     ]
    },
    {
     "name": "stderr",
     "output_type": "stream",
     "text": [
      "Training progress: 100%|██████████| 304/304 [00:42<00:00,  7.08batch/s]\n"
     ]
    },
    {
     "name": "stdout",
     "output_type": "stream",
     "text": [
      "Epoch 9/16, Train-Loss: 0.5398, Val-Loss: 0.5520, Val-F1: 0.7721, Val-Precision: 0.7349, Val-Recall: 0.8134, Val-Accuracy: 0.7531\n"
     ]
    },
    {
     "name": "stderr",
     "output_type": "stream",
     "text": [
      "Training progress: 100%|██████████| 304/304 [00:42<00:00,  7.09batch/s]\n"
     ]
    },
    {
     "name": "stdout",
     "output_type": "stream",
     "text": [
      "Epoch 10/16, Train-Loss: 0.5399, Val-Loss: 0.5521, Val-F1: 0.7705, Val-Precision: 0.7231, Val-Recall: 0.8246, Val-Accuracy: 0.7473\n"
     ]
    },
    {
     "name": "stderr",
     "output_type": "stream",
     "text": [
      "Training progress: 100%|██████████| 304/304 [00:42<00:00,  7.09batch/s]\n"
     ]
    },
    {
     "name": "stdout",
     "output_type": "stream",
     "text": [
      "Epoch 11/16, Train-Loss: 0.5396, Val-Loss: 0.5520, Val-F1: 0.7699, Val-Precision: 0.7283, Val-Recall: 0.8166, Val-Accuracy: 0.7490\n"
     ]
    },
    {
     "name": "stderr",
     "output_type": "stream",
     "text": [
      "Training progress: 100%|██████████| 304/304 [00:42<00:00,  7.09batch/s]\n"
     ]
    },
    {
     "name": "stdout",
     "output_type": "stream",
     "text": [
      "Epoch 12/16, Train-Loss: 0.5395, Val-Loss: 0.5521, Val-F1: 0.7701, Val-Precision: 0.7237, Val-Recall: 0.8230, Val-Accuracy: 0.7473\n"
     ]
    },
    {
     "name": "stderr",
     "output_type": "stream",
     "text": [
      "Training progress: 100%|██████████| 304/304 [00:42<00:00,  7.08batch/s]\n"
     ]
    },
    {
     "name": "stdout",
     "output_type": "stream",
     "text": [
      "Epoch 13/16, Train-Loss: 0.5388, Val-Loss: 0.5522, Val-F1: 0.7708, Val-Precision: 0.7376, Val-Recall: 0.8070, Val-Accuracy: 0.7531\n"
     ]
    },
    {
     "name": "stderr",
     "output_type": "stream",
     "text": [
      "Training progress: 100%|██████████| 304/304 [00:42<00:00,  7.08batch/s]\n"
     ]
    },
    {
     "name": "stdout",
     "output_type": "stream",
     "text": [
      "Epoch 14/16, Train-Loss: 0.5395, Val-Loss: 0.5522, Val-F1: 0.7704, Val-Precision: 0.7254, Val-Recall: 0.8214, Val-Accuracy: 0.7482\n"
     ]
    },
    {
     "name": "stderr",
     "output_type": "stream",
     "text": [
      "Training progress: 100%|██████████| 304/304 [00:42<00:00,  7.08batch/s]\n"
     ]
    },
    {
     "name": "stdout",
     "output_type": "stream",
     "text": [
      "Epoch 15/16, Train-Loss: 0.5395, Val-Loss: 0.5522, Val-F1: 0.7700, Val-Precision: 0.7260, Val-Recall: 0.8198, Val-Accuracy: 0.7482\n"
     ]
    },
    {
     "name": "stderr",
     "output_type": "stream",
     "text": [
      "Training progress: 100%|██████████| 304/304 [00:42<00:00,  7.08batch/s]\n"
     ]
    },
    {
     "name": "stdout",
     "output_type": "stream",
     "text": [
      "Epoch 16/16, Train-Loss: 0.5395, Val-Loss: 0.5521, Val-F1: 0.7699, Val-Precision: 0.7283, Val-Recall: 0.8166, Val-Accuracy: 0.7490\n",
      "\n",
      "\u001b[92mRESULTS:\n",
      " F1-Score:0.7821482602118003, Precision:0.742816091954023, Recall:0.8258785942492013, Accuracy:0.7635467980295566, BCE:0.5371199250221252 \u001b[0m \n",
      "\n",
      "\n",
      "\u001b[91mRUN 68:\u001b[0m\n",
      " Senokosov2024Circuit \n",
      " lr: 0.001\n"
     ]
    },
    {
     "name": "stderr",
     "output_type": "stream",
     "text": [
      "Training progress: 100%|██████████| 304/304 [00:42<00:00,  7.09batch/s]\n"
     ]
    },
    {
     "name": "stdout",
     "output_type": "stream",
     "text": [
      "Epoch 1/16, Train-Loss: 0.6908, Val-Loss: 0.6869, Val-F1: 0.7020, Val-Precision: 0.5432, Val-Recall: 0.9920, Val-Accuracy: 0.5669\n"
     ]
    },
    {
     "name": "stderr",
     "output_type": "stream",
     "text": [
      "Training progress: 100%|██████████| 304/304 [00:42<00:00,  7.10batch/s]\n"
     ]
    },
    {
     "name": "stdout",
     "output_type": "stream",
     "text": [
      "Epoch 2/16, Train-Loss: 0.6827, Val-Loss: 0.6795, Val-F1: 0.7407, Val-Precision: 0.5998, Val-Recall: 0.9681, Val-Accuracy: 0.6514\n"
     ]
    },
    {
     "name": "stderr",
     "output_type": "stream",
     "text": [
      "Training progress: 100%|██████████| 304/304 [00:42<00:00,  7.12batch/s]\n"
     ]
    },
    {
     "name": "stdout",
     "output_type": "stream",
     "text": [
      "Epoch 3/16, Train-Loss: 0.6751, Val-Loss: 0.6725, Val-F1: 0.7562, Val-Precision: 0.6292, Val-Recall: 0.9474, Val-Accuracy: 0.6858\n"
     ]
    },
    {
     "name": "stderr",
     "output_type": "stream",
     "text": [
      "Training progress: 100%|██████████| 304/304 [00:42<00:00,  7.12batch/s]\n"
     ]
    },
    {
     "name": "stdout",
     "output_type": "stream",
     "text": [
      "Epoch 4/16, Train-Loss: 0.6678, Val-Loss: 0.6658, Val-F1: 0.7682, Val-Precision: 0.6609, Val-Recall: 0.9171, Val-Accuracy: 0.7153\n"
     ]
    },
    {
     "name": "stderr",
     "output_type": "stream",
     "text": [
      "Training progress: 100%|██████████| 304/304 [00:42<00:00,  7.12batch/s]\n"
     ]
    },
    {
     "name": "stdout",
     "output_type": "stream",
     "text": [
      "Epoch 5/16, Train-Loss: 0.6609, Val-Loss: 0.6595, Val-F1: 0.7703, Val-Precision: 0.6640, Val-Recall: 0.9171, Val-Accuracy: 0.7186\n"
     ]
    },
    {
     "name": "stderr",
     "output_type": "stream",
     "text": [
      "Training progress: 100%|██████████| 304/304 [00:42<00:00,  7.11batch/s]\n"
     ]
    },
    {
     "name": "stdout",
     "output_type": "stream",
     "text": [
      "Epoch 6/16, Train-Loss: 0.6544, Val-Loss: 0.6533, Val-F1: 0.7763, Val-Precision: 0.6828, Val-Recall: 0.8995, Val-Accuracy: 0.7334\n"
     ]
    },
    {
     "name": "stderr",
     "output_type": "stream",
     "text": [
      "Training progress: 100%|██████████| 304/304 [00:42<00:00,  7.10batch/s]\n"
     ]
    },
    {
     "name": "stdout",
     "output_type": "stream",
     "text": [
      "Epoch 7/16, Train-Loss: 0.6480, Val-Loss: 0.6476, Val-F1: 0.7754, Val-Precision: 0.6908, Val-Recall: 0.8836, Val-Accuracy: 0.7367\n"
     ]
    },
    {
     "name": "stderr",
     "output_type": "stream",
     "text": [
      "Training progress: 100%|██████████| 304/304 [00:42<00:00,  7.09batch/s]\n"
     ]
    },
    {
     "name": "stdout",
     "output_type": "stream",
     "text": [
      "Epoch 8/16, Train-Loss: 0.6420, Val-Loss: 0.6420, Val-F1: 0.7793, Val-Precision: 0.7020, Val-Recall: 0.8756, Val-Accuracy: 0.7449\n"
     ]
    },
    {
     "name": "stderr",
     "output_type": "stream",
     "text": [
      "Training progress: 100%|██████████| 304/304 [00:42<00:00,  7.10batch/s]\n"
     ]
    },
    {
     "name": "stdout",
     "output_type": "stream",
     "text": [
      "Epoch 9/16, Train-Loss: 0.6362, Val-Loss: 0.6367, Val-F1: 0.7758, Val-Precision: 0.7005, Val-Recall: 0.8692, Val-Accuracy: 0.7416\n"
     ]
    },
    {
     "name": "stderr",
     "output_type": "stream",
     "text": [
      "Training progress: 100%|██████████| 304/304 [00:42<00:00,  7.11batch/s]\n"
     ]
    },
    {
     "name": "stdout",
     "output_type": "stream",
     "text": [
      "Epoch 10/16, Train-Loss: 0.6307, Val-Loss: 0.6316, Val-F1: 0.7720, Val-Precision: 0.6995, Val-Recall: 0.8612, Val-Accuracy: 0.7383\n"
     ]
    },
    {
     "name": "stderr",
     "output_type": "stream",
     "text": [
      "Training progress: 100%|██████████| 304/304 [00:42<00:00,  7.10batch/s]\n"
     ]
    },
    {
     "name": "stdout",
     "output_type": "stream",
     "text": [
      "Epoch 11/16, Train-Loss: 0.6255, Val-Loss: 0.6268, Val-F1: 0.7759, Val-Precision: 0.7059, Val-Recall: 0.8612, Val-Accuracy: 0.7441\n"
     ]
    },
    {
     "name": "stderr",
     "output_type": "stream",
     "text": [
      "Training progress: 100%|██████████| 304/304 [00:42<00:00,  7.11batch/s]\n"
     ]
    },
    {
     "name": "stdout",
     "output_type": "stream",
     "text": [
      "Epoch 12/16, Train-Loss: 0.6204, Val-Loss: 0.6221, Val-F1: 0.7755, Val-Precision: 0.7084, Val-Recall: 0.8565, Val-Accuracy: 0.7449\n"
     ]
    },
    {
     "name": "stderr",
     "output_type": "stream",
     "text": [
      "Training progress: 100%|██████████| 304/304 [00:42<00:00,  7.12batch/s]\n"
     ]
    },
    {
     "name": "stdout",
     "output_type": "stream",
     "text": [
      "Epoch 13/16, Train-Loss: 0.6154, Val-Loss: 0.6177, Val-F1: 0.7760, Val-Precision: 0.7094, Val-Recall: 0.8565, Val-Accuracy: 0.7457\n"
     ]
    },
    {
     "name": "stderr",
     "output_type": "stream",
     "text": [
      "Training progress: 100%|██████████| 304/304 [00:42<00:00,  7.13batch/s]\n"
     ]
    },
    {
     "name": "stdout",
     "output_type": "stream",
     "text": [
      "Epoch 14/16, Train-Loss: 0.6110, Val-Loss: 0.6135, Val-F1: 0.7741, Val-Precision: 0.7107, Val-Recall: 0.8501, Val-Accuracy: 0.7449\n"
     ]
    },
    {
     "name": "stderr",
     "output_type": "stream",
     "text": [
      "Training progress: 100%|██████████| 304/304 [00:42<00:00,  7.10batch/s]\n"
     ]
    },
    {
     "name": "stdout",
     "output_type": "stream",
     "text": [
      "Epoch 15/16, Train-Loss: 0.6065, Val-Loss: 0.6095, Val-F1: 0.7741, Val-Precision: 0.7107, Val-Recall: 0.8501, Val-Accuracy: 0.7449\n"
     ]
    },
    {
     "name": "stderr",
     "output_type": "stream",
     "text": [
      "Training progress: 100%|██████████| 304/304 [00:42<00:00,  7.11batch/s]\n"
     ]
    },
    {
     "name": "stdout",
     "output_type": "stream",
     "text": [
      "Epoch 16/16, Train-Loss: 0.6024, Val-Loss: 0.6057, Val-F1: 0.7729, Val-Precision: 0.7108, Val-Recall: 0.8469, Val-Accuracy: 0.7441\n",
      "\n",
      "\u001b[92mRESULTS:\n",
      " F1-Score:0.7848285922684172, Precision:0.7221476510067114, Recall:0.8594249201277955, Accuracy:0.7577996715927751, BCE:0.5995612740516663 \u001b[0m \n",
      "\n",
      "\n",
      "\u001b[91mRUN 69:\u001b[0m\n",
      " Anusha2024Circuit \n",
      " lr: 0.01\n"
     ]
    },
    {
     "name": "stderr",
     "output_type": "stream",
     "text": [
      "Training progress: 100%|██████████| 304/304 [00:18<00:00, 16.50batch/s]\n"
     ]
    },
    {
     "name": "stdout",
     "output_type": "stream",
     "text": [
      "Epoch 1/16, Train-Loss: 0.6399, Val-Loss: 0.5969, Val-F1: 0.7806, Val-Precision: 0.7424, Val-Recall: 0.8230, Val-Accuracy: 0.7621\n"
     ]
    },
    {
     "name": "stderr",
     "output_type": "stream",
     "text": [
      "Training progress: 100%|██████████| 304/304 [00:18<00:00, 16.55batch/s]\n"
     ]
    },
    {
     "name": "stdout",
     "output_type": "stream",
     "text": [
      "Epoch 2/16, Train-Loss: 0.5768, Val-Loss: 0.5614, Val-F1: 0.7796, Val-Precision: 0.7778, Val-Recall: 0.7815, Val-Accuracy: 0.7728\n"
     ]
    },
    {
     "name": "stderr",
     "output_type": "stream",
     "text": [
      "Training progress: 100%|██████████| 304/304 [00:18<00:00, 16.58batch/s]\n"
     ]
    },
    {
     "name": "stdout",
     "output_type": "stream",
     "text": [
      "Epoch 3/16, Train-Loss: 0.5536, Val-Loss: 0.5491, Val-F1: 0.7822, Val-Precision: 0.7944, Val-Recall: 0.7703, Val-Accuracy: 0.7793\n"
     ]
    },
    {
     "name": "stderr",
     "output_type": "stream",
     "text": [
      "Training progress: 100%|██████████| 304/304 [00:18<00:00, 16.54batch/s]\n"
     ]
    },
    {
     "name": "stdout",
     "output_type": "stream",
     "text": [
      "Epoch 4/16, Train-Loss: 0.5449, Val-Loss: 0.5456, Val-F1: 0.7796, Val-Precision: 0.7778, Val-Recall: 0.7815, Val-Accuracy: 0.7728\n"
     ]
    },
    {
     "name": "stderr",
     "output_type": "stream",
     "text": [
      "Training progress: 100%|██████████| 304/304 [00:18<00:00, 16.47batch/s]\n"
     ]
    },
    {
     "name": "stdout",
     "output_type": "stream",
     "text": [
      "Epoch 5/16, Train-Loss: 0.5421, Val-Loss: 0.5436, Val-F1: 0.7822, Val-Precision: 0.7944, Val-Recall: 0.7703, Val-Accuracy: 0.7793\n"
     ]
    },
    {
     "name": "stderr",
     "output_type": "stream",
     "text": [
      "Training progress: 100%|██████████| 304/304 [00:18<00:00, 16.54batch/s]\n"
     ]
    },
    {
     "name": "stdout",
     "output_type": "stream",
     "text": [
      "Epoch 6/16, Train-Loss: 0.5405, Val-Loss: 0.5432, Val-F1: 0.7823, Val-Precision: 0.8034, Val-Recall: 0.7624, Val-Accuracy: 0.7818\n"
     ]
    },
    {
     "name": "stderr",
     "output_type": "stream",
     "text": [
      "Training progress: 100%|██████████| 304/304 [00:18<00:00, 16.56batch/s]\n"
     ]
    },
    {
     "name": "stdout",
     "output_type": "stream",
     "text": [
      "Epoch 7/16, Train-Loss: 0.5404, Val-Loss: 0.5430, Val-F1: 0.7817, Val-Precision: 0.8020, Val-Recall: 0.7624, Val-Accuracy: 0.7810\n"
     ]
    },
    {
     "name": "stderr",
     "output_type": "stream",
     "text": [
      "Training progress: 100%|██████████| 304/304 [00:18<00:00, 16.58batch/s]\n"
     ]
    },
    {
     "name": "stdout",
     "output_type": "stream",
     "text": [
      "Epoch 8/16, Train-Loss: 0.5401, Val-Loss: 0.5432, Val-F1: 0.7820, Val-Precision: 0.8044, Val-Recall: 0.7608, Val-Accuracy: 0.7818\n"
     ]
    },
    {
     "name": "stderr",
     "output_type": "stream",
     "text": [
      "Training progress: 100%|██████████| 304/304 [00:18<00:00, 16.50batch/s]\n"
     ]
    },
    {
     "name": "stdout",
     "output_type": "stream",
     "text": [
      "Epoch 9/16, Train-Loss: 0.5392, Val-Loss: 0.5434, Val-F1: 0.7810, Val-Precision: 0.8041, Val-Recall: 0.7592, Val-Accuracy: 0.7810\n"
     ]
    },
    {
     "name": "stderr",
     "output_type": "stream",
     "text": [
      "Training progress: 100%|██████████| 304/304 [00:18<00:00, 16.57batch/s]\n"
     ]
    },
    {
     "name": "stdout",
     "output_type": "stream",
     "text": [
      "Epoch 10/16, Train-Loss: 0.5397, Val-Loss: 0.5436, Val-F1: 0.7800, Val-Precision: 0.7883, Val-Recall: 0.7719, Val-Accuracy: 0.7760\n"
     ]
    },
    {
     "name": "stderr",
     "output_type": "stream",
     "text": [
      "Training progress: 100%|██████████| 304/304 [00:18<00:00, 16.52batch/s]\n"
     ]
    },
    {
     "name": "stdout",
     "output_type": "stream",
     "text": [
      "Epoch 11/16, Train-Loss: 0.5403, Val-Loss: 0.5432, Val-F1: 0.7813, Val-Precision: 0.8030, Val-Recall: 0.7608, Val-Accuracy: 0.7810\n"
     ]
    },
    {
     "name": "stderr",
     "output_type": "stream",
     "text": [
      "Training progress: 100%|██████████| 304/304 [00:18<00:00, 16.53batch/s]\n"
     ]
    },
    {
     "name": "stdout",
     "output_type": "stream",
     "text": [
      "Epoch 12/16, Train-Loss: 0.5398, Val-Loss: 0.5432, Val-F1: 0.7837, Val-Precision: 0.7993, Val-Recall: 0.7687, Val-Accuracy: 0.7818\n"
     ]
    },
    {
     "name": "stderr",
     "output_type": "stream",
     "text": [
      "Training progress: 100%|██████████| 304/304 [00:18<00:00, 16.55batch/s]\n"
     ]
    },
    {
     "name": "stdout",
     "output_type": "stream",
     "text": [
      "Epoch 13/16, Train-Loss: 0.5391, Val-Loss: 0.5448, Val-F1: 0.7789, Val-Precision: 0.8201, Val-Recall: 0.7416, Val-Accuracy: 0.7834\n"
     ]
    },
    {
     "name": "stderr",
     "output_type": "stream",
     "text": [
      "Training progress: 100%|██████████| 304/304 [00:18<00:00, 16.51batch/s]\n"
     ]
    },
    {
     "name": "stdout",
     "output_type": "stream",
     "text": [
      "Epoch 14/16, Train-Loss: 0.5401, Val-Loss: 0.5432, Val-F1: 0.7820, Val-Precision: 0.8010, Val-Recall: 0.7640, Val-Accuracy: 0.7810\n"
     ]
    },
    {
     "name": "stderr",
     "output_type": "stream",
     "text": [
      "Training progress: 100%|██████████| 304/304 [00:18<00:00, 16.55batch/s]\n"
     ]
    },
    {
     "name": "stdout",
     "output_type": "stream",
     "text": [
      "Epoch 15/16, Train-Loss: 0.5401, Val-Loss: 0.5433, Val-F1: 0.7820, Val-Precision: 0.8044, Val-Recall: 0.7608, Val-Accuracy: 0.7818\n"
     ]
    },
    {
     "name": "stderr",
     "output_type": "stream",
     "text": [
      "Training progress: 100%|██████████| 304/304 [00:18<00:00, 16.52batch/s]\n"
     ]
    },
    {
     "name": "stdout",
     "output_type": "stream",
     "text": [
      "Epoch 16/16, Train-Loss: 0.5401, Val-Loss: 0.5432, Val-F1: 0.7814, Val-Precision: 0.7997, Val-Recall: 0.7640, Val-Accuracy: 0.7801\n",
      "\n",
      "\u001b[92mRESULTS:\n",
      " F1-Score:0.7752184273232724, Precision:0.7709320695102686, Recall:0.7795527156549521, Accuracy:0.7676518883415435, BCE:0.5355402231216431 \u001b[0m \n",
      "\n",
      "\n",
      "\u001b[91mRUN 70:\u001b[0m\n",
      " Anusha2024Circuit \n",
      " lr: 0.001\n"
     ]
    },
    {
     "name": "stderr",
     "output_type": "stream",
     "text": [
      "Training progress: 100%|██████████| 304/304 [00:18<00:00, 16.48batch/s]\n"
     ]
    },
    {
     "name": "stdout",
     "output_type": "stream",
     "text": [
      "Epoch 1/16, Train-Loss: 0.6897, Val-Loss: 0.6816, Val-F1: 0.6732, Val-Precision: 0.5121, Val-Recall: 0.9825, Val-Accuracy: 0.5094\n"
     ]
    },
    {
     "name": "stderr",
     "output_type": "stream",
     "text": [
      "Training progress: 100%|██████████| 304/304 [00:18<00:00, 16.61batch/s]\n"
     ]
    },
    {
     "name": "stdout",
     "output_type": "stream",
     "text": [
      "Epoch 2/16, Train-Loss: 0.6752, Val-Loss: 0.6679, Val-F1: 0.6839, Val-Precision: 0.5346, Val-Recall: 0.9490, Val-Accuracy: 0.5488\n"
     ]
    },
    {
     "name": "stderr",
     "output_type": "stream",
     "text": [
      "Training progress: 100%|██████████| 304/304 [00:18<00:00, 16.49batch/s]\n"
     ]
    },
    {
     "name": "stdout",
     "output_type": "stream",
     "text": [
      "Epoch 3/16, Train-Loss: 0.6625, Val-Loss: 0.6556, Val-F1: 0.7121, Val-Precision: 0.5788, Val-Recall: 0.9250, Val-Accuracy: 0.6153\n"
     ]
    },
    {
     "name": "stderr",
     "output_type": "stream",
     "text": [
      "Training progress: 100%|██████████| 304/304 [00:18<00:00, 16.52batch/s]\n"
     ]
    },
    {
     "name": "stdout",
     "output_type": "stream",
     "text": [
      "Epoch 4/16, Train-Loss: 0.6510, Val-Loss: 0.6443, Val-F1: 0.7552, Val-Precision: 0.6516, Val-Recall: 0.8979, Val-Accuracy: 0.7006\n"
     ]
    },
    {
     "name": "stderr",
     "output_type": "stream",
     "text": [
      "Training progress: 100%|██████████| 304/304 [00:18<00:00, 16.53batch/s]\n"
     ]
    },
    {
     "name": "stdout",
     "output_type": "stream",
     "text": [
      "Epoch 5/16, Train-Loss: 0.6401, Val-Loss: 0.6340, Val-F1: 0.7620, Val-Precision: 0.6699, Val-Recall: 0.8836, Val-Accuracy: 0.7162\n"
     ]
    },
    {
     "name": "stderr",
     "output_type": "stream",
     "text": [
      "Training progress: 100%|██████████| 304/304 [00:18<00:00, 16.55batch/s]\n"
     ]
    },
    {
     "name": "stdout",
     "output_type": "stream",
     "text": [
      "Epoch 6/16, Train-Loss: 0.6304, Val-Loss: 0.6247, Val-F1: 0.7795, Val-Precision: 0.7109, Val-Recall: 0.8628, Val-Accuracy: 0.7490\n"
     ]
    },
    {
     "name": "stderr",
     "output_type": "stream",
     "text": [
      "Training progress: 100%|██████████| 304/304 [00:18<00:00, 16.56batch/s]\n"
     ]
    },
    {
     "name": "stdout",
     "output_type": "stream",
     "text": [
      "Epoch 7/16, Train-Loss: 0.6215, Val-Loss: 0.6161, Val-F1: 0.7814, Val-Precision: 0.7276, Val-Recall: 0.8437, Val-Accuracy: 0.7572\n"
     ]
    },
    {
     "name": "stderr",
     "output_type": "stream",
     "text": [
      "Training progress: 100%|██████████| 304/304 [00:18<00:00, 16.56batch/s]\n"
     ]
    },
    {
     "name": "stdout",
     "output_type": "stream",
     "text": [
      "Epoch 8/16, Train-Loss: 0.6134, Val-Loss: 0.6084, Val-F1: 0.7809, Val-Precision: 0.7442, Val-Recall: 0.8214, Val-Accuracy: 0.7629\n"
     ]
    },
    {
     "name": "stderr",
     "output_type": "stream",
     "text": [
      "Training progress: 100%|██████████| 304/304 [00:18<00:00, 16.50batch/s]\n"
     ]
    },
    {
     "name": "stdout",
     "output_type": "stream",
     "text": [
      "Epoch 9/16, Train-Loss: 0.6056, Val-Loss: 0.6014, Val-F1: 0.7786, Val-Precision: 0.7467, Val-Recall: 0.8134, Val-Accuracy: 0.7621\n"
     ]
    },
    {
     "name": "stderr",
     "output_type": "stream",
     "text": [
      "Training progress: 100%|██████████| 304/304 [00:18<00:00, 16.52batch/s]\n"
     ]
    },
    {
     "name": "stdout",
     "output_type": "stream",
     "text": [
      "Epoch 10/16, Train-Loss: 0.5990, Val-Loss: 0.5951, Val-F1: 0.7785, Val-Precision: 0.7519, Val-Recall: 0.8070, Val-Accuracy: 0.7637\n"
     ]
    },
    {
     "name": "stderr",
     "output_type": "stream",
     "text": [
      "Training progress: 100%|██████████| 304/304 [00:18<00:00, 16.55batch/s]\n"
     ]
    },
    {
     "name": "stdout",
     "output_type": "stream",
     "text": [
      "Epoch 11/16, Train-Loss: 0.5931, Val-Loss: 0.5894, Val-F1: 0.7789, Val-Precision: 0.7583, Val-Recall: 0.8006, Val-Accuracy: 0.7662\n"
     ]
    },
    {
     "name": "stderr",
     "output_type": "stream",
     "text": [
      "Training progress: 100%|██████████| 304/304 [00:18<00:00, 16.54batch/s]\n"
     ]
    },
    {
     "name": "stdout",
     "output_type": "stream",
     "text": [
      "Epoch 12/16, Train-Loss: 0.5873, Val-Loss: 0.5842, Val-F1: 0.7800, Val-Precision: 0.7634, Val-Recall: 0.7974, Val-Accuracy: 0.7687\n"
     ]
    },
    {
     "name": "stderr",
     "output_type": "stream",
     "text": [
      "Training progress: 100%|██████████| 304/304 [00:18<00:00, 16.52batch/s]\n"
     ]
    },
    {
     "name": "stdout",
     "output_type": "stream",
     "text": [
      "Epoch 13/16, Train-Loss: 0.5821, Val-Loss: 0.5796, Val-F1: 0.7821, Val-Precision: 0.7689, Val-Recall: 0.7959, Val-Accuracy: 0.7719\n"
     ]
    },
    {
     "name": "stderr",
     "output_type": "stream",
     "text": [
      "Training progress: 100%|██████████| 304/304 [00:18<00:00, 16.55batch/s]\n"
     ]
    },
    {
     "name": "stdout",
     "output_type": "stream",
     "text": [
      "Epoch 14/16, Train-Loss: 0.5778, Val-Loss: 0.5755, Val-F1: 0.7836, Val-Precision: 0.7762, Val-Recall: 0.7911, Val-Accuracy: 0.7752\n"
     ]
    },
    {
     "name": "stderr",
     "output_type": "stream",
     "text": [
      "Training progress: 100%|██████████| 304/304 [00:18<00:00, 16.55batch/s]\n"
     ]
    },
    {
     "name": "stdout",
     "output_type": "stream",
     "text": [
      "Epoch 15/16, Train-Loss: 0.5738, Val-Loss: 0.5718, Val-F1: 0.7826, Val-Precision: 0.7759, Val-Recall: 0.7895, Val-Accuracy: 0.7744\n"
     ]
    },
    {
     "name": "stderr",
     "output_type": "stream",
     "text": [
      "Training progress: 100%|██████████| 304/304 [00:18<00:00, 16.54batch/s]\n"
     ]
    },
    {
     "name": "stdout",
     "output_type": "stream",
     "text": [
      "Epoch 16/16, Train-Loss: 0.5702, Val-Loss: 0.5685, Val-F1: 0.7790, Val-Precision: 0.7765, Val-Recall: 0.7815, Val-Accuracy: 0.7719\n",
      "\n",
      "\u001b[92mRESULTS:\n",
      " F1-Score:0.772093023255814, Precision:0.75, Recall:0.7955271565495208, Accuracy:0.7586206896551724, BCE:0.564541220664978 \u001b[0m \n",
      "\n",
      "\n",
      "\u001b[91mRUN 71:\u001b[0m\n",
      " DoubleEntanglementVLCircuit \n",
      " lr: 0.01\n"
     ]
    },
    {
     "name": "stderr",
     "output_type": "stream",
     "text": [
      "Training progress: 100%|██████████| 304/304 [00:24<00:00, 12.43batch/s]\n"
     ]
    },
    {
     "name": "stdout",
     "output_type": "stream",
     "text": [
      "Epoch 1/16, Train-Loss: 0.6723, Val-Loss: 0.6544, Val-F1: 0.8376, Val-Precision: 0.7516, Val-Recall: 0.9458, Val-Accuracy: 0.8113\n"
     ]
    },
    {
     "name": "stderr",
     "output_type": "stream",
     "text": [
      "Training progress: 100%|██████████| 304/304 [00:24<00:00, 12.45batch/s]\n"
     ]
    },
    {
     "name": "stdout",
     "output_type": "stream",
     "text": [
      "Epoch 2/16, Train-Loss: 0.6350, Val-Loss: 0.6225, Val-F1: 0.8112, Val-Precision: 0.7704, Val-Recall: 0.8565, Val-Accuracy: 0.7949\n"
     ]
    },
    {
     "name": "stderr",
     "output_type": "stream",
     "text": [
      "Training progress: 100%|██████████| 304/304 [00:24<00:00, 12.44batch/s]\n"
     ]
    },
    {
     "name": "stdout",
     "output_type": "stream",
     "text": [
      "Epoch 3/16, Train-Loss: 0.6046, Val-Loss: 0.5972, Val-F1: 0.7966, Val-Precision: 0.7733, Val-Recall: 0.8214, Val-Accuracy: 0.7842\n"
     ]
    },
    {
     "name": "stderr",
     "output_type": "stream",
     "text": [
      "Training progress: 100%|██████████| 304/304 [00:24<00:00, 12.44batch/s]\n"
     ]
    },
    {
     "name": "stdout",
     "output_type": "stream",
     "text": [
      "Epoch 4/16, Train-Loss: 0.5800, Val-Loss: 0.5781, Val-F1: 0.8199, Val-Precision: 0.7659, Val-Recall: 0.8820, Val-Accuracy: 0.8007\n"
     ]
    },
    {
     "name": "stderr",
     "output_type": "stream",
     "text": [
      "Training progress: 100%|██████████| 304/304 [00:24<00:00, 12.46batch/s]\n"
     ]
    },
    {
     "name": "stdout",
     "output_type": "stream",
     "text": [
      "Epoch 5/16, Train-Loss: 0.5608, Val-Loss: 0.5616, Val-F1: 0.8100, Val-Precision: 0.7709, Val-Recall: 0.8533, Val-Accuracy: 0.7941\n"
     ]
    },
    {
     "name": "stderr",
     "output_type": "stream",
     "text": [
      "Training progress: 100%|██████████| 304/304 [00:24<00:00, 12.48batch/s]\n"
     ]
    },
    {
     "name": "stdout",
     "output_type": "stream",
     "text": [
      "Epoch 6/16, Train-Loss: 0.5452, Val-Loss: 0.5489, Val-F1: 0.7855, Val-Precision: 0.7769, Val-Recall: 0.7943, Val-Accuracy: 0.7769\n"
     ]
    },
    {
     "name": "stderr",
     "output_type": "stream",
     "text": [
      "Training progress: 100%|██████████| 304/304 [00:24<00:00, 12.44batch/s]\n"
     ]
    },
    {
     "name": "stdout",
     "output_type": "stream",
     "text": [
      "Epoch 7/16, Train-Loss: 0.5324, Val-Loss: 0.5387, Val-F1: 0.7928, Val-Precision: 0.7776, Val-Recall: 0.8086, Val-Accuracy: 0.7826\n"
     ]
    },
    {
     "name": "stderr",
     "output_type": "stream",
     "text": [
      "Training progress: 100%|██████████| 304/304 [00:24<00:00, 12.44batch/s]\n"
     ]
    },
    {
     "name": "stdout",
     "output_type": "stream",
     "text": [
      "Epoch 8/16, Train-Loss: 0.5221, Val-Loss: 0.5308, Val-F1: 0.7864, Val-Precision: 0.7773, Val-Recall: 0.7959, Val-Accuracy: 0.7777\n"
     ]
    },
    {
     "name": "stderr",
     "output_type": "stream",
     "text": [
      "Training progress: 100%|██████████| 304/304 [00:24<00:00, 12.46batch/s]\n"
     ]
    },
    {
     "name": "stdout",
     "output_type": "stream",
     "text": [
      "Epoch 9/16, Train-Loss: 0.5140, Val-Loss: 0.5245, Val-F1: 0.7864, Val-Precision: 0.7773, Val-Recall: 0.7959, Val-Accuracy: 0.7777\n"
     ]
    },
    {
     "name": "stderr",
     "output_type": "stream",
     "text": [
      "Training progress: 100%|██████████| 304/304 [00:24<00:00, 12.44batch/s]\n"
     ]
    },
    {
     "name": "stdout",
     "output_type": "stream",
     "text": [
      "Epoch 10/16, Train-Loss: 0.5075, Val-Loss: 0.5194, Val-F1: 0.7991, Val-Precision: 0.7723, Val-Recall: 0.8278, Val-Accuracy: 0.7859\n"
     ]
    },
    {
     "name": "stderr",
     "output_type": "stream",
     "text": [
      "Training progress: 100%|██████████| 304/304 [00:24<00:00, 12.49batch/s]\n"
     ]
    },
    {
     "name": "stdout",
     "output_type": "stream",
     "text": [
      "Epoch 11/16, Train-Loss: 0.5024, Val-Loss: 0.5155, Val-F1: 0.7919, Val-Precision: 0.7773, Val-Recall: 0.8070, Val-Accuracy: 0.7818\n"
     ]
    },
    {
     "name": "stderr",
     "output_type": "stream",
     "text": [
      "Training progress: 100%|██████████| 304/304 [00:24<00:00, 12.49batch/s]\n"
     ]
    },
    {
     "name": "stdout",
     "output_type": "stream",
     "text": [
      "Epoch 12/16, Train-Loss: 0.4977, Val-Loss: 0.5123, Val-F1: 0.7966, Val-Precision: 0.7733, Val-Recall: 0.8214, Val-Accuracy: 0.7842\n"
     ]
    },
    {
     "name": "stderr",
     "output_type": "stream",
     "text": [
      "Training progress: 100%|██████████| 304/304 [00:24<00:00, 12.46batch/s]\n"
     ]
    },
    {
     "name": "stdout",
     "output_type": "stream",
     "text": [
      "Epoch 13/16, Train-Loss: 0.4938, Val-Loss: 0.5108, Val-F1: 0.7771, Val-Precision: 0.7758, Val-Recall: 0.7783, Val-Accuracy: 0.7703\n"
     ]
    },
    {
     "name": "stderr",
     "output_type": "stream",
     "text": [
      "Training progress: 100%|██████████| 304/304 [00:24<00:00, 12.49batch/s]\n"
     ]
    },
    {
     "name": "stdout",
     "output_type": "stream",
     "text": [
      "Epoch 14/16, Train-Loss: 0.4919, Val-Loss: 0.5080, Val-F1: 0.7928, Val-Precision: 0.7776, Val-Recall: 0.8086, Val-Accuracy: 0.7826\n"
     ]
    },
    {
     "name": "stderr",
     "output_type": "stream",
     "text": [
      "Training progress: 100%|██████████| 304/304 [00:24<00:00, 12.44batch/s]\n"
     ]
    },
    {
     "name": "stdout",
     "output_type": "stream",
     "text": [
      "Epoch 15/16, Train-Loss: 0.4893, Val-Loss: 0.5066, Val-F1: 0.7919, Val-Precision: 0.7773, Val-Recall: 0.8070, Val-Accuracy: 0.7818\n"
     ]
    },
    {
     "name": "stderr",
     "output_type": "stream",
     "text": [
      "Training progress: 100%|██████████| 304/304 [00:24<00:00, 12.43batch/s]\n"
     ]
    },
    {
     "name": "stdout",
     "output_type": "stream",
     "text": [
      "Epoch 16/16, Train-Loss: 0.4878, Val-Loss: 0.5055, Val-F1: 0.7919, Val-Precision: 0.7773, Val-Recall: 0.8070, Val-Accuracy: 0.7818\n",
      "\n",
      "\u001b[92mRESULTS:\n",
      " F1-Score:0.8149882903981265, Precision:0.7969465648854962, Recall:0.8338658146964856, Accuracy:0.8054187192118226, BCE:0.48568734526634216 \u001b[0m \n",
      "\n",
      "\n",
      "\u001b[91mRUN 72:\u001b[0m\n",
      " DoubleEntanglementVLCircuit \n",
      " lr: 0.001\n"
     ]
    },
    {
     "name": "stderr",
     "output_type": "stream",
     "text": [
      "Training progress: 100%|██████████| 304/304 [00:24<00:00, 12.48batch/s]\n"
     ]
    },
    {
     "name": "stdout",
     "output_type": "stream",
     "text": [
      "Epoch 1/16, Train-Loss: 0.6920, Val-Loss: 0.6898, Val-F1: 0.7030, Val-Precision: 0.5425, Val-Recall: 0.9984, Val-Accuracy: 0.5660\n"
     ]
    },
    {
     "name": "stderr",
     "output_type": "stream",
     "text": [
      "Training progress: 100%|██████████| 304/304 [00:24<00:00, 12.49batch/s]\n"
     ]
    },
    {
     "name": "stdout",
     "output_type": "stream",
     "text": [
      "Epoch 2/16, Train-Loss: 0.6875, Val-Loss: 0.6856, Val-F1: 0.8101, Val-Precision: 0.6940, Val-Recall: 0.9729, Val-Accuracy: 0.7654\n"
     ]
    },
    {
     "name": "stderr",
     "output_type": "stream",
     "text": [
      "Training progress: 100%|██████████| 304/304 [00:24<00:00, 12.47batch/s]\n"
     ]
    },
    {
     "name": "stdout",
     "output_type": "stream",
     "text": [
      "Epoch 3/16, Train-Loss: 0.6830, Val-Loss: 0.6813, Val-F1: 0.8210, Val-Precision: 0.7180, Val-Recall: 0.9585, Val-Accuracy: 0.7851\n"
     ]
    },
    {
     "name": "stderr",
     "output_type": "stream",
     "text": [
      "Training progress: 100%|██████████| 304/304 [00:24<00:00, 12.48batch/s]\n"
     ]
    },
    {
     "name": "stdout",
     "output_type": "stream",
     "text": [
      "Epoch 4/16, Train-Loss: 0.6786, Val-Loss: 0.6773, Val-F1: 0.8250, Val-Precision: 0.7653, Val-Recall: 0.8947, Val-Accuracy: 0.8048\n"
     ]
    },
    {
     "name": "stderr",
     "output_type": "stream",
     "text": [
      "Training progress: 100%|██████████| 304/304 [00:24<00:00, 12.48batch/s]\n"
     ]
    },
    {
     "name": "stdout",
     "output_type": "stream",
     "text": [
      "Epoch 5/16, Train-Loss: 0.6743, Val-Loss: 0.6733, Val-F1: 0.8363, Val-Precision: 0.7526, Val-Recall: 0.9410, Val-Accuracy: 0.8105\n"
     ]
    },
    {
     "name": "stderr",
     "output_type": "stream",
     "text": [
      "Training progress: 100%|██████████| 304/304 [00:24<00:00, 12.45batch/s]\n"
     ]
    },
    {
     "name": "stdout",
     "output_type": "stream",
     "text": [
      "Epoch 6/16, Train-Loss: 0.6701, Val-Loss: 0.6693, Val-F1: 0.8215, Val-Precision: 0.7641, Val-Recall: 0.8884, Val-Accuracy: 0.8015\n"
     ]
    },
    {
     "name": "stderr",
     "output_type": "stream",
     "text": [
      "Training progress: 100%|██████████| 304/304 [00:24<00:00, 12.47batch/s]\n"
     ]
    },
    {
     "name": "stdout",
     "output_type": "stream",
     "text": [
      "Epoch 7/16, Train-Loss: 0.6659, Val-Loss: 0.6654, Val-F1: 0.8194, Val-Precision: 0.7700, Val-Recall: 0.8756, Val-Accuracy: 0.8015\n"
     ]
    },
    {
     "name": "stderr",
     "output_type": "stream",
     "text": [
      "Training progress: 100%|██████████| 304/304 [00:24<00:00, 12.45batch/s]\n"
     ]
    },
    {
     "name": "stdout",
     "output_type": "stream",
     "text": [
      "Epoch 8/16, Train-Loss: 0.6618, Val-Loss: 0.6616, Val-F1: 0.8100, Val-Precision: 0.7709, Val-Recall: 0.8533, Val-Accuracy: 0.7941\n"
     ]
    },
    {
     "name": "stderr",
     "output_type": "stream",
     "text": [
      "Training progress: 100%|██████████| 304/304 [00:24<00:00, 12.48batch/s]\n"
     ]
    },
    {
     "name": "stdout",
     "output_type": "stream",
     "text": [
      "Epoch 9/16, Train-Loss: 0.6578, Val-Loss: 0.6579, Val-F1: 0.8088, Val-Precision: 0.7713, Val-Recall: 0.8501, Val-Accuracy: 0.7933\n"
     ]
    },
    {
     "name": "stderr",
     "output_type": "stream",
     "text": [
      "Training progress: 100%|██████████| 304/304 [00:24<00:00, 12.48batch/s]\n"
     ]
    },
    {
     "name": "stdout",
     "output_type": "stream",
     "text": [
      "Epoch 10/16, Train-Loss: 0.6539, Val-Loss: 0.6542, Val-F1: 0.8091, Val-Precision: 0.7733, Val-Recall: 0.8485, Val-Accuracy: 0.7941\n"
     ]
    },
    {
     "name": "stderr",
     "output_type": "stream",
     "text": [
      "Training progress: 100%|██████████| 304/304 [00:24<00:00, 12.44batch/s]\n"
     ]
    },
    {
     "name": "stdout",
     "output_type": "stream",
     "text": [
      "Epoch 11/16, Train-Loss: 0.6501, Val-Loss: 0.6506, Val-F1: 0.8055, Val-Precision: 0.7719, Val-Recall: 0.8421, Val-Accuracy: 0.7908\n"
     ]
    },
    {
     "name": "stderr",
     "output_type": "stream",
     "text": [
      "Training progress: 100%|██████████| 304/304 [00:24<00:00, 12.47batch/s]\n"
     ]
    },
    {
     "name": "stdout",
     "output_type": "stream",
     "text": [
      "Epoch 12/16, Train-Loss: 0.6462, Val-Loss: 0.6470, Val-F1: 0.8064, Val-Precision: 0.7723, Val-Recall: 0.8437, Val-Accuracy: 0.7916\n"
     ]
    },
    {
     "name": "stderr",
     "output_type": "stream",
     "text": [
      "Training progress: 100%|██████████| 304/304 [00:24<00:00, 12.48batch/s]\n"
     ]
    },
    {
     "name": "stdout",
     "output_type": "stream",
     "text": [
      "Epoch 13/16, Train-Loss: 0.6425, Val-Loss: 0.6436, Val-F1: 0.8064, Val-Precision: 0.7723, Val-Recall: 0.8437, Val-Accuracy: 0.7916\n"
     ]
    },
    {
     "name": "stderr",
     "output_type": "stream",
     "text": [
      "Training progress: 100%|██████████| 304/304 [00:24<00:00, 12.46batch/s]\n"
     ]
    },
    {
     "name": "stdout",
     "output_type": "stream",
     "text": [
      "Epoch 14/16, Train-Loss: 0.6389, Val-Loss: 0.6402, Val-F1: 0.8012, Val-Precision: 0.7722, Val-Recall: 0.8325, Val-Accuracy: 0.7875\n"
     ]
    },
    {
     "name": "stderr",
     "output_type": "stream",
     "text": [
      "Training progress: 100%|██████████| 304/304 [00:24<00:00, 12.52batch/s]\n"
     ]
    },
    {
     "name": "stdout",
     "output_type": "stream",
     "text": [
      "Epoch 15/16, Train-Loss: 0.6354, Val-Loss: 0.6369, Val-F1: 0.8046, Val-Precision: 0.7716, Val-Recall: 0.8405, Val-Accuracy: 0.7900\n"
     ]
    },
    {
     "name": "stderr",
     "output_type": "stream",
     "text": [
      "Training progress: 100%|██████████| 304/304 [00:24<00:00, 12.50batch/s]\n"
     ]
    },
    {
     "name": "stdout",
     "output_type": "stream",
     "text": [
      "Epoch 16/16, Train-Loss: 0.6319, Val-Loss: 0.6337, Val-F1: 0.8021, Val-Precision: 0.7725, Val-Recall: 0.8341, Val-Accuracy: 0.7884\n",
      "\n",
      "\u001b[92mRESULTS:\n",
      " F1-Score:0.8218125960061444, Precision:0.7914201183431953, Recall:0.854632587859425, Accuracy:0.8095238095238095, BCE:0.6305765509605408 \u001b[0m \n",
      "\n",
      "\n",
      "\u001b[91mRUN 73:\u001b[0m\n",
      " Ranga2024Circuit \n",
      " lr: 0.01\n"
     ]
    },
    {
     "name": "stderr",
     "output_type": "stream",
     "text": [
      "Training progress: 100%|██████████| 304/304 [01:03<00:00,  4.80batch/s]\n"
     ]
    },
    {
     "name": "stdout",
     "output_type": "stream",
     "text": [
      "Epoch 1/16, Train-Loss: 0.6881, Val-Loss: 0.6686, Val-F1: 0.7120, Val-Precision: 0.6572, Val-Recall: 0.7767, Val-Accuracy: 0.6768\n"
     ]
    },
    {
     "name": "stderr",
     "output_type": "stream",
     "text": [
      "Training progress: 100%|██████████| 304/304 [01:03<00:00,  4.81batch/s]\n"
     ]
    },
    {
     "name": "stdout",
     "output_type": "stream",
     "text": [
      "Epoch 2/16, Train-Loss: 0.6540, Val-Loss: 0.6464, Val-F1: 0.7191, Val-Precision: 0.6896, Val-Recall: 0.7512, Val-Accuracy: 0.6981\n"
     ]
    },
    {
     "name": "stderr",
     "output_type": "stream",
     "text": [
      "Training progress: 100%|██████████| 304/304 [01:03<00:00,  4.81batch/s]\n"
     ]
    },
    {
     "name": "stdout",
     "output_type": "stream",
     "text": [
      "Epoch 3/16, Train-Loss: 0.6367, Val-Loss: 0.6362, Val-F1: 0.7125, Val-Precision: 0.6581, Val-Recall: 0.7767, Val-Accuracy: 0.6776\n"
     ]
    },
    {
     "name": "stderr",
     "output_type": "stream",
     "text": [
      "Training progress: 100%|██████████| 304/304 [01:03<00:00,  4.80batch/s]\n"
     ]
    },
    {
     "name": "stdout",
     "output_type": "stream",
     "text": [
      "Epoch 4/16, Train-Loss: 0.6288, Val-Loss: 0.6310, Val-F1: 0.7202, Val-Precision: 0.6987, Val-Recall: 0.7432, Val-Accuracy: 0.7030\n"
     ]
    },
    {
     "name": "stderr",
     "output_type": "stream",
     "text": [
      "Training progress: 100%|██████████| 304/304 [01:03<00:00,  4.80batch/s]\n"
     ]
    },
    {
     "name": "stdout",
     "output_type": "stream",
     "text": [
      "Epoch 5/16, Train-Loss: 0.6244, Val-Loss: 0.6287, Val-F1: 0.7202, Val-Precision: 0.6987, Val-Recall: 0.7432, Val-Accuracy: 0.7030\n"
     ]
    },
    {
     "name": "stderr",
     "output_type": "stream",
     "text": [
      "Training progress: 100%|██████████| 304/304 [01:03<00:00,  4.80batch/s]\n"
     ]
    },
    {
     "name": "stdout",
     "output_type": "stream",
     "text": [
      "Epoch 6/16, Train-Loss: 0.6223, Val-Loss: 0.6282, Val-F1: 0.7164, Val-Precision: 0.7059, Val-Recall: 0.7273, Val-Accuracy: 0.7039\n"
     ]
    },
    {
     "name": "stderr",
     "output_type": "stream",
     "text": [
      "Training progress: 100%|██████████| 304/304 [01:03<00:00,  4.80batch/s]\n"
     ]
    },
    {
     "name": "stdout",
     "output_type": "stream",
     "text": [
      "Epoch 7/16, Train-Loss: 0.6213, Val-Loss: 0.6273, Val-F1: 0.7184, Val-Precision: 0.6805, Val-Recall: 0.7608, Val-Accuracy: 0.6932\n"
     ]
    },
    {
     "name": "stderr",
     "output_type": "stream",
     "text": [
      "Training progress: 100%|██████████| 304/304 [01:03<00:00,  4.80batch/s]\n"
     ]
    },
    {
     "name": "stdout",
     "output_type": "stream",
     "text": [
      "Epoch 8/16, Train-Loss: 0.6206, Val-Loss: 0.6271, Val-F1: 0.7204, Val-Precision: 0.6948, Val-Recall: 0.7480, Val-Accuracy: 0.7014\n"
     ]
    },
    {
     "name": "stderr",
     "output_type": "stream",
     "text": [
      "Training progress: 100%|██████████| 304/304 [01:03<00:00,  4.80batch/s]\n"
     ]
    },
    {
     "name": "stdout",
     "output_type": "stream",
     "text": [
      "Epoch 9/16, Train-Loss: 0.6208, Val-Loss: 0.6278, Val-F1: 0.7160, Val-Precision: 0.7065, Val-Recall: 0.7257, Val-Accuracy: 0.7039\n"
     ]
    },
    {
     "name": "stderr",
     "output_type": "stream",
     "text": [
      "Training progress: 100%|██████████| 304/304 [01:03<00:00,  4.81batch/s]\n"
     ]
    },
    {
     "name": "stdout",
     "output_type": "stream",
     "text": [
      "Epoch 10/16, Train-Loss: 0.6205, Val-Loss: 0.6279, Val-F1: 0.7160, Val-Precision: 0.7065, Val-Recall: 0.7257, Val-Accuracy: 0.7039\n"
     ]
    },
    {
     "name": "stderr",
     "output_type": "stream",
     "text": [
      "Training progress: 100%|██████████| 304/304 [01:03<00:00,  4.80batch/s]\n"
     ]
    },
    {
     "name": "stdout",
     "output_type": "stream",
     "text": [
      "Epoch 11/16, Train-Loss: 0.6204, Val-Loss: 0.6271, Val-F1: 0.7158, Val-Precision: 0.6836, Val-Recall: 0.7512, Val-Accuracy: 0.6932\n"
     ]
    },
    {
     "name": "stderr",
     "output_type": "stream",
     "text": [
      "Training progress: 100%|██████████| 304/304 [01:03<00:00,  4.80batch/s]\n"
     ]
    },
    {
     "name": "stdout",
     "output_type": "stream",
     "text": [
      "Epoch 12/16, Train-Loss: 0.6207, Val-Loss: 0.6281, Val-F1: 0.7146, Val-Precision: 0.7085, Val-Recall: 0.7209, Val-Accuracy: 0.7039\n"
     ]
    },
    {
     "name": "stderr",
     "output_type": "stream",
     "text": [
      "Training progress: 100%|██████████| 304/304 [01:03<00:00,  4.80batch/s]\n"
     ]
    },
    {
     "name": "stdout",
     "output_type": "stream",
     "text": [
      "Epoch 13/16, Train-Loss: 0.6204, Val-Loss: 0.6276, Val-F1: 0.7144, Val-Precision: 0.6709, Val-Recall: 0.7640, Val-Accuracy: 0.6858\n"
     ]
    },
    {
     "name": "stderr",
     "output_type": "stream",
     "text": [
      "Training progress: 100%|██████████| 304/304 [01:03<00:00,  4.80batch/s]\n"
     ]
    },
    {
     "name": "stdout",
     "output_type": "stream",
     "text": [
      "Epoch 14/16, Train-Loss: 0.6203, Val-Loss: 0.6277, Val-F1: 0.7184, Val-Precision: 0.7068, Val-Recall: 0.7305, Val-Accuracy: 0.7055\n"
     ]
    },
    {
     "name": "stderr",
     "output_type": "stream",
     "text": [
      "Training progress: 100%|██████████| 304/304 [01:03<00:00,  4.80batch/s]\n"
     ]
    },
    {
     "name": "stdout",
     "output_type": "stream",
     "text": [
      "Epoch 15/16, Train-Loss: 0.6207, Val-Loss: 0.6276, Val-F1: 0.7179, Val-Precision: 0.7057, Val-Recall: 0.7305, Val-Accuracy: 0.7047\n"
     ]
    },
    {
     "name": "stderr",
     "output_type": "stream",
     "text": [
      "Training progress: 100%|██████████| 304/304 [01:03<00:00,  4.80batch/s]\n"
     ]
    },
    {
     "name": "stdout",
     "output_type": "stream",
     "text": [
      "Epoch 16/16, Train-Loss: 0.6207, Val-Loss: 0.6274, Val-F1: 0.7209, Val-Precision: 0.7014, Val-Recall: 0.7416, Val-Accuracy: 0.7047\n",
      "\n",
      "\u001b[92mRESULTS:\n",
      " F1-Score:0.7139588100686499, Precision:0.6832116788321168, Recall:0.7476038338658147, Accuracy:0.6921182266009852, BCE:0.6223020553588867 \u001b[0m \n",
      "\n",
      "\n",
      "\u001b[91mRUN 74:\u001b[0m\n",
      " Ranga2024Circuit \n",
      " lr: 0.001\n"
     ]
    },
    {
     "name": "stderr",
     "output_type": "stream",
     "text": [
      "Training progress: 100%|██████████| 304/304 [01:03<00:00,  4.81batch/s]\n"
     ]
    },
    {
     "name": "stdout",
     "output_type": "stream",
     "text": [
      "Epoch 1/16, Train-Loss: 0.7098, Val-Loss: 0.7059, Val-F1: 0.4927, Val-Precision: 0.4205, Val-Recall: 0.5949, Val-Accuracy: 0.3700\n"
     ]
    },
    {
     "name": "stderr",
     "output_type": "stream",
     "text": [
      "Training progress: 100%|██████████| 304/304 [01:03<00:00,  4.80batch/s]\n"
     ]
    },
    {
     "name": "stdout",
     "output_type": "stream",
     "text": [
      "Epoch 2/16, Train-Loss: 0.7039, Val-Loss: 0.7006, Val-F1: 0.5338, Val-Precision: 0.4443, Val-Recall: 0.6683, Val-Accuracy: 0.3995\n"
     ]
    },
    {
     "name": "stderr",
     "output_type": "stream",
     "text": [
      "Training progress: 100%|██████████| 304/304 [01:03<00:00,  4.81batch/s]\n"
     ]
    },
    {
     "name": "stdout",
     "output_type": "stream",
     "text": [
      "Epoch 3/16, Train-Loss: 0.6985, Val-Loss: 0.6957, Val-F1: 0.6725, Val-Precision: 0.5121, Val-Recall: 0.9793, Val-Accuracy: 0.5094\n"
     ]
    },
    {
     "name": "stderr",
     "output_type": "stream",
     "text": [
      "Training progress: 100%|██████████| 304/304 [01:03<00:00,  4.80batch/s]\n"
     ]
    },
    {
     "name": "stdout",
     "output_type": "stream",
     "text": [
      "Epoch 4/16, Train-Loss: 0.6933, Val-Loss: 0.6909, Val-F1: 0.6819, Val-Precision: 0.5240, Val-Recall: 0.9761, Val-Accuracy: 0.5316\n"
     ]
    },
    {
     "name": "stderr",
     "output_type": "stream",
     "text": [
      "Training progress: 100%|██████████| 304/304 [01:03<00:00,  4.80batch/s]\n"
     ]
    },
    {
     "name": "stdout",
     "output_type": "stream",
     "text": [
      "Epoch 5/16, Train-Loss: 0.6885, Val-Loss: 0.6865, Val-F1: 0.7016, Val-Precision: 0.5949, Val-Recall: 0.8549, Val-Accuracy: 0.6259\n"
     ]
    },
    {
     "name": "stderr",
     "output_type": "stream",
     "text": [
      "Training progress: 100%|██████████| 304/304 [01:03<00:00,  4.80batch/s]\n"
     ]
    },
    {
     "name": "stdout",
     "output_type": "stream",
     "text": [
      "Epoch 6/16, Train-Loss: 0.6839, Val-Loss: 0.6823, Val-F1: 0.7071, Val-Precision: 0.6404, Val-Recall: 0.7895, Val-Accuracy: 0.6637\n"
     ]
    },
    {
     "name": "stderr",
     "output_type": "stream",
     "text": [
      "Training progress: 100%|██████████| 304/304 [01:03<00:00,  4.80batch/s]\n"
     ]
    },
    {
     "name": "stdout",
     "output_type": "stream",
     "text": [
      "Epoch 7/16, Train-Loss: 0.6795, Val-Loss: 0.6784, Val-F1: 0.7168, Val-Precision: 0.6667, Val-Recall: 0.7751, Val-Accuracy: 0.6850\n"
     ]
    },
    {
     "name": "stderr",
     "output_type": "stream",
     "text": [
      "Training progress: 100%|██████████| 304/304 [01:03<00:00,  4.81batch/s]\n"
     ]
    },
    {
     "name": "stdout",
     "output_type": "stream",
     "text": [
      "Epoch 8/16, Train-Loss: 0.6755, Val-Loss: 0.6747, Val-F1: 0.7129, Val-Precision: 0.6577, Val-Recall: 0.7783, Val-Accuracy: 0.6776\n"
     ]
    },
    {
     "name": "stderr",
     "output_type": "stream",
     "text": [
      "Training progress: 100%|██████████| 304/304 [01:03<00:00,  4.81batch/s]\n"
     ]
    },
    {
     "name": "stdout",
     "output_type": "stream",
     "text": [
      "Epoch 9/16, Train-Loss: 0.6716, Val-Loss: 0.6712, Val-F1: 0.7183, Val-Precision: 0.6790, Val-Recall: 0.7624, Val-Accuracy: 0.6924\n"
     ]
    },
    {
     "name": "stderr",
     "output_type": "stream",
     "text": [
      "Training progress: 100%|██████████| 304/304 [01:03<00:00,  4.80batch/s]\n"
     ]
    },
    {
     "name": "stdout",
     "output_type": "stream",
     "text": [
      "Epoch 10/16, Train-Loss: 0.6680, Val-Loss: 0.6678, Val-F1: 0.7175, Val-Precision: 0.6815, Val-Recall: 0.7576, Val-Accuracy: 0.6932\n"
     ]
    },
    {
     "name": "stderr",
     "output_type": "stream",
     "text": [
      "Training progress: 100%|██████████| 304/304 [01:03<00:00,  4.80batch/s]\n"
     ]
    },
    {
     "name": "stdout",
     "output_type": "stream",
     "text": [
      "Epoch 11/16, Train-Loss: 0.6645, Val-Loss: 0.6648, Val-F1: 0.7184, Val-Precision: 0.6805, Val-Recall: 0.7608, Val-Accuracy: 0.6932\n"
     ]
    },
    {
     "name": "stderr",
     "output_type": "stream",
     "text": [
      "Training progress: 100%|██████████| 304/304 [01:03<00:00,  4.81batch/s]\n"
     ]
    },
    {
     "name": "stdout",
     "output_type": "stream",
     "text": [
      "Epoch 12/16, Train-Loss: 0.6614, Val-Loss: 0.6619, Val-F1: 0.7186, Val-Precision: 0.6835, Val-Recall: 0.7576, Val-Accuracy: 0.6948\n"
     ]
    },
    {
     "name": "stderr",
     "output_type": "stream",
     "text": [
      "Training progress: 100%|██████████| 304/304 [01:03<00:00,  4.80batch/s]\n"
     ]
    },
    {
     "name": "stdout",
     "output_type": "stream",
     "text": [
      "Epoch 13/16, Train-Loss: 0.6583, Val-Loss: 0.6592, Val-F1: 0.7189, Val-Precision: 0.6814, Val-Recall: 0.7608, Val-Accuracy: 0.6940\n"
     ]
    },
    {
     "name": "stderr",
     "output_type": "stream",
     "text": [
      "Training progress: 100%|██████████| 304/304 [01:03<00:00,  4.80batch/s]\n"
     ]
    },
    {
     "name": "stdout",
     "output_type": "stream",
     "text": [
      "Epoch 14/16, Train-Loss: 0.6555, Val-Loss: 0.6566, Val-F1: 0.7153, Val-Precision: 0.6826, Val-Recall: 0.7512, Val-Accuracy: 0.6924\n"
     ]
    },
    {
     "name": "stderr",
     "output_type": "stream",
     "text": [
      "Training progress: 100%|██████████| 304/304 [01:03<00:00,  4.80batch/s]\n"
     ]
    },
    {
     "name": "stdout",
     "output_type": "stream",
     "text": [
      "Epoch 15/16, Train-Loss: 0.6530, Val-Loss: 0.6543, Val-F1: 0.7153, Val-Precision: 0.6826, Val-Recall: 0.7512, Val-Accuracy: 0.6924\n"
     ]
    },
    {
     "name": "stderr",
     "output_type": "stream",
     "text": [
      "Training progress: 100%|██████████| 304/304 [01:03<00:00,  4.80batch/s]\n"
     ]
    },
    {
     "name": "stdout",
     "output_type": "stream",
     "text": [
      "Epoch 16/16, Train-Loss: 0.6506, Val-Loss: 0.6522, Val-F1: 0.7153, Val-Precision: 0.6826, Val-Recall: 0.7512, Val-Accuracy: 0.6924\n",
      "\n",
      "\u001b[92mRESULTS:\n",
      " F1-Score:0.7221396731054978, Precision:0.675, Recall:0.7763578274760383, Accuracy:0.6929392446633826, BCE:0.651028573513031 \u001b[0m \n",
      "\n",
      "\n",
      "\u001b[91mRUN 75:\u001b[0m\n",
      " Senokosov2024Circuit \n",
      " lr: 0.01\n"
     ]
    },
    {
     "name": "stderr",
     "output_type": "stream",
     "text": [
      "Training progress: 100%|██████████| 304/304 [00:42<00:00,  7.10batch/s]\n"
     ]
    },
    {
     "name": "stdout",
     "output_type": "stream",
     "text": [
      "Epoch 1/16, Train-Loss: 0.6677, Val-Loss: 0.5972, Val-F1: 0.8730, Val-Precision: 0.8537, Val-Recall: 0.8931, Val-Accuracy: 0.8663\n"
     ]
    },
    {
     "name": "stderr",
     "output_type": "stream",
     "text": [
      "Training progress: 100%|██████████| 304/304 [00:42<00:00,  7.10batch/s]\n"
     ]
    },
    {
     "name": "stdout",
     "output_type": "stream",
     "text": [
      "Epoch 2/16, Train-Loss: 0.5506, Val-Loss: 0.5134, Val-F1: 0.8765, Val-Precision: 0.8545, Val-Recall: 0.8995, Val-Accuracy: 0.8696\n"
     ]
    },
    {
     "name": "stderr",
     "output_type": "stream",
     "text": [
      "Training progress: 100%|██████████| 304/304 [00:42<00:00,  7.10batch/s]\n"
     ]
    },
    {
     "name": "stdout",
     "output_type": "stream",
     "text": [
      "Epoch 3/16, Train-Loss: 0.4868, Val-Loss: 0.4689, Val-F1: 0.8958, Val-Precision: 0.8561, Val-Recall: 0.9394, Val-Accuracy: 0.8876\n"
     ]
    },
    {
     "name": "stderr",
     "output_type": "stream",
     "text": [
      "Training progress: 100%|██████████| 304/304 [00:42<00:00,  7.08batch/s]\n"
     ]
    },
    {
     "name": "stdout",
     "output_type": "stream",
     "text": [
      "Epoch 4/16, Train-Loss: 0.4507, Val-Loss: 0.4430, Val-F1: 0.8863, Val-Precision: 0.8548, Val-Recall: 0.9203, Val-Accuracy: 0.8786\n"
     ]
    },
    {
     "name": "stderr",
     "output_type": "stream",
     "text": [
      "Training progress: 100%|██████████| 304/304 [00:42<00:00,  7.10batch/s]\n"
     ]
    },
    {
     "name": "stdout",
     "output_type": "stream",
     "text": [
      "Epoch 5/16, Train-Loss: 0.4296, Val-Loss: 0.4279, Val-F1: 0.8889, Val-Precision: 0.8555, Val-Recall: 0.9250, Val-Accuracy: 0.8811\n"
     ]
    },
    {
     "name": "stderr",
     "output_type": "stream",
     "text": [
      "Training progress: 100%|██████████| 304/304 [00:42<00:00,  7.10batch/s]\n"
     ]
    },
    {
     "name": "stdout",
     "output_type": "stream",
     "text": [
      "Epoch 6/16, Train-Loss: 0.4161, Val-Loss: 0.4189, Val-F1: 0.8836, Val-Precision: 0.8552, Val-Recall: 0.9139, Val-Accuracy: 0.8761\n"
     ]
    },
    {
     "name": "stderr",
     "output_type": "stream",
     "text": [
      "Training progress: 100%|██████████| 304/304 [00:42<00:00,  7.10batch/s]\n"
     ]
    },
    {
     "name": "stdout",
     "output_type": "stream",
     "text": [
      "Epoch 7/16, Train-Loss: 0.4086, Val-Loss: 0.4131, Val-F1: 0.8958, Val-Precision: 0.8561, Val-Recall: 0.9394, Val-Accuracy: 0.8876\n"
     ]
    },
    {
     "name": "stderr",
     "output_type": "stream",
     "text": [
      "Training progress: 100%|██████████| 304/304 [00:42<00:00,  7.08batch/s]\n"
     ]
    },
    {
     "name": "stdout",
     "output_type": "stream",
     "text": [
      "Epoch 8/16, Train-Loss: 0.4031, Val-Loss: 0.4100, Val-F1: 0.8939, Val-Precision: 0.8514, Val-Recall: 0.9410, Val-Accuracy: 0.8852\n"
     ]
    },
    {
     "name": "stderr",
     "output_type": "stream",
     "text": [
      "Training progress: 100%|██████████| 304/304 [00:42<00:00,  7.09batch/s]\n"
     ]
    },
    {
     "name": "stdout",
     "output_type": "stream",
     "text": [
      "Epoch 9/16, Train-Loss: 0.4001, Val-Loss: 0.4078, Val-F1: 0.8872, Val-Precision: 0.8550, Val-Recall: 0.9219, Val-Accuracy: 0.8794\n"
     ]
    },
    {
     "name": "stderr",
     "output_type": "stream",
     "text": [
      "Training progress: 100%|██████████| 304/304 [00:42<00:00,  7.08batch/s]\n"
     ]
    },
    {
     "name": "stdout",
     "output_type": "stream",
     "text": [
      "Epoch 10/16, Train-Loss: 0.3980, Val-Loss: 0.4067, Val-F1: 0.8863, Val-Precision: 0.8548, Val-Recall: 0.9203, Val-Accuracy: 0.8786\n"
     ]
    },
    {
     "name": "stderr",
     "output_type": "stream",
     "text": [
      "Training progress: 100%|██████████| 304/304 [00:42<00:00,  7.11batch/s]\n"
     ]
    },
    {
     "name": "stdout",
     "output_type": "stream",
     "text": [
      "Epoch 11/16, Train-Loss: 0.3967, Val-Loss: 0.4059, Val-F1: 0.8897, Val-Precision: 0.8557, Val-Recall: 0.9266, Val-Accuracy: 0.8819\n"
     ]
    },
    {
     "name": "stderr",
     "output_type": "stream",
     "text": [
      "Training progress: 100%|██████████| 304/304 [00:42<00:00,  7.10batch/s]\n"
     ]
    },
    {
     "name": "stdout",
     "output_type": "stream",
     "text": [
      "Epoch 12/16, Train-Loss: 0.3957, Val-Loss: 0.4057, Val-F1: 0.8889, Val-Precision: 0.8555, Val-Recall: 0.9250, Val-Accuracy: 0.8811\n"
     ]
    },
    {
     "name": "stderr",
     "output_type": "stream",
     "text": [
      "Training progress: 100%|██████████| 304/304 [00:42<00:00,  7.08batch/s]\n"
     ]
    },
    {
     "name": "stdout",
     "output_type": "stream",
     "text": [
      "Epoch 13/16, Train-Loss: 0.3950, Val-Loss: 0.4055, Val-F1: 0.8958, Val-Precision: 0.8561, Val-Recall: 0.9394, Val-Accuracy: 0.8876\n"
     ]
    },
    {
     "name": "stderr",
     "output_type": "stream",
     "text": [
      "Training progress: 100%|██████████| 304/304 [00:42<00:00,  7.09batch/s]\n"
     ]
    },
    {
     "name": "stdout",
     "output_type": "stream",
     "text": [
      "Epoch 14/16, Train-Loss: 0.3948, Val-Loss: 0.4054, Val-F1: 0.8891, Val-Precision: 0.8544, Val-Recall: 0.9266, Val-Accuracy: 0.8811\n"
     ]
    },
    {
     "name": "stderr",
     "output_type": "stream",
     "text": [
      "Training progress: 100%|██████████| 304/304 [00:42<00:00,  7.07batch/s]\n"
     ]
    },
    {
     "name": "stdout",
     "output_type": "stream",
     "text": [
      "Epoch 15/16, Train-Loss: 0.3945, Val-Loss: 0.4055, Val-F1: 0.8897, Val-Precision: 0.8557, Val-Recall: 0.9266, Val-Accuracy: 0.8819\n"
     ]
    },
    {
     "name": "stderr",
     "output_type": "stream",
     "text": [
      "Training progress: 100%|██████████| 304/304 [00:42<00:00,  7.08batch/s]\n"
     ]
    },
    {
     "name": "stdout",
     "output_type": "stream",
     "text": [
      "Epoch 16/16, Train-Loss: 0.3939, Val-Loss: 0.4055, Val-F1: 0.8916, Val-Precision: 0.8551, Val-Recall: 0.9314, Val-Accuracy: 0.8835\n",
      "\n",
      "\u001b[92mRESULTS:\n",
      " F1-Score:0.8819018404907976, Precision:0.8480825958702065, Recall:0.9185303514376997, Accuracy:0.8735632183908046, BCE:0.4021012485027313 \u001b[0m \n",
      "\n",
      "\n",
      "\u001b[91mRUN 76:\u001b[0m\n",
      " Senokosov2024Circuit \n",
      " lr: 0.001\n"
     ]
    },
    {
     "name": "stderr",
     "output_type": "stream",
     "text": [
      "Training progress: 100%|██████████| 304/304 [00:42<00:00,  7.11batch/s]\n"
     ]
    },
    {
     "name": "stdout",
     "output_type": "stream",
     "text": [
      "Epoch 1/16, Train-Loss: 0.7428, Val-Loss: 0.7320, Val-F1: 0.4786, Val-Precision: 0.4033, Val-Recall: 0.5885, Val-Accuracy: 0.3404\n"
     ]
    },
    {
     "name": "stderr",
     "output_type": "stream",
     "text": [
      "Training progress: 100%|██████████| 304/304 [00:42<00:00,  7.09batch/s]\n"
     ]
    },
    {
     "name": "stdout",
     "output_type": "stream",
     "text": [
      "Epoch 2/16, Train-Loss: 0.7225, Val-Loss: 0.7134, Val-F1: 0.2203, Val-Precision: 0.2145, Val-Recall: 0.2265, Val-Accuracy: 0.1756\n"
     ]
    },
    {
     "name": "stderr",
     "output_type": "stream",
     "text": [
      "Training progress: 100%|██████████| 304/304 [00:42<00:00,  7.08batch/s]\n"
     ]
    },
    {
     "name": "stdout",
     "output_type": "stream",
     "text": [
      "Epoch 3/16, Train-Loss: 0.7048, Val-Loss: 0.6962, Val-F1: 0.0021, Val-Precision: 0.0029, Val-Recall: 0.0016, Val-Accuracy: 0.2051\n"
     ]
    },
    {
     "name": "stderr",
     "output_type": "stream",
     "text": [
      "Training progress: 100%|██████████| 304/304 [00:42<00:00,  7.09batch/s]\n"
     ]
    },
    {
     "name": "stdout",
     "output_type": "stream",
     "text": [
      "Epoch 4/16, Train-Loss: 0.6879, Val-Loss: 0.6795, Val-F1: 0.6790, Val-Precision: 0.8703, Val-Recall: 0.5566, Val-Accuracy: 0.7293\n"
     ]
    },
    {
     "name": "stderr",
     "output_type": "stream",
     "text": [
      "Training progress: 100%|██████████| 304/304 [00:42<00:00,  7.09batch/s]\n"
     ]
    },
    {
     "name": "stdout",
     "output_type": "stream",
     "text": [
      "Epoch 5/16, Train-Loss: 0.6717, Val-Loss: 0.6637, Val-F1: 0.7955, Val-Precision: 0.8665, Val-Recall: 0.7352, Val-Accuracy: 0.8056\n"
     ]
    },
    {
     "name": "stderr",
     "output_type": "stream",
     "text": [
      "Training progress: 100%|██████████| 304/304 [00:42<00:00,  7.09batch/s]\n"
     ]
    },
    {
     "name": "stdout",
     "output_type": "stream",
     "text": [
      "Epoch 6/16, Train-Loss: 0.6563, Val-Loss: 0.6487, Val-F1: 0.8353, Val-Precision: 0.8637, Val-Recall: 0.8086, Val-Accuracy: 0.8359\n"
     ]
    },
    {
     "name": "stderr",
     "output_type": "stream",
     "text": [
      "Training progress: 100%|██████████| 304/304 [00:42<00:00,  7.11batch/s]\n"
     ]
    },
    {
     "name": "stdout",
     "output_type": "stream",
     "text": [
      "Epoch 7/16, Train-Loss: 0.6416, Val-Loss: 0.6344, Val-F1: 0.8436, Val-Precision: 0.8619, Val-Recall: 0.8262, Val-Accuracy: 0.8425\n"
     ]
    },
    {
     "name": "stderr",
     "output_type": "stream",
     "text": [
      "Training progress: 100%|██████████| 304/304 [00:42<00:00,  7.10batch/s]\n"
     ]
    },
    {
     "name": "stdout",
     "output_type": "stream",
     "text": [
      "Epoch 8/16, Train-Loss: 0.6276, Val-Loss: 0.6208, Val-F1: 0.8664, Val-Precision: 0.8589, Val-Recall: 0.8740, Val-Accuracy: 0.8614\n"
     ]
    },
    {
     "name": "stderr",
     "output_type": "stream",
     "text": [
      "Training progress: 100%|██████████| 304/304 [00:42<00:00,  7.09batch/s]\n"
     ]
    },
    {
     "name": "stdout",
     "output_type": "stream",
     "text": [
      "Epoch 9/16, Train-Loss: 0.6143, Val-Loss: 0.6079, Val-F1: 0.8619, Val-Precision: 0.8578, Val-Recall: 0.8660, Val-Accuracy: 0.8573\n"
     ]
    },
    {
     "name": "stderr",
     "output_type": "stream",
     "text": [
      "Training progress: 100%|██████████| 304/304 [00:42<00:00,  7.10batch/s]\n"
     ]
    },
    {
     "name": "stdout",
     "output_type": "stream",
     "text": [
      "Epoch 10/16, Train-Loss: 0.6016, Val-Loss: 0.5956, Val-F1: 0.8664, Val-Precision: 0.8589, Val-Recall: 0.8740, Val-Accuracy: 0.8614\n"
     ]
    },
    {
     "name": "stderr",
     "output_type": "stream",
     "text": [
      "Training progress: 100%|██████████| 304/304 [00:42<00:00,  7.09batch/s]\n"
     ]
    },
    {
     "name": "stdout",
     "output_type": "stream",
     "text": [
      "Epoch 11/16, Train-Loss: 0.5896, Val-Loss: 0.5841, Val-F1: 0.8715, Val-Precision: 0.8567, Val-Recall: 0.8868, Val-Accuracy: 0.8655\n"
     ]
    },
    {
     "name": "stderr",
     "output_type": "stream",
     "text": [
      "Training progress: 100%|██████████| 304/304 [00:42<00:00,  7.10batch/s]\n"
     ]
    },
    {
     "name": "stdout",
     "output_type": "stream",
     "text": [
      "Epoch 12/16, Train-Loss: 0.5782, Val-Loss: 0.5731, Val-F1: 0.8701, Val-Precision: 0.8541, Val-Recall: 0.8868, Val-Accuracy: 0.8638\n"
     ]
    },
    {
     "name": "stderr",
     "output_type": "stream",
     "text": [
      "Training progress: 100%|██████████| 304/304 [00:42<00:00,  7.15batch/s]\n"
     ]
    },
    {
     "name": "stdout",
     "output_type": "stream",
     "text": [
      "Epoch 13/16, Train-Loss: 0.5673, Val-Loss: 0.5627, Val-F1: 0.8721, Val-Precision: 0.8534, Val-Recall: 0.8915, Val-Accuracy: 0.8655\n"
     ]
    },
    {
     "name": "stderr",
     "output_type": "stream",
     "text": [
      "Training progress: 100%|██████████| 304/304 [00:42<00:00,  7.12batch/s]\n"
     ]
    },
    {
     "name": "stdout",
     "output_type": "stream",
     "text": [
      "Epoch 14/16, Train-Loss: 0.5572, Val-Loss: 0.5528, Val-F1: 0.8712, Val-Precision: 0.8532, Val-Recall: 0.8900, Val-Accuracy: 0.8646\n"
     ]
    },
    {
     "name": "stderr",
     "output_type": "stream",
     "text": [
      "Training progress: 100%|██████████| 304/304 [00:42<00:00,  7.16batch/s]\n"
     ]
    },
    {
     "name": "stdout",
     "output_type": "stream",
     "text": [
      "Epoch 15/16, Train-Loss: 0.5474, Val-Loss: 0.5436, Val-F1: 0.8730, Val-Precision: 0.8537, Val-Recall: 0.8931, Val-Accuracy: 0.8663\n"
     ]
    },
    {
     "name": "stderr",
     "output_type": "stream",
     "text": [
      "Training progress: 100%|██████████| 304/304 [00:43<00:00,  7.03batch/s]\n"
     ]
    },
    {
     "name": "stdout",
     "output_type": "stream",
     "text": [
      "Epoch 16/16, Train-Loss: 0.5381, Val-Loss: 0.5348, Val-F1: 0.8756, Val-Precision: 0.8543, Val-Recall: 0.8979, Val-Accuracy: 0.8687\n",
      "\n",
      "\u001b[92mRESULTS:\n",
      " F1-Score:0.8763523956723338, Precision:0.8488023952095808, Recall:0.9057507987220448, Accuracy:0.8686371100164204, BCE:0.5354301333427429 \u001b[0m \n",
      "\n",
      "\n",
      "\u001b[91mRUN 77:\u001b[0m\n",
      " Anusha2024Circuit \n",
      " lr: 0.01\n"
     ]
    },
    {
     "name": "stderr",
     "output_type": "stream",
     "text": [
      "Training progress: 100%|██████████| 304/304 [00:18<00:00, 16.57batch/s]\n"
     ]
    },
    {
     "name": "stdout",
     "output_type": "stream",
     "text": [
      "Epoch 1/16, Train-Loss: 0.6999, Val-Loss: 0.6892, Val-F1: 0.7211, Val-Precision: 0.6011, Val-Recall: 0.9011, Val-Accuracy: 0.6415\n"
     ]
    },
    {
     "name": "stderr",
     "output_type": "stream",
     "text": [
      "Training progress: 100%|██████████| 304/304 [00:18<00:00, 16.48batch/s]\n"
     ]
    },
    {
     "name": "stdout",
     "output_type": "stream",
     "text": [
      "Epoch 2/16, Train-Loss: 0.6843, Val-Loss: 0.6780, Val-F1: 0.5921, Val-Precision: 0.5974, Val-Recall: 0.5869, Val-Accuracy: 0.5841\n"
     ]
    },
    {
     "name": "stderr",
     "output_type": "stream",
     "text": [
      "Training progress: 100%|██████████| 304/304 [00:18<00:00, 16.48batch/s]\n"
     ]
    },
    {
     "name": "stdout",
     "output_type": "stream",
     "text": [
      "Epoch 3/16, Train-Loss: 0.6768, Val-Loss: 0.6732, Val-F1: 0.6759, Val-Precision: 0.5993, Val-Recall: 0.7751, Val-Accuracy: 0.6177\n"
     ]
    },
    {
     "name": "stderr",
     "output_type": "stream",
     "text": [
      "Training progress: 100%|██████████| 304/304 [00:18<00:00, 16.51batch/s]\n"
     ]
    },
    {
     "name": "stdout",
     "output_type": "stream",
     "text": [
      "Epoch 4/16, Train-Loss: 0.6739, Val-Loss: 0.6704, Val-F1: 0.5717, Val-Precision: 0.5948, Val-Recall: 0.5502, Val-Accuracy: 0.5759\n"
     ]
    },
    {
     "name": "stderr",
     "output_type": "stream",
     "text": [
      "Training progress: 100%|██████████| 304/304 [00:18<00:00, 16.52batch/s]\n"
     ]
    },
    {
     "name": "stdout",
     "output_type": "stream",
     "text": [
      "Epoch 5/16, Train-Loss: 0.6721, Val-Loss: 0.6689, Val-F1: 0.6096, Val-Precision: 0.5904, Val-Recall: 0.6300, Val-Accuracy: 0.5849\n"
     ]
    },
    {
     "name": "stderr",
     "output_type": "stream",
     "text": [
      "Training progress: 100%|██████████| 304/304 [00:18<00:00, 16.10batch/s]\n"
     ]
    },
    {
     "name": "stdout",
     "output_type": "stream",
     "text": [
      "Epoch 6/16, Train-Loss: 0.6711, Val-Loss: 0.6686, Val-F1: 0.5717, Val-Precision: 0.5948, Val-Recall: 0.5502, Val-Accuracy: 0.5759\n"
     ]
    },
    {
     "name": "stderr",
     "output_type": "stream",
     "text": [
      "Training progress: 100%|██████████| 304/304 [00:18<00:00, 16.43batch/s]\n"
     ]
    },
    {
     "name": "stdout",
     "output_type": "stream",
     "text": [
      "Epoch 7/16, Train-Loss: 0.6711, Val-Loss: 0.6683, Val-F1: 0.6499, Val-Precision: 0.5926, Val-Recall: 0.7193, Val-Accuracy: 0.6013\n"
     ]
    },
    {
     "name": "stderr",
     "output_type": "stream",
     "text": [
      "Training progress: 100%|██████████| 304/304 [00:18<00:00, 16.54batch/s]\n"
     ]
    },
    {
     "name": "stdout",
     "output_type": "stream",
     "text": [
      "Epoch 8/16, Train-Loss: 0.6705, Val-Loss: 0.6678, Val-F1: 0.6344, Val-Precision: 0.5950, Val-Recall: 0.6794, Val-Accuracy: 0.5972\n"
     ]
    },
    {
     "name": "stderr",
     "output_type": "stream",
     "text": [
      "Training progress: 100%|██████████| 304/304 [00:18<00:00, 16.53batch/s]\n"
     ]
    },
    {
     "name": "stdout",
     "output_type": "stream",
     "text": [
      "Epoch 9/16, Train-Loss: 0.6706, Val-Loss: 0.6677, Val-F1: 0.5944, Val-Precision: 0.5939, Val-Recall: 0.5949, Val-Accuracy: 0.5824\n"
     ]
    },
    {
     "name": "stderr",
     "output_type": "stream",
     "text": [
      "Training progress: 100%|██████████| 304/304 [00:18<00:00, 16.55batch/s]\n"
     ]
    },
    {
     "name": "stdout",
     "output_type": "stream",
     "text": [
      "Epoch 10/16, Train-Loss: 0.6704, Val-Loss: 0.6682, Val-F1: 0.5638, Val-Precision: 0.5947, Val-Recall: 0.5359, Val-Accuracy: 0.5734\n"
     ]
    },
    {
     "name": "stderr",
     "output_type": "stream",
     "text": [
      "Training progress: 100%|██████████| 304/304 [00:18<00:00, 16.51batch/s]\n"
     ]
    },
    {
     "name": "stdout",
     "output_type": "stream",
     "text": [
      "Epoch 11/16, Train-Loss: 0.6706, Val-Loss: 0.6675, Val-F1: 0.6128, Val-Precision: 0.5923, Val-Recall: 0.6348, Val-Accuracy: 0.5874\n"
     ]
    },
    {
     "name": "stderr",
     "output_type": "stream",
     "text": [
      "Training progress: 100%|██████████| 304/304 [00:18<00:00, 16.46batch/s]\n"
     ]
    },
    {
     "name": "stdout",
     "output_type": "stream",
     "text": [
      "Epoch 12/16, Train-Loss: 0.6704, Val-Loss: 0.6681, Val-F1: 0.5671, Val-Precision: 0.5944, Val-Recall: 0.5423, Val-Accuracy: 0.5742\n"
     ]
    },
    {
     "name": "stderr",
     "output_type": "stream",
     "text": [
      "Training progress: 100%|██████████| 304/304 [00:18<00:00, 16.49batch/s]\n"
     ]
    },
    {
     "name": "stdout",
     "output_type": "stream",
     "text": [
      "Epoch 13/16, Train-Loss: 0.6704, Val-Loss: 0.6678, Val-F1: 0.6429, Val-Precision: 0.5919, Val-Recall: 0.7033, Val-Accuracy: 0.5980\n"
     ]
    },
    {
     "name": "stderr",
     "output_type": "stream",
     "text": [
      "Training progress: 100%|██████████| 304/304 [00:18<00:00, 16.48batch/s]\n"
     ]
    },
    {
     "name": "stdout",
     "output_type": "stream",
     "text": [
      "Epoch 14/16, Train-Loss: 0.6707, Val-Loss: 0.6678, Val-F1: 0.5854, Val-Precision: 0.6007, Val-Recall: 0.5710, Val-Accuracy: 0.5841\n"
     ]
    },
    {
     "name": "stderr",
     "output_type": "stream",
     "text": [
      "Training progress: 100%|██████████| 304/304 [00:18<00:00, 16.56batch/s]\n"
     ]
    },
    {
     "name": "stdout",
     "output_type": "stream",
     "text": [
      "Epoch 15/16, Train-Loss: 0.6705, Val-Loss: 0.6677, Val-F1: 0.5910, Val-Precision: 0.5967, Val-Recall: 0.5853, Val-Accuracy: 0.5833\n"
     ]
    },
    {
     "name": "stderr",
     "output_type": "stream",
     "text": [
      "Training progress: 100%|██████████| 304/304 [00:18<00:00, 16.28batch/s]\n"
     ]
    },
    {
     "name": "stdout",
     "output_type": "stream",
     "text": [
      "Epoch 16/16, Train-Loss: 0.6708, Val-Loss: 0.6675, Val-F1: 0.6195, Val-Precision: 0.5924, Val-Recall: 0.6491, Val-Accuracy: 0.5898\n",
      "\n",
      "\u001b[92mRESULTS:\n",
      " F1-Score:0.6077348066298343, Precision:0.6006240249609984, Recall:0.6150159744408946, Accuracy:0.5919540229885057, BCE:0.6718521118164062 \u001b[0m \n",
      "\n",
      "\n",
      "\u001b[91mRUN 78:\u001b[0m\n",
      " Anusha2024Circuit \n",
      " lr: 0.001\n"
     ]
    },
    {
     "name": "stderr",
     "output_type": "stream",
     "text": [
      "Training progress: 100%|██████████| 304/304 [00:18<00:00, 16.56batch/s]\n"
     ]
    },
    {
     "name": "stdout",
     "output_type": "stream",
     "text": [
      "Epoch 1/16, Train-Loss: 0.7172, Val-Loss: 0.7106, Val-F1: 0.6600, Val-Precision: 0.5207, Val-Recall: 0.9011, Val-Accuracy: 0.5226\n"
     ]
    },
    {
     "name": "stderr",
     "output_type": "stream",
     "text": [
      "Training progress: 100%|██████████| 304/304 [00:18<00:00, 16.61batch/s]\n"
     ]
    },
    {
     "name": "stdout",
     "output_type": "stream",
     "text": [
      "Epoch 2/16, Train-Loss: 0.7066, Val-Loss: 0.7054, Val-F1: 0.5771, Val-Precision: 0.4932, Val-Recall: 0.6954, Val-Accuracy: 0.4758\n"
     ]
    },
    {
     "name": "stderr",
     "output_type": "stream",
     "text": [
      "Training progress: 100%|██████████| 304/304 [00:18<00:00, 16.59batch/s]\n"
     ]
    },
    {
     "name": "stdout",
     "output_type": "stream",
     "text": [
      "Epoch 3/16, Train-Loss: 0.7032, Val-Loss: 0.7028, Val-F1: 0.5443, Val-Precision: 0.4839, Val-Recall: 0.6220, Val-Accuracy: 0.4643\n"
     ]
    },
    {
     "name": "stderr",
     "output_type": "stream",
     "text": [
      "Training progress: 100%|██████████| 304/304 [00:18<00:00, 16.52batch/s]\n"
     ]
    },
    {
     "name": "stdout",
     "output_type": "stream",
     "text": [
      "Epoch 4/16, Train-Loss: 0.7010, Val-Loss: 0.7004, Val-F1: 0.4937, Val-Precision: 0.4612, Val-Recall: 0.5311, Val-Accuracy: 0.4397\n"
     ]
    },
    {
     "name": "stderr",
     "output_type": "stream",
     "text": [
      "Training progress: 100%|██████████| 304/304 [00:18<00:00, 16.54batch/s]\n"
     ]
    },
    {
     "name": "stdout",
     "output_type": "stream",
     "text": [
      "Epoch 5/16, Train-Loss: 0.6989, Val-Loss: 0.6983, Val-F1: 0.5073, Val-Precision: 0.4671, Val-Recall: 0.5550, Val-Accuracy: 0.4454\n"
     ]
    },
    {
     "name": "stderr",
     "output_type": "stream",
     "text": [
      "Training progress: 100%|██████████| 304/304 [00:18<00:00, 16.56batch/s]\n"
     ]
    },
    {
     "name": "stdout",
     "output_type": "stream",
     "text": [
      "Epoch 6/16, Train-Loss: 0.6970, Val-Loss: 0.6962, Val-F1: 0.5084, Val-Precision: 0.4678, Val-Recall: 0.5566, Val-Accuracy: 0.4463\n"
     ]
    },
    {
     "name": "stderr",
     "output_type": "stream",
     "text": [
      "Training progress: 100%|██████████| 304/304 [00:18<00:00, 16.56batch/s]\n"
     ]
    },
    {
     "name": "stdout",
     "output_type": "stream",
     "text": [
      "Epoch 7/16, Train-Loss: 0.6951, Val-Loss: 0.6943, Val-F1: 0.4608, Val-Precision: 0.4486, Val-Recall: 0.4737, Val-Accuracy: 0.4299\n"
     ]
    },
    {
     "name": "stderr",
     "output_type": "stream",
     "text": [
      "Training progress: 100%|██████████| 304/304 [00:18<00:00, 16.55batch/s]\n"
     ]
    },
    {
     "name": "stdout",
     "output_type": "stream",
     "text": [
      "Epoch 8/16, Train-Loss: 0.6934, Val-Loss: 0.6925, Val-F1: 0.6793, Val-Precision: 0.5144, Val-Recall: 1.0000, Val-Accuracy: 0.5144\n"
     ]
    },
    {
     "name": "stderr",
     "output_type": "stream",
     "text": [
      "Training progress: 100%|██████████| 304/304 [00:18<00:00, 16.54batch/s]\n"
     ]
    },
    {
     "name": "stdout",
     "output_type": "stream",
     "text": [
      "Epoch 9/16, Train-Loss: 0.6917, Val-Loss: 0.6907, Val-F1: 0.5973, Val-Precision: 0.5903, Val-Recall: 0.6045, Val-Accuracy: 0.5808\n"
     ]
    },
    {
     "name": "stderr",
     "output_type": "stream",
     "text": [
      "Training progress: 100%|██████████| 304/304 [00:18<00:00, 16.56batch/s]\n"
     ]
    },
    {
     "name": "stdout",
     "output_type": "stream",
     "text": [
      "Epoch 10/16, Train-Loss: 0.6902, Val-Loss: 0.6891, Val-F1: 0.5854, Val-Precision: 0.6007, Val-Recall: 0.5710, Val-Accuracy: 0.5841\n"
     ]
    },
    {
     "name": "stderr",
     "output_type": "stream",
     "text": [
      "Training progress: 100%|██████████| 304/304 [00:18<00:00, 16.57batch/s]\n"
     ]
    },
    {
     "name": "stdout",
     "output_type": "stream",
     "text": [
      "Epoch 11/16, Train-Loss: 0.6887, Val-Loss: 0.6875, Val-F1: 0.6377, Val-Precision: 0.5923, Val-Recall: 0.6906, Val-Accuracy: 0.5964\n"
     ]
    },
    {
     "name": "stderr",
     "output_type": "stream",
     "text": [
      "Training progress: 100%|██████████| 304/304 [00:18<00:00, 16.52batch/s]\n"
     ]
    },
    {
     "name": "stdout",
     "output_type": "stream",
     "text": [
      "Epoch 12/16, Train-Loss: 0.6874, Val-Loss: 0.6861, Val-F1: 0.6195, Val-Precision: 0.5924, Val-Recall: 0.6491, Val-Accuracy: 0.5898\n"
     ]
    },
    {
     "name": "stderr",
     "output_type": "stream",
     "text": [
      "Training progress: 100%|██████████| 304/304 [00:18<00:00, 16.54batch/s]\n"
     ]
    },
    {
     "name": "stdout",
     "output_type": "stream",
     "text": [
      "Epoch 13/16, Train-Loss: 0.6861, Val-Loss: 0.6848, Val-F1: 0.6409, Val-Precision: 0.5908, Val-Recall: 0.7002, Val-Accuracy: 0.5964\n"
     ]
    },
    {
     "name": "stderr",
     "output_type": "stream",
     "text": [
      "Training progress: 100%|██████████| 304/304 [00:18<00:00, 16.48batch/s]\n"
     ]
    },
    {
     "name": "stdout",
     "output_type": "stream",
     "text": [
      "Epoch 14/16, Train-Loss: 0.6850, Val-Loss: 0.6835, Val-F1: 0.6249, Val-Precision: 0.5931, Val-Recall: 0.6603, Val-Accuracy: 0.5923\n"
     ]
    },
    {
     "name": "stderr",
     "output_type": "stream",
     "text": [
      "Training progress: 100%|██████████| 304/304 [00:18<00:00, 16.48batch/s]\n"
     ]
    },
    {
     "name": "stdout",
     "output_type": "stream",
     "text": [
      "Epoch 15/16, Train-Loss: 0.6839, Val-Loss: 0.6824, Val-F1: 0.6195, Val-Precision: 0.5924, Val-Recall: 0.6491, Val-Accuracy: 0.5898\n"
     ]
    },
    {
     "name": "stderr",
     "output_type": "stream",
     "text": [
      "Training progress: 100%|██████████| 304/304 [00:18<00:00, 16.50batch/s]\n"
     ]
    },
    {
     "name": "stdout",
     "output_type": "stream",
     "text": [
      "Epoch 16/16, Train-Loss: 0.6829, Val-Loss: 0.6813, Val-F1: 0.6307, Val-Precision: 0.5946, Val-Recall: 0.6715, Val-Accuracy: 0.5956\n",
      "\n",
      "\u001b[92mRESULTS:\n",
      " F1-Score:0.6164596273291926, Precision:0.5996978851963746, Recall:0.634185303514377, Accuracy:0.5944170771756979, BCE:0.682843804359436 \u001b[0m \n",
      "\n",
      "\n",
      "\u001b[91mRUN 79:\u001b[0m\n",
      " DoubleEntanglementVLCircuit \n",
      " lr: 0.01\n"
     ]
    },
    {
     "name": "stderr",
     "output_type": "stream",
     "text": [
      "Training progress: 100%|██████████| 304/304 [00:24<00:00, 12.40batch/s]\n"
     ]
    },
    {
     "name": "stdout",
     "output_type": "stream",
     "text": [
      "Epoch 1/16, Train-Loss: 0.5572, Val-Loss: 0.4980, Val-F1: 0.8436, Val-Precision: 0.8085, Val-Recall: 0.8820, Val-Accuracy: 0.8318\n"
     ]
    },
    {
     "name": "stderr",
     "output_type": "stream",
     "text": [
      "Training progress: 100%|██████████| 304/304 [00:24<00:00, 12.35batch/s]\n"
     ]
    },
    {
     "name": "stdout",
     "output_type": "stream",
     "text": [
      "Epoch 2/16, Train-Loss: 0.4674, Val-Loss: 0.4442, Val-F1: 0.8470, Val-Precision: 0.8066, Val-Recall: 0.8915, Val-Accuracy: 0.8343\n"
     ]
    },
    {
     "name": "stderr",
     "output_type": "stream",
     "text": [
      "Training progress: 100%|██████████| 304/304 [00:24<00:00, 12.39batch/s]\n"
     ]
    },
    {
     "name": "stdout",
     "output_type": "stream",
     "text": [
      "Epoch 3/16, Train-Loss: 0.4297, Val-Loss: 0.4210, Val-F1: 0.8544, Val-Precision: 0.8071, Val-Recall: 0.9075, Val-Accuracy: 0.8409\n"
     ]
    },
    {
     "name": "stderr",
     "output_type": "stream",
     "text": [
      "Training progress: 100%|██████████| 304/304 [00:24<00:00, 12.40batch/s]\n"
     ]
    },
    {
     "name": "stdout",
     "output_type": "stream",
     "text": [
      "Epoch 4/16, Train-Loss: 0.4123, Val-Loss: 0.4097, Val-F1: 0.8472, Val-Precision: 0.8058, Val-Recall: 0.8931, Val-Accuracy: 0.8343\n"
     ]
    },
    {
     "name": "stderr",
     "output_type": "stream",
     "text": [
      "Training progress: 100%|██████████| 304/304 [00:24<00:00, 12.38batch/s]\n"
     ]
    },
    {
     "name": "stdout",
     "output_type": "stream",
     "text": [
      "Epoch 5/16, Train-Loss: 0.4040, Val-Loss: 0.4042, Val-F1: 0.8456, Val-Precision: 0.8081, Val-Recall: 0.8868, Val-Accuracy: 0.8335\n"
     ]
    },
    {
     "name": "stderr",
     "output_type": "stream",
     "text": [
      "Training progress: 100%|██████████| 304/304 [00:24<00:00, 12.38batch/s]\n"
     ]
    },
    {
     "name": "stdout",
     "output_type": "stream",
     "text": [
      "Epoch 6/16, Train-Loss: 0.3991, Val-Loss: 0.4013, Val-F1: 0.8456, Val-Precision: 0.8081, Val-Recall: 0.8868, Val-Accuracy: 0.8335\n"
     ]
    },
    {
     "name": "stderr",
     "output_type": "stream",
     "text": [
      "Training progress: 100%|██████████| 304/304 [00:24<00:00, 12.36batch/s]\n"
     ]
    },
    {
     "name": "stdout",
     "output_type": "stream",
     "text": [
      "Epoch 7/16, Train-Loss: 0.3969, Val-Loss: 0.4001, Val-F1: 0.8546, Val-Precision: 0.8062, Val-Recall: 0.9091, Val-Accuracy: 0.8409\n"
     ]
    },
    {
     "name": "stderr",
     "output_type": "stream",
     "text": [
      "Training progress: 100%|██████████| 304/304 [00:24<00:00, 12.37batch/s]\n"
     ]
    },
    {
     "name": "stdout",
     "output_type": "stream",
     "text": [
      "Epoch 8/16, Train-Loss: 0.3956, Val-Loss: 0.4000, Val-F1: 0.8552, Val-Precision: 0.8036, Val-Recall: 0.9139, Val-Accuracy: 0.8409\n"
     ]
    },
    {
     "name": "stderr",
     "output_type": "stream",
     "text": [
      "Training progress: 100%|██████████| 304/304 [00:24<00:00, 12.40batch/s]\n"
     ]
    },
    {
     "name": "stdout",
     "output_type": "stream",
     "text": [
      "Epoch 9/16, Train-Loss: 0.3953, Val-Loss: 0.3989, Val-F1: 0.8463, Val-Precision: 0.8055, Val-Recall: 0.8915, Val-Accuracy: 0.8335\n"
     ]
    },
    {
     "name": "stderr",
     "output_type": "stream",
     "text": [
      "Training progress: 100%|██████████| 304/304 [00:24<00:00, 12.38batch/s]\n"
     ]
    },
    {
     "name": "stdout",
     "output_type": "stream",
     "text": [
      "Epoch 10/16, Train-Loss: 0.3950, Val-Loss: 0.3987, Val-F1: 0.8456, Val-Precision: 0.8081, Val-Recall: 0.8868, Val-Accuracy: 0.8335\n"
     ]
    },
    {
     "name": "stderr",
     "output_type": "stream",
     "text": [
      "Training progress: 100%|██████████| 304/304 [00:24<00:00, 12.35batch/s]\n"
     ]
    },
    {
     "name": "stdout",
     "output_type": "stream",
     "text": [
      "Epoch 11/16, Train-Loss: 0.3947, Val-Loss: 0.3987, Val-F1: 0.8461, Val-Precision: 0.8064, Val-Recall: 0.8900, Val-Accuracy: 0.8335\n"
     ]
    },
    {
     "name": "stderr",
     "output_type": "stream",
     "text": [
      "Training progress: 100%|██████████| 304/304 [00:24<00:00, 12.39batch/s]\n"
     ]
    },
    {
     "name": "stdout",
     "output_type": "stream",
     "text": [
      "Epoch 12/16, Train-Loss: 0.3946, Val-Loss: 0.3986, Val-F1: 0.8439, Val-Precision: 0.8076, Val-Recall: 0.8836, Val-Accuracy: 0.8318\n"
     ]
    },
    {
     "name": "stderr",
     "output_type": "stream",
     "text": [
      "Training progress: 100%|██████████| 304/304 [00:24<00:00, 12.38batch/s]\n"
     ]
    },
    {
     "name": "stdout",
     "output_type": "stream",
     "text": [
      "Epoch 13/16, Train-Loss: 0.3943, Val-Loss: 0.3987, Val-F1: 0.8489, Val-Precision: 0.8063, Val-Recall: 0.8963, Val-Accuracy: 0.8359\n"
     ]
    },
    {
     "name": "stderr",
     "output_type": "stream",
     "text": [
      "Training progress: 100%|██████████| 304/304 [00:24<00:00, 12.37batch/s]\n"
     ]
    },
    {
     "name": "stdout",
     "output_type": "stream",
     "text": [
      "Epoch 14/16, Train-Loss: 0.3944, Val-Loss: 0.3987, Val-F1: 0.8447, Val-Precision: 0.8079, Val-Recall: 0.8852, Val-Accuracy: 0.8326\n"
     ]
    },
    {
     "name": "stderr",
     "output_type": "stream",
     "text": [
      "Training progress: 100%|██████████| 304/304 [00:24<00:00, 12.39batch/s]\n"
     ]
    },
    {
     "name": "stdout",
     "output_type": "stream",
     "text": [
      "Epoch 15/16, Train-Loss: 0.3944, Val-Loss: 0.3987, Val-F1: 0.8472, Val-Precision: 0.8058, Val-Recall: 0.8931, Val-Accuracy: 0.8343\n"
     ]
    },
    {
     "name": "stderr",
     "output_type": "stream",
     "text": [
      "Training progress: 100%|██████████| 304/304 [00:24<00:00, 12.36batch/s]\n"
     ]
    },
    {
     "name": "stdout",
     "output_type": "stream",
     "text": [
      "Epoch 16/16, Train-Loss: 0.3942, Val-Loss: 0.3988, Val-F1: 0.8524, Val-Precision: 0.8074, Val-Recall: 0.9027, Val-Accuracy: 0.8392\n",
      "\n",
      "\u001b[92mRESULTS:\n",
      " F1-Score:0.849772382397572, Precision:0.8092485549132948, Recall:0.8945686900958466, Accuracy:0.8374384236453202, BCE:0.4070240557193756 \u001b[0m \n",
      "\n",
      "\n",
      "\u001b[91mRUN 80:\u001b[0m\n",
      " DoubleEntanglementVLCircuit \n",
      " lr: 0.001\n"
     ]
    },
    {
     "name": "stderr",
     "output_type": "stream",
     "text": [
      "Training progress: 100%|██████████| 304/304 [00:24<00:00, 12.42batch/s]\n"
     ]
    },
    {
     "name": "stdout",
     "output_type": "stream",
     "text": [
      "Epoch 1/16, Train-Loss: 0.6338, Val-Loss: 0.6202, Val-F1: 0.4926, Val-Precision: 0.8543, Val-Recall: 0.3461, Val-Accuracy: 0.6333\n"
     ]
    },
    {
     "name": "stderr",
     "output_type": "stream",
     "text": [
      "Training progress: 100%|██████████| 304/304 [00:24<00:00, 12.39batch/s]\n"
     ]
    },
    {
     "name": "stdout",
     "output_type": "stream",
     "text": [
      "Epoch 2/16, Train-Loss: 0.6100, Val-Loss: 0.5987, Val-F1: 0.7197, Val-Precision: 0.8309, Val-Recall: 0.6348, Val-Accuracy: 0.7457\n"
     ]
    },
    {
     "name": "stderr",
     "output_type": "stream",
     "text": [
      "Training progress: 100%|██████████| 304/304 [00:24<00:00, 12.44batch/s]\n"
     ]
    },
    {
     "name": "stdout",
     "output_type": "stream",
     "text": [
      "Epoch 3/16, Train-Loss: 0.5902, Val-Loss: 0.5807, Val-F1: 0.7984, Val-Precision: 0.8212, Val-Recall: 0.7767, Val-Accuracy: 0.7982\n"
     ]
    },
    {
     "name": "stderr",
     "output_type": "stream",
     "text": [
      "Training progress: 100%|██████████| 304/304 [00:24<00:00, 12.40batch/s]\n"
     ]
    },
    {
     "name": "stdout",
     "output_type": "stream",
     "text": [
      "Epoch 4/16, Train-Loss: 0.5733, Val-Loss: 0.5648, Val-F1: 0.8146, Val-Precision: 0.8127, Val-Recall: 0.8166, Val-Accuracy: 0.8089\n"
     ]
    },
    {
     "name": "stderr",
     "output_type": "stream",
     "text": [
      "Training progress: 100%|██████████| 304/304 [00:24<00:00, 12.43batch/s]\n"
     ]
    },
    {
     "name": "stdout",
     "output_type": "stream",
     "text": [
      "Epoch 5/16, Train-Loss: 0.5584, Val-Loss: 0.5508, Val-F1: 0.8251, Val-Precision: 0.8117, Val-Recall: 0.8389, Val-Accuracy: 0.8171\n"
     ]
    },
    {
     "name": "stderr",
     "output_type": "stream",
     "text": [
      "Training progress: 100%|██████████| 304/304 [00:24<00:00, 12.38batch/s]\n"
     ]
    },
    {
     "name": "stdout",
     "output_type": "stream",
     "text": [
      "Epoch 6/16, Train-Loss: 0.5450, Val-Loss: 0.5380, Val-F1: 0.8339, Val-Precision: 0.8124, Val-Recall: 0.8565, Val-Accuracy: 0.8244\n"
     ]
    },
    {
     "name": "stderr",
     "output_type": "stream",
     "text": [
      "Training progress: 100%|██████████| 304/304 [00:24<00:00, 12.39batch/s]\n"
     ]
    },
    {
     "name": "stdout",
     "output_type": "stream",
     "text": [
      "Epoch 7/16, Train-Loss: 0.5328, Val-Loss: 0.5264, Val-F1: 0.8371, Val-Precision: 0.8114, Val-Recall: 0.8644, Val-Accuracy: 0.8269\n"
     ]
    },
    {
     "name": "stderr",
     "output_type": "stream",
     "text": [
      "Training progress: 100%|██████████| 304/304 [00:24<00:00, 12.41batch/s]\n"
     ]
    },
    {
     "name": "stdout",
     "output_type": "stream",
     "text": [
      "Epoch 8/16, Train-Loss: 0.5217, Val-Loss: 0.5159, Val-F1: 0.8447, Val-Precision: 0.8118, Val-Recall: 0.8804, Val-Accuracy: 0.8335\n"
     ]
    },
    {
     "name": "stderr",
     "output_type": "stream",
     "text": [
      "Training progress: 100%|██████████| 304/304 [00:24<00:00, 12.38batch/s]\n"
     ]
    },
    {
     "name": "stdout",
     "output_type": "stream",
     "text": [
      "Epoch 9/16, Train-Loss: 0.5114, Val-Loss: 0.5061, Val-F1: 0.8447, Val-Precision: 0.8118, Val-Recall: 0.8804, Val-Accuracy: 0.8335\n"
     ]
    },
    {
     "name": "stderr",
     "output_type": "stream",
     "text": [
      "Training progress: 100%|██████████| 304/304 [00:24<00:00, 12.41batch/s]\n"
     ]
    },
    {
     "name": "stdout",
     "output_type": "stream",
     "text": [
      "Epoch 10/16, Train-Loss: 0.5020, Val-Loss: 0.4972, Val-F1: 0.8447, Val-Precision: 0.8118, Val-Recall: 0.8804, Val-Accuracy: 0.8335\n"
     ]
    },
    {
     "name": "stderr",
     "output_type": "stream",
     "text": [
      "Training progress: 100%|██████████| 304/304 [00:24<00:00, 12.38batch/s]\n"
     ]
    },
    {
     "name": "stdout",
     "output_type": "stream",
     "text": [
      "Epoch 11/16, Train-Loss: 0.4935, Val-Loss: 0.4891, Val-F1: 0.8436, Val-Precision: 0.8085, Val-Recall: 0.8820, Val-Accuracy: 0.8318\n"
     ]
    },
    {
     "name": "stderr",
     "output_type": "stream",
     "text": [
      "Training progress: 100%|██████████| 304/304 [00:24<00:00, 12.41batch/s]\n"
     ]
    },
    {
     "name": "stdout",
     "output_type": "stream",
     "text": [
      "Epoch 12/16, Train-Loss: 0.4853, Val-Loss: 0.4816, Val-F1: 0.8430, Val-Precision: 0.8073, Val-Recall: 0.8820, Val-Accuracy: 0.8310\n"
     ]
    },
    {
     "name": "stderr",
     "output_type": "stream",
     "text": [
      "Training progress: 100%|██████████| 304/304 [00:24<00:00, 12.44batch/s]\n"
     ]
    },
    {
     "name": "stdout",
     "output_type": "stream",
     "text": [
      "Epoch 13/16, Train-Loss: 0.4779, Val-Loss: 0.4746, Val-F1: 0.8456, Val-Precision: 0.8081, Val-Recall: 0.8868, Val-Accuracy: 0.8335\n"
     ]
    },
    {
     "name": "stderr",
     "output_type": "stream",
     "text": [
      "Training progress: 100%|██████████| 304/304 [00:24<00:00, 12.42batch/s]\n"
     ]
    },
    {
     "name": "stdout",
     "output_type": "stream",
     "text": [
      "Epoch 14/16, Train-Loss: 0.4712, Val-Loss: 0.4682, Val-F1: 0.8456, Val-Precision: 0.8081, Val-Recall: 0.8868, Val-Accuracy: 0.8335\n"
     ]
    },
    {
     "name": "stderr",
     "output_type": "stream",
     "text": [
      "Training progress: 100%|██████████| 304/304 [00:24<00:00, 12.43batch/s]\n"
     ]
    },
    {
     "name": "stdout",
     "output_type": "stream",
     "text": [
      "Epoch 15/16, Train-Loss: 0.4650, Val-Loss: 0.4624, Val-F1: 0.8456, Val-Precision: 0.8081, Val-Recall: 0.8868, Val-Accuracy: 0.8335\n"
     ]
    },
    {
     "name": "stderr",
     "output_type": "stream",
     "text": [
      "Training progress: 100%|██████████| 304/304 [00:24<00:00, 12.47batch/s]\n"
     ]
    },
    {
     "name": "stdout",
     "output_type": "stream",
     "text": [
      "Epoch 16/16, Train-Loss: 0.4592, Val-Loss: 0.4570, Val-F1: 0.8461, Val-Precision: 0.8064, Val-Recall: 0.8900, Val-Accuracy: 0.8335\n",
      "\n",
      "\u001b[92mRESULTS:\n",
      " F1-Score:0.8493150684931506, Precision:0.811046511627907, Recall:0.8913738019169329, Accuracy:0.8374384236453202, BCE:0.4610368311405182 \u001b[0m \n",
      "\n",
      "\n"
     ]
    }
   ],
   "source": [
    "### RUN EXPERIMENT\n",
    "\n",
    "id = 0\n",
    "for seed, circuit, lr in itertools.product(runs, circuits, learning_rates):\n",
    "    print(f\"\"\"{RED_TEXT}RUN {id+1}:{RESET_COLOR}\\n {circuit.__name__} \\n lr: {lr}\"\"\")\n",
    "\n",
    "    # init the model\n",
    "    model = qnn.QuantumNeuralNetwork(n_qubits=N_QUBITS, features_per_qubit=FEAT_PER_QUBIT, circuit=circuit, seed=seed)\n",
    "\n",
    "    # train the model (predifined optimizer, etc.)\n",
    "    trained_model, loss_history, val_loss_history, val_f1s = ut.train_model(\n",
    "        model, X_train, y_train, X_val, y_val, epochs=EPOCHS, batch_size=32, lr=lr\n",
    "    )\n",
    "    \n",
    "    # save trained model\n",
    "    model_path = MODEL_PATH + f\"model_expID_{EXPERIMENT_ID}_dfID_{id}.pth\"\n",
    "    torch.save(trained_model, model_path)\n",
    "\n",
    "    # evaluate\n",
    "    bce, accuracy, precision, recall, f1 = trained_model.evaluate(X_test, y_test)\n",
    "\n",
    "    results_dict = {\n",
    "        \"id\": id,\n",
    "        \"f1_score\": f1, \"precision\": precision, \"recall\": recall, \"accuracy\": accuracy, \"binary_cross_entropy\": bce,\n",
    "        \"seed\": seed,\n",
    "        \"circuit\": circuit.__name__,\n",
    "        \"learning_rate\": lr,\n",
    "        \"loss_history\": loss_history,\n",
    "        \"val_loss_history\": val_loss_history,\n",
    "        \"val_f1s\": val_f1s,\n",
    "        \"scaler\" : str(SCALER).replace(\"()\", \"\")\n",
    "    }\n",
    "    print(f\"\\n{GREEN_TEXT}RESULTS:\\n F1-Score:{f1}, Precision:{precision}, Recall:{recall}, Accuracy:{accuracy}, BCE:{bce} {RESET_COLOR} \\n\\n\")\n",
    "    \n",
    "    # append the results_dict to the RESULTS_DF\n",
    "    RESULTS_DF = pd.concat([RESULTS_DF, pd.DataFrame([results_dict])], ignore_index=True)\n",
    "    RESULTS_DF.to_csv(path_or_buf=RESULTS_PATH) # save for each run (in case of a crash)\n",
    "\n",
    "    id += 1"
   ]
  },
  {
   "cell_type": "code",
   "execution_count": 11,
   "metadata": {},
   "outputs": [
    {
     "data": {
      "text/html": [
       "<div>\n",
       "<style scoped>\n",
       "    .dataframe tbody tr th:only-of-type {\n",
       "        vertical-align: middle;\n",
       "    }\n",
       "\n",
       "    .dataframe tbody tr th {\n",
       "        vertical-align: top;\n",
       "    }\n",
       "\n",
       "    .dataframe thead th {\n",
       "        text-align: right;\n",
       "    }\n",
       "</style>\n",
       "<table border=\"1\" class=\"dataframe\">\n",
       "  <thead>\n",
       "    <tr style=\"text-align: right;\">\n",
       "      <th></th>\n",
       "      <th>id</th>\n",
       "      <th>f1_score</th>\n",
       "      <th>precision</th>\n",
       "      <th>recall</th>\n",
       "      <th>accuracy</th>\n",
       "      <th>binary_cross_entropy</th>\n",
       "      <th>seed</th>\n",
       "      <th>circuit</th>\n",
       "      <th>learning_rate</th>\n",
       "      <th>loss_history</th>\n",
       "      <th>val_loss_history</th>\n",
       "      <th>val_f1s</th>\n",
       "      <th>scaler</th>\n",
       "    </tr>\n",
       "  </thead>\n",
       "  <tbody>\n",
       "    <tr>\n",
       "      <th>0</th>\n",
       "      <td>0</td>\n",
       "      <td>0.719338</td>\n",
       "      <td>0.679943</td>\n",
       "      <td>0.763578</td>\n",
       "      <td>0.693760</td>\n",
       "      <td>0.630533</td>\n",
       "      <td>1</td>\n",
       "      <td>Ranga2024Circuit</td>\n",
       "      <td>0.010</td>\n",
       "      <td>[0.6914023258968404, 0.660341840433447, 0.6464...</td>\n",
       "      <td>[0.6702669262886047, 0.6504126787185669, 0.640...</td>\n",
       "      <td>[0.7289198606271777, 0.7304964539007093, 0.725...</td>\n",
       "      <td>MinMaxScaler</td>\n",
       "    </tr>\n",
       "    <tr>\n",
       "      <th>1</th>\n",
       "      <td>1</td>\n",
       "      <td>0.743894</td>\n",
       "      <td>0.660471</td>\n",
       "      <td>0.851438</td>\n",
       "      <td>0.698686</td>\n",
       "      <td>0.656471</td>\n",
       "      <td>1</td>\n",
       "      <td>Ranga2024Circuit</td>\n",
       "      <td>0.001</td>\n",
       "      <td>[0.7414130529290751, 0.7162491987018209, 0.703...</td>\n",
       "      <td>[0.7262354493141174, 0.7087317705154419, 0.699...</td>\n",
       "      <td>[0.6793066088840737, 0.6793066088840737, 0.679...</td>\n",
       "      <td>MinMaxScaler</td>\n",
       "    </tr>\n",
       "    <tr>\n",
       "      <th>2</th>\n",
       "      <td>2</td>\n",
       "      <td>0.767611</td>\n",
       "      <td>0.778325</td>\n",
       "      <td>0.757188</td>\n",
       "      <td>0.764368</td>\n",
       "      <td>0.537861</td>\n",
       "      <td>1</td>\n",
       "      <td>Senokosov2024Circuit</td>\n",
       "      <td>0.010</td>\n",
       "      <td>[0.6834787334266462, 0.6524414312290517, 0.630...</td>\n",
       "      <td>[0.6672486066818237, 0.6451585292816162, 0.626...</td>\n",
       "      <td>[0.5501551189245087, 0.6963350785340314, 0.748...</td>\n",
       "      <td>MinMaxScaler</td>\n",
       "    </tr>\n",
       "    <tr>\n",
       "      <th>3</th>\n",
       "      <td>3</td>\n",
       "      <td>0.711150</td>\n",
       "      <td>0.789474</td>\n",
       "      <td>0.646965</td>\n",
       "      <td>0.729885</td>\n",
       "      <td>0.649993</td>\n",
       "      <td>1</td>\n",
       "      <td>Senokosov2024Circuit</td>\n",
       "      <td>0.001</td>\n",
       "      <td>[0.747941004014329, 0.7088381959811637, 0.6907...</td>\n",
       "      <td>[0.7237253189086914, 0.6978234052658081, 0.686...</td>\n",
       "      <td>[0.6793066088840737, 0.6793066088840737, 0.679...</td>\n",
       "      <td>MinMaxScaler</td>\n",
       "    </tr>\n",
       "    <tr>\n",
       "      <th>4</th>\n",
       "      <td>4</td>\n",
       "      <td>0.686275</td>\n",
       "      <td>0.702341</td>\n",
       "      <td>0.670927</td>\n",
       "      <td>0.684729</td>\n",
       "      <td>0.643866</td>\n",
       "      <td>1</td>\n",
       "      <td>Anusha2024Circuit</td>\n",
       "      <td>0.010</td>\n",
       "      <td>[0.6841570809483528, 0.6475279982152738, 0.639...</td>\n",
       "      <td>[0.661899745464325, 0.6508845090866089, 0.6496...</td>\n",
       "      <td>[0.6795180722891566, 0.6467165419783873, 0.656...</td>\n",
       "      <td>MinMaxScaler</td>\n",
       "    </tr>\n",
       "    <tr>\n",
       "      <th>...</th>\n",
       "      <td>...</td>\n",
       "      <td>...</td>\n",
       "      <td>...</td>\n",
       "      <td>...</td>\n",
       "      <td>...</td>\n",
       "      <td>...</td>\n",
       "      <td>...</td>\n",
       "      <td>...</td>\n",
       "      <td>...</td>\n",
       "      <td>...</td>\n",
       "      <td>...</td>\n",
       "      <td>...</td>\n",
       "      <td>...</td>\n",
       "    </tr>\n",
       "    <tr>\n",
       "      <th>75</th>\n",
       "      <td>75</td>\n",
       "      <td>0.876352</td>\n",
       "      <td>0.848802</td>\n",
       "      <td>0.905751</td>\n",
       "      <td>0.868637</td>\n",
       "      <td>0.535430</td>\n",
       "      <td>10</td>\n",
       "      <td>Senokosov2024Circuit</td>\n",
       "      <td>0.001</td>\n",
       "      <td>[0.7427862837518516, 0.7225275243583479, 0.704...</td>\n",
       "      <td>[0.7320263385772705, 0.7133990526199341, 0.696...</td>\n",
       "      <td>[0.4785992217898833, 0.22032583397982933, 0.00...</td>\n",
       "      <td>MinMaxScaler</td>\n",
       "    </tr>\n",
       "    <tr>\n",
       "      <th>76</th>\n",
       "      <td>76</td>\n",
       "      <td>0.607735</td>\n",
       "      <td>0.600624</td>\n",
       "      <td>0.615016</td>\n",
       "      <td>0.591954</td>\n",
       "      <td>0.671852</td>\n",
       "      <td>10</td>\n",
       "      <td>Anusha2024Circuit</td>\n",
       "      <td>0.010</td>\n",
       "      <td>[0.6998752198721233, 0.6842588333314971, 0.676...</td>\n",
       "      <td>[0.6892290115356445, 0.6780279874801636, 0.673...</td>\n",
       "      <td>[0.7211231652839821, 0.5921158487530169, 0.675...</td>\n",
       "      <td>MinMaxScaler</td>\n",
       "    </tr>\n",
       "    <tr>\n",
       "      <th>77</th>\n",
       "      <td>77</td>\n",
       "      <td>0.616460</td>\n",
       "      <td>0.599698</td>\n",
       "      <td>0.634185</td>\n",
       "      <td>0.594417</td>\n",
       "      <td>0.682844</td>\n",
       "      <td>10</td>\n",
       "      <td>Anusha2024Circuit</td>\n",
       "      <td>0.001</td>\n",
       "      <td>[0.7172094675663271, 0.7065669209941438, 0.703...</td>\n",
       "      <td>[0.7106428742408752, 0.7054082751274109, 0.702...</td>\n",
       "      <td>[0.6600467289719626, 0.5771012574454004, 0.544...</td>\n",
       "      <td>MinMaxScaler</td>\n",
       "    </tr>\n",
       "    <tr>\n",
       "      <th>78</th>\n",
       "      <td>78</td>\n",
       "      <td>0.849772</td>\n",
       "      <td>0.809249</td>\n",
       "      <td>0.894569</td>\n",
       "      <td>0.837438</td>\n",
       "      <td>0.407024</td>\n",
       "      <td>10</td>\n",
       "      <td>DoubleEntanglementVLCircuit</td>\n",
       "      <td>0.010</td>\n",
       "      <td>[0.5572234008853373, 0.46739204296548115, 0.42...</td>\n",
       "      <td>[0.49795830249786377, 0.44423338770866394, 0.4...</td>\n",
       "      <td>[0.8436308161708619, 0.8469696969696969, 0.854...</td>\n",
       "      <td>MinMaxScaler</td>\n",
       "    </tr>\n",
       "    <tr>\n",
       "      <th>79</th>\n",
       "      <td>79</td>\n",
       "      <td>0.849315</td>\n",
       "      <td>0.811047</td>\n",
       "      <td>0.891374</td>\n",
       "      <td>0.837438</td>\n",
       "      <td>0.461037</td>\n",
       "      <td>10</td>\n",
       "      <td>DoubleEntanglementVLCircuit</td>\n",
       "      <td>0.001</td>\n",
       "      <td>[0.6337664956717115, 0.6099878945632985, 0.590...</td>\n",
       "      <td>[0.6202206611633301, 0.5986754894256592, 0.580...</td>\n",
       "      <td>[0.492622020431328, 0.7197106690777577, 0.7983...</td>\n",
       "      <td>MinMaxScaler</td>\n",
       "    </tr>\n",
       "  </tbody>\n",
       "</table>\n",
       "<p>80 rows × 13 columns</p>\n",
       "</div>"
      ],
      "text/plain": [
       "    id  f1_score  precision    recall  accuracy  binary_cross_entropy  seed  \\\n",
       "0    0  0.719338   0.679943  0.763578  0.693760              0.630533     1   \n",
       "1    1  0.743894   0.660471  0.851438  0.698686              0.656471     1   \n",
       "2    2  0.767611   0.778325  0.757188  0.764368              0.537861     1   \n",
       "3    3  0.711150   0.789474  0.646965  0.729885              0.649993     1   \n",
       "4    4  0.686275   0.702341  0.670927  0.684729              0.643866     1   \n",
       "..  ..       ...        ...       ...       ...                   ...   ...   \n",
       "75  75  0.876352   0.848802  0.905751  0.868637              0.535430    10   \n",
       "76  76  0.607735   0.600624  0.615016  0.591954              0.671852    10   \n",
       "77  77  0.616460   0.599698  0.634185  0.594417              0.682844    10   \n",
       "78  78  0.849772   0.809249  0.894569  0.837438              0.407024    10   \n",
       "79  79  0.849315   0.811047  0.891374  0.837438              0.461037    10   \n",
       "\n",
       "                        circuit  learning_rate  \\\n",
       "0              Ranga2024Circuit          0.010   \n",
       "1              Ranga2024Circuit          0.001   \n",
       "2          Senokosov2024Circuit          0.010   \n",
       "3          Senokosov2024Circuit          0.001   \n",
       "4             Anusha2024Circuit          0.010   \n",
       "..                          ...            ...   \n",
       "75         Senokosov2024Circuit          0.001   \n",
       "76            Anusha2024Circuit          0.010   \n",
       "77            Anusha2024Circuit          0.001   \n",
       "78  DoubleEntanglementVLCircuit          0.010   \n",
       "79  DoubleEntanglementVLCircuit          0.001   \n",
       "\n",
       "                                         loss_history  \\\n",
       "0   [0.6914023258968404, 0.660341840433447, 0.6464...   \n",
       "1   [0.7414130529290751, 0.7162491987018209, 0.703...   \n",
       "2   [0.6834787334266462, 0.6524414312290517, 0.630...   \n",
       "3   [0.747941004014329, 0.7088381959811637, 0.6907...   \n",
       "4   [0.6841570809483528, 0.6475279982152738, 0.639...   \n",
       "..                                                ...   \n",
       "75  [0.7427862837518516, 0.7225275243583479, 0.704...   \n",
       "76  [0.6998752198721233, 0.6842588333314971, 0.676...   \n",
       "77  [0.7172094675663271, 0.7065669209941438, 0.703...   \n",
       "78  [0.5572234008853373, 0.46739204296548115, 0.42...   \n",
       "79  [0.6337664956717115, 0.6099878945632985, 0.590...   \n",
       "\n",
       "                                     val_loss_history  \\\n",
       "0   [0.6702669262886047, 0.6504126787185669, 0.640...   \n",
       "1   [0.7262354493141174, 0.7087317705154419, 0.699...   \n",
       "2   [0.6672486066818237, 0.6451585292816162, 0.626...   \n",
       "3   [0.7237253189086914, 0.6978234052658081, 0.686...   \n",
       "4   [0.661899745464325, 0.6508845090866089, 0.6496...   \n",
       "..                                                ...   \n",
       "75  [0.7320263385772705, 0.7133990526199341, 0.696...   \n",
       "76  [0.6892290115356445, 0.6780279874801636, 0.673...   \n",
       "77  [0.7106428742408752, 0.7054082751274109, 0.702...   \n",
       "78  [0.49795830249786377, 0.44423338770866394, 0.4...   \n",
       "79  [0.6202206611633301, 0.5986754894256592, 0.580...   \n",
       "\n",
       "                                              val_f1s        scaler  \n",
       "0   [0.7289198606271777, 0.7304964539007093, 0.725...  MinMaxScaler  \n",
       "1   [0.6793066088840737, 0.6793066088840737, 0.679...  MinMaxScaler  \n",
       "2   [0.5501551189245087, 0.6963350785340314, 0.748...  MinMaxScaler  \n",
       "3   [0.6793066088840737, 0.6793066088840737, 0.679...  MinMaxScaler  \n",
       "4   [0.6795180722891566, 0.6467165419783873, 0.656...  MinMaxScaler  \n",
       "..                                                ...           ...  \n",
       "75  [0.4785992217898833, 0.22032583397982933, 0.00...  MinMaxScaler  \n",
       "76  [0.7211231652839821, 0.5921158487530169, 0.675...  MinMaxScaler  \n",
       "77  [0.6600467289719626, 0.5771012574454004, 0.544...  MinMaxScaler  \n",
       "78  [0.8436308161708619, 0.8469696969696969, 0.854...  MinMaxScaler  \n",
       "79  [0.492622020431328, 0.7197106690777577, 0.7983...  MinMaxScaler  \n",
       "\n",
       "[80 rows x 13 columns]"
      ]
     },
     "execution_count": 11,
     "metadata": {},
     "output_type": "execute_result"
    }
   ],
   "source": [
    "RESULTS_DF"
   ]
  },
  {
   "cell_type": "code",
   "execution_count": 12,
   "metadata": {},
   "outputs": [],
   "source": [
    "# circuit = qc.QuantumCircuit\n",
    "\n",
    "# # initialize the model\n",
    "# model = qnn.QuantumNeuralNetwork(n_qubits=N_QUBITS, features_per_qubit=FEAT_PER_QUBIT, circuit=circuit, seed=1)\n",
    "\n",
    "# # train the model (predifined optimizer, etc.)\n",
    "# trained_model, loss_history, val_loss_history = ut.train_model(\n",
    "#     model, X_train, y_train, epochs=EPOCHS, batch_size=64, lr=0.01\n",
    "# ) #X_val, y_val,\n",
    "\n",
    "\n",
    "# # Evaluate the model\n",
    "# bce, accuracy, precision, recall, f1 = trained_model.evaluate(X_test, y_test)\n",
    "# print(f\"Binary Cross-Entropy on test data: {bce:.4f}\")\n",
    "# print(f\"Accuracy: {accuracy:.4f}\")\n",
    "# print(f\"Precision: {precision:.4f}\")\n",
    "# print(f\"Recall: {recall:.4f}\")\n",
    "# print(f\"F1 Score: {f1:.4f}\")"
   ]
  },
  {
   "cell_type": "code",
   "execution_count": 13,
   "metadata": {},
   "outputs": [],
   "source": [
    "# # To load later\n",
    "# loaded_model = torch.load(\"simple_model.pth\")"
   ]
  }
 ],
 "metadata": {
  "kernelspec": {
   "display_name": "nuig-master",
   "language": "python",
   "name": "python3"
  },
  "language_info": {
   "codemirror_mode": {
    "name": "ipython",
    "version": 3
   },
   "file_extension": ".py",
   "mimetype": "text/x-python",
   "name": "python",
   "nbconvert_exporter": "python",
   "pygments_lexer": "ipython3",
   "version": "3.10.14"
  }
 },
 "nbformat": 4,
 "nbformat_minor": 2
}
