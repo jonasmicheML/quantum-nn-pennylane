{
 "cells": [
  {
   "cell_type": "code",
   "execution_count": 2,
   "metadata": {},
   "outputs": [],
   "source": [
    "from sklearn.preprocessing import MinMaxScaler\n",
    "import itertools\n",
    "import pandas as pd\n",
    "import torch\n",
    "\n",
    "# get our predefined functions (for data processing, etc.)\n",
    "import QCircNet.utils as ut\n",
    "\n",
    "# get our predefined quantum circuits and neural networks\n",
    "import QCircNet.circuits.CustomCircuits as cn\n",
    "import QCircNet.BinaryQuantumNN as qnn\n",
    "\n",
    "\n",
    "EXPERIMENT_ID = 0\n",
    "HYBRID = True\n",
    "\n",
    "X_PATH = \"data/X_apd_class6_7.npy\"\n",
    "Y_PATH = \"data/y_apd_class6_7.npy\"\n",
    "BIN_ENCODING = {6: 0, 7: 1}\n",
    "\n",
    "\n",
    "N_QUBITS = 4\n",
    "FEAT_PER_QUBIT = 4\n",
    "\n",
    "SCALER = MinMaxScaler()\n",
    "\n",
    "SUBSET = None\n",
    "\n",
    "EPOCHS = 16\n",
    "WEIGHT_PATH = f\"results/weights/bin/\"\n",
    "MODEL_PATH = f\"results/models/bin/\"\n",
    "RESULTS_PATH = f\"results/bin_model_results_expID_{EXPERIMENT_ID}.csv\"\n",
    "RESULTS_DF = pd.DataFrame()\n",
    "\n",
    "VALIDATION = True\n",
    "\n",
    "# for printing colored text output during training\n",
    "RED_TEXT = \"\\033[91m\"\n",
    "GREEN_TEXT = \"\\033[92m\"\n",
    "RESET_COLOR = \"\\033[0m\" \n"
   ]
  },
  {
   "cell_type": "code",
   "execution_count": 3,
   "metadata": {},
   "outputs": [
    {
     "name": "stdout",
     "output_type": "stream",
     "text": [
      "train:\t torch.Size([9746, 16]) torch.Size([9746])\n",
      "val:\t torch.Size([1219, 16]) torch.Size([1219])\n",
      "test:\t torch.Size([1218, 16]) torch.Size([1218])\n"
     ]
    }
   ],
   "source": [
    "# load the data\n",
    "X_train, X_val, X_test, y_train, y_val, y_test, _ = ut.load_and_prepare_data(X_PATH, Y_PATH, scaler=SCALER, bin_encoding=BIN_ENCODING, subset=SUBSET)\n",
    "\n",
    "# check shapes\n",
    "print(\"train:\\t\", X_train.shape, y_train.shape)\n",
    "print(\"val:\\t\", X_val.shape, y_val.shape)\n",
    "print(\"test:\\t\", X_test.shape, y_test.shape)"
   ]
  },
  {
   "cell_type": "code",
   "execution_count": 4,
   "metadata": {},
   "outputs": [
    {
     "data": {
      "text/plain": [
       "[QCircNet.circuits.CustomCircuits.Anusha2024Circuit,\n",
       " QCircNet.circuits.CustomCircuits.DoubleEntanglementVLCircuit,\n",
       " QCircNet.circuits.CustomCircuits.Ranga2024Circuit,\n",
       " QCircNet.circuits.CustomCircuits.Senokosov2024Circuit]"
      ]
     },
     "execution_count": 4,
     "metadata": {},
     "output_type": "execute_result"
    }
   ],
   "source": [
    "cn.get_custom_circuits()"
   ]
  },
  {
   "cell_type": "code",
   "execution_count": 5,
   "metadata": {},
   "outputs": [],
   "source": [
    "circuits = [\n",
    "    cn.Ranga2024Circuit,\n",
    "    cn.Senokosov2024Circuit,\n",
    "    cn.Anusha2024Circuit,\n",
    "    cn.DoubleEntanglementVLCircuit,\n",
    "]\n",
    "\n",
    "runs = list(range(1, 11)) # runs are also used as seeds (reproducibility)\n",
    "learning_rates = [0.01, 0.001]"
   ]
  },
  {
   "cell_type": "code",
   "execution_count": 6,
   "metadata": {},
   "outputs": [
    {
     "name": "stdout",
     "output_type": "stream",
     "text": [
      "\u001b[91mRUN 1:\u001b[0m\n",
      " Ranga2024Circuit \n",
      " lr: 0.01\n"
     ]
    },
    {
     "name": "stderr",
     "output_type": "stream",
     "text": [
      "Training progress: 100%|██████████| 304/304 [03:29<00:00,  1.45batch/s]\n"
     ]
    },
    {
     "name": "stdout",
     "output_type": "stream",
     "text": [
      "Epoch 1/2, Train-Loss: 0.1195, Val-Loss: 0.0363, Val-F1: 0.9920, Val-Precision: 0.9905, Val-Recall: 0.9936, Val-Accuracy: 0.9918\n"
     ]
    },
    {
     "name": "stderr",
     "output_type": "stream",
     "text": [
      "Training progress: 100%|██████████| 304/304 [03:28<00:00,  1.46batch/s]\n"
     ]
    },
    {
     "name": "stdout",
     "output_type": "stream",
     "text": [
      "Epoch 2/2, Train-Loss: 0.0289, Val-Loss: 0.0243, Val-F1: 0.9928, Val-Precision: 0.9936, Val-Recall: 0.9920, Val-Accuracy: 0.9926\n",
      "\n",
      "\u001b[92mRESULTS:\n",
      " F1-Score:0.9935794542536116, Precision:0.9983870967741936, Recall:0.9888178913738019, Accuracy:0.993431855500821, Loss:0.023789433762431145 \u001b[0m \n",
      "\n",
      "\n",
      "\u001b[91mRUN 2:\u001b[0m\n",
      " Ranga2024Circuit \n",
      " lr: 0.001\n"
     ]
    },
    {
     "name": "stderr",
     "output_type": "stream",
     "text": [
      "Training progress: 100%|██████████| 304/304 [03:12<00:00,  1.58batch/s]\n"
     ]
    },
    {
     "name": "stdout",
     "output_type": "stream",
     "text": [
      "Epoch 1/2, Train-Loss: 0.4651, Val-Loss: 0.2836, Val-F1: 0.9904, Val-Precision: 0.9904, Val-Recall: 0.9904, Val-Accuracy: 0.9902\n"
     ]
    },
    {
     "name": "stderr",
     "output_type": "stream",
     "text": [
      "Training progress: 100%|██████████| 304/304 [03:09<00:00,  1.61batch/s]\n"
     ]
    },
    {
     "name": "stdout",
     "output_type": "stream",
     "text": [
      "Epoch 2/2, Train-Loss: 0.1998, Val-Loss: 0.1449, Val-F1: 0.9936, Val-Precision: 0.9984, Val-Recall: 0.9888, Val-Accuracy: 0.9934\n",
      "\n",
      "\u001b[92mRESULTS:\n",
      " F1-Score:0.9903536977491961, Precision:0.9967637540453075, Recall:0.9840255591054313, Accuracy:0.9901477832512315, Loss:0.146723210811615 \u001b[0m \n",
      "\n",
      "\n",
      "\u001b[91mRUN 3:\u001b[0m\n",
      " Senokosov2024Circuit \n",
      " lr: 0.01\n"
     ]
    },
    {
     "name": "stderr",
     "output_type": "stream",
     "text": [
      "Training progress: 100%|██████████| 304/304 [02:39<00:00,  1.91batch/s]\n"
     ]
    },
    {
     "name": "stdout",
     "output_type": "stream",
     "text": [
      "Epoch 1/2, Train-Loss: 0.1552, Val-Loss: 0.0421, Val-F1: 0.9912, Val-Precision: 0.9889, Val-Recall: 0.9936, Val-Accuracy: 0.9910\n"
     ]
    },
    {
     "name": "stderr",
     "output_type": "stream",
     "text": [
      "Training progress: 100%|██████████| 304/304 [02:38<00:00,  1.91batch/s]\n"
     ]
    },
    {
     "name": "stdout",
     "output_type": "stream",
     "text": [
      "Epoch 2/2, Train-Loss: 0.0292, Val-Loss: 0.0275, Val-F1: 0.9952, Val-Precision: 0.9984, Val-Recall: 0.9920, Val-Accuracy: 0.9951\n",
      "\n",
      "\u001b[92mRESULTS:\n",
      " F1-Score:0.9935691318327974, Precision:1.0, Recall:0.987220447284345, Accuracy:0.993431855500821, Loss:0.028627773746848106 \u001b[0m \n",
      "\n",
      "\n",
      "\u001b[91mRUN 4:\u001b[0m\n",
      " Senokosov2024Circuit \n",
      " lr: 0.001\n"
     ]
    },
    {
     "name": "stderr",
     "output_type": "stream",
     "text": [
      "Training progress: 100%|██████████| 304/304 [02:38<00:00,  1.92batch/s]\n"
     ]
    },
    {
     "name": "stdout",
     "output_type": "stream",
     "text": [
      "Epoch 1/2, Train-Loss: 0.5929, Val-Loss: 0.3842, Val-F1: 0.9850, Val-Precision: 0.9765, Val-Recall: 0.9936, Val-Accuracy: 0.9844\n"
     ]
    },
    {
     "name": "stderr",
     "output_type": "stream",
     "text": [
      "Training progress: 100%|██████████| 304/304 [02:38<00:00,  1.91batch/s]\n"
     ]
    },
    {
     "name": "stdout",
     "output_type": "stream",
     "text": [
      "Epoch 2/2, Train-Loss: 0.2741, Val-Loss: 0.2054, Val-F1: 0.9881, Val-Precision: 0.9857, Val-Recall: 0.9904, Val-Accuracy: 0.9877\n",
      "\n",
      "\u001b[92mRESULTS:\n",
      " F1-Score:0.9919871794871795, Precision:0.9951768488745981, Recall:0.9888178913738019, Accuracy:0.9917898193760263, Loss:0.20541326701641083 \u001b[0m \n",
      "\n",
      "\n",
      "\u001b[91mRUN 5:\u001b[0m\n",
      " Anusha2024Circuit \n",
      " lr: 0.01\n"
     ]
    },
    {
     "name": "stderr",
     "output_type": "stream",
     "text": [
      "Training progress: 100%|██████████| 304/304 [01:02<00:00,  4.86batch/s]\n"
     ]
    },
    {
     "name": "stdout",
     "output_type": "stream",
     "text": [
      "Epoch 1/2, Train-Loss: 0.1350, Val-Loss: 0.0413, Val-F1: 0.9936, Val-Precision: 0.9936, Val-Recall: 0.9936, Val-Accuracy: 0.9934\n"
     ]
    },
    {
     "name": "stderr",
     "output_type": "stream",
     "text": [
      "Training progress: 100%|██████████| 304/304 [01:02<00:00,  4.86batch/s]\n"
     ]
    },
    {
     "name": "stdout",
     "output_type": "stream",
     "text": [
      "Epoch 2/2, Train-Loss: 0.0328, Val-Loss: 0.0266, Val-F1: 0.9944, Val-Precision: 0.9968, Val-Recall: 0.9920, Val-Accuracy: 0.9943\n",
      "\n",
      "\u001b[92mRESULTS:\n",
      " F1-Score:0.9935794542536116, Precision:0.9983870967741936, Recall:0.9888178913738019, Accuracy:0.993431855500821, Loss:0.027842359617352486 \u001b[0m \n",
      "\n",
      "\n",
      "\u001b[91mRUN 6:\u001b[0m\n",
      " Anusha2024Circuit \n",
      " lr: 0.001\n"
     ]
    },
    {
     "name": "stderr",
     "output_type": "stream",
     "text": [
      "Training progress: 100%|██████████| 304/304 [01:02<00:00,  4.87batch/s]\n"
     ]
    },
    {
     "name": "stdout",
     "output_type": "stream",
     "text": [
      "Epoch 1/2, Train-Loss: 0.4618, Val-Loss: 0.2990, Val-F1: 0.9809, Val-Precision: 0.9793, Val-Recall: 0.9825, Val-Accuracy: 0.9803\n"
     ]
    },
    {
     "name": "stderr",
     "output_type": "stream",
     "text": [
      "Training progress: 100%|██████████| 304/304 [01:02<00:00,  4.85batch/s]\n"
     ]
    },
    {
     "name": "stdout",
     "output_type": "stream",
     "text": [
      "Epoch 2/2, Train-Loss: 0.2126, Val-Loss: 0.1611, Val-F1: 0.9863, Val-Precision: 0.9951, Val-Recall: 0.9777, Val-Accuracy: 0.9861\n",
      "\n",
      "\u001b[92mRESULTS:\n",
      " F1-Score:0.9863013698630136, Precision:0.9951219512195122, Recall:0.9776357827476039, Accuracy:0.9860426929392446, Loss:0.1602211594581604 \u001b[0m \n",
      "\n",
      "\n",
      "\u001b[91mRUN 7:\u001b[0m\n",
      " DoubleEntanglementVLCircuit \n",
      " lr: 0.01\n"
     ]
    },
    {
     "name": "stderr",
     "output_type": "stream",
     "text": [
      "Training progress: 100%|██████████| 304/304 [01:32<00:00,  3.28batch/s]\n"
     ]
    },
    {
     "name": "stdout",
     "output_type": "stream",
     "text": [
      "Epoch 1/2, Train-Loss: 0.1366, Val-Loss: 0.0334, Val-F1: 0.9928, Val-Precision: 0.9920, Val-Recall: 0.9936, Val-Accuracy: 0.9926\n"
     ]
    },
    {
     "name": "stderr",
     "output_type": "stream",
     "text": [
      "Training progress: 100%|██████████| 304/304 [01:32<00:00,  3.28batch/s]\n"
     ]
    },
    {
     "name": "stdout",
     "output_type": "stream",
     "text": [
      "Epoch 2/2, Train-Loss: 0.0253, Val-Loss: 0.0250, Val-F1: 0.9952, Val-Precision: 0.9984, Val-Recall: 0.9920, Val-Accuracy: 0.9951\n",
      "\n",
      "\u001b[92mRESULTS:\n",
      " F1-Score:0.9935691318327974, Precision:1.0, Recall:0.987220447284345, Accuracy:0.993431855500821, Loss:0.02622702158987522 \u001b[0m \n",
      "\n",
      "\n",
      "\u001b[91mRUN 8:\u001b[0m\n",
      " DoubleEntanglementVLCircuit \n",
      " lr: 0.001\n"
     ]
    },
    {
     "name": "stderr",
     "output_type": "stream",
     "text": [
      "Training progress: 100%|██████████| 304/304 [01:32<00:00,  3.27batch/s]\n"
     ]
    },
    {
     "name": "stdout",
     "output_type": "stream",
     "text": [
      "Epoch 1/2, Train-Loss: 0.5992, Val-Loss: 0.3996, Val-F1: 0.9833, Val-Precision: 0.9779, Val-Recall: 0.9888, Val-Accuracy: 0.9828\n"
     ]
    },
    {
     "name": "stderr",
     "output_type": "stream",
     "text": [
      "Training progress: 100%|██████████| 304/304 [01:32<00:00,  3.28batch/s]\n"
     ]
    },
    {
     "name": "stdout",
     "output_type": "stream",
     "text": [
      "Epoch 2/2, Train-Loss: 0.2439, Val-Loss: 0.1503, Val-F1: 0.9880, Val-Precision: 0.9904, Val-Recall: 0.9856, Val-Accuracy: 0.9877\n",
      "\n",
      "\u001b[92mRESULTS:\n",
      " F1-Score:0.9879518072289156, Precision:0.9935379644588045, Recall:0.9824281150159745, Accuracy:0.9876847290640394, Loss:0.14982850849628448 \u001b[0m \n",
      "\n",
      "\n",
      "\u001b[91mRUN 9:\u001b[0m\n",
      " Ranga2024Circuit \n",
      " lr: 0.01\n"
     ]
    },
    {
     "name": "stderr",
     "output_type": "stream",
     "text": [
      "Training progress: 100%|██████████| 304/304 [03:13<00:00,  1.57batch/s]\n"
     ]
    },
    {
     "name": "stdout",
     "output_type": "stream",
     "text": [
      "Epoch 1/2, Train-Loss: 0.1109, Val-Loss: 0.0281, Val-F1: 0.9944, Val-Precision: 0.9968, Val-Recall: 0.9920, Val-Accuracy: 0.9943\n"
     ]
    },
    {
     "name": "stderr",
     "output_type": "stream",
     "text": [
      "Training progress: 100%|██████████| 304/304 [03:13<00:00,  1.57batch/s]\n"
     ]
    },
    {
     "name": "stdout",
     "output_type": "stream",
     "text": [
      "Epoch 2/2, Train-Loss: 0.0285, Val-Loss: 0.0292, Val-F1: 0.9944, Val-Precision: 1.0000, Val-Recall: 0.9888, Val-Accuracy: 0.9943\n",
      "\n",
      "\u001b[92mRESULTS:\n",
      " F1-Score:0.9927710843373494, Precision:0.9983844911147012, Recall:0.987220447284345, Accuracy:0.9926108374384236, Loss:0.028409641236066818 \u001b[0m \n",
      "\n",
      "\n",
      "\u001b[91mRUN 10:\u001b[0m\n",
      " Ranga2024Circuit \n",
      " lr: 0.001\n"
     ]
    },
    {
     "name": "stderr",
     "output_type": "stream",
     "text": [
      "Training progress: 100%|██████████| 304/304 [03:11<00:00,  1.59batch/s]\n"
     ]
    },
    {
     "name": "stdout",
     "output_type": "stream",
     "text": [
      "Epoch 1/2, Train-Loss: 0.4288, Val-Loss: 0.2234, Val-F1: 0.9912, Val-Precision: 0.9968, Val-Recall: 0.9856, Val-Accuracy: 0.9910\n"
     ]
    },
    {
     "name": "stderr",
     "output_type": "stream",
     "text": [
      "Training progress: 100%|██████████| 304/304 [03:13<00:00,  1.57batch/s]\n"
     ]
    },
    {
     "name": "stdout",
     "output_type": "stream",
     "text": [
      "Epoch 2/2, Train-Loss: 0.1430, Val-Loss: 0.0937, Val-F1: 0.9944, Val-Precision: 0.9984, Val-Recall: 0.9904, Val-Accuracy: 0.9943\n",
      "\n",
      "\u001b[92mRESULTS:\n",
      " F1-Score:0.9911504424778761, Precision:0.9983792544570502, Recall:0.9840255591054313, Accuracy:0.9909688013136289, Loss:0.09477346390485764 \u001b[0m \n",
      "\n",
      "\n",
      "\u001b[91mRUN 11:\u001b[0m\n",
      " Senokosov2024Circuit \n",
      " lr: 0.01\n"
     ]
    },
    {
     "name": "stderr",
     "output_type": "stream",
     "text": [
      "Training progress: 100%|██████████| 304/304 [02:38<00:00,  1.91batch/s]\n"
     ]
    },
    {
     "name": "stdout",
     "output_type": "stream",
     "text": [
      "Epoch 1/2, Train-Loss: 0.1613, Val-Loss: 0.0328, Val-F1: 0.9936, Val-Precision: 0.9952, Val-Recall: 0.9920, Val-Accuracy: 0.9934\n"
     ]
    },
    {
     "name": "stderr",
     "output_type": "stream",
     "text": [
      "Training progress: 100%|██████████| 304/304 [02:36<00:00,  1.94batch/s]\n"
     ]
    },
    {
     "name": "stdout",
     "output_type": "stream",
     "text": [
      "Epoch 2/2, Train-Loss: 0.0268, Val-Loss: 0.0251, Val-F1: 0.9952, Val-Precision: 0.9984, Val-Recall: 0.9920, Val-Accuracy: 0.9951\n",
      "\n",
      "\u001b[92mRESULTS:\n",
      " F1-Score:0.9943775100401606, Precision:1.0, Recall:0.9888178913738019, Accuracy:0.9942528735632183, Loss:0.02541304938495159 \u001b[0m \n",
      "\n",
      "\n",
      "\u001b[91mRUN 12:\u001b[0m\n",
      " Senokosov2024Circuit \n",
      " lr: 0.001\n"
     ]
    },
    {
     "name": "stderr",
     "output_type": "stream",
     "text": [
      "Training progress: 100%|██████████| 304/304 [02:37<00:00,  1.93batch/s]\n"
     ]
    },
    {
     "name": "stdout",
     "output_type": "stream",
     "text": [
      "Epoch 1/2, Train-Loss: 0.5723, Val-Loss: 0.3688, Val-F1: 0.9920, Val-Precision: 0.9952, Val-Recall: 0.9888, Val-Accuracy: 0.9918\n"
     ]
    },
    {
     "name": "stderr",
     "output_type": "stream",
     "text": [
      "Training progress: 100%|██████████| 304/304 [02:37<00:00,  1.93batch/s]\n"
     ]
    },
    {
     "name": "stdout",
     "output_type": "stream",
     "text": [
      "Epoch 2/2, Train-Loss: 0.2506, Val-Loss: 0.1828, Val-F1: 0.9928, Val-Precision: 0.9936, Val-Recall: 0.9920, Val-Accuracy: 0.9926\n",
      "\n",
      "\u001b[92mRESULTS:\n",
      " F1-Score:0.9911504424778761, Precision:0.9983792544570502, Recall:0.9840255591054313, Accuracy:0.9909688013136289, Loss:0.18356984853744507 \u001b[0m \n",
      "\n",
      "\n",
      "\u001b[91mRUN 13:\u001b[0m\n",
      " Anusha2024Circuit \n",
      " lr: 0.01\n"
     ]
    },
    {
     "name": "stderr",
     "output_type": "stream",
     "text": [
      "Training progress: 100%|██████████| 304/304 [01:01<00:00,  4.92batch/s]\n"
     ]
    },
    {
     "name": "stdout",
     "output_type": "stream",
     "text": [
      "Epoch 1/2, Train-Loss: 0.1151, Val-Loss: 0.0306, Val-F1: 0.9936, Val-Precision: 0.9952, Val-Recall: 0.9920, Val-Accuracy: 0.9934\n"
     ]
    },
    {
     "name": "stderr",
     "output_type": "stream",
     "text": [
      "Training progress: 100%|██████████| 304/304 [01:02<00:00,  4.89batch/s]\n"
     ]
    },
    {
     "name": "stdout",
     "output_type": "stream",
     "text": [
      "Epoch 2/2, Train-Loss: 0.0289, Val-Loss: 0.0262, Val-F1: 0.9952, Val-Precision: 0.9984, Val-Recall: 0.9920, Val-Accuracy: 0.9951\n",
      "\n",
      "\u001b[92mRESULTS:\n",
      " F1-Score:0.9943775100401606, Precision:1.0, Recall:0.9888178913738019, Accuracy:0.9942528735632183, Loss:0.0238333810120821 \u001b[0m \n",
      "\n",
      "\n",
      "\u001b[91mRUN 14:\u001b[0m\n",
      " Anusha2024Circuit \n",
      " lr: 0.001\n"
     ]
    },
    {
     "name": "stderr",
     "output_type": "stream",
     "text": [
      "Training progress: 100%|██████████| 304/304 [01:01<00:00,  4.90batch/s]\n"
     ]
    },
    {
     "name": "stdout",
     "output_type": "stream",
     "text": [
      "Epoch 1/2, Train-Loss: 0.4499, Val-Loss: 0.2169, Val-F1: 0.9790, Val-Precision: 0.9934, Val-Recall: 0.9649, Val-Accuracy: 0.9787\n"
     ]
    },
    {
     "name": "stderr",
     "output_type": "stream",
     "text": [
      "Training progress: 100%|██████████| 304/304 [01:01<00:00,  4.90batch/s]\n"
     ]
    },
    {
     "name": "stdout",
     "output_type": "stream",
     "text": [
      "Epoch 2/2, Train-Loss: 0.1500, Val-Loss: 0.1098, Val-F1: 0.9888, Val-Precision: 0.9936, Val-Recall: 0.9841, Val-Accuracy: 0.9885\n",
      "\n",
      "\u001b[92mRESULTS:\n",
      " F1-Score:0.9919484702093397, Precision:1.0, Recall:0.9840255591054313, Accuracy:0.9917898193760263, Loss:0.11116153001785278 \u001b[0m \n",
      "\n",
      "\n",
      "\u001b[91mRUN 15:\u001b[0m\n",
      " DoubleEntanglementVLCircuit \n",
      " lr: 0.01\n"
     ]
    },
    {
     "name": "stderr",
     "output_type": "stream",
     "text": [
      "Training progress: 100%|██████████| 304/304 [01:31<00:00,  3.34batch/s]\n"
     ]
    },
    {
     "name": "stdout",
     "output_type": "stream",
     "text": [
      "Epoch 1/2, Train-Loss: 0.1329, Val-Loss: 0.0304, Val-F1: 0.9936, Val-Precision: 0.9952, Val-Recall: 0.9920, Val-Accuracy: 0.9934\n"
     ]
    },
    {
     "name": "stderr",
     "output_type": "stream",
     "text": [
      "Training progress: 100%|██████████| 304/304 [01:31<00:00,  3.33batch/s]\n"
     ]
    },
    {
     "name": "stdout",
     "output_type": "stream",
     "text": [
      "Epoch 2/2, Train-Loss: 0.0254, Val-Loss: 0.0251, Val-F1: 0.9952, Val-Precision: 0.9984, Val-Recall: 0.9920, Val-Accuracy: 0.9951\n",
      "\n",
      "\u001b[92mRESULTS:\n",
      " F1-Score:0.9943775100401606, Precision:1.0, Recall:0.9888178913738019, Accuracy:0.9942528735632183, Loss:0.023958958685398102 \u001b[0m \n",
      "\n",
      "\n",
      "\u001b[91mRUN 16:\u001b[0m\n",
      " DoubleEntanglementVLCircuit \n",
      " lr: 0.001\n"
     ]
    },
    {
     "name": "stderr",
     "output_type": "stream",
     "text": [
      "Training progress: 100%|██████████| 304/304 [01:31<00:00,  3.33batch/s]\n"
     ]
    },
    {
     "name": "stdout",
     "output_type": "stream",
     "text": [
      "Epoch 1/2, Train-Loss: 0.5509, Val-Loss: 0.3137, Val-F1: 0.9896, Val-Precision: 0.9952, Val-Recall: 0.9841, Val-Accuracy: 0.9893\n"
     ]
    },
    {
     "name": "stderr",
     "output_type": "stream",
     "text": [
      "Training progress: 100%|██████████| 304/304 [01:31<00:00,  3.34batch/s]\n"
     ]
    },
    {
     "name": "stdout",
     "output_type": "stream",
     "text": [
      "Epoch 2/2, Train-Loss: 0.1729, Val-Loss: 0.1050, Val-F1: 0.9928, Val-Precision: 0.9952, Val-Recall: 0.9904, Val-Accuracy: 0.9926\n",
      "\n",
      "\u001b[92mRESULTS:\n",
      " F1-Score:0.9919484702093397, Precision:1.0, Recall:0.9840255591054313, Accuracy:0.9917898193760263, Loss:0.10574837028980255 \u001b[0m \n",
      "\n",
      "\n",
      "\u001b[91mRUN 17:\u001b[0m\n",
      " Ranga2024Circuit \n",
      " lr: 0.01\n"
     ]
    },
    {
     "name": "stderr",
     "output_type": "stream",
     "text": [
      "Training progress: 100%|██████████| 304/304 [03:11<00:00,  1.59batch/s]\n"
     ]
    },
    {
     "name": "stdout",
     "output_type": "stream",
     "text": [
      "Epoch 1/2, Train-Loss: 0.0972, Val-Loss: 0.0315, Val-F1: 0.9897, Val-Precision: 0.9858, Val-Recall: 0.9936, Val-Accuracy: 0.9893\n"
     ]
    },
    {
     "name": "stderr",
     "output_type": "stream",
     "text": [
      "Training progress: 100%|██████████| 304/304 [03:10<00:00,  1.59batch/s]\n"
     ]
    },
    {
     "name": "stdout",
     "output_type": "stream",
     "text": [
      "Epoch 2/2, Train-Loss: 0.0249, Val-Loss: 0.0279, Val-F1: 0.9936, Val-Precision: 0.9936, Val-Recall: 0.9936, Val-Accuracy: 0.9934\n",
      "\n",
      "\u001b[92mRESULTS:\n",
      " F1-Score:0.9935897435897436, Precision:0.9967845659163987, Recall:0.9904153354632588, Accuracy:0.993431855500821, Loss:0.02282232791185379 \u001b[0m \n",
      "\n",
      "\n",
      "\u001b[91mRUN 18:\u001b[0m\n",
      " Ranga2024Circuit \n",
      " lr: 0.001\n"
     ]
    },
    {
     "name": "stderr",
     "output_type": "stream",
     "text": [
      "Training progress: 100%|██████████| 304/304 [03:10<00:00,  1.60batch/s]\n"
     ]
    },
    {
     "name": "stdout",
     "output_type": "stream",
     "text": [
      "Epoch 1/2, Train-Loss: 0.3580, Val-Loss: 0.1825, Val-F1: 0.9936, Val-Precision: 0.9968, Val-Recall: 0.9904, Val-Accuracy: 0.9934\n"
     ]
    },
    {
     "name": "stderr",
     "output_type": "stream",
     "text": [
      "Training progress: 100%|██████████| 304/304 [03:10<00:00,  1.60batch/s]\n"
     ]
    },
    {
     "name": "stdout",
     "output_type": "stream",
     "text": [
      "Epoch 2/2, Train-Loss: 0.1327, Val-Loss: 0.0954, Val-F1: 0.9944, Val-Precision: 0.9984, Val-Recall: 0.9904, Val-Accuracy: 0.9943\n",
      "\n",
      "\u001b[92mRESULTS:\n",
      " F1-Score:0.9911361804995971, Precision:1.0, Recall:0.9824281150159745, Accuracy:0.9909688013136289, Loss:0.09672555327415466 \u001b[0m \n",
      "\n",
      "\n",
      "\u001b[91mRUN 19:\u001b[0m\n",
      " Senokosov2024Circuit \n",
      " lr: 0.01\n"
     ]
    },
    {
     "name": "stderr",
     "output_type": "stream",
     "text": [
      "Training progress: 100%|██████████| 304/304 [02:35<00:00,  1.95batch/s]\n"
     ]
    },
    {
     "name": "stdout",
     "output_type": "stream",
     "text": [
      "Epoch 1/2, Train-Loss: 0.1123, Val-Loss: 0.0298, Val-F1: 0.9928, Val-Precision: 0.9920, Val-Recall: 0.9936, Val-Accuracy: 0.9926\n"
     ]
    },
    {
     "name": "stderr",
     "output_type": "stream",
     "text": [
      "Training progress: 100%|██████████| 304/304 [02:36<00:00,  1.95batch/s]\n"
     ]
    },
    {
     "name": "stdout",
     "output_type": "stream",
     "text": [
      "Epoch 2/2, Train-Loss: 0.0238, Val-Loss: 0.0239, Val-F1: 0.9952, Val-Precision: 0.9984, Val-Recall: 0.9920, Val-Accuracy: 0.9951\n",
      "\n",
      "\u001b[92mRESULTS:\n",
      " F1-Score:0.9943775100401606, Precision:1.0, Recall:0.9888178913738019, Accuracy:0.9942528735632183, Loss:0.025336654856801033 \u001b[0m \n",
      "\n",
      "\n",
      "\u001b[91mRUN 20:\u001b[0m\n",
      " Senokosov2024Circuit \n",
      " lr: 0.001\n"
     ]
    },
    {
     "name": "stderr",
     "output_type": "stream",
     "text": [
      "Training progress: 100%|██████████| 304/304 [02:35<00:00,  1.95batch/s]\n"
     ]
    },
    {
     "name": "stdout",
     "output_type": "stream",
     "text": [
      "Epoch 1/2, Train-Loss: 0.4519, Val-Loss: 0.2451, Val-F1: 0.9896, Val-Precision: 0.9920, Val-Recall: 0.9872, Val-Accuracy: 0.9893\n"
     ]
    },
    {
     "name": "stderr",
     "output_type": "stream",
     "text": [
      "Training progress: 100%|██████████| 304/304 [02:36<00:00,  1.94batch/s]\n"
     ]
    },
    {
     "name": "stdout",
     "output_type": "stream",
     "text": [
      "Epoch 2/2, Train-Loss: 0.1616, Val-Loss: 0.1127, Val-F1: 0.9912, Val-Precision: 0.9952, Val-Recall: 0.9872, Val-Accuracy: 0.9910\n",
      "\n",
      "\u001b[92mRESULTS:\n",
      " F1-Score:0.9919614147909968, Precision:0.9983818770226537, Recall:0.9856230031948882, Accuracy:0.9917898193760263, Loss:0.11224961280822754 \u001b[0m \n",
      "\n",
      "\n",
      "\u001b[91mRUN 21:\u001b[0m\n",
      " Anusha2024Circuit \n",
      " lr: 0.01\n"
     ]
    },
    {
     "name": "stderr",
     "output_type": "stream",
     "text": [
      "Training progress: 100%|██████████| 304/304 [01:01<00:00,  4.90batch/s]\n"
     ]
    },
    {
     "name": "stdout",
     "output_type": "stream",
     "text": [
      "Epoch 1/2, Train-Loss: 0.1589, Val-Loss: 0.0447, Val-F1: 0.9912, Val-Precision: 0.9920, Val-Recall: 0.9904, Val-Accuracy: 0.9910\n"
     ]
    },
    {
     "name": "stderr",
     "output_type": "stream",
     "text": [
      "Training progress: 100%|██████████| 304/304 [01:02<00:00,  4.89batch/s]\n"
     ]
    },
    {
     "name": "stdout",
     "output_type": "stream",
     "text": [
      "Epoch 2/2, Train-Loss: 0.0345, Val-Loss: 0.0296, Val-F1: 0.9936, Val-Precision: 0.9936, Val-Recall: 0.9936, Val-Accuracy: 0.9934\n",
      "\n",
      "\u001b[92mRESULTS:\n",
      " F1-Score:0.9943865276663993, Precision:0.998389694041868, Recall:0.9904153354632588, Accuracy:0.9942528735632183, Loss:0.02676256000995636 \u001b[0m \n",
      "\n",
      "\n",
      "\u001b[91mRUN 22:\u001b[0m\n",
      " Anusha2024Circuit \n",
      " lr: 0.001\n"
     ]
    },
    {
     "name": "stderr",
     "output_type": "stream",
     "text": [
      "Training progress: 100%|██████████| 304/304 [01:01<00:00,  4.92batch/s]\n"
     ]
    },
    {
     "name": "stdout",
     "output_type": "stream",
     "text": [
      "Epoch 1/2, Train-Loss: 0.4080, Val-Loss: 0.1670, Val-F1: 0.9823, Val-Precision: 0.9919, Val-Recall: 0.9729, Val-Accuracy: 0.9820\n"
     ]
    },
    {
     "name": "stderr",
     "output_type": "stream",
     "text": [
      "Training progress: 100%|██████████| 304/304 [01:02<00:00,  4.88batch/s]\n"
     ]
    },
    {
     "name": "stdout",
     "output_type": "stream",
     "text": [
      "Epoch 2/2, Train-Loss: 0.1240, Val-Loss: 0.0965, Val-F1: 0.9896, Val-Precision: 0.9968, Val-Recall: 0.9825, Val-Accuracy: 0.9893\n",
      "\n",
      "\u001b[92mRESULTS:\n",
      " F1-Score:0.9895414320193081, Precision:0.9967585089141004, Recall:0.9824281150159745, Accuracy:0.9893267651888341, Loss:0.09719838947057724 \u001b[0m \n",
      "\n",
      "\n",
      "\u001b[91mRUN 23:\u001b[0m\n",
      " DoubleEntanglementVLCircuit \n",
      " lr: 0.01\n"
     ]
    },
    {
     "name": "stderr",
     "output_type": "stream",
     "text": [
      "Training progress: 100%|██████████| 304/304 [01:31<00:00,  3.33batch/s]\n"
     ]
    },
    {
     "name": "stdout",
     "output_type": "stream",
     "text": [
      "Epoch 1/2, Train-Loss: 0.1543, Val-Loss: 0.0382, Val-F1: 0.9944, Val-Precision: 0.9968, Val-Recall: 0.9920, Val-Accuracy: 0.9943\n"
     ]
    },
    {
     "name": "stderr",
     "output_type": "stream",
     "text": [
      "Training progress: 100%|██████████| 304/304 [01:31<00:00,  3.33batch/s]\n"
     ]
    },
    {
     "name": "stdout",
     "output_type": "stream",
     "text": [
      "Epoch 2/2, Train-Loss: 0.0291, Val-Loss: 0.0256, Val-F1: 0.9952, Val-Precision: 0.9984, Val-Recall: 0.9920, Val-Accuracy: 0.9951\n",
      "\n",
      "\u001b[92mRESULTS:\n",
      " F1-Score:0.9943775100401606, Precision:1.0, Recall:0.9888178913738019, Accuracy:0.9942528735632183, Loss:0.02562132477760315 \u001b[0m \n",
      "\n",
      "\n",
      "\u001b[91mRUN 24:\u001b[0m\n",
      " DoubleEntanglementVLCircuit \n",
      " lr: 0.001\n"
     ]
    },
    {
     "name": "stderr",
     "output_type": "stream",
     "text": [
      "Training progress: 100%|██████████| 304/304 [01:31<00:00,  3.34batch/s]\n"
     ]
    },
    {
     "name": "stdout",
     "output_type": "stream",
     "text": [
      "Epoch 1/2, Train-Loss: 0.5286, Val-Loss: 0.3458, Val-F1: 0.9879, Val-Precision: 0.9984, Val-Recall: 0.9777, Val-Accuracy: 0.9877\n"
     ]
    },
    {
     "name": "stderr",
     "output_type": "stream",
     "text": [
      "Training progress: 100%|██████████| 304/304 [01:31<00:00,  3.33batch/s]\n"
     ]
    },
    {
     "name": "stdout",
     "output_type": "stream",
     "text": [
      "Epoch 2/2, Train-Loss: 0.2532, Val-Loss: 0.1963, Val-F1: 0.9904, Val-Precision: 0.9968, Val-Recall: 0.9841, Val-Accuracy: 0.9902\n",
      "\n",
      "\u001b[92mRESULTS:\n",
      " F1-Score:0.9911361804995971, Precision:1.0, Recall:0.9824281150159745, Accuracy:0.9909688013136289, Loss:0.1965613067150116 \u001b[0m \n",
      "\n",
      "\n",
      "\u001b[91mRUN 25:\u001b[0m\n",
      " Ranga2024Circuit \n",
      " lr: 0.01\n"
     ]
    },
    {
     "name": "stderr",
     "output_type": "stream",
     "text": [
      "Training progress: 100%|██████████| 304/304 [03:11<00:00,  1.59batch/s]\n"
     ]
    },
    {
     "name": "stdout",
     "output_type": "stream",
     "text": [
      "Epoch 1/2, Train-Loss: 0.1201, Val-Loss: 0.0312, Val-F1: 0.9944, Val-Precision: 0.9984, Val-Recall: 0.9904, Val-Accuracy: 0.9943\n"
     ]
    },
    {
     "name": "stderr",
     "output_type": "stream",
     "text": [
      "Training progress: 100%|██████████| 304/304 [03:12<00:00,  1.58batch/s]\n"
     ]
    },
    {
     "name": "stdout",
     "output_type": "stream",
     "text": [
      "Epoch 2/2, Train-Loss: 0.0288, Val-Loss: 0.0208, Val-F1: 0.9928, Val-Precision: 0.9952, Val-Recall: 0.9904, Val-Accuracy: 0.9926\n",
      "\n",
      "\u001b[92mRESULTS:\n",
      " F1-Score:0.9919614147909968, Precision:0.9983818770226537, Recall:0.9856230031948882, Accuracy:0.9917898193760263, Loss:0.029699165374040604 \u001b[0m \n",
      "\n",
      "\n",
      "\u001b[91mRUN 26:\u001b[0m\n",
      " Ranga2024Circuit \n",
      " lr: 0.001\n"
     ]
    },
    {
     "name": "stderr",
     "output_type": "stream",
     "text": [
      "Training progress: 100%|██████████| 304/304 [03:12<00:00,  1.58batch/s]\n"
     ]
    },
    {
     "name": "stdout",
     "output_type": "stream",
     "text": [
      "Epoch 1/2, Train-Loss: 0.4854, Val-Loss: 0.2898, Val-F1: 0.9897, Val-Precision: 0.9873, Val-Recall: 0.9920, Val-Accuracy: 0.9893\n"
     ]
    },
    {
     "name": "stderr",
     "output_type": "stream",
     "text": [
      "Training progress: 100%|██████████| 304/304 [03:10<00:00,  1.60batch/s]\n"
     ]
    },
    {
     "name": "stdout",
     "output_type": "stream",
     "text": [
      "Epoch 2/2, Train-Loss: 0.1909, Val-Loss: 0.1267, Val-F1: 0.9944, Val-Precision: 0.9968, Val-Recall: 0.9920, Val-Accuracy: 0.9943\n",
      "\n",
      "\u001b[92mRESULTS:\n",
      " F1-Score:0.9911504424778761, Precision:0.9983792544570502, Recall:0.9840255591054313, Accuracy:0.9909688013136289, Loss:0.1290394514799118 \u001b[0m \n",
      "\n",
      "\n",
      "\u001b[91mRUN 27:\u001b[0m\n",
      " Senokosov2024Circuit \n",
      " lr: 0.01\n"
     ]
    },
    {
     "name": "stderr",
     "output_type": "stream",
     "text": [
      "Training progress: 100%|██████████| 304/304 [02:35<00:00,  1.95batch/s]\n"
     ]
    },
    {
     "name": "stdout",
     "output_type": "stream",
     "text": [
      "Epoch 1/2, Train-Loss: 0.1637, Val-Loss: 0.0355, Val-F1: 0.9912, Val-Precision: 0.9904, Val-Recall: 0.9920, Val-Accuracy: 0.9910\n"
     ]
    },
    {
     "name": "stderr",
     "output_type": "stream",
     "text": [
      "Training progress: 100%|██████████| 304/304 [02:35<00:00,  1.95batch/s]\n"
     ]
    },
    {
     "name": "stdout",
     "output_type": "stream",
     "text": [
      "Epoch 2/2, Train-Loss: 0.0281, Val-Loss: 0.0263, Val-F1: 0.9952, Val-Precision: 0.9984, Val-Recall: 0.9920, Val-Accuracy: 0.9951\n",
      "\n",
      "\u001b[92mRESULTS:\n",
      " F1-Score:0.9919484702093397, Precision:1.0, Recall:0.9840255591054313, Accuracy:0.9917898193760263, Loss:0.03326699137687683 \u001b[0m \n",
      "\n",
      "\n",
      "\u001b[91mRUN 28:\u001b[0m\n",
      " Senokosov2024Circuit \n",
      " lr: 0.001\n"
     ]
    },
    {
     "name": "stderr",
     "output_type": "stream",
     "text": [
      "Training progress: 100%|██████████| 304/304 [02:35<00:00,  1.95batch/s]\n"
     ]
    },
    {
     "name": "stdout",
     "output_type": "stream",
     "text": [
      "Epoch 1/2, Train-Loss: 0.6183, Val-Loss: 0.4392, Val-F1: 0.9682, Val-Precision: 0.9426, Val-Recall: 0.9952, Val-Accuracy: 0.9664\n"
     ]
    },
    {
     "name": "stderr",
     "output_type": "stream",
     "text": [
      "Training progress: 100%|██████████| 304/304 [02:36<00:00,  1.95batch/s]\n"
     ]
    },
    {
     "name": "stdout",
     "output_type": "stream",
     "text": [
      "Epoch 2/2, Train-Loss: 0.3020, Val-Loss: 0.1996, Val-F1: 0.9881, Val-Precision: 0.9826, Val-Recall: 0.9936, Val-Accuracy: 0.9877\n",
      "\n",
      "\u001b[92mRESULTS:\n",
      " F1-Score:0.991207034372502, Precision:0.992, Recall:0.9904153354632588, Accuracy:0.9909688013136289, Loss:0.1999175250530243 \u001b[0m \n",
      "\n",
      "\n",
      "\u001b[91mRUN 29:\u001b[0m\n",
      " Anusha2024Circuit \n",
      " lr: 0.01\n"
     ]
    },
    {
     "name": "stderr",
     "output_type": "stream",
     "text": [
      "Training progress: 100%|██████████| 304/304 [01:01<00:00,  4.95batch/s]\n"
     ]
    },
    {
     "name": "stdout",
     "output_type": "stream",
     "text": [
      "Epoch 1/2, Train-Loss: 0.1190, Val-Loss: 0.0289, Val-F1: 0.9944, Val-Precision: 0.9952, Val-Recall: 0.9936, Val-Accuracy: 0.9943\n"
     ]
    },
    {
     "name": "stderr",
     "output_type": "stream",
     "text": [
      "Training progress: 100%|██████████| 304/304 [01:01<00:00,  4.94batch/s]\n"
     ]
    },
    {
     "name": "stdout",
     "output_type": "stream",
     "text": [
      "Epoch 2/2, Train-Loss: 0.0258, Val-Loss: 0.0258, Val-F1: 0.9952, Val-Precision: 0.9984, Val-Recall: 0.9920, Val-Accuracy: 0.9951\n",
      "\n",
      "\u001b[92mRESULTS:\n",
      " F1-Score:0.9919484702093397, Precision:1.0, Recall:0.9840255591054313, Accuracy:0.9917898193760263, Loss:0.034195512533187866 \u001b[0m \n",
      "\n",
      "\n",
      "\u001b[91mRUN 30:\u001b[0m\n",
      " Anusha2024Circuit \n",
      " lr: 0.001\n"
     ]
    },
    {
     "name": "stderr",
     "output_type": "stream",
     "text": [
      "Training progress: 100%|██████████| 304/304 [01:01<00:00,  4.93batch/s]\n"
     ]
    },
    {
     "name": "stdout",
     "output_type": "stream",
     "text": [
      "Epoch 1/2, Train-Loss: 0.4972, Val-Loss: 0.2704, Val-F1: 0.9872, Val-Precision: 0.9872, Val-Recall: 0.9872, Val-Accuracy: 0.9869\n"
     ]
    },
    {
     "name": "stderr",
     "output_type": "stream",
     "text": [
      "Training progress: 100%|██████████| 304/304 [01:01<00:00,  4.93batch/s]\n"
     ]
    },
    {
     "name": "stdout",
     "output_type": "stream",
     "text": [
      "Epoch 2/2, Train-Loss: 0.1925, Val-Loss: 0.1436, Val-F1: 0.9896, Val-Precision: 0.9889, Val-Recall: 0.9904, Val-Accuracy: 0.9893\n",
      "\n",
      "\u001b[92mRESULTS:\n",
      " F1-Score:0.9903691813804173, Precision:0.9951612903225806, Recall:0.9856230031948882, Accuracy:0.9901477832512315, Loss:0.1442839503288269 \u001b[0m \n",
      "\n",
      "\n",
      "\u001b[91mRUN 31:\u001b[0m\n",
      " DoubleEntanglementVLCircuit \n",
      " lr: 0.01\n"
     ]
    },
    {
     "name": "stderr",
     "output_type": "stream",
     "text": [
      "Training progress: 100%|██████████| 304/304 [01:30<00:00,  3.35batch/s]\n"
     ]
    },
    {
     "name": "stdout",
     "output_type": "stream",
     "text": [
      "Epoch 1/2, Train-Loss: 0.1335, Val-Loss: 0.0387, Val-F1: 0.9928, Val-Precision: 0.9920, Val-Recall: 0.9936, Val-Accuracy: 0.9926\n"
     ]
    },
    {
     "name": "stderr",
     "output_type": "stream",
     "text": [
      "Training progress: 100%|██████████| 304/304 [01:30<00:00,  3.35batch/s]\n"
     ]
    },
    {
     "name": "stdout",
     "output_type": "stream",
     "text": [
      "Epoch 2/2, Train-Loss: 0.0298, Val-Loss: 0.0284, Val-F1: 0.9952, Val-Precision: 0.9984, Val-Recall: 0.9920, Val-Accuracy: 0.9951\n",
      "\n",
      "\u001b[92mRESULTS:\n",
      " F1-Score:0.9919484702093397, Precision:1.0, Recall:0.9840255591054313, Accuracy:0.9917898193760263, Loss:0.033358752727508545 \u001b[0m \n",
      "\n",
      "\n",
      "\u001b[91mRUN 32:\u001b[0m\n",
      " DoubleEntanglementVLCircuit \n",
      " lr: 0.001\n"
     ]
    },
    {
     "name": "stderr",
     "output_type": "stream",
     "text": [
      "Training progress: 100%|██████████| 304/304 [01:30<00:00,  3.35batch/s]\n"
     ]
    },
    {
     "name": "stdout",
     "output_type": "stream",
     "text": [
      "Epoch 1/2, Train-Loss: 0.5387, Val-Loss: 0.3286, Val-F1: 0.9857, Val-Precision: 0.9795, Val-Recall: 0.9920, Val-Accuracy: 0.9852\n"
     ]
    },
    {
     "name": "stderr",
     "output_type": "stream",
     "text": [
      "Training progress: 100%|██████████| 304/304 [01:30<00:00,  3.36batch/s]\n"
     ]
    },
    {
     "name": "stdout",
     "output_type": "stream",
     "text": [
      "Epoch 2/2, Train-Loss: 0.2188, Val-Loss: 0.1516, Val-F1: 0.9912, Val-Precision: 0.9920, Val-Recall: 0.9904, Val-Accuracy: 0.9910\n",
      "\n",
      "\u001b[92mRESULTS:\n",
      " F1-Score:0.9911646586345382, Precision:0.9967689822294022, Recall:0.9856230031948882, Accuracy:0.9909688013136289, Loss:0.1527286320924759 \u001b[0m \n",
      "\n",
      "\n",
      "\u001b[91mRUN 33:\u001b[0m\n",
      " Ranga2024Circuit \n",
      " lr: 0.01\n"
     ]
    },
    {
     "name": "stderr",
     "output_type": "stream",
     "text": [
      "Training progress: 100%|██████████| 304/304 [03:09<00:00,  1.60batch/s]\n"
     ]
    },
    {
     "name": "stdout",
     "output_type": "stream",
     "text": [
      "Epoch 1/2, Train-Loss: 0.1074, Val-Loss: 0.0273, Val-F1: 0.9944, Val-Precision: 0.9968, Val-Recall: 0.9920, Val-Accuracy: 0.9943\n"
     ]
    },
    {
     "name": "stderr",
     "output_type": "stream",
     "text": [
      "Training progress: 100%|██████████| 304/304 [03:09<00:00,  1.60batch/s]\n"
     ]
    },
    {
     "name": "stdout",
     "output_type": "stream",
     "text": [
      "Epoch 2/2, Train-Loss: 0.0267, Val-Loss: 0.0235, Val-F1: 0.9944, Val-Precision: 0.9952, Val-Recall: 0.9936, Val-Accuracy: 0.9943\n",
      "\n",
      "\u001b[92mRESULTS:\n",
      " F1-Score:0.9935794542536116, Precision:0.9983870967741936, Recall:0.9888178913738019, Accuracy:0.993431855500821, Loss:0.02261648327112198 \u001b[0m \n",
      "\n",
      "\n",
      "\u001b[91mRUN 34:\u001b[0m\n",
      " Ranga2024Circuit \n",
      " lr: 0.001\n"
     ]
    },
    {
     "name": "stderr",
     "output_type": "stream",
     "text": [
      "Training progress: 100%|██████████| 304/304 [03:09<00:00,  1.60batch/s]\n"
     ]
    },
    {
     "name": "stdout",
     "output_type": "stream",
     "text": [
      "Epoch 1/2, Train-Loss: 0.4000, Val-Loss: 0.2204, Val-F1: 0.9856, Val-Precision: 0.9856, Val-Recall: 0.9856, Val-Accuracy: 0.9852\n"
     ]
    },
    {
     "name": "stderr",
     "output_type": "stream",
     "text": [
      "Training progress: 100%|██████████| 304/304 [03:10<00:00,  1.59batch/s]\n"
     ]
    },
    {
     "name": "stdout",
     "output_type": "stream",
     "text": [
      "Epoch 2/2, Train-Loss: 0.1347, Val-Loss: 0.0844, Val-F1: 0.9944, Val-Precision: 0.9968, Val-Recall: 0.9920, Val-Accuracy: 0.9943\n",
      "\n",
      "\u001b[92mRESULTS:\n",
      " F1-Score:0.9911504424778761, Precision:0.9983792544570502, Recall:0.9840255591054313, Accuracy:0.9909688013136289, Loss:0.08591966331005096 \u001b[0m \n",
      "\n",
      "\n",
      "\u001b[91mRUN 35:\u001b[0m\n",
      " Senokosov2024Circuit \n",
      " lr: 0.01\n"
     ]
    },
    {
     "name": "stderr",
     "output_type": "stream",
     "text": [
      "Training progress: 100%|██████████| 304/304 [02:35<00:00,  1.96batch/s]\n"
     ]
    },
    {
     "name": "stdout",
     "output_type": "stream",
     "text": [
      "Epoch 1/2, Train-Loss: 0.1465, Val-Loss: 0.0328, Val-F1: 0.9912, Val-Precision: 0.9904, Val-Recall: 0.9920, Val-Accuracy: 0.9910\n"
     ]
    },
    {
     "name": "stderr",
     "output_type": "stream",
     "text": [
      "Training progress: 100%|██████████| 304/304 [02:35<00:00,  1.96batch/s]\n"
     ]
    },
    {
     "name": "stdout",
     "output_type": "stream",
     "text": [
      "Epoch 2/2, Train-Loss: 0.0236, Val-Loss: 0.0245, Val-F1: 0.9952, Val-Precision: 0.9984, Val-Recall: 0.9920, Val-Accuracy: 0.9951\n",
      "\n",
      "\u001b[92mRESULTS:\n",
      " F1-Score:0.9919484702093397, Precision:1.0, Recall:0.9840255591054313, Accuracy:0.9917898193760263, Loss:0.02931242808699608 \u001b[0m \n",
      "\n",
      "\n",
      "\u001b[91mRUN 36:\u001b[0m\n",
      " Senokosov2024Circuit \n",
      " lr: 0.001\n"
     ]
    },
    {
     "name": "stderr",
     "output_type": "stream",
     "text": [
      "Training progress: 100%|██████████| 304/304 [02:35<00:00,  1.95batch/s]\n"
     ]
    },
    {
     "name": "stdout",
     "output_type": "stream",
     "text": [
      "Epoch 1/2, Train-Loss: 0.5742, Val-Loss: 0.3767, Val-F1: 0.9772, Val-Precision: 0.9643, Val-Recall: 0.9904, Val-Accuracy: 0.9762\n"
     ]
    },
    {
     "name": "stderr",
     "output_type": "stream",
     "text": [
      "Training progress: 100%|██████████| 304/304 [02:35<00:00,  1.96batch/s]\n"
     ]
    },
    {
     "name": "stdout",
     "output_type": "stream",
     "text": [
      "Epoch 2/2, Train-Loss: 0.2394, Val-Loss: 0.1444, Val-F1: 0.9896, Val-Precision: 0.9920, Val-Recall: 0.9872, Val-Accuracy: 0.9893\n",
      "\n",
      "\u001b[92mRESULTS:\n",
      " F1-Score:0.9911646586345382, Precision:0.9967689822294022, Recall:0.9856230031948882, Accuracy:0.9909688013136289, Loss:0.14445145428180695 \u001b[0m \n",
      "\n",
      "\n",
      "\u001b[91mRUN 37:\u001b[0m\n",
      " Anusha2024Circuit \n",
      " lr: 0.01\n"
     ]
    },
    {
     "name": "stderr",
     "output_type": "stream",
     "text": [
      "Training progress: 100%|██████████| 304/304 [01:01<00:00,  4.94batch/s]\n"
     ]
    },
    {
     "name": "stdout",
     "output_type": "stream",
     "text": [
      "Epoch 1/2, Train-Loss: 0.1217, Val-Loss: 0.0431, Val-F1: 0.9952, Val-Precision: 0.9984, Val-Recall: 0.9920, Val-Accuracy: 0.9951\n"
     ]
    },
    {
     "name": "stderr",
     "output_type": "stream",
     "text": [
      "Training progress: 100%|██████████| 304/304 [01:01<00:00,  4.94batch/s]\n"
     ]
    },
    {
     "name": "stdout",
     "output_type": "stream",
     "text": [
      "Epoch 2/2, Train-Loss: 0.0354, Val-Loss: 0.0282, Val-F1: 0.9936, Val-Precision: 0.9952, Val-Recall: 0.9920, Val-Accuracy: 0.9934\n",
      "\n",
      "\u001b[92mRESULTS:\n",
      " F1-Score:0.9935794542536116, Precision:0.9983870967741936, Recall:0.9888178913738019, Accuracy:0.993431855500821, Loss:0.02935568057000637 \u001b[0m \n",
      "\n",
      "\n",
      "\u001b[91mRUN 38:\u001b[0m\n",
      " Anusha2024Circuit \n",
      " lr: 0.001\n"
     ]
    },
    {
     "name": "stderr",
     "output_type": "stream",
     "text": [
      "Training progress: 100%|██████████| 304/304 [01:01<00:00,  4.93batch/s]\n"
     ]
    },
    {
     "name": "stdout",
     "output_type": "stream",
     "text": [
      "Epoch 1/2, Train-Loss: 0.3876, Val-Loss: 0.2481, Val-F1: 0.9872, Val-Precision: 0.9872, Val-Recall: 0.9872, Val-Accuracy: 0.9869\n"
     ]
    },
    {
     "name": "stderr",
     "output_type": "stream",
     "text": [
      "Training progress: 100%|██████████| 304/304 [01:01<00:00,  4.93batch/s]\n"
     ]
    },
    {
     "name": "stdout",
     "output_type": "stream",
     "text": [
      "Epoch 2/2, Train-Loss: 0.1957, Val-Loss: 0.1570, Val-F1: 0.9952, Val-Precision: 0.9984, Val-Recall: 0.9920, Val-Accuracy: 0.9951\n",
      "\n",
      "\u001b[92mRESULTS:\n",
      " F1-Score:0.9927710843373494, Precision:0.9983844911147012, Recall:0.987220447284345, Accuracy:0.9926108374384236, Loss:0.15814171731472015 \u001b[0m \n",
      "\n",
      "\n",
      "\u001b[91mRUN 39:\u001b[0m\n",
      " DoubleEntanglementVLCircuit \n",
      " lr: 0.01\n"
     ]
    },
    {
     "name": "stderr",
     "output_type": "stream",
     "text": [
      "Training progress: 100%|██████████| 304/304 [01:30<00:00,  3.35batch/s]\n"
     ]
    },
    {
     "name": "stdout",
     "output_type": "stream",
     "text": [
      "Epoch 1/2, Train-Loss: 0.1314, Val-Loss: 0.0382, Val-F1: 0.9936, Val-Precision: 0.9952, Val-Recall: 0.9920, Val-Accuracy: 0.9934\n"
     ]
    },
    {
     "name": "stderr",
     "output_type": "stream",
     "text": [
      "Training progress: 100%|██████████| 304/304 [01:30<00:00,  3.36batch/s]\n"
     ]
    },
    {
     "name": "stdout",
     "output_type": "stream",
     "text": [
      "Epoch 2/2, Train-Loss: 0.0287, Val-Loss: 0.0242, Val-F1: 0.9952, Val-Precision: 0.9984, Val-Recall: 0.9920, Val-Accuracy: 0.9951\n",
      "\n",
      "\u001b[92mRESULTS:\n",
      " F1-Score:0.9927594529364441, Precision:1.0, Recall:0.9856230031948882, Accuracy:0.9926108374384236, Loss:0.026900434866547585 \u001b[0m \n",
      "\n",
      "\n",
      "\u001b[91mRUN 40:\u001b[0m\n",
      " DoubleEntanglementVLCircuit \n",
      " lr: 0.001\n"
     ]
    },
    {
     "name": "stderr",
     "output_type": "stream",
     "text": [
      "Training progress: 100%|██████████| 304/304 [01:30<00:00,  3.35batch/s]\n"
     ]
    },
    {
     "name": "stdout",
     "output_type": "stream",
     "text": [
      "Epoch 1/2, Train-Loss: 0.4683, Val-Loss: 0.2785, Val-F1: 0.9904, Val-Precision: 0.9920, Val-Recall: 0.9888, Val-Accuracy: 0.9902\n"
     ]
    },
    {
     "name": "stderr",
     "output_type": "stream",
     "text": [
      "Training progress: 100%|██████████| 304/304 [01:32<00:00,  3.29batch/s]\n"
     ]
    },
    {
     "name": "stdout",
     "output_type": "stream",
     "text": [
      "Epoch 2/2, Train-Loss: 0.2080, Val-Loss: 0.1609, Val-F1: 0.9928, Val-Precision: 0.9968, Val-Recall: 0.9888, Val-Accuracy: 0.9926\n",
      "\n",
      "\u001b[92mRESULTS:\n",
      " F1-Score:0.9927710843373494, Precision:0.9983844911147012, Recall:0.987220447284345, Accuracy:0.9926108374384236, Loss:0.16078537702560425 \u001b[0m \n",
      "\n",
      "\n",
      "\u001b[91mRUN 41:\u001b[0m\n",
      " Ranga2024Circuit \n",
      " lr: 0.01\n"
     ]
    },
    {
     "name": "stderr",
     "output_type": "stream",
     "text": [
      "Training progress: 100%|██████████| 304/304 [03:10<00:00,  1.59batch/s]\n"
     ]
    },
    {
     "name": "stdout",
     "output_type": "stream",
     "text": [
      "Epoch 1/2, Train-Loss: 0.0984, Val-Loss: 0.0294, Val-F1: 0.9936, Val-Precision: 0.9921, Val-Recall: 0.9952, Val-Accuracy: 0.9934\n"
     ]
    },
    {
     "name": "stderr",
     "output_type": "stream",
     "text": [
      "Training progress: 100%|██████████| 304/304 [03:09<00:00,  1.61batch/s]\n"
     ]
    },
    {
     "name": "stdout",
     "output_type": "stream",
     "text": [
      "Epoch 2/2, Train-Loss: 0.0284, Val-Loss: 0.0396, Val-F1: 0.9881, Val-Precision: 0.9811, Val-Recall: 0.9952, Val-Accuracy: 0.9877\n",
      "\n",
      "\u001b[92mRESULTS:\n",
      " F1-Score:0.9888535031847133, Precision:0.9857142857142858, Recall:0.9920127795527156, Accuracy:0.9885057471264368, Loss:0.03381159156560898 \u001b[0m \n",
      "\n",
      "\n",
      "\u001b[91mRUN 42:\u001b[0m\n",
      " Ranga2024Circuit \n",
      " lr: 0.001\n"
     ]
    },
    {
     "name": "stderr",
     "output_type": "stream",
     "text": [
      "Training progress: 100%|██████████| 304/304 [03:09<00:00,  1.61batch/s]\n"
     ]
    },
    {
     "name": "stdout",
     "output_type": "stream",
     "text": [
      "Epoch 1/2, Train-Loss: 0.3425, Val-Loss: 0.1875, Val-F1: 0.9904, Val-Precision: 0.9920, Val-Recall: 0.9888, Val-Accuracy: 0.9902\n"
     ]
    },
    {
     "name": "stderr",
     "output_type": "stream",
     "text": [
      "Training progress: 100%|██████████| 304/304 [03:09<00:00,  1.60batch/s]\n"
     ]
    },
    {
     "name": "stdout",
     "output_type": "stream",
     "text": [
      "Epoch 2/2, Train-Loss: 0.1455, Val-Loss: 0.1145, Val-F1: 0.9920, Val-Precision: 0.9952, Val-Recall: 0.9888, Val-Accuracy: 0.9918\n",
      "\n",
      "\u001b[92mRESULTS:\n",
      " F1-Score:0.9903536977491961, Precision:0.9967637540453075, Recall:0.9840255591054313, Accuracy:0.9901477832512315, Loss:0.11540983617305756 \u001b[0m \n",
      "\n",
      "\n",
      "\u001b[91mRUN 43:\u001b[0m\n",
      " Senokosov2024Circuit \n",
      " lr: 0.01\n"
     ]
    },
    {
     "name": "stderr",
     "output_type": "stream",
     "text": [
      "Training progress: 100%|██████████| 304/304 [02:35<00:00,  1.96batch/s]\n"
     ]
    },
    {
     "name": "stdout",
     "output_type": "stream",
     "text": [
      "Epoch 1/2, Train-Loss: 0.1511, Val-Loss: 0.0297, Val-F1: 0.9936, Val-Precision: 0.9952, Val-Recall: 0.9920, Val-Accuracy: 0.9934\n"
     ]
    },
    {
     "name": "stderr",
     "output_type": "stream",
     "text": [
      "Training progress: 100%|██████████| 304/304 [02:35<00:00,  1.96batch/s]\n"
     ]
    },
    {
     "name": "stdout",
     "output_type": "stream",
     "text": [
      "Epoch 2/2, Train-Loss: 0.0257, Val-Loss: 0.0223, Val-F1: 0.9928, Val-Precision: 0.9936, Val-Recall: 0.9920, Val-Accuracy: 0.9926\n",
      "\n",
      "\u001b[92mRESULTS:\n",
      " F1-Score:0.9935794542536116, Precision:0.9983870967741936, Recall:0.9888178913738019, Accuracy:0.993431855500821, Loss:0.022021308541297913 \u001b[0m \n",
      "\n",
      "\n",
      "\u001b[91mRUN 44:\u001b[0m\n",
      " Senokosov2024Circuit \n",
      " lr: 0.001\n"
     ]
    },
    {
     "name": "stderr",
     "output_type": "stream",
     "text": [
      "Training progress: 100%|██████████| 304/304 [02:35<00:00,  1.95batch/s]\n"
     ]
    },
    {
     "name": "stdout",
     "output_type": "stream",
     "text": [
      "Epoch 1/2, Train-Loss: 0.5723, Val-Loss: 0.3308, Val-F1: 0.9764, Val-Precision: 0.9983, Val-Recall: 0.9553, Val-Accuracy: 0.9762\n"
     ]
    },
    {
     "name": "stderr",
     "output_type": "stream",
     "text": [
      "Training progress: 100%|██████████| 304/304 [02:34<00:00,  1.96batch/s]\n"
     ]
    },
    {
     "name": "stdout",
     "output_type": "stream",
     "text": [
      "Epoch 2/2, Train-Loss: 0.1908, Val-Loss: 0.1182, Val-F1: 0.9895, Val-Precision: 0.9984, Val-Recall: 0.9809, Val-Accuracy: 0.9893\n",
      "\n",
      "\u001b[92mRESULTS:\n",
      " F1-Score:0.9870759289176091, Precision:0.9983660130718954, Recall:0.9760383386581469, Accuracy:0.986863711001642, Loss:0.11851365864276886 \u001b[0m \n",
      "\n",
      "\n",
      "\u001b[91mRUN 45:\u001b[0m\n",
      " Anusha2024Circuit \n",
      " lr: 0.01\n"
     ]
    },
    {
     "name": "stderr",
     "output_type": "stream",
     "text": [
      "Training progress: 100%|██████████| 304/304 [01:01<00:00,  4.94batch/s]\n"
     ]
    },
    {
     "name": "stdout",
     "output_type": "stream",
     "text": [
      "Epoch 1/2, Train-Loss: 0.1087, Val-Loss: 0.0359, Val-F1: 0.9944, Val-Precision: 0.9968, Val-Recall: 0.9920, Val-Accuracy: 0.9943\n"
     ]
    },
    {
     "name": "stderr",
     "output_type": "stream",
     "text": [
      "Training progress: 100%|██████████| 304/304 [01:01<00:00,  4.94batch/s]\n"
     ]
    },
    {
     "name": "stdout",
     "output_type": "stream",
     "text": [
      "Epoch 2/2, Train-Loss: 0.0311, Val-Loss: 0.0296, Val-F1: 0.9920, Val-Precision: 0.9920, Val-Recall: 0.9920, Val-Accuracy: 0.9918\n",
      "\n",
      "\u001b[92mRESULTS:\n",
      " F1-Score:0.9935794542536116, Precision:0.9983870967741936, Recall:0.9888178913738019, Accuracy:0.993431855500821, Loss:0.026830729097127914 \u001b[0m \n",
      "\n",
      "\n",
      "\u001b[91mRUN 46:\u001b[0m\n",
      " Anusha2024Circuit \n",
      " lr: 0.001\n"
     ]
    },
    {
     "name": "stderr",
     "output_type": "stream",
     "text": [
      "Training progress: 100%|██████████| 304/304 [01:01<00:00,  4.94batch/s]\n"
     ]
    },
    {
     "name": "stdout",
     "output_type": "stream",
     "text": [
      "Epoch 1/2, Train-Loss: 0.3586, Val-Loss: 0.1878, Val-F1: 0.9904, Val-Precision: 0.9920, Val-Recall: 0.9888, Val-Accuracy: 0.9902\n"
     ]
    },
    {
     "name": "stderr",
     "output_type": "stream",
     "text": [
      "Training progress: 100%|██████████| 304/304 [01:01<00:00,  4.93batch/s]\n"
     ]
    },
    {
     "name": "stdout",
     "output_type": "stream",
     "text": [
      "Epoch 2/2, Train-Loss: 0.1454, Val-Loss: 0.1164, Val-F1: 0.9920, Val-Precision: 0.9952, Val-Recall: 0.9888, Val-Accuracy: 0.9918\n",
      "\n",
      "\u001b[92mRESULTS:\n",
      " F1-Score:0.9911504424778761, Precision:0.9983792544570502, Recall:0.9840255591054313, Accuracy:0.9909688013136289, Loss:0.11895020306110382 \u001b[0m \n",
      "\n",
      "\n",
      "\u001b[91mRUN 47:\u001b[0m\n",
      " DoubleEntanglementVLCircuit \n",
      " lr: 0.01\n"
     ]
    },
    {
     "name": "stderr",
     "output_type": "stream",
     "text": [
      "Training progress: 100%|██████████| 304/304 [01:30<00:00,  3.36batch/s]\n"
     ]
    },
    {
     "name": "stdout",
     "output_type": "stream",
     "text": [
      "Epoch 1/2, Train-Loss: 0.1624, Val-Loss: 0.0341, Val-F1: 0.9936, Val-Precision: 0.9952, Val-Recall: 0.9920, Val-Accuracy: 0.9934\n"
     ]
    },
    {
     "name": "stderr",
     "output_type": "stream",
     "text": [
      "Training progress: 100%|██████████| 304/304 [01:30<00:00,  3.37batch/s]\n"
     ]
    },
    {
     "name": "stdout",
     "output_type": "stream",
     "text": [
      "Epoch 2/2, Train-Loss: 0.0286, Val-Loss: 0.0241, Val-F1: 0.9944, Val-Precision: 0.9952, Val-Recall: 0.9936, Val-Accuracy: 0.9943\n",
      "\n",
      "\u001b[92mRESULTS:\n",
      " F1-Score:0.9935794542536116, Precision:0.9983870967741936, Recall:0.9888178913738019, Accuracy:0.993431855500821, Loss:0.023217516019940376 \u001b[0m \n",
      "\n",
      "\n",
      "\u001b[91mRUN 48:\u001b[0m\n",
      " DoubleEntanglementVLCircuit \n",
      " lr: 0.001\n"
     ]
    },
    {
     "name": "stderr",
     "output_type": "stream",
     "text": [
      "Training progress: 100%|██████████| 304/304 [01:31<00:00,  3.34batch/s]\n"
     ]
    },
    {
     "name": "stdout",
     "output_type": "stream",
     "text": [
      "Epoch 1/2, Train-Loss: 0.5668, Val-Loss: 0.3372, Val-F1: 0.9818, Val-Precision: 0.9763, Val-Recall: 0.9872, Val-Accuracy: 0.9811\n"
     ]
    },
    {
     "name": "stderr",
     "output_type": "stream",
     "text": [
      "Training progress: 100%|██████████| 304/304 [01:31<00:00,  3.34batch/s]\n"
     ]
    },
    {
     "name": "stdout",
     "output_type": "stream",
     "text": [
      "Epoch 2/2, Train-Loss: 0.2283, Val-Loss: 0.1572, Val-F1: 0.9912, Val-Precision: 0.9952, Val-Recall: 0.9872, Val-Accuracy: 0.9910\n",
      "\n",
      "\u001b[92mRESULTS:\n",
      " F1-Score:0.9919484702093397, Precision:1.0, Recall:0.9840255591054313, Accuracy:0.9917898193760263, Loss:0.15654389560222626 \u001b[0m \n",
      "\n",
      "\n",
      "\u001b[91mRUN 49:\u001b[0m\n",
      " Ranga2024Circuit \n",
      " lr: 0.01\n"
     ]
    },
    {
     "name": "stderr",
     "output_type": "stream",
     "text": [
      "Training progress: 100%|██████████| 304/304 [03:11<00:00,  1.59batch/s]\n"
     ]
    },
    {
     "name": "stdout",
     "output_type": "stream",
     "text": [
      "Epoch 1/2, Train-Loss: 0.1440, Val-Loss: 0.0346, Val-F1: 0.9928, Val-Precision: 0.9936, Val-Recall: 0.9920, Val-Accuracy: 0.9926\n"
     ]
    },
    {
     "name": "stderr",
     "output_type": "stream",
     "text": [
      "Training progress: 100%|██████████| 304/304 [03:11<00:00,  1.59batch/s]\n"
     ]
    },
    {
     "name": "stdout",
     "output_type": "stream",
     "text": [
      "Epoch 2/2, Train-Loss: 0.0285, Val-Loss: 0.0232, Val-F1: 0.9936, Val-Precision: 0.9936, Val-Recall: 0.9936, Val-Accuracy: 0.9934\n",
      "\n",
      "\u001b[92mRESULTS:\n",
      " F1-Score:0.9943955164131305, Precision:0.9967897271268058, Recall:0.9920127795527156, Accuracy:0.9942528735632183, Loss:0.02191617339849472 \u001b[0m \n",
      "\n",
      "\n",
      "\u001b[91mRUN 50:\u001b[0m\n",
      " Ranga2024Circuit \n",
      " lr: 0.001\n"
     ]
    },
    {
     "name": "stderr",
     "output_type": "stream",
     "text": [
      "Training progress: 100%|██████████| 304/304 [03:11<00:00,  1.59batch/s]\n"
     ]
    },
    {
     "name": "stdout",
     "output_type": "stream",
     "text": [
      "Epoch 1/2, Train-Loss: 0.5194, Val-Loss: 0.3484, Val-F1: 0.9912, Val-Precision: 0.9936, Val-Recall: 0.9888, Val-Accuracy: 0.9910\n"
     ]
    },
    {
     "name": "stderr",
     "output_type": "stream",
     "text": [
      "Training progress: 100%|██████████| 304/304 [03:11<00:00,  1.59batch/s]\n"
     ]
    },
    {
     "name": "stdout",
     "output_type": "stream",
     "text": [
      "Epoch 2/2, Train-Loss: 0.2402, Val-Loss: 0.1663, Val-F1: 0.9944, Val-Precision: 0.9968, Val-Recall: 0.9920, Val-Accuracy: 0.9943\n",
      "\n",
      "\u001b[92mRESULTS:\n",
      " F1-Score:0.9919614147909968, Precision:0.9983818770226537, Recall:0.9856230031948882, Accuracy:0.9917898193760263, Loss:0.16704942286014557 \u001b[0m \n",
      "\n",
      "\n",
      "\u001b[91mRUN 51:\u001b[0m\n",
      " Senokosov2024Circuit \n",
      " lr: 0.01\n"
     ]
    },
    {
     "name": "stderr",
     "output_type": "stream",
     "text": [
      "Training progress: 100%|██████████| 304/304 [02:37<00:00,  1.94batch/s]\n"
     ]
    },
    {
     "name": "stdout",
     "output_type": "stream",
     "text": [
      "Epoch 1/2, Train-Loss: 0.1704, Val-Loss: 0.0297, Val-F1: 0.9952, Val-Precision: 0.9984, Val-Recall: 0.9920, Val-Accuracy: 0.9951\n"
     ]
    },
    {
     "name": "stderr",
     "output_type": "stream",
     "text": [
      "Training progress: 100%|██████████| 304/304 [02:36<00:00,  1.94batch/s]\n"
     ]
    },
    {
     "name": "stdout",
     "output_type": "stream",
     "text": [
      "Epoch 2/2, Train-Loss: 0.0238, Val-Loss: 0.0227, Val-F1: 0.9952, Val-Precision: 0.9984, Val-Recall: 0.9920, Val-Accuracy: 0.9951\n",
      "\n",
      "\u001b[92mRESULTS:\n",
      " F1-Score:0.9919614147909968, Precision:0.9983818770226537, Recall:0.9856230031948882, Accuracy:0.9917898193760263, Loss:0.02578497864305973 \u001b[0m \n",
      "\n",
      "\n",
      "\u001b[91mRUN 52:\u001b[0m\n",
      " Senokosov2024Circuit \n",
      " lr: 0.001\n"
     ]
    },
    {
     "name": "stderr",
     "output_type": "stream",
     "text": [
      "Training progress: 100%|██████████| 304/304 [02:36<00:00,  1.94batch/s]\n"
     ]
    },
    {
     "name": "stdout",
     "output_type": "stream",
     "text": [
      "Epoch 1/2, Train-Loss: 0.6242, Val-Loss: 0.4532, Val-F1: 0.9849, Val-Precision: 0.9825, Val-Recall: 0.9872, Val-Accuracy: 0.9844\n"
     ]
    },
    {
     "name": "stderr",
     "output_type": "stream",
     "text": [
      "Training progress: 100%|██████████| 304/304 [02:36<00:00,  1.95batch/s]\n"
     ]
    },
    {
     "name": "stdout",
     "output_type": "stream",
     "text": [
      "Epoch 2/2, Train-Loss: 0.3213, Val-Loss: 0.2188, Val-F1: 0.9912, Val-Precision: 0.9920, Val-Recall: 0.9904, Val-Accuracy: 0.9910\n",
      "\n",
      "\u001b[92mRESULTS:\n",
      " F1-Score:0.9895749799518845, Precision:0.9935587761674718, Recall:0.9856230031948882, Accuracy:0.9893267651888341, Loss:0.22035834193229675 \u001b[0m \n",
      "\n",
      "\n",
      "\u001b[91mRUN 53:\u001b[0m\n",
      " Anusha2024Circuit \n",
      " lr: 0.01\n"
     ]
    },
    {
     "name": "stderr",
     "output_type": "stream",
     "text": [
      "Training progress: 100%|██████████| 304/304 [01:01<00:00,  4.92batch/s]\n"
     ]
    },
    {
     "name": "stdout",
     "output_type": "stream",
     "text": [
      "Epoch 1/2, Train-Loss: 0.1304, Val-Loss: 0.0376, Val-F1: 0.9952, Val-Precision: 0.9984, Val-Recall: 0.9920, Val-Accuracy: 0.9951\n"
     ]
    },
    {
     "name": "stderr",
     "output_type": "stream",
     "text": [
      "Training progress: 100%|██████████| 304/304 [01:02<00:00,  4.84batch/s]\n"
     ]
    },
    {
     "name": "stdout",
     "output_type": "stream",
     "text": [
      "Epoch 2/2, Train-Loss: 0.0319, Val-Loss: 0.0254, Val-F1: 0.9944, Val-Precision: 0.9968, Val-Recall: 0.9920, Val-Accuracy: 0.9943\n",
      "\n",
      "\u001b[92mRESULTS:\n",
      " F1-Score:0.9927710843373494, Precision:0.9983844911147012, Recall:0.987220447284345, Accuracy:0.9926108374384236, Loss:0.027042236179113388 \u001b[0m \n",
      "\n",
      "\n",
      "\u001b[91mRUN 54:\u001b[0m\n",
      " Anusha2024Circuit \n",
      " lr: 0.001\n"
     ]
    },
    {
     "name": "stderr",
     "output_type": "stream",
     "text": [
      "Training progress: 100%|██████████| 304/304 [01:02<00:00,  4.86batch/s]\n"
     ]
    },
    {
     "name": "stdout",
     "output_type": "stream",
     "text": [
      "Epoch 1/2, Train-Loss: 0.4598, Val-Loss: 0.3076, Val-F1: 0.9742, Val-Precision: 0.9555, Val-Recall: 0.9936, Val-Accuracy: 0.9729\n"
     ]
    },
    {
     "name": "stderr",
     "output_type": "stream",
     "text": [
      "Training progress: 100%|██████████| 304/304 [01:02<00:00,  4.90batch/s]\n"
     ]
    },
    {
     "name": "stdout",
     "output_type": "stream",
     "text": [
      "Epoch 2/2, Train-Loss: 0.2345, Val-Loss: 0.1810, Val-F1: 0.9912, Val-Precision: 0.9889, Val-Recall: 0.9936, Val-Accuracy: 0.9910\n",
      "\n",
      "\u001b[92mRESULTS:\n",
      " F1-Score:0.9911646586345382, Precision:0.9967689822294022, Recall:0.9856230031948882, Accuracy:0.9909688013136289, Loss:0.18201559782028198 \u001b[0m \n",
      "\n",
      "\n",
      "\u001b[91mRUN 55:\u001b[0m\n",
      " DoubleEntanglementVLCircuit \n",
      " lr: 0.01\n"
     ]
    },
    {
     "name": "stderr",
     "output_type": "stream",
     "text": [
      "Training progress: 100%|██████████| 304/304 [01:30<00:00,  3.35batch/s]\n"
     ]
    },
    {
     "name": "stdout",
     "output_type": "stream",
     "text": [
      "Epoch 1/2, Train-Loss: 0.1487, Val-Loss: 0.0385, Val-F1: 0.9952, Val-Precision: 0.9984, Val-Recall: 0.9920, Val-Accuracy: 0.9951\n"
     ]
    },
    {
     "name": "stderr",
     "output_type": "stream",
     "text": [
      "Training progress: 100%|██████████| 304/304 [01:30<00:00,  3.35batch/s]\n"
     ]
    },
    {
     "name": "stdout",
     "output_type": "stream",
     "text": [
      "Epoch 2/2, Train-Loss: 0.0293, Val-Loss: 0.0272, Val-F1: 0.9952, Val-Precision: 0.9984, Val-Recall: 0.9920, Val-Accuracy: 0.9951\n",
      "\n",
      "\u001b[92mRESULTS:\n",
      " F1-Score:0.9935794542536116, Precision:0.9983870967741936, Recall:0.9888178913738019, Accuracy:0.993431855500821, Loss:0.02763483114540577 \u001b[0m \n",
      "\n",
      "\n",
      "\u001b[91mRUN 56:\u001b[0m\n",
      " DoubleEntanglementVLCircuit \n",
      " lr: 0.001\n"
     ]
    },
    {
     "name": "stderr",
     "output_type": "stream",
     "text": [
      "Training progress: 100%|██████████| 304/304 [01:30<00:00,  3.36batch/s]\n"
     ]
    },
    {
     "name": "stdout",
     "output_type": "stream",
     "text": [
      "Epoch 1/2, Train-Loss: 0.5777, Val-Loss: 0.3929, Val-F1: 0.9871, Val-Precision: 0.9984, Val-Recall: 0.9761, Val-Accuracy: 0.9869\n"
     ]
    },
    {
     "name": "stderr",
     "output_type": "stream",
     "text": [
      "Training progress: 100%|██████████| 304/304 [01:30<00:00,  3.35batch/s]\n"
     ]
    },
    {
     "name": "stdout",
     "output_type": "stream",
     "text": [
      "Epoch 2/2, Train-Loss: 0.2537, Val-Loss: 0.1655, Val-F1: 0.9944, Val-Precision: 0.9968, Val-Recall: 0.9920, Val-Accuracy: 0.9943\n",
      "\n",
      "\u001b[92mRESULTS:\n",
      " F1-Score:0.9911504424778761, Precision:0.9983792544570502, Recall:0.9840255591054313, Accuracy:0.9909688013136289, Loss:0.1661904901266098 \u001b[0m \n",
      "\n",
      "\n",
      "\u001b[91mRUN 57:\u001b[0m\n",
      " Ranga2024Circuit \n",
      " lr: 0.01\n"
     ]
    },
    {
     "name": "stderr",
     "output_type": "stream",
     "text": [
      "Training progress: 100%|██████████| 304/304 [03:10<00:00,  1.60batch/s]\n"
     ]
    },
    {
     "name": "stdout",
     "output_type": "stream",
     "text": [
      "Epoch 1/2, Train-Loss: 0.1015, Val-Loss: 0.0279, Val-F1: 0.9936, Val-Precision: 0.9936, Val-Recall: 0.9936, Val-Accuracy: 0.9934\n"
     ]
    },
    {
     "name": "stderr",
     "output_type": "stream",
     "text": [
      "Training progress: 100%|██████████| 304/304 [03:10<00:00,  1.60batch/s]\n"
     ]
    },
    {
     "name": "stdout",
     "output_type": "stream",
     "text": [
      "Epoch 2/2, Train-Loss: 0.0240, Val-Loss: 0.0188, Val-F1: 0.9960, Val-Precision: 0.9984, Val-Recall: 0.9936, Val-Accuracy: 0.9959\n",
      "\n",
      "\u001b[92mRESULTS:\n",
      " F1-Score:0.9919614147909968, Precision:0.9983818770226537, Recall:0.9856230031948882, Accuracy:0.9917898193760263, Loss:0.020958807319402695 \u001b[0m \n",
      "\n",
      "\n",
      "\u001b[91mRUN 58:\u001b[0m\n",
      " Ranga2024Circuit \n",
      " lr: 0.001\n"
     ]
    },
    {
     "name": "stderr",
     "output_type": "stream",
     "text": [
      "Training progress: 100%|██████████| 304/304 [03:10<00:00,  1.60batch/s]\n"
     ]
    },
    {
     "name": "stdout",
     "output_type": "stream",
     "text": [
      "Epoch 1/2, Train-Loss: 0.4289, Val-Loss: 0.1893, Val-F1: 0.9880, Val-Precision: 0.9904, Val-Recall: 0.9856, Val-Accuracy: 0.9877\n"
     ]
    },
    {
     "name": "stderr",
     "output_type": "stream",
     "text": [
      "Training progress: 100%|██████████| 304/304 [03:10<00:00,  1.60batch/s]\n"
     ]
    },
    {
     "name": "stdout",
     "output_type": "stream",
     "text": [
      "Epoch 2/2, Train-Loss: 0.1239, Val-Loss: 0.0859, Val-F1: 0.9928, Val-Precision: 0.9952, Val-Recall: 0.9904, Val-Accuracy: 0.9926\n",
      "\n",
      "\u001b[92mRESULTS:\n",
      " F1-Score:0.9903536977491961, Precision:0.9967637540453075, Recall:0.9840255591054313, Accuracy:0.9901477832512315, Loss:0.08749526739120483 \u001b[0m \n",
      "\n",
      "\n",
      "\u001b[91mRUN 59:\u001b[0m\n",
      " Senokosov2024Circuit \n",
      " lr: 0.01\n"
     ]
    },
    {
     "name": "stderr",
     "output_type": "stream",
     "text": [
      "Training progress: 100%|██████████| 304/304 [02:36<00:00,  1.95batch/s]\n"
     ]
    },
    {
     "name": "stdout",
     "output_type": "stream",
     "text": [
      "Epoch 1/2, Train-Loss: 0.1558, Val-Loss: 0.0358, Val-F1: 0.9936, Val-Precision: 0.9952, Val-Recall: 0.9920, Val-Accuracy: 0.9934\n"
     ]
    },
    {
     "name": "stderr",
     "output_type": "stream",
     "text": [
      "Training progress: 100%|██████████| 304/304 [02:36<00:00,  1.95batch/s]\n"
     ]
    },
    {
     "name": "stdout",
     "output_type": "stream",
     "text": [
      "Epoch 2/2, Train-Loss: 0.0297, Val-Loss: 0.0241, Val-F1: 0.9944, Val-Precision: 0.9968, Val-Recall: 0.9920, Val-Accuracy: 0.9943\n",
      "\n",
      "\u001b[92mRESULTS:\n",
      " F1-Score:0.9919614147909968, Precision:0.9983818770226537, Recall:0.9856230031948882, Accuracy:0.9917898193760263, Loss:0.026566732674837112 \u001b[0m \n",
      "\n",
      "\n",
      "\u001b[91mRUN 60:\u001b[0m\n",
      " Senokosov2024Circuit \n",
      " lr: 0.001\n"
     ]
    },
    {
     "name": "stderr",
     "output_type": "stream",
     "text": [
      "Training progress: 100%|██████████| 304/304 [02:36<00:00,  1.94batch/s]\n"
     ]
    },
    {
     "name": "stdout",
     "output_type": "stream",
     "text": [
      "Epoch 1/2, Train-Loss: 0.5583, Val-Loss: 0.3608, Val-F1: 0.9871, Val-Precision: 0.9967, Val-Recall: 0.9777, Val-Accuracy: 0.9869\n"
     ]
    },
    {
     "name": "stderr",
     "output_type": "stream",
     "text": [
      "Training progress: 100%|██████████| 304/304 [02:37<00:00,  1.93batch/s]\n"
     ]
    },
    {
     "name": "stdout",
     "output_type": "stream",
     "text": [
      "Epoch 2/2, Train-Loss: 0.2391, Val-Loss: 0.1624, Val-F1: 0.9912, Val-Precision: 0.9968, Val-Recall: 0.9856, Val-Accuracy: 0.9910\n",
      "\n",
      "\u001b[92mRESULTS:\n",
      " F1-Score:0.9911361804995971, Precision:1.0, Recall:0.9824281150159745, Accuracy:0.9909688013136289, Loss:0.16239862143993378 \u001b[0m \n",
      "\n",
      "\n",
      "\u001b[91mRUN 61:\u001b[0m\n",
      " Anusha2024Circuit \n",
      " lr: 0.01\n"
     ]
    },
    {
     "name": "stderr",
     "output_type": "stream",
     "text": [
      "Training progress: 100%|██████████| 304/304 [01:02<00:00,  4.89batch/s]\n"
     ]
    },
    {
     "name": "stdout",
     "output_type": "stream",
     "text": [
      "Epoch 1/2, Train-Loss: 0.1548, Val-Loss: 0.0486, Val-F1: 0.9936, Val-Precision: 0.9952, Val-Recall: 0.9920, Val-Accuracy: 0.9934\n"
     ]
    },
    {
     "name": "stderr",
     "output_type": "stream",
     "text": [
      "Training progress: 100%|██████████| 304/304 [01:01<00:00,  4.91batch/s]\n"
     ]
    },
    {
     "name": "stdout",
     "output_type": "stream",
     "text": [
      "Epoch 2/2, Train-Loss: 0.0396, Val-Loss: 0.0309, Val-F1: 0.9952, Val-Precision: 0.9984, Val-Recall: 0.9920, Val-Accuracy: 0.9951\n",
      "\n",
      "\u001b[92mRESULTS:\n",
      " F1-Score:0.9911504424778761, Precision:0.9983792544570502, Recall:0.9840255591054313, Accuracy:0.9909688013136289, Loss:0.03449879586696625 \u001b[0m \n",
      "\n",
      "\n",
      "\u001b[91mRUN 62:\u001b[0m\n",
      " Anusha2024Circuit \n",
      " lr: 0.001\n"
     ]
    },
    {
     "name": "stderr",
     "output_type": "stream",
     "text": [
      "Training progress: 100%|██████████| 304/304 [01:02<00:00,  4.88batch/s]\n"
     ]
    },
    {
     "name": "stdout",
     "output_type": "stream",
     "text": [
      "Epoch 1/2, Train-Loss: 0.4832, Val-Loss: 0.3071, Val-F1: 0.9848, Val-Precision: 0.9887, Val-Recall: 0.9809, Val-Accuracy: 0.9844\n"
     ]
    },
    {
     "name": "stderr",
     "output_type": "stream",
     "text": [
      "Training progress: 100%|██████████| 304/304 [01:02<00:00,  4.89batch/s]\n"
     ]
    },
    {
     "name": "stdout",
     "output_type": "stream",
     "text": [
      "Epoch 2/2, Train-Loss: 0.2441, Val-Loss: 0.1960, Val-F1: 0.9936, Val-Precision: 0.9952, Val-Recall: 0.9920, Val-Accuracy: 0.9934\n",
      "\n",
      "\u001b[92mRESULTS:\n",
      " F1-Score:0.9919871794871795, Precision:0.9951768488745981, Recall:0.9888178913738019, Accuracy:0.9917898193760263, Loss:0.19867655634880066 \u001b[0m \n",
      "\n",
      "\n",
      "\u001b[91mRUN 63:\u001b[0m\n",
      " DoubleEntanglementVLCircuit \n",
      " lr: 0.01\n"
     ]
    },
    {
     "name": "stderr",
     "output_type": "stream",
     "text": [
      "Training progress: 100%|██████████| 304/304 [01:30<00:00,  3.34batch/s]\n"
     ]
    },
    {
     "name": "stdout",
     "output_type": "stream",
     "text": [
      "Epoch 1/2, Train-Loss: 0.1783, Val-Loss: 0.0392, Val-F1: 0.9936, Val-Precision: 0.9952, Val-Recall: 0.9920, Val-Accuracy: 0.9934\n"
     ]
    },
    {
     "name": "stderr",
     "output_type": "stream",
     "text": [
      "Training progress: 100%|██████████| 304/304 [01:30<00:00,  3.34batch/s]\n"
     ]
    },
    {
     "name": "stdout",
     "output_type": "stream",
     "text": [
      "Epoch 2/2, Train-Loss: 0.0306, Val-Loss: 0.0276, Val-F1: 0.9952, Val-Precision: 0.9984, Val-Recall: 0.9920, Val-Accuracy: 0.9951\n",
      "\n",
      "\u001b[92mRESULTS:\n",
      " F1-Score:0.9919614147909968, Precision:0.9983818770226537, Recall:0.9856230031948882, Accuracy:0.9917898193760263, Loss:0.028478724882006645 \u001b[0m \n",
      "\n",
      "\n",
      "\u001b[91mRUN 64:\u001b[0m\n",
      " DoubleEntanglementVLCircuit \n",
      " lr: 0.001\n"
     ]
    },
    {
     "name": "stderr",
     "output_type": "stream",
     "text": [
      "Training progress: 100%|██████████| 304/304 [01:31<00:00,  3.34batch/s]\n"
     ]
    },
    {
     "name": "stdout",
     "output_type": "stream",
     "text": [
      "Epoch 1/2, Train-Loss: 0.5757, Val-Loss: 0.4113, Val-F1: 0.9864, Val-Precision: 0.9904, Val-Recall: 0.9825, Val-Accuracy: 0.9861\n"
     ]
    },
    {
     "name": "stderr",
     "output_type": "stream",
     "text": [
      "Training progress: 100%|██████████| 304/304 [01:30<00:00,  3.34batch/s]\n"
     ]
    },
    {
     "name": "stdout",
     "output_type": "stream",
     "text": [
      "Epoch 2/2, Train-Loss: 0.3076, Val-Loss: 0.2360, Val-F1: 0.9920, Val-Precision: 0.9952, Val-Recall: 0.9888, Val-Accuracy: 0.9918\n",
      "\n",
      "\u001b[92mRESULTS:\n",
      " F1-Score:0.9919484702093397, Precision:1.0, Recall:0.9840255591054313, Accuracy:0.9917898193760263, Loss:0.23629575967788696 \u001b[0m \n",
      "\n",
      "\n",
      "\u001b[91mRUN 65:\u001b[0m\n",
      " Ranga2024Circuit \n",
      " lr: 0.01\n"
     ]
    },
    {
     "name": "stderr",
     "output_type": "stream",
     "text": [
      "Training progress: 100%|██████████| 304/304 [03:11<00:00,  1.59batch/s]\n"
     ]
    },
    {
     "name": "stdout",
     "output_type": "stream",
     "text": [
      "Epoch 1/2, Train-Loss: 0.1509, Val-Loss: 0.0328, Val-F1: 0.9936, Val-Precision: 0.9952, Val-Recall: 0.9920, Val-Accuracy: 0.9934\n"
     ]
    },
    {
     "name": "stderr",
     "output_type": "stream",
     "text": [
      "Training progress: 100%|██████████| 304/304 [03:11<00:00,  1.59batch/s]\n"
     ]
    },
    {
     "name": "stdout",
     "output_type": "stream",
     "text": [
      "Epoch 2/2, Train-Loss: 0.0290, Val-Loss: 0.0242, Val-F1: 0.9952, Val-Precision: 0.9968, Val-Recall: 0.9936, Val-Accuracy: 0.9951\n",
      "\n",
      "\u001b[92mRESULTS:\n",
      " F1-Score:0.9919614147909968, Precision:0.9983818770226537, Recall:0.9856230031948882, Accuracy:0.9917898193760263, Loss:0.026640113443136215 \u001b[0m \n",
      "\n",
      "\n",
      "\u001b[91mRUN 66:\u001b[0m\n",
      " Ranga2024Circuit \n",
      " lr: 0.001\n"
     ]
    },
    {
     "name": "stderr",
     "output_type": "stream",
     "text": [
      "Training progress: 100%|██████████| 304/304 [03:10<00:00,  1.59batch/s]\n"
     ]
    },
    {
     "name": "stdout",
     "output_type": "stream",
     "text": [
      "Epoch 1/2, Train-Loss: 0.5330, Val-Loss: 0.3252, Val-F1: 0.9920, Val-Precision: 0.9952, Val-Recall: 0.9888, Val-Accuracy: 0.9918\n"
     ]
    },
    {
     "name": "stderr",
     "output_type": "stream",
     "text": [
      "Training progress: 100%|██████████| 304/304 [03:11<00:00,  1.59batch/s]\n"
     ]
    },
    {
     "name": "stdout",
     "output_type": "stream",
     "text": [
      "Epoch 2/2, Train-Loss: 0.2189, Val-Loss: 0.1382, Val-F1: 0.9928, Val-Precision: 0.9968, Val-Recall: 0.9888, Val-Accuracy: 0.9926\n",
      "\n",
      "\u001b[92mRESULTS:\n",
      " F1-Score:0.9927710843373494, Precision:0.9983844911147012, Recall:0.987220447284345, Accuracy:0.9926108374384236, Loss:0.139314666390419 \u001b[0m \n",
      "\n",
      "\n",
      "\u001b[91mRUN 67:\u001b[0m\n",
      " Senokosov2024Circuit \n",
      " lr: 0.01\n"
     ]
    },
    {
     "name": "stderr",
     "output_type": "stream",
     "text": [
      "Training progress: 100%|██████████| 304/304 [02:36<00:00,  1.94batch/s]\n"
     ]
    },
    {
     "name": "stdout",
     "output_type": "stream",
     "text": [
      "Epoch 1/2, Train-Loss: 0.1736, Val-Loss: 0.0449, Val-F1: 0.9928, Val-Precision: 1.0000, Val-Recall: 0.9856, Val-Accuracy: 0.9926\n"
     ]
    },
    {
     "name": "stderr",
     "output_type": "stream",
     "text": [
      "Training progress: 100%|██████████| 304/304 [02:37<00:00,  1.93batch/s]\n"
     ]
    },
    {
     "name": "stdout",
     "output_type": "stream",
     "text": [
      "Epoch 2/2, Train-Loss: 0.0288, Val-Loss: 0.0246, Val-F1: 0.9944, Val-Precision: 0.9952, Val-Recall: 0.9936, Val-Accuracy: 0.9943\n",
      "\n",
      "\u001b[92mRESULTS:\n",
      " F1-Score:0.9919614147909968, Precision:0.9983818770226537, Recall:0.9856230031948882, Accuracy:0.9917898193760263, Loss:0.0267100241035223 \u001b[0m \n",
      "\n",
      "\n",
      "\u001b[91mRUN 68:\u001b[0m\n",
      " Senokosov2024Circuit \n",
      " lr: 0.001\n"
     ]
    },
    {
     "name": "stderr",
     "output_type": "stream",
     "text": [
      "Training progress: 100%|██████████| 304/304 [02:36<00:00,  1.94batch/s]\n"
     ]
    },
    {
     "name": "stdout",
     "output_type": "stream",
     "text": [
      "Epoch 1/2, Train-Loss: 0.5946, Val-Loss: 0.4140, Val-F1: 0.9865, Val-Precision: 0.9857, Val-Recall: 0.9872, Val-Accuracy: 0.9861\n"
     ]
    },
    {
     "name": "stderr",
     "output_type": "stream",
     "text": [
      "Training progress: 100%|██████████| 304/304 [02:36<00:00,  1.95batch/s]\n"
     ]
    },
    {
     "name": "stdout",
     "output_type": "stream",
     "text": [
      "Epoch 2/2, Train-Loss: 0.2811, Val-Loss: 0.1983, Val-F1: 0.9904, Val-Precision: 0.9889, Val-Recall: 0.9920, Val-Accuracy: 0.9902\n",
      "\n",
      "\u001b[92mRESULTS:\n",
      " F1-Score:0.9911788291900562, Precision:0.9951690821256038, Recall:0.987220447284345, Accuracy:0.9909688013136289, Loss:0.1984705626964569 \u001b[0m \n",
      "\n",
      "\n",
      "\u001b[91mRUN 69:\u001b[0m\n",
      " Anusha2024Circuit \n",
      " lr: 0.01\n"
     ]
    },
    {
     "name": "stderr",
     "output_type": "stream",
     "text": [
      "Training progress: 100%|██████████| 304/304 [01:01<00:00,  4.93batch/s]\n"
     ]
    },
    {
     "name": "stdout",
     "output_type": "stream",
     "text": [
      "Epoch 1/2, Train-Loss: 0.2128, Val-Loss: 0.0654, Val-F1: 0.9928, Val-Precision: 0.9952, Val-Recall: 0.9904, Val-Accuracy: 0.9926\n"
     ]
    },
    {
     "name": "stderr",
     "output_type": "stream",
     "text": [
      "Training progress: 100%|██████████| 304/304 [01:01<00:00,  4.92batch/s]\n"
     ]
    },
    {
     "name": "stdout",
     "output_type": "stream",
     "text": [
      "Epoch 2/2, Train-Loss: 0.0456, Val-Loss: 0.0367, Val-F1: 0.9952, Val-Precision: 0.9984, Val-Recall: 0.9920, Val-Accuracy: 0.9951\n",
      "\n",
      "\u001b[92mRESULTS:\n",
      " F1-Score:0.9903536977491961, Precision:0.9967637540453075, Recall:0.9840255591054313, Accuracy:0.9901477832512315, Loss:0.04180879145860672 \u001b[0m \n",
      "\n",
      "\n",
      "\u001b[91mRUN 70:\u001b[0m\n",
      " Anusha2024Circuit \n",
      " lr: 0.001\n"
     ]
    },
    {
     "name": "stderr",
     "output_type": "stream",
     "text": [
      "Training progress: 100%|██████████| 304/304 [01:01<00:00,  4.93batch/s]\n"
     ]
    },
    {
     "name": "stdout",
     "output_type": "stream",
     "text": [
      "Epoch 1/2, Train-Loss: 0.6062, Val-Loss: 0.4292, Val-F1: 0.9856, Val-Precision: 0.9888, Val-Recall: 0.9825, Val-Accuracy: 0.9852\n"
     ]
    },
    {
     "name": "stderr",
     "output_type": "stream",
     "text": [
      "Training progress: 100%|██████████| 304/304 [01:01<00:00,  4.92batch/s]\n"
     ]
    },
    {
     "name": "stdout",
     "output_type": "stream",
     "text": [
      "Epoch 2/2, Train-Loss: 0.3281, Val-Loss: 0.2568, Val-F1: 0.9936, Val-Precision: 0.9968, Val-Recall: 0.9904, Val-Accuracy: 0.9934\n",
      "\n",
      "\u001b[92mRESULTS:\n",
      " F1-Score:0.9919614147909968, Precision:0.9983818770226537, Recall:0.9856230031948882, Accuracy:0.9917898193760263, Loss:0.25774064660072327 \u001b[0m \n",
      "\n",
      "\n",
      "\u001b[91mRUN 71:\u001b[0m\n",
      " DoubleEntanglementVLCircuit \n",
      " lr: 0.01\n"
     ]
    },
    {
     "name": "stderr",
     "output_type": "stream",
     "text": [
      "Training progress: 100%|██████████| 304/304 [01:30<00:00,  3.36batch/s]\n"
     ]
    },
    {
     "name": "stdout",
     "output_type": "stream",
     "text": [
      "Epoch 1/2, Train-Loss: 0.1728, Val-Loss: 0.0388, Val-F1: 0.9936, Val-Precision: 0.9984, Val-Recall: 0.9888, Val-Accuracy: 0.9934\n"
     ]
    },
    {
     "name": "stderr",
     "output_type": "stream",
     "text": [
      "Training progress: 100%|██████████| 304/304 [01:30<00:00,  3.35batch/s]\n"
     ]
    },
    {
     "name": "stdout",
     "output_type": "stream",
     "text": [
      "Epoch 2/2, Train-Loss: 0.0296, Val-Loss: 0.0248, Val-F1: 0.9952, Val-Precision: 0.9984, Val-Recall: 0.9920, Val-Accuracy: 0.9951\n",
      "\n",
      "\u001b[92mRESULTS:\n",
      " F1-Score:0.9927594529364441, Precision:1.0, Recall:0.9856230031948882, Accuracy:0.9926108374384236, Loss:0.02741110511124134 \u001b[0m \n",
      "\n",
      "\n",
      "\u001b[91mRUN 72:\u001b[0m\n",
      " DoubleEntanglementVLCircuit \n",
      " lr: 0.001\n"
     ]
    },
    {
     "name": "stderr",
     "output_type": "stream",
     "text": [
      "Training progress: 100%|██████████| 304/304 [01:30<00:00,  3.35batch/s]\n"
     ]
    },
    {
     "name": "stdout",
     "output_type": "stream",
     "text": [
      "Epoch 1/2, Train-Loss: 0.5669, Val-Loss: 0.4004, Val-F1: 0.9912, Val-Precision: 0.9968, Val-Recall: 0.9856, Val-Accuracy: 0.9910\n"
     ]
    },
    {
     "name": "stderr",
     "output_type": "stream",
     "text": [
      "Training progress: 100%|██████████| 304/304 [01:30<00:00,  3.35batch/s]\n"
     ]
    },
    {
     "name": "stdout",
     "output_type": "stream",
     "text": [
      "Epoch 2/2, Train-Loss: 0.3067, Val-Loss: 0.2348, Val-F1: 0.9928, Val-Precision: 0.9952, Val-Recall: 0.9904, Val-Accuracy: 0.9926\n",
      "\n",
      "\u001b[92mRESULTS:\n",
      " F1-Score:0.9903536977491961, Precision:0.9967637540453075, Recall:0.9840255591054313, Accuracy:0.9901477832512315, Loss:0.23458020389080048 \u001b[0m \n",
      "\n",
      "\n",
      "\u001b[91mRUN 73:\u001b[0m\n",
      " Ranga2024Circuit \n",
      " lr: 0.01\n"
     ]
    },
    {
     "name": "stderr",
     "output_type": "stream",
     "text": [
      "Training progress: 100%|██████████| 304/304 [03:09<00:00,  1.60batch/s]\n"
     ]
    },
    {
     "name": "stdout",
     "output_type": "stream",
     "text": [
      "Epoch 1/2, Train-Loss: 0.0819, Val-Loss: 0.0263, Val-F1: 0.9960, Val-Precision: 0.9984, Val-Recall: 0.9936, Val-Accuracy: 0.9959\n"
     ]
    },
    {
     "name": "stderr",
     "output_type": "stream",
     "text": [
      "Training progress: 100%|██████████| 304/304 [03:09<00:00,  1.60batch/s]\n"
     ]
    },
    {
     "name": "stdout",
     "output_type": "stream",
     "text": [
      "Epoch 2/2, Train-Loss: 0.0281, Val-Loss: 0.0528, Val-F1: 0.9827, Val-Precision: 0.9690, Val-Recall: 0.9968, Val-Accuracy: 0.9820\n",
      "\n",
      "\u001b[92mRESULTS:\n",
      " F1-Score:0.9772905246671887, Precision:0.9585253456221198, Recall:0.9968051118210862, Accuracy:0.9761904761904762, Loss:0.05248251557350159 \u001b[0m \n",
      "\n",
      "\n",
      "\u001b[91mRUN 74:\u001b[0m\n",
      " Ranga2024Circuit \n",
      " lr: 0.001\n"
     ]
    },
    {
     "name": "stderr",
     "output_type": "stream",
     "text": [
      "Training progress: 100%|██████████| 304/304 [03:10<00:00,  1.59batch/s]\n"
     ]
    },
    {
     "name": "stdout",
     "output_type": "stream",
     "text": [
      "Epoch 1/2, Train-Loss: 0.3092, Val-Loss: 0.1550, Val-F1: 0.9936, Val-Precision: 0.9952, Val-Recall: 0.9920, Val-Accuracy: 0.9934\n"
     ]
    },
    {
     "name": "stderr",
     "output_type": "stream",
     "text": [
      "Training progress: 100%|██████████| 304/304 [03:11<00:00,  1.59batch/s]\n"
     ]
    },
    {
     "name": "stdout",
     "output_type": "stream",
     "text": [
      "Epoch 2/2, Train-Loss: 0.1072, Val-Loss: 0.0767, Val-F1: 0.9936, Val-Precision: 0.9952, Val-Recall: 0.9920, Val-Accuracy: 0.9934\n",
      "\n",
      "\u001b[92mRESULTS:\n",
      " F1-Score:0.9935897435897436, Precision:0.9967845659163987, Recall:0.9904153354632588, Accuracy:0.993431855500821, Loss:0.0765962153673172 \u001b[0m \n",
      "\n",
      "\n",
      "\u001b[91mRUN 75:\u001b[0m\n",
      " Senokosov2024Circuit \n",
      " lr: 0.01\n"
     ]
    },
    {
     "name": "stderr",
     "output_type": "stream",
     "text": [
      "Training progress: 100%|██████████| 304/304 [02:36<00:00,  1.94batch/s]\n"
     ]
    },
    {
     "name": "stdout",
     "output_type": "stream",
     "text": [
      "Epoch 1/2, Train-Loss: 0.1072, Val-Loss: 0.0282, Val-F1: 0.9936, Val-Precision: 0.9952, Val-Recall: 0.9920, Val-Accuracy: 0.9934\n"
     ]
    },
    {
     "name": "stderr",
     "output_type": "stream",
     "text": [
      "Training progress: 100%|██████████| 304/304 [02:37<00:00,  1.94batch/s]\n"
     ]
    },
    {
     "name": "stdout",
     "output_type": "stream",
     "text": [
      "Epoch 2/2, Train-Loss: 0.0233, Val-Loss: 0.0384, Val-F1: 0.9881, Val-Precision: 0.9796, Val-Recall: 0.9968, Val-Accuracy: 0.9877\n",
      "\n",
      "\u001b[92mRESULTS:\n",
      " F1-Score:0.981042654028436, Precision:0.9703125, Recall:0.9920127795527156, Accuracy:0.9802955665024631, Loss:0.03711770102381706 \u001b[0m \n",
      "\n",
      "\n",
      "\u001b[91mRUN 76:\u001b[0m\n",
      " Senokosov2024Circuit \n",
      " lr: 0.001\n"
     ]
    },
    {
     "name": "stderr",
     "output_type": "stream",
     "text": [
      "Training progress: 100%|██████████| 304/304 [02:37<00:00,  1.93batch/s]\n"
     ]
    },
    {
     "name": "stdout",
     "output_type": "stream",
     "text": [
      "Epoch 1/2, Train-Loss: 0.4247, Val-Loss: 0.1959, Val-F1: 0.9856, Val-Precision: 0.9856, Val-Recall: 0.9856, Val-Accuracy: 0.9852\n"
     ]
    },
    {
     "name": "stderr",
     "output_type": "stream",
     "text": [
      "Training progress: 100%|██████████| 304/304 [02:37<00:00,  1.93batch/s]\n"
     ]
    },
    {
     "name": "stdout",
     "output_type": "stream",
     "text": [
      "Epoch 2/2, Train-Loss: 0.1297, Val-Loss: 0.0956, Val-F1: 0.9920, Val-Precision: 0.9905, Val-Recall: 0.9936, Val-Accuracy: 0.9918\n",
      "\n",
      "\u001b[92mRESULTS:\n",
      " F1-Score:0.9903691813804173, Precision:0.9951612903225806, Recall:0.9856230031948882, Accuracy:0.9901477832512315, Loss:0.09496060013771057 \u001b[0m \n",
      "\n",
      "\n",
      "\u001b[91mRUN 77:\u001b[0m\n",
      " Anusha2024Circuit \n",
      " lr: 0.01\n"
     ]
    },
    {
     "name": "stderr",
     "output_type": "stream",
     "text": [
      "Training progress: 100%|██████████| 304/304 [01:02<00:00,  4.89batch/s]\n"
     ]
    },
    {
     "name": "stdout",
     "output_type": "stream",
     "text": [
      "Epoch 1/2, Train-Loss: 0.1204, Val-Loss: 0.0397, Val-F1: 0.9944, Val-Precision: 0.9952, Val-Recall: 0.9936, Val-Accuracy: 0.9943\n"
     ]
    },
    {
     "name": "stderr",
     "output_type": "stream",
     "text": [
      "Training progress: 100%|██████████| 304/304 [01:01<00:00,  4.91batch/s]\n"
     ]
    },
    {
     "name": "stdout",
     "output_type": "stream",
     "text": [
      "Epoch 2/2, Train-Loss: 0.0313, Val-Loss: 0.0341, Val-F1: 0.9921, Val-Precision: 0.9889, Val-Recall: 0.9952, Val-Accuracy: 0.9918\n",
      "\n",
      "\u001b[92mRESULTS:\n",
      " F1-Score:0.9927942353883107, Precision:0.9951845906902087, Recall:0.9904153354632588, Accuracy:0.9926108374384236, Loss:0.03313043341040611 \u001b[0m \n",
      "\n",
      "\n",
      "\u001b[91mRUN 78:\u001b[0m\n",
      " Anusha2024Circuit \n",
      " lr: 0.001\n"
     ]
    },
    {
     "name": "stderr",
     "output_type": "stream",
     "text": [
      "Training progress: 100%|██████████| 304/304 [01:02<00:00,  4.89batch/s]\n"
     ]
    },
    {
     "name": "stdout",
     "output_type": "stream",
     "text": [
      "Epoch 1/2, Train-Loss: 0.3804, Val-Loss: 0.1361, Val-F1: 0.9928, Val-Precision: 0.9936, Val-Recall: 0.9920, Val-Accuracy: 0.9926\n"
     ]
    },
    {
     "name": "stderr",
     "output_type": "stream",
     "text": [
      "Training progress: 100%|██████████| 304/304 [01:02<00:00,  4.90batch/s]\n"
     ]
    },
    {
     "name": "stdout",
     "output_type": "stream",
     "text": [
      "Epoch 2/2, Train-Loss: 0.0973, Val-Loss: 0.0777, Val-F1: 0.9920, Val-Precision: 0.9920, Val-Recall: 0.9920, Val-Accuracy: 0.9918\n",
      "\n",
      "\u001b[92mRESULTS:\n",
      " F1-Score:0.9903536977491961, Precision:0.9967637540453075, Recall:0.9840255591054313, Accuracy:0.9901477832512315, Loss:0.07669083774089813 \u001b[0m \n",
      "\n",
      "\n",
      "\u001b[91mRUN 79:\u001b[0m\n",
      " DoubleEntanglementVLCircuit \n",
      " lr: 0.01\n"
     ]
    },
    {
     "name": "stderr",
     "output_type": "stream",
     "text": [
      "Training progress: 100%|██████████| 304/304 [01:31<00:00,  3.34batch/s]\n"
     ]
    },
    {
     "name": "stdout",
     "output_type": "stream",
     "text": [
      "Epoch 1/2, Train-Loss: 0.1336, Val-Loss: 0.0328, Val-F1: 0.9944, Val-Precision: 0.9952, Val-Recall: 0.9936, Val-Accuracy: 0.9943\n"
     ]
    },
    {
     "name": "stderr",
     "output_type": "stream",
     "text": [
      "Training progress: 100%|██████████| 304/304 [01:30<00:00,  3.35batch/s]\n"
     ]
    },
    {
     "name": "stdout",
     "output_type": "stream",
     "text": [
      "Epoch 2/2, Train-Loss: 0.0247, Val-Loss: 0.0342, Val-F1: 0.9897, Val-Precision: 0.9827, Val-Recall: 0.9968, Val-Accuracy: 0.9893\n",
      "\n",
      "\u001b[92mRESULTS:\n",
      " F1-Score:0.9841772151898734, Precision:0.9749216300940439, Recall:0.9936102236421726, Accuracy:0.9835796387520526, Loss:0.03331908956170082 \u001b[0m \n",
      "\n",
      "\n",
      "\u001b[91mRUN 80:\u001b[0m\n",
      " DoubleEntanglementVLCircuit \n",
      " lr: 0.001\n"
     ]
    },
    {
     "name": "stderr",
     "output_type": "stream",
     "text": [
      "Training progress: 100%|██████████| 304/304 [01:31<00:00,  3.34batch/s]\n"
     ]
    },
    {
     "name": "stdout",
     "output_type": "stream",
     "text": [
      "Epoch 1/2, Train-Loss: 0.5012, Val-Loss: 0.3037, Val-F1: 0.9855, Val-Precision: 0.9967, Val-Recall: 0.9745, Val-Accuracy: 0.9852\n"
     ]
    },
    {
     "name": "stderr",
     "output_type": "stream",
     "text": [
      "Training progress: 100%|██████████| 304/304 [01:30<00:00,  3.35batch/s]\n"
     ]
    },
    {
     "name": "stdout",
     "output_type": "stream",
     "text": [
      "Epoch 2/2, Train-Loss: 0.2113, Val-Loss: 0.1477, Val-F1: 0.9920, Val-Precision: 0.9920, Val-Recall: 0.9920, Val-Accuracy: 0.9918\n",
      "\n",
      "\u001b[92mRESULTS:\n",
      " F1-Score:0.9903536977491961, Precision:0.9967637540453075, Recall:0.9840255591054313, Accuracy:0.9901477832512315, Loss:0.14781486988067627 \u001b[0m \n",
      "\n",
      "\n"
     ]
    }
   ],
   "source": [
    "### RUN EXPERIMENT\n",
    "id = 0\n",
    "for seed, circuit, lr in itertools.product(runs, circuits, learning_rates):\n",
    "    print(f\"\"\"{RED_TEXT}RUN {id+1}:{RESET_COLOR}\\n {circuit.__name__} \\n lr: {lr}\"\"\")\n",
    "\n",
    "    # init the model\n",
    "    model = qnn.BinQuantumNeuralNetwork(n_qubits=N_QUBITS, features_per_qubit=FEAT_PER_QUBIT, circuit=circuit, seed=seed, hybrid=HYBRID)\n",
    "\n",
    "    path_identifier = f\"{circuit.__name__}_expID_{EXPERIMENT_ID}_dfID_{id}\"\n",
    "\n",
    "    # train the model (predifined optimizer, etc.)\n",
    "    trained_model, loss_history, val_losses, val_f1s, avg_epoch_time = ut.train_model(\n",
    "        model, X_train, y_train, X_val, y_val,\n",
    "        epochs=EPOCHS, batch_size=32, lr=lr, binary=True,\n",
    "        weight_path=WEIGHT_PATH+path_identifier\n",
    "    )\n",
    "    \n",
    "    # save trained model\n",
    "    model_path = MODEL_PATH+path_identifier+\".pth\"\n",
    "    torch.save(trained_model, model_path)\n",
    "\n",
    "    # evaluate\n",
    "    cross_entropy, accuracy, precision, recall, f1 = trained_model.evaluate(X_test, y_test)\n",
    "\n",
    "    results_dict = {\n",
    "        \"id\": id,\n",
    "        \"f1_score\": f1, \"precision\": precision, \"recall\": recall, \"accuracy\": accuracy, \"cross_entropy\": cross_entropy,\n",
    "        \"seed\": seed,\n",
    "        \"circuit\": circuit.__name__,\n",
    "        \"learning_rate\": lr,\n",
    "        \"loss_history\": loss_history,\n",
    "        \"val_losses\": val_losses,\n",
    "        \"val_f1s\": val_f1s,\n",
    "        \"avg_epoch_time_seconds\": avg_epoch_time,\n",
    "        \"network_str\": str(model),\n",
    "        \"model_path\": model_path,\n",
    "        \"weight_path\": WEIGHT_PATH,\n",
    "        \"epochs\": EPOCHS,\n",
    "        \"n_qubits\": N_QUBITS,\n",
    "        \"features_per_qubit\": FEAT_PER_QUBIT,\n",
    "        \"scaler\" : str(SCALER).replace(\"()\", \"\")\n",
    "    }\n",
    "    print(f\"\\n{GREEN_TEXT}RESULTS:\\n F1-Score:{f1}, Precision:{precision}, Recall:{recall}, Accuracy:{accuracy}, Loss:{cross_entropy} {RESET_COLOR} \\n\\n\")\n",
    "    \n",
    "    # append the results_dict to the RESULTS_DF\n",
    "    RESULTS_DF = pd.concat([RESULTS_DF, pd.DataFrame([results_dict])], ignore_index=True)\n",
    "    RESULTS_DF.to_csv(path_or_buf=RESULTS_PATH) # save for each run (in case of a crash)\n",
    "\n",
    "    id += 1"
   ]
  },
  {
   "cell_type": "code",
   "execution_count": 7,
   "metadata": {},
   "outputs": [
    {
     "data": {
      "text/html": [
       "<div>\n",
       "<style scoped>\n",
       "    .dataframe tbody tr th:only-of-type {\n",
       "        vertical-align: middle;\n",
       "    }\n",
       "\n",
       "    .dataframe tbody tr th {\n",
       "        vertical-align: top;\n",
       "    }\n",
       "\n",
       "    .dataframe thead th {\n",
       "        text-align: right;\n",
       "    }\n",
       "</style>\n",
       "<table border=\"1\" class=\"dataframe\">\n",
       "  <thead>\n",
       "    <tr style=\"text-align: right;\">\n",
       "      <th></th>\n",
       "      <th>id</th>\n",
       "      <th>f1_score</th>\n",
       "      <th>precision</th>\n",
       "      <th>recall</th>\n",
       "      <th>accuracy</th>\n",
       "      <th>cross_entropy</th>\n",
       "      <th>seed</th>\n",
       "      <th>circuit</th>\n",
       "      <th>learning_rate</th>\n",
       "      <th>loss_history</th>\n",
       "      <th>val_losses</th>\n",
       "      <th>val_f1s</th>\n",
       "      <th>avg_epoch_time_seconds</th>\n",
       "      <th>network_str</th>\n",
       "      <th>model_path</th>\n",
       "      <th>weight_path</th>\n",
       "      <th>epochs</th>\n",
       "      <th>n_qubits</th>\n",
       "      <th>features_per_qubit</th>\n",
       "      <th>scaler</th>\n",
       "    </tr>\n",
       "  </thead>\n",
       "  <tbody>\n",
       "    <tr>\n",
       "      <th>0</th>\n",
       "      <td>0</td>\n",
       "      <td>0.993579</td>\n",
       "      <td>0.998387</td>\n",
       "      <td>0.988818</td>\n",
       "      <td>0.993432</td>\n",
       "      <td>0.023789</td>\n",
       "      <td>1</td>\n",
       "      <td>Ranga2024Circuit</td>\n",
       "      <td>0.010</td>\n",
       "      <td>[0.1194998185291249, 0.02889960845028614]</td>\n",
       "      <td>[0.03633466362953186, 0.02427237667143345]</td>\n",
       "      <td>[0.9920382165605095, 0.9928172386272945]</td>\n",
       "      <td>209.200972</td>\n",
       "      <td>BinQuantumNeuralNetwork(\\n  (quantum_circuit_n...</td>\n",
       "      <td>results/models/bin/Ranga2024Circuit_expID_0_df...</td>\n",
       "      <td>results/weights/bin/</td>\n",
       "      <td>2</td>\n",
       "      <td>4</td>\n",
       "      <td>4</td>\n",
       "      <td>MinMaxScaler</td>\n",
       "    </tr>\n",
       "    <tr>\n",
       "      <th>1</th>\n",
       "      <td>1</td>\n",
       "      <td>0.990354</td>\n",
       "      <td>0.996764</td>\n",
       "      <td>0.984026</td>\n",
       "      <td>0.990148</td>\n",
       "      <td>0.146723</td>\n",
       "      <td>1</td>\n",
       "      <td>Ranga2024Circuit</td>\n",
       "      <td>0.001</td>\n",
       "      <td>[0.465129475452398, 0.1997821974862171]</td>\n",
       "      <td>[0.28358474373817444, 0.14489339292049408]</td>\n",
       "      <td>[0.9904306220095693, 0.9935897435897436]</td>\n",
       "      <td>190.780761</td>\n",
       "      <td>BinQuantumNeuralNetwork(\\n  (quantum_circuit_n...</td>\n",
       "      <td>results/models/bin/Ranga2024Circuit_expID_0_df...</td>\n",
       "      <td>results/weights/bin/</td>\n",
       "      <td>2</td>\n",
       "      <td>4</td>\n",
       "      <td>4</td>\n",
       "      <td>MinMaxScaler</td>\n",
       "    </tr>\n",
       "    <tr>\n",
       "      <th>2</th>\n",
       "      <td>2</td>\n",
       "      <td>0.993569</td>\n",
       "      <td>1.000000</td>\n",
       "      <td>0.987220</td>\n",
       "      <td>0.993432</td>\n",
       "      <td>0.028628</td>\n",
       "      <td>1</td>\n",
       "      <td>Senokosov2024Circuit</td>\n",
       "      <td>0.010</td>\n",
       "      <td>[0.15520546564795568, 0.02918960083901]</td>\n",
       "      <td>[0.042100317776203156, 0.02745809778571129]</td>\n",
       "      <td>[0.9912490055688147, 0.9952]</td>\n",
       "      <td>159.079280</td>\n",
       "      <td>BinQuantumNeuralNetwork(\\n  (quantum_circuit_n...</td>\n",
       "      <td>results/models/bin/Senokosov2024Circuit_expID_...</td>\n",
       "      <td>results/weights/bin/</td>\n",
       "      <td>2</td>\n",
       "      <td>4</td>\n",
       "      <td>4</td>\n",
       "      <td>MinMaxScaler</td>\n",
       "    </tr>\n",
       "    <tr>\n",
       "      <th>3</th>\n",
       "      <td>3</td>\n",
       "      <td>0.991987</td>\n",
       "      <td>0.995177</td>\n",
       "      <td>0.988818</td>\n",
       "      <td>0.991790</td>\n",
       "      <td>0.205413</td>\n",
       "      <td>1</td>\n",
       "      <td>Senokosov2024Circuit</td>\n",
       "      <td>0.001</td>\n",
       "      <td>[0.5929172167456463, 0.2740683712457356]</td>\n",
       "      <td>[0.38416343927383423, 0.20542927086353302]</td>\n",
       "      <td>[0.9849802371541502, 0.9880668257756563]</td>\n",
       "      <td>158.450551</td>\n",
       "      <td>BinQuantumNeuralNetwork(\\n  (quantum_circuit_n...</td>\n",
       "      <td>results/models/bin/Senokosov2024Circuit_expID_...</td>\n",
       "      <td>results/weights/bin/</td>\n",
       "      <td>2</td>\n",
       "      <td>4</td>\n",
       "      <td>4</td>\n",
       "      <td>MinMaxScaler</td>\n",
       "    </tr>\n",
       "    <tr>\n",
       "      <th>4</th>\n",
       "      <td>4</td>\n",
       "      <td>0.993579</td>\n",
       "      <td>0.998387</td>\n",
       "      <td>0.988818</td>\n",
       "      <td>0.993432</td>\n",
       "      <td>0.027842</td>\n",
       "      <td>1</td>\n",
       "      <td>Anusha2024Circuit</td>\n",
       "      <td>0.010</td>\n",
       "      <td>[0.13495928062260837, 0.032840807977328565]</td>\n",
       "      <td>[0.04125167429447174, 0.02655337192118168]</td>\n",
       "      <td>[0.9936204146730463, 0.9944044764188649]</td>\n",
       "      <td>62.548607</td>\n",
       "      <td>BinQuantumNeuralNetwork(\\n  (quantum_circuit_n...</td>\n",
       "      <td>results/models/bin/Anusha2024Circuit_expID_0_d...</td>\n",
       "      <td>results/weights/bin/</td>\n",
       "      <td>2</td>\n",
       "      <td>4</td>\n",
       "      <td>4</td>\n",
       "      <td>MinMaxScaler</td>\n",
       "    </tr>\n",
       "    <tr>\n",
       "      <th>...</th>\n",
       "      <td>...</td>\n",
       "      <td>...</td>\n",
       "      <td>...</td>\n",
       "      <td>...</td>\n",
       "      <td>...</td>\n",
       "      <td>...</td>\n",
       "      <td>...</td>\n",
       "      <td>...</td>\n",
       "      <td>...</td>\n",
       "      <td>...</td>\n",
       "      <td>...</td>\n",
       "      <td>...</td>\n",
       "      <td>...</td>\n",
       "      <td>...</td>\n",
       "      <td>...</td>\n",
       "      <td>...</td>\n",
       "      <td>...</td>\n",
       "      <td>...</td>\n",
       "      <td>...</td>\n",
       "      <td>...</td>\n",
       "    </tr>\n",
       "    <tr>\n",
       "      <th>75</th>\n",
       "      <td>75</td>\n",
       "      <td>0.990369</td>\n",
       "      <td>0.995161</td>\n",
       "      <td>0.985623</td>\n",
       "      <td>0.990148</td>\n",
       "      <td>0.094961</td>\n",
       "      <td>10</td>\n",
       "      <td>Senokosov2024Circuit</td>\n",
       "      <td>0.001</td>\n",
       "      <td>[0.4246948525113495, 0.1296829528812515]</td>\n",
       "      <td>[0.19592657685279846, 0.0956486240029335]</td>\n",
       "      <td>[0.9856459330143541, 0.9920382165605095]</td>\n",
       "      <td>157.125579</td>\n",
       "      <td>BinQuantumNeuralNetwork(\\n  (quantum_circuit_n...</td>\n",
       "      <td>results/models/bin/Senokosov2024Circuit_expID_...</td>\n",
       "      <td>results/weights/bin/</td>\n",
       "      <td>2</td>\n",
       "      <td>4</td>\n",
       "      <td>4</td>\n",
       "      <td>MinMaxScaler</td>\n",
       "    </tr>\n",
       "    <tr>\n",
       "      <th>76</th>\n",
       "      <td>76</td>\n",
       "      <td>0.992794</td>\n",
       "      <td>0.995185</td>\n",
       "      <td>0.990415</td>\n",
       "      <td>0.992611</td>\n",
       "      <td>0.033130</td>\n",
       "      <td>10</td>\n",
       "      <td>Anusha2024Circuit</td>\n",
       "      <td>0.010</td>\n",
       "      <td>[0.12039245833569255, 0.03125268833766887]</td>\n",
       "      <td>[0.03968925401568413, 0.03411133959889412]</td>\n",
       "      <td>[0.994413407821229, 0.9920508744038156]</td>\n",
       "      <td>62.042147</td>\n",
       "      <td>BinQuantumNeuralNetwork(\\n  (quantum_circuit_n...</td>\n",
       "      <td>results/models/bin/Anusha2024Circuit_expID_0_d...</td>\n",
       "      <td>results/weights/bin/</td>\n",
       "      <td>2</td>\n",
       "      <td>4</td>\n",
       "      <td>4</td>\n",
       "      <td>MinMaxScaler</td>\n",
       "    </tr>\n",
       "    <tr>\n",
       "      <th>77</th>\n",
       "      <td>77</td>\n",
       "      <td>0.990354</td>\n",
       "      <td>0.996764</td>\n",
       "      <td>0.984026</td>\n",
       "      <td>0.990148</td>\n",
       "      <td>0.076691</td>\n",
       "      <td>10</td>\n",
       "      <td>Anusha2024Circuit</td>\n",
       "      <td>0.001</td>\n",
       "      <td>[0.38039971476322726, 0.09725551064567346]</td>\n",
       "      <td>[0.13609278202056885, 0.07773631066083908]</td>\n",
       "      <td>[0.9928172386272945, 0.9920255183413078]</td>\n",
       "      <td>62.107158</td>\n",
       "      <td>BinQuantumNeuralNetwork(\\n  (quantum_circuit_n...</td>\n",
       "      <td>results/models/bin/Anusha2024Circuit_expID_0_d...</td>\n",
       "      <td>results/weights/bin/</td>\n",
       "      <td>2</td>\n",
       "      <td>4</td>\n",
       "      <td>4</td>\n",
       "      <td>MinMaxScaler</td>\n",
       "    </tr>\n",
       "    <tr>\n",
       "      <th>78</th>\n",
       "      <td>78</td>\n",
       "      <td>0.984177</td>\n",
       "      <td>0.974922</td>\n",
       "      <td>0.993610</td>\n",
       "      <td>0.983580</td>\n",
       "      <td>0.033319</td>\n",
       "      <td>10</td>\n",
       "      <td>DoubleEntanglementVLCircuit</td>\n",
       "      <td>0.010</td>\n",
       "      <td>[0.13361566995062227, 0.024704898431082256]</td>\n",
       "      <td>[0.03278356418013573, 0.0341801792383194]</td>\n",
       "      <td>[0.994413407821229, 0.9897070467141726]</td>\n",
       "      <td>90.930680</td>\n",
       "      <td>BinQuantumNeuralNetwork(\\n  (quantum_circuit_n...</td>\n",
       "      <td>results/models/bin/DoubleEntanglementVLCircuit...</td>\n",
       "      <td>results/weights/bin/</td>\n",
       "      <td>2</td>\n",
       "      <td>4</td>\n",
       "      <td>4</td>\n",
       "      <td>MinMaxScaler</td>\n",
       "    </tr>\n",
       "    <tr>\n",
       "      <th>79</th>\n",
       "      <td>79</td>\n",
       "      <td>0.990354</td>\n",
       "      <td>0.996764</td>\n",
       "      <td>0.984026</td>\n",
       "      <td>0.990148</td>\n",
       "      <td>0.147815</td>\n",
       "      <td>10</td>\n",
       "      <td>DoubleEntanglementVLCircuit</td>\n",
       "      <td>0.001</td>\n",
       "      <td>[0.5012266136901943, 0.21134709596241774]</td>\n",
       "      <td>[0.3036748468875885, 0.14772823452949524]</td>\n",
       "      <td>[0.9854838709677419, 0.9920255183413078]</td>\n",
       "      <td>90.910368</td>\n",
       "      <td>BinQuantumNeuralNetwork(\\n  (quantum_circuit_n...</td>\n",
       "      <td>results/models/bin/DoubleEntanglementVLCircuit...</td>\n",
       "      <td>results/weights/bin/</td>\n",
       "      <td>2</td>\n",
       "      <td>4</td>\n",
       "      <td>4</td>\n",
       "      <td>MinMaxScaler</td>\n",
       "    </tr>\n",
       "  </tbody>\n",
       "</table>\n",
       "<p>80 rows × 20 columns</p>\n",
       "</div>"
      ],
      "text/plain": [
       "    id  f1_score  precision    recall  accuracy  cross_entropy  seed  \\\n",
       "0    0  0.993579   0.998387  0.988818  0.993432       0.023789     1   \n",
       "1    1  0.990354   0.996764  0.984026  0.990148       0.146723     1   \n",
       "2    2  0.993569   1.000000  0.987220  0.993432       0.028628     1   \n",
       "3    3  0.991987   0.995177  0.988818  0.991790       0.205413     1   \n",
       "4    4  0.993579   0.998387  0.988818  0.993432       0.027842     1   \n",
       "..  ..       ...        ...       ...       ...            ...   ...   \n",
       "75  75  0.990369   0.995161  0.985623  0.990148       0.094961    10   \n",
       "76  76  0.992794   0.995185  0.990415  0.992611       0.033130    10   \n",
       "77  77  0.990354   0.996764  0.984026  0.990148       0.076691    10   \n",
       "78  78  0.984177   0.974922  0.993610  0.983580       0.033319    10   \n",
       "79  79  0.990354   0.996764  0.984026  0.990148       0.147815    10   \n",
       "\n",
       "                        circuit  learning_rate  \\\n",
       "0              Ranga2024Circuit          0.010   \n",
       "1              Ranga2024Circuit          0.001   \n",
       "2          Senokosov2024Circuit          0.010   \n",
       "3          Senokosov2024Circuit          0.001   \n",
       "4             Anusha2024Circuit          0.010   \n",
       "..                          ...            ...   \n",
       "75         Senokosov2024Circuit          0.001   \n",
       "76            Anusha2024Circuit          0.010   \n",
       "77            Anusha2024Circuit          0.001   \n",
       "78  DoubleEntanglementVLCircuit          0.010   \n",
       "79  DoubleEntanglementVLCircuit          0.001   \n",
       "\n",
       "                                   loss_history  \\\n",
       "0     [0.1194998185291249, 0.02889960845028614]   \n",
       "1       [0.465129475452398, 0.1997821974862171]   \n",
       "2       [0.15520546564795568, 0.02918960083901]   \n",
       "3      [0.5929172167456463, 0.2740683712457356]   \n",
       "4   [0.13495928062260837, 0.032840807977328565]   \n",
       "..                                          ...   \n",
       "75     [0.4246948525113495, 0.1296829528812515]   \n",
       "76   [0.12039245833569255, 0.03125268833766887]   \n",
       "77   [0.38039971476322726, 0.09725551064567346]   \n",
       "78  [0.13361566995062227, 0.024704898431082256]   \n",
       "79    [0.5012266136901943, 0.21134709596241774]   \n",
       "\n",
       "                                     val_losses  \\\n",
       "0    [0.03633466362953186, 0.02427237667143345]   \n",
       "1    [0.28358474373817444, 0.14489339292049408]   \n",
       "2   [0.042100317776203156, 0.02745809778571129]   \n",
       "3    [0.38416343927383423, 0.20542927086353302]   \n",
       "4    [0.04125167429447174, 0.02655337192118168]   \n",
       "..                                          ...   \n",
       "75    [0.19592657685279846, 0.0956486240029335]   \n",
       "76   [0.03968925401568413, 0.03411133959889412]   \n",
       "77   [0.13609278202056885, 0.07773631066083908]   \n",
       "78    [0.03278356418013573, 0.0341801792383194]   \n",
       "79    [0.3036748468875885, 0.14772823452949524]   \n",
       "\n",
       "                                     val_f1s  avg_epoch_time_seconds  \\\n",
       "0   [0.9920382165605095, 0.9928172386272945]              209.200972   \n",
       "1   [0.9904306220095693, 0.9935897435897436]              190.780761   \n",
       "2               [0.9912490055688147, 0.9952]              159.079280   \n",
       "3   [0.9849802371541502, 0.9880668257756563]              158.450551   \n",
       "4   [0.9936204146730463, 0.9944044764188649]               62.548607   \n",
       "..                                       ...                     ...   \n",
       "75  [0.9856459330143541, 0.9920382165605095]              157.125579   \n",
       "76   [0.994413407821229, 0.9920508744038156]               62.042147   \n",
       "77  [0.9928172386272945, 0.9920255183413078]               62.107158   \n",
       "78   [0.994413407821229, 0.9897070467141726]               90.930680   \n",
       "79  [0.9854838709677419, 0.9920255183413078]               90.910368   \n",
       "\n",
       "                                          network_str  \\\n",
       "0   BinQuantumNeuralNetwork(\\n  (quantum_circuit_n...   \n",
       "1   BinQuantumNeuralNetwork(\\n  (quantum_circuit_n...   \n",
       "2   BinQuantumNeuralNetwork(\\n  (quantum_circuit_n...   \n",
       "3   BinQuantumNeuralNetwork(\\n  (quantum_circuit_n...   \n",
       "4   BinQuantumNeuralNetwork(\\n  (quantum_circuit_n...   \n",
       "..                                                ...   \n",
       "75  BinQuantumNeuralNetwork(\\n  (quantum_circuit_n...   \n",
       "76  BinQuantumNeuralNetwork(\\n  (quantum_circuit_n...   \n",
       "77  BinQuantumNeuralNetwork(\\n  (quantum_circuit_n...   \n",
       "78  BinQuantumNeuralNetwork(\\n  (quantum_circuit_n...   \n",
       "79  BinQuantumNeuralNetwork(\\n  (quantum_circuit_n...   \n",
       "\n",
       "                                           model_path           weight_path  \\\n",
       "0   results/models/bin/Ranga2024Circuit_expID_0_df...  results/weights/bin/   \n",
       "1   results/models/bin/Ranga2024Circuit_expID_0_df...  results/weights/bin/   \n",
       "2   results/models/bin/Senokosov2024Circuit_expID_...  results/weights/bin/   \n",
       "3   results/models/bin/Senokosov2024Circuit_expID_...  results/weights/bin/   \n",
       "4   results/models/bin/Anusha2024Circuit_expID_0_d...  results/weights/bin/   \n",
       "..                                                ...                   ...   \n",
       "75  results/models/bin/Senokosov2024Circuit_expID_...  results/weights/bin/   \n",
       "76  results/models/bin/Anusha2024Circuit_expID_0_d...  results/weights/bin/   \n",
       "77  results/models/bin/Anusha2024Circuit_expID_0_d...  results/weights/bin/   \n",
       "78  results/models/bin/DoubleEntanglementVLCircuit...  results/weights/bin/   \n",
       "79  results/models/bin/DoubleEntanglementVLCircuit...  results/weights/bin/   \n",
       "\n",
       "    epochs  n_qubits  features_per_qubit        scaler  \n",
       "0        2         4                   4  MinMaxScaler  \n",
       "1        2         4                   4  MinMaxScaler  \n",
       "2        2         4                   4  MinMaxScaler  \n",
       "3        2         4                   4  MinMaxScaler  \n",
       "4        2         4                   4  MinMaxScaler  \n",
       "..     ...       ...                 ...           ...  \n",
       "75       2         4                   4  MinMaxScaler  \n",
       "76       2         4                   4  MinMaxScaler  \n",
       "77       2         4                   4  MinMaxScaler  \n",
       "78       2         4                   4  MinMaxScaler  \n",
       "79       2         4                   4  MinMaxScaler  \n",
       "\n",
       "[80 rows x 20 columns]"
      ]
     },
     "execution_count": 7,
     "metadata": {},
     "output_type": "execute_result"
    }
   ],
   "source": [
    "RESULTS_DF"
   ]
  }
 ],
 "metadata": {
  "kernelspec": {
   "display_name": "csda",
   "language": "python",
   "name": "python3"
  },
  "language_info": {
   "codemirror_mode": {
    "name": "ipython",
    "version": 3
   },
   "file_extension": ".py",
   "mimetype": "text/x-python",
   "name": "python",
   "nbconvert_exporter": "python",
   "pygments_lexer": "ipython3",
   "version": "3.11.9"
  }
 },
 "nbformat": 4,
 "nbformat_minor": 2
}
