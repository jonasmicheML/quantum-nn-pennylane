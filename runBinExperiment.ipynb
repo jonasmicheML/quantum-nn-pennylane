{
 "cells": [
  {
   "cell_type": "code",
   "execution_count": null,
   "metadata": {},
   "outputs": [],
   "source": [
    "from sklearn.preprocessing import MinMaxScaler\n",
    "import itertools\n",
    "import pandas as pd\n",
    "import torch\n",
    "\n",
    "# get our predefined functions (for data processing, etc.)\n",
    "import QCircNet.utils as ut\n",
    "\n",
    "# get our predefined quantum circuits and neural networks\n",
    "import QCircNet.circuits.CustomCircuits as cn\n",
    "import QCircNet.BinaryQuantumNN as qnn\n",
    "\n",
    "\n",
    "EXPERIMENT_ID = 0\n",
    "HYBRID = False\n",
    "\n",
    "X_PATH = \"QCircNet/data/X_apd_class6_7.npy\"\n",
    "Y_PATH = \"QCircNet/data/y_apd_class6_7.npy\"\n",
    "BIN_ENCODING = {6: 0, 7: 1}\n",
    "\n",
    "\n",
    "N_QUBITS = 4\n",
    "FEAT_PER_QUBIT = 4\n",
    "\n",
    "SCALER = MinMaxScaler()\n",
    "\n",
    "SUBSET = None\n",
    "\n",
    "EPOCHS = 10\n",
    "WEIGHT_PATH = f\"results/weights/bin/\"\n",
    "MODEL_PATH = f\"results/models/bin/\"\n",
    "RESULTS_PATH = f\"results/bin_model_results_expID_{EXPERIMENT_ID}.csv\"\n",
    "RESULTS_DF = pd.DataFrame()\n",
    "\n",
    "# for printing colored text output during training\n",
    "RED_TEXT = \"\\033[91m\"\n",
    "GREEN_TEXT = \"\\033[92m\"\n",
    "RESET_COLOR = \"\\033[0m\" "
   ]
  },
  {
   "cell_type": "code",
   "execution_count": 3,
   "metadata": {},
   "outputs": [
    {
     "name": "stdout",
     "output_type": "stream",
     "text": [
      "train:\t torch.Size([9746, 16]) torch.Size([9746])\n",
      "val:\t torch.Size([1219, 16]) torch.Size([1219])\n",
      "test:\t torch.Size([1218, 16]) torch.Size([1218])\n"
     ]
    }
   ],
   "source": [
    "# load the data\n",
    "X_train, X_val, X_test, y_train, y_val, y_test, _ = ut.load_and_prepare_data(X_PATH, Y_PATH, scaler=SCALER, bin_encoding=BIN_ENCODING, subset=SUBSET)\n",
    "\n",
    "# check shapes\n",
    "print(\"train:\\t\", X_train.shape, y_train.shape)\n",
    "print(\"val:\\t\", X_val.shape, y_val.shape)\n",
    "print(\"test:\\t\", X_test.shape, y_test.shape)"
   ]
  },
  {
   "cell_type": "code",
   "execution_count": 4,
   "metadata": {},
   "outputs": [
    {
     "data": {
      "text/plain": [
       "[QCircNet.circuits.CustomCircuits.Anusha2024Circuit,\n",
       " QCircNet.circuits.CustomCircuits.DoubleEntanglementVLCircuit,\n",
       " QCircNet.circuits.CustomCircuits.Ranga2024Circuit,\n",
       " QCircNet.circuits.CustomCircuits.Senokosov2024Circuit]"
      ]
     },
     "execution_count": 4,
     "metadata": {},
     "output_type": "execute_result"
    }
   ],
   "source": [
    "cn.get_custom_circuits()"
   ]
  },
  {
   "cell_type": "code",
   "execution_count": null,
   "metadata": {},
   "outputs": [],
   "source": [
    "circuits = [\n",
    "    cn.Ranga2024Circuit,\n",
    "    cn.Senokosov2024Circuit,\n",
    "    cn.Anusha2024Circuit,\n",
    "    cn.DoubleEntanglementVLCircuit,\n",
    "]\n",
    "\n",
    "runs = list(range(1, 11)) # runs are also used as seeds (reproducibility)\n",
    "learning_rates = [0.01, 0.001]"
   ]
  },
  {
   "cell_type": "code",
   "execution_count": 6,
   "metadata": {},
   "outputs": [
    {
     "name": "stdout",
     "output_type": "stream",
     "text": [
      "\u001b[91mRUN 1:\u001b[0m\n",
      " DoubleEntanglementVLCircuit \n",
      " lr: 0.001\n"
     ]
    },
    {
     "name": "stderr",
     "output_type": "stream",
     "text": [
      "Training progress: 100%|██████████| 304/304 [03:47<00:00,  1.34batch/s]\n"
     ]
    },
    {
     "name": "stdout",
     "output_type": "stream",
     "text": [
      "Epoch 1/10, Train-Loss: 0.5668, Val-Loss: 0.3372, Val-F1: 0.9818, Val-Precision: 0.9763, Val-Recall: 0.9872, Val-Accuracy: 0.9811\n"
     ]
    },
    {
     "name": "stderr",
     "output_type": "stream",
     "text": [
      "Training progress: 100%|██████████| 304/304 [03:38<00:00,  1.39batch/s]\n"
     ]
    },
    {
     "name": "stdout",
     "output_type": "stream",
     "text": [
      "Epoch 2/10, Train-Loss: 0.2283, Val-Loss: 0.1572, Val-F1: 0.9912, Val-Precision: 0.9952, Val-Recall: 0.9872, Val-Accuracy: 0.9910\n"
     ]
    },
    {
     "name": "stderr",
     "output_type": "stream",
     "text": [
      "Training progress: 100%|██████████| 304/304 [03:45<00:00,  1.35batch/s]\n"
     ]
    },
    {
     "name": "stdout",
     "output_type": "stream",
     "text": [
      "Epoch 3/10, Train-Loss: 0.1221, Val-Loss: 0.0998, Val-F1: 0.9944, Val-Precision: 0.9968, Val-Recall: 0.9920, Val-Accuracy: 0.9943\n"
     ]
    },
    {
     "name": "stderr",
     "output_type": "stream",
     "text": [
      "Training progress: 100%|██████████| 304/304 [03:40<00:00,  1.38batch/s]\n"
     ]
    },
    {
     "name": "stdout",
     "output_type": "stream",
     "text": [
      "Epoch 4/10, Train-Loss: 0.0834, Val-Loss: 0.0739, Val-F1: 0.9944, Val-Precision: 0.9968, Val-Recall: 0.9920, Val-Accuracy: 0.9943\n"
     ]
    },
    {
     "name": "stderr",
     "output_type": "stream",
     "text": [
      "Training progress: 100%|██████████| 304/304 [03:32<00:00,  1.43batch/s]\n"
     ]
    },
    {
     "name": "stdout",
     "output_type": "stream",
     "text": [
      "Epoch 5/10, Train-Loss: 0.0635, Val-Loss: 0.0585, Val-F1: 0.9944, Val-Precision: 0.9968, Val-Recall: 0.9920, Val-Accuracy: 0.9943\n"
     ]
    },
    {
     "name": "stderr",
     "output_type": "stream",
     "text": [
      "Training progress: 100%|██████████| 304/304 [03:45<00:00,  1.35batch/s]\n"
     ]
    },
    {
     "name": "stdout",
     "output_type": "stream",
     "text": [
      "Epoch 6/10, Train-Loss: 0.0512, Val-Loss: 0.0488, Val-F1: 0.9936, Val-Precision: 0.9952, Val-Recall: 0.9920, Val-Accuracy: 0.9934\n"
     ]
    },
    {
     "name": "stderr",
     "output_type": "stream",
     "text": [
      "Training progress: 100%|██████████| 304/304 [03:42<00:00,  1.36batch/s]\n"
     ]
    },
    {
     "name": "stdout",
     "output_type": "stream",
     "text": [
      "Epoch 7/10, Train-Loss: 0.0428, Val-Loss: 0.0418, Val-F1: 0.9936, Val-Precision: 0.9952, Val-Recall: 0.9920, Val-Accuracy: 0.9934\n"
     ]
    },
    {
     "name": "stderr",
     "output_type": "stream",
     "text": [
      "Training progress: 100%|██████████| 304/304 [03:36<00:00,  1.41batch/s]\n"
     ]
    },
    {
     "name": "stdout",
     "output_type": "stream",
     "text": [
      "Epoch 8/10, Train-Loss: 0.0359, Val-Loss: 0.0351, Val-F1: 0.9936, Val-Precision: 0.9952, Val-Recall: 0.9920, Val-Accuracy: 0.9934\n"
     ]
    },
    {
     "name": "stderr",
     "output_type": "stream",
     "text": [
      "Training progress: 100%|██████████| 304/304 [03:44<00:00,  1.36batch/s]\n"
     ]
    },
    {
     "name": "stdout",
     "output_type": "stream",
     "text": [
      "Epoch 9/10, Train-Loss: 0.0305, Val-Loss: 0.0313, Val-F1: 0.9936, Val-Precision: 0.9952, Val-Recall: 0.9920, Val-Accuracy: 0.9934\n"
     ]
    },
    {
     "name": "stderr",
     "output_type": "stream",
     "text": [
      "Training progress: 100%|██████████| 304/304 [03:44<00:00,  1.35batch/s]\n"
     ]
    },
    {
     "name": "stdout",
     "output_type": "stream",
     "text": [
      "Epoch 10/10, Train-Loss: 0.0268, Val-Loss: 0.0288, Val-F1: 0.9936, Val-Precision: 0.9952, Val-Recall: 0.9920, Val-Accuracy: 0.9934\n",
      "\n",
      "\u001b[92mRESULTS:\n",
      " F1-Score:0.9927826784282278, Precision:0.9967793880837359, Recall:0.9888178913738019, Accuracy:0.9926108374384236, Loss:0.02761727198958397 \u001b[0m \n",
      "\n",
      "\n"
     ]
    }
   ],
   "source": [
    "### RUN EXPERIMENT\n",
    "id = 0\n",
    "for seed, circuit, lr in itertools.product(runs, circuits, learning_rates):\n",
    "    print(f\"\"\"{RED_TEXT}RUN {id+1}:{RESET_COLOR}\\n {circuit.__name__} \\n lr: {lr}\"\"\")\n",
    "\n",
    "    # init the model\n",
    "    model = qnn.BinQuantumNeuralNetwork(n_qubits=N_QUBITS, features_per_qubit=FEAT_PER_QUBIT, circuit=circuit, seed=seed, hybrid=HYBRID)\n",
    "\n",
    "    path_identifier = f\"{circuit.__name__}_expID_{EXPERIMENT_ID}_dfID_{id}\"\n",
    "\n",
    "    # train the model (predifined optimizer, etc.)\n",
    "    trained_model, losses, val_losses, val_f1s, avg_epoch_time = ut.train_model(\n",
    "        model, X_train, y_train, X_val, y_val,\n",
    "        epochs=EPOCHS, batch_size=32, lr=lr, binary=True,\n",
    "    )\n",
    "    \n",
    "    # save trained model\n",
    "    model_path = MODEL_PATH+path_identifier+\".pth\"\n",
    "    torch.save(trained_model, model_path)\n",
    "\n",
    "    # evaluate\n",
    "    cross_entropy, accuracy, precision, recall, f1 = trained_model.evaluate(X_test, y_test)\n",
    "\n",
    "    results_dict = {\n",
    "        \"id\": id,\n",
    "        \"f1_score\": f1, \"precision\": precision, \"recall\": recall, \"accuracy\": accuracy, \"cross_entropy\": cross_entropy,\n",
    "        \"seed\": seed,\n",
    "        \"circuit\": circuit.__name__,\n",
    "        \"learning_rate\": lr,\n",
    "        \"loss_history\": losses,\n",
    "        \"val_loss_history\": val_losses,\n",
    "        \"val_f1_history\": val_f1s,\n",
    "        \"avg_epoch_time_seconds\": avg_epoch_time,\n",
    "        \"network_str\": str(model),\n",
    "        \"model_path\": model_path,\n",
    "        \"epochs\": EPOCHS,\n",
    "        \"n_qubits\": N_QUBITS,\n",
    "        \"features_per_qubit\": FEAT_PER_QUBIT,\n",
    "        \"scaler\" : str(SCALER).replace(\"()\", \"\")\n",
    "    }\n",
    "    print(f\"\\n{GREEN_TEXT}RESULTS:\\n F1-Score:{f1}, Precision:{precision}, Recall:{recall}, Accuracy:{accuracy}, Loss:{cross_entropy} {RESET_COLOR} \\n\\n\")\n",
    "    \n",
    "    # append the results_dict to the RESULTS_DF\n",
    "    RESULTS_DF = pd.concat([RESULTS_DF, pd.DataFrame([results_dict])], ignore_index=True)\n",
    "    RESULTS_DF.to_csv(path_or_buf=RESULTS_PATH) # save for each run (in case of a crash)\n",
    "\n",
    "    id += 1"
   ]
  },
  {
   "cell_type": "code",
   "execution_count": 7,
   "metadata": {},
   "outputs": [
    {
     "data": {
      "text/html": [
       "<div>\n",
       "<style scoped>\n",
       "    .dataframe tbody tr th:only-of-type {\n",
       "        vertical-align: middle;\n",
       "    }\n",
       "\n",
       "    .dataframe tbody tr th {\n",
       "        vertical-align: top;\n",
       "    }\n",
       "\n",
       "    .dataframe thead th {\n",
       "        text-align: right;\n",
       "    }\n",
       "</style>\n",
       "<table border=\"1\" class=\"dataframe\">\n",
       "  <thead>\n",
       "    <tr style=\"text-align: right;\">\n",
       "      <th></th>\n",
       "      <th>id</th>\n",
       "      <th>f1_score</th>\n",
       "      <th>precision</th>\n",
       "      <th>recall</th>\n",
       "      <th>accuracy</th>\n",
       "      <th>cross_entropy</th>\n",
       "      <th>seed</th>\n",
       "      <th>circuit</th>\n",
       "      <th>learning_rate</th>\n",
       "      <th>loss_history</th>\n",
       "      <th>val_loss_history</th>\n",
       "      <th>val_f1_history</th>\n",
       "      <th>avg_epoch_time_seconds</th>\n",
       "      <th>network_str</th>\n",
       "      <th>model_path</th>\n",
       "      <th>epochs</th>\n",
       "      <th>n_qubits</th>\n",
       "      <th>features_per_qubit</th>\n",
       "      <th>scaler</th>\n",
       "    </tr>\n",
       "  </thead>\n",
       "  <tbody>\n",
       "    <tr>\n",
       "      <th>0</th>\n",
       "      <td>0</td>\n",
       "      <td>0.992783</td>\n",
       "      <td>0.996779</td>\n",
       "      <td>0.988818</td>\n",
       "      <td>0.992611</td>\n",
       "      <td>0.027617</td>\n",
       "      <td>6</td>\n",
       "      <td>DoubleEntanglementVLCircuit</td>\n",
       "      <td>0.001</td>\n",
       "      <td>[0.5668240442479912, 0.228333259540561, 0.1221...</td>\n",
       "      <td>[0.3371672034263611, 0.15724627673625946, 0.09...</td>\n",
       "      <td>[0.9817605075337034, 0.9911929543634908, 0.994...</td>\n",
       "      <td>222.027834</td>\n",
       "      <td>BinQuantumNeuralNetwork(\\n  (quantum_circuit_n...</td>\n",
       "      <td>results/models/bin/DoubleEntanglementVLCircuit...</td>\n",
       "      <td>10</td>\n",
       "      <td>4</td>\n",
       "      <td>4</td>\n",
       "      <td>MinMaxScaler</td>\n",
       "    </tr>\n",
       "  </tbody>\n",
       "</table>\n",
       "</div>"
      ],
      "text/plain": [
       "   id  f1_score  precision    recall  accuracy  cross_entropy  seed  \\\n",
       "0   0  0.992783   0.996779  0.988818  0.992611       0.027617     6   \n",
       "\n",
       "                       circuit  learning_rate  \\\n",
       "0  DoubleEntanglementVLCircuit          0.001   \n",
       "\n",
       "                                        loss_history  \\\n",
       "0  [0.5668240442479912, 0.228333259540561, 0.1221...   \n",
       "\n",
       "                                    val_loss_history  \\\n",
       "0  [0.3371672034263611, 0.15724627673625946, 0.09...   \n",
       "\n",
       "                                      val_f1_history  avg_epoch_time_seconds  \\\n",
       "0  [0.9817605075337034, 0.9911929543634908, 0.994...              222.027834   \n",
       "\n",
       "                                         network_str  \\\n",
       "0  BinQuantumNeuralNetwork(\\n  (quantum_circuit_n...   \n",
       "\n",
       "                                          model_path  epochs  n_qubits  \\\n",
       "0  results/models/bin/DoubleEntanglementVLCircuit...      10         4   \n",
       "\n",
       "   features_per_qubit        scaler  \n",
       "0                   4  MinMaxScaler  "
      ]
     },
     "execution_count": 7,
     "metadata": {},
     "output_type": "execute_result"
    }
   ],
   "source": [
    "RESULTS_DF"
   ]
  }
 ],
 "metadata": {
  "kernelspec": {
   "display_name": "nuig-master",
   "language": "python",
   "name": "python3"
  },
  "language_info": {
   "codemirror_mode": {
    "name": "ipython",
    "version": 3
   },
   "file_extension": ".py",
   "mimetype": "text/x-python",
   "name": "python",
   "nbconvert_exporter": "python",
   "pygments_lexer": "ipython3",
   "version": "3.10.14"
  }
 },
 "nbformat": 4,
 "nbformat_minor": 2
}
