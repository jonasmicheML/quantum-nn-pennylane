{
 "cells": [
  {
   "cell_type": "code",
   "execution_count": null,
   "metadata": {},
   "outputs": [],
   "source": [
    "from sklearn.preprocessing import MinMaxScaler\n",
    "import itertools\n",
    "import pandas as pd\n",
    "import torch\n",
    "\n",
    "# get our predefined functions (for data processing, etc.)\n",
    "import QCircNet.utils as ut\n",
    "\n",
    "# get our predefined quantum circuits and neural networks\n",
    "import QCircNet.circuits.CustomCircuits as cn\n",
    "import QCircNet.BinaryQuantumNN as qnn\n",
    "\n",
    "\n",
    "EXPERIMENT_ID = 1\n",
    "HYBRID = False\n",
    "\n",
    "X_PATH = \"data/X_apd_class6_7.npy\"\n",
    "Y_PATH = \"data/y_apd_class6_7.npy\"\n",
    "BIN_ENCODING = {6: 0, 7: 1}\n",
    "\n",
    "\n",
    "N_QUBITS = 4\n",
    "FEAT_PER_QUBIT = 4\n",
    "\n",
    "SCALER = MinMaxScaler()\n",
    "\n",
    "SUBSET = None\n",
    "\n",
    "EPOCHS = 2\n",
    "WEIGHT_PATH = f\"results/weights/bin/\"\n",
    "MODEL_PATH = f\"results/models/bin/\"\n",
    "RESULTS_PATH = f\"results/bin_model_results_expID_{EXPERIMENT_ID}.csv\"\n",
    "RESULTS_DF = pd.DataFrame()\n",
    "\n",
    "VALIDATION = True\n",
    "\n",
    "# for printing colored text output during training\n",
    "RED_TEXT = \"\\033[91m\"\n",
    "GREEN_TEXT = \"\\033[92m\"\n",
    "RESET_COLOR = \"\\033[0m\" \n"
   ]
  },
  {
   "cell_type": "code",
   "execution_count": 2,
   "metadata": {},
   "outputs": [
    {
     "name": "stdout",
     "output_type": "stream",
     "text": [
      "train:\t torch.Size([9746, 16]) torch.Size([9746])\n",
      "val:\t torch.Size([1219, 16]) torch.Size([1219])\n",
      "test:\t torch.Size([1218, 16]) torch.Size([1218])\n"
     ]
    }
   ],
   "source": [
    "# load the data\n",
    "X_train, X_val, X_test, y_train, y_val, y_test, _ = ut.load_and_prepare_data(X_PATH, Y_PATH, scaler=SCALER, bin_encoding=BIN_ENCODING, subset=SUBSET)\n",
    "\n",
    "# check shapes\n",
    "print(\"train:\\t\", X_train.shape, y_train.shape)\n",
    "print(\"val:\\t\", X_val.shape, y_val.shape)\n",
    "print(\"test:\\t\", X_test.shape, y_test.shape)"
   ]
  },
  {
   "cell_type": "code",
   "execution_count": 3,
   "metadata": {},
   "outputs": [
    {
     "data": {
      "text/plain": [
       "[QCircNet.circuits.CustomCircuits.Anusha2024Circuit,\n",
       " QCircNet.circuits.CustomCircuits.DoubleEntanglementVLCircuit,\n",
       " QCircNet.circuits.CustomCircuits.Ranga2024Circuit,\n",
       " QCircNet.circuits.CustomCircuits.Senokosov2024Circuit]"
      ]
     },
     "execution_count": 3,
     "metadata": {},
     "output_type": "execute_result"
    }
   ],
   "source": [
    "cn.get_custom_circuits()"
   ]
  },
  {
   "cell_type": "code",
   "execution_count": 4,
   "metadata": {},
   "outputs": [],
   "source": [
    "circuits = [\n",
    "    cn.Ranga2024Circuit,\n",
    "    cn.Senokosov2024Circuit,\n",
    "    cn.Anusha2024Circuit,\n",
    "    cn.DoubleEntanglementVLCircuit,\n",
    "]\n",
    "\n",
    "runs = list(range(1, 11)) # runs are also used as seeds (reproducibility)\n",
    "learning_rates = [0.01, 0.001]"
   ]
  },
  {
   "cell_type": "code",
   "execution_count": 5,
   "metadata": {},
   "outputs": [
    {
     "name": "stdout",
     "output_type": "stream",
     "text": [
      "\u001b[91mRUN 1:\u001b[0m\n",
      " Ranga2024Circuit \n",
      " lr: 0.01\n"
     ]
    },
    {
     "name": "stderr",
     "output_type": "stream",
     "text": [
      "Training progress: 100%|██████████| 304/304 [01:32<00:00,  3.27batch/s]\n"
     ]
    },
    {
     "name": "stdout",
     "output_type": "stream",
     "text": [
      "Epoch 1/2, Train-Loss: 0.6578, Val-Loss: 0.6315, Val-F1: 0.6793, Val-Precision: 0.5144, Val-Recall: 1.0000, Val-Accuracy: 0.5144\n"
     ]
    },
    {
     "name": "stderr",
     "output_type": "stream",
     "text": [
      "Training progress: 100%|██████████| 304/304 [01:33<00:00,  3.26batch/s]\n"
     ]
    },
    {
     "name": "stdout",
     "output_type": "stream",
     "text": [
      "Epoch 2/2, Train-Loss: 0.6309, Val-Loss: 0.6312, Val-F1: 0.6793, Val-Precision: 0.5144, Val-Recall: 1.0000, Val-Accuracy: 0.5144\n",
      "\n",
      "\u001b[92mRESULTS:\n",
      " F1-Score:0.6789587852494577, Precision:0.5139573070607554, Recall:1.0, Accuracy:0.5139573070607554, Loss:0.6318760514259338 \u001b[0m \n",
      "\n",
      "\n",
      "\u001b[91mRUN 2:\u001b[0m\n",
      " Ranga2024Circuit \n",
      " lr: 0.001\n"
     ]
    },
    {
     "name": "stderr",
     "output_type": "stream",
     "text": [
      "Training progress: 100%|██████████| 304/304 [01:32<00:00,  3.28batch/s]\n"
     ]
    },
    {
     "name": "stdout",
     "output_type": "stream",
     "text": [
      "Epoch 1/2, Train-Loss: 0.7105, Val-Loss: 0.6970, Val-F1: 0.6793, Val-Precision: 0.5144, Val-Recall: 1.0000, Val-Accuracy: 0.5144\n"
     ]
    },
    {
     "name": "stderr",
     "output_type": "stream",
     "text": [
      "Training progress: 100%|██████████| 304/304 [01:32<00:00,  3.28batch/s]\n"
     ]
    },
    {
     "name": "stdout",
     "output_type": "stream",
     "text": [
      "Epoch 2/2, Train-Loss: 0.6905, Val-Loss: 0.6852, Val-F1: 0.6793, Val-Precision: 0.5144, Val-Recall: 1.0000, Val-Accuracy: 0.5144\n",
      "\n",
      "\u001b[92mRESULTS:\n",
      " F1-Score:0.6789587852494577, Precision:0.5139573070607554, Recall:1.0, Accuracy:0.5139573070607554, Loss:0.6863261461257935 \u001b[0m \n",
      "\n",
      "\n",
      "\u001b[91mRUN 3:\u001b[0m\n",
      " Senokosov2024Circuit \n",
      " lr: 0.01\n"
     ]
    },
    {
     "name": "stderr",
     "output_type": "stream",
     "text": [
      "Training progress: 100%|██████████| 304/304 [01:45<00:00,  2.89batch/s]\n"
     ]
    },
    {
     "name": "stdout",
     "output_type": "stream",
     "text": [
      "Epoch 1/2, Train-Loss: 0.6865, Val-Loss: 0.6780, Val-F1: 0.6793, Val-Precision: 0.5144, Val-Recall: 1.0000, Val-Accuracy: 0.5144\n"
     ]
    },
    {
     "name": "stderr",
     "output_type": "stream",
     "text": [
      "Training progress: 100%|██████████| 304/304 [01:44<00:00,  2.90batch/s]\n"
     ]
    },
    {
     "name": "stdout",
     "output_type": "stream",
     "text": [
      "Epoch 2/2, Train-Loss: 0.6751, Val-Loss: 0.6732, Val-F1: 0.6793, Val-Precision: 0.5144, Val-Recall: 1.0000, Val-Accuracy: 0.5144\n",
      "\n",
      "\u001b[92mRESULTS:\n",
      " F1-Score:0.6789587852494577, Precision:0.5139573070607554, Recall:1.0, Accuracy:0.5139573070607554, Loss:0.6738873720169067 \u001b[0m \n",
      "\n",
      "\n",
      "\u001b[91mRUN 4:\u001b[0m\n",
      " Senokosov2024Circuit \n",
      " lr: 0.001\n"
     ]
    },
    {
     "name": "stderr",
     "output_type": "stream",
     "text": [
      "Training progress: 100%|██████████| 304/304 [01:41<00:00,  3.01batch/s]\n"
     ]
    },
    {
     "name": "stdout",
     "output_type": "stream",
     "text": [
      "Epoch 1/2, Train-Loss: 0.7234, Val-Loss: 0.7090, Val-F1: 0.6793, Val-Precision: 0.5144, Val-Recall: 1.0000, Val-Accuracy: 0.5144\n"
     ]
    },
    {
     "name": "stderr",
     "output_type": "stream",
     "text": [
      "Training progress: 100%|██████████| 304/304 [01:41<00:00,  3.01batch/s]\n"
     ]
    },
    {
     "name": "stdout",
     "output_type": "stream",
     "text": [
      "Epoch 2/2, Train-Loss: 0.6976, Val-Loss: 0.6883, Val-F1: 0.6793, Val-Precision: 0.5144, Val-Recall: 1.0000, Val-Accuracy: 0.5144\n",
      "\n",
      "\u001b[92mRESULTS:\n",
      " F1-Score:0.6789587852494577, Precision:0.5139573070607554, Recall:1.0, Accuracy:0.5139573070607554, Loss:0.6885809302330017 \u001b[0m \n",
      "\n",
      "\n",
      "\u001b[91mRUN 5:\u001b[0m\n",
      " Anusha2024Circuit \n",
      " lr: 0.01\n"
     ]
    },
    {
     "name": "stderr",
     "output_type": "stream",
     "text": [
      "Training progress: 100%|██████████| 304/304 [00:30<00:00,  9.86batch/s]\n"
     ]
    },
    {
     "name": "stdout",
     "output_type": "stream",
     "text": [
      "Epoch 1/2, Train-Loss: 0.6504, Val-Loss: 0.6457, Val-F1: 0.7769, Val-Precision: 0.6365, Val-Recall: 0.9968, Val-Accuracy: 0.7055\n"
     ]
    },
    {
     "name": "stderr",
     "output_type": "stream",
     "text": [
      "Training progress: 100%|██████████| 304/304 [00:30<00:00,  9.86batch/s]\n"
     ]
    },
    {
     "name": "stdout",
     "output_type": "stream",
     "text": [
      "Epoch 2/2, Train-Loss: 0.6437, Val-Loss: 0.6454, Val-F1: 0.7588, Val-Precision: 0.6119, Val-Recall: 0.9984, Val-Accuracy: 0.6735\n",
      "\n",
      "\u001b[92mRESULTS:\n",
      " F1-Score:0.7542168674698795, Precision:0.6054158607350096, Recall:1.0, Accuracy:0.6650246305418719, Loss:0.6459696292877197 \u001b[0m \n",
      "\n",
      "\n",
      "\u001b[91mRUN 6:\u001b[0m\n",
      " Anusha2024Circuit \n",
      " lr: 0.001\n"
     ]
    },
    {
     "name": "stderr",
     "output_type": "stream",
     "text": [
      "Training progress: 100%|██████████| 304/304 [00:30<00:00,  9.85batch/s]\n"
     ]
    },
    {
     "name": "stdout",
     "output_type": "stream",
     "text": [
      "Epoch 1/2, Train-Loss: 0.6810, Val-Loss: 0.6718, Val-F1: 0.6884, Val-Precision: 0.5271, Val-Recall: 0.9920, Val-Accuracy: 0.5381\n"
     ]
    },
    {
     "name": "stderr",
     "output_type": "stream",
     "text": [
      "Training progress: 100%|██████████| 304/304 [00:31<00:00,  9.79batch/s]\n"
     ]
    },
    {
     "name": "stdout",
     "output_type": "stream",
     "text": [
      "Epoch 2/2, Train-Loss: 0.6618, Val-Loss: 0.6575, Val-F1: 0.7186, Val-Precision: 0.5608, Val-Recall: 1.0000, Val-Accuracy: 0.5972\n",
      "\n",
      "\u001b[92mRESULTS:\n",
      " F1-Score:0.7224466243508367, Precision:0.5654923215898826, Recall:1.0, Accuracy:0.6050903119868637, Loss:0.6569662690162659 \u001b[0m \n",
      "\n",
      "\n",
      "\u001b[91mRUN 7:\u001b[0m\n",
      " DoubleEntanglementVLCircuit \n",
      " lr: 0.01\n"
     ]
    },
    {
     "name": "stderr",
     "output_type": "stream",
     "text": [
      "Training progress: 100%|██████████| 304/304 [00:53<00:00,  5.68batch/s]\n"
     ]
    },
    {
     "name": "stdout",
     "output_type": "stream",
     "text": [
      "Epoch 1/2, Train-Loss: 0.6855, Val-Loss: 0.6757, Val-F1: 0.6864, Val-Precision: 0.5225, Val-Recall: 1.0000, Val-Accuracy: 0.5299\n"
     ]
    },
    {
     "name": "stderr",
     "output_type": "stream",
     "text": [
      "Training progress: 100%|██████████| 304/304 [00:53<00:00,  5.68batch/s]\n"
     ]
    },
    {
     "name": "stdout",
     "output_type": "stream",
     "text": [
      "Epoch 2/2, Train-Loss: 0.6741, Val-Loss: 0.6738, Val-F1: 0.6793, Val-Precision: 0.5144, Val-Recall: 1.0000, Val-Accuracy: 0.5144\n",
      "\n",
      "\u001b[92mRESULTS:\n",
      " F1-Score:0.6789587852494577, Precision:0.5139573070607554, Recall:1.0, Accuracy:0.5139573070607554, Loss:0.6745134592056274 \u001b[0m \n",
      "\n",
      "\n",
      "\u001b[91mRUN 8:\u001b[0m\n",
      " DoubleEntanglementVLCircuit \n",
      " lr: 0.001\n"
     ]
    },
    {
     "name": "stderr",
     "output_type": "stream",
     "text": [
      "Training progress: 100%|██████████| 304/304 [00:53<00:00,  5.70batch/s]\n"
     ]
    },
    {
     "name": "stdout",
     "output_type": "stream",
     "text": [
      "Epoch 1/2, Train-Loss: 0.7261, Val-Loss: 0.7059, Val-F1: 0.6793, Val-Precision: 0.5144, Val-Recall: 1.0000, Val-Accuracy: 0.5144\n"
     ]
    },
    {
     "name": "stderr",
     "output_type": "stream",
     "text": [
      "Training progress: 100%|██████████| 304/304 [00:53<00:00,  5.73batch/s]\n"
     ]
    },
    {
     "name": "stdout",
     "output_type": "stream",
     "text": [
      "Epoch 2/2, Train-Loss: 0.6971, Val-Loss: 0.6923, Val-F1: 0.6793, Val-Precision: 0.5144, Val-Recall: 1.0000, Val-Accuracy: 0.5144\n",
      "\n",
      "\u001b[92mRESULTS:\n",
      " F1-Score:0.6789587852494577, Precision:0.5139573070607554, Recall:1.0, Accuracy:0.5139573070607554, Loss:0.6920235753059387 \u001b[0m \n",
      "\n",
      "\n",
      "\u001b[91mRUN 9:\u001b[0m\n",
      " Ranga2024Circuit \n",
      " lr: 0.01\n"
     ]
    },
    {
     "name": "stderr",
     "output_type": "stream",
     "text": [
      "Training progress: 100%|██████████| 304/304 [01:44<00:00,  2.92batch/s]\n"
     ]
    },
    {
     "name": "stdout",
     "output_type": "stream",
     "text": [
      "Epoch 1/2, Train-Loss: 0.6383, Val-Loss: 0.6120, Val-F1: 0.8260, Val-Precision: 0.7116, Val-Recall: 0.9841, Val-Accuracy: 0.7867\n"
     ]
    },
    {
     "name": "stderr",
     "output_type": "stream",
     "text": [
      "Training progress: 100%|██████████| 304/304 [01:32<00:00,  3.27batch/s]\n"
     ]
    },
    {
     "name": "stdout",
     "output_type": "stream",
     "text": [
      "Epoch 2/2, Train-Loss: 0.6112, Val-Loss: 0.6110, Val-F1: 0.8283, Val-Precision: 0.7168, Val-Recall: 0.9809, Val-Accuracy: 0.7908\n",
      "\n",
      "\u001b[92mRESULTS:\n",
      " F1-Score:0.825016633399867, Precision:0.7069555302166477, Recall:0.9904153354632588, Accuracy:0.784072249589491, Loss:0.6101462841033936 \u001b[0m \n",
      "\n",
      "\n",
      "\u001b[91mRUN 10:\u001b[0m\n",
      " Ranga2024Circuit \n",
      " lr: 0.001\n"
     ]
    },
    {
     "name": "stderr",
     "output_type": "stream",
     "text": [
      "Training progress: 100%|██████████| 304/304 [01:30<00:00,  3.34batch/s]\n"
     ]
    },
    {
     "name": "stdout",
     "output_type": "stream",
     "text": [
      "Epoch 1/2, Train-Loss: 0.7104, Val-Loss: 0.6960, Val-F1: 0.7077, Val-Precision: 0.6007, Val-Recall: 0.8612, Val-Accuracy: 0.6341\n"
     ]
    },
    {
     "name": "stderr",
     "output_type": "stream",
     "text": [
      "Training progress: 100%|██████████| 304/304 [01:31<00:00,  3.31batch/s]\n"
     ]
    },
    {
     "name": "stdout",
     "output_type": "stream",
     "text": [
      "Epoch 2/2, Train-Loss: 0.6750, Val-Loss: 0.6553, Val-F1: 0.7837, Val-Precision: 0.6457, Val-Recall: 0.9968, Val-Accuracy: 0.7170\n",
      "\n",
      "\u001b[92mRESULTS:\n",
      " F1-Score:0.7817836812144212, Precision:0.6471204188481675, Recall:0.987220447284345, Accuracy:0.7167487684729064, Loss:0.6547402739524841 \u001b[0m \n",
      "\n",
      "\n",
      "\u001b[91mRUN 11:\u001b[0m\n",
      " Senokosov2024Circuit \n",
      " lr: 0.01\n"
     ]
    },
    {
     "name": "stderr",
     "output_type": "stream",
     "text": [
      "Training progress: 100%|██████████| 304/304 [01:42<00:00,  2.98batch/s]\n"
     ]
    },
    {
     "name": "stdout",
     "output_type": "stream",
     "text": [
      "Epoch 1/2, Train-Loss: 0.6030, Val-Loss: 0.5791, Val-F1: 0.9731, Val-Precision: 0.9640, Val-Recall: 0.9825, Val-Accuracy: 0.9721\n"
     ]
    },
    {
     "name": "stderr",
     "output_type": "stream",
     "text": [
      "Training progress: 100%|██████████| 304/304 [01:41<00:00,  2.99batch/s]\n"
     ]
    },
    {
     "name": "stdout",
     "output_type": "stream",
     "text": [
      "Epoch 2/2, Train-Loss: 0.5755, Val-Loss: 0.5755, Val-F1: 0.9728, Val-Precision: 0.9759, Val-Recall: 0.9697, Val-Accuracy: 0.9721\n",
      "\n",
      "\u001b[92mRESULTS:\n",
      " F1-Score:0.9695024077046549, Precision:0.9741935483870968, Recall:0.9648562300319489, Accuracy:0.9688013136288999, Loss:0.5751352906227112 \u001b[0m \n",
      "\n",
      "\n",
      "\u001b[91mRUN 12:\u001b[0m\n",
      " Senokosov2024Circuit \n",
      " lr: 0.001\n"
     ]
    },
    {
     "name": "stderr",
     "output_type": "stream",
     "text": [
      "Training progress: 100%|██████████| 304/304 [01:43<00:00,  2.93batch/s]\n"
     ]
    },
    {
     "name": "stdout",
     "output_type": "stream",
     "text": [
      "Epoch 1/2, Train-Loss: 0.6781, Val-Loss: 0.6565, Val-F1: 0.9702, Val-Precision: 0.9789, Val-Recall: 0.9617, Val-Accuracy: 0.9696\n"
     ]
    },
    {
     "name": "stderr",
     "output_type": "stream",
     "text": [
      "Training progress: 100%|██████████| 304/304 [01:41<00:00,  3.00batch/s]\n"
     ]
    },
    {
     "name": "stdout",
     "output_type": "stream",
     "text": [
      "Epoch 2/2, Train-Loss: 0.6399, Val-Loss: 0.6244, Val-F1: 0.9722, Val-Precision: 0.9698, Val-Recall: 0.9745, Val-Accuracy: 0.9713\n",
      "\n",
      "\u001b[92mRESULTS:\n",
      " F1-Score:0.9721115537848606, Precision:0.9697933227344993, Recall:0.9744408945686901, Accuracy:0.9712643678160919, Loss:0.6239631772041321 \u001b[0m \n",
      "\n",
      "\n",
      "\u001b[91mRUN 13:\u001b[0m\n",
      " Anusha2024Circuit \n",
      " lr: 0.01\n"
     ]
    },
    {
     "name": "stderr",
     "output_type": "stream",
     "text": [
      "Training progress: 100%|██████████| 304/304 [00:30<00:00,  9.87batch/s]\n"
     ]
    },
    {
     "name": "stdout",
     "output_type": "stream",
     "text": [
      "Epoch 1/2, Train-Loss: 0.6140, Val-Loss: 0.5483, Val-F1: 0.8924, Val-Precision: 0.9277, Val-Recall: 0.8596, Val-Accuracy: 0.8934\n"
     ]
    },
    {
     "name": "stderr",
     "output_type": "stream",
     "text": [
      "Training progress: 100%|██████████| 304/304 [00:30<00:00,  9.87batch/s]\n"
     ]
    },
    {
     "name": "stdout",
     "output_type": "stream",
     "text": [
      "Epoch 2/2, Train-Loss: 0.5475, Val-Loss: 0.5472, Val-F1: 0.9159, Val-Precision: 0.9115, Val-Recall: 0.9203, Val-Accuracy: 0.9130\n",
      "\n",
      "\u001b[92mRESULTS:\n",
      " F1-Score:0.905448717948718, Precision:0.9083601286173634, Recall:0.902555910543131, Accuracy:0.90311986863711, Loss:0.5484521389007568 \u001b[0m \n",
      "\n",
      "\n",
      "\u001b[91mRUN 14:\u001b[0m\n",
      " Anusha2024Circuit \n",
      " lr: 0.001\n"
     ]
    },
    {
     "name": "stderr",
     "output_type": "stream",
     "text": [
      "Training progress: 100%|██████████| 304/304 [00:31<00:00,  9.78batch/s]\n"
     ]
    },
    {
     "name": "stdout",
     "output_type": "stream",
     "text": [
      "Epoch 1/2, Train-Loss: 0.8386, Val-Loss: 0.7958, Val-F1: 0.0032, Val-Precision: 0.3333, Val-Recall: 0.0016, Val-Accuracy: 0.4848\n"
     ]
    },
    {
     "name": "stderr",
     "output_type": "stream",
     "text": [
      "Training progress: 100%|██████████| 304/304 [00:31<00:00,  9.77batch/s]\n"
     ]
    },
    {
     "name": "stdout",
     "output_type": "stream",
     "text": [
      "Epoch 2/2, Train-Loss: 0.7392, Val-Loss: 0.6816, Val-F1: 0.0526, Val-Precision: 0.8947, Val-Recall: 0.0271, Val-Accuracy: 0.4979\n",
      "\n",
      "\u001b[92mRESULTS:\n",
      " F1-Score:0.05855161787365177, Precision:0.8260869565217391, Recall:0.03035143769968051, Accuracy:0.49835796387520526, Loss:0.68187016248703 \u001b[0m \n",
      "\n",
      "\n",
      "\u001b[91mRUN 15:\u001b[0m\n",
      " DoubleEntanglementVLCircuit \n",
      " lr: 0.01\n"
     ]
    },
    {
     "name": "stderr",
     "output_type": "stream",
     "text": [
      "Training progress: 100%|██████████| 304/304 [00:54<00:00,  5.61batch/s]\n"
     ]
    },
    {
     "name": "stdout",
     "output_type": "stream",
     "text": [
      "Epoch 1/2, Train-Loss: 0.6086, Val-Loss: 0.5791, Val-F1: 0.9593, Val-Precision: 0.9258, Val-Recall: 0.9952, Val-Accuracy: 0.9565\n"
     ]
    },
    {
     "name": "stderr",
     "output_type": "stream",
     "text": [
      "Training progress: 100%|██████████| 304/304 [00:53<00:00,  5.63batch/s]\n"
     ]
    },
    {
     "name": "stdout",
     "output_type": "stream",
     "text": [
      "Epoch 2/2, Train-Loss: 0.5743, Val-Loss: 0.5731, Val-F1: 0.9592, Val-Precision: 0.9271, Val-Recall: 0.9936, Val-Accuracy: 0.9565\n",
      "\n",
      "\u001b[92mRESULTS:\n",
      " F1-Score:0.9577248270561107, Precision:0.922962962962963, Recall:0.9952076677316294, Accuracy:0.9548440065681445, Loss:0.5726228356361389 \u001b[0m \n",
      "\n",
      "\n",
      "\u001b[91mRUN 16:\u001b[0m\n",
      " DoubleEntanglementVLCircuit \n",
      " lr: 0.001\n"
     ]
    },
    {
     "name": "stderr",
     "output_type": "stream",
     "text": [
      "Training progress: 100%|██████████| 304/304 [00:53<00:00,  5.70batch/s]\n"
     ]
    },
    {
     "name": "stdout",
     "output_type": "stream",
     "text": [
      "Epoch 1/2, Train-Loss: 0.6885, Val-Loss: 0.6639, Val-F1: 0.2486, Val-Precision: 1.0000, Val-Recall: 0.1419, Val-Accuracy: 0.5587\n"
     ]
    },
    {
     "name": "stderr",
     "output_type": "stream",
     "text": [
      "Training progress: 100%|██████████| 304/304 [00:53<00:00,  5.70batch/s]\n"
     ]
    },
    {
     "name": "stdout",
     "output_type": "stream",
     "text": [
      "Epoch 2/2, Train-Loss: 0.6442, Val-Loss: 0.6328, Val-F1: 0.9494, Val-Precision: 0.9896, Val-Recall: 0.9123, Val-Accuracy: 0.9500\n",
      "\n",
      "\u001b[92mRESULTS:\n",
      " F1-Score:0.9495450785773366, Precision:0.9845626072041166, Recall:0.9169329073482428, Accuracy:0.9499178981937603, Loss:0.6327881217002869 \u001b[0m \n",
      "\n",
      "\n",
      "\u001b[91mRUN 17:\u001b[0m\n",
      " Ranga2024Circuit \n",
      " lr: 0.01\n"
     ]
    },
    {
     "name": "stderr",
     "output_type": "stream",
     "text": [
      "Training progress: 100%|██████████| 304/304 [01:30<00:00,  3.35batch/s]\n"
     ]
    },
    {
     "name": "stdout",
     "output_type": "stream",
     "text": [
      "Epoch 1/2, Train-Loss: 0.5967, Val-Loss: 0.5552, Val-F1: 0.8731, Val-Precision: 0.9029, Val-Recall: 0.8453, Val-Accuracy: 0.8737\n"
     ]
    },
    {
     "name": "stderr",
     "output_type": "stream",
     "text": [
      "Training progress: 100%|██████████| 304/304 [01:30<00:00,  3.36batch/s]\n"
     ]
    },
    {
     "name": "stdout",
     "output_type": "stream",
     "text": [
      "Epoch 2/2, Train-Loss: 0.5400, Val-Loss: 0.5367, Val-F1: 0.8872, Val-Precision: 0.9240, Val-Recall: 0.8533, Val-Accuracy: 0.8884\n",
      "\n",
      "\u001b[92mRESULTS:\n",
      " F1-Score:0.8938640132669984, Precision:0.9293103448275862, Recall:0.8610223642172524, Accuracy:0.8949096880131363, Loss:0.535975456237793 \u001b[0m \n",
      "\n",
      "\n",
      "\u001b[91mRUN 18:\u001b[0m\n",
      " Ranga2024Circuit \n",
      " lr: 0.001\n"
     ]
    },
    {
     "name": "stderr",
     "output_type": "stream",
     "text": [
      "Training progress: 100%|██████████| 304/304 [01:30<00:00,  3.37batch/s]\n"
     ]
    },
    {
     "name": "stdout",
     "output_type": "stream",
     "text": [
      "Epoch 1/2, Train-Loss: 0.6762, Val-Loss: 0.6540, Val-F1: 0.7962, Val-Precision: 0.9746, Val-Recall: 0.6730, Val-Accuracy: 0.8228\n"
     ]
    },
    {
     "name": "stderr",
     "output_type": "stream",
     "text": [
      "Training progress: 100%|██████████| 304/304 [01:30<00:00,  3.36batch/s]\n"
     ]
    },
    {
     "name": "stdout",
     "output_type": "stream",
     "text": [
      "Epoch 2/2, Train-Loss: 0.6397, Val-Loss: 0.6266, Val-F1: 0.8469, Val-Precision: 0.8852, Val-Recall: 0.8118, Val-Accuracy: 0.8491\n",
      "\n",
      "\u001b[92mRESULTS:\n",
      " F1-Score:0.8419301164725458, Precision:0.8784722222222222, Recall:0.8083067092651757, Accuracy:0.8440065681444991, Loss:0.6264469027519226 \u001b[0m \n",
      "\n",
      "\n",
      "\u001b[91mRUN 19:\u001b[0m\n",
      " Senokosov2024Circuit \n",
      " lr: 0.01\n"
     ]
    },
    {
     "name": "stderr",
     "output_type": "stream",
     "text": [
      "Training progress: 100%|██████████| 304/304 [01:40<00:00,  3.01batch/s]\n"
     ]
    },
    {
     "name": "stdout",
     "output_type": "stream",
     "text": [
      "Epoch 1/2, Train-Loss: 0.5419, Val-Loss: 0.5031, Val-F1: 0.9778, Val-Precision: 0.9702, Val-Recall: 0.9856, Val-Accuracy: 0.9770\n"
     ]
    },
    {
     "name": "stderr",
     "output_type": "stream",
     "text": [
      "Training progress: 100%|██████████| 304/304 [01:41<00:00,  3.01batch/s]\n"
     ]
    },
    {
     "name": "stdout",
     "output_type": "stream",
     "text": [
      "Epoch 2/2, Train-Loss: 0.5020, Val-Loss: 0.4966, Val-F1: 0.9808, Val-Precision: 0.9839, Val-Recall: 0.9777, Val-Accuracy: 0.9803\n",
      "\n",
      "\u001b[92mRESULTS:\n",
      " F1-Score:0.983159582999198, Precision:0.9871175523349437, Recall:0.9792332268370607, Accuracy:0.9827586206896551, Loss:0.49871376156806946 \u001b[0m \n",
      "\n",
      "\n",
      "\u001b[91mRUN 20:\u001b[0m\n",
      " Senokosov2024Circuit \n",
      " lr: 0.001\n"
     ]
    },
    {
     "name": "stderr",
     "output_type": "stream",
     "text": [
      "Training progress: 100%|██████████| 304/304 [01:41<00:00,  3.00batch/s]\n"
     ]
    },
    {
     "name": "stdout",
     "output_type": "stream",
     "text": [
      "Epoch 1/2, Train-Loss: 0.6530, Val-Loss: 0.6000, Val-F1: 0.8946, Val-Precision: 0.8125, Val-Recall: 0.9952, Val-Accuracy: 0.8794\n"
     ]
    },
    {
     "name": "stderr",
     "output_type": "stream",
     "text": [
      "Training progress: 100%|██████████| 304/304 [01:41<00:00,  3.00batch/s]\n"
     ]
    },
    {
     "name": "stdout",
     "output_type": "stream",
     "text": [
      "Epoch 2/2, Train-Loss: 0.5818, Val-Loss: 0.5650, Val-F1: 0.9732, Val-Precision: 0.9626, Val-Recall: 0.9841, Val-Accuracy: 0.9721\n",
      "\n",
      "\u001b[92mRESULTS:\n",
      " F1-Score:0.9724192277383766, Precision:0.9595645412130638, Recall:0.9856230031948882, Accuracy:0.9712643678160919, Loss:0.5672346949577332 \u001b[0m \n",
      "\n",
      "\n",
      "\u001b[91mRUN 21:\u001b[0m\n",
      " Anusha2024Circuit \n",
      " lr: 0.01\n"
     ]
    },
    {
     "name": "stderr",
     "output_type": "stream",
     "text": [
      "Training progress: 100%|██████████| 304/304 [00:30<00:00,  9.83batch/s]\n"
     ]
    },
    {
     "name": "stdout",
     "output_type": "stream",
     "text": [
      "Epoch 1/2, Train-Loss: 0.6162, Val-Loss: 0.4933, Val-F1: 0.9297, Val-Precision: 0.9012, Val-Recall: 0.9601, Val-Accuracy: 0.9253\n"
     ]
    },
    {
     "name": "stderr",
     "output_type": "stream",
     "text": [
      "Training progress: 100%|██████████| 304/304 [00:30<00:00,  9.81batch/s]\n"
     ]
    },
    {
     "name": "stdout",
     "output_type": "stream",
     "text": [
      "Epoch 2/2, Train-Loss: 0.4954, Val-Loss: 0.4924, Val-F1: 0.9363, Val-Precision: 0.9239, Val-Recall: 0.9490, Val-Accuracy: 0.9336\n",
      "\n",
      "\u001b[92mRESULTS:\n",
      " F1-Score:0.9185770750988143, Precision:0.9092331768388107, Recall:0.9281150159744409, Accuracy:0.9154351395730707, Loss:0.49781376123428345 \u001b[0m \n",
      "\n",
      "\n",
      "\u001b[91mRUN 22:\u001b[0m\n",
      " Anusha2024Circuit \n",
      " lr: 0.001\n"
     ]
    },
    {
     "name": "stderr",
     "output_type": "stream",
     "text": [
      "Training progress: 100%|██████████| 304/304 [00:31<00:00,  9.78batch/s]\n"
     ]
    },
    {
     "name": "stdout",
     "output_type": "stream",
     "text": [
      "Epoch 1/2, Train-Loss: 0.8036, Val-Loss: 0.7721, Val-F1: 0.0031, Val-Precision: 0.0417, Val-Recall: 0.0016, Val-Accuracy: 0.4676\n"
     ]
    },
    {
     "name": "stderr",
     "output_type": "stream",
     "text": [
      "Training progress: 100%|██████████| 304/304 [00:30<00:00,  9.85batch/s]\n"
     ]
    },
    {
     "name": "stdout",
     "output_type": "stream",
     "text": [
      "Epoch 2/2, Train-Loss: 0.7522, Val-Loss: 0.7304, Val-F1: 0.0126, Val-Precision: 0.5714, Val-Recall: 0.0064, Val-Accuracy: 0.4865\n",
      "\n",
      "\u001b[92mRESULTS:\n",
      " F1-Score:0.006299212598425197, Precision:0.2222222222222222, Recall:0.003194888178913738, Accuracy:0.4819376026272578, Loss:0.7313581109046936 \u001b[0m \n",
      "\n",
      "\n",
      "\u001b[91mRUN 23:\u001b[0m\n",
      " DoubleEntanglementVLCircuit \n",
      " lr: 0.01\n"
     ]
    },
    {
     "name": "stderr",
     "output_type": "stream",
     "text": [
      "Training progress: 100%|██████████| 304/304 [00:53<00:00,  5.68batch/s]\n"
     ]
    },
    {
     "name": "stdout",
     "output_type": "stream",
     "text": [
      "Epoch 1/2, Train-Loss: 0.6166, Val-Loss: 0.5789, Val-F1: 0.9806, Val-Precision: 0.9951, Val-Recall: 0.9665, Val-Accuracy: 0.9803\n"
     ]
    },
    {
     "name": "stderr",
     "output_type": "stream",
     "text": [
      "Training progress: 100%|██████████| 304/304 [00:53<00:00,  5.69batch/s]\n"
     ]
    },
    {
     "name": "stdout",
     "output_type": "stream",
     "text": [
      "Epoch 2/2, Train-Loss: 0.5461, Val-Loss: 0.5329, Val-F1: 0.9809, Val-Precision: 0.9809, Val-Recall: 0.9809, Val-Accuracy: 0.9803\n",
      "\n",
      "\u001b[92mRESULTS:\n",
      " F1-Score:0.9784172661870504, Precision:0.9792, Recall:0.9776357827476039, Accuracy:0.9778325123152709, Loss:0.5353050231933594 \u001b[0m \n",
      "\n",
      "\n",
      "\u001b[91mRUN 24:\u001b[0m\n",
      " DoubleEntanglementVLCircuit \n",
      " lr: 0.001\n"
     ]
    },
    {
     "name": "stderr",
     "output_type": "stream",
     "text": [
      "Training progress: 100%|██████████| 304/304 [00:53<00:00,  5.69batch/s]\n"
     ]
    },
    {
     "name": "stdout",
     "output_type": "stream",
     "text": [
      "Epoch 1/2, Train-Loss: 0.6889, Val-Loss: 0.6525, Val-F1: 0.5125, Val-Precision: 1.0000, Val-Recall: 0.3445, Val-Accuracy: 0.6628\n"
     ]
    },
    {
     "name": "stderr",
     "output_type": "stream",
     "text": [
      "Training progress: 100%|██████████| 304/304 [00:53<00:00,  5.69batch/s]\n"
     ]
    },
    {
     "name": "stdout",
     "output_type": "stream",
     "text": [
      "Epoch 2/2, Train-Loss: 0.6360, Val-Loss: 0.6232, Val-F1: 0.9585, Val-Precision: 0.9983, Val-Recall: 0.9219, Val-Accuracy: 0.9590\n",
      "\n",
      "\u001b[92mRESULTS:\n",
      " F1-Score:0.9593360995850623, Precision:0.998272884283247, Recall:0.9233226837060703, Accuracy:0.9597701149425287, Loss:0.6237241625785828 \u001b[0m \n",
      "\n",
      "\n",
      "\u001b[91mRUN 25:\u001b[0m\n",
      " Ranga2024Circuit \n",
      " lr: 0.01\n"
     ]
    },
    {
     "name": "stderr",
     "output_type": "stream",
     "text": [
      "Training progress: 100%|██████████| 304/304 [01:31<00:00,  3.34batch/s]\n"
     ]
    },
    {
     "name": "stdout",
     "output_type": "stream",
     "text": [
      "Epoch 1/2, Train-Loss: 0.6843, Val-Loss: 0.6615, Val-F1: 0.6793, Val-Precision: 0.5144, Val-Recall: 1.0000, Val-Accuracy: 0.5144\n"
     ]
    },
    {
     "name": "stderr",
     "output_type": "stream",
     "text": [
      "Training progress: 100%|██████████| 304/304 [01:30<00:00,  3.36batch/s]\n"
     ]
    },
    {
     "name": "stdout",
     "output_type": "stream",
     "text": [
      "Epoch 2/2, Train-Loss: 0.6595, Val-Loss: 0.6582, Val-F1: 0.6793, Val-Precision: 0.5144, Val-Recall: 1.0000, Val-Accuracy: 0.5144\n",
      "\n",
      "\u001b[92mRESULTS:\n",
      " F1-Score:0.6789587852494577, Precision:0.5139573070607554, Recall:1.0, Accuracy:0.5139573070607554, Loss:0.6579761505126953 \u001b[0m \n",
      "\n",
      "\n",
      "\u001b[91mRUN 26:\u001b[0m\n",
      " Ranga2024Circuit \n",
      " lr: 0.001\n"
     ]
    },
    {
     "name": "stderr",
     "output_type": "stream",
     "text": [
      "Training progress: 100%|██████████| 304/304 [01:30<00:00,  3.36batch/s]\n"
     ]
    },
    {
     "name": "stdout",
     "output_type": "stream",
     "text": [
      "Epoch 1/2, Train-Loss: 0.7247, Val-Loss: 0.7115, Val-F1: 0.6793, Val-Precision: 0.5144, Val-Recall: 1.0000, Val-Accuracy: 0.5144\n"
     ]
    },
    {
     "name": "stderr",
     "output_type": "stream",
     "text": [
      "Training progress: 100%|██████████| 304/304 [01:30<00:00,  3.34batch/s]\n"
     ]
    },
    {
     "name": "stdout",
     "output_type": "stream",
     "text": [
      "Epoch 2/2, Train-Loss: 0.7041, Val-Loss: 0.6953, Val-F1: 0.6793, Val-Precision: 0.5144, Val-Recall: 1.0000, Val-Accuracy: 0.5144\n",
      "\n",
      "\u001b[92mRESULTS:\n",
      " F1-Score:0.6789587852494577, Precision:0.5139573070607554, Recall:1.0, Accuracy:0.5139573070607554, Loss:0.6977708339691162 \u001b[0m \n",
      "\n",
      "\n",
      "\u001b[91mRUN 27:\u001b[0m\n",
      " Senokosov2024Circuit \n",
      " lr: 0.01\n"
     ]
    },
    {
     "name": "stderr",
     "output_type": "stream",
     "text": [
      "Training progress: 100%|██████████| 304/304 [01:41<00:00,  2.99batch/s]\n"
     ]
    },
    {
     "name": "stdout",
     "output_type": "stream",
     "text": [
      "Epoch 1/2, Train-Loss: 0.6799, Val-Loss: 0.6604, Val-F1: 0.6823, Val-Precision: 0.5178, Val-Recall: 1.0000, Val-Accuracy: 0.5209\n"
     ]
    },
    {
     "name": "stderr",
     "output_type": "stream",
     "text": [
      "Training progress: 100%|██████████| 304/304 [01:40<00:00,  3.01batch/s]\n"
     ]
    },
    {
     "name": "stdout",
     "output_type": "stream",
     "text": [
      "Epoch 2/2, Train-Loss: 0.6595, Val-Loss: 0.6567, Val-F1: 0.6793, Val-Precision: 0.5144, Val-Recall: 1.0000, Val-Accuracy: 0.5144\n",
      "\n",
      "\u001b[92mRESULTS:\n",
      " F1-Score:0.6789587852494577, Precision:0.5139573070607554, Recall:1.0, Accuracy:0.5139573070607554, Loss:0.6575114727020264 \u001b[0m \n",
      "\n",
      "\n",
      "\u001b[91mRUN 28:\u001b[0m\n",
      " Senokosov2024Circuit \n",
      " lr: 0.001\n"
     ]
    },
    {
     "name": "stderr",
     "output_type": "stream",
     "text": [
      "Training progress: 100%|██████████| 304/304 [01:41<00:00,  2.99batch/s]\n"
     ]
    },
    {
     "name": "stdout",
     "output_type": "stream",
     "text": [
      "Epoch 1/2, Train-Loss: 0.7483, Val-Loss: 0.7097, Val-F1: 0.6793, Val-Precision: 0.5144, Val-Recall: 1.0000, Val-Accuracy: 0.5144\n"
     ]
    },
    {
     "name": "stderr",
     "output_type": "stream",
     "text": [
      "Training progress: 100%|██████████| 304/304 [01:41<00:00,  3.01batch/s]\n"
     ]
    },
    {
     "name": "stdout",
     "output_type": "stream",
     "text": [
      "Epoch 2/2, Train-Loss: 0.6916, Val-Loss: 0.6805, Val-F1: 0.6793, Val-Precision: 0.5144, Val-Recall: 1.0000, Val-Accuracy: 0.5144\n",
      "\n",
      "\u001b[92mRESULTS:\n",
      " F1-Score:0.6789587852494577, Precision:0.5139573070607554, Recall:1.0, Accuracy:0.5139573070607554, Loss:0.6809514760971069 \u001b[0m \n",
      "\n",
      "\n",
      "\u001b[91mRUN 29:\u001b[0m\n",
      " Anusha2024Circuit \n",
      " lr: 0.01\n"
     ]
    },
    {
     "name": "stderr",
     "output_type": "stream",
     "text": [
      "Training progress: 100%|██████████| 304/304 [00:30<00:00,  9.84batch/s]\n"
     ]
    },
    {
     "name": "stdout",
     "output_type": "stream",
     "text": [
      "Epoch 1/2, Train-Loss: 0.6856, Val-Loss: 0.6467, Val-F1: 0.6955, Val-Precision: 0.5332, Val-Recall: 1.0000, Val-Accuracy: 0.5496\n"
     ]
    },
    {
     "name": "stderr",
     "output_type": "stream",
     "text": [
      "Training progress: 100%|██████████| 304/304 [00:31<00:00,  9.75batch/s]\n"
     ]
    },
    {
     "name": "stdout",
     "output_type": "stream",
     "text": [
      "Epoch 2/2, Train-Loss: 0.6488, Val-Loss: 0.6468, Val-F1: 0.6913, Val-Precision: 0.5282, Val-Recall: 1.0000, Val-Accuracy: 0.5406\n",
      "\n",
      "\u001b[92mRESULTS:\n",
      " F1-Score:0.6913307564881281, Precision:0.5282700421940928, Recall:1.0, Accuracy:0.5410509031198686, Loss:0.6482442021369934 \u001b[0m \n",
      "\n",
      "\n",
      "\u001b[91mRUN 30:\u001b[0m\n",
      " Anusha2024Circuit \n",
      " lr: 0.001\n"
     ]
    },
    {
     "name": "stderr",
     "output_type": "stream",
     "text": [
      "Training progress: 100%|██████████| 304/304 [00:30<00:00,  9.82batch/s]\n"
     ]
    },
    {
     "name": "stdout",
     "output_type": "stream",
     "text": [
      "Epoch 1/2, Train-Loss: 0.7723, Val-Loss: 0.7620, Val-F1: 0.6793, Val-Precision: 0.5144, Val-Recall: 1.0000, Val-Accuracy: 0.5144\n"
     ]
    },
    {
     "name": "stderr",
     "output_type": "stream",
     "text": [
      "Training progress: 100%|██████████| 304/304 [00:31<00:00,  9.79batch/s]\n"
     ]
    },
    {
     "name": "stdout",
     "output_type": "stream",
     "text": [
      "Epoch 2/2, Train-Loss: 0.7525, Val-Loss: 0.7362, Val-F1: 0.6793, Val-Precision: 0.5144, Val-Recall: 1.0000, Val-Accuracy: 0.5144\n",
      "\n",
      "\u001b[92mRESULTS:\n",
      " F1-Score:0.6789587852494577, Precision:0.5139573070607554, Recall:1.0, Accuracy:0.5139573070607554, Loss:0.7378169298171997 \u001b[0m \n",
      "\n",
      "\n",
      "\u001b[91mRUN 31:\u001b[0m\n",
      " DoubleEntanglementVLCircuit \n",
      " lr: 0.01\n"
     ]
    },
    {
     "name": "stderr",
     "output_type": "stream",
     "text": [
      "Training progress: 100%|██████████| 304/304 [00:53<00:00,  5.70batch/s]\n"
     ]
    },
    {
     "name": "stdout",
     "output_type": "stream",
     "text": [
      "Epoch 1/2, Train-Loss: 0.6743, Val-Loss: 0.6560, Val-F1: 0.6875, Val-Precision: 0.5238, Val-Recall: 1.0000, Val-Accuracy: 0.5324\n"
     ]
    },
    {
     "name": "stderr",
     "output_type": "stream",
     "text": [
      "Training progress: 100%|██████████| 304/304 [00:53<00:00,  5.69batch/s]\n"
     ]
    },
    {
     "name": "stdout",
     "output_type": "stream",
     "text": [
      "Epoch 2/2, Train-Loss: 0.6578, Val-Loss: 0.6560, Val-F1: 0.6830, Val-Precision: 0.5186, Val-Recall: 1.0000, Val-Accuracy: 0.5226\n",
      "\n",
      "\u001b[92mRESULTS:\n",
      " F1-Score:0.6849015317286652, Precision:0.5207986688851913, Recall:1.0, Accuracy:0.5270935960591133, Loss:0.6569909453392029 \u001b[0m \n",
      "\n",
      "\n",
      "\u001b[91mRUN 32:\u001b[0m\n",
      " DoubleEntanglementVLCircuit \n",
      " lr: 0.001\n"
     ]
    },
    {
     "name": "stderr",
     "output_type": "stream",
     "text": [
      "Training progress: 100%|██████████| 304/304 [00:53<00:00,  5.70batch/s]\n"
     ]
    },
    {
     "name": "stdout",
     "output_type": "stream",
     "text": [
      "Epoch 1/2, Train-Loss: 0.7356, Val-Loss: 0.7168, Val-F1: 0.6793, Val-Precision: 0.5144, Val-Recall: 1.0000, Val-Accuracy: 0.5144\n"
     ]
    },
    {
     "name": "stderr",
     "output_type": "stream",
     "text": [
      "Training progress: 100%|██████████| 304/304 [00:53<00:00,  5.67batch/s]\n"
     ]
    },
    {
     "name": "stdout",
     "output_type": "stream",
     "text": [
      "Epoch 2/2, Train-Loss: 0.7056, Val-Loss: 0.6928, Val-F1: 0.6793, Val-Precision: 0.5144, Val-Recall: 1.0000, Val-Accuracy: 0.5144\n",
      "\n",
      "\u001b[92mRESULTS:\n",
      " F1-Score:0.6789587852494577, Precision:0.5139573070607554, Recall:1.0, Accuracy:0.5139573070607554, Loss:0.693560779094696 \u001b[0m \n",
      "\n",
      "\n",
      "\u001b[91mRUN 33:\u001b[0m\n",
      " Ranga2024Circuit \n",
      " lr: 0.01\n"
     ]
    },
    {
     "name": "stderr",
     "output_type": "stream",
     "text": [
      "Training progress: 100%|██████████| 304/304 [01:30<00:00,  3.36batch/s]\n"
     ]
    },
    {
     "name": "stdout",
     "output_type": "stream",
     "text": [
      "Epoch 1/2, Train-Loss: 0.6111, Val-Loss: 0.5800, Val-F1: 0.8408, Val-Precision: 0.8047, Val-Recall: 0.8804, Val-Accuracy: 0.8285\n"
     ]
    },
    {
     "name": "stderr",
     "output_type": "stream",
     "text": [
      "Training progress: 100%|██████████| 304/304 [01:30<00:00,  3.36batch/s]\n"
     ]
    },
    {
     "name": "stdout",
     "output_type": "stream",
     "text": [
      "Epoch 2/2, Train-Loss: 0.5851, Val-Loss: 0.5806, Val-F1: 0.8534, Val-Precision: 0.8879, Val-Recall: 0.8214, Val-Accuracy: 0.8548\n",
      "\n",
      "\u001b[92mRESULTS:\n",
      " F1-Score:0.8356500408830744, Precision:0.8559463986599665, Recall:0.8162939297124601, Accuracy:0.8349753694581281, Loss:0.5820357799530029 \u001b[0m \n",
      "\n",
      "\n",
      "\u001b[91mRUN 34:\u001b[0m\n",
      " Ranga2024Circuit \n",
      " lr: 0.001\n"
     ]
    },
    {
     "name": "stderr",
     "output_type": "stream",
     "text": [
      "Training progress: 100%|██████████| 304/304 [01:30<00:00,  3.36batch/s]\n"
     ]
    },
    {
     "name": "stdout",
     "output_type": "stream",
     "text": [
      "Epoch 1/2, Train-Loss: 0.6726, Val-Loss: 0.6556, Val-F1: 0.6984, Val-Precision: 0.5525, Val-Recall: 0.9490, Val-Accuracy: 0.5783\n"
     ]
    },
    {
     "name": "stderr",
     "output_type": "stream",
     "text": [
      "Training progress: 100%|██████████| 304/304 [01:30<00:00,  3.35batch/s]\n"
     ]
    },
    {
     "name": "stdout",
     "output_type": "stream",
     "text": [
      "Epoch 2/2, Train-Loss: 0.6465, Val-Loss: 0.6377, Val-F1: 0.8297, Val-Precision: 0.7576, Val-Recall: 0.9171, Val-Accuracy: 0.8064\n",
      "\n",
      "\u001b[92mRESULTS:\n",
      " F1-Score:0.8329654157468727, Precision:0.772169167803547, Recall:0.9041533546325878, Accuracy:0.8136288998357963, Loss:0.6381738781929016 \u001b[0m \n",
      "\n",
      "\n",
      "\u001b[91mRUN 35:\u001b[0m\n",
      " Senokosov2024Circuit \n",
      " lr: 0.01\n"
     ]
    },
    {
     "name": "stderr",
     "output_type": "stream",
     "text": [
      "Training progress: 100%|██████████| 304/304 [01:40<00:00,  3.01batch/s]\n"
     ]
    },
    {
     "name": "stdout",
     "output_type": "stream",
     "text": [
      "Epoch 1/2, Train-Loss: 0.6067, Val-Loss: 0.5702, Val-F1: 0.8847, Val-Precision: 0.8068, Val-Recall: 0.9793, Val-Accuracy: 0.8687\n"
     ]
    },
    {
     "name": "stderr",
     "output_type": "stream",
     "text": [
      "Training progress: 100%|██████████| 304/304 [01:41<00:00,  3.00batch/s]\n"
     ]
    },
    {
     "name": "stdout",
     "output_type": "stream",
     "text": [
      "Epoch 2/2, Train-Loss: 0.5636, Val-Loss: 0.5572, Val-F1: 0.8804, Val-Precision: 0.9185, Val-Recall: 0.8453, Val-Accuracy: 0.8819\n",
      "\n",
      "\u001b[92mRESULTS:\n",
      " F1-Score:0.869857262804366, Precision:0.9168141592920354, Recall:0.8274760383386581, Accuracy:0.8727422003284072, Loss:0.558218777179718 \u001b[0m \n",
      "\n",
      "\n",
      "\u001b[91mRUN 36:\u001b[0m\n",
      " Senokosov2024Circuit \n",
      " lr: 0.001\n"
     ]
    },
    {
     "name": "stderr",
     "output_type": "stream",
     "text": [
      "Training progress: 100%|██████████| 304/304 [01:41<00:00,  3.00batch/s]\n"
     ]
    },
    {
     "name": "stdout",
     "output_type": "stream",
     "text": [
      "Epoch 1/2, Train-Loss: 0.6875, Val-Loss: 0.6479, Val-F1: 0.7934, Val-Precision: 0.6610, Val-Recall: 0.9920, Val-Accuracy: 0.7342\n"
     ]
    },
    {
     "name": "stderr",
     "output_type": "stream",
     "text": [
      "Training progress: 100%|██████████| 304/304 [01:41<00:00,  3.00batch/s]\n"
     ]
    },
    {
     "name": "stdout",
     "output_type": "stream",
     "text": [
      "Epoch 2/2, Train-Loss: 0.6326, Val-Loss: 0.6225, Val-F1: 0.8466, Val-Precision: 0.7393, Val-Recall: 0.9904, Val-Accuracy: 0.8154\n",
      "\n",
      "\u001b[92mRESULTS:\n",
      " F1-Score:0.8595271210013908, Precision:0.7610837438423645, Recall:0.987220447284345, Accuracy:0.8341543513957307, Loss:0.6215617060661316 \u001b[0m \n",
      "\n",
      "\n",
      "\u001b[91mRUN 37:\u001b[0m\n",
      " Anusha2024Circuit \n",
      " lr: 0.01\n"
     ]
    },
    {
     "name": "stderr",
     "output_type": "stream",
     "text": [
      "Training progress: 100%|██████████| 304/304 [00:31<00:00,  9.79batch/s]\n"
     ]
    },
    {
     "name": "stdout",
     "output_type": "stream",
     "text": [
      "Epoch 1/2, Train-Loss: 0.5740, Val-Loss: 0.5674, Val-F1: 0.8900, Val-Precision: 0.8283, Val-Recall: 0.9617, Val-Accuracy: 0.8778\n"
     ]
    },
    {
     "name": "stderr",
     "output_type": "stream",
     "text": [
      "Training progress: 100%|██████████| 304/304 [00:30<00:00,  9.84batch/s]\n"
     ]
    },
    {
     "name": "stdout",
     "output_type": "stream",
     "text": [
      "Epoch 2/2, Train-Loss: 0.5681, Val-Loss: 0.5675, Val-F1: 0.8997, Val-Precision: 0.8477, Val-Recall: 0.9585, Val-Accuracy: 0.8901\n",
      "\n",
      "\u001b[92mRESULTS:\n",
      " F1-Score:0.8882265275707899, Precision:0.8324022346368715, Recall:0.952076677316294, Accuracy:0.8768472906403941, Loss:0.5679851174354553 \u001b[0m \n",
      "\n",
      "\n",
      "\u001b[91mRUN 38:\u001b[0m\n",
      " Anusha2024Circuit \n",
      " lr: 0.001\n"
     ]
    },
    {
     "name": "stderr",
     "output_type": "stream",
     "text": [
      "Training progress: 100%|██████████| 304/304 [00:31<00:00,  9.78batch/s]\n"
     ]
    },
    {
     "name": "stdout",
     "output_type": "stream",
     "text": [
      "Epoch 1/2, Train-Loss: 0.6019, Val-Loss: 0.5918, Val-F1: 0.8948, Val-Precision: 0.9080, Val-Recall: 0.8820, Val-Accuracy: 0.8934\n"
     ]
    },
    {
     "name": "stderr",
     "output_type": "stream",
     "text": [
      "Training progress: 100%|██████████| 304/304 [00:31<00:00,  9.80batch/s]\n"
     ]
    },
    {
     "name": "stdout",
     "output_type": "stream",
     "text": [
      "Epoch 2/2, Train-Loss: 0.5846, Val-Loss: 0.5790, Val-F1: 0.8939, Val-Precision: 0.8946, Val-Recall: 0.8931, Val-Accuracy: 0.8909\n",
      "\n",
      "\u001b[92mRESULTS:\n",
      " F1-Score:0.8709677419354839, Precision:0.8794788273615635, Recall:0.8626198083067093, Accuracy:0.8686371100164204, Loss:0.5791736245155334 \u001b[0m \n",
      "\n",
      "\n",
      "\u001b[91mRUN 39:\u001b[0m\n",
      " DoubleEntanglementVLCircuit \n",
      " lr: 0.01\n"
     ]
    },
    {
     "name": "stderr",
     "output_type": "stream",
     "text": [
      "Training progress: 100%|██████████| 304/304 [00:53<00:00,  5.71batch/s]\n"
     ]
    },
    {
     "name": "stdout",
     "output_type": "stream",
     "text": [
      "Epoch 1/2, Train-Loss: 0.6232, Val-Loss: 0.5873, Val-F1: 0.8728, Val-Precision: 0.7872, Val-Recall: 0.9793, Val-Accuracy: 0.8532\n"
     ]
    },
    {
     "name": "stderr",
     "output_type": "stream",
     "text": [
      "Training progress: 100%|██████████| 304/304 [00:53<00:00,  5.69batch/s]\n"
     ]
    },
    {
     "name": "stdout",
     "output_type": "stream",
     "text": [
      "Epoch 2/2, Train-Loss: 0.5549, Val-Loss: 0.5428, Val-F1: 0.9005, Val-Precision: 0.8920, Val-Recall: 0.9091, Val-Accuracy: 0.8966\n",
      "\n",
      "\u001b[92mRESULTS:\n",
      " F1-Score:0.8832, Precision:0.8846153846153846, Recall:0.8817891373801917, Accuracy:0.8801313628899836, Loss:0.5423708558082581 \u001b[0m \n",
      "\n",
      "\n",
      "\u001b[91mRUN 40:\u001b[0m\n",
      " DoubleEntanglementVLCircuit \n",
      " lr: 0.001\n"
     ]
    },
    {
     "name": "stderr",
     "output_type": "stream",
     "text": [
      "Training progress: 100%|██████████| 304/304 [00:53<00:00,  5.70batch/s]\n"
     ]
    },
    {
     "name": "stdout",
     "output_type": "stream",
     "text": [
      "Epoch 1/2, Train-Loss: 0.6636, Val-Loss: 0.6473, Val-F1: 0.7102, Val-Precision: 0.5511, Val-Recall: 0.9984, Val-Accuracy: 0.5808\n"
     ]
    },
    {
     "name": "stderr",
     "output_type": "stream",
     "text": [
      "Training progress: 100%|██████████| 304/304 [00:53<00:00,  5.67batch/s]\n"
     ]
    },
    {
     "name": "stdout",
     "output_type": "stream",
     "text": [
      "Epoch 2/2, Train-Loss: 0.6402, Val-Loss: 0.6343, Val-F1: 0.7921, Val-Precision: 0.6572, Val-Recall: 0.9968, Val-Accuracy: 0.7309\n",
      "\n",
      "\u001b[92mRESULTS:\n",
      " F1-Score:0.7953964194373402, Precision:0.6631130063965884, Recall:0.9936102236421726, Accuracy:0.7372742200328407, Loss:0.6340875029563904 \u001b[0m \n",
      "\n",
      "\n",
      "\u001b[91mRUN 41:\u001b[0m\n",
      " Ranga2024Circuit \n",
      " lr: 0.01\n"
     ]
    },
    {
     "name": "stderr",
     "output_type": "stream",
     "text": [
      "Training progress: 100%|██████████| 304/304 [01:30<00:00,  3.35batch/s]\n"
     ]
    },
    {
     "name": "stdout",
     "output_type": "stream",
     "text": [
      "Epoch 1/2, Train-Loss: 0.5631, Val-Loss: 0.5251, Val-F1: 0.8445, Val-Precision: 0.7983, Val-Recall: 0.8963, Val-Accuracy: 0.8302\n"
     ]
    },
    {
     "name": "stderr",
     "output_type": "stream",
     "text": [
      "Training progress: 100%|██████████| 304/304 [01:30<00:00,  3.37batch/s]\n"
     ]
    },
    {
     "name": "stdout",
     "output_type": "stream",
     "text": [
      "Epoch 2/2, Train-Loss: 0.5189, Val-Loss: 0.5226, Val-F1: 0.8364, Val-Precision: 0.7804, Val-Recall: 0.9011, Val-Accuracy: 0.8187\n",
      "\n",
      "\u001b[92mRESULTS:\n",
      " F1-Score:0.8381804623415362, Precision:0.786013986013986, Recall:0.8977635782747604, Accuracy:0.8218390804597702, Loss:0.5147217512130737 \u001b[0m \n",
      "\n",
      "\n",
      "\u001b[91mRUN 42:\u001b[0m\n",
      " Ranga2024Circuit \n",
      " lr: 0.001\n"
     ]
    },
    {
     "name": "stderr",
     "output_type": "stream",
     "text": [
      "Training progress: 100%|██████████| 304/304 [01:30<00:00,  3.35batch/s]\n"
     ]
    },
    {
     "name": "stdout",
     "output_type": "stream",
     "text": [
      "Epoch 1/2, Train-Loss: 0.6751, Val-Loss: 0.6510, Val-F1: 0.6928, Val-Precision: 0.5300, Val-Recall: 1.0000, Val-Accuracy: 0.5439\n"
     ]
    },
    {
     "name": "stderr",
     "output_type": "stream",
     "text": [
      "Training progress: 100%|██████████| 304/304 [01:30<00:00,  3.36batch/s]\n"
     ]
    },
    {
     "name": "stdout",
     "output_type": "stream",
     "text": [
      "Epoch 2/2, Train-Loss: 0.6241, Val-Loss: 0.6024, Val-F1: 0.8029, Val-Precision: 0.6891, Val-Recall: 0.9617, Val-Accuracy: 0.7572\n",
      "\n",
      "\u001b[92mRESULTS:\n",
      " F1-Score:0.8060109289617486, Precision:0.7040572792362768, Recall:0.9424920127795527, Accuracy:0.7668308702791461, Loss:0.6001540422439575 \u001b[0m \n",
      "\n",
      "\n",
      "\u001b[91mRUN 43:\u001b[0m\n",
      " Senokosov2024Circuit \n",
      " lr: 0.01\n"
     ]
    },
    {
     "name": "stderr",
     "output_type": "stream",
     "text": [
      "Training progress: 100%|██████████| 304/304 [01:41<00:00,  3.01batch/s]\n"
     ]
    },
    {
     "name": "stdout",
     "output_type": "stream",
     "text": [
      "Epoch 1/2, Train-Loss: 0.5685, Val-Loss: 0.5180, Val-F1: 0.9675, Val-Precision: 0.9607, Val-Recall: 0.9745, Val-Accuracy: 0.9664\n"
     ]
    },
    {
     "name": "stderr",
     "output_type": "stream",
     "text": [
      "Training progress: 100%|██████████| 304/304 [01:41<00:00,  2.99batch/s]\n"
     ]
    },
    {
     "name": "stdout",
     "output_type": "stream",
     "text": [
      "Epoch 2/2, Train-Loss: 0.4694, Val-Loss: 0.4482, Val-F1: 0.9617, Val-Precision: 0.9632, Val-Recall: 0.9601, Val-Accuracy: 0.9606\n",
      "\n",
      "\u001b[92mRESULTS:\n",
      " F1-Score:0.9540412044374009, Precision:0.9465408805031447, Recall:0.9616613418530351, Accuracy:0.9523809523809523, Loss:0.44837087392807007 \u001b[0m \n",
      "\n",
      "\n",
      "\u001b[91mRUN 44:\u001b[0m\n",
      " Senokosov2024Circuit \n",
      " lr: 0.001\n"
     ]
    },
    {
     "name": "stderr",
     "output_type": "stream",
     "text": [
      "Training progress: 100%|██████████| 304/304 [01:41<00:00,  2.99batch/s]\n"
     ]
    },
    {
     "name": "stdout",
     "output_type": "stream",
     "text": [
      "Epoch 1/2, Train-Loss: 0.7148, Val-Loss: 0.6406, Val-F1: 0.8515, Val-Precision: 0.7432, Val-Recall: 0.9968, Val-Accuracy: 0.8212\n"
     ]
    },
    {
     "name": "stderr",
     "output_type": "stream",
     "text": [
      "Training progress: 100%|██████████| 304/304 [01:41<00:00,  3.00batch/s]\n"
     ]
    },
    {
     "name": "stdout",
     "output_type": "stream",
     "text": [
      "Epoch 2/2, Train-Loss: 0.6053, Val-Loss: 0.5813, Val-F1: 0.9440, Val-Precision: 0.8978, Val-Recall: 0.9952, Val-Accuracy: 0.9393\n",
      "\n",
      "\u001b[92mRESULTS:\n",
      " F1-Score:0.9438543247344461, Precision:0.8988439306358381, Recall:0.9936102236421726, Accuracy:0.9392446633825944, Loss:0.5816158056259155 \u001b[0m \n",
      "\n",
      "\n",
      "\u001b[91mRUN 45:\u001b[0m\n",
      " Anusha2024Circuit \n",
      " lr: 0.01\n"
     ]
    },
    {
     "name": "stderr",
     "output_type": "stream",
     "text": [
      "Training progress: 100%|██████████| 304/304 [00:31<00:00,  9.79batch/s]\n"
     ]
    },
    {
     "name": "stdout",
     "output_type": "stream",
     "text": [
      "Epoch 1/2, Train-Loss: 0.5386, Val-Loss: 0.4535, Val-F1: 0.9471, Val-Precision: 0.9115, Val-Recall: 0.9856, Val-Accuracy: 0.9434\n"
     ]
    },
    {
     "name": "stderr",
     "output_type": "stream",
     "text": [
      "Training progress: 100%|██████████| 304/304 [00:30<00:00,  9.83batch/s]\n"
     ]
    },
    {
     "name": "stdout",
     "output_type": "stream",
     "text": [
      "Epoch 2/2, Train-Loss: 0.4567, Val-Loss: 0.4532, Val-F1: 0.9406, Val-Precision: 0.8996, Val-Recall: 0.9856, Val-Accuracy: 0.9360\n",
      "\n",
      "\u001b[92mRESULTS:\n",
      " F1-Score:0.9441469013006886, Precision:0.9060205580029369, Recall:0.9856230031948882, Accuracy:0.9400656814449918, Loss:0.45436564087867737 \u001b[0m \n",
      "\n",
      "\n",
      "\u001b[91mRUN 46:\u001b[0m\n",
      " Anusha2024Circuit \n",
      " lr: 0.001\n"
     ]
    },
    {
     "name": "stderr",
     "output_type": "stream",
     "text": [
      "Training progress: 100%|██████████| 304/304 [00:30<00:00,  9.83batch/s]\n"
     ]
    },
    {
     "name": "stdout",
     "output_type": "stream",
     "text": [
      "Epoch 1/2, Train-Loss: 0.7271, Val-Loss: 0.7138, Val-F1: 0.6790, Val-Precision: 0.5144, Val-Recall: 0.9984, Val-Accuracy: 0.5144\n"
     ]
    },
    {
     "name": "stderr",
     "output_type": "stream",
     "text": [
      "Training progress: 100%|██████████| 304/304 [00:31<00:00,  9.80batch/s]\n"
     ]
    },
    {
     "name": "stdout",
     "output_type": "stream",
     "text": [
      "Epoch 2/2, Train-Loss: 0.6754, Val-Loss: 0.6365, Val-F1: 0.7007, Val-Precision: 0.5476, Val-Recall: 0.9729, Val-Accuracy: 0.5726\n",
      "\n",
      "\u001b[92mRESULTS:\n",
      " F1-Score:0.7066282420749279, Precision:0.5527502254283138, Recall:0.9792332268370607, Accuracy:0.5821018062397373, Loss:0.6369122862815857 \u001b[0m \n",
      "\n",
      "\n",
      "\u001b[91mRUN 47:\u001b[0m\n",
      " DoubleEntanglementVLCircuit \n",
      " lr: 0.01\n"
     ]
    },
    {
     "name": "stderr",
     "output_type": "stream",
     "text": [
      "Training progress: 100%|██████████| 304/304 [00:53<00:00,  5.69batch/s]\n"
     ]
    },
    {
     "name": "stdout",
     "output_type": "stream",
     "text": [
      "Epoch 1/2, Train-Loss: 0.5540, Val-Loss: 0.4651, Val-F1: 0.9603, Val-Precision: 0.9558, Val-Recall: 0.9649, Val-Accuracy: 0.9590\n"
     ]
    },
    {
     "name": "stderr",
     "output_type": "stream",
     "text": [
      "Training progress: 100%|██████████| 304/304 [00:53<00:00,  5.70batch/s]\n"
     ]
    },
    {
     "name": "stdout",
     "output_type": "stream",
     "text": [
      "Epoch 2/2, Train-Loss: 0.4598, Val-Loss: 0.4571, Val-F1: 0.9541, Val-Precision: 0.9642, Val-Recall: 0.9442, Val-Accuracy: 0.9532\n",
      "\n",
      "\u001b[92mRESULTS:\n",
      " F1-Score:0.9617834394904459, Precision:0.9587301587301588, Recall:0.9648562300319489, Accuracy:0.9605911330049262, Loss:0.4564496576786041 \u001b[0m \n",
      "\n",
      "\n",
      "\u001b[91mRUN 48:\u001b[0m\n",
      " DoubleEntanglementVLCircuit \n",
      " lr: 0.001\n"
     ]
    },
    {
     "name": "stderr",
     "output_type": "stream",
     "text": [
      "Training progress: 100%|██████████| 304/304 [00:53<00:00,  5.73batch/s]\n"
     ]
    },
    {
     "name": "stdout",
     "output_type": "stream",
     "text": [
      "Epoch 1/2, Train-Loss: 0.7324, Val-Loss: 0.6647, Val-F1: 0.6793, Val-Precision: 0.5144, Val-Recall: 1.0000, Val-Accuracy: 0.5144\n"
     ]
    },
    {
     "name": "stderr",
     "output_type": "stream",
     "text": [
      "Training progress: 100%|██████████| 304/304 [00:53<00:00,  5.71batch/s]\n"
     ]
    },
    {
     "name": "stdout",
     "output_type": "stream",
     "text": [
      "Epoch 2/2, Train-Loss: 0.6295, Val-Loss: 0.6023, Val-F1: 0.8005, Val-Precision: 0.6681, Val-Recall: 0.9984, Val-Accuracy: 0.7441\n",
      "\n",
      "\u001b[92mRESULTS:\n",
      " F1-Score:0.7938931297709924, Precision:0.6596194503171248, Recall:0.9968051118210862, Accuracy:0.7339901477832512, Loss:0.6028560400009155 \u001b[0m \n",
      "\n",
      "\n",
      "\u001b[91mRUN 49:\u001b[0m\n",
      " Ranga2024Circuit \n",
      " lr: 0.01\n"
     ]
    },
    {
     "name": "stderr",
     "output_type": "stream",
     "text": [
      "Training progress: 100%|██████████| 304/304 [01:30<00:00,  3.36batch/s]\n"
     ]
    },
    {
     "name": "stdout",
     "output_type": "stream",
     "text": [
      "Epoch 1/2, Train-Loss: 0.6728, Val-Loss: 0.6518, Val-F1: 0.6793, Val-Precision: 0.5144, Val-Recall: 1.0000, Val-Accuracy: 0.5144\n"
     ]
    },
    {
     "name": "stderr",
     "output_type": "stream",
     "text": [
      "Training progress: 100%|██████████| 304/304 [01:30<00:00,  3.36batch/s]\n"
     ]
    },
    {
     "name": "stdout",
     "output_type": "stream",
     "text": [
      "Epoch 2/2, Train-Loss: 0.6497, Val-Loss: 0.6502, Val-F1: 0.6793, Val-Precision: 0.5144, Val-Recall: 1.0000, Val-Accuracy: 0.5144\n",
      "\n",
      "\u001b[92mRESULTS:\n",
      " F1-Score:0.6789587852494577, Precision:0.5139573070607554, Recall:1.0, Accuracy:0.5139573070607554, Loss:0.6499035358428955 \u001b[0m \n",
      "\n",
      "\n",
      "\u001b[91mRUN 50:\u001b[0m\n",
      " Ranga2024Circuit \n",
      " lr: 0.001\n"
     ]
    },
    {
     "name": "stderr",
     "output_type": "stream",
     "text": [
      "Training progress: 100%|██████████| 304/304 [01:30<00:00,  3.36batch/s]\n"
     ]
    },
    {
     "name": "stdout",
     "output_type": "stream",
     "text": [
      "Epoch 1/2, Train-Loss: 0.7083, Val-Loss: 0.6993, Val-F1: 0.6793, Val-Precision: 0.5144, Val-Recall: 1.0000, Val-Accuracy: 0.5144\n"
     ]
    },
    {
     "name": "stderr",
     "output_type": "stream",
     "text": [
      "Training progress: 100%|██████████| 304/304 [01:30<00:00,  3.36batch/s]\n"
     ]
    },
    {
     "name": "stdout",
     "output_type": "stream",
     "text": [
      "Epoch 2/2, Train-Loss: 0.6932, Val-Loss: 0.6886, Val-F1: 0.6793, Val-Precision: 0.5144, Val-Recall: 1.0000, Val-Accuracy: 0.5144\n",
      "\n",
      "\u001b[92mRESULTS:\n",
      " F1-Score:0.6789587852494577, Precision:0.5139573070607554, Recall:1.0, Accuracy:0.5139573070607554, Loss:0.6881005167961121 \u001b[0m \n",
      "\n",
      "\n",
      "\u001b[91mRUN 51:\u001b[0m\n",
      " Senokosov2024Circuit \n",
      " lr: 0.01\n"
     ]
    },
    {
     "name": "stderr",
     "output_type": "stream",
     "text": [
      "Training progress: 100%|██████████| 304/304 [01:41<00:00,  3.00batch/s]\n"
     ]
    },
    {
     "name": "stdout",
     "output_type": "stream",
     "text": [
      "Epoch 1/2, Train-Loss: 0.6758, Val-Loss: 0.6536, Val-F1: 0.6793, Val-Precision: 0.5144, Val-Recall: 1.0000, Val-Accuracy: 0.5144\n"
     ]
    },
    {
     "name": "stderr",
     "output_type": "stream",
     "text": [
      "Training progress: 100%|██████████| 304/304 [01:41<00:00,  3.01batch/s]\n"
     ]
    },
    {
     "name": "stdout",
     "output_type": "stream",
     "text": [
      "Epoch 2/2, Train-Loss: 0.6493, Val-Loss: 0.6479, Val-F1: 0.6793, Val-Precision: 0.5144, Val-Recall: 1.0000, Val-Accuracy: 0.5144\n",
      "\n",
      "\u001b[92mRESULTS:\n",
      " F1-Score:0.6789587852494577, Precision:0.5139573070607554, Recall:1.0, Accuracy:0.5139573070607554, Loss:0.64742112159729 \u001b[0m \n",
      "\n",
      "\n",
      "\u001b[91mRUN 52:\u001b[0m\n",
      " Senokosov2024Circuit \n",
      " lr: 0.001\n"
     ]
    },
    {
     "name": "stderr",
     "output_type": "stream",
     "text": [
      "Training progress: 100%|██████████| 304/304 [01:41<00:00,  3.01batch/s]\n"
     ]
    },
    {
     "name": "stdout",
     "output_type": "stream",
     "text": [
      "Epoch 1/2, Train-Loss: 0.7204, Val-Loss: 0.7037, Val-F1: 0.6793, Val-Precision: 0.5144, Val-Recall: 1.0000, Val-Accuracy: 0.5144\n"
     ]
    },
    {
     "name": "stderr",
     "output_type": "stream",
     "text": [
      "Training progress: 100%|██████████| 304/304 [01:41<00:00,  2.98batch/s]\n"
     ]
    },
    {
     "name": "stdout",
     "output_type": "stream",
     "text": [
      "Epoch 2/2, Train-Loss: 0.6967, Val-Loss: 0.6911, Val-F1: 0.6793, Val-Precision: 0.5144, Val-Recall: 1.0000, Val-Accuracy: 0.5144\n",
      "\n",
      "\u001b[92mRESULTS:\n",
      " F1-Score:0.6789587852494577, Precision:0.5139573070607554, Recall:1.0, Accuracy:0.5139573070607554, Loss:0.6912919878959656 \u001b[0m \n",
      "\n",
      "\n",
      "\u001b[91mRUN 53:\u001b[0m\n",
      " Anusha2024Circuit \n",
      " lr: 0.01\n"
     ]
    },
    {
     "name": "stderr",
     "output_type": "stream",
     "text": [
      "Training progress: 100%|██████████| 304/304 [00:30<00:00,  9.86batch/s]\n"
     ]
    },
    {
     "name": "stdout",
     "output_type": "stream",
     "text": [
      "Epoch 1/2, Train-Loss: 0.6486, Val-Loss: 0.6415, Val-F1: 0.6793, Val-Precision: 0.5144, Val-Recall: 1.0000, Val-Accuracy: 0.5144\n"
     ]
    },
    {
     "name": "stderr",
     "output_type": "stream",
     "text": [
      "Training progress: 100%|██████████| 304/304 [00:30<00:00,  9.87batch/s]\n"
     ]
    },
    {
     "name": "stdout",
     "output_type": "stream",
     "text": [
      "Epoch 2/2, Train-Loss: 0.6406, Val-Loss: 0.6414, Val-F1: 0.6793, Val-Precision: 0.5144, Val-Recall: 1.0000, Val-Accuracy: 0.5144\n",
      "\n",
      "\u001b[92mRESULTS:\n",
      " F1-Score:0.6789587852494577, Precision:0.5139573070607554, Recall:1.0, Accuracy:0.5139573070607554, Loss:0.6409186720848083 \u001b[0m \n",
      "\n",
      "\n",
      "\u001b[91mRUN 54:\u001b[0m\n",
      " Anusha2024Circuit \n",
      " lr: 0.001\n"
     ]
    },
    {
     "name": "stderr",
     "output_type": "stream",
     "text": [
      "Training progress: 100%|██████████| 304/304 [00:30<00:00,  9.81batch/s]\n"
     ]
    },
    {
     "name": "stdout",
     "output_type": "stream",
     "text": [
      "Epoch 1/2, Train-Loss: 0.6725, Val-Loss: 0.6674, Val-F1: 0.6793, Val-Precision: 0.5144, Val-Recall: 1.0000, Val-Accuracy: 0.5144\n"
     ]
    },
    {
     "name": "stderr",
     "output_type": "stream",
     "text": [
      "Training progress: 100%|██████████| 304/304 [00:30<00:00,  9.83batch/s]\n"
     ]
    },
    {
     "name": "stdout",
     "output_type": "stream",
     "text": [
      "Epoch 2/2, Train-Loss: 0.6611, Val-Loss: 0.6578, Val-F1: 0.6793, Val-Precision: 0.5144, Val-Recall: 1.0000, Val-Accuracy: 0.5144\n",
      "\n",
      "\u001b[92mRESULTS:\n",
      " F1-Score:0.6789587852494577, Precision:0.5139573070607554, Recall:1.0, Accuracy:0.5139573070607554, Loss:0.6570881009101868 \u001b[0m \n",
      "\n",
      "\n",
      "\u001b[91mRUN 55:\u001b[0m\n",
      " DoubleEntanglementVLCircuit \n",
      " lr: 0.01\n"
     ]
    },
    {
     "name": "stderr",
     "output_type": "stream",
     "text": [
      "Training progress: 100%|██████████| 304/304 [00:53<00:00,  5.70batch/s]\n"
     ]
    },
    {
     "name": "stdout",
     "output_type": "stream",
     "text": [
      "Epoch 1/2, Train-Loss: 0.6607, Val-Loss: 0.6417, Val-F1: 0.6890, Val-Precision: 0.5256, Val-Recall: 1.0000, Val-Accuracy: 0.5357\n"
     ]
    },
    {
     "name": "stderr",
     "output_type": "stream",
     "text": [
      "Training progress: 100%|██████████| 304/304 [00:53<00:00,  5.67batch/s]\n"
     ]
    },
    {
     "name": "stdout",
     "output_type": "stream",
     "text": [
      "Epoch 2/2, Train-Loss: 0.6406, Val-Loss: 0.6415, Val-F1: 0.6898, Val-Precision: 0.5264, Val-Recall: 1.0000, Val-Accuracy: 0.5373\n",
      "\n",
      "\u001b[92mRESULTS:\n",
      " F1-Score:0.6928610957387936, Precision:0.5300592718035563, Recall:1.0, Accuracy:0.5443349753694581, Loss:0.6412789821624756 \u001b[0m \n",
      "\n",
      "\n",
      "\u001b[91mRUN 56:\u001b[0m\n",
      " DoubleEntanglementVLCircuit \n",
      " lr: 0.001\n"
     ]
    },
    {
     "name": "stderr",
     "output_type": "stream",
     "text": [
      "Training progress: 100%|██████████| 304/304 [00:53<00:00,  5.69batch/s]\n"
     ]
    },
    {
     "name": "stdout",
     "output_type": "stream",
     "text": [
      "Epoch 1/2, Train-Loss: 0.7019, Val-Loss: 0.6876, Val-F1: 0.6793, Val-Precision: 0.5144, Val-Recall: 1.0000, Val-Accuracy: 0.5144\n"
     ]
    },
    {
     "name": "stderr",
     "output_type": "stream",
     "text": [
      "Training progress: 100%|██████████| 304/304 [00:53<00:00,  5.69batch/s]\n"
     ]
    },
    {
     "name": "stdout",
     "output_type": "stream",
     "text": [
      "Epoch 2/2, Train-Loss: 0.6802, Val-Loss: 0.6760, Val-F1: 0.6793, Val-Precision: 0.5144, Val-Recall: 1.0000, Val-Accuracy: 0.5144\n",
      "\n",
      "\u001b[92mRESULTS:\n",
      " F1-Score:0.6789587852494577, Precision:0.5139573070607554, Recall:1.0, Accuracy:0.5139573070607554, Loss:0.6763401627540588 \u001b[0m \n",
      "\n",
      "\n",
      "\u001b[91mRUN 57:\u001b[0m\n",
      " Ranga2024Circuit \n",
      " lr: 0.01\n"
     ]
    },
    {
     "name": "stderr",
     "output_type": "stream",
     "text": [
      "Training progress: 100%|██████████| 304/304 [01:30<00:00,  3.36batch/s]\n"
     ]
    },
    {
     "name": "stdout",
     "output_type": "stream",
     "text": [
      "Epoch 1/2, Train-Loss: 0.6312, Val-Loss: 0.6224, Val-F1: 0.7165, Val-Precision: 1.0000, Val-Recall: 0.5582, Val-Accuracy: 0.7728\n"
     ]
    },
    {
     "name": "stderr",
     "output_type": "stream",
     "text": [
      "Training progress: 100%|██████████| 304/304 [01:30<00:00,  3.35batch/s]\n"
     ]
    },
    {
     "name": "stdout",
     "output_type": "stream",
     "text": [
      "Epoch 2/2, Train-Loss: 0.6217, Val-Loss: 0.6194, Val-F1: 0.7718, Val-Precision: 1.0000, Val-Recall: 0.6284, Val-Accuracy: 0.8089\n",
      "\n",
      "\u001b[92mRESULTS:\n",
      " F1-Score:0.7785365853658537, Precision:1.0, Recall:0.6373801916932907, Accuracy:0.8136288998357963, Loss:0.6213056445121765 \u001b[0m \n",
      "\n",
      "\n",
      "\u001b[91mRUN 58:\u001b[0m\n",
      " Ranga2024Circuit \n",
      " lr: 0.001\n"
     ]
    },
    {
     "name": "stderr",
     "output_type": "stream",
     "text": [
      "Training progress: 100%|██████████| 304/304 [01:30<00:00,  3.36batch/s]\n"
     ]
    },
    {
     "name": "stdout",
     "output_type": "stream",
     "text": [
      "Epoch 1/2, Train-Loss: 0.6598, Val-Loss: 0.6461, Val-F1: 0.7763, Val-Precision: 0.9081, Val-Recall: 0.6778, Val-Accuracy: 0.7990\n"
     ]
    },
    {
     "name": "stderr",
     "output_type": "stream",
     "text": [
      "Training progress: 100%|██████████| 304/304 [01:30<00:00,  3.36batch/s]\n"
     ]
    },
    {
     "name": "stdout",
     "output_type": "stream",
     "text": [
      "Epoch 2/2, Train-Loss: 0.6398, Val-Loss: 0.6330, Val-F1: 0.8161, Val-Precision: 0.9571, Val-Recall: 0.7113, Val-Accuracy: 0.8351\n",
      "\n",
      "\u001b[92mRESULTS:\n",
      " F1-Score:0.8176100628930818, Precision:0.9342915811088296, Recall:0.7268370607028753, Accuracy:0.8333333333333334, Loss:0.6342729330062866 \u001b[0m \n",
      "\n",
      "\n",
      "\u001b[91mRUN 59:\u001b[0m\n",
      " Senokosov2024Circuit \n",
      " lr: 0.01\n"
     ]
    },
    {
     "name": "stderr",
     "output_type": "stream",
     "text": [
      "Training progress: 100%|██████████| 304/304 [01:41<00:00,  3.00batch/s]\n"
     ]
    },
    {
     "name": "stdout",
     "output_type": "stream",
     "text": [
      "Epoch 1/2, Train-Loss: 0.6570, Val-Loss: 0.6355, Val-F1: 0.8571, Val-Precision: 0.7893, Val-Recall: 0.9378, Val-Accuracy: 0.8392\n"
     ]
    },
    {
     "name": "stderr",
     "output_type": "stream",
     "text": [
      "Training progress: 100%|██████████| 304/304 [01:41<00:00,  3.00batch/s]\n"
     ]
    },
    {
     "name": "stdout",
     "output_type": "stream",
     "text": [
      "Epoch 2/2, Train-Loss: 0.6349, Val-Loss: 0.6335, Val-F1: 0.8578, Val-Precision: 0.7973, Val-Recall: 0.9282, Val-Accuracy: 0.8417\n",
      "\n",
      "\u001b[92mRESULTS:\n",
      " F1-Score:0.8571428571428571, Precision:0.7882037533512064, Recall:0.939297124600639, Accuracy:0.8390804597701149, Loss:0.6318819522857666 \u001b[0m \n",
      "\n",
      "\n",
      "\u001b[91mRUN 60:\u001b[0m\n",
      " Senokosov2024Circuit \n",
      " lr: 0.001\n"
     ]
    },
    {
     "name": "stderr",
     "output_type": "stream",
     "text": [
      "Training progress: 100%|██████████| 304/304 [01:40<00:00,  3.01batch/s]\n"
     ]
    },
    {
     "name": "stdout",
     "output_type": "stream",
     "text": [
      "Epoch 1/2, Train-Loss: 0.7085, Val-Loss: 0.6918, Val-F1: 0.0221, Val-Precision: 1.0000, Val-Recall: 0.0112, Val-Accuracy: 0.4914\n"
     ]
    },
    {
     "name": "stderr",
     "output_type": "stream",
     "text": [
      "Training progress: 100%|██████████| 304/304 [01:41<00:00,  3.00batch/s]\n"
     ]
    },
    {
     "name": "stdout",
     "output_type": "stream",
     "text": [
      "Epoch 2/2, Train-Loss: 0.6803, Val-Loss: 0.6674, Val-F1: 0.7129, Val-Precision: 0.9399, Val-Recall: 0.5742, Val-Accuracy: 0.7621\n",
      "\n",
      "\u001b[92mRESULTS:\n",
      " F1-Score:0.6966966966966966, Precision:0.9329758713136729, Recall:0.5559105431309904, Accuracy:0.7512315270935961, Loss:0.6670591831207275 \u001b[0m \n",
      "\n",
      "\n",
      "\u001b[91mRUN 61:\u001b[0m\n",
      " Anusha2024Circuit \n",
      " lr: 0.01\n"
     ]
    },
    {
     "name": "stderr",
     "output_type": "stream",
     "text": [
      "Training progress: 100%|██████████| 304/304 [00:30<00:00,  9.81batch/s]\n"
     ]
    },
    {
     "name": "stdout",
     "output_type": "stream",
     "text": [
      "Epoch 1/2, Train-Loss: 0.6467, Val-Loss: 0.6264, Val-F1: 0.8406, Val-Precision: 0.8056, Val-Recall: 0.8788, Val-Accuracy: 0.8285\n"
     ]
    },
    {
     "name": "stderr",
     "output_type": "stream",
     "text": [
      "Training progress: 100%|██████████| 304/304 [00:30<00:00,  9.85batch/s]\n"
     ]
    },
    {
     "name": "stdout",
     "output_type": "stream",
     "text": [
      "Epoch 2/2, Train-Loss: 0.6273, Val-Loss: 0.6257, Val-F1: 0.8325, Val-Precision: 0.8325, Val-Recall: 0.8325, Val-Accuracy: 0.8277\n",
      "\n",
      "\u001b[92mRESULTS:\n",
      " F1-Score:0.8426877470355731, Precision:0.8341158059467919, Recall:0.8514376996805112, Accuracy:0.8366174055829229, Loss:0.6243792772293091 \u001b[0m \n",
      "\n",
      "\n",
      "\u001b[91mRUN 62:\u001b[0m\n",
      " Anusha2024Circuit \n",
      " lr: 0.001\n"
     ]
    },
    {
     "name": "stderr",
     "output_type": "stream",
     "text": [
      "Training progress: 100%|██████████| 304/304 [00:30<00:00,  9.82batch/s]\n"
     ]
    },
    {
     "name": "stdout",
     "output_type": "stream",
     "text": [
      "Epoch 1/2, Train-Loss: 0.6995, Val-Loss: 0.6879, Val-F1: 0.0094, Val-Precision: 0.3750, Val-Recall: 0.0048, Val-Accuracy: 0.4840\n"
     ]
    },
    {
     "name": "stderr",
     "output_type": "stream",
     "text": [
      "Training progress: 100%|██████████| 304/304 [00:30<00:00,  9.82batch/s]\n"
     ]
    },
    {
     "name": "stdout",
     "output_type": "stream",
     "text": [
      "Epoch 2/2, Train-Loss: 0.6770, Val-Loss: 0.6670, Val-F1: 0.2956, Val-Precision: 0.8952, Val-Recall: 0.1770, Val-Accuracy: 0.5660\n",
      "\n",
      "\u001b[92mRESULTS:\n",
      " F1-Score:0.3432258064516129, Precision:0.8926174496644296, Recall:0.2124600638977636, Accuracy:0.5821018062397373, Loss:0.6646148562431335 \u001b[0m \n",
      "\n",
      "\n",
      "\u001b[91mRUN 63:\u001b[0m\n",
      " DoubleEntanglementVLCircuit \n",
      " lr: 0.01\n"
     ]
    },
    {
     "name": "stderr",
     "output_type": "stream",
     "text": [
      "Training progress: 100%|██████████| 304/304 [00:53<00:00,  5.70batch/s]\n"
     ]
    },
    {
     "name": "stdout",
     "output_type": "stream",
     "text": [
      "Epoch 1/2, Train-Loss: 0.6485, Val-Loss: 0.6270, Val-F1: 0.8289, Val-Precision: 0.8993, Val-Recall: 0.7687, Val-Accuracy: 0.8368\n"
     ]
    },
    {
     "name": "stderr",
     "output_type": "stream",
     "text": [
      "Training progress: 100%|██████████| 304/304 [00:53<00:00,  5.68batch/s]\n"
     ]
    },
    {
     "name": "stdout",
     "output_type": "stream",
     "text": [
      "Epoch 2/2, Train-Loss: 0.6262, Val-Loss: 0.6235, Val-F1: 0.8550, Val-Precision: 0.8897, Val-Recall: 0.8230, Val-Accuracy: 0.8564\n",
      "\n",
      "\u001b[92mRESULTS:\n",
      " F1-Score:0.8653530377668309, Precision:0.8902027027027027, Recall:0.84185303514377, Accuracy:0.8653530377668309, Loss:0.6225826144218445 \u001b[0m \n",
      "\n",
      "\n",
      "\u001b[91mRUN 64:\u001b[0m\n",
      " DoubleEntanglementVLCircuit \n",
      " lr: 0.001\n"
     ]
    },
    {
     "name": "stderr",
     "output_type": "stream",
     "text": [
      "Training progress: 100%|██████████| 304/304 [00:53<00:00,  5.69batch/s]\n"
     ]
    },
    {
     "name": "stdout",
     "output_type": "stream",
     "text": [
      "Epoch 1/2, Train-Loss: 0.6945, Val-Loss: 0.6838, Val-F1: 0.3614, Val-Precision: 0.7389, Val-Recall: 0.2392, Val-Accuracy: 0.5652\n"
     ]
    },
    {
     "name": "stderr",
     "output_type": "stream",
     "text": [
      "Training progress: 100%|██████████| 304/304 [00:53<00:00,  5.69batch/s]\n"
     ]
    },
    {
     "name": "stdout",
     "output_type": "stream",
     "text": [
      "Epoch 2/2, Train-Loss: 0.6747, Val-Loss: 0.6663, Val-F1: 0.5745, Val-Precision: 0.8758, Val-Recall: 0.4274, Val-Accuracy: 0.6743\n",
      "\n",
      "\u001b[92mRESULTS:\n",
      " F1-Score:0.6044538706256628, Precision:0.8990536277602523, Recall:0.45527156549520764, Accuracy:0.69376026272578, Loss:0.665436863899231 \u001b[0m \n",
      "\n",
      "\n",
      "\u001b[91mRUN 65:\u001b[0m\n",
      " Ranga2024Circuit \n",
      " lr: 0.01\n"
     ]
    },
    {
     "name": "stderr",
     "output_type": "stream",
     "text": [
      "Training progress: 100%|██████████| 304/304 [01:30<00:00,  3.36batch/s]\n"
     ]
    },
    {
     "name": "stdout",
     "output_type": "stream",
     "text": [
      "Epoch 1/2, Train-Loss: 0.6829, Val-Loss: 0.6743, Val-F1: 0.9077, Val-Precision: 0.8569, Val-Recall: 0.9649, Val-Accuracy: 0.8991\n"
     ]
    },
    {
     "name": "stderr",
     "output_type": "stream",
     "text": [
      "Training progress: 100%|██████████| 304/304 [01:30<00:00,  3.35batch/s]\n"
     ]
    },
    {
     "name": "stdout",
     "output_type": "stream",
     "text": [
      "Epoch 2/2, Train-Loss: 0.6721, Val-Loss: 0.6721, Val-F1: 0.8934, Val-Precision: 0.8666, Val-Recall: 0.9219, Val-Accuracy: 0.8868\n",
      "\n",
      "\u001b[92mRESULTS:\n",
      " F1-Score:0.8960125097732604, Precision:0.877488514548239, Recall:0.9153354632587859, Accuracy:0.8908045977011494, Loss:0.6716408133506775 \u001b[0m \n",
      "\n",
      "\n",
      "\u001b[91mRUN 66:\u001b[0m\n",
      " Ranga2024Circuit \n",
      " lr: 0.001\n"
     ]
    },
    {
     "name": "stderr",
     "output_type": "stream",
     "text": [
      "Training progress: 100%|██████████| 304/304 [01:30<00:00,  3.36batch/s]\n"
     ]
    },
    {
     "name": "stdout",
     "output_type": "stream",
     "text": [
      "Epoch 1/2, Train-Loss: 0.6977, Val-Loss: 0.6941, Val-F1: 0.6567, Val-Precision: 0.5034, Val-Recall: 0.9442, Val-Accuracy: 0.4922\n"
     ]
    },
    {
     "name": "stderr",
     "output_type": "stream",
     "text": [
      "Training progress: 100%|██████████| 304/304 [01:30<00:00,  3.36batch/s]\n"
     ]
    },
    {
     "name": "stdout",
     "output_type": "stream",
     "text": [
      "Epoch 2/2, Train-Loss: 0.6913, Val-Loss: 0.6891, Val-F1: 0.7145, Val-Precision: 0.5559, Val-Recall: 1.0000, Val-Accuracy: 0.5890\n",
      "\n",
      "\u001b[92mRESULTS:\n",
      " F1-Score:0.7152698048220436, Precision:0.5582437275985663, Recall:0.9952076677316294, Accuracy:0.5927750410509032, Loss:0.6888036727905273 \u001b[0m \n",
      "\n",
      "\n",
      "\u001b[91mRUN 67:\u001b[0m\n",
      " Senokosov2024Circuit \n",
      " lr: 0.01\n"
     ]
    },
    {
     "name": "stderr",
     "output_type": "stream",
     "text": [
      "Training progress: 100%|██████████| 304/304 [01:41<00:00,  3.00batch/s]\n"
     ]
    },
    {
     "name": "stdout",
     "output_type": "stream",
     "text": [
      "Epoch 1/2, Train-Loss: 0.6884, Val-Loss: 0.6861, Val-F1: 0.6853, Val-Precision: 0.5226, Val-Recall: 0.9952, Val-Accuracy: 0.5299\n"
     ]
    },
    {
     "name": "stderr",
     "output_type": "stream",
     "text": [
      "Training progress: 100%|██████████| 304/304 [01:40<00:00,  3.01batch/s]\n"
     ]
    },
    {
     "name": "stdout",
     "output_type": "stream",
     "text": [
      "Epoch 2/2, Train-Loss: 0.6856, Val-Loss: 0.6850, Val-F1: 0.7352, Val-Precision: 0.5880, Val-Recall: 0.9809, Val-Accuracy: 0.6366\n",
      "\n",
      "\u001b[92mRESULTS:\n",
      " F1-Score:0.7357142857142858, Precision:0.5863377609108159, Recall:0.987220447284345, Accuracy:0.6354679802955665, Loss:0.6847733855247498 \u001b[0m \n",
      "\n",
      "\n",
      "\u001b[91mRUN 68:\u001b[0m\n",
      " Senokosov2024Circuit \n",
      " lr: 0.001\n"
     ]
    },
    {
     "name": "stderr",
     "output_type": "stream",
     "text": [
      "Training progress: 100%|██████████| 304/304 [01:41<00:00,  2.99batch/s]\n"
     ]
    },
    {
     "name": "stdout",
     "output_type": "stream",
     "text": [
      "Epoch 1/2, Train-Loss: 0.6932, Val-Loss: 0.6917, Val-F1: 0.6790, Val-Precision: 0.5144, Val-Recall: 0.9984, Val-Accuracy: 0.5144\n"
     ]
    },
    {
     "name": "stderr",
     "output_type": "stream",
     "text": [
      "Training progress: 100%|██████████| 304/304 [01:41<00:00,  3.00batch/s]\n"
     ]
    },
    {
     "name": "stdout",
     "output_type": "stream",
     "text": [
      "Epoch 2/2, Train-Loss: 0.6904, Val-Loss: 0.6895, Val-F1: 0.6820, Val-Precision: 0.5187, Val-Recall: 0.9952, Val-Accuracy: 0.5226\n",
      "\n",
      "\u001b[92mRESULTS:\n",
      " F1-Score:0.684931506849315, Precision:0.5212677231025855, Recall:0.9984025559105432, Accuracy:0.5279146141215106, Loss:0.6894332766532898 \u001b[0m \n",
      "\n",
      "\n",
      "\u001b[91mRUN 69:\u001b[0m\n",
      " Anusha2024Circuit \n",
      " lr: 0.01\n"
     ]
    },
    {
     "name": "stderr",
     "output_type": "stream",
     "text": [
      "Training progress: 100%|██████████| 304/304 [00:30<00:00,  9.85batch/s]\n"
     ]
    },
    {
     "name": "stdout",
     "output_type": "stream",
     "text": [
      "Epoch 1/2, Train-Loss: 0.6883, Val-Loss: 0.6841, Val-F1: 0.7089, Val-Precision: 0.5803, Val-Recall: 0.9107, Val-Accuracy: 0.6153\n"
     ]
    },
    {
     "name": "stderr",
     "output_type": "stream",
     "text": [
      "Training progress: 100%|██████████| 304/304 [00:30<00:00,  9.85batch/s]\n"
     ]
    },
    {
     "name": "stdout",
     "output_type": "stream",
     "text": [
      "Epoch 2/2, Train-Loss: 0.6834, Val-Loss: 0.6840, Val-F1: 0.7230, Val-Precision: 0.6703, Val-Recall: 0.7847, Val-Accuracy: 0.6907\n",
      "\n",
      "\u001b[92mRESULTS:\n",
      " F1-Score:0.7176029962546816, Precision:0.6755994358251057, Recall:0.7651757188498403, Accuracy:0.6904761904761905, Loss:0.6833247542381287 \u001b[0m \n",
      "\n",
      "\n",
      "\u001b[91mRUN 70:\u001b[0m\n",
      " Anusha2024Circuit \n",
      " lr: 0.001\n"
     ]
    },
    {
     "name": "stderr",
     "output_type": "stream",
     "text": [
      "Training progress: 100%|██████████| 304/304 [00:30<00:00,  9.84batch/s]\n"
     ]
    },
    {
     "name": "stdout",
     "output_type": "stream",
     "text": [
      "Epoch 1/2, Train-Loss: 0.6976, Val-Loss: 0.6972, Val-F1: 0.0556, Val-Precision: 0.2174, Val-Recall: 0.0319, Val-Accuracy: 0.4430\n"
     ]
    },
    {
     "name": "stderr",
     "output_type": "stream",
     "text": [
      "Training progress: 100%|██████████| 304/304 [00:30<00:00,  9.81batch/s]\n"
     ]
    },
    {
     "name": "stdout",
     "output_type": "stream",
     "text": [
      "Epoch 2/2, Train-Loss: 0.6960, Val-Loss: 0.6938, Val-F1: 0.1793, Val-Precision: 0.7356, Val-Recall: 0.1021, Val-Accuracy: 0.5193\n",
      "\n",
      "\u001b[92mRESULTS:\n",
      " F1-Score:0.17489421720733428, Precision:0.7469879518072289, Recall:0.09904153354632587, Accuracy:0.5197044334975369, Loss:0.6936385631561279 \u001b[0m \n",
      "\n",
      "\n",
      "\u001b[91mRUN 71:\u001b[0m\n",
      " DoubleEntanglementVLCircuit \n",
      " lr: 0.01\n"
     ]
    },
    {
     "name": "stderr",
     "output_type": "stream",
     "text": [
      "Training progress: 100%|██████████| 304/304 [00:53<00:00,  5.67batch/s]\n"
     ]
    },
    {
     "name": "stdout",
     "output_type": "stream",
     "text": [
      "Epoch 1/2, Train-Loss: 0.6865, Val-Loss: 0.6847, Val-F1: 0.7203, Val-Precision: 0.5752, Val-Recall: 0.9633, Val-Accuracy: 0.6153\n"
     ]
    },
    {
     "name": "stderr",
     "output_type": "stream",
     "text": [
      "Training progress: 100%|██████████| 304/304 [00:53<00:00,  5.70batch/s]\n"
     ]
    },
    {
     "name": "stdout",
     "output_type": "stream",
     "text": [
      "Epoch 2/2, Train-Loss: 0.6837, Val-Loss: 0.6834, Val-F1: 0.7497, Val-Precision: 0.6169, Val-Recall: 0.9553, Val-Accuracy: 0.6719\n",
      "\n",
      "\u001b[92mRESULTS:\n",
      " F1-Score:0.7448533998752339, Precision:0.6110542476970318, Recall:0.9536741214057508, Accuracy:0.6642036124794746, Loss:0.6830132603645325 \u001b[0m \n",
      "\n",
      "\n",
      "\u001b[91mRUN 72:\u001b[0m\n",
      " DoubleEntanglementVLCircuit \n",
      " lr: 0.001\n"
     ]
    },
    {
     "name": "stderr",
     "output_type": "stream",
     "text": [
      "Training progress: 100%|██████████| 304/304 [00:53<00:00,  5.70batch/s]\n"
     ]
    },
    {
     "name": "stdout",
     "output_type": "stream",
     "text": [
      "Epoch 1/2, Train-Loss: 0.6900, Val-Loss: 0.6888, Val-F1: 0.6170, Val-Precision: 0.8580, Val-Recall: 0.4817, Val-Accuracy: 0.6924\n"
     ]
    },
    {
     "name": "stderr",
     "output_type": "stream",
     "text": [
      "Training progress: 100%|██████████| 304/304 [00:53<00:00,  5.69batch/s]\n"
     ]
    },
    {
     "name": "stdout",
     "output_type": "stream",
     "text": [
      "Epoch 2/2, Train-Loss: 0.6882, Val-Loss: 0.6880, Val-F1: 0.2948, Val-Precision: 0.8810, Val-Recall: 0.1770, Val-Accuracy: 0.5644\n",
      "\n",
      "\u001b[92mRESULTS:\n",
      " F1-Score:0.2929427430093209, Precision:0.88, Recall:0.1757188498402556, Accuracy:0.5640394088669951, Loss:0.687895655632019 \u001b[0m \n",
      "\n",
      "\n",
      "\u001b[91mRUN 73:\u001b[0m\n",
      " Ranga2024Circuit \n",
      " lr: 0.01\n"
     ]
    },
    {
     "name": "stderr",
     "output_type": "stream",
     "text": [
      "Training progress: 100%|██████████| 304/304 [01:30<00:00,  3.36batch/s]\n"
     ]
    },
    {
     "name": "stdout",
     "output_type": "stream",
     "text": [
      "Epoch 1/2, Train-Loss: 0.5893, Val-Loss: 0.5745, Val-F1: 0.8703, Val-Precision: 0.8049, Val-Recall: 0.9474, Val-Accuracy: 0.8548\n"
     ]
    },
    {
     "name": "stderr",
     "output_type": "stream",
     "text": [
      "Training progress: 100%|██████████| 304/304 [01:30<00:00,  3.35batch/s]\n"
     ]
    },
    {
     "name": "stdout",
     "output_type": "stream",
     "text": [
      "Epoch 2/2, Train-Loss: 0.5731, Val-Loss: 0.5707, Val-F1: 0.9036, Val-Precision: 0.8623, Val-Recall: 0.9490, Val-Accuracy: 0.8958\n",
      "\n",
      "\u001b[92mRESULTS:\n",
      " F1-Score:0.8950191570881226, Precision:0.8600883652430045, Recall:0.9329073482428115, Accuracy:0.8875205254515599, Loss:0.5694276690483093 \u001b[0m \n",
      "\n",
      "\n",
      "\u001b[91mRUN 74:\u001b[0m\n",
      " Ranga2024Circuit \n",
      " lr: 0.001\n"
     ]
    },
    {
     "name": "stderr",
     "output_type": "stream",
     "text": [
      "Training progress: 100%|██████████| 304/304 [01:30<00:00,  3.37batch/s]\n"
     ]
    },
    {
     "name": "stdout",
     "output_type": "stream",
     "text": [
      "Epoch 1/2, Train-Loss: 0.6485, Val-Loss: 0.6277, Val-F1: 0.7487, Val-Precision: 0.8485, Val-Recall: 0.6699, Val-Accuracy: 0.7687\n"
     ]
    },
    {
     "name": "stderr",
     "output_type": "stream",
     "text": [
      "Training progress: 100%|██████████| 304/304 [01:30<00:00,  3.35batch/s]\n"
     ]
    },
    {
     "name": "stdout",
     "output_type": "stream",
     "text": [
      "Epoch 2/2, Train-Loss: 0.6134, Val-Loss: 0.6002, Val-F1: 0.8452, Val-Precision: 0.8372, Val-Recall: 0.8533, Val-Accuracy: 0.8392\n",
      "\n",
      "\u001b[92mRESULTS:\n",
      " F1-Score:0.8447596532702916, Precision:0.833592534992224, Recall:0.8562300319488818, Accuracy:0.8382594417077176, Loss:0.6003316640853882 \u001b[0m \n",
      "\n",
      "\n",
      "\u001b[91mRUN 75:\u001b[0m\n",
      " Senokosov2024Circuit \n",
      " lr: 0.01\n"
     ]
    },
    {
     "name": "stderr",
     "output_type": "stream",
     "text": [
      "Training progress: 100%|██████████| 304/304 [01:41<00:00,  3.00batch/s]\n"
     ]
    },
    {
     "name": "stdout",
     "output_type": "stream",
     "text": [
      "Epoch 1/2, Train-Loss: 0.5623, Val-Loss: 0.5291, Val-F1: 0.8556, Val-Precision: 0.8252, Val-Recall: 0.8884, Val-Accuracy: 0.8458\n"
     ]
    },
    {
     "name": "stderr",
     "output_type": "stream",
     "text": [
      "Training progress: 100%|██████████| 304/304 [01:41<00:00,  3.00batch/s]\n"
     ]
    },
    {
     "name": "stdout",
     "output_type": "stream",
     "text": [
      "Epoch 2/2, Train-Loss: 0.5229, Val-Loss: 0.5205, Val-F1: 0.8038, Val-Precision: 0.8642, Val-Recall: 0.7512, Val-Accuracy: 0.8113\n",
      "\n",
      "\u001b[92mRESULTS:\n",
      " F1-Score:0.8068085106382978, Precision:0.8633879781420765, Recall:0.7571884984025559, Accuracy:0.8136288998357963, Loss:0.520927369594574 \u001b[0m \n",
      "\n",
      "\n",
      "\u001b[91mRUN 76:\u001b[0m\n",
      " Senokosov2024Circuit \n",
      " lr: 0.001\n"
     ]
    },
    {
     "name": "stderr",
     "output_type": "stream",
     "text": [
      "Training progress: 100%|██████████| 304/304 [01:41<00:00,  3.00batch/s]\n"
     ]
    },
    {
     "name": "stdout",
     "output_type": "stream",
     "text": [
      "Epoch 1/2, Train-Loss: 0.6715, Val-Loss: 0.6292, Val-F1: 0.7639, Val-Precision: 0.8571, Val-Recall: 0.6890, Val-Accuracy: 0.7810\n"
     ]
    },
    {
     "name": "stderr",
     "output_type": "stream",
     "text": [
      "Training progress: 100%|██████████| 304/304 [01:41<00:00,  3.00batch/s]\n"
     ]
    },
    {
     "name": "stdout",
     "output_type": "stream",
     "text": [
      "Epoch 2/2, Train-Loss: 0.6002, Val-Loss: 0.5733, Val-F1: 0.8482, Val-Precision: 0.8283, Val-Recall: 0.8692, Val-Accuracy: 0.8400\n",
      "\n",
      "\u001b[92mRESULTS:\n",
      " F1-Score:0.8560431100846805, Precision:0.826151560178306, Recall:0.8881789137380192, Accuracy:0.8464696223316913, Loss:0.5723916292190552 \u001b[0m \n",
      "\n",
      "\n",
      "\u001b[91mRUN 77:\u001b[0m\n",
      " Anusha2024Circuit \n",
      " lr: 0.01\n"
     ]
    },
    {
     "name": "stderr",
     "output_type": "stream",
     "text": [
      "Training progress: 100%|██████████| 304/304 [00:30<00:00,  9.85batch/s]\n"
     ]
    },
    {
     "name": "stdout",
     "output_type": "stream",
     "text": [
      "Epoch 1/2, Train-Loss: 0.6427, Val-Loss: 0.5728, Val-F1: 0.7699, Val-Precision: 0.8910, Val-Recall: 0.6778, Val-Accuracy: 0.7916\n"
     ]
    },
    {
     "name": "stderr",
     "output_type": "stream",
     "text": [
      "Training progress: 100%|██████████| 304/304 [00:30<00:00,  9.85batch/s]\n"
     ]
    },
    {
     "name": "stdout",
     "output_type": "stream",
     "text": [
      "Epoch 2/2, Train-Loss: 0.5216, Val-Loss: 0.5125, Val-F1: 0.8023, Val-Precision: 0.8296, Val-Recall: 0.7767, Val-Accuracy: 0.8031\n",
      "\n",
      "\u001b[92mRESULTS:\n",
      " F1-Score:0.8111658456486043, Precision:0.8344594594594594, Recall:0.7891373801916933, Accuracy:0.8111658456486043, Loss:0.5113241076469421 \u001b[0m \n",
      "\n",
      "\n",
      "\u001b[91mRUN 78:\u001b[0m\n",
      " Anusha2024Circuit \n",
      " lr: 0.001\n"
     ]
    },
    {
     "name": "stderr",
     "output_type": "stream",
     "text": [
      "Training progress: 100%|██████████| 304/304 [00:30<00:00,  9.82batch/s]\n"
     ]
    },
    {
     "name": "stdout",
     "output_type": "stream",
     "text": [
      "Epoch 1/2, Train-Loss: 0.7111, Val-Loss: 0.7004, Val-F1: 0.6388, Val-Precision: 0.5023, Val-Recall: 0.8772, Val-Accuracy: 0.4897\n"
     ]
    },
    {
     "name": "stderr",
     "output_type": "stream",
     "text": [
      "Training progress: 100%|██████████| 304/304 [00:31<00:00,  9.77batch/s]\n"
     ]
    },
    {
     "name": "stdout",
     "output_type": "stream",
     "text": [
      "Epoch 2/2, Train-Loss: 0.6891, Val-Loss: 0.6840, Val-F1: 0.6339, Val-Precision: 0.5005, Val-Recall: 0.8644, Val-Accuracy: 0.4865\n",
      "\n",
      "\u001b[92mRESULTS:\n",
      " F1-Score:0.6433973240255962, Precision:0.505946935041171, Recall:0.8833865814696485, Accuracy:0.4967159277504105, Loss:0.6790803074836731 \u001b[0m \n",
      "\n",
      "\n",
      "\u001b[91mRUN 79:\u001b[0m\n",
      " DoubleEntanglementVLCircuit \n",
      " lr: 0.01\n"
     ]
    },
    {
     "name": "stderr",
     "output_type": "stream",
     "text": [
      "Training progress: 100%|██████████| 304/304 [00:53<00:00,  5.69batch/s]\n"
     ]
    },
    {
     "name": "stdout",
     "output_type": "stream",
     "text": [
      "Epoch 1/2, Train-Loss: 0.6087, Val-Loss: 0.5728, Val-F1: 0.8694, Val-Precision: 0.8343, Val-Recall: 0.9075, Val-Accuracy: 0.8597\n"
     ]
    },
    {
     "name": "stderr",
     "output_type": "stream",
     "text": [
      "Training progress: 100%|██████████| 304/304 [00:53<00:00,  5.68batch/s]\n"
     ]
    },
    {
     "name": "stdout",
     "output_type": "stream",
     "text": [
      "Epoch 2/2, Train-Loss: 0.5589, Val-Loss: 0.5566, Val-F1: 0.8061, Val-Precision: 0.8551, Val-Recall: 0.7624, Val-Accuracy: 0.8113\n",
      "\n",
      "\u001b[92mRESULTS:\n",
      " F1-Score:0.8043478260869565, Precision:0.843859649122807, Recall:0.768370607028754, Accuracy:0.8078817733990148, Loss:0.5577980279922485 \u001b[0m \n",
      "\n",
      "\n",
      "\u001b[91mRUN 80:\u001b[0m\n",
      " DoubleEntanglementVLCircuit \n",
      " lr: 0.001\n"
     ]
    },
    {
     "name": "stderr",
     "output_type": "stream",
     "text": [
      "Training progress: 100%|██████████| 304/304 [00:53<00:00,  5.70batch/s]\n"
     ]
    },
    {
     "name": "stdout",
     "output_type": "stream",
     "text": [
      "Epoch 1/2, Train-Loss: 0.7138, Val-Loss: 0.6620, Val-F1: 0.0827, Val-Precision: 0.5600, Val-Recall: 0.0447, Val-Accuracy: 0.4906\n"
     ]
    },
    {
     "name": "stderr",
     "output_type": "stream",
     "text": [
      "Training progress: 100%|██████████| 304/304 [00:53<00:00,  5.68batch/s]\n"
     ]
    },
    {
     "name": "stdout",
     "output_type": "stream",
     "text": [
      "Epoch 2/2, Train-Loss: 0.6399, Val-Loss: 0.6231, Val-F1: 0.7887, Val-Precision: 0.8010, Val-Recall: 0.7767, Val-Accuracy: 0.7859\n",
      "\n",
      "\u001b[92mRESULTS:\n",
      " F1-Score:0.7833197056418643, Precision:0.8023450586264657, Recall:0.7651757188498403, Accuracy:0.7824302134646962, Loss:0.6243470311164856 \u001b[0m \n",
      "\n",
      "\n"
     ]
    }
   ],
   "source": [
    "### RUN EXPERIMENT\n",
    "id = 0\n",
    "for seed, circuit, lr in itertools.product(runs, circuits, learning_rates):\n",
    "    print(f\"\"\"{RED_TEXT}RUN {id+1}:{RESET_COLOR}\\n {circuit.__name__} \\n lr: {lr}\"\"\")\n",
    "\n",
    "    # init the model\n",
    "    model = qnn.BinQuantumNeuralNetwork(n_qubits=N_QUBITS, features_per_qubit=FEAT_PER_QUBIT, circuit=circuit, seed=seed, hybrid=HYBRID)\n",
    "\n",
    "    path_identifier = f\"{circuit.__name__}_expID_{EXPERIMENT_ID}_dfID_{id}\"\n",
    "\n",
    "    # train the model (predifined optimizer, etc.)\n",
    "    trained_model, loss_history, val_losses, val_f1s, avg_epoch_time = ut.train_model(\n",
    "        model, X_train, y_train, X_val, y_val,\n",
    "        epochs=EPOCHS, batch_size=32, lr=lr, binary=True,\n",
    "        weight_path=WEIGHT_PATH+path_identifier\n",
    "    )\n",
    "    \n",
    "    # save trained model\n",
    "    model_path = MODEL_PATH+path_identifier+\".pth\"\n",
    "    torch.save(trained_model, model_path)\n",
    "\n",
    "    # evaluate\n",
    "    cross_entropy, accuracy, precision, recall, f1 = trained_model.evaluate(X_test, y_test)\n",
    "\n",
    "    results_dict = {\n",
    "        \"id\": id,\n",
    "        \"f1_score\": f1, \"precision\": precision, \"recall\": recall, \"accuracy\": accuracy, \"cross_entropy\": cross_entropy,\n",
    "        \"seed\": seed,\n",
    "        \"circuit\": circuit.__name__,\n",
    "        \"learning_rate\": lr,\n",
    "        \"loss_history\": loss_history,\n",
    "        \"val_losses\": val_losses,\n",
    "        \"val_f1s\": val_f1s,\n",
    "        \"avg_epoch_time_seconds\": avg_epoch_time,\n",
    "        \"network_str\": str(model),\n",
    "        \"model_path\": model_path,\n",
    "        \"weight_path\": WEIGHT_PATH,\n",
    "        \"epochs\": EPOCHS,\n",
    "        \"n_qubits\": N_QUBITS,\n",
    "        \"features_per_qubit\": FEAT_PER_QUBIT,\n",
    "        \"scaler\" : str(SCALER).replace(\"()\", \"\")\n",
    "    }\n",
    "    print(f\"\\n{GREEN_TEXT}RESULTS:\\n F1-Score:{f1}, Precision:{precision}, Recall:{recall}, Accuracy:{accuracy}, Loss:{cross_entropy} {RESET_COLOR} \\n\\n\")\n",
    "    \n",
    "    # append the results_dict to the RESULTS_DF\n",
    "    RESULTS_DF = pd.concat([RESULTS_DF, pd.DataFrame([results_dict])], ignore_index=True)\n",
    "    RESULTS_DF.to_csv(path_or_buf=RESULTS_PATH) # save for each run (in case of a crash)\n",
    "\n",
    "    id += 1"
   ]
  },
  {
   "cell_type": "code",
   "execution_count": 6,
   "metadata": {},
   "outputs": [
    {
     "data": {
      "text/html": [
       "<div>\n",
       "<style scoped>\n",
       "    .dataframe tbody tr th:only-of-type {\n",
       "        vertical-align: middle;\n",
       "    }\n",
       "\n",
       "    .dataframe tbody tr th {\n",
       "        vertical-align: top;\n",
       "    }\n",
       "\n",
       "    .dataframe thead th {\n",
       "        text-align: right;\n",
       "    }\n",
       "</style>\n",
       "<table border=\"1\" class=\"dataframe\">\n",
       "  <thead>\n",
       "    <tr style=\"text-align: right;\">\n",
       "      <th></th>\n",
       "      <th>id</th>\n",
       "      <th>f1_score</th>\n",
       "      <th>precision</th>\n",
       "      <th>recall</th>\n",
       "      <th>accuracy</th>\n",
       "      <th>cross_entropy</th>\n",
       "      <th>seed</th>\n",
       "      <th>circuit</th>\n",
       "      <th>learning_rate</th>\n",
       "      <th>loss_history</th>\n",
       "      <th>val_losses</th>\n",
       "      <th>val_f1s</th>\n",
       "      <th>avg_epoch_time_seconds</th>\n",
       "      <th>network_str</th>\n",
       "      <th>model_path</th>\n",
       "      <th>weight_path</th>\n",
       "      <th>epochs</th>\n",
       "      <th>n_qubits</th>\n",
       "      <th>features_per_qubit</th>\n",
       "      <th>scaler</th>\n",
       "    </tr>\n",
       "  </thead>\n",
       "  <tbody>\n",
       "    <tr>\n",
       "      <th>0</th>\n",
       "      <td>0</td>\n",
       "      <td>0.678959</td>\n",
       "      <td>0.513957</td>\n",
       "      <td>1.000000</td>\n",
       "      <td>0.513957</td>\n",
       "      <td>0.631876</td>\n",
       "      <td>1</td>\n",
       "      <td>Ranga2024Circuit</td>\n",
       "      <td>0.010</td>\n",
       "      <td>[0.65782711890183, 0.6308786188693423]</td>\n",
       "      <td>[0.6315123438835144, 0.6312209963798523]</td>\n",
       "      <td>[0.6793066088840737, 0.6793066088840737]</td>\n",
       "      <td>93.160429</td>\n",
       "      <td>BinQuantumNeuralNetwork(\\n  (quantum_circuit_n...</td>\n",
       "      <td>results/models/bin/Ranga2024Circuit_expID_1_df...</td>\n",
       "      <td>results/weights/bin/</td>\n",
       "      <td>2</td>\n",
       "      <td>4</td>\n",
       "      <td>4</td>\n",
       "      <td>MinMaxScaler</td>\n",
       "    </tr>\n",
       "    <tr>\n",
       "      <th>1</th>\n",
       "      <td>1</td>\n",
       "      <td>0.678959</td>\n",
       "      <td>0.513957</td>\n",
       "      <td>1.000000</td>\n",
       "      <td>0.513957</td>\n",
       "      <td>0.686326</td>\n",
       "      <td>1</td>\n",
       "      <td>Ranga2024Circuit</td>\n",
       "      <td>0.001</td>\n",
       "      <td>[0.7104883829229757, 0.6904856570457157]</td>\n",
       "      <td>[0.6969649791717529, 0.6852450370788574]</td>\n",
       "      <td>[0.6793066088840737, 0.6793066088840737]</td>\n",
       "      <td>92.678884</td>\n",
       "      <td>BinQuantumNeuralNetwork(\\n  (quantum_circuit_n...</td>\n",
       "      <td>results/models/bin/Ranga2024Circuit_expID_1_df...</td>\n",
       "      <td>results/weights/bin/</td>\n",
       "      <td>2</td>\n",
       "      <td>4</td>\n",
       "      <td>4</td>\n",
       "      <td>MinMaxScaler</td>\n",
       "    </tr>\n",
       "    <tr>\n",
       "      <th>2</th>\n",
       "      <td>2</td>\n",
       "      <td>0.678959</td>\n",
       "      <td>0.513957</td>\n",
       "      <td>1.000000</td>\n",
       "      <td>0.513957</td>\n",
       "      <td>0.673887</td>\n",
       "      <td>1</td>\n",
       "      <td>Senokosov2024Circuit</td>\n",
       "      <td>0.010</td>\n",
       "      <td>[0.6865284499761305, 0.6750583191843409]</td>\n",
       "      <td>[0.6780183911323547, 0.6731646656990051]</td>\n",
       "      <td>[0.6793066088840737, 0.6793066088840737]</td>\n",
       "      <td>105.048479</td>\n",
       "      <td>BinQuantumNeuralNetwork(\\n  (quantum_circuit_n...</td>\n",
       "      <td>results/models/bin/Senokosov2024Circuit_expID_...</td>\n",
       "      <td>results/weights/bin/</td>\n",
       "      <td>2</td>\n",
       "      <td>4</td>\n",
       "      <td>4</td>\n",
       "      <td>MinMaxScaler</td>\n",
       "    </tr>\n",
       "    <tr>\n",
       "      <th>3</th>\n",
       "      <td>3</td>\n",
       "      <td>0.678959</td>\n",
       "      <td>0.513957</td>\n",
       "      <td>1.000000</td>\n",
       "      <td>0.513957</td>\n",
       "      <td>0.688581</td>\n",
       "      <td>1</td>\n",
       "      <td>Senokosov2024Circuit</td>\n",
       "      <td>0.001</td>\n",
       "      <td>[0.7233674843844614, 0.6976102016081935]</td>\n",
       "      <td>[0.7090455293655396, 0.6883103251457214]</td>\n",
       "      <td>[0.6793066088840737, 0.6793066088840737]</td>\n",
       "      <td>101.043025</td>\n",
       "      <td>BinQuantumNeuralNetwork(\\n  (quantum_circuit_n...</td>\n",
       "      <td>results/models/bin/Senokosov2024Circuit_expID_...</td>\n",
       "      <td>results/weights/bin/</td>\n",
       "      <td>2</td>\n",
       "      <td>4</td>\n",
       "      <td>4</td>\n",
       "      <td>MinMaxScaler</td>\n",
       "    </tr>\n",
       "    <tr>\n",
       "      <th>4</th>\n",
       "      <td>4</td>\n",
       "      <td>0.754217</td>\n",
       "      <td>0.605416</td>\n",
       "      <td>1.000000</td>\n",
       "      <td>0.665025</td>\n",
       "      <td>0.645970</td>\n",
       "      <td>1</td>\n",
       "      <td>Anusha2024Circuit</td>\n",
       "      <td>0.010</td>\n",
       "      <td>[0.6504390418137375, 0.643677688350803]</td>\n",
       "      <td>[0.6456533074378967, 0.6453799605369568]</td>\n",
       "      <td>[0.7768800497203232, 0.7587878787878788]</td>\n",
       "      <td>30.826045</td>\n",
       "      <td>BinQuantumNeuralNetwork(\\n  (quantum_circuit_n...</td>\n",
       "      <td>results/models/bin/Anusha2024Circuit_expID_1_d...</td>\n",
       "      <td>results/weights/bin/</td>\n",
       "      <td>2</td>\n",
       "      <td>4</td>\n",
       "      <td>4</td>\n",
       "      <td>MinMaxScaler</td>\n",
       "    </tr>\n",
       "    <tr>\n",
       "      <th>...</th>\n",
       "      <td>...</td>\n",
       "      <td>...</td>\n",
       "      <td>...</td>\n",
       "      <td>...</td>\n",
       "      <td>...</td>\n",
       "      <td>...</td>\n",
       "      <td>...</td>\n",
       "      <td>...</td>\n",
       "      <td>...</td>\n",
       "      <td>...</td>\n",
       "      <td>...</td>\n",
       "      <td>...</td>\n",
       "      <td>...</td>\n",
       "      <td>...</td>\n",
       "      <td>...</td>\n",
       "      <td>...</td>\n",
       "      <td>...</td>\n",
       "      <td>...</td>\n",
       "      <td>...</td>\n",
       "      <td>...</td>\n",
       "    </tr>\n",
       "    <tr>\n",
       "      <th>75</th>\n",
       "      <td>75</td>\n",
       "      <td>0.856043</td>\n",
       "      <td>0.826152</td>\n",
       "      <td>0.888179</td>\n",
       "      <td>0.846470</td>\n",
       "      <td>0.572392</td>\n",
       "      <td>10</td>\n",
       "      <td>Senokosov2024Circuit</td>\n",
       "      <td>0.001</td>\n",
       "      <td>[0.6714938463349092, 0.6001782715320587]</td>\n",
       "      <td>[0.629224956035614, 0.5733093023300171]</td>\n",
       "      <td>[0.7639257294429708, 0.8482490272373541]</td>\n",
       "      <td>101.438121</td>\n",
       "      <td>BinQuantumNeuralNetwork(\\n  (quantum_circuit_n...</td>\n",
       "      <td>results/models/bin/Senokosov2024Circuit_expID_...</td>\n",
       "      <td>results/weights/bin/</td>\n",
       "      <td>2</td>\n",
       "      <td>4</td>\n",
       "      <td>4</td>\n",
       "      <td>MinMaxScaler</td>\n",
       "    </tr>\n",
       "    <tr>\n",
       "      <th>76</th>\n",
       "      <td>76</td>\n",
       "      <td>0.811166</td>\n",
       "      <td>0.834459</td>\n",
       "      <td>0.789137</td>\n",
       "      <td>0.811166</td>\n",
       "      <td>0.511324</td>\n",
       "      <td>10</td>\n",
       "      <td>Anusha2024Circuit</td>\n",
       "      <td>0.010</td>\n",
       "      <td>[0.642745738358874, 0.52155496464356]</td>\n",
       "      <td>[0.5727839469909668, 0.5124857425689697]</td>\n",
       "      <td>[0.769927536231884, 0.8023064250411862]</td>\n",
       "      <td>30.867648</td>\n",
       "      <td>BinQuantumNeuralNetwork(\\n  (quantum_circuit_n...</td>\n",
       "      <td>results/models/bin/Anusha2024Circuit_expID_1_d...</td>\n",
       "      <td>results/weights/bin/</td>\n",
       "      <td>2</td>\n",
       "      <td>4</td>\n",
       "      <td>4</td>\n",
       "      <td>MinMaxScaler</td>\n",
       "    </tr>\n",
       "    <tr>\n",
       "      <th>77</th>\n",
       "      <td>77</td>\n",
       "      <td>0.643397</td>\n",
       "      <td>0.505947</td>\n",
       "      <td>0.883387</td>\n",
       "      <td>0.496716</td>\n",
       "      <td>0.679080</td>\n",
       "      <td>10</td>\n",
       "      <td>Anusha2024Circuit</td>\n",
       "      <td>0.001</td>\n",
       "      <td>[0.7111103883699367, 0.6890819235459754]</td>\n",
       "      <td>[0.7003628611564636, 0.6839656233787537]</td>\n",
       "      <td>[0.6387921022067363, 0.6339181286549708]</td>\n",
       "      <td>31.034930</td>\n",
       "      <td>BinQuantumNeuralNetwork(\\n  (quantum_circuit_n...</td>\n",
       "      <td>results/models/bin/Anusha2024Circuit_expID_1_d...</td>\n",
       "      <td>results/weights/bin/</td>\n",
       "      <td>2</td>\n",
       "      <td>4</td>\n",
       "      <td>4</td>\n",
       "      <td>MinMaxScaler</td>\n",
       "    </tr>\n",
       "    <tr>\n",
       "      <th>78</th>\n",
       "      <td>78</td>\n",
       "      <td>0.804348</td>\n",
       "      <td>0.843860</td>\n",
       "      <td>0.768371</td>\n",
       "      <td>0.807882</td>\n",
       "      <td>0.557798</td>\n",
       "      <td>10</td>\n",
       "      <td>DoubleEntanglementVLCircuit</td>\n",
       "      <td>0.010</td>\n",
       "      <td>[0.6087245401975355, 0.5588885808461591]</td>\n",
       "      <td>[0.5727593898773193, 0.5565664172172546]</td>\n",
       "      <td>[0.8693659281894576, 0.806070826306914]</td>\n",
       "      <td>53.473401</td>\n",
       "      <td>BinQuantumNeuralNetwork(\\n  (quantum_circuit_n...</td>\n",
       "      <td>results/models/bin/DoubleEntanglementVLCircuit...</td>\n",
       "      <td>results/weights/bin/</td>\n",
       "      <td>2</td>\n",
       "      <td>4</td>\n",
       "      <td>4</td>\n",
       "      <td>MinMaxScaler</td>\n",
       "    </tr>\n",
       "    <tr>\n",
       "      <th>79</th>\n",
       "      <td>79</td>\n",
       "      <td>0.783320</td>\n",
       "      <td>0.802345</td>\n",
       "      <td>0.765176</td>\n",
       "      <td>0.782430</td>\n",
       "      <td>0.624347</td>\n",
       "      <td>10</td>\n",
       "      <td>DoubleEntanglementVLCircuit</td>\n",
       "      <td>0.001</td>\n",
       "      <td>[0.7138104746608358, 0.6398666902984443]</td>\n",
       "      <td>[0.6620017290115356, 0.6230989694595337]</td>\n",
       "      <td>[0.0827178729689808, 0.7886639676113361]</td>\n",
       "      <td>53.404519</td>\n",
       "      <td>BinQuantumNeuralNetwork(\\n  (quantum_circuit_n...</td>\n",
       "      <td>results/models/bin/DoubleEntanglementVLCircuit...</td>\n",
       "      <td>results/weights/bin/</td>\n",
       "      <td>2</td>\n",
       "      <td>4</td>\n",
       "      <td>4</td>\n",
       "      <td>MinMaxScaler</td>\n",
       "    </tr>\n",
       "  </tbody>\n",
       "</table>\n",
       "<p>80 rows × 20 columns</p>\n",
       "</div>"
      ],
      "text/plain": [
       "    id  f1_score  precision    recall  accuracy  cross_entropy  seed  \\\n",
       "0    0  0.678959   0.513957  1.000000  0.513957       0.631876     1   \n",
       "1    1  0.678959   0.513957  1.000000  0.513957       0.686326     1   \n",
       "2    2  0.678959   0.513957  1.000000  0.513957       0.673887     1   \n",
       "3    3  0.678959   0.513957  1.000000  0.513957       0.688581     1   \n",
       "4    4  0.754217   0.605416  1.000000  0.665025       0.645970     1   \n",
       "..  ..       ...        ...       ...       ...            ...   ...   \n",
       "75  75  0.856043   0.826152  0.888179  0.846470       0.572392    10   \n",
       "76  76  0.811166   0.834459  0.789137  0.811166       0.511324    10   \n",
       "77  77  0.643397   0.505947  0.883387  0.496716       0.679080    10   \n",
       "78  78  0.804348   0.843860  0.768371  0.807882       0.557798    10   \n",
       "79  79  0.783320   0.802345  0.765176  0.782430       0.624347    10   \n",
       "\n",
       "                        circuit  learning_rate  \\\n",
       "0              Ranga2024Circuit          0.010   \n",
       "1              Ranga2024Circuit          0.001   \n",
       "2          Senokosov2024Circuit          0.010   \n",
       "3          Senokosov2024Circuit          0.001   \n",
       "4             Anusha2024Circuit          0.010   \n",
       "..                          ...            ...   \n",
       "75         Senokosov2024Circuit          0.001   \n",
       "76            Anusha2024Circuit          0.010   \n",
       "77            Anusha2024Circuit          0.001   \n",
       "78  DoubleEntanglementVLCircuit          0.010   \n",
       "79  DoubleEntanglementVLCircuit          0.001   \n",
       "\n",
       "                                loss_history  \\\n",
       "0     [0.65782711890183, 0.6308786188693423]   \n",
       "1   [0.7104883829229757, 0.6904856570457157]   \n",
       "2   [0.6865284499761305, 0.6750583191843409]   \n",
       "3   [0.7233674843844614, 0.6976102016081935]   \n",
       "4    [0.6504390418137375, 0.643677688350803]   \n",
       "..                                       ...   \n",
       "75  [0.6714938463349092, 0.6001782715320587]   \n",
       "76     [0.642745738358874, 0.52155496464356]   \n",
       "77  [0.7111103883699367, 0.6890819235459754]   \n",
       "78  [0.6087245401975355, 0.5588885808461591]   \n",
       "79  [0.7138104746608358, 0.6398666902984443]   \n",
       "\n",
       "                                  val_losses  \\\n",
       "0   [0.6315123438835144, 0.6312209963798523]   \n",
       "1   [0.6969649791717529, 0.6852450370788574]   \n",
       "2   [0.6780183911323547, 0.6731646656990051]   \n",
       "3   [0.7090455293655396, 0.6883103251457214]   \n",
       "4   [0.6456533074378967, 0.6453799605369568]   \n",
       "..                                       ...   \n",
       "75   [0.629224956035614, 0.5733093023300171]   \n",
       "76  [0.5727839469909668, 0.5124857425689697]   \n",
       "77  [0.7003628611564636, 0.6839656233787537]   \n",
       "78  [0.5727593898773193, 0.5565664172172546]   \n",
       "79  [0.6620017290115356, 0.6230989694595337]   \n",
       "\n",
       "                                     val_f1s  avg_epoch_time_seconds  \\\n",
       "0   [0.6793066088840737, 0.6793066088840737]               93.160429   \n",
       "1   [0.6793066088840737, 0.6793066088840737]               92.678884   \n",
       "2   [0.6793066088840737, 0.6793066088840737]              105.048479   \n",
       "3   [0.6793066088840737, 0.6793066088840737]              101.043025   \n",
       "4   [0.7768800497203232, 0.7587878787878788]               30.826045   \n",
       "..                                       ...                     ...   \n",
       "75  [0.7639257294429708, 0.8482490272373541]              101.438121   \n",
       "76   [0.769927536231884, 0.8023064250411862]               30.867648   \n",
       "77  [0.6387921022067363, 0.6339181286549708]               31.034930   \n",
       "78   [0.8693659281894576, 0.806070826306914]               53.473401   \n",
       "79  [0.0827178729689808, 0.7886639676113361]               53.404519   \n",
       "\n",
       "                                          network_str  \\\n",
       "0   BinQuantumNeuralNetwork(\\n  (quantum_circuit_n...   \n",
       "1   BinQuantumNeuralNetwork(\\n  (quantum_circuit_n...   \n",
       "2   BinQuantumNeuralNetwork(\\n  (quantum_circuit_n...   \n",
       "3   BinQuantumNeuralNetwork(\\n  (quantum_circuit_n...   \n",
       "4   BinQuantumNeuralNetwork(\\n  (quantum_circuit_n...   \n",
       "..                                                ...   \n",
       "75  BinQuantumNeuralNetwork(\\n  (quantum_circuit_n...   \n",
       "76  BinQuantumNeuralNetwork(\\n  (quantum_circuit_n...   \n",
       "77  BinQuantumNeuralNetwork(\\n  (quantum_circuit_n...   \n",
       "78  BinQuantumNeuralNetwork(\\n  (quantum_circuit_n...   \n",
       "79  BinQuantumNeuralNetwork(\\n  (quantum_circuit_n...   \n",
       "\n",
       "                                           model_path           weight_path  \\\n",
       "0   results/models/bin/Ranga2024Circuit_expID_1_df...  results/weights/bin/   \n",
       "1   results/models/bin/Ranga2024Circuit_expID_1_df...  results/weights/bin/   \n",
       "2   results/models/bin/Senokosov2024Circuit_expID_...  results/weights/bin/   \n",
       "3   results/models/bin/Senokosov2024Circuit_expID_...  results/weights/bin/   \n",
       "4   results/models/bin/Anusha2024Circuit_expID_1_d...  results/weights/bin/   \n",
       "..                                                ...                   ...   \n",
       "75  results/models/bin/Senokosov2024Circuit_expID_...  results/weights/bin/   \n",
       "76  results/models/bin/Anusha2024Circuit_expID_1_d...  results/weights/bin/   \n",
       "77  results/models/bin/Anusha2024Circuit_expID_1_d...  results/weights/bin/   \n",
       "78  results/models/bin/DoubleEntanglementVLCircuit...  results/weights/bin/   \n",
       "79  results/models/bin/DoubleEntanglementVLCircuit...  results/weights/bin/   \n",
       "\n",
       "    epochs  n_qubits  features_per_qubit        scaler  \n",
       "0        2         4                   4  MinMaxScaler  \n",
       "1        2         4                   4  MinMaxScaler  \n",
       "2        2         4                   4  MinMaxScaler  \n",
       "3        2         4                   4  MinMaxScaler  \n",
       "4        2         4                   4  MinMaxScaler  \n",
       "..     ...       ...                 ...           ...  \n",
       "75       2         4                   4  MinMaxScaler  \n",
       "76       2         4                   4  MinMaxScaler  \n",
       "77       2         4                   4  MinMaxScaler  \n",
       "78       2         4                   4  MinMaxScaler  \n",
       "79       2         4                   4  MinMaxScaler  \n",
       "\n",
       "[80 rows x 20 columns]"
      ]
     },
     "execution_count": 6,
     "metadata": {},
     "output_type": "execute_result"
    }
   ],
   "source": [
    "RESULTS_DF"
   ]
  }
 ],
 "metadata": {
  "kernelspec": {
   "display_name": "base",
   "language": "python",
   "name": "python3"
  },
  "language_info": {
   "codemirror_mode": {
    "name": "ipython",
    "version": 3
   },
   "file_extension": ".py",
   "mimetype": "text/x-python",
   "name": "python",
   "nbconvert_exporter": "python",
   "pygments_lexer": "ipython3",
   "version": "3.12.7"
  }
 },
 "nbformat": 4,
 "nbformat_minor": 2
}
