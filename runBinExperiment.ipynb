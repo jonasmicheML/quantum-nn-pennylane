{
 "cells": [
  {
   "cell_type": "code",
   "execution_count": null,
   "metadata": {},
   "outputs": [],
   "source": [
    "from sklearn.preprocessing import MinMaxScaler\n",
    "import itertools\n",
    "import pandas as pd\n",
    "import torch\n",
    "\n",
    "# get our predefined functions (for data processing, etc.)\n",
    "import QCircNet.utils as ut\n",
    "\n",
    "# get our predefined quantum circuits and neural networks\n",
    "import QCircNet.circuits.CustomCircuits as cn\n",
    "import QCircNet.BinaryQuantumNN as qnn\n",
    "\n",
    "\n",
    "EXPERIMENT_ID = 0\n",
    "HYBRID = False\n",
    "\n",
    "X_PATH = \"data/X_apd_class6_7.npy\"\n",
    "Y_PATH = \"data/y_apd_class6_7.npy\"\n",
    "BIN_ENCODING = {6: 0, 7: 1}\n",
    "\n",
    "\n",
    "N_QUBITS = 4\n",
    "FEAT_PER_QUBIT = 4\n",
    "\n",
    "SCALER = MinMaxScaler()\n",
    "\n",
    "SUBSET = None\n",
    "\n",
    "EPOCHS = 2\n",
    "WEIGHT_PATH = f\"results/weights/bin/\"\n",
    "MODEL_PATH = f\"results/models/bin/\"\n",
    "RESULTS_PATH = f\"results/model_results_expID_{EXPERIMENT_ID}.csv\"\n",
    "RESULTS_DF = pd.DataFrame()\n",
    "\n",
    "VALIDATION = True\n",
    "\n",
    "# for printing colored text output during training\n",
    "RED_TEXT = \"\\033[91m\"\n",
    "GREEN_TEXT = \"\\033[92m\"\n",
    "RESET_COLOR = \"\\033[0m\" \n"
   ]
  },
  {
   "cell_type": "code",
   "execution_count": 2,
   "metadata": {},
   "outputs": [
    {
     "name": "stdout",
     "output_type": "stream",
     "text": [
      "train:\t torch.Size([50, 16]) torch.Size([50])\n",
      "val:\t torch.Size([50, 16]) torch.Size([50])\n",
      "test:\t torch.Size([50, 16]) torch.Size([50])\n"
     ]
    }
   ],
   "source": [
    "# load the data\n",
    "X_train, X_val, X_test, y_train, y_val, y_test, _ = ut.load_and_prepare_data(X_PATH, Y_PATH, scaler=SCALER, bin_encoding=BIN_ENCODING, subset=SUBSET)\n",
    "\n",
    "# check shapes\n",
    "print(\"train:\\t\", X_train.shape, y_train.shape)\n",
    "print(\"val:\\t\", X_val.shape, y_val.shape)\n",
    "print(\"test:\\t\", X_test.shape, y_test.shape)"
   ]
  },
  {
   "cell_type": "code",
   "execution_count": 3,
   "metadata": {},
   "outputs": [
    {
     "data": {
      "text/plain": [
       "[QCircNet.circuits.CustomCircuits.Anusha2024Circuit,\n",
       " QCircNet.circuits.CustomCircuits.DoubleEntanglementVLCircuit,\n",
       " QCircNet.circuits.CustomCircuits.Ranga2024Circuit,\n",
       " QCircNet.circuits.CustomCircuits.Senokosov2024Circuit]"
      ]
     },
     "execution_count": 3,
     "metadata": {},
     "output_type": "execute_result"
    }
   ],
   "source": [
    "cn.get_custom_circuits()"
   ]
  },
  {
   "cell_type": "code",
   "execution_count": 4,
   "metadata": {},
   "outputs": [],
   "source": [
    "circuits = [\n",
    "    cn.Ranga2024Circuit,\n",
    "    cn.Senokosov2024Circuit,\n",
    "    cn.Anusha2024Circuit,\n",
    "    cn.DoubleEntanglementVLCircuit,\n",
    "]\n",
    "\n",
    "runs = list(range(1, 11)) # runs are also used as seeds (reproducibility)\n",
    "learning_rates = [0.01, 0.001]"
   ]
  },
  {
   "cell_type": "code",
   "execution_count": 5,
   "metadata": {},
   "outputs": [
    {
     "name": "stdout",
     "output_type": "stream",
     "text": [
      "\u001b[91mRUN 1:\u001b[0m\n",
      " Ranga2024Circuit \n",
      " lr: 0.01\n"
     ]
    },
    {
     "name": "stderr",
     "output_type": "stream",
     "text": [
      "Training progress: 100%|██████████| 1/1 [00:00<00:00,  2.84batch/s]\n"
     ]
    },
    {
     "name": "stdout",
     "output_type": "stream",
     "text": [
      "Epoch 1/2, Train-Loss: 0.6418, Val-Loss: 0.7656, Val-F1: 0.6301, Val-Precision: 0.4600, Val-Recall: 1.0000, Val-Accuracy: 0.4600\n"
     ]
    },
    {
     "name": "stderr",
     "output_type": "stream",
     "text": [
      "Training progress: 100%|██████████| 1/1 [00:00<00:00,  2.67batch/s]\n"
     ]
    },
    {
     "name": "stdout",
     "output_type": "stream",
     "text": [
      "Epoch 2/2, Train-Loss: 0.6832, Val-Loss: 0.7638, Val-F1: 0.6301, Val-Precision: 0.4600, Val-Recall: 1.0000, Val-Accuracy: 0.4600\n",
      "\n",
      "\u001b[92mRESULTS:\n",
      " F1-Score:0.5714285714285714, Precision:0.4, Recall:1.0, Accuracy:0.4, Loss:0.7863527536392212 \u001b[0m \n",
      "\n",
      "\n",
      "\u001b[91mRUN 2:\u001b[0m\n",
      " Ranga2024Circuit \n",
      " lr: 0.001\n"
     ]
    },
    {
     "name": "stderr",
     "output_type": "stream",
     "text": [
      "Training progress: 100%|██████████| 1/1 [00:00<00:00,  3.47batch/s]\n"
     ]
    },
    {
     "name": "stdout",
     "output_type": "stream",
     "text": [
      "Epoch 1/2, Train-Loss: 0.6418, Val-Loss: 0.7669, Val-F1: 0.6301, Val-Precision: 0.4600, Val-Recall: 1.0000, Val-Accuracy: 0.4600\n"
     ]
    },
    {
     "name": "stderr",
     "output_type": "stream",
     "text": [
      "Training progress: 100%|██████████| 1/1 [00:00<00:00,  3.40batch/s]\n"
     ]
    },
    {
     "name": "stdout",
     "output_type": "stream",
     "text": [
      "Epoch 2/2, Train-Loss: 0.6843, Val-Loss: 0.7667, Val-F1: 0.6301, Val-Precision: 0.4600, Val-Recall: 1.0000, Val-Accuracy: 0.4600\n",
      "\n",
      "\u001b[92mRESULTS:\n",
      " F1-Score:0.5714285714285714, Precision:0.4, Recall:1.0, Accuracy:0.4, Loss:0.7885320782661438 \u001b[0m \n",
      "\n",
      "\n",
      "\u001b[91mRUN 3:\u001b[0m\n",
      " Senokosov2024Circuit \n",
      " lr: 0.01\n"
     ]
    },
    {
     "name": "stderr",
     "output_type": "stream",
     "text": [
      "Training progress: 100%|██████████| 1/1 [00:00<00:00,  3.19batch/s]\n"
     ]
    },
    {
     "name": "stdout",
     "output_type": "stream",
     "text": [
      "Epoch 1/2, Train-Loss: 0.6413, Val-Loss: 0.7864, Val-F1: 0.6301, Val-Precision: 0.4600, Val-Recall: 1.0000, Val-Accuracy: 0.4600\n"
     ]
    },
    {
     "name": "stderr",
     "output_type": "stream",
     "text": [
      "Training progress: 100%|██████████| 1/1 [00:00<00:00,  3.04batch/s]\n"
     ]
    },
    {
     "name": "stdout",
     "output_type": "stream",
     "text": [
      "Epoch 2/2, Train-Loss: 0.6861, Val-Loss: 0.7837, Val-F1: 0.6301, Val-Precision: 0.4600, Val-Recall: 1.0000, Val-Accuracy: 0.4600\n",
      "\n",
      "\u001b[92mRESULTS:\n",
      " F1-Score:0.5714285714285714, Precision:0.4, Recall:1.0, Accuracy:0.4, Loss:0.8268860578536987 \u001b[0m \n",
      "\n",
      "\n",
      "\u001b[91mRUN 4:\u001b[0m\n",
      " Senokosov2024Circuit \n",
      " lr: 0.001\n"
     ]
    },
    {
     "name": "stderr",
     "output_type": "stream",
     "text": [
      "Training progress: 100%|██████████| 1/1 [00:00<00:00,  3.21batch/s]\n"
     ]
    },
    {
     "name": "stdout",
     "output_type": "stream",
     "text": [
      "Epoch 1/2, Train-Loss: 0.6413, Val-Loss: 0.7890, Val-F1: 0.6301, Val-Precision: 0.4600, Val-Recall: 1.0000, Val-Accuracy: 0.4600\n"
     ]
    },
    {
     "name": "stderr",
     "output_type": "stream",
     "text": [
      "Training progress: 100%|██████████| 1/1 [00:00<00:00,  2.98batch/s]\n"
     ]
    },
    {
     "name": "stdout",
     "output_type": "stream",
     "text": [
      "Epoch 2/2, Train-Loss: 0.6872, Val-Loss: 0.7887, Val-F1: 0.6301, Val-Precision: 0.4600, Val-Recall: 1.0000, Val-Accuracy: 0.4600\n",
      "\n",
      "\u001b[92mRESULTS:\n",
      " F1-Score:0.5714285714285714, Precision:0.4, Recall:1.0, Accuracy:0.4, Loss:0.8329628109931946 \u001b[0m \n",
      "\n",
      "\n",
      "\u001b[91mRUN 5:\u001b[0m\n",
      " Anusha2024Circuit \n",
      " lr: 0.01\n"
     ]
    },
    {
     "name": "stderr",
     "output_type": "stream",
     "text": [
      "Training progress: 100%|██████████| 1/1 [00:00<00:00,  8.90batch/s]\n"
     ]
    },
    {
     "name": "stdout",
     "output_type": "stream",
     "text": [
      "Epoch 1/2, Train-Loss: 0.6441, Val-Loss: 0.7162, Val-F1: 0.6301, Val-Precision: 0.4600, Val-Recall: 1.0000, Val-Accuracy: 0.4600\n"
     ]
    },
    {
     "name": "stderr",
     "output_type": "stream",
     "text": [
      "Training progress: 100%|██████████| 1/1 [00:00<00:00,  7.15batch/s]\n"
     ]
    },
    {
     "name": "stdout",
     "output_type": "stream",
     "text": [
      "Epoch 2/2, Train-Loss: 0.6470, Val-Loss: 0.7161, Val-F1: 0.6301, Val-Precision: 0.4600, Val-Recall: 1.0000, Val-Accuracy: 0.4600\n",
      "\n",
      "\u001b[92mRESULTS:\n",
      " F1-Score:0.5714285714285714, Precision:0.4, Recall:1.0, Accuracy:0.4, Loss:0.7241995334625244 \u001b[0m \n",
      "\n",
      "\n",
      "\u001b[91mRUN 6:\u001b[0m\n",
      " Anusha2024Circuit \n",
      " lr: 0.001\n"
     ]
    },
    {
     "name": "stderr",
     "output_type": "stream",
     "text": [
      "Training progress: 100%|██████████| 1/1 [00:00<00:00,  9.63batch/s]\n"
     ]
    },
    {
     "name": "stdout",
     "output_type": "stream",
     "text": [
      "Epoch 1/2, Train-Loss: 0.6441, Val-Loss: 0.7163, Val-F1: 0.6301, Val-Precision: 0.4600, Val-Recall: 1.0000, Val-Accuracy: 0.4600\n"
     ]
    },
    {
     "name": "stderr",
     "output_type": "stream",
     "text": [
      "Training progress: 100%|██████████| 1/1 [00:00<00:00,  9.23batch/s]\n"
     ]
    },
    {
     "name": "stdout",
     "output_type": "stream",
     "text": [
      "Epoch 2/2, Train-Loss: 0.6476, Val-Loss: 0.7163, Val-F1: 0.6301, Val-Precision: 0.4600, Val-Recall: 1.0000, Val-Accuracy: 0.4600\n",
      "\n",
      "\u001b[92mRESULTS:\n",
      " F1-Score:0.5714285714285714, Precision:0.4, Recall:1.0, Accuracy:0.4, Loss:0.7238404750823975 \u001b[0m \n",
      "\n",
      "\n",
      "\u001b[91mRUN 7:\u001b[0m\n",
      " DoubleEntanglementVLCircuit \n",
      " lr: 0.01\n"
     ]
    },
    {
     "name": "stderr",
     "output_type": "stream",
     "text": [
      "Training progress: 100%|██████████| 1/1 [00:00<00:00,  5.87batch/s]\n"
     ]
    },
    {
     "name": "stdout",
     "output_type": "stream",
     "text": [
      "Epoch 1/2, Train-Loss: 0.6502, Val-Loss: 0.7949, Val-F1: 0.6301, Val-Precision: 0.4600, Val-Recall: 1.0000, Val-Accuracy: 0.4600\n"
     ]
    },
    {
     "name": "stderr",
     "output_type": "stream",
     "text": [
      "Training progress: 100%|██████████| 1/1 [00:00<00:00,  5.56batch/s]\n"
     ]
    },
    {
     "name": "stdout",
     "output_type": "stream",
     "text": [
      "Epoch 2/2, Train-Loss: 0.6993, Val-Loss: 0.7920, Val-F1: 0.6301, Val-Precision: 0.4600, Val-Recall: 1.0000, Val-Accuracy: 0.4600\n",
      "\n",
      "\u001b[92mRESULTS:\n",
      " F1-Score:0.5714285714285714, Precision:0.4, Recall:1.0, Accuracy:0.4, Loss:0.8417538404464722 \u001b[0m \n",
      "\n",
      "\n",
      "\u001b[91mRUN 8:\u001b[0m\n",
      " DoubleEntanglementVLCircuit \n",
      " lr: 0.001\n"
     ]
    },
    {
     "name": "stderr",
     "output_type": "stream",
     "text": [
      "Training progress: 100%|██████████| 1/1 [00:00<00:00,  4.89batch/s]\n"
     ]
    },
    {
     "name": "stdout",
     "output_type": "stream",
     "text": [
      "Epoch 1/2, Train-Loss: 0.6502, Val-Loss: 0.7972, Val-F1: 0.6301, Val-Precision: 0.4600, Val-Recall: 1.0000, Val-Accuracy: 0.4600\n"
     ]
    },
    {
     "name": "stderr",
     "output_type": "stream",
     "text": [
      "Training progress: 100%|██████████| 1/1 [00:00<00:00,  5.59batch/s]\n"
     ]
    },
    {
     "name": "stdout",
     "output_type": "stream",
     "text": [
      "Epoch 2/2, Train-Loss: 0.7005, Val-Loss: 0.7969, Val-F1: 0.6301, Val-Precision: 0.4600, Val-Recall: 1.0000, Val-Accuracy: 0.4600\n",
      "\n",
      "\u001b[92mRESULTS:\n",
      " F1-Score:0.5714285714285714, Precision:0.4, Recall:1.0, Accuracy:0.4, Loss:0.8478109240531921 \u001b[0m \n",
      "\n",
      "\n",
      "\u001b[91mRUN 9:\u001b[0m\n",
      " Ranga2024Circuit \n",
      " lr: 0.01\n"
     ]
    },
    {
     "name": "stderr",
     "output_type": "stream",
     "text": [
      "Training progress: 100%|██████████| 1/1 [00:00<00:00,  3.45batch/s]\n"
     ]
    },
    {
     "ename": "KeyboardInterrupt",
     "evalue": "",
     "output_type": "error",
     "traceback": [
      "\u001b[0;31m---------------------------------------------------------------------------\u001b[0m",
      "\u001b[0;31mKeyboardInterrupt\u001b[0m                         Traceback (most recent call last)",
      "Cell \u001b[0;32mIn[5], line 12\u001b[0m\n\u001b[1;32m      9\u001b[0m path_identifier \u001b[38;5;241m=\u001b[39m \u001b[38;5;124mf\u001b[39m\u001b[38;5;124m\"\u001b[39m\u001b[38;5;132;01m{\u001b[39;00mcircuit\u001b[38;5;241m.\u001b[39m\u001b[38;5;18m__name__\u001b[39m\u001b[38;5;132;01m}\u001b[39;00m\u001b[38;5;124m_expID_\u001b[39m\u001b[38;5;132;01m{\u001b[39;00mEXPERIMENT_ID\u001b[38;5;132;01m}\u001b[39;00m\u001b[38;5;124m_dfID_\u001b[39m\u001b[38;5;132;01m{\u001b[39;00m\u001b[38;5;28mid\u001b[39m\u001b[38;5;132;01m}\u001b[39;00m\u001b[38;5;124m\"\u001b[39m\n\u001b[1;32m     11\u001b[0m \u001b[38;5;66;03m# train the model (predifined optimizer, etc.)\u001b[39;00m\n\u001b[0;32m---> 12\u001b[0m trained_model, loss_history, val_losses, val_f1s, avg_epoch_time \u001b[38;5;241m=\u001b[39m ut\u001b[38;5;241m.\u001b[39mtrain_model(\n\u001b[1;32m     13\u001b[0m     model, X_train, y_train, X_val, y_val,\n\u001b[1;32m     14\u001b[0m     epochs\u001b[38;5;241m=\u001b[39mEPOCHS, batch_size\u001b[38;5;241m=\u001b[39m\u001b[38;5;241m32\u001b[39m, lr\u001b[38;5;241m=\u001b[39mlr, binary\u001b[38;5;241m=\u001b[39m\u001b[38;5;28;01mTrue\u001b[39;00m,\n\u001b[1;32m     15\u001b[0m     weight_path\u001b[38;5;241m=\u001b[39mWEIGHT_PATH\u001b[38;5;241m+\u001b[39mpath_identifier\n\u001b[1;32m     16\u001b[0m )\n\u001b[1;32m     18\u001b[0m \u001b[38;5;66;03m# save trained model\u001b[39;00m\n\u001b[1;32m     19\u001b[0m model_path \u001b[38;5;241m=\u001b[39m MODEL_PATH\u001b[38;5;241m+\u001b[39mpath_identifier\u001b[38;5;241m+\u001b[39m\u001b[38;5;124m\"\u001b[39m\u001b[38;5;124m.pth\u001b[39m\u001b[38;5;124m\"\u001b[39m\n",
      "File \u001b[0;32m~/repositories/quantum-nn-pennylane/QCircNet/utils.py:214\u001b[0m, in \u001b[0;36mtrain_model\u001b[0;34m(model, X_train, y_train, X_val, y_val, epochs, batch_size, lr, binary, weight_path)\u001b[0m\n\u001b[1;32m    211\u001b[0m losses\u001b[38;5;241m.\u001b[39mappend(avg_loss)\n\u001b[1;32m    213\u001b[0m \u001b[38;5;28;01mif\u001b[39;00m X_val \u001b[38;5;129;01mis\u001b[39;00m \u001b[38;5;129;01mnot\u001b[39;00m \u001b[38;5;28;01mNone\u001b[39;00m \u001b[38;5;129;01mand\u001b[39;00m y_val \u001b[38;5;129;01mis\u001b[39;00m \u001b[38;5;129;01mnot\u001b[39;00m \u001b[38;5;28;01mNone\u001b[39;00m:   \n\u001b[0;32m--> 214\u001b[0m     loss, accuracy, precision, recall, f1 \u001b[38;5;241m=\u001b[39m model\u001b[38;5;241m.\u001b[39mevaluate(X_val, y_val)\n\u001b[1;32m    215\u001b[0m     val_losses\u001b[38;5;241m.\u001b[39mappend(loss)\n\u001b[1;32m    216\u001b[0m     val_f1s\u001b[38;5;241m.\u001b[39mappend(f1)\n",
      "File \u001b[0;32m~/repositories/quantum-nn-pennylane/QCircNet/BinaryQuantumNN.py:77\u001b[0m, in \u001b[0;36mBinQuantumNeuralNetwork.evaluate\u001b[0;34m(self, X_test, y_test)\u001b[0m\n\u001b[1;32m     75\u001b[0m \u001b[38;5;28mself\u001b[39m\u001b[38;5;241m.\u001b[39meval()   \n\u001b[1;32m     76\u001b[0m \u001b[38;5;28;01mwith\u001b[39;00m torch\u001b[38;5;241m.\u001b[39mno_grad():\n\u001b[0;32m---> 77\u001b[0m     y_pred, _ \u001b[38;5;241m=\u001b[39m \u001b[38;5;28mself\u001b[39m(X_test)\n\u001b[1;32m     79\u001b[0m     bce \u001b[38;5;241m=\u001b[39m nn\u001b[38;5;241m.\u001b[39mBCELoss()(y_pred, y_test)\u001b[38;5;241m.\u001b[39mitem()\n\u001b[1;32m     81\u001b[0m     \u001b[38;5;66;03m# round predictions to get class labels\u001b[39;00m\n",
      "File \u001b[0;32m/opt/homebrew/anaconda3/lib/python3.12/site-packages/torch/nn/modules/module.py:1739\u001b[0m, in \u001b[0;36mModule._wrapped_call_impl\u001b[0;34m(self, *args, **kwargs)\u001b[0m\n\u001b[1;32m   1737\u001b[0m     \u001b[38;5;28;01mreturn\u001b[39;00m \u001b[38;5;28mself\u001b[39m\u001b[38;5;241m.\u001b[39m_compiled_call_impl(\u001b[38;5;241m*\u001b[39margs, \u001b[38;5;241m*\u001b[39m\u001b[38;5;241m*\u001b[39mkwargs)  \u001b[38;5;66;03m# type: ignore[misc]\u001b[39;00m\n\u001b[1;32m   1738\u001b[0m \u001b[38;5;28;01melse\u001b[39;00m:\n\u001b[0;32m-> 1739\u001b[0m     \u001b[38;5;28;01mreturn\u001b[39;00m \u001b[38;5;28mself\u001b[39m\u001b[38;5;241m.\u001b[39m_call_impl(\u001b[38;5;241m*\u001b[39margs, \u001b[38;5;241m*\u001b[39m\u001b[38;5;241m*\u001b[39mkwargs)\n",
      "File \u001b[0;32m/opt/homebrew/anaconda3/lib/python3.12/site-packages/torch/nn/modules/module.py:1750\u001b[0m, in \u001b[0;36mModule._call_impl\u001b[0;34m(self, *args, **kwargs)\u001b[0m\n\u001b[1;32m   1745\u001b[0m \u001b[38;5;66;03m# If we don't have any hooks, we want to skip the rest of the logic in\u001b[39;00m\n\u001b[1;32m   1746\u001b[0m \u001b[38;5;66;03m# this function, and just call forward.\u001b[39;00m\n\u001b[1;32m   1747\u001b[0m \u001b[38;5;28;01mif\u001b[39;00m \u001b[38;5;129;01mnot\u001b[39;00m (\u001b[38;5;28mself\u001b[39m\u001b[38;5;241m.\u001b[39m_backward_hooks \u001b[38;5;129;01mor\u001b[39;00m \u001b[38;5;28mself\u001b[39m\u001b[38;5;241m.\u001b[39m_backward_pre_hooks \u001b[38;5;129;01mor\u001b[39;00m \u001b[38;5;28mself\u001b[39m\u001b[38;5;241m.\u001b[39m_forward_hooks \u001b[38;5;129;01mor\u001b[39;00m \u001b[38;5;28mself\u001b[39m\u001b[38;5;241m.\u001b[39m_forward_pre_hooks\n\u001b[1;32m   1748\u001b[0m         \u001b[38;5;129;01mor\u001b[39;00m _global_backward_pre_hooks \u001b[38;5;129;01mor\u001b[39;00m _global_backward_hooks\n\u001b[1;32m   1749\u001b[0m         \u001b[38;5;129;01mor\u001b[39;00m _global_forward_hooks \u001b[38;5;129;01mor\u001b[39;00m _global_forward_pre_hooks):\n\u001b[0;32m-> 1750\u001b[0m     \u001b[38;5;28;01mreturn\u001b[39;00m forward_call(\u001b[38;5;241m*\u001b[39margs, \u001b[38;5;241m*\u001b[39m\u001b[38;5;241m*\u001b[39mkwargs)\n\u001b[1;32m   1752\u001b[0m result \u001b[38;5;241m=\u001b[39m \u001b[38;5;28;01mNone\u001b[39;00m\n\u001b[1;32m   1753\u001b[0m called_always_called_hooks \u001b[38;5;241m=\u001b[39m \u001b[38;5;28mset\u001b[39m()\n",
      "File \u001b[0;32m~/repositories/quantum-nn-pennylane/QCircNet/BinaryQuantumNN.py:53\u001b[0m, in \u001b[0;36mBinQuantumNeuralNetwork.forward\u001b[0;34m(self, x)\u001b[0m\n\u001b[1;32m     50\u001b[0m x \u001b[38;5;241m=\u001b[39m \u001b[38;5;28mself\u001b[39m\u001b[38;5;241m.\u001b[39mpre_processing(x)\n\u001b[1;32m     52\u001b[0m \u001b[38;5;66;03m# Quantum processing\u001b[39;00m\n\u001b[0;32m---> 53\u001b[0m quantum_out \u001b[38;5;241m=\u001b[39m \u001b[38;5;28mself\u001b[39m\u001b[38;5;241m.\u001b[39mquantum_circuit_nn(x)\n\u001b[1;32m     55\u001b[0m \u001b[38;5;66;03m# Post-processing for binary classification\u001b[39;00m\n\u001b[1;32m     56\u001b[0m logits \u001b[38;5;241m=\u001b[39m \u001b[38;5;28mself\u001b[39m\u001b[38;5;241m.\u001b[39mpost_processing(quantum_out\u001b[38;5;241m.\u001b[39munsqueeze(\u001b[38;5;241m1\u001b[39m))\n",
      "File \u001b[0;32m/opt/homebrew/anaconda3/lib/python3.12/site-packages/torch/nn/modules/module.py:1739\u001b[0m, in \u001b[0;36mModule._wrapped_call_impl\u001b[0;34m(self, *args, **kwargs)\u001b[0m\n\u001b[1;32m   1737\u001b[0m     \u001b[38;5;28;01mreturn\u001b[39;00m \u001b[38;5;28mself\u001b[39m\u001b[38;5;241m.\u001b[39m_compiled_call_impl(\u001b[38;5;241m*\u001b[39margs, \u001b[38;5;241m*\u001b[39m\u001b[38;5;241m*\u001b[39mkwargs)  \u001b[38;5;66;03m# type: ignore[misc]\u001b[39;00m\n\u001b[1;32m   1738\u001b[0m \u001b[38;5;28;01melse\u001b[39;00m:\n\u001b[0;32m-> 1739\u001b[0m     \u001b[38;5;28;01mreturn\u001b[39;00m \u001b[38;5;28mself\u001b[39m\u001b[38;5;241m.\u001b[39m_call_impl(\u001b[38;5;241m*\u001b[39margs, \u001b[38;5;241m*\u001b[39m\u001b[38;5;241m*\u001b[39mkwargs)\n",
      "File \u001b[0;32m/opt/homebrew/anaconda3/lib/python3.12/site-packages/torch/nn/modules/module.py:1750\u001b[0m, in \u001b[0;36mModule._call_impl\u001b[0;34m(self, *args, **kwargs)\u001b[0m\n\u001b[1;32m   1745\u001b[0m \u001b[38;5;66;03m# If we don't have any hooks, we want to skip the rest of the logic in\u001b[39;00m\n\u001b[1;32m   1746\u001b[0m \u001b[38;5;66;03m# this function, and just call forward.\u001b[39;00m\n\u001b[1;32m   1747\u001b[0m \u001b[38;5;28;01mif\u001b[39;00m \u001b[38;5;129;01mnot\u001b[39;00m (\u001b[38;5;28mself\u001b[39m\u001b[38;5;241m.\u001b[39m_backward_hooks \u001b[38;5;129;01mor\u001b[39;00m \u001b[38;5;28mself\u001b[39m\u001b[38;5;241m.\u001b[39m_backward_pre_hooks \u001b[38;5;129;01mor\u001b[39;00m \u001b[38;5;28mself\u001b[39m\u001b[38;5;241m.\u001b[39m_forward_hooks \u001b[38;5;129;01mor\u001b[39;00m \u001b[38;5;28mself\u001b[39m\u001b[38;5;241m.\u001b[39m_forward_pre_hooks\n\u001b[1;32m   1748\u001b[0m         \u001b[38;5;129;01mor\u001b[39;00m _global_backward_pre_hooks \u001b[38;5;129;01mor\u001b[39;00m _global_backward_hooks\n\u001b[1;32m   1749\u001b[0m         \u001b[38;5;129;01mor\u001b[39;00m _global_forward_hooks \u001b[38;5;129;01mor\u001b[39;00m _global_forward_pre_hooks):\n\u001b[0;32m-> 1750\u001b[0m     \u001b[38;5;28;01mreturn\u001b[39;00m forward_call(\u001b[38;5;241m*\u001b[39margs, \u001b[38;5;241m*\u001b[39m\u001b[38;5;241m*\u001b[39mkwargs)\n\u001b[1;32m   1752\u001b[0m result \u001b[38;5;241m=\u001b[39m \u001b[38;5;28;01mNone\u001b[39;00m\n\u001b[1;32m   1753\u001b[0m called_always_called_hooks \u001b[38;5;241m=\u001b[39m \u001b[38;5;28mset\u001b[39m()\n",
      "File \u001b[0;32m~/repositories/quantum-nn-pennylane/QCircNet/circuits/QuantumCircuit.py:132\u001b[0m, in \u001b[0;36mQuantumCircuitNetwork.forward\u001b[0;34m(self, x)\u001b[0m\n\u001b[1;32m    128\u001b[0m \u001b[38;5;66;03m# process each sample in the batch\u001b[39;00m\n\u001b[1;32m    129\u001b[0m \u001b[38;5;28;01mfor\u001b[39;00m i \u001b[38;5;129;01min\u001b[39;00m \u001b[38;5;28mrange\u001b[39m(batch_size):\n\u001b[1;32m    130\u001b[0m     \u001b[38;5;66;03m# Pass through quantum circuit - directly use PyTorch tensors\u001b[39;00m\n\u001b[1;32m    131\u001b[0m     \u001b[38;5;66;03m# without detaching to maintain the computational graph\u001b[39;00m\n\u001b[0;32m--> 132\u001b[0m     qnode_output \u001b[38;5;241m=\u001b[39m \u001b[38;5;28mself\u001b[39m\u001b[38;5;241m.\u001b[39mqnode(x[i], \u001b[38;5;28mself\u001b[39m\u001b[38;5;241m.\u001b[39mweights)\n\u001b[1;32m    133\u001b[0m     measurements_tensor \u001b[38;5;241m=\u001b[39m torch\u001b[38;5;241m.\u001b[39mstack([m \u001b[38;5;28;01mfor\u001b[39;00m m \u001b[38;5;129;01min\u001b[39;00m qnode_output])\n\u001b[1;32m    134\u001b[0m     outputs[i] \u001b[38;5;241m=\u001b[39m torch\u001b[38;5;241m.\u001b[39msum(measurements_tensor)\n",
      "File \u001b[0;32m/opt/homebrew/anaconda3/lib/python3.12/site-packages/pennylane/workflow/qnode.py:905\u001b[0m, in \u001b[0;36mQNode.__call__\u001b[0;34m(self, *args, **kwargs)\u001b[0m\n\u001b[1;32m    903\u001b[0m \u001b[38;5;28;01mif\u001b[39;00m qml\u001b[38;5;241m.\u001b[39mcapture\u001b[38;5;241m.\u001b[39menabled():\n\u001b[1;32m    904\u001b[0m     \u001b[38;5;28;01mreturn\u001b[39;00m capture_qnode(\u001b[38;5;28mself\u001b[39m, \u001b[38;5;241m*\u001b[39margs, \u001b[38;5;241m*\u001b[39m\u001b[38;5;241m*\u001b[39mkwargs)\n\u001b[0;32m--> 905\u001b[0m \u001b[38;5;28;01mreturn\u001b[39;00m \u001b[38;5;28mself\u001b[39m\u001b[38;5;241m.\u001b[39m_impl_call(\u001b[38;5;241m*\u001b[39margs, \u001b[38;5;241m*\u001b[39m\u001b[38;5;241m*\u001b[39mkwargs)\n",
      "File \u001b[0;32m/opt/homebrew/anaconda3/lib/python3.12/site-packages/pennylane/workflow/qnode.py:881\u001b[0m, in \u001b[0;36mQNode._impl_call\u001b[0;34m(self, *args, **kwargs)\u001b[0m\n\u001b[1;32m    878\u001b[0m \u001b[38;5;66;03m# Calculate the classical jacobians if necessary\u001b[39;00m\n\u001b[1;32m    879\u001b[0m \u001b[38;5;28mself\u001b[39m\u001b[38;5;241m.\u001b[39m_transform_program\u001b[38;5;241m.\u001b[39mset_classical_component(\u001b[38;5;28mself\u001b[39m, args, kwargs)\n\u001b[0;32m--> 881\u001b[0m res \u001b[38;5;241m=\u001b[39m qml\u001b[38;5;241m.\u001b[39mexecute(\n\u001b[1;32m    882\u001b[0m     (tape,),\n\u001b[1;32m    883\u001b[0m     device\u001b[38;5;241m=\u001b[39m\u001b[38;5;28mself\u001b[39m\u001b[38;5;241m.\u001b[39mdevice,\n\u001b[1;32m    884\u001b[0m     diff_method\u001b[38;5;241m=\u001b[39m\u001b[38;5;28mself\u001b[39m\u001b[38;5;241m.\u001b[39mdiff_method,\n\u001b[1;32m    885\u001b[0m     interface\u001b[38;5;241m=\u001b[39minterface,\n\u001b[1;32m    886\u001b[0m     transform_program\u001b[38;5;241m=\u001b[39m\u001b[38;5;28mself\u001b[39m\u001b[38;5;241m.\u001b[39m_transform_program,\n\u001b[1;32m    887\u001b[0m     gradient_kwargs\u001b[38;5;241m=\u001b[39m\u001b[38;5;28mself\u001b[39m\u001b[38;5;241m.\u001b[39mgradient_kwargs,\n\u001b[1;32m    888\u001b[0m     \u001b[38;5;241m*\u001b[39m\u001b[38;5;241m*\u001b[39m\u001b[38;5;28mself\u001b[39m\u001b[38;5;241m.\u001b[39mexecute_kwargs,\n\u001b[1;32m    889\u001b[0m )\n\u001b[1;32m    890\u001b[0m res \u001b[38;5;241m=\u001b[39m res[\u001b[38;5;241m0\u001b[39m]\n\u001b[1;32m    892\u001b[0m \u001b[38;5;66;03m# convert result to the interface in case the qfunc has no parameters\u001b[39;00m\n",
      "File \u001b[0;32m/opt/homebrew/anaconda3/lib/python3.12/site-packages/pennylane/workflow/execution.py:232\u001b[0m, in \u001b[0;36mexecute\u001b[0;34m(tapes, device, diff_method, interface, transform_program, inner_transform, config, grad_on_execution, gradient_kwargs, cache, cachesize, max_diff, device_vjp, mcm_config, gradient_fn)\u001b[0m\n\u001b[1;32m    229\u001b[0m \u001b[38;5;28;01mif\u001b[39;00m transform_program\u001b[38;5;241m.\u001b[39mis_informative:\n\u001b[1;32m    230\u001b[0m     \u001b[38;5;28;01mreturn\u001b[39;00m post_processing(tapes)\n\u001b[0;32m--> 232\u001b[0m results \u001b[38;5;241m=\u001b[39m run(tapes, device, config, inner_transform)\n\u001b[1;32m    233\u001b[0m \u001b[38;5;28;01mreturn\u001b[39;00m post_processing(results)\n",
      "File \u001b[0;32m/opt/homebrew/anaconda3/lib/python3.12/site-packages/pennylane/workflow/run.py:287\u001b[0m, in \u001b[0;36mrun\u001b[0;34m(tapes, device, config, inner_transform_program)\u001b[0m\n\u001b[1;32m    278\u001b[0m no_interface_boundary_required \u001b[38;5;241m=\u001b[39m (\n\u001b[1;32m    279\u001b[0m     config\u001b[38;5;241m.\u001b[39minterface \u001b[38;5;241m==\u001b[39m Interface\u001b[38;5;241m.\u001b[39mNUMPY\n\u001b[1;32m    280\u001b[0m     \u001b[38;5;129;01mor\u001b[39;00m config\u001b[38;5;241m.\u001b[39mgradient_method\n\u001b[0;32m   (...)\u001b[0m\n\u001b[1;32m    284\u001b[0m     }\n\u001b[1;32m    285\u001b[0m )\n\u001b[1;32m    286\u001b[0m \u001b[38;5;28;01mif\u001b[39;00m no_interface_boundary_required:\n\u001b[0;32m--> 287\u001b[0m     results \u001b[38;5;241m=\u001b[39m inner_execute(tapes)\n\u001b[1;32m    288\u001b[0m     \u001b[38;5;28;01mreturn\u001b[39;00m results\n\u001b[1;32m    290\u001b[0m \u001b[38;5;66;03m# TODO: Prune once support for tf-autograph is dropped\u001b[39;00m\n",
      "File \u001b[0;32m/opt/homebrew/anaconda3/lib/python3.12/site-packages/pennylane/workflow/run.py:247\u001b[0m, in \u001b[0;36m_make_inner_execute.<locals>.inner_execute\u001b[0;34m(tapes)\u001b[0m\n\u001b[1;32m    244\u001b[0m transformed_tapes, transform_post_processing \u001b[38;5;241m=\u001b[39m inner_transform(tapes)\n\u001b[1;32m    246\u001b[0m \u001b[38;5;28;01mif\u001b[39;00m transformed_tapes:\n\u001b[0;32m--> 247\u001b[0m     results \u001b[38;5;241m=\u001b[39m device\u001b[38;5;241m.\u001b[39mexecute(transformed_tapes, execution_config\u001b[38;5;241m=\u001b[39mexecution_config)\n\u001b[1;32m    248\u001b[0m \u001b[38;5;28;01melse\u001b[39;00m:\n\u001b[1;32m    249\u001b[0m     results \u001b[38;5;241m=\u001b[39m ()\n",
      "File \u001b[0;32m/opt/homebrew/anaconda3/lib/python3.12/site-packages/pennylane/devices/modifiers/simulator_tracking.py:30\u001b[0m, in \u001b[0;36m_track_execute.<locals>.execute\u001b[0;34m(self, circuits, execution_config)\u001b[0m\n\u001b[1;32m     28\u001b[0m \u001b[38;5;129m@wraps\u001b[39m(untracked_execute)\n\u001b[1;32m     29\u001b[0m \u001b[38;5;28;01mdef\u001b[39;00m \u001b[38;5;21mexecute\u001b[39m(\u001b[38;5;28mself\u001b[39m, circuits, execution_config\u001b[38;5;241m=\u001b[39mDefaultExecutionConfig):\n\u001b[0;32m---> 30\u001b[0m     results \u001b[38;5;241m=\u001b[39m untracked_execute(\u001b[38;5;28mself\u001b[39m, circuits, execution_config)\n\u001b[1;32m     31\u001b[0m     \u001b[38;5;28;01mif\u001b[39;00m \u001b[38;5;28misinstance\u001b[39m(circuits, QuantumScript):\n\u001b[1;32m     32\u001b[0m         batch \u001b[38;5;241m=\u001b[39m (circuits,)\n",
      "File \u001b[0;32m/opt/homebrew/anaconda3/lib/python3.12/site-packages/pennylane/devices/modifiers/single_tape_support.py:32\u001b[0m, in \u001b[0;36m_make_execute.<locals>.execute\u001b[0;34m(self, circuits, execution_config)\u001b[0m\n\u001b[1;32m     30\u001b[0m     is_single_circuit \u001b[38;5;241m=\u001b[39m \u001b[38;5;28;01mTrue\u001b[39;00m\n\u001b[1;32m     31\u001b[0m     circuits \u001b[38;5;241m=\u001b[39m (circuits,)\n\u001b[0;32m---> 32\u001b[0m results \u001b[38;5;241m=\u001b[39m batch_execute(\u001b[38;5;28mself\u001b[39m, circuits, execution_config)\n\u001b[1;32m     33\u001b[0m \u001b[38;5;28;01mreturn\u001b[39;00m results[\u001b[38;5;241m0\u001b[39m] \u001b[38;5;28;01mif\u001b[39;00m is_single_circuit \u001b[38;5;28;01melse\u001b[39;00m results\n",
      "File \u001b[0;32m/opt/homebrew/anaconda3/lib/python3.12/site-packages/pennylane/logging/decorators.py:61\u001b[0m, in \u001b[0;36mlog_string_debug_func.<locals>.wrapper_entry\u001b[0;34m(*args, **kwargs)\u001b[0m\n\u001b[1;32m     54\u001b[0m     s_caller \u001b[38;5;241m=\u001b[39m \u001b[38;5;124m\"\u001b[39m\u001b[38;5;124m::L\u001b[39m\u001b[38;5;124m\"\u001b[39m\u001b[38;5;241m.\u001b[39mjoin(\n\u001b[1;32m     55\u001b[0m         [\u001b[38;5;28mstr\u001b[39m(i) \u001b[38;5;28;01mfor\u001b[39;00m i \u001b[38;5;129;01min\u001b[39;00m inspect\u001b[38;5;241m.\u001b[39mgetouterframes(inspect\u001b[38;5;241m.\u001b[39mcurrentframe(), \u001b[38;5;241m2\u001b[39m)[\u001b[38;5;241m1\u001b[39m][\u001b[38;5;241m1\u001b[39m:\u001b[38;5;241m3\u001b[39m]]\n\u001b[1;32m     56\u001b[0m     )\n\u001b[1;32m     57\u001b[0m     lgr\u001b[38;5;241m.\u001b[39mdebug(\n\u001b[1;32m     58\u001b[0m         \u001b[38;5;124mf\u001b[39m\u001b[38;5;124m\"\u001b[39m\u001b[38;5;124mCalling \u001b[39m\u001b[38;5;132;01m{\u001b[39;00mf_string\u001b[38;5;132;01m}\u001b[39;00m\u001b[38;5;124m from \u001b[39m\u001b[38;5;132;01m{\u001b[39;00ms_caller\u001b[38;5;132;01m}\u001b[39;00m\u001b[38;5;124m\"\u001b[39m,\n\u001b[1;32m     59\u001b[0m         \u001b[38;5;241m*\u001b[39m\u001b[38;5;241m*\u001b[39m_debug_log_kwargs,\n\u001b[1;32m     60\u001b[0m     )\n\u001b[0;32m---> 61\u001b[0m \u001b[38;5;28;01mreturn\u001b[39;00m func(\u001b[38;5;241m*\u001b[39margs, \u001b[38;5;241m*\u001b[39m\u001b[38;5;241m*\u001b[39mkwargs)\n",
      "File \u001b[0;32m/opt/homebrew/anaconda3/lib/python3.12/site-packages/pennylane/devices/default_qubit.py:630\u001b[0m, in \u001b[0;36mDefaultQubit.execute\u001b[0;34m(self, circuits, execution_config)\u001b[0m\n\u001b[1;32m    627\u001b[0m prng_keys \u001b[38;5;241m=\u001b[39m [\u001b[38;5;28mself\u001b[39m\u001b[38;5;241m.\u001b[39mget_prng_keys()[\u001b[38;5;241m0\u001b[39m] \u001b[38;5;28;01mfor\u001b[39;00m _ \u001b[38;5;129;01min\u001b[39;00m \u001b[38;5;28mrange\u001b[39m(\u001b[38;5;28mlen\u001b[39m(circuits))]\n\u001b[1;32m    629\u001b[0m \u001b[38;5;28;01mif\u001b[39;00m max_workers \u001b[38;5;129;01mis\u001b[39;00m \u001b[38;5;28;01mNone\u001b[39;00m:\n\u001b[0;32m--> 630\u001b[0m     \u001b[38;5;28;01mreturn\u001b[39;00m \u001b[38;5;28mtuple\u001b[39m(\n\u001b[1;32m    631\u001b[0m         _simulate_wrapper(\n\u001b[1;32m    632\u001b[0m             c,\n\u001b[1;32m    633\u001b[0m             {\n\u001b[1;32m    634\u001b[0m                 \u001b[38;5;124m\"\u001b[39m\u001b[38;5;124mrng\u001b[39m\u001b[38;5;124m\"\u001b[39m: \u001b[38;5;28mself\u001b[39m\u001b[38;5;241m.\u001b[39m_rng,\n\u001b[1;32m    635\u001b[0m                 \u001b[38;5;124m\"\u001b[39m\u001b[38;5;124mdebugger\u001b[39m\u001b[38;5;124m\"\u001b[39m: \u001b[38;5;28mself\u001b[39m\u001b[38;5;241m.\u001b[39m_debugger,\n\u001b[1;32m    636\u001b[0m                 \u001b[38;5;124m\"\u001b[39m\u001b[38;5;124minterface\u001b[39m\u001b[38;5;124m\"\u001b[39m: interface,\n\u001b[1;32m    637\u001b[0m                 \u001b[38;5;124m\"\u001b[39m\u001b[38;5;124mstate_cache\u001b[39m\u001b[38;5;124m\"\u001b[39m: \u001b[38;5;28mself\u001b[39m\u001b[38;5;241m.\u001b[39m_state_cache,\n\u001b[1;32m    638\u001b[0m                 \u001b[38;5;124m\"\u001b[39m\u001b[38;5;124mprng_key\u001b[39m\u001b[38;5;124m\"\u001b[39m: _key,\n\u001b[1;32m    639\u001b[0m                 \u001b[38;5;124m\"\u001b[39m\u001b[38;5;124mmcm_method\u001b[39m\u001b[38;5;124m\"\u001b[39m: execution_config\u001b[38;5;241m.\u001b[39mmcm_config\u001b[38;5;241m.\u001b[39mmcm_method,\n\u001b[1;32m    640\u001b[0m                 \u001b[38;5;124m\"\u001b[39m\u001b[38;5;124mpostselect_mode\u001b[39m\u001b[38;5;124m\"\u001b[39m: execution_config\u001b[38;5;241m.\u001b[39mmcm_config\u001b[38;5;241m.\u001b[39mpostselect_mode,\n\u001b[1;32m    641\u001b[0m             },\n\u001b[1;32m    642\u001b[0m         )\n\u001b[1;32m    643\u001b[0m         \u001b[38;5;28;01mfor\u001b[39;00m c, _key \u001b[38;5;129;01min\u001b[39;00m \u001b[38;5;28mzip\u001b[39m(circuits, prng_keys)\n\u001b[1;32m    644\u001b[0m     )\n\u001b[1;32m    646\u001b[0m vanilla_circuits \u001b[38;5;241m=\u001b[39m convert_to_numpy_parameters(circuits)[\u001b[38;5;241m0\u001b[39m]\n\u001b[1;32m    647\u001b[0m seeds \u001b[38;5;241m=\u001b[39m \u001b[38;5;28mself\u001b[39m\u001b[38;5;241m.\u001b[39m_rng\u001b[38;5;241m.\u001b[39mintegers(\u001b[38;5;241m2\u001b[39m\u001b[38;5;241m*\u001b[39m\u001b[38;5;241m*\u001b[39m\u001b[38;5;241m31\u001b[39m \u001b[38;5;241m-\u001b[39m \u001b[38;5;241m1\u001b[39m, size\u001b[38;5;241m=\u001b[39m\u001b[38;5;28mlen\u001b[39m(vanilla_circuits))\n",
      "File \u001b[0;32m/opt/homebrew/anaconda3/lib/python3.12/site-packages/pennylane/devices/default_qubit.py:631\u001b[0m, in \u001b[0;36m<genexpr>\u001b[0;34m(.0)\u001b[0m\n\u001b[1;32m    627\u001b[0m prng_keys \u001b[38;5;241m=\u001b[39m [\u001b[38;5;28mself\u001b[39m\u001b[38;5;241m.\u001b[39mget_prng_keys()[\u001b[38;5;241m0\u001b[39m] \u001b[38;5;28;01mfor\u001b[39;00m _ \u001b[38;5;129;01min\u001b[39;00m \u001b[38;5;28mrange\u001b[39m(\u001b[38;5;28mlen\u001b[39m(circuits))]\n\u001b[1;32m    629\u001b[0m \u001b[38;5;28;01mif\u001b[39;00m max_workers \u001b[38;5;129;01mis\u001b[39;00m \u001b[38;5;28;01mNone\u001b[39;00m:\n\u001b[1;32m    630\u001b[0m     \u001b[38;5;28;01mreturn\u001b[39;00m \u001b[38;5;28mtuple\u001b[39m(\n\u001b[0;32m--> 631\u001b[0m         _simulate_wrapper(\n\u001b[1;32m    632\u001b[0m             c,\n\u001b[1;32m    633\u001b[0m             {\n\u001b[1;32m    634\u001b[0m                 \u001b[38;5;124m\"\u001b[39m\u001b[38;5;124mrng\u001b[39m\u001b[38;5;124m\"\u001b[39m: \u001b[38;5;28mself\u001b[39m\u001b[38;5;241m.\u001b[39m_rng,\n\u001b[1;32m    635\u001b[0m                 \u001b[38;5;124m\"\u001b[39m\u001b[38;5;124mdebugger\u001b[39m\u001b[38;5;124m\"\u001b[39m: \u001b[38;5;28mself\u001b[39m\u001b[38;5;241m.\u001b[39m_debugger,\n\u001b[1;32m    636\u001b[0m                 \u001b[38;5;124m\"\u001b[39m\u001b[38;5;124minterface\u001b[39m\u001b[38;5;124m\"\u001b[39m: interface,\n\u001b[1;32m    637\u001b[0m                 \u001b[38;5;124m\"\u001b[39m\u001b[38;5;124mstate_cache\u001b[39m\u001b[38;5;124m\"\u001b[39m: \u001b[38;5;28mself\u001b[39m\u001b[38;5;241m.\u001b[39m_state_cache,\n\u001b[1;32m    638\u001b[0m                 \u001b[38;5;124m\"\u001b[39m\u001b[38;5;124mprng_key\u001b[39m\u001b[38;5;124m\"\u001b[39m: _key,\n\u001b[1;32m    639\u001b[0m                 \u001b[38;5;124m\"\u001b[39m\u001b[38;5;124mmcm_method\u001b[39m\u001b[38;5;124m\"\u001b[39m: execution_config\u001b[38;5;241m.\u001b[39mmcm_config\u001b[38;5;241m.\u001b[39mmcm_method,\n\u001b[1;32m    640\u001b[0m                 \u001b[38;5;124m\"\u001b[39m\u001b[38;5;124mpostselect_mode\u001b[39m\u001b[38;5;124m\"\u001b[39m: execution_config\u001b[38;5;241m.\u001b[39mmcm_config\u001b[38;5;241m.\u001b[39mpostselect_mode,\n\u001b[1;32m    641\u001b[0m             },\n\u001b[1;32m    642\u001b[0m         )\n\u001b[1;32m    643\u001b[0m         \u001b[38;5;28;01mfor\u001b[39;00m c, _key \u001b[38;5;129;01min\u001b[39;00m \u001b[38;5;28mzip\u001b[39m(circuits, prng_keys)\n\u001b[1;32m    644\u001b[0m     )\n\u001b[1;32m    646\u001b[0m vanilla_circuits \u001b[38;5;241m=\u001b[39m convert_to_numpy_parameters(circuits)[\u001b[38;5;241m0\u001b[39m]\n\u001b[1;32m    647\u001b[0m seeds \u001b[38;5;241m=\u001b[39m \u001b[38;5;28mself\u001b[39m\u001b[38;5;241m.\u001b[39m_rng\u001b[38;5;241m.\u001b[39mintegers(\u001b[38;5;241m2\u001b[39m\u001b[38;5;241m*\u001b[39m\u001b[38;5;241m*\u001b[39m\u001b[38;5;241m31\u001b[39m \u001b[38;5;241m-\u001b[39m \u001b[38;5;241m1\u001b[39m, size\u001b[38;5;241m=\u001b[39m\u001b[38;5;28mlen\u001b[39m(vanilla_circuits))\n",
      "File \u001b[0;32m/opt/homebrew/anaconda3/lib/python3.12/site-packages/pennylane/devices/default_qubit.py:918\u001b[0m, in \u001b[0;36m_simulate_wrapper\u001b[0;34m(circuit, kwargs)\u001b[0m\n\u001b[1;32m    917\u001b[0m \u001b[38;5;28;01mdef\u001b[39;00m \u001b[38;5;21m_simulate_wrapper\u001b[39m(circuit, kwargs):\n\u001b[0;32m--> 918\u001b[0m     \u001b[38;5;28;01mreturn\u001b[39;00m simulate(circuit, \u001b[38;5;241m*\u001b[39m\u001b[38;5;241m*\u001b[39mkwargs)\n",
      "File \u001b[0;32m/opt/homebrew/anaconda3/lib/python3.12/site-packages/pennylane/logging/decorators.py:61\u001b[0m, in \u001b[0;36mlog_string_debug_func.<locals>.wrapper_entry\u001b[0;34m(*args, **kwargs)\u001b[0m\n\u001b[1;32m     54\u001b[0m     s_caller \u001b[38;5;241m=\u001b[39m \u001b[38;5;124m\"\u001b[39m\u001b[38;5;124m::L\u001b[39m\u001b[38;5;124m\"\u001b[39m\u001b[38;5;241m.\u001b[39mjoin(\n\u001b[1;32m     55\u001b[0m         [\u001b[38;5;28mstr\u001b[39m(i) \u001b[38;5;28;01mfor\u001b[39;00m i \u001b[38;5;129;01min\u001b[39;00m inspect\u001b[38;5;241m.\u001b[39mgetouterframes(inspect\u001b[38;5;241m.\u001b[39mcurrentframe(), \u001b[38;5;241m2\u001b[39m)[\u001b[38;5;241m1\u001b[39m][\u001b[38;5;241m1\u001b[39m:\u001b[38;5;241m3\u001b[39m]]\n\u001b[1;32m     56\u001b[0m     )\n\u001b[1;32m     57\u001b[0m     lgr\u001b[38;5;241m.\u001b[39mdebug(\n\u001b[1;32m     58\u001b[0m         \u001b[38;5;124mf\u001b[39m\u001b[38;5;124m\"\u001b[39m\u001b[38;5;124mCalling \u001b[39m\u001b[38;5;132;01m{\u001b[39;00mf_string\u001b[38;5;132;01m}\u001b[39;00m\u001b[38;5;124m from \u001b[39m\u001b[38;5;132;01m{\u001b[39;00ms_caller\u001b[38;5;132;01m}\u001b[39;00m\u001b[38;5;124m\"\u001b[39m,\n\u001b[1;32m     59\u001b[0m         \u001b[38;5;241m*\u001b[39m\u001b[38;5;241m*\u001b[39m_debug_log_kwargs,\n\u001b[1;32m     60\u001b[0m     )\n\u001b[0;32m---> 61\u001b[0m \u001b[38;5;28;01mreturn\u001b[39;00m func(\u001b[38;5;241m*\u001b[39margs, \u001b[38;5;241m*\u001b[39m\u001b[38;5;241m*\u001b[39mkwargs)\n",
      "File \u001b[0;32m/opt/homebrew/anaconda3/lib/python3.12/site-packages/pennylane/devices/qubit/simulate.py:326\u001b[0m, in \u001b[0;36msimulate\u001b[0;34m(circuit, debugger, state_cache, **execution_kwargs)\u001b[0m\n\u001b[1;32m    288\u001b[0m \u001b[38;5;250m\u001b[39m\u001b[38;5;124;03m\"\"\"Simulate a single quantum script.\u001b[39;00m\n\u001b[1;32m    289\u001b[0m \n\u001b[1;32m    290\u001b[0m \u001b[38;5;124;03mThis is an internal function that is used by``default.qubit``.\u001b[39;00m\n\u001b[0;32m   (...)\u001b[0m\n\u001b[1;32m    323\u001b[0m \n\u001b[1;32m    324\u001b[0m \u001b[38;5;124;03m\"\"\"\u001b[39;00m\n\u001b[1;32m    325\u001b[0m prng_key \u001b[38;5;241m=\u001b[39m execution_kwargs\u001b[38;5;241m.\u001b[39mpop(\u001b[38;5;124m\"\u001b[39m\u001b[38;5;124mprng_key\u001b[39m\u001b[38;5;124m\"\u001b[39m, \u001b[38;5;28;01mNone\u001b[39;00m)\n\u001b[0;32m--> 326\u001b[0m circuit \u001b[38;5;241m=\u001b[39m circuit\u001b[38;5;241m.\u001b[39mmap_to_standard_wires()\n\u001b[1;32m    328\u001b[0m has_mcm \u001b[38;5;241m=\u001b[39m \u001b[38;5;28many\u001b[39m(\u001b[38;5;28misinstance\u001b[39m(op, MidMeasureMP) \u001b[38;5;28;01mfor\u001b[39;00m op \u001b[38;5;129;01min\u001b[39;00m circuit\u001b[38;5;241m.\u001b[39moperations)\n\u001b[1;32m    329\u001b[0m \u001b[38;5;28;01mif\u001b[39;00m has_mcm:\n",
      "File \u001b[0;32m/opt/homebrew/anaconda3/lib/python3.12/site-packages/pennylane/tape/qscript.py:1365\u001b[0m, in \u001b[0;36mQuantumScript.map_to_standard_wires\u001b[0;34m(self)\u001b[0m\n\u001b[1;32m   1333\u001b[0m \u001b[38;5;28;01mdef\u001b[39;00m \u001b[38;5;21mmap_to_standard_wires\u001b[39m(\u001b[38;5;28mself\u001b[39m) \u001b[38;5;241m-\u001b[39m\u001b[38;5;241m>\u001b[39m \u001b[38;5;124m\"\u001b[39m\u001b[38;5;124mQuantumScript\u001b[39m\u001b[38;5;124m\"\u001b[39m:\n\u001b[1;32m   1334\u001b[0m \u001b[38;5;250m    \u001b[39m\u001b[38;5;124;03m\"\"\"\u001b[39;00m\n\u001b[1;32m   1335\u001b[0m \u001b[38;5;124;03m    Map a circuit's wires such that they are in a standard order. If no\u001b[39;00m\n\u001b[1;32m   1336\u001b[0m \u001b[38;5;124;03m    mapping is required, the unmodified circuit is returned.\u001b[39;00m\n\u001b[0;32m   (...)\u001b[0m\n\u001b[1;32m   1363\u001b[0m \n\u001b[1;32m   1364\u001b[0m \u001b[38;5;124;03m    \"\"\"\u001b[39;00m\n\u001b[0;32m-> 1365\u001b[0m     op_wires \u001b[38;5;241m=\u001b[39m Wires\u001b[38;5;241m.\u001b[39mall_wires(op\u001b[38;5;241m.\u001b[39mwires \u001b[38;5;28;01mfor\u001b[39;00m op \u001b[38;5;129;01min\u001b[39;00m \u001b[38;5;28mself\u001b[39m\u001b[38;5;241m.\u001b[39moperations)\n\u001b[1;32m   1366\u001b[0m     meas_wires \u001b[38;5;241m=\u001b[39m Wires\u001b[38;5;241m.\u001b[39mall_wires(mp\u001b[38;5;241m.\u001b[39mwires \u001b[38;5;28;01mfor\u001b[39;00m mp \u001b[38;5;129;01min\u001b[39;00m \u001b[38;5;28mself\u001b[39m\u001b[38;5;241m.\u001b[39mmeasurements)\n\u001b[1;32m   1367\u001b[0m     num_op_wires \u001b[38;5;241m=\u001b[39m \u001b[38;5;28mlen\u001b[39m(op_wires)\n",
      "File \u001b[0;32m/opt/homebrew/anaconda3/lib/python3.12/site-packages/pennylane/wires.py:469\u001b[0m, in \u001b[0;36mWires.all_wires\u001b[0;34m(list_of_wires, sort)\u001b[0m\n\u001b[1;32m    445\u001b[0m \u001b[38;5;250m\u001b[39m\u001b[38;5;124;03m\"\"\"Return the wires that appear in any of the Wires objects in the list.\u001b[39;00m\n\u001b[1;32m    446\u001b[0m \n\u001b[1;32m    447\u001b[0m \u001b[38;5;124;03mThis is similar to a set combine method, but keeps the order of wires as they appear in the list.\u001b[39;00m\n\u001b[0;32m   (...)\u001b[0m\n\u001b[1;32m    464\u001b[0m \u001b[38;5;124;03mWires([4, 0, 1, 3, 5])\u001b[39;00m\n\u001b[1;32m    465\u001b[0m \u001b[38;5;124;03m\"\"\"\u001b[39;00m\n\u001b[1;32m    466\u001b[0m converted_wires \u001b[38;5;241m=\u001b[39m (\n\u001b[1;32m    467\u001b[0m     wires \u001b[38;5;28;01mif\u001b[39;00m \u001b[38;5;28misinstance\u001b[39m(wires, Wires) \u001b[38;5;28;01melse\u001b[39;00m Wires(wires) \u001b[38;5;28;01mfor\u001b[39;00m wires \u001b[38;5;129;01min\u001b[39;00m list_of_wires\n\u001b[1;32m    468\u001b[0m )\n\u001b[0;32m--> 469\u001b[0m all_wires_list \u001b[38;5;241m=\u001b[39m itertools\u001b[38;5;241m.\u001b[39mchain(\u001b[38;5;241m*\u001b[39m(w\u001b[38;5;241m.\u001b[39mlabels \u001b[38;5;28;01mfor\u001b[39;00m w \u001b[38;5;129;01min\u001b[39;00m converted_wires))\n\u001b[1;32m    470\u001b[0m combined \u001b[38;5;241m=\u001b[39m \u001b[38;5;28mlist\u001b[39m(\u001b[38;5;28mdict\u001b[39m\u001b[38;5;241m.\u001b[39mfromkeys(all_wires_list))\n\u001b[1;32m    472\u001b[0m \u001b[38;5;28;01mif\u001b[39;00m sort:\n",
      "File \u001b[0;32m/opt/homebrew/anaconda3/lib/python3.12/site-packages/pennylane/wires.py:469\u001b[0m, in \u001b[0;36m<genexpr>\u001b[0;34m(.0)\u001b[0m\n\u001b[1;32m    445\u001b[0m \u001b[38;5;250m\u001b[39m\u001b[38;5;124;03m\"\"\"Return the wires that appear in any of the Wires objects in the list.\u001b[39;00m\n\u001b[1;32m    446\u001b[0m \n\u001b[1;32m    447\u001b[0m \u001b[38;5;124;03mThis is similar to a set combine method, but keeps the order of wires as they appear in the list.\u001b[39;00m\n\u001b[0;32m   (...)\u001b[0m\n\u001b[1;32m    464\u001b[0m \u001b[38;5;124;03mWires([4, 0, 1, 3, 5])\u001b[39;00m\n\u001b[1;32m    465\u001b[0m \u001b[38;5;124;03m\"\"\"\u001b[39;00m\n\u001b[1;32m    466\u001b[0m converted_wires \u001b[38;5;241m=\u001b[39m (\n\u001b[1;32m    467\u001b[0m     wires \u001b[38;5;28;01mif\u001b[39;00m \u001b[38;5;28misinstance\u001b[39m(wires, Wires) \u001b[38;5;28;01melse\u001b[39;00m Wires(wires) \u001b[38;5;28;01mfor\u001b[39;00m wires \u001b[38;5;129;01min\u001b[39;00m list_of_wires\n\u001b[1;32m    468\u001b[0m )\n\u001b[0;32m--> 469\u001b[0m all_wires_list \u001b[38;5;241m=\u001b[39m itertools\u001b[38;5;241m.\u001b[39mchain(\u001b[38;5;241m*\u001b[39m(w\u001b[38;5;241m.\u001b[39mlabels \u001b[38;5;28;01mfor\u001b[39;00m w \u001b[38;5;129;01min\u001b[39;00m converted_wires))\n\u001b[1;32m    470\u001b[0m combined \u001b[38;5;241m=\u001b[39m \u001b[38;5;28mlist\u001b[39m(\u001b[38;5;28mdict\u001b[39m\u001b[38;5;241m.\u001b[39mfromkeys(all_wires_list))\n\u001b[1;32m    472\u001b[0m \u001b[38;5;28;01mif\u001b[39;00m sort:\n",
      "\u001b[0;31mKeyboardInterrupt\u001b[0m: "
     ]
    }
   ],
   "source": [
    "### RUN EXPERIMENT\n",
    "id = 0\n",
    "for seed, circuit, lr in itertools.product(runs, circuits, learning_rates):\n",
    "    print(f\"\"\"{RED_TEXT}RUN {id+1}:{RESET_COLOR}\\n {circuit.__name__} \\n lr: {lr}\"\"\")\n",
    "\n",
    "    # init the model\n",
    "    model = qnn.BinQuantumNeuralNetwork(n_qubits=N_QUBITS, features_per_qubit=FEAT_PER_QUBIT, circuit=circuit, seed=seed, hybrid=HYBRID)\n",
    "\n",
    "    path_identifier = f\"{circuit.__name__}_expID_{EXPERIMENT_ID}_dfID_{id}\"\n",
    "\n",
    "    # train the model (predifined optimizer, etc.)\n",
    "    trained_model, loss_history, val_losses, val_f1s, avg_epoch_time = ut.train_model(\n",
    "        model, X_train, y_train, X_val, y_val,\n",
    "        epochs=EPOCHS, batch_size=32, lr=lr, binary=True,\n",
    "        weight_path=WEIGHT_PATH+path_identifier\n",
    "    )\n",
    "    \n",
    "    # save trained model\n",
    "    model_path = MODEL_PATH+path_identifier+\".pth\"\n",
    "    torch.save(trained_model, model_path)\n",
    "\n",
    "    # evaluate\n",
    "    cross_entropy, accuracy, precision, recall, f1 = trained_model.evaluate(X_test, y_test)\n",
    "\n",
    "    results_dict = {\n",
    "        \"id\": id,\n",
    "        \"f1_score\": f1, \"precision\": precision, \"recall\": recall, \"accuracy\": accuracy, \"cross_entropy\": cross_entropy,\n",
    "        \"seed\": seed,\n",
    "        \"circuit\": circuit.__name__,\n",
    "        \"learning_rate\": lr,\n",
    "        \"loss_history\": loss_history,\n",
    "        \"val_losses\": val_losses,\n",
    "        \"val_f1s\": val_f1s,\n",
    "        \"avg_epoch_time_seconds\": avg_epoch_time,\n",
    "        \"network_str\": str(model),\n",
    "        \"model_path\": model_path,\n",
    "        \"weight_path\": WEIGHT_PATH,\n",
    "        \"epochs\": EPOCHS,\n",
    "        \"n_qubits\": N_QUBITS,\n",
    "        \"features_per_qubit\": FEAT_PER_QUBIT,\n",
    "        \"scaler\" : str(SCALER).replace(\"()\", \"\")\n",
    "    }\n",
    "    print(f\"\\n{GREEN_TEXT}RESULTS:\\n F1-Score:{f1}, Precision:{precision}, Recall:{recall}, Accuracy:{accuracy}, Loss:{cross_entropy} {RESET_COLOR} \\n\\n\")\n",
    "    \n",
    "    # append the results_dict to the RESULTS_DF\n",
    "    RESULTS_DF = pd.concat([RESULTS_DF, pd.DataFrame([results_dict])], ignore_index=True)\n",
    "    RESULTS_DF.to_csv(path_or_buf=RESULTS_PATH) # save for each run (in case of a crash)\n",
    "\n",
    "    id += 1"
   ]
  },
  {
   "cell_type": "code",
   "execution_count": null,
   "metadata": {},
   "outputs": [
    {
     "data": {
      "text/html": [
       "<div>\n",
       "<style scoped>\n",
       "    .dataframe tbody tr th:only-of-type {\n",
       "        vertical-align: middle;\n",
       "    }\n",
       "\n",
       "    .dataframe tbody tr th {\n",
       "        vertical-align: top;\n",
       "    }\n",
       "\n",
       "    .dataframe thead th {\n",
       "        text-align: right;\n",
       "    }\n",
       "</style>\n",
       "<table border=\"1\" class=\"dataframe\">\n",
       "  <thead>\n",
       "    <tr style=\"text-align: right;\">\n",
       "      <th></th>\n",
       "      <th>id</th>\n",
       "      <th>f1_score</th>\n",
       "      <th>precision</th>\n",
       "      <th>recall</th>\n",
       "      <th>accuracy</th>\n",
       "      <th>binary_cross_entropy</th>\n",
       "      <th>seed</th>\n",
       "      <th>circuit</th>\n",
       "      <th>learning_rate</th>\n",
       "      <th>loss_history</th>\n",
       "      <th>val_loss_history</th>\n",
       "      <th>val_f1s</th>\n",
       "      <th>scaler</th>\n",
       "    </tr>\n",
       "  </thead>\n",
       "  <tbody>\n",
       "    <tr>\n",
       "      <th>0</th>\n",
       "      <td>0</td>\n",
       "      <td>0.719338</td>\n",
       "      <td>0.679943</td>\n",
       "      <td>0.763578</td>\n",
       "      <td>0.693760</td>\n",
       "      <td>0.630533</td>\n",
       "      <td>1</td>\n",
       "      <td>Ranga2024Circuit</td>\n",
       "      <td>0.010</td>\n",
       "      <td>[0.6914023258968404, 0.660341840433447, 0.6464...</td>\n",
       "      <td>[0.6702669262886047, 0.6504126787185669, 0.640...</td>\n",
       "      <td>[0.7289198606271777, 0.7304964539007093, 0.725...</td>\n",
       "      <td>MinMaxScaler</td>\n",
       "    </tr>\n",
       "    <tr>\n",
       "      <th>1</th>\n",
       "      <td>1</td>\n",
       "      <td>0.743894</td>\n",
       "      <td>0.660471</td>\n",
       "      <td>0.851438</td>\n",
       "      <td>0.698686</td>\n",
       "      <td>0.656471</td>\n",
       "      <td>1</td>\n",
       "      <td>Ranga2024Circuit</td>\n",
       "      <td>0.001</td>\n",
       "      <td>[0.7414130529290751, 0.7162491987018209, 0.703...</td>\n",
       "      <td>[0.7262354493141174, 0.7087317705154419, 0.699...</td>\n",
       "      <td>[0.6793066088840737, 0.6793066088840737, 0.679...</td>\n",
       "      <td>MinMaxScaler</td>\n",
       "    </tr>\n",
       "    <tr>\n",
       "      <th>2</th>\n",
       "      <td>2</td>\n",
       "      <td>0.767611</td>\n",
       "      <td>0.778325</td>\n",
       "      <td>0.757188</td>\n",
       "      <td>0.764368</td>\n",
       "      <td>0.537861</td>\n",
       "      <td>1</td>\n",
       "      <td>Senokosov2024Circuit</td>\n",
       "      <td>0.010</td>\n",
       "      <td>[0.6834787334266462, 0.6524414312290517, 0.630...</td>\n",
       "      <td>[0.6672486066818237, 0.6451585292816162, 0.626...</td>\n",
       "      <td>[0.5501551189245087, 0.6963350785340314, 0.748...</td>\n",
       "      <td>MinMaxScaler</td>\n",
       "    </tr>\n",
       "    <tr>\n",
       "      <th>3</th>\n",
       "      <td>3</td>\n",
       "      <td>0.711150</td>\n",
       "      <td>0.789474</td>\n",
       "      <td>0.646965</td>\n",
       "      <td>0.729885</td>\n",
       "      <td>0.649993</td>\n",
       "      <td>1</td>\n",
       "      <td>Senokosov2024Circuit</td>\n",
       "      <td>0.001</td>\n",
       "      <td>[0.747941004014329, 0.7088381959811637, 0.6907...</td>\n",
       "      <td>[0.7237253189086914, 0.6978234052658081, 0.686...</td>\n",
       "      <td>[0.6793066088840737, 0.6793066088840737, 0.679...</td>\n",
       "      <td>MinMaxScaler</td>\n",
       "    </tr>\n",
       "    <tr>\n",
       "      <th>4</th>\n",
       "      <td>4</td>\n",
       "      <td>0.686275</td>\n",
       "      <td>0.702341</td>\n",
       "      <td>0.670927</td>\n",
       "      <td>0.684729</td>\n",
       "      <td>0.643866</td>\n",
       "      <td>1</td>\n",
       "      <td>Anusha2024Circuit</td>\n",
       "      <td>0.010</td>\n",
       "      <td>[0.6841570809483528, 0.6475279982152738, 0.639...</td>\n",
       "      <td>[0.661899745464325, 0.6508845090866089, 0.6496...</td>\n",
       "      <td>[0.6795180722891566, 0.6467165419783873, 0.656...</td>\n",
       "      <td>MinMaxScaler</td>\n",
       "    </tr>\n",
       "    <tr>\n",
       "      <th>...</th>\n",
       "      <td>...</td>\n",
       "      <td>...</td>\n",
       "      <td>...</td>\n",
       "      <td>...</td>\n",
       "      <td>...</td>\n",
       "      <td>...</td>\n",
       "      <td>...</td>\n",
       "      <td>...</td>\n",
       "      <td>...</td>\n",
       "      <td>...</td>\n",
       "      <td>...</td>\n",
       "      <td>...</td>\n",
       "      <td>...</td>\n",
       "    </tr>\n",
       "    <tr>\n",
       "      <th>75</th>\n",
       "      <td>75</td>\n",
       "      <td>0.876352</td>\n",
       "      <td>0.848802</td>\n",
       "      <td>0.905751</td>\n",
       "      <td>0.868637</td>\n",
       "      <td>0.535430</td>\n",
       "      <td>10</td>\n",
       "      <td>Senokosov2024Circuit</td>\n",
       "      <td>0.001</td>\n",
       "      <td>[0.7427862837518516, 0.7225275243583479, 0.704...</td>\n",
       "      <td>[0.7320263385772705, 0.7133990526199341, 0.696...</td>\n",
       "      <td>[0.4785992217898833, 0.22032583397982933, 0.00...</td>\n",
       "      <td>MinMaxScaler</td>\n",
       "    </tr>\n",
       "    <tr>\n",
       "      <th>76</th>\n",
       "      <td>76</td>\n",
       "      <td>0.607735</td>\n",
       "      <td>0.600624</td>\n",
       "      <td>0.615016</td>\n",
       "      <td>0.591954</td>\n",
       "      <td>0.671852</td>\n",
       "      <td>10</td>\n",
       "      <td>Anusha2024Circuit</td>\n",
       "      <td>0.010</td>\n",
       "      <td>[0.6998752198721233, 0.6842588333314971, 0.676...</td>\n",
       "      <td>[0.6892290115356445, 0.6780279874801636, 0.673...</td>\n",
       "      <td>[0.7211231652839821, 0.5921158487530169, 0.675...</td>\n",
       "      <td>MinMaxScaler</td>\n",
       "    </tr>\n",
       "    <tr>\n",
       "      <th>77</th>\n",
       "      <td>77</td>\n",
       "      <td>0.616460</td>\n",
       "      <td>0.599698</td>\n",
       "      <td>0.634185</td>\n",
       "      <td>0.594417</td>\n",
       "      <td>0.682844</td>\n",
       "      <td>10</td>\n",
       "      <td>Anusha2024Circuit</td>\n",
       "      <td>0.001</td>\n",
       "      <td>[0.7172094675663271, 0.7065669209941438, 0.703...</td>\n",
       "      <td>[0.7106428742408752, 0.7054082751274109, 0.702...</td>\n",
       "      <td>[0.6600467289719626, 0.5771012574454004, 0.544...</td>\n",
       "      <td>MinMaxScaler</td>\n",
       "    </tr>\n",
       "    <tr>\n",
       "      <th>78</th>\n",
       "      <td>78</td>\n",
       "      <td>0.849772</td>\n",
       "      <td>0.809249</td>\n",
       "      <td>0.894569</td>\n",
       "      <td>0.837438</td>\n",
       "      <td>0.407024</td>\n",
       "      <td>10</td>\n",
       "      <td>DoubleEntanglementVLCircuit</td>\n",
       "      <td>0.010</td>\n",
       "      <td>[0.5572234008853373, 0.46739204296548115, 0.42...</td>\n",
       "      <td>[0.49795830249786377, 0.44423338770866394, 0.4...</td>\n",
       "      <td>[0.8436308161708619, 0.8469696969696969, 0.854...</td>\n",
       "      <td>MinMaxScaler</td>\n",
       "    </tr>\n",
       "    <tr>\n",
       "      <th>79</th>\n",
       "      <td>79</td>\n",
       "      <td>0.849315</td>\n",
       "      <td>0.811047</td>\n",
       "      <td>0.891374</td>\n",
       "      <td>0.837438</td>\n",
       "      <td>0.461037</td>\n",
       "      <td>10</td>\n",
       "      <td>DoubleEntanglementVLCircuit</td>\n",
       "      <td>0.001</td>\n",
       "      <td>[0.6337664956717115, 0.6099878945632985, 0.590...</td>\n",
       "      <td>[0.6202206611633301, 0.5986754894256592, 0.580...</td>\n",
       "      <td>[0.492622020431328, 0.7197106690777577, 0.7983...</td>\n",
       "      <td>MinMaxScaler</td>\n",
       "    </tr>\n",
       "  </tbody>\n",
       "</table>\n",
       "<p>80 rows × 13 columns</p>\n",
       "</div>"
      ],
      "text/plain": [
       "    id  f1_score  precision    recall  accuracy  binary_cross_entropy  seed  \\\n",
       "0    0  0.719338   0.679943  0.763578  0.693760              0.630533     1   \n",
       "1    1  0.743894   0.660471  0.851438  0.698686              0.656471     1   \n",
       "2    2  0.767611   0.778325  0.757188  0.764368              0.537861     1   \n",
       "3    3  0.711150   0.789474  0.646965  0.729885              0.649993     1   \n",
       "4    4  0.686275   0.702341  0.670927  0.684729              0.643866     1   \n",
       "..  ..       ...        ...       ...       ...                   ...   ...   \n",
       "75  75  0.876352   0.848802  0.905751  0.868637              0.535430    10   \n",
       "76  76  0.607735   0.600624  0.615016  0.591954              0.671852    10   \n",
       "77  77  0.616460   0.599698  0.634185  0.594417              0.682844    10   \n",
       "78  78  0.849772   0.809249  0.894569  0.837438              0.407024    10   \n",
       "79  79  0.849315   0.811047  0.891374  0.837438              0.461037    10   \n",
       "\n",
       "                        circuit  learning_rate  \\\n",
       "0              Ranga2024Circuit          0.010   \n",
       "1              Ranga2024Circuit          0.001   \n",
       "2          Senokosov2024Circuit          0.010   \n",
       "3          Senokosov2024Circuit          0.001   \n",
       "4             Anusha2024Circuit          0.010   \n",
       "..                          ...            ...   \n",
       "75         Senokosov2024Circuit          0.001   \n",
       "76            Anusha2024Circuit          0.010   \n",
       "77            Anusha2024Circuit          0.001   \n",
       "78  DoubleEntanglementVLCircuit          0.010   \n",
       "79  DoubleEntanglementVLCircuit          0.001   \n",
       "\n",
       "                                         loss_history  \\\n",
       "0   [0.6914023258968404, 0.660341840433447, 0.6464...   \n",
       "1   [0.7414130529290751, 0.7162491987018209, 0.703...   \n",
       "2   [0.6834787334266462, 0.6524414312290517, 0.630...   \n",
       "3   [0.747941004014329, 0.7088381959811637, 0.6907...   \n",
       "4   [0.6841570809483528, 0.6475279982152738, 0.639...   \n",
       "..                                                ...   \n",
       "75  [0.7427862837518516, 0.7225275243583479, 0.704...   \n",
       "76  [0.6998752198721233, 0.6842588333314971, 0.676...   \n",
       "77  [0.7172094675663271, 0.7065669209941438, 0.703...   \n",
       "78  [0.5572234008853373, 0.46739204296548115, 0.42...   \n",
       "79  [0.6337664956717115, 0.6099878945632985, 0.590...   \n",
       "\n",
       "                                     val_loss_history  \\\n",
       "0   [0.6702669262886047, 0.6504126787185669, 0.640...   \n",
       "1   [0.7262354493141174, 0.7087317705154419, 0.699...   \n",
       "2   [0.6672486066818237, 0.6451585292816162, 0.626...   \n",
       "3   [0.7237253189086914, 0.6978234052658081, 0.686...   \n",
       "4   [0.661899745464325, 0.6508845090866089, 0.6496...   \n",
       "..                                                ...   \n",
       "75  [0.7320263385772705, 0.7133990526199341, 0.696...   \n",
       "76  [0.6892290115356445, 0.6780279874801636, 0.673...   \n",
       "77  [0.7106428742408752, 0.7054082751274109, 0.702...   \n",
       "78  [0.49795830249786377, 0.44423338770866394, 0.4...   \n",
       "79  [0.6202206611633301, 0.5986754894256592, 0.580...   \n",
       "\n",
       "                                              val_f1s        scaler  \n",
       "0   [0.7289198606271777, 0.7304964539007093, 0.725...  MinMaxScaler  \n",
       "1   [0.6793066088840737, 0.6793066088840737, 0.679...  MinMaxScaler  \n",
       "2   [0.5501551189245087, 0.6963350785340314, 0.748...  MinMaxScaler  \n",
       "3   [0.6793066088840737, 0.6793066088840737, 0.679...  MinMaxScaler  \n",
       "4   [0.6795180722891566, 0.6467165419783873, 0.656...  MinMaxScaler  \n",
       "..                                                ...           ...  \n",
       "75  [0.4785992217898833, 0.22032583397982933, 0.00...  MinMaxScaler  \n",
       "76  [0.7211231652839821, 0.5921158487530169, 0.675...  MinMaxScaler  \n",
       "77  [0.6600467289719626, 0.5771012574454004, 0.544...  MinMaxScaler  \n",
       "78  [0.8436308161708619, 0.8469696969696969, 0.854...  MinMaxScaler  \n",
       "79  [0.492622020431328, 0.7197106690777577, 0.7983...  MinMaxScaler  \n",
       "\n",
       "[80 rows x 13 columns]"
      ]
     },
     "execution_count": 11,
     "metadata": {},
     "output_type": "execute_result"
    }
   ],
   "source": [
    "RESULTS_DF"
   ]
  },
  {
   "cell_type": "code",
   "execution_count": null,
   "metadata": {},
   "outputs": [],
   "source": [
    "# circuit = qc.QuantumCircuit\n",
    "\n",
    "# # initialize the model\n",
    "# model = qnn.QuantumNeuralNetwork(n_qubits=N_QUBITS, features_per_qubit=FEAT_PER_QUBIT, circuit=circuit, seed=1)\n",
    "\n",
    "# # train the model (predifined optimizer, etc.)\n",
    "# trained_model, loss_history, val_loss_history = ut.train_model(\n",
    "#     model, X_train, y_train, epochs=EPOCHS, batch_size=64, lr=0.01\n",
    "# ) #X_val, y_val,\n",
    "\n",
    "\n",
    "# # Evaluate the model\n",
    "# bce, accuracy, precision, recall, f1 = trained_model.evaluate(X_test, y_test)\n",
    "# print(f\"Binary Cross-Entropy on test data: {bce:.4f}\")\n",
    "# print(f\"Accuracy: {accuracy:.4f}\")\n",
    "# print(f\"Precision: {precision:.4f}\")\n",
    "# print(f\"Recall: {recall:.4f}\")\n",
    "# print(f\"F1 Score: {f1:.4f}\")"
   ]
  },
  {
   "cell_type": "code",
   "execution_count": null,
   "metadata": {},
   "outputs": [],
   "source": [
    "# # To load later\n",
    "# loaded_model = torch.load(\"simple_model.pth\")"
   ]
  }
 ],
 "metadata": {
  "kernelspec": {
   "display_name": "base",
   "language": "python",
   "name": "python3"
  },
  "language_info": {
   "codemirror_mode": {
    "name": "ipython",
    "version": 3
   },
   "file_extension": ".py",
   "mimetype": "text/x-python",
   "name": "python",
   "nbconvert_exporter": "python",
   "pygments_lexer": "ipython3",
   "version": "3.12.7"
  }
 },
 "nbformat": 4,
 "nbformat_minor": 2
}
