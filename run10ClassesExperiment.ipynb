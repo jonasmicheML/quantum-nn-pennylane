{
 "cells": [
  {
   "cell_type": "code",
   "execution_count": 1,
   "metadata": {},
   "outputs": [],
   "source": [
    "from sklearn.preprocessing import MinMaxScaler\n",
    "import itertools\n",
    "import pandas as pd\n",
    "import torch\n",
    "\n",
    "# get our predefined functions (for data processing, etc.)\n",
    "import QCircNet.utils as ut\n",
    "\n",
    "# get our predefined quantum circuits and neural networks\n",
    "import QCircNet.circuits.CustomCircuits as cn\n",
    "import QCircNet.QuantumNN as qnn\n",
    "\n",
    "\n",
    "EXPERIMENT_ID = 69\n",
    "\n",
    "DATA_PATH = \"data/\"\n",
    "\n",
    "N_QUBITS = 4\n",
    "FEAT_PER_QUBIT = 4\n",
    "\n",
    "SUBSET = 1000\n",
    "\n",
    "EPOCHS = 10\n",
    "WEIGHT_PATH = f\"results/weights/\"\n",
    "MODEL_PATH = f\"results/models/\"\n",
    "RESULTS_PATH = f\"results/model_10_results_expID_{EXPERIMENT_ID}.csv\"\n",
    "RESULTS_DF = pd.DataFrame()\n",
    "\n",
    "# for printing colored text output during training\n",
    "RED_TEXT = \"\\033[91m\"\n",
    "GREEN_TEXT = \"\\033[92m\"\n",
    "RESET_COLOR = \"\\033[0m\" \n"
   ]
  },
  {
   "cell_type": "code",
   "execution_count": 2,
   "metadata": {},
   "outputs": [
    {
     "name": "stdout",
     "output_type": "stream",
     "text": [
      "train:\t torch.Size([1000, 16]) torch.Size([1000, 10])\n",
      "test:\t torch.Size([1000, 16]) torch.Size([1000, 10])\n"
     ]
    }
   ],
   "source": [
    "# load the data\n",
    "X_train, y_train, X_test, y_test  = ut.load_MNIST_data(DATA_PATH, subset=SUBSET)\n",
    "\n",
    "# check shapes\n",
    "print(\"train:\\t\", X_train.shape, y_train.shape)\n",
    "print(\"test:\\t\", X_test.shape, y_test.shape)"
   ]
  },
  {
   "cell_type": "code",
   "execution_count": 3,
   "metadata": {},
   "outputs": [
    {
     "data": {
      "text/plain": [
       "[QCircNet.circuits.CustomCircuits.Anusha2024Circuit,\n",
       " QCircNet.circuits.CustomCircuits.DoubleEntanglementVLCircuit,\n",
       " QCircNet.circuits.CustomCircuits.Ranga2024Circuit,\n",
       " QCircNet.circuits.CustomCircuits.Senokosov2024Circuit]"
      ]
     },
     "execution_count": 3,
     "metadata": {},
     "output_type": "execute_result"
    }
   ],
   "source": [
    "cn.get_custom_circuits()"
   ]
  },
  {
   "cell_type": "code",
   "execution_count": 4,
   "metadata": {},
   "outputs": [],
   "source": [
    "circuits = [\n",
    "    # cn.Ranga2024Circuit,\n",
    "    cn.Senokosov2024Circuit,\n",
    "    # cn.Anusha2024Circuit,\n",
    "    # cn.DoubleEntanglementVLCircuit,\n",
    "]\n",
    "\n",
    "runs = list(range(1, 2)) # runs are also used as seeds (reproducibility)\n",
    "learning_rates = [0.01, 0.001]"
   ]
  },
  {
   "cell_type": "code",
   "execution_count": null,
   "metadata": {},
   "outputs": [
    {
     "name": "stdout",
     "output_type": "stream",
     "text": [
      "\u001b[91mRUN 1:\u001b[0m\n",
      " Senokosov2024Circuit \n",
      " lr: 0.01\n"
     ]
    },
    {
     "name": "stderr",
     "output_type": "stream",
     "text": [
      "Training progress:   0%|          | 0/31 [00:00<?, ?batch/s]"
     ]
    },
    {
     "name": "stdout",
     "output_type": "stream",
     "text": [
      "None\n",
      "tensor([[-1.0427,  2.7687, -6.2817, -2.4840, -4.4390, -5.1228, -3.9426, -1.9407,\n",
      "         -1.2973],\n",
      "        [ 0.4878, -1.0154,  2.3275, -3.7140,  4.7516, -5.9390,  2.1422, -1.0392,\n",
      "          0.7375],\n",
      "        [-4.5190, -3.7938,  3.7793,  5.8843, -2.3446,  2.4168,  4.7298,  4.9588,\n",
      "         -5.2145],\n",
      "        [-5.7924, -4.1490,  4.7519, -5.0473, -0.9914,  5.7540,  0.4168,  2.4112,\n",
      "         -2.3183]])\n"
     ]
    },
    {
     "name": "stderr",
     "output_type": "stream",
     "text": [
      "Training progress:   3%|▎         | 1/31 [00:01<00:33,  1.11s/batch]"
     ]
    },
    {
     "name": "stdout",
     "output_type": "stream",
     "text": [
      "None\n",
      "None\n",
      "tensor([[-1.0327,  2.7787, -6.2917, -2.4740, -4.4490, -5.1228, -3.9426, -1.9407,\n",
      "         -1.2973],\n",
      "        [ 0.4778, -1.0254,  2.3375, -3.7240,  4.7616, -5.9390,  2.1422, -1.0392,\n",
      "          0.7375],\n",
      "        [-4.5290, -3.8038,  3.7693,  5.8943, -2.3546,  2.4168,  4.7298,  4.9588,\n",
      "         -5.2145],\n",
      "        [-5.7824, -4.1390,  4.7619, -5.0573, -1.0014,  5.7540,  0.4168,  2.4112,\n",
      "         -2.3183]])\n"
     ]
    },
    {
     "name": "stderr",
     "output_type": "stream",
     "text": [
      "Training progress:   6%|▋         | 2/31 [00:02<00:32,  1.13s/batch]"
     ]
    },
    {
     "name": "stdout",
     "output_type": "stream",
     "text": [
      "None\n",
      "None\n",
      "tensor([[-1.0228,  2.7887, -6.3017, -2.4640, -4.4590, -5.1228, -3.9426, -1.9407,\n",
      "         -1.2973],\n",
      "        [ 0.4678, -1.0354,  2.3475, -3.7340,  4.7715, -5.9390,  2.1422, -1.0392,\n",
      "          0.7375],\n",
      "        [-4.5390, -3.8137,  3.7594,  5.9043, -2.3646,  2.4168,  4.7298,  4.9588,\n",
      "         -5.2145],\n",
      "        [-5.7724, -4.1291,  4.7719, -5.0672, -1.0111,  5.7540,  0.4168,  2.4112,\n",
      "         -2.3183]])\n"
     ]
    },
    {
     "name": "stderr",
     "output_type": "stream",
     "text": [
      "Training progress:  10%|▉         | 3/31 [00:03<00:33,  1.20s/batch]"
     ]
    },
    {
     "name": "stdout",
     "output_type": "stream",
     "text": [
      "None\n",
      "None\n",
      "tensor([[-1.0130,  2.7987, -6.3116, -2.4540, -4.4689, -5.1228, -3.9426, -1.9407,\n",
      "         -1.2973],\n",
      "        [ 0.4580, -1.0454,  2.3572, -3.7440,  4.7812, -5.9390,  2.1422, -1.0392,\n",
      "          0.7375],\n",
      "        [-4.5490, -3.8237,  3.7495,  5.9142, -2.3745,  2.4168,  4.7298,  4.9588,\n",
      "         -5.2145],\n",
      "        [-5.7624, -4.1191,  4.7819, -5.0772, -1.0209,  5.7540,  0.4168,  2.4112,\n",
      "         -2.3183]])\n"
     ]
    },
    {
     "name": "stderr",
     "output_type": "stream",
     "text": [
      "Training progress:  13%|█▎        | 4/31 [00:04<00:32,  1.19s/batch]"
     ]
    },
    {
     "name": "stdout",
     "output_type": "stream",
     "text": [
      "None\n",
      "None\n",
      "tensor([[-1.0031,  2.8087, -6.3215, -2.4441, -4.4788, -5.1228, -3.9426, -1.9407,\n",
      "         -1.2973],\n",
      "        [ 0.4486, -1.0555,  2.3668, -3.7540,  4.7907, -5.9390,  2.1422, -1.0392,\n",
      "          0.7375],\n",
      "        [-4.5589, -3.8336,  3.7396,  5.9240, -2.3844,  2.4168,  4.7298,  4.9588,\n",
      "         -5.2145],\n",
      "        [-5.7524, -4.1090,  4.7919, -5.0871, -1.0307,  5.7540,  0.4168,  2.4112,\n",
      "         -2.3183]])\n"
     ]
    },
    {
     "name": "stderr",
     "output_type": "stream",
     "text": [
      "Training progress:  16%|█▌        | 5/31 [00:05<00:29,  1.15s/batch]"
     ]
    },
    {
     "name": "stdout",
     "output_type": "stream",
     "text": [
      "None\n",
      "None\n",
      "tensor([[-0.9936,  2.8186, -6.3312, -2.4343, -4.4885, -5.1228, -3.9426, -1.9407,\n",
      "         -1.2973],\n",
      "        [ 0.4395, -1.0656,  2.3759, -3.7640,  4.7998, -5.9390,  2.1422, -1.0392,\n",
      "          0.7375],\n",
      "        [-4.5689, -3.8434,  3.7300,  5.9337, -2.3942,  2.4168,  4.7298,  4.9588,\n",
      "         -5.2145],\n",
      "        [-5.7423, -4.0991,  4.8020, -5.0971, -1.0402,  5.7540,  0.4168,  2.4112,\n",
      "         -2.3183]])\n"
     ]
    },
    {
     "name": "stderr",
     "output_type": "stream",
     "text": [
      "Training progress:  19%|█▉        | 6/31 [00:06<00:28,  1.14s/batch]"
     ]
    },
    {
     "name": "stdout",
     "output_type": "stream",
     "text": [
      "None\n",
      "None\n",
      "tensor([[-0.9846,  2.8285, -6.3407, -2.4246, -4.4982, -5.1228, -3.9426, -1.9407,\n",
      "         -1.2973],\n",
      "        [ 0.4308, -1.0757,  2.3845, -3.7740,  4.8082, -5.9390,  2.1422, -1.0392,\n",
      "          0.7375],\n",
      "        [-4.5788, -3.8531,  3.7206,  5.9431, -2.4039,  2.4168,  4.7298,  4.9588,\n",
      "         -5.2145],\n",
      "        [-5.7322, -4.0892,  4.8120, -5.1072, -1.0488,  5.7540,  0.4168,  2.4112,\n",
      "         -2.3183]])\n"
     ]
    },
    {
     "name": "stderr",
     "output_type": "stream",
     "text": [
      "Training progress:  23%|██▎       | 7/31 [00:08<00:27,  1.16s/batch]"
     ]
    },
    {
     "name": "stdout",
     "output_type": "stream",
     "text": [
      "None\n",
      "None\n",
      "tensor([[-0.9761,  2.8383, -6.3501, -2.4150, -4.5077, -5.1228, -3.9426, -1.9407,\n",
      "         -1.2973],\n",
      "        [ 0.4226, -1.0859,  2.3926, -3.7840,  4.8159, -5.9390,  2.1422, -1.0392,\n",
      "          0.7375],\n",
      "        [-4.5887, -3.8626,  3.7115,  5.9524, -2.4135,  2.4168,  4.7298,  4.9588,\n",
      "         -5.2145],\n",
      "        [-5.7222, -4.0793,  4.8220, -5.1173, -1.0568,  5.7540,  0.4168,  2.4112,\n",
      "         -2.3183]])\n"
     ]
    },
    {
     "name": "stderr",
     "output_type": "stream",
     "text": [
      "Training progress:  26%|██▌       | 8/31 [00:09<00:26,  1.15s/batch]"
     ]
    },
    {
     "name": "stdout",
     "output_type": "stream",
     "text": [
      "None\n",
      "None\n",
      "tensor([[-0.9685,  2.8481, -6.3591, -2.4056, -4.5171, -5.1228, -3.9426, -1.9407,\n",
      "         -1.2973],\n",
      "        [ 0.4154, -1.0961,  2.3996, -3.7940,  4.8226, -5.9390,  2.1422, -1.0392,\n",
      "          0.7375],\n",
      "        [-4.5986, -3.8720,  3.7028,  5.9613, -2.4229,  2.4168,  4.7298,  4.9588,\n",
      "         -5.2145],\n",
      "        [-5.7122, -4.0697,  4.8321, -5.1274, -1.0637,  5.7540,  0.4168,  2.4112,\n",
      "         -2.3183]])\n"
     ]
    },
    {
     "name": "stderr",
     "output_type": "stream",
     "text": [
      "Training progress:  29%|██▉       | 9/31 [00:10<00:26,  1.20s/batch]"
     ]
    },
    {
     "name": "stdout",
     "output_type": "stream",
     "text": [
      "None\n",
      "None\n",
      "tensor([[-0.9617,  2.8577, -6.3678, -2.3965, -4.5263, -5.1228, -3.9426, -1.9407,\n",
      "         -1.2973],\n",
      "        [ 0.4096, -1.1064,  2.4052, -3.8040,  4.8283, -5.9390,  2.1422, -1.0392,\n",
      "          0.7375],\n",
      "        [-4.6085, -3.8812,  3.6944,  5.9699, -2.4320,  2.4168,  4.7298,  4.9588,\n",
      "         -5.2145],\n",
      "        [-5.7022, -4.0601,  4.8421, -5.1376, -1.0695,  5.7540,  0.4168,  2.4112,\n",
      "         -2.3183]])\n"
     ]
    },
    {
     "name": "stderr",
     "output_type": "stream",
     "text": [
      "Training progress:  32%|███▏      | 10/31 [00:11<00:26,  1.24s/batch]"
     ]
    },
    {
     "name": "stdout",
     "output_type": "stream",
     "text": [
      "None\n",
      "None\n",
      "tensor([[-0.9560,  2.8672, -6.3761, -2.3875, -4.5355, -5.1228, -3.9426, -1.9407,\n",
      "         -1.2973],\n",
      "        [ 0.4050, -1.1167,  2.4095, -3.8139,  4.8327, -5.9390,  2.1422, -1.0392,\n",
      "          0.7375],\n",
      "        [-4.6182, -3.8901,  3.6865,  5.9782, -2.4410,  2.4168,  4.7298,  4.9588,\n",
      "         -5.2145],\n",
      "        [-5.6922, -4.0508,  4.8522, -5.1479, -1.0740,  5.7540,  0.4168,  2.4112,\n",
      "         -2.3183]])\n"
     ]
    },
    {
     "name": "stderr",
     "output_type": "stream",
     "text": [
      "Training progress:  35%|███▌      | 11/31 [00:13<00:25,  1.25s/batch]"
     ]
    },
    {
     "name": "stdout",
     "output_type": "stream",
     "text": [
      "None\n",
      "None\n",
      "tensor([[-0.9513,  2.8765, -6.3841, -2.3788, -4.5445, -5.1228, -3.9426, -1.9407,\n",
      "         -1.2973],\n",
      "        [ 0.4020, -1.1271,  2.4125, -3.8238,  4.8359, -5.9390,  2.1422, -1.0392,\n",
      "          0.7375],\n",
      "        [-4.6279, -3.8988,  3.6791,  5.9860, -2.4497,  2.4168,  4.7298,  4.9588,\n",
      "         -5.2145],\n",
      "        [-5.6823, -4.0417,  4.8623, -5.1582, -1.0772,  5.7540,  0.4168,  2.4112,\n",
      "         -2.3183]])\n"
     ]
    },
    {
     "name": "stderr",
     "output_type": "stream",
     "text": [
      "Training progress:  39%|███▊      | 12/31 [00:14<00:22,  1.21s/batch]"
     ]
    },
    {
     "name": "stdout",
     "output_type": "stream",
     "text": [
      "None\n",
      "None\n",
      "tensor([[-0.9478,  2.8858, -6.3916, -2.3703, -4.5534, -5.1228, -3.9426, -1.9407,\n",
      "         -1.2973],\n",
      "        [ 0.4008, -1.1376,  2.4136, -3.8337,  4.8377, -5.9390,  2.1422, -1.0392,\n",
      "          0.7375],\n",
      "        [-4.6375, -3.9072,  3.6722,  5.9934, -2.4582,  2.4168,  4.7298,  4.9588,\n",
      "         -5.2145],\n",
      "        [-5.6724, -4.0327,  4.8723, -5.1685, -1.0788,  5.7540,  0.4168,  2.4112,\n",
      "         -2.3183]])\n"
     ]
    },
    {
     "name": "stderr",
     "output_type": "stream",
     "text": [
      "Training progress:  42%|████▏     | 13/31 [00:15<00:21,  1.17s/batch]"
     ]
    },
    {
     "name": "stdout",
     "output_type": "stream",
     "text": [
      "None\n",
      "None\n",
      "tensor([[-0.9453,  2.8949, -6.3987, -2.3622, -4.5622, -5.1228, -3.9426, -1.9407,\n",
      "         -1.2973],\n",
      "        [ 0.4012, -1.1480,  2.4132, -3.8435,  4.8384, -5.9390,  2.1422, -1.0392,\n",
      "          0.7375],\n",
      "        [-4.6470, -3.9154,  3.6659,  6.0002, -2.4664,  2.4168,  4.7298,  4.9588,\n",
      "         -5.2145],\n",
      "        [-5.6626, -4.0241,  4.8822, -5.1789, -1.0790,  5.7540,  0.4168,  2.4112,\n",
      "         -2.3183]])\n"
     ]
    },
    {
     "name": "stderr",
     "output_type": "stream",
     "text": [
      "Training progress:  45%|████▌     | 14/31 [00:16<00:20,  1.18s/batch]"
     ]
    },
    {
     "name": "stdout",
     "output_type": "stream",
     "text": [
      "None\n",
      "None\n",
      "tensor([[-0.9435,  2.9038, -6.4054, -2.3543, -4.5709, -5.1228, -3.9426, -1.9407,\n",
      "         -1.2973],\n",
      "        [ 0.4030, -1.1585,  2.4115, -3.8532,  4.8380, -5.9390,  2.1422, -1.0392,\n",
      "          0.7375],\n",
      "        [-4.6564, -3.9232,  3.6602,  6.0066, -2.4743,  2.4168,  4.7298,  4.9588,\n",
      "         -5.2145],\n",
      "        [-5.6530, -4.0157,  4.8922, -5.1892, -1.0787,  5.7540,  0.4168,  2.4112,\n",
      "         -2.3183]])\n"
     ]
    },
    {
     "name": "stderr",
     "output_type": "stream",
     "text": [
      "Training progress:  48%|████▊     | 15/31 [00:17<00:18,  1.14s/batch]"
     ]
    },
    {
     "name": "stdout",
     "output_type": "stream",
     "text": [
      "None\n",
      "None\n",
      "tensor([[-0.9424,  2.9126, -6.4117, -2.3468, -4.5795, -5.1228, -3.9426, -1.9407,\n",
      "         -1.2973],\n",
      "        [ 0.4063, -1.1690,  2.4087, -3.8628,  4.8365, -5.9390,  2.1422, -1.0392,\n",
      "          0.7375],\n",
      "        [-4.6655, -3.9307,  3.6550,  6.0125, -2.4820,  2.4168,  4.7298,  4.9588,\n",
      "         -5.2145],\n",
      "        [-5.6437, -4.0075,  4.9020, -5.1995, -1.0777,  5.7540,  0.4168,  2.4112,\n",
      "         -2.3183]])\n"
     ]
    },
    {
     "name": "stderr",
     "output_type": "stream",
     "text": [
      "Training progress:  52%|█████▏    | 16/31 [00:18<00:17,  1.15s/batch]"
     ]
    },
    {
     "name": "stdout",
     "output_type": "stream",
     "text": [
      "None\n",
      "None\n",
      "tensor([[-0.9419,  2.9212, -6.4177, -2.3396, -4.5879, -5.1228, -3.9426, -1.9407,\n",
      "         -1.2973],\n",
      "        [ 0.4107, -1.1795,  2.4050, -3.8723,  4.8342, -5.9390,  2.1422, -1.0392,\n",
      "          0.7375],\n",
      "        [-4.6744, -3.9378,  3.6503,  6.0179, -2.4894,  2.4168,  4.7298,  4.9588,\n",
      "         -5.2145],\n",
      "        [-5.6346, -3.9996,  4.9118, -5.2097, -1.0762,  5.7540,  0.4168,  2.4112,\n",
      "         -2.3183]])\n"
     ]
    },
    {
     "name": "stderr",
     "output_type": "stream",
     "text": [
      "Training progress:  55%|█████▍    | 17/31 [00:20<00:16,  1.20s/batch]"
     ]
    },
    {
     "name": "stdout",
     "output_type": "stream",
     "text": [
      "None\n",
      "None\n",
      "tensor([[-0.9420,  2.9296, -6.4232, -2.3328, -4.5962, -5.1228, -3.9426, -1.9407,\n",
      "         -1.2973],\n",
      "        [ 0.4161, -1.1899,  2.4002, -3.8817,  4.8311, -5.9390,  2.1422, -1.0392,\n",
      "          0.7375],\n",
      "        [-4.6832, -3.9445,  3.6462,  6.0228, -2.4965,  2.4168,  4.7298,  4.9588,\n",
      "         -5.2145],\n",
      "        [-5.6257, -3.9921,  4.9214, -5.2199, -1.0742,  5.7540,  0.4168,  2.4112,\n",
      "         -2.3183]])\n"
     ]
    }
   ],
   "source": [
    "### RUN EXPERIMENT\n",
    "id = 0\n",
    "for seed, circuit, lr in itertools.product(runs, circuits, learning_rates):\n",
    "    print(f\"\"\"{RED_TEXT}RUN {id+1}:{RESET_COLOR}\\n {circuit.__name__} \\n lr: {lr}\"\"\")\n",
    "\n",
    "    # init the model\n",
    "    model = qnn.QuantumClassifierMNIST(n_qubits=N_QUBITS, features_per_qubit=FEAT_PER_QUBIT, circuit=circuit, seed=seed)\n",
    "\n",
    "    path_identifier = f\"{circuit.__name__}_expID_{EXPERIMENT_ID}_dfID_{id}\"\n",
    "\n",
    "    # train the model (predifined optimizer, etc.)\n",
    "    trained_model, loss_history, avg_epoch_time = ut.train_model(\n",
    "        model, X_train, y_train,\n",
    "        epochs=EPOCHS, batch_size=32, lr=lr, binary=True,\n",
    "        weight_path=WEIGHT_PATH+path_identifier\n",
    "    )\n",
    "    \n",
    "    # save trained model\n",
    "    model_path = MODEL_PATH+path_identifier+\".pth\"\n",
    "    torch.save(trained_model, model_path)\n",
    "\n",
    "    # evaluate\n",
    "    cross_entropy, accuracy, precision, recall, f1 = trained_model.evaluate(X_test, y_test)\n",
    "\n",
    "    results_dict = {\n",
    "        \"id\": id,\n",
    "        \"f1_score\": f1, \"precision\": precision, \"recall\": recall, \"accuracy\": accuracy, \"cross_entropy\": cross_entropy,\n",
    "        \"seed\": seed,\n",
    "        \"circuit\": circuit.__name__,\n",
    "        \"learning_rate\": lr,\n",
    "        \"loss_history\": loss_history,\n",
    "        \"avg_epoch_time_seconds\": avg_epoch_time,\n",
    "        \"network_str\": str(model),\n",
    "        \"model_path\": model_path,\n",
    "        \"weight_path\": WEIGHT_PATH,\n",
    "        \"epochs\": EPOCHS,\n",
    "        \"n_qubits\": N_QUBITS,\n",
    "        \"features_per_qubit\": FEAT_PER_QUBIT,\n",
    "        # \"scaler\" : str(SCALER).replace(\"()\", \"\")\n",
    "    }\n",
    "    print(f\"\\n{GREEN_TEXT}RESULTS:\\n F1-Score:{f1}, Precision:{precision}, Recall:{recall}, Accuracy:{accuracy}, Loss:{cross_entropy} {RESET_COLOR} \\n\\n\")\n",
    "    \n",
    "    # append the results_dict to the RESULTS_DF\n",
    "    RESULTS_DF = pd.concat([RESULTS_DF, pd.DataFrame([results_dict])], ignore_index=True)\n",
    "    RESULTS_DF.to_csv(path_or_buf=RESULTS_PATH) # save for each run (in case of a crash)\n",
    "\n",
    "    id += 1"
   ]
  },
  {
   "cell_type": "code",
   "execution_count": null,
   "metadata": {},
   "outputs": [
    {
     "data": {
      "text/html": [
       "<div>\n",
       "<style scoped>\n",
       "    .dataframe tbody tr th:only-of-type {\n",
       "        vertical-align: middle;\n",
       "    }\n",
       "\n",
       "    .dataframe tbody tr th {\n",
       "        vertical-align: top;\n",
       "    }\n",
       "\n",
       "    .dataframe thead th {\n",
       "        text-align: right;\n",
       "    }\n",
       "</style>\n",
       "<table border=\"1\" class=\"dataframe\">\n",
       "  <thead>\n",
       "    <tr style=\"text-align: right;\">\n",
       "      <th></th>\n",
       "      <th>id</th>\n",
       "      <th>f1_score</th>\n",
       "      <th>precision</th>\n",
       "      <th>recall</th>\n",
       "      <th>accuracy</th>\n",
       "      <th>cross_entropy</th>\n",
       "      <th>seed</th>\n",
       "      <th>circuit</th>\n",
       "      <th>learning_rate</th>\n",
       "      <th>loss_history</th>\n",
       "      <th>avg_epoch_time_seconds</th>\n",
       "      <th>network_str</th>\n",
       "      <th>model_path</th>\n",
       "      <th>weight_path</th>\n",
       "      <th>epochs</th>\n",
       "      <th>n_qubits</th>\n",
       "      <th>features_per_qubit</th>\n",
       "    </tr>\n",
       "  </thead>\n",
       "  <tbody>\n",
       "    <tr>\n",
       "      <th>0</th>\n",
       "      <td>0</td>\n",
       "      <td>0.113208</td>\n",
       "      <td>1.0</td>\n",
       "      <td>0.06</td>\n",
       "      <td>0.06</td>\n",
       "      <td>2.203273</td>\n",
       "      <td>1</td>\n",
       "      <td>Senokosov2024Circuit</td>\n",
       "      <td>0.010</td>\n",
       "      <td>[0.2503029704093933, 0.2477768361568451]</td>\n",
       "      <td>0.564571</td>\n",
       "      <td>QuantumClassifierMNIST(\\n  (quantum_circuit_nn...</td>\n",
       "      <td>results/models/Senokosov2024Circuit_expID_69_d...</td>\n",
       "      <td>results/weights/</td>\n",
       "      <td>2</td>\n",
       "      <td>4</td>\n",
       "      <td>4</td>\n",
       "    </tr>\n",
       "    <tr>\n",
       "      <th>1</th>\n",
       "      <td>1</td>\n",
       "      <td>0.000000</td>\n",
       "      <td>0.0</td>\n",
       "      <td>0.00</td>\n",
       "      <td>0.00</td>\n",
       "      <td>2.210763</td>\n",
       "      <td>1</td>\n",
       "      <td>Senokosov2024Circuit</td>\n",
       "      <td>0.001</td>\n",
       "      <td>[0.2503029704093933, 0.25011005997657776]</td>\n",
       "      <td>0.537497</td>\n",
       "      <td>QuantumClassifierMNIST(\\n  (quantum_circuit_nn...</td>\n",
       "      <td>results/models/Senokosov2024Circuit_expID_69_d...</td>\n",
       "      <td>results/weights/</td>\n",
       "      <td>2</td>\n",
       "      <td>4</td>\n",
       "      <td>4</td>\n",
       "    </tr>\n",
       "  </tbody>\n",
       "</table>\n",
       "</div>"
      ],
      "text/plain": [
       "   id  f1_score  precision  recall  accuracy  cross_entropy  seed  \\\n",
       "0   0  0.113208        1.0    0.06      0.06       2.203273     1   \n",
       "1   1  0.000000        0.0    0.00      0.00       2.210763     1   \n",
       "\n",
       "                circuit  learning_rate  \\\n",
       "0  Senokosov2024Circuit          0.010   \n",
       "1  Senokosov2024Circuit          0.001   \n",
       "\n",
       "                                loss_history  avg_epoch_time_seconds  \\\n",
       "0   [0.2503029704093933, 0.2477768361568451]                0.564571   \n",
       "1  [0.2503029704093933, 0.25011005997657776]                0.537497   \n",
       "\n",
       "                                         network_str  \\\n",
       "0  QuantumClassifierMNIST(\\n  (quantum_circuit_nn...   \n",
       "1  QuantumClassifierMNIST(\\n  (quantum_circuit_nn...   \n",
       "\n",
       "                                          model_path       weight_path  \\\n",
       "0  results/models/Senokosov2024Circuit_expID_69_d...  results/weights/   \n",
       "1  results/models/Senokosov2024Circuit_expID_69_d...  results/weights/   \n",
       "\n",
       "   epochs  n_qubits  features_per_qubit  \n",
       "0       2         4                   4  \n",
       "1       2         4                   4  "
      ]
     },
     "execution_count": 6,
     "metadata": {},
     "output_type": "execute_result"
    }
   ],
   "source": [
    "RESULTS_DF"
   ]
  },
  {
   "cell_type": "code",
   "execution_count": null,
   "metadata": {},
   "outputs": [],
   "source": [
    "# circuit = qc.QuantumCircuit\n",
    "\n",
    "# # initialize the model\n",
    "# model = qnn.QuantumNeuralNetwork(n_qubits=N_QUBITS, features_per_qubit=FEAT_PER_QUBIT, circuit=circuit, seed=1)\n",
    "\n",
    "# # train the model (predifined optimizer, etc.)\n",
    "# trained_model, loss_history, val_loss_history = ut.train_model(\n",
    "#     model, X_train, y_train, epochs=EPOCHS, batch_size=64, lr=0.01\n",
    "# ) #X_val, y_val,\n",
    "\n",
    "\n",
    "# # Evaluate the model\n",
    "# bce, accuracy, precision, recall, f1 = trained_model.evaluate(X_test, y_test)\n",
    "# print(f\"Binary Cross-Entropy on test data: {bce:.4f}\")\n",
    "# print(f\"Accuracy: {accuracy:.4f}\")\n",
    "# print(f\"Precision: {precision:.4f}\")\n",
    "# print(f\"Recall: {recall:.4f}\")\n",
    "# print(f\"F1 Score: {f1:.4f}\")"
   ]
  },
  {
   "cell_type": "code",
   "execution_count": null,
   "metadata": {},
   "outputs": [],
   "source": [
    "# # To load later\n",
    "# loaded_model = torch.load(\"simple_model.pth\")"
   ]
  }
 ],
 "metadata": {
  "kernelspec": {
   "display_name": "nuig-master",
   "language": "python",
   "name": "python3"
  },
  "language_info": {
   "codemirror_mode": {
    "name": "ipython",
    "version": 3
   },
   "file_extension": ".py",
   "mimetype": "text/x-python",
   "name": "python",
   "nbconvert_exporter": "python",
   "pygments_lexer": "ipython3",
   "version": "3.10.14"
  }
 },
 "nbformat": 4,
 "nbformat_minor": 2
}
