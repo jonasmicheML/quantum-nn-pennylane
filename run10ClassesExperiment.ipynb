{
 "cells": [
  {
   "cell_type": "code",
   "execution_count": null,
   "metadata": {},
   "outputs": [],
   "source": [
    "from sklearn.preprocessing import MinMaxScaler\n",
    "import itertools\n",
    "import pandas as pd\n",
    "import torch\n",
    "\n",
    "# get our predefined functions (for data processing, etc.)\n",
    "import QCircNet.utils as ut\n",
    "\n",
    "# get our predefined quantum circuits and neural networks\n",
    "import QCircNet.circuits.CustomCircuits as cn\n",
    "import QCircNet.QuantumNN as qnn\n",
    "\n",
    "\n",
    "EXPERIMENT_ID = 69\n",
    "\n",
    "DATA_PATH = \"data/\"\n",
    "\n",
    "N_QUBITS = 4\n",
    "FEAT_PER_QUBIT = 4\n",
    "\n",
    "SUBSET = None\n",
    "\n",
    "EPOCHS = 10\n",
    "WEIGHT_PATH = f\"results/weights/\"\n",
    "MODEL_PATH = f\"results/models/\"\n",
    "RESULTS_PATH = f\"results/model_10_results_expID_{EXPERIMENT_ID}.csv\"\n",
    "RESULTS_DF = pd.DataFrame()\n",
    "\n",
    "# for printing colored text output during training\n",
    "RED_TEXT = \"\\033[91m\"\n",
    "GREEN_TEXT = \"\\033[92m\"\n",
    "RESET_COLOR = \"\\033[0m\" \n"
   ]
  },
  {
   "cell_type": "code",
   "execution_count": 3,
   "metadata": {},
   "outputs": [
    {
     "name": "stdout",
     "output_type": "stream",
     "text": [
      "train:\t torch.Size([1000, 16]) torch.Size([1000, 10])\n",
      "test:\t torch.Size([1000, 16]) torch.Size([1000, 10])\n"
     ]
    }
   ],
   "source": [
    "# load the data\n",
    "X_train, y_train, X_test, y_test  = ut.load_MNIST_data(DATA_PATH, subset=SUBSET)\n",
    "\n",
    "# check shapes\n",
    "print(\"train:\\t\", X_train.shape, y_train.shape)\n",
    "print(\"test:\\t\", X_test.shape, y_test.shape)"
   ]
  },
  {
   "cell_type": "code",
   "execution_count": 4,
   "metadata": {},
   "outputs": [
    {
     "data": {
      "text/plain": [
       "[QCircNet.circuits.CustomCircuits.Anusha2024Circuit,\n",
       " QCircNet.circuits.CustomCircuits.DoubleEntanglementVLCircuit,\n",
       " QCircNet.circuits.CustomCircuits.Ranga2024Circuit,\n",
       " QCircNet.circuits.CustomCircuits.Senokosov2024Circuit]"
      ]
     },
     "execution_count": 4,
     "metadata": {},
     "output_type": "execute_result"
    }
   ],
   "source": [
    "cn.get_custom_circuits()"
   ]
  },
  {
   "cell_type": "code",
   "execution_count": 5,
   "metadata": {},
   "outputs": [],
   "source": [
    "circuits = [\n",
    "    # cn.Ranga2024Circuit,\n",
    "    cn.Senokosov2024Circuit,\n",
    "    # cn.Anusha2024Circuit,\n",
    "    # cn.DoubleEntanglementVLCircuit,\n",
    "]\n",
    "\n",
    "runs = list(range(1, 2)) # runs are also used as seeds (reproducibility)\n",
    "learning_rates = [0.01, 0.001]"
   ]
  },
  {
   "cell_type": "code",
   "execution_count": null,
   "metadata": {},
   "outputs": [
    {
     "name": "stdout",
     "output_type": "stream",
     "text": [
      "\u001b[91mRUN 1:\u001b[0m\n",
      " Senokosov2024Circuit \n",
      " lr: 0.01\n"
     ]
    },
    {
     "name": "stderr",
     "output_type": "stream",
     "text": [
      "Training progress:  13%|█▎        | 4/31 [00:04<00:31,  1.18s/batch]"
     ]
    }
   ],
   "source": [
    "### RUN EXPERIMENT\n",
    "id = 0\n",
    "for seed, circuit, lr in itertools.product(runs, circuits, learning_rates):\n",
    "    print(f\"\"\"{RED_TEXT}RUN {id+1}:{RESET_COLOR}\\n {circuit.__name__} \\n lr: {lr}\"\"\")\n",
    "\n",
    "    # init the model\n",
    "    model = qnn.QuantumClassifierMNIST(n_qubits=N_QUBITS, features_per_qubit=FEAT_PER_QUBIT, circuit=circuit, seed=seed)\n",
    "\n",
    "    path_identifier = f\"{circuit.__name__}_expID_{EXPERIMENT_ID}_dfID_{id}\"\n",
    "\n",
    "    # train the model (predifined optimizer, etc.)\n",
    "    trained_model, loss_history, avg_epoch_time = ut.train_model(\n",
    "        model, X_train, y_train,\n",
    "        epochs=EPOCHS, batch_size=32, lr=lr, binary=True,\n",
    "        weight_path=WEIGHT_PATH+path_identifier\n",
    "    )\n",
    "    \n",
    "    # save trained model\n",
    "    model_path = MODEL_PATH+path_identifier+\".pth\"\n",
    "    torch.save(trained_model, model_path)\n",
    "\n",
    "    # evaluate\n",
    "    cross_entropy, accuracy, precision, recall, f1 = trained_model.evaluate(X_test, y_test)\n",
    "\n",
    "    results_dict = {\n",
    "        \"id\": id,\n",
    "        \"f1_score\": f1, \"precision\": precision, \"recall\": recall, \"accuracy\": accuracy, \"cross_entropy\": cross_entropy,\n",
    "        \"seed\": seed,\n",
    "        \"circuit\": circuit.__name__,\n",
    "        \"learning_rate\": lr,\n",
    "        \"loss_history\": loss_history,\n",
    "        \"avg_epoch_time_seconds\": avg_epoch_time,\n",
    "        \"network_str\": str(model),\n",
    "        \"model_path\": model_path,\n",
    "        \"weight_path\": WEIGHT_PATH,\n",
    "        \"epochs\": EPOCHS,\n",
    "        \"n_qubits\": N_QUBITS,\n",
    "        \"features_per_qubit\": FEAT_PER_QUBIT,\n",
    "        # \"scaler\" : str(SCALER).replace(\"()\", \"\")\n",
    "    }\n",
    "    print(f\"\\n{GREEN_TEXT}RESULTS:\\n F1-Score:{f1}, Precision:{precision}, Recall:{recall}, Accuracy:{accuracy}, Loss:{cross_entropy} {RESET_COLOR} \\n\\n\")\n",
    "    \n",
    "    # append the results_dict to the RESULTS_DF\n",
    "    RESULTS_DF = pd.concat([RESULTS_DF, pd.DataFrame([results_dict])], ignore_index=True)\n",
    "    RESULTS_DF.to_csv(path_or_buf=RESULTS_PATH) # save for each run (in case of a crash)\n",
    "\n",
    "    id += 1"
   ]
  },
  {
   "cell_type": "code",
   "execution_count": null,
   "metadata": {},
   "outputs": [
    {
     "data": {
      "text/html": [
       "<div>\n",
       "<style scoped>\n",
       "    .dataframe tbody tr th:only-of-type {\n",
       "        vertical-align: middle;\n",
       "    }\n",
       "\n",
       "    .dataframe tbody tr th {\n",
       "        vertical-align: top;\n",
       "    }\n",
       "\n",
       "    .dataframe thead th {\n",
       "        text-align: right;\n",
       "    }\n",
       "</style>\n",
       "<table border=\"1\" class=\"dataframe\">\n",
       "  <thead>\n",
       "    <tr style=\"text-align: right;\">\n",
       "      <th></th>\n",
       "      <th>id</th>\n",
       "      <th>f1_score</th>\n",
       "      <th>precision</th>\n",
       "      <th>recall</th>\n",
       "      <th>accuracy</th>\n",
       "      <th>cross_entropy</th>\n",
       "      <th>seed</th>\n",
       "      <th>circuit</th>\n",
       "      <th>learning_rate</th>\n",
       "      <th>loss_history</th>\n",
       "      <th>avg_epoch_time_seconds</th>\n",
       "      <th>network_str</th>\n",
       "      <th>model_path</th>\n",
       "      <th>weight_path</th>\n",
       "      <th>epochs</th>\n",
       "      <th>n_qubits</th>\n",
       "      <th>features_per_qubit</th>\n",
       "    </tr>\n",
       "  </thead>\n",
       "  <tbody>\n",
       "    <tr>\n",
       "      <th>0</th>\n",
       "      <td>0</td>\n",
       "      <td>0.113208</td>\n",
       "      <td>1.0</td>\n",
       "      <td>0.06</td>\n",
       "      <td>0.06</td>\n",
       "      <td>2.203273</td>\n",
       "      <td>1</td>\n",
       "      <td>Senokosov2024Circuit</td>\n",
       "      <td>0.010</td>\n",
       "      <td>[0.2503029704093933, 0.2477768361568451]</td>\n",
       "      <td>0.564571</td>\n",
       "      <td>QuantumClassifierMNIST(\\n  (quantum_circuit_nn...</td>\n",
       "      <td>results/models/Senokosov2024Circuit_expID_69_d...</td>\n",
       "      <td>results/weights/</td>\n",
       "      <td>2</td>\n",
       "      <td>4</td>\n",
       "      <td>4</td>\n",
       "    </tr>\n",
       "    <tr>\n",
       "      <th>1</th>\n",
       "      <td>1</td>\n",
       "      <td>0.000000</td>\n",
       "      <td>0.0</td>\n",
       "      <td>0.00</td>\n",
       "      <td>0.00</td>\n",
       "      <td>2.210763</td>\n",
       "      <td>1</td>\n",
       "      <td>Senokosov2024Circuit</td>\n",
       "      <td>0.001</td>\n",
       "      <td>[0.2503029704093933, 0.25011005997657776]</td>\n",
       "      <td>0.537497</td>\n",
       "      <td>QuantumClassifierMNIST(\\n  (quantum_circuit_nn...</td>\n",
       "      <td>results/models/Senokosov2024Circuit_expID_69_d...</td>\n",
       "      <td>results/weights/</td>\n",
       "      <td>2</td>\n",
       "      <td>4</td>\n",
       "      <td>4</td>\n",
       "    </tr>\n",
       "  </tbody>\n",
       "</table>\n",
       "</div>"
      ],
      "text/plain": [
       "   id  f1_score  precision  recall  accuracy  cross_entropy  seed  \\\n",
       "0   0  0.113208        1.0    0.06      0.06       2.203273     1   \n",
       "1   1  0.000000        0.0    0.00      0.00       2.210763     1   \n",
       "\n",
       "                circuit  learning_rate  \\\n",
       "0  Senokosov2024Circuit          0.010   \n",
       "1  Senokosov2024Circuit          0.001   \n",
       "\n",
       "                                loss_history  avg_epoch_time_seconds  \\\n",
       "0   [0.2503029704093933, 0.2477768361568451]                0.564571   \n",
       "1  [0.2503029704093933, 0.25011005997657776]                0.537497   \n",
       "\n",
       "                                         network_str  \\\n",
       "0  QuantumClassifierMNIST(\\n  (quantum_circuit_nn...   \n",
       "1  QuantumClassifierMNIST(\\n  (quantum_circuit_nn...   \n",
       "\n",
       "                                          model_path       weight_path  \\\n",
       "0  results/models/Senokosov2024Circuit_expID_69_d...  results/weights/   \n",
       "1  results/models/Senokosov2024Circuit_expID_69_d...  results/weights/   \n",
       "\n",
       "   epochs  n_qubits  features_per_qubit  \n",
       "0       2         4                   4  \n",
       "1       2         4                   4  "
      ]
     },
     "execution_count": 6,
     "metadata": {},
     "output_type": "execute_result"
    }
   ],
   "source": [
    "RESULTS_DF"
   ]
  },
  {
   "cell_type": "code",
   "execution_count": null,
   "metadata": {},
   "outputs": [],
   "source": [
    "# circuit = qc.QuantumCircuit\n",
    "\n",
    "# # initialize the model\n",
    "# model = qnn.QuantumNeuralNetwork(n_qubits=N_QUBITS, features_per_qubit=FEAT_PER_QUBIT, circuit=circuit, seed=1)\n",
    "\n",
    "# # train the model (predifined optimizer, etc.)\n",
    "# trained_model, loss_history, val_loss_history = ut.train_model(\n",
    "#     model, X_train, y_train, epochs=EPOCHS, batch_size=64, lr=0.01\n",
    "# ) #X_val, y_val,\n",
    "\n",
    "\n",
    "# # Evaluate the model\n",
    "# bce, accuracy, precision, recall, f1 = trained_model.evaluate(X_test, y_test)\n",
    "# print(f\"Binary Cross-Entropy on test data: {bce:.4f}\")\n",
    "# print(f\"Accuracy: {accuracy:.4f}\")\n",
    "# print(f\"Precision: {precision:.4f}\")\n",
    "# print(f\"Recall: {recall:.4f}\")\n",
    "# print(f\"F1 Score: {f1:.4f}\")"
   ]
  },
  {
   "cell_type": "code",
   "execution_count": null,
   "metadata": {},
   "outputs": [],
   "source": [
    "# # To load later\n",
    "# loaded_model = torch.load(\"simple_model.pth\")"
   ]
  }
 ],
 "metadata": {
  "kernelspec": {
   "display_name": "nuig-master",
   "language": "python",
   "name": "python3"
  },
  "language_info": {
   "codemirror_mode": {
    "name": "ipython",
    "version": 3
   },
   "file_extension": ".py",
   "mimetype": "text/x-python",
   "name": "python",
   "nbconvert_exporter": "python",
   "pygments_lexer": "ipython3",
   "version": "3.10.14"
  }
 },
 "nbformat": 4,
 "nbformat_minor": 2
}
